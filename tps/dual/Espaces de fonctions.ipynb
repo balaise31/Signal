{
 "cells": [
  {
   "cell_type": "code",
   "execution_count": null,
   "metadata": {},
   "outputs": [],
   "source": []
  },
  {
   "cell_type": "markdown",
   "metadata": {},
   "source": [
    "***\n",
    "# <center> Espaces des signaux </center>\n",
    "***"
   ]
  },
  {
   "cell_type": "markdown",
   "metadata": {},
   "source": [
    "## Espace des fonctions physiques\n",
    "\n",
    "Nous rappelons une première définition :\n",
    "\n",
    "\\begin{definition}\\label{def:continueAdroite}\n",
    " Soit $a$ un réel, une fonction $f$ d'une variable réelle est continue à droite en $a$ ssi :\n",
    "$$\\quad \\lim_{x \\to a,\\ x>a} f(x) = \\lim_{x \\to a^+} f(x) = f(a)$$\n",
    "\\end{definition}\n",
    "\n",
    "\n",
    "\\begin{example}\n",
    "\\label{example:heaviside}\n",
    "La **Fonction de Heaviside** $u$ est définie par :\n",
    "\\begin{equation}\\label{eq:heaviside}\n",
    "\\application{\\R\\setminus\\a{0}}{\\C{}}{x}{u(x)=\\left\\{\\begin{array}{rll}0  & \\mathrm{si } & x < 0 \\\\1  & \\mathrm{si } & x > 0\\end{array}\n",
    "\\right.}\n",
    "\\end{equation}\n",
    "\\end{example}\n",
    "\n",
    "\\begin{exercise}\\label{ex:heaviside}\n",
    "Donnez un prolongement de $u$ qui soit dérivable à droite en tout point. Définissez logiciellement cette fonction prolongée\n",
    "\\end{exercise}\n",
    "\n"
   ]
  },
  {
   "cell_type": "code",
   "execution_count": 6,
   "metadata": {},
   "outputs": [
    {
     "name": "stdout",
     "output_type": "stream",
     "text": [
      "f =\r\n",
      "\r\n",
      "@(t) t .^ 2\r\n",
      "\r\n"
     ]
    },
    {
     "data": {
      "image/png": "[encoded data removed]",
      "text/plain": [
       "<IPython.core.display.Image object>"
      ]
     },
     "metadata": {},
     "output_type": "display_data"
    }
   ],
   "source": [
    "t=1:100;\n",
    "f = @(t) t.^2\n",
    "plot(t,t.^2)"
   ]
  },
  {
   "cell_type": "markdown",
   "metadata": {},
   "source": [
    "### Définition : fonctions physiques\n",
    "\n",
    "Nous appellerons fonction physique, une fonction qui vérifie les trois propriétés suivantes :\n",
    "* elle est définie sur l’ensemble des nombres réels $\\R$ ;\n",
    "* elle est continue à droite en tout réel ;\n",
    "* elle est intégrable sur tout intervalle borné $[a ,  b]$.\n",
    "Dans cette leçon, nous noterons $\\P$ l'ensemble des fonctions physiques \n",
    "\n",
    "***Exemple***\n",
    "Nous voyons, par exemple, que la fonction de Heaviside est une fonction physique.\n",
    "La fonction $f$ définie par $f(x) = \\frac{1}{x}$ n'est pas une fonction physique (bien qu'étant continue à droite en tout point de son ensemble de définition) car elle n'est pas définie en 0.\n",
    "La fonction $f$ définie par :$\\forall t \\in \\R\\quad f(t)=\\begin{cases}\\frac1x &\\text{si } & t < 0 \\\\ 0 & \\mathrm{si} & t \\geqslant 0\\end{cases}$<br>n'est pas une fonction physique (bien qu'étant définie et continue à droite en tout point) car elle n'est pas intégrable sur [–1, 1] par exemple.\n",
    "\n",
    "\n",
    "***Remarque***\n",
    "\n",
    "Les fonctions physiques seront, dans notre leçon, des fonctions d'une variable réelle, mais son ensemble d'arrivée ne sera pas nécessairement l’ensemble des nombres réels. Il se peut que ce soit l’ensemble des nombres complexes. Ce sera le cas, par exemple, lorsque nous étudierons la transformée de Fourier.\n",
    "\n",
    "***Théorème***\n",
    "L'ensemble $\\P$ des fonctions physiques est un espace vectoriel sur $\\R$.\n"
   ]
  },
  {
   "cell_type": "code",
   "execution_count": null,
   "metadata": {},
   "outputs": [],
   "source": []
  }
 ],
 "metadata": {
  "kernelspec": {
   "display_name": "Octave",
   "language": "octave",
   "name": "octave"
  },
  "language_info": {
   "file_extension": ".m",
   "help_links": [
    {
     "text": "GNU Octave",
     "url": "https://www.gnu.org/software/octave/support.html"
    },
    {
     "text": "Octave Kernel",
     "url": "https://github.com/Calysto/octave_kernel"
    },
    {
     "text": "MetaKernel Magics",
     "url": "https://metakernel.readthedocs.io/en/latest/source/README.html"
    }
   ],
   "mimetype": "text/x-octave",
   "name": "octave",
   "version": "4.2.2"
  },
  "latex_envs": {
   "LaTeX_envs_menu_present": true,
   "autoclose": false,
   "autocomplete": true,
   "bibliofile": "biblio.bib",
   "cite_by": "apalike",
   "current_citInitial": 1,
   "eqLabelWithNumbers": true,
   "eqNumInitial": 1,
   "hotkeys": {
    "equation": "Ctrl-E",
    "itemize": "Ctrl-I"
   },
   "labels_anchors": false,
   "latex_user_defs": false,
   "report_style_numbering": false,
   "user_envs_cfg": false
  },
  "toc": {
   "base_numbering": 1,
   "nav_menu": {},
   "number_sections": true,
   "sideBar": true,
   "skip_h1_title": false,
   "title_cell": "Table of Contents",
   "title_sidebar": "Contents",
   "toc_cell": false,
   "toc_position": {},
   "toc_section_display": true,
   "toc_window_display": false
  }
 },
 "nbformat": 4,
 "nbformat_minor": 2
}
