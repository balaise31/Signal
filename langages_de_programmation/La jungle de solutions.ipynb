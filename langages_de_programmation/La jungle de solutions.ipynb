{
 "cells": [
  {
   "cell_type": "markdown",
   "metadata": {},
   "source": [
    "# La jungle de solutions"
   ]
  },
  {
   "cell_type": "markdown",
   "metadata": {},
   "source": [
    "## Définition d'un bon outils\n",
    "\n",
    "Récupérer des mesures dans un fichier texte, chercher un algoithme qui calcule les coefficients d'un polynôme d'ordre deux qui colle avec les mesures \"au mieux\" (régression polynomiale) et afficher une comparaison des mesures avec ce polynôme pour ensuite envoyer le résultat sur la sortie audio demanderait beaucoup d'efforts dans un langage inadapté à ce genre de tache comme le langage ADA !\n",
    "\n",
    "Mais cela demande juste quelques lignes dans d'autres langages (prenont ici le Matlab/Octave):\n",
    "\n",
    "- Récupérons les datas qui sont contenues dans un fichier texte mesures.txt :\n"
   ]
  },
  {
   "cell_type": "code",
   "execution_count": 1,
   "metadata": {},
   "outputs": [
    {
     "name": "stdout",
     "output_type": "stream",
     "text": [
      "datas =\n",
      "\n",
      "    1.0000    1.0200\n",
      "    2.0000    6.2300\n",
      "    3.0000    5.2300\n",
      "    4.0000    8.2000\n",
      "    5.0000   12.3000\n",
      "    6.0000   24.4000\n",
      "\n",
      "t =\n",
      "\n",
      "   1\n",
      "   2\n",
      "   3\n",
      "   4\n",
      "   5\n",
      "   6\n",
      "\n",
      "y =\n",
      "\n",
      "    1.0200\n",
      "    6.2300\n",
      "    5.2300\n",
      "    8.2000\n",
      "   12.3000\n",
      "   24.4000\n",
      "\n"
     ]
    }
   ],
   "source": [
    "datas = csvread('mesures.txt') ; %CSV pour Coma Separated Values : un fichier texte avec les valeurs listées\n",
    "datas\n",
    "t=datas(:,1) %récupère la première colonne (le temps)\n",
    "y=datas(:,2) % les mesures en deuxième colonne"
   ]
  },
  {
   "cell_type": "markdown",
   "metadata": {},
   "source": [
    "- Regardons ce que dit la doc de Matlab/octave sur les polynomes (une courte recherche sur internet donne beaucoup de solutions pour matlab et octave ! On trouve la fonction polyfit):"
   ]
  },
  {
   "cell_type": "code",
   "execution_count": 2,
   "metadata": {},
   "outputs": [
    {
     "name": "stdout",
     "output_type": "stream",
     "text": [
      "'polyfit' is a function from the file /usr/share/octave/4.2.2/m/polynomial/polyfit.m\r\n",
      "\r\n",
      " -- P = polyfit (X, Y, N)\r\n",
      " -- [P, S] = polyfit (X, Y, N)\r\n",
      " -- [P, S, MU] = polyfit (X, Y, N)\r\n",
      "     Return the coefficients of a polynomial P(X) of degree N that\r\n",
      "     minimizes the least-squares-error of the fit to the points '[X,\r\n",
      "     Y]'.\r\n",
      "\r\n",
      "     If N is a logical vector, it is used as a mask to selectively force\r\n",
      "     the corresponding polynomial coefficients to be used or ignored.\r\n",
      "\r\n",
      "     The polynomial coefficients are returned in a row vector.\r\n",
      "\r\n",
      "     The optional output S is a structure containing the following\r\n",
      "     fields:\r\n",
      "\r\n",
      "     'R'\r\n",
      "          Triangular factor R from the QR decomposition.\r\n",
      "\r\n",
      "     'X'\r\n",
      "          The Vandermonde matrix used to compute the polynomial\r\n",
      "          coefficients.\r\n",
      "\r\n",
      "     'C'\r\n",
      "          The unscaled covariance matrix, formally equal to the inverse\r\n",
      "          of X'*X, but computed in a way minimizing roundoff error\r\n",
      "          propagation.\r\n",
      "\r\n",
      "     'df'\r\n",
      "          The degrees of freedom.\r\n",
      "\r\n",
      "     'normr'\r\n",
      "          The norm of the residuals.\r\n",
      "\r\n",
      "     'yf'\r\n",
      "          The values of the polynomial for each value of X.\r\n",
      "\r\n",
      "     The second output may be used by 'polyval' to calculate the\r\n",
      "     statistical error limits of the predicted values.  In particular,\r\n",
      "     the standard deviation of P coefficients is given by\r\n",
      "\r\n",
      "     'sqrt (diag (s.C)/s.df)*s.normr'.\r\n",
      "\r\n",
      "     When the third output, MU, is present the coefficients, P, are\r\n",
      "     associated with a polynomial in\r\n",
      "\r\n",
      "     'XHAT = (X - MU(1)) / MU(2)'\r\n",
      "     where MU(1) = mean (X), and MU(2) = std (X).\r\n",
      "\r\n",
      "     This linear transformation of X improves the numerical stability of\r\n",
      "     the fit.\r\n",
      "\r\n",
      "     See also: polyval, polyaffine, roots, vander, zscore.\r\n",
      "\r\n",
      "Additional help for built-in functions and operators is\r\n",
      "available in the online version of the manual.  Use the command\r\n",
      "'doc <topic>' to search the manual index.\r\n",
      "\r\n",
      "Help and information about Octave is also available on the WWW\r\n",
      "at http://www.octave.org and via the help@octave.org\r\n",
      "mailing list.\r\n"
     ]
    }
   ],
   "source": [
    "help polyfit %donne accès à une documentation de la fonction"
   ]
  },
  {
   "cell_type": "markdown",
   "metadata": {},
   "source": [
    "- utilisons cette fonction polyfit avec des polynomes d'ordres différents et affichons"
   ]
  },
  {
   "cell_type": "code",
   "execution_count": 3,
   "metadata": {},
   "outputs": [
    {
     "name": "stdout",
     "output_type": "stream",
     "text": [
      "P2 =\n",
      "\n",
      "   0.97946  -2.91111   4.89700\n",
      "\n",
      "P5 =\n",
      "\n",
      "     0.18942    -3.38375    23.22208   -74.89125   112.21350   -56.33000\n",
      "\n",
      "P8 =\n",
      "\n",
      " Columns 1 through 6:\n",
      "\n",
      "   0.0078720  -0.1353994   0.8253692  -1.9565203   0.7044117   2.0957362\n",
      "\n",
      " Columns 7 through 9:\n",
      "\n",
      "   1.3438621  -0.2156958  -1.6496358\n",
      "\n"
     ]
    },
    {
     "data": {
      "image/png": "[encoded data removed]",
      "text/plain": [
       "<IPython.core.display.Image object>"
      ]
     },
     "metadata": {},
     "output_type": "display_data"
    }
   ],
   "source": [
    "[P2, S] = polyfit (t, y, 2);\n",
    "P2  % affiche les coefs trouvés à l'ordre 2\n",
    "[P5, S] = polyfit (t, y, 5);\n",
    "P5  % affiche les coefs trouvés à l'ordre 5\n",
    "[P8, S] = polyfit (t, y, 8);\n",
    "P8\n",
    "tfine=t(1):0.1:t(end); % un vecteur temps plus fin que t : un point touts les 0.1\n",
    "plot(t,y,'+k'); hold on;\n",
    "plot(tfine,polyval(P2,tfine),'-g'); %affiche le polynome\n",
    "plot(tfine,polyval(P5,tfine),'-b'); %affiche le polynome\n",
    "plot(tfine,polyval(P8,tfine),'-r'); %affiche le polynome\n",
    "legend(['mesures';'polynome ordre 2';'polynome ordre 5';'polynome ordre 8'])\n",
    "title('Regressions polynomiales')"
   ]
  },
  {
   "cell_type": "markdown",
   "metadata": {},
   "source": [
    "L'inginieur-e à besoin  de prototyper des solutions : résoudre, caluler, visualiser, appliquer des algorithmes puissants, expérimenter, tester,... ces besoins ont fait évoluer les premiers langages compilés impératifs vers d'autres langages. On pourrait/peut très bien utiliser les langages impératif typés comme **ADA**, **C**, **fortran** à cet effet. Mais les limitations se feront vite sentir :\n",
    "* ***lisibilité, concision, documentation*** les langages typés demandent beaucoup de déclarations nécessaires pour réaliser un code sans ambiguité, sans erreurs, et optimal en terme de taille et rapidité d'exécution. Mais toutes ces informations surchargent la lecture du code et ralentisse l'écriture, la compréhension par les autres. De plus il est intéressant de documenter son code et sur sa partie \"architecture\" mais aussi sur sa partie scientifique qui peut demander des equations etc.\n",
    "* ***souplesse, réutilisabilité*** lorsqu'une solution a été calculée, l'ingénieur doit souvent étendre ces résultats à d'autres cas. Il est alors intéressant de ne pas tout réécrire dans chaque cas, par exemple imaginez un programme qui trie des entiers, cela est embêtant si l'on doit tout réécrire juste parcequ'on veut maintenant trier des réels, ou des quaternions, ou des images etc. Un bon langage s'adaptera au changement de types des variables et permettra de regrouper facilement des librairies multiples de manière à pouvoir réutiliser.\n",
    "* ***richesse de la communauté scientifique*** de même des outils mathématiques numériques doivent être utilisés : décomposition d'un signal, optimisation d'un critère pour minimiser un coût, algorithmes de tris etc. Il est intéressant de disposer de beaucoup de logiciels prêt à l'utilisation développé par une communauté scientifique utilisant ce langage.\n",
    "* ***mise au point rapide*** le fait de vouloir aller vite plutôt que sûrement lors d'un prototypage fait que les erreurs sont fréquentes, d'ailleurs cela est un mauvais réflexe qui se paye souvent cher. Néanmoins le prototypage demande beaucoup d'expérimentations et de modifications ittératives \"jusqu'à ce que ça marche\". Pour cela les langages doivent fournir un environnement de test \"débugeur\", des générateurs de tests etc, et un passage à l'exécution rapide.\n",
    "* ***interfaçage et visualisation*** les résultats numériques doivent être importés (enregistrement, mesures directe sur carte audio ou oscilloscope etc.) pour être traité et les résultats doivent être visualisés ou renvoyé vers le système (sortie audio, commande d'un GBF etc.). Il faut donc un ensemble de fonctions graphique et d'interfaces qui soit riche.\n",
    "* ***propriété intellectuelle et passage à la solution industrielle*** une fois le prototype validé, on parle de preuve de concept. Il faut alors passer à la réalisation voire l'industrialisation du système. A ce moment il faut réfléchir à l'achat de licenses du logiciel et des librairies ou aux conditions d'utilisation des licenses gratuites et/ou libres. De plus le logiciel devra aussi s'exécuter sur autre chose qu'un PC de labo et donc à générer du code adapté, optimisé, à générer les test et vérifications voire certifications à donner pour ce code...\n",
    "\n",
    "\n"
   ]
  },
  {
   "cell_type": "markdown",
   "metadata": {},
   "source": [
    "## Le calcul symbolique"
   ]
  },
  {
   "cell_type": "code",
   "execution_count": 1,
   "metadata": {
    "scrolled": true
   },
   "outputs": [
    {
     "name": "stdout",
     "output_type": "stream",
     "text": [
      "OctSymPy v2.6.0: this is free software without warranty, see source.\n",
      "Initializing communication with SymPy using a popen2() pipe.\n",
      "Some output from the Python subprocess (pid 31109) might appear next.\n",
      "Python 3.7.3 (default, Mar 27 2019, 22:11:17) \n",
      "[GCC 7.3.0] :: Anaconda, Inc. on linux\n",
      "Type \"help\", \"copyright\", \"credits\" or \"license\" for more information.\n",
      ">>> >>> \n",
      "OctSymPy: Communication established.  SymPy v1.3.\n",
      "warning: passing floating-point values to sym is dangerous, see \"help sym\"\n",
      "warning: called from\n",
      "    double_to_sym_heuristic at line 50 column 7\n",
      "    sym at line 373 column 13\n",
      "f(x) = (symfun)\n",
      "\n",
      "  sin(2⋅π⋅w⋅x)\n",
      "  ────────────\n",
      "    2⋅π⋅w⋅x   \n",
      "\n",
      "dfx(x) = (symfun)\n",
      "\n",
      "  cos(2⋅π⋅w⋅x)   sin(2⋅π⋅w⋅x)\n",
      "  ──────────── - ────────────\n",
      "       x                  2  \n",
      "                   2⋅π⋅w⋅x   \n",
      "\n",
      "dfw(x) = (symfun)\n",
      "\n",
      "  cos(2⋅π⋅w⋅x)   sin(2⋅π⋅w⋅x)\n",
      "  ──────────── - ────────────\n",
      "       w                2    \n",
      "                   2⋅π⋅w ⋅x  \n",
      "\n",
      "primitive(x) = (symfun)\n",
      "\n",
      "       sin(2⋅π⋅w⋅x)\n",
      "  -1 + ────────────\n",
      "         2⋅π⋅w⋅x   \n",
      "\n",
      "ans = (sym) nan\n"
     ]
    }
   ],
   "source": [
    "clear all\n",
    "pkg load symbolic\n",
    "\n",
    "## now do some work with the symbolic pkg\n",
    "syms x w a;\n",
    "assume(w,'positive')\n",
    "a=sym(2*pi);\n",
    "f(x) = sin(a*w*x)/(a*w*x)\n",
    "dfx(x) = diff (f,x)\n",
    "dfw(x) = diff (f,w)\n",
    "primitive(x) = simplify(int(dfx,0,x))\n",
    "primitive(0)"
   ]
  },
  {
   "cell_type": "markdown",
   "metadata": {},
   "source": [
    "# Quelques bons outils"
   ]
  },
  {
   "cell_type": "markdown",
   "metadata": {},
   "source": [
    "Les candidats du moment sont :\n",
    "\n",
    "| Logiciel | License        |Install  Native         | Utilisation en ligne  | Utilisation en Notebook Jupyter  | Calcul Symbolique |\n",
    "|----------|----------------|-----------------------|-----------|-------------------|------------------------------------|\n",
    "|  Matlab  | Super payant   | IDE Windows/linux/Mac | Non       | Non               |   Oui avec symbolic toolbox (500€) |\n",
    "|  Octave  | gratuit, libre | IDE Windows/linux/Mac | install de octave_kernel https://octave-online.net |  https://github.com/Calysto/octave_kernel#installation  |  avec symbolic package (Simpy) |\n",
    "|  Python  | gratuit, libre | IDE Windows/linux/Mac | https://repl.it/languages/python3 par exemple| natif avec ypython kernel               |  oui (Simpy) |\n",
    "\n",
    "\n"
   ]
  },
  {
   "cell_type": "markdown",
   "metadata": {},
   "source": [
    "## Le choix pour cette année et pour les 2IMACS\n",
    "\n",
    "Cette année nous utiliseront le langage octave dans une syntaxe entièrement compatible avec matlab. Cela permet de pouvoir travailler chez soit gratuitement (avec octave) et de plus vous prépare à l'utilisation de Matlab dans les années suivantes car ce logiciel est encore très prisé dans le domaine de l'électronique et de l'informatique.\n",
    "\n",
    "L'IDE chosie sera l'IDE native d'octave car elle elle nécessite aucune installation et ressemble à celle de Matlab.\n",
    "Conjointement nous utiliseront des notebooks Jupyter (qui permettent de mélanger texte d'explication et code à exécuter) qui interprèteront du code en langage octave grace au noyau kernel_octave. \n",
    "\n",
    "Pour copier l'installation de l'INSA il faudrait donc :\n",
    "- installer la distribution de python nommée anaconda\n",
    "- installer avec conda (l'installateur de paquets de anaconda) jupyter\n",
    "- installer octave \n",
    "- installer avec conda octave_kernel\n",
    "- configurer le notebook jupyter pour accepter les extensions latex"
   ]
  },
  {
   "cell_type": "code",
   "execution_count": null,
   "metadata": {},
   "outputs": [],
   "source": []
  }
 ],
 "metadata": {
  "kernelspec": {
   "display_name": "Octave",
   "language": "octave",
   "name": "octave"
  },
  "language_info": {
   "file_extension": ".m",
   "help_links": [
    {
     "text": "GNU Octave",
     "url": "https://www.gnu.org/software/octave/support.html"
    },
    {
     "text": "Octave Kernel",
     "url": "https://github.com/Calysto/octave_kernel"
    },
    {
     "text": "MetaKernel Magics",
     "url": "https://metakernel.readthedocs.io/en/latest/source/README.html"
    }
   ],
   "mimetype": "text/x-octave",
   "name": "octave",
   "version": "4.2.2"
  },
  "latex_envs": {
   "LaTeX_envs_menu_present": true,
   "autoclose": false,
   "autocomplete": true,
   "bibliofile": "biblio.bib",
   "cite_by": "apalike",
   "current_citInitial": 1,
   "eqLabelWithNumbers": true,
   "eqNumInitial": 1,
   "hotkeys": {
    "equation": "Ctrl-E",
    "itemize": "Ctrl-I"
   },
   "labels_anchors": false,
   "latex_user_defs": false,
   "report_style_numbering": false,
   "user_envs_cfg": false
  },
  "toc": {
   "base_numbering": 1,
   "nav_menu": {},
   "number_sections": true,
   "sideBar": true,
   "skip_h1_title": false,
   "title_cell": "Table of Contents",
   "title_sidebar": "Contents",
   "toc_cell": false,
   "toc_position": {},
   "toc_section_display": true,
   "toc_window_display": false
  }
 },
 "nbformat": 4,
 "nbformat_minor": 1
}
