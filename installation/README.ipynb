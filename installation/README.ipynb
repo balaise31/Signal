{
 "cells": [
  {
   "cell_type": "markdown",
   "id": "db7bdfe5-2ece-4ce8-b0be-3d8d2f81ed4e",
   "metadata": {},
   "source": [
    "# README d'une copie locale\n",
    "\n",
    "Le script `install_continu.sh` a fait une copie locale de quelques répertoire du gitHub dans votre `~/.signal_continu` \n",
    "\n",
    "Pour les 3IMACS remplacez `continu` par `discret` et cela sera vrai pour vous.\n",
    "\n",
    "Vous pouvez utiliser les README qui sont dans les répertoire :\n",
    " - pour les TDs [signal_continu/td/README.ipynb](./td/README.ipynb) \n",
    " "
   ]
  },
  {
   "cell_type": "code",
   "execution_count": null,
   "id": "24693eae-ff9d-4ca1-b382-5eaeb96b7e51",
   "metadata": {},
   "outputs": [],
   "source": []
  }
 ],
 "metadata": {
  "kernelspec": {
   "display_name": "Python 3 (ipykernel)",
   "language": "python",
   "name": "python3"
  },
  "language_info": {
   "codemirror_mode": {
    "name": "ipython",
    "version": 3
   },
   "file_extension": ".py",
   "mimetype": "text/x-python",
   "name": "python",
   "nbconvert_exporter": "python",
   "pygments_lexer": "ipython3",
   "version": "3.9.13"
  }
 },
 "nbformat": 4,
 "nbformat_minor": 5
}
