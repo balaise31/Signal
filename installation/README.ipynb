{
 "cells": [
  {
   "cell_type": "markdown",
   "id": "db7bdfe5-2ece-4ce8-b0be-3d8d2f81ed4e",
   "metadata": {},
   "source": [
    "# README jupyter-lab en copie locale\n",
    "\n",
    "Le script `install_continu.sh` a fait une copie locale de quelques répertoire du gitHub dans votre `~/.signal_continu` \n",
    "\n",
    "Pour les 3IMACS remplacez `continu` par `discret` et cela sera vrai pour vous.\n",
    "\n",
    "Vous pouvez utiliser les README qui sont dans les répertoires td/tp :\n",
    " - pour les TDs [./td/README.ipynb](./td/README.ipynb) \n",
    " - pour les TPs [./tp/README.ipynb](./tp/README.ipynb) \n",
    " - pour les cours [./cours/README.ipynb](./cours/README.ipynb) \n",
    " "
   ]
  },
  {
   "cell_type": "markdown",
   "id": "418ef8e3-f844-4c84-be60-0f7d1fc72d41",
   "metadata": {},
   "source": [
    "## A - Lors des mises à jour\n",
    "---\n",
    "\n",
    "Il se peut que l'on vous demande de mettre à jour cette copie (en cas de modifications).  \n",
    "Dans ce cas faites :\n",
    "   \n",
    "```bash\n",
    "cd $HOME/signal_continu\n",
    ". ./maj_continu\n",
    "```  \n",
    "N'oubliez pas le premier `.` qui est synonyme de `source` en bash.\n",
    "\n",
    "Les fichiers que vous avez modifiés seront **sauvegardés dans des _sauvegarde.ipynb !**  \n",
    "\n",
    "Recopiez à la main vos modifications de _sauvegarde.ipynb vers le `.ipynb` mis à jour **avant toute nouvelle mise à jour**"
   ]
  },
  {
   "cell_type": "markdown",
   "id": "cd834a40-33e0-4783-8753-4d45052d1582",
   "metadata": {},
   "source": [
    "## B - Vous avez perdu un fichier ?\n",
    "---\n",
    "\n",
    "Pas de problème, à l'insa **vous avez accès à des sauvegardes chaque heure avec des Snapshots** :\n",
    "\n",
    "```bash\n",
    "cd .snapshots\n",
    "cd hourly.2022-04-21_2205\n",
    "```\n",
    "Bien sûr, mettez la bonne date qui vous intéresse.\n",
    "\n",
    "Vous avez accès à vos anciens fichiers que vous pouvez rétablir par simple copie \"en remontant\"\n",
    "```bash\n",
    "cp mon.ipynb ../../\n",
    "```"
   ]
  },
  {
   "cell_type": "code",
   "execution_count": null,
   "id": "c56d63a9-e66c-4c00-8adb-11d758c49568",
   "metadata": {},
   "outputs": [],
   "source": []
  }
 ],
 "metadata": {
  "kernelspec": {
   "display_name": "Python 3 (ipykernel)",
   "language": "python",
   "name": "python3"
  },
  "language_info": {
   "codemirror_mode": {
    "name": "ipython",
    "version": 3
   },
   "file_extension": ".py",
   "mimetype": "text/x-python",
   "name": "python",
   "nbconvert_exporter": "python",
   "pygments_lexer": "ipython3",
   "version": "3.9.13"
  }
 },
 "nbformat": 4,
 "nbformat_minor": 5
}
