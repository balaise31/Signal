{
 "cells": [
  {
   "attachments": {},
   "cell_type": "markdown",
   "id": "db7bdfe5-2ece-4ce8-b0be-3d8d2f81ed4e",
   "metadata": {
    "tags": []
   },
   "source": [
    "# README jupyter-lab en copie locale\n",
    "\n",
    "Le script `install_locale.sh` a fait une copie locale de quelques répertoires du gitHub dans votre home directory INSA :\n",
    "  - `~/.signal_continu` pour les 2IMACS\n",
    "  - `~/.signal_discret` pour les 3IMACS\n",
    "\n",
    "Vous pouvez naviguer avec ce Jupyter-Lab et utiliser les README qui sont dans les répertoires td/tp :\n",
    " - pour les TPs [./tp/README.ipynb](./tp/README.ipynb) \n",
    " - pour les TDs [./td/README.ipynb](./td/README.ipynb) \n",
    " - pour les cours [./cours/README.ipynb](./cours/README.ipynb) \n",
    " \n",
    " Ou bien utiliser octave (Linux) ou Matlab (Windows) sur la machine et combiner avec jupyter-lab.\n"
   ]
  },
  {
   "cell_type": "markdown",
   "id": "bdbd8372-2187-4504-a3d9-d650f751b34c",
   "metadata": {},
   "source": [
    "## Lancer Octave\n",
    "--- \n",
    "\n",
    "Vous pouvez lancer octave avec son GUI(Graphical User Interface) en lançant cette commande en ouvrant un terminal :\n",
    "  - monTP guacamole : faites clic droit dans le bureau -> \"ouvrir dans un terminal\" \n",
    "  - vrai linux : le raccourci clavier CTRL+ALT+T marchera\n",
    "\n",
    "Dans le terminal lancez la commande :  \n",
    "`octave --force-gui &`\n",
    "\n",
    "Ou bien en exécutant la cellule ci-dessous avec (MAJ+ENTREE)"
   ]
  },
  {
   "cell_type": "code",
   "execution_count": null,
   "id": "6b4c4834-f7bf-4eff-adb1-9e6314f0a3a9",
   "metadata": {},
   "outputs": [],
   "source": [
    "%%bash\n",
    "octave --force-gui &"
   ]
  },
  {
   "attachments": {},
   "cell_type": "markdown",
   "id": "51012c45-b9f1-43e1-a15b-4821a3be6e76",
   "metadata": {
    "tags": []
   },
   "source": [
    "## A - Mettre à jour\n",
    "---\n",
    "\n",
    "Il se peut que l'on vous demande de mettre à jour cette copie (en cas de modifications).  \n",
    "Dans ce cas, tapez dans un terminal :\n",
    "   \n",
    "```bash\n",
    "cd $HOME/signal_discret ; echo \"ou bien \"; cd $HOME/signal_continu\n",
    "./mise_a_jour.sh\n",
    "```  \n",
    "\n",
    "Ou bien exécutez ces commandes dans la cellule ci-dessous :"
   ]
  },
  {
   "cell_type": "code",
   "execution_count": null,
   "id": "2f32aa6b-bcf3-4952-bd12-a9492268f0e9",
   "metadata": {},
   "outputs": [],
   "source": [
    "%%bash\n",
    "./mise_a_jour.sh"
   ]
  },
  {
   "cell_type": "markdown",
   "id": "c0afa379-f9a2-46b8-8237-e807943f0111",
   "metadata": {},
   "source": [
    "N'oubliez pas le premier `.` qui est synonyme de `source` en bash.\n",
    "\n",
    "> Vous avez alors de vieux fichiers complétés avec vos travaux et des nouveaux sans vos travaux !   \n",
    "> Regardez la suite pour **gérer les conflits de version si nécessaire** \n",
    " "
   ]
  },
  {
   "attachments": {},
   "cell_type": "markdown",
   "id": "6778fb04-7d46-4df1-9d88-d25877502630",
   "metadata": {
    "tags": []
   },
   "source": [
    "## B - Nettoyer les fichiers de sauvegardes\n",
    "---\n",
    "\n",
    " - Les **vieux fichiers avec vos modifications** sont sauvegardés dans `<fichier>.ipynbsauvegarde_du_<date>.ipynb` !** \n",
    " - Les **nouveaux fichiers sans vos modifs** dans les `<fichier>.ipynb`\n",
    "\n",
    "\n",
    " À vous d'ouvrir ces deux fichiers et de **fusionner** votre vieux travail qui est dans `<fichier>.ipynbsauvegarde_du_<date>.ipynb` avec la nouvelle version sans votre travail dans `<fichier>.ipynb`\n",
    "\n",
    "> Une fois que vous avez **la nouvelle version avec vos modifications voulues** dans `<fichier>.ipynb` vous pouvez :   \n",
    "> Effacer les fichiers de sauvegarde inutiles avec les commandes suivantes\n",
    "\n",
    "Pour lister les fichiers qui vont être éffacés, on utilise la commande du shell `find`"
   ]
  },
  {
   "cell_type": "code",
   "execution_count": 2,
   "id": "d6f828fc-3e84-454d-b539-07b522b4e4af",
   "metadata": {},
   "outputs": [
    {
     "name": "stdout",
     "output_type": "stream",
     "text": [
      "Les fichiers...\n",
      "_____________________________________________________\n",
      "_____________________________________________________\n",
      "  ... ont été modifiés\n",
      "Recopiez les commandes \"POUR COMPARER\" puis,\n",
      "    une fois que tous vos .ipynb sont bons \n",
      "   vous pouvez EFFACER les sauvegardes avec la commande\n",
      " ./mort_aux_vieux.sh\n"
     ]
    }
   ],
   "source": [
    "%%bash \n",
    "./quoi_de_vieux.sh"
   ]
  },
  {
   "attachments": {},
   "cell_type": "markdown",
   "id": "5b84873e-6750-48b2-9f58-5bfeddabf6db",
   "metadata": {},
   "source": [
    "Il suffit d'ouvrir avec Jupyter-lab les fichiers de sauvegarde, suivre le lien vers le nouveau fichier et l'éditer (copier/coller les commandes POUR COMPARER par exemple)\n",
    "\n",
    "On peut ensuite effacer ces sauvegardes qui seront copiées dans le répertoire caché `.la_tombe` où se trouve les vieux fichiers de sauvegarde."
   ]
  },
  {
   "cell_type": "code",
   "execution_count": 3,
   "id": "cd36c49a-01f8-4a9a-a008-f5022113baf2",
   "metadata": {},
   "outputs": [
    {
     "name": "stdout",
     "output_type": "stream",
     "text": [
      "Les vieux fichiers...\n",
      "... ont été transférés dans .la_tombe\n"
     ]
    }
   ],
   "source": [
    "%%bash \n",
    "./mort_aux_vieux.sh"
   ]
  },
  {
   "attachments": {},
   "cell_type": "markdown",
   "id": "6645078a-832d-44e3-af48-265f93c407d2",
   "metadata": {},
   "source": [
    "> ZUT vous avez effacé un fichier et il n'y a pas de corbeille !\n",
    "> Ce n'est pas perdu, lisez la suit"
   ]
  },
  {
   "cell_type": "markdown",
   "id": "be66cffb-32db-4535-9a3d-f7ed13629ef3",
   "metadata": {
    "jp-MarkdownHeadingCollapsed": true,
    "tags": []
   },
   "source": [
    "## C - Vous avez perdu un fichier ?\n",
    "---\n",
    "\n",
    "Pas de problème, à l'insa **vous avez accès à des sauvegardes chaque heure avec des Snapshots**.\n",
    "\n",
    "Lancez le navigateur de fichier de linux `caja` pour ouvrir le dossier caché `.snapshot`"
   ]
  },
  {
   "cell_type": "code",
   "execution_count": null,
   "id": "e3c11633-c6d5-49ee-a30c-c175be53be37",
   "metadata": {
    "tags": []
   },
   "outputs": [],
   "source": [
    "%%bash\n",
    "cd $HOME/signal_continu\n",
    "caja .snapshot"
   ]
  },
  {
   "cell_type": "markdown",
   "id": "2ac02aa2-291d-4a26-99a1-1edaa8812913",
   "metadata": {
    "tags": []
   },
   "source": [
    "Naviguez dans les différentes sauvegardes et faites un copier/coller vers votre répertoire."
   ]
  },
  {
   "cell_type": "markdown",
   "id": "eba551b9-6982-4d77-9517-1ef4def5334c",
   "metadata": {
    "tags": []
   },
   "source": [
    "Vous pouvez naviguer en ligne de commande dans un terminal tapez le début du nom de fichier et **appuyez frénétiquement sur la touche TAB** pour actionner l'autocomplétion avec liste.\n",
    "\n",
    "Ainsi on rentre la ligne de commande suivante seulement    \n",
    "> en tapant `cd `TABTAB`si`TABTAB`td`TABTAB   \n",
    "> puis en tapant `cd .snapshot/`TABTAB`hour`TABTAB`1`TABTAB`15`TABTAB"
   ]
  },
  {
   "cell_type": "code",
   "execution_count": null,
   "id": "8991ed7f-960a-4bc2-b2c9-1d5e1606ae46",
   "metadata": {},
   "outputs": [],
   "source": [
    "%%bash\n",
    "cd \n",
    "cd signal_continu/td\n",
    "cd .snapshot/hourly.2022-10-01_1505/"
   ]
  },
  {
   "attachments": {},
   "cell_type": "markdown",
   "id": "85ec1a38-81c5-452f-94b9-6611765bd810",
   "metadata": {},
   "source": [
    "Supposons que l'on veille récupérer une ancienne version de README.ipynb.\n",
    "\n",
    "Il suffit de faire une copie du README.ipynb deux répertoires au-dessus `..\\..\\` pour sortir le fichier du `.snapshot`."
   ]
  },
  {
   "cell_type": "code",
   "execution_count": null,
   "id": "e20135b2-51c5-4874-98bb-473c1526b6f7",
   "metadata": {},
   "outputs": [],
   "source": [
    "%%bash\n",
    "\n",
    "cd $HOME/signal_continu/td/.snapshot/hourly.2022-10-01_1505/\n",
    "cp README.ipynb ../../"
   ]
  },
  {
   "cell_type": "markdown",
   "id": "ab6f046b-7125-453e-a892-e9c6c7df36bf",
   "metadata": {
    "tags": []
   },
   "source": [
    "Voilà qui est fait !\n",
    "\n",
    "\n",
    "Bien sûr, mettez la bonne date qui vous intéresse en tapant le début `hourly` puis sur TAB plusieurs fois pour avoir l'autocomplétion.\n",
    "\n",
    "Ici nous avons la sauvegarde du 1er Octobre 2022 à 13h05\n"
   ]
  }
 ],
 "metadata": {
  "kernelspec": {
   "display_name": "Python 3 (ipykernel)",
   "language": "python",
   "name": "python3"
  },
  "language_info": {
   "codemirror_mode": {
    "name": "ipython",
    "version": 3
   },
   "file_extension": ".py",
   "mimetype": "text/x-python",
   "name": "python",
   "nbconvert_exporter": "python",
   "pygments_lexer": "ipython3",
   "version": "3.10.6"
  }
 },
 "nbformat": 4,
 "nbformat_minor": 5
}
