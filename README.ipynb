{
 "cells": [
  {
   "cell_type": "markdown",
   "id": "d2d1d4b5-db4d-497c-b4f1-c0e24f89a21f",
   "metadata": {},
   "source": [
    "# Les Readme pour naviguer dans ce github"
   ]
  },
  {
   "cell_type": "markdown",
   "id": "1f53cc34-0753-4d56-ba1d-12a38a0e8173",
   "metadata": {},
   "source": [
    "Ce gihub est principalement composé de **\"Notebooks\" (.ipynb)** dont certains peuvent exécuter du code matlab (avec octave la version gratuite) ou python.\n",
    "\n",
    "Chaque répertoire contient un Readme.ipynb qui permet de savoir *\"quoi est où\"*\n",
    "\n",
    "Le top est d'installer jupyter notebook et octave sur sa machine en local (plus besoin de connection internet) ou sur son compte insa (possibilité de garder les fichier modifiés etc.) pour cela cliquez sur [la page d'installation](installation/README.md)\n",
    "\n",
    "Sinon avec une connection internet cliquez sur les badges listés plus bas."
   ]
  },
  {
   "cell_type": "markdown",
   "id": "1ed6bffa-a4ba-4fdb-90be-52901774ce04",
   "metadata": {},
   "source": [
    "# Structure et Readmes\n",
    "\n",
    "Cliquez sur les badges *nbviewer* pour **voir les notebooks** ou bien *binder* pour **modifier et exécuter** du code dans ces notebooks."
   ]
  },
  {
   "cell_type": "markdown",
   "id": "b24fecf3-84bf-453c-8247-dac1c80dde00",
   "metadata": {},
   "source": [
    "## Signaux à temps continu (2IMACS)\n",
    " - **TDs** : `continu/td/README.ipynb` [![nbviewer](https://raw.githubusercontent.com/jupyter/design/master/logos/Badges/nbviewer_badge.svg)](https://nbviewer.org/github/balaise31/Signal/tree/continu/td/README.ipynb) (voir) [![Binder](https://mybinder.org/badge_logo.svg)](https://mybinder.org/v2/gh/balaise31/signal/master?labpath=continu%2Ftd%2FREADME.ipynb)(modifier)\n",
    " - **TPs** : `continu/tp/README.ipynb` [![nbviewer](https://raw.githubusercontent.com/jupyter/design/master/logos/Badges/nbviewer_badge.svg)](https://nbviewer.org/github/balaise31/Signal/tree/continu/tp/README.ipynb) (voir) [![Binder](https://mybinder.org/badge_logo.svg)](https://mybinder.org/v2/gh/balaise31/signal/master?labpath=continu%2Ftp%2FREADME.ipynb)(modifier)\n"
   ]
  },
  {
   "cell_type": "markdown",
   "id": "8c4dc3b0-d0ed-422c-9618-273eadd82a78",
   "metadata": {},
   "source": [
    "## Signaux à temps discret (3IMACS)\n",
    "\n",
    " - **TDs** : `discret/td/README.ipynb` [![nbviewer](https://raw.githubusercontent.com/jupyter/design/master/logos/Badges/nbviewer_badge.svg)](https://nbviewer.org/github/balaise31/Signal/tree/master/discret/td/README.ipynb) (voir) [![Binder](https://mybinder.org/badge_logo.svg)](https://mybinder.org/v2/gh/balaise31/signal/master?labpath=discret%2Ftd%2FREADME.ipynb)(modifier)\n",
    " - **TPs** : `discret/tp/README.ipynb` [![nbviewer](https://raw.githubusercontent.com/jupyter/design/master/logos/Badges/nbviewer_badge.svg)](https://nbviewer.org/github/balaise31/Signal/tree/master/discret/tp/README.ipynb) (voir) [![Binder](https://mybinder.org/badge_logo.svg)](https://mybinder.org/v2/gh/balaise31/signal/master?labpath=discret%2Ftp%2FREADME.ipynb)(modifier)\n"
   ]
  },
  {
   "cell_type": "code",
   "execution_count": null,
   "id": "b7d742d9-5922-42db-a117-c9dab40a9d80",
   "metadata": {},
   "outputs": [],
   "source": []
  }
 ],
 "metadata": {
  "kernelspec": {
   "display_name": "Python 3 (ipykernel)",
   "language": "python",
   "name": "python3"
  },
  "language_info": {
   "codemirror_mode": {
    "name": "ipython",
    "version": 3
   },
   "file_extension": ".py",
   "mimetype": "text/x-python",
   "name": "python",
   "nbconvert_exporter": "python",
   "pygments_lexer": "ipython3",
   "version": "3.10.1"
  }
 },
 "nbformat": 4,
 "nbformat_minor": 5
}
