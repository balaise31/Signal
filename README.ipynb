{
 "cells": [
  {
   "cell_type": "markdown",
   "id": "d2d1d4b5-db4d-497c-b4f1-c0e24f89a21f",
   "metadata": {},
   "source": [
    "# Les Readme pour naviguer dans ce github"
   ]
  },
  {
   "cell_type": "markdown",
   "id": "1f53cc34-0753-4d56-ba1d-12a38a0e8173",
   "metadata": {},
   "source": [
    "Ce gihub est principalement composé de **\"Notebooks\" (.ipynb)**.\n",
    "\n",
    "Suivez les [**instructions d'installation**](installation/README.md) et cliquez sur les liens README.ipynb en naviguant avec jupyter-notebook ou jupyter-lab. "
   ]
  },
  {
   "cell_type": "markdown",
   "id": "b24fecf3-84bf-453c-8247-dac1c80dde00",
   "metadata": {},
   "source": [
    "### Signaux à temps continu (2IMACS)\n",
    " - **TDs** : [continu/td/README.ipynb](continu/td/README.ipynb) [![nbviewer](https://raw.githubusercontent.com/jupyter/design/master/logos/Badges/nbviewer_badge.svg)](https://nbviewer.org/github/balaise31/Signal/tree/main/continu/td/README.ipynb) \n",
    " - **TPs** : [continu/tp/README.ipynb](continu/tp/README.ipynb) [![nbviewer](https://raw.githubusercontent.com/jupyter/design/master/logos/Badges/nbviewer_badge.svg)](https://nbviewer.org/github/balaise31/Signal/tree/main/continu/tp/README.ipynb)  \n",
    "\n",
    "### Signaux à temps discret (3IMACS)\n",
    "\n",
    " - **TDs** : [discret/td/README.ipynb](discret/td/README.ipynb)  [![nbviewer](https://raw.githubusercontent.com/jupyter/design/master/logos/Badges/nbviewer_badge.svg)](https://nbviewer.org/github/balaise31/Signal/tree/main/discret/td/README.ipynb) \n",
    " - **TPs** : [discret/tp/README.ipynb](discret/tp/README.ipynb) [![nbviewer](https://raw.githubusercontent.com/jupyter/design/master/logos/Badges/nbviewer_badge.svg)](https://nbviewer.org/github/balaise31/Signal/tree/main/discret/tp/README.ipynb) \n",
    "\n",
    "Si vous n'avez pas suivi les [**instructions d'installation**](installation/README.md), tentez de cliquer sur :\n",
    " - les badges *nbviewer* pour **voir les notebooks**\n",
    " - les badges *binder* pour **modifier et exécuter** du code dans ces notebooks (expérimental).\n"
   ]
  },
  {
   "cell_type": "code",
   "execution_count": null,
   "id": "b3e82417-585b-4295-a244-59ce98bb8bee",
   "metadata": {},
   "outputs": [],
   "source": []
  }
 ],
 "metadata": {
  "kernelspec": {
   "display_name": "Python 3 (ipykernel)",
   "language": "python",
   "name": "python3"
  },
  "language_info": {
   "codemirror_mode": {
    "name": "ipython",
    "version": 3
   },
   "file_extension": ".py",
   "mimetype": "text/x-python",
   "name": "python",
   "nbconvert_exporter": "python",
   "pygments_lexer": "ipython3",
   "version": "3.8.5"
  }
 },
 "nbformat": 4,
 "nbformat_minor": 5
}
