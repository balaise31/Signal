{
 "cells": [
  {
   "cell_type": "markdown",
   "id": "c0028090-59e5-4e79-8592-a1693df5421c",
   "metadata": {},
   "source": [
    "# Déroulé des TP\n",
    "---"
   ]
  },
  {
   "cell_type": "markdown",
   "id": "10ba6b4b-5ac0-496a-9244-845918f17915",
   "metadata": {},
   "source": [
    "# Synthède de filtre par transformée nilinéaire\n",
    "\n",
    "  - [Travail préparatoire](./preparation_tp_bilineaire.ipynb)\n",
    "  - [TP1 - Filtre overtone](./tp1_continu_discret/tp1_bilineaire.ipynb)"
   ]
  },
  {
   "cell_type": "code",
   "execution_count": null,
   "id": "64986933-0dd4-4aa9-8bd0-6b44d219ed6b",
   "metadata": {},
   "outputs": [],
   "source": []
  }
 ],
 "metadata": {
  "kernelspec": {
   "display_name": "",
   "name": ""
  },
  "language_info": {
   "name": ""
  }
 },
 "nbformat": 4,
 "nbformat_minor": 5
}
