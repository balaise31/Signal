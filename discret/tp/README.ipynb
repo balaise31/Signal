{
 "cells": [
  {
   "cell_type": "markdown",
   "id": "c0028090-59e5-4e79-8592-a1693df5421c",
   "metadata": {},
   "source": [
    "# Déroulé des TP\n",
    "---\n",
    "\n",
    "Les TPs ne **SONT PAS EVALUES** : ils ont pour seul but de \n",
    "  - fixer les connaissances théoriques (évaluées à l'IE) et \n",
    "  - donner une compétence de mise en œuvre (python ou octave/matlab) à celles qui le désirent :  \n",
    "  cette compétence est non évaluée, mais utile en 4AE.\n",
    "\n",
    "Il n'est donc pas obligatoire d'aller à ces deux TP et une abscence ne sera pas sanctionnée.\n",
    "\n",
    "> **L'accès en TP est conditionné au fait d'avoir fait le travail préparatoire** :  \n",
    ">  Il faudra donc **présenter sa version papier du travail préparatoire** pour pouvoir y assister.\n",
    "\n",
    "Pour faire fonctionner les notebooks de TP à l'INSA (ou sur son PC avec Guacamole) il faut [exécuter un script d'installation INSA](../../installation/README.md#etudiante-insa)\n",
    "\n",
    " "
   ]
  },
  {
   "cell_type": "markdown",
   "id": "10ba6b4b-5ac0-496a-9244-845918f17915",
   "metadata": {},
   "source": [
    "# Travail préparatoire\n",
    "---\n",
    "\n",
    "  - Le TD [FILT_prepa_bilineaire](./FILT_prepa_bilineaire.ipynb) à permet de justifer et d'analyser la transformation **bilinéaire**\n",
    "  - regarder les 9 premières minutes (avant la compression de fréquences) de [vidéo sur la méthode bilinéaire avant \"compression\"](https://youtu.be/uBZOh7vhjHU)\n",
    "  - faire le travail préparatoire du tp [FILT_prepa_tp1](../tp/FILT_prepa_tp1.ipynb) sur papier seule ou en binôme AVANT d'aller en TP\n",
    "  - tenter de compléter les cellules de code de [FILT_prepa_bilineaire](../tp/FILT_prepa_bilineaire.ipynb) en s'aidant du corrigé s'il le faut ou à la fin.\n",
    "  \n",
    "      \n",
    "La version papier doit contenir (comme indiqué dans le sujet) :\n",
    "  * l'expression et les calculs de la transformée en z en fonction de $\\omega_n$ et $\\zeta$ et $T_e$\n",
    "  * les vérifications d'homogénéité, de gain statique et gain hautes fréquences effectués sur la fonction de transfert\n",
    "  * l'expression et les calculs de la récurrence et de ses coefficients en fonction de $\\omega_n$ et $\\zeta$ et $T_e$\n",
    "  * les vérifications d'homogénéité, de gain statique effectués sur la récurrence\n",
    "    \n",
    "\n",
    "# Séance 1 et 2\n",
    "---\n",
    "  - Avant/pendant/après le TP : regarder la suite sur la \"compression de fréquences\" de la [vidéo sur la méthode bilinéaire suite](https://youtu.be/uBZOh7vhjHU?t=587)\n",
    "\n",
    "  - Allez dans [TP1 - Filtre overtone](./tp1_continu_discret/tp1_bilineaire.ipynb) et apprenez à faire un filtre discret en mettant votre code Octave dans ce notebook. Une fois la synthèse d'un second ordre par la méthode bilinéaire avec prewarp maitrisée...\n",
    "  \n",
    "  - Dans [TP2 - Filtre overtone](./tp2_overtone/tp2_overtone.ipynb) essayez d'abord de mettre au point un second ordre raisonnant qui fonctionne en filtrant par FFT (hors ligne) dan ce notebook\n",
    "  \n",
    "Vous poursuivrez ensuite soit sur Notebook, soit avec Octave (Linux), soit avec Matlab(Windows)\n",
    "\n",
    "  - Dans [TP2 - Filtre overtone](./tp2_overtone/tp2_overtone.ipynb) utilisés la méthode du TP1 pour trouver la récurrence de ce filtre et appliquez-la.\n",
    "  \n",
    "J'espère pouvoir fournir une paire de STMF107 avec l'électronique nécessaire pour pouvoir implémenter en langage C ce filtre... \n"
   ]
  },
  {
   "cell_type": "code",
   "execution_count": null,
   "id": "64986933-0dd4-4aa9-8bd0-6b44d219ed6b",
   "metadata": {},
   "outputs": [],
   "source": []
  }
 ],
 "metadata": {
  "kernelspec": {
   "display_name": "Python 3 (ipykernel)",
   "language": "python",
   "name": "python3"
  },
  "language_info": {
   "codemirror_mode": {
    "name": "ipython",
    "version": 3
   },
   "file_extension": ".py",
   "mimetype": "text/x-python",
   "name": "python",
   "nbconvert_exporter": "python",
   "pygments_lexer": "ipython3",
   "version": "3.10.6"
  }
 },
 "nbformat": 4,
 "nbformat_minor": 5
}
