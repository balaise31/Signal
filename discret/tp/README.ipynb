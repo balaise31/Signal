{
 "cells": [
  {
   "cell_type": "markdown",
   "id": "c0028090-59e5-4e79-8592-a1693df5421c",
   "metadata": {},
   "source": [
    "# Déroulé des TP\n",
    "---"
   ]
  },
  {
   "cell_type": "markdown",
   "id": "10ba6b4b-5ac0-496a-9244-845918f17915",
   "metadata": {},
   "source": [
    "# Synthèse de filtre par transformée nilinéaire\n",
    "\n",
    "  - [FILT_prepa_bilineaire](./FILT_prepa_bilineaire.ipynb)\n",
    "  - [TP1 - Filtre overtone](./tp1_continu_discret/tp1_bilineaire.ipynb)"
   ]
  },
  {
   "cell_type": "code",
   "execution_count": null,
   "id": "64986933-0dd4-4aa9-8bd0-6b44d219ed6b",
   "metadata": {},
   "outputs": [],
   "source": []
  }
 ],
 "metadata": {
  "kernelspec": {
   "display_name": "Python 3 (ipykernel)",
   "language": "python",
   "name": "python3"
  },
  "language_info": {
   "codemirror_mode": {
    "name": "ipython",
    "version": 3
   },
   "file_extension": ".py",
   "mimetype": "text/x-python",
   "name": "python",
   "nbconvert_exporter": "python",
   "pygments_lexer": "ipython3",
   "version": "3.10.1"
  }
 },
 "nbformat": 4,
 "nbformat_minor": 5
}
