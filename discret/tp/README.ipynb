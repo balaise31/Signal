{
 "cells": [
  {
   "cell_type": "markdown",
   "id": "c0028090-59e5-4e79-8592-a1693df5421c",
   "metadata": {},
   "source": [
    "# Déroulé des TP\n",
    "---\n",
    "\n",
    "Les TPs ne **SONT PAS EVALUES** : ils ont pour seul but de \n",
    "  - fixer les connaissances théoriques (évaluées à l'IE) et \n",
    "  - donner une compétence de mise en œuvre (python ou octave/matlab) à celles qui le désirent :  \n",
    "  cette compétence est non évaluée, mais utile en 4AE.\n",
    "\n",
    "Il n'est donc pas obligatoire d'aller à ces deux TP et une abscence ne sera pas sanctionnée.\n",
    "\n",
    "> **L'accès en TP est conditionné au fait d'avoir fait le travail préparatoire** :  \n",
    ">  Il faudra donc **présenter sa version papier du travail préparatoire** pour pouvoir y assister.\n",
    "\n",
    " "
   ]
  },
  {
   "cell_type": "markdown",
   "id": "10ba6b4b-5ac0-496a-9244-845918f17915",
   "metadata": {},
   "source": [
    "# Travail préparatoire\n",
    "---\n",
    "  - le TD [FILT_prepa_bilineaire](./FILT_prepa_bilineaire.ipynb) à permi de justifer et d'analyser la transformation **bilinéaire**\n",
    "  - complétez les cellules de codes de ce TD et/ou regardez le corrigé (liens en début de notebook) pour vous habituer à Octave/Matlab\n",
    "  - effectuer en binôme ou seule le travail préparatoire [FILT_prepa_tp1](./FILT_prepa_tp1.ipynb)\n",
    "  - une version papier de ce travail sera demandée en début de TP pour pouvoir y accéder (**un papier pour deux max !**).\n",
    "    \n",
    "La version papier doit contenir (comme indiqué dans le sujet) :\n",
    "  * l'expression et les calculs de la transformée en z en fonction de $\\omega_n$ et $\\zeta$ et $T_e$\n",
    "  * les vérifications d'homogénéité, de gain statique et gain hautes fréquences effectués sur la fonction de transfert\n",
    "  * l'expression et les calculs de la récurrence et de ses coefficients en fonction de $\\omega_n$ et $\\zeta$ et $T_e$\n",
    "  * les vérifications d'homogénéité, de gain statique effectués sur la récurrence\n",
    "    \n",
    "\n",
    "# Séance 1 et 2\n",
    "---\n",
    "\n",
    "Vous poursuivrez soit sur Notebook, soit avec Octave (Linux), soit avec Matlab(Windows)\n",
    "\n",
    "  - Dans [TP1 - Filtre overtone](./tp1_continu_discret/tp1_bilineaire.ipynb) essayez d'abord de mettre au point un filtrage par FFT (hors ligne)\n",
    "  - Toujours dans [TP1 - Filtre overtone](./tp1_continu_discret/tp1_bilineaire.ipynb) utilisez la méthode bilinéaire pour trouver une récurrence de ce filtre\n",
    "  - Toujours dans [TP1 - Filtre overtone](./tp1_continu_discret/tp1_bilineaire.ipynb) précompensez la compression de fréquences et répétez suffisamment ce filtre \n",
    "  \n",
    "J'espère pouvoir fournir une paire de STMF107 avec l'électronique nécessaire pour pouvoir implémenter en langage C ce filtre... \n"
   ]
  },
  {
   "cell_type": "code",
   "execution_count": null,
   "id": "64986933-0dd4-4aa9-8bd0-6b44d219ed6b",
   "metadata": {},
   "outputs": [],
   "source": []
  }
 ],
 "metadata": {
  "kernelspec": {
   "display_name": "Python 3 (ipykernel)",
   "language": "python",
   "name": "python3"
  },
  "language_info": {
   "codemirror_mode": {
    "name": "ipython",
    "version": 3
   },
   "file_extension": ".py",
   "mimetype": "text/x-python",
   "name": "python",
   "nbconvert_exporter": "python",
   "pygments_lexer": "ipython3",
   "version": "3.10.1"
  }
 },
 "nbformat": 4,
 "nbformat_minor": 5
}
