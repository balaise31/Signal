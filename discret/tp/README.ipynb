{
 "cells": [
  {
   "cell_type": "markdown",
   "id": "c0028090-59e5-4e79-8592-a1693df5421c",
   "metadata": {},
   "source": [
    "# Déroulé des TP\n",
    "---\n",
    "\n",
    "Le TP **N'EST PAS ÉVALUÉ** : il a pour seul but de \n",
    "  - fixer les connaissances théoriques (évaluées à l'IE) \n",
    "  - illustrer le cours\n",
    "  - vous donner de l'autonomie en traitement pratique du signal (-> 4AE)\n",
    "\n",
    "Les compétences de mise en œuvre (octave/matlab ou C embarqué) seront évaluées en 4AE (BE trottinette, autom discrète, etc.)."
   ]
  },
  {
   "cell_type": "markdown",
   "id": "760ee10e-c982-4c31-8479-b405047b2fb3",
   "metadata": {},
   "source": [
    "## Travail préparatoire\n",
    "--- \n",
    "\n",
    " 1) Venir aux cours !\n",
    " 2) **Faire l'installation des notebooks octave** : \n",
    "  - Aller sur [monTP.insa-toulouse.fr](https://github.com/balaise31/Signal/blob/main/installation/README.md#monTP-INSA-virtuel) \n",
    "  - exécuter la [ligne de commande d'installation](https://github.com/balaise31/Signal/blob/main/installation/README.md#pour-les-3imacs) dans un terminal.\n",
    " 3) **Faire l'auto éval. octave** : réviser/acquérir/perfectionner les compétences en programmation Matlab/octave pour le signal.  \n",
    "  - Sur monTP, lancer la commande `go_discret`, jupyter-lab s'ouvre et cliquez sur le README des TPs (ce README en fait).\n",
    "  - Restez sur jupyter-lab et suivez ce lien [OCT0- auto évaluation](OCT0_auto_eval.ipynb) (ou naviguer dans `tp/OCT0_auto_eval.ipynb` à gauche dans jupyter-lab)\n",
    "  - Tentez de coder les tests pour chaque compétence,\n",
    "  - Vérifiez avec les corrigés\n",
    "  - Si ce n'est pas gagné : suivez les tutos et exemples"
   ]
  },
  {
   "cell_type": "markdown",
   "id": "2564bbab-7580-46b8-b111-51b087146fb7",
   "metadata": {},
   "source": [
    "## Séance TP1 (Optionnel cette année)\n",
    "---\n",
    "\n",
    "FREQ1 et FREQ2 sont des révisions, ou plutôt REvision, de la 2IMACS.\n",
    "\n",
    "[VEC3 deux bases](VEC3_deux_bases.ipynb) est une intro modeste et géniale à la TFD (filtrage hors ligne)  \n",
    "et rigolote, sauf pour les Catalanes qui aiment le rugby...\n",
    "\n",
    "\n",
    "|   Quoi                              |     Où                        |\n",
    "|-------------------------------------|-------------------------------|\n",
    "| Revoir phaseur et sommes de Fourier | [FREQ1_phaseurs](FREQ1_phaseurs.ipynb) |\n",
    "| Échantillonner l'onde complexe      | [FREQ2 ondes discretes](FREQ2_ondes_discretes.ipynb)         |\n",
    "| Filtrer avec une TFD                | [VEC3 deux bases](VEC3_deux_bases.ipynb)         |\n"
   ]
  },
  {
   "cell_type": "markdown",
   "id": "598902ef-b1a0-437a-9beb-592fd48c6a35",
   "metadata": {},
   "source": [
    "## Séance TP2\n",
    "---\n",
    "\n",
    "|   Quoi                              |     Où                        |\n",
    "|-------------------------------------|-------------------------------|\n",
    "|Synthèse bilinéaire 1er ordre | [TP bilinéaire 1er ordre](TP_bilineaire_ordre1.ipynb) associé au TD [SYNTH bilinéaire](../td/SYNTH.ipynb)|\n",
    "|Synthèse bilinéaire fréquentiel (optionnel) | [TP bilinéaire synthèse](anciens/tp1_continu_discret/tp1_bilineaire.ipynb)         |\n",
    "|Synthèse bilinéaire filtrage (optionnel) | [TP bilinéaire filtrage](anciens/tp2_overtone/tp1_bilineaire.ipynb)         |\n",
    "\n",
    "\n"
   ]
  },
  {
   "cell_type": "code",
   "execution_count": null,
   "id": "435138f7-f30a-4c1b-aa1a-2428b6897f9b",
   "metadata": {},
   "outputs": [],
   "source": []
  }
 ],
 "metadata": {
  "kernelspec": {
   "display_name": "Python 3",
   "language": "python",
   "name": "python3"
  },
  "language_info": {
   "codemirror_mode": {
    "name": "ipython",
    "version": 3
   },
   "file_extension": ".py",
   "mimetype": "text/x-python",
   "name": "python",
   "nbconvert_exporter": "python",
   "pygments_lexer": "ipython3",
   "version": "3.6.9"
  }
 },
 "nbformat": 4,
 "nbformat_minor": 5
}
