{
 "cells": [
  {
   "cell_type": "markdown",
   "metadata": {
    "tags": []
   },
   "source": [
    "---\n",
    "# TP1 Bilinéaire : Synthèse de filtres à partir du continu\n",
    "---\n",
    "\n",
    "Vous avez en [TD synthétisé un filtre du premier ordre](../td/SYNTH.ipynb) discret avec la méthode bilinéaire.\n",
    "\n",
    "On va vérifier les calculs en numérique cette fois-ci.\n"
   ]
  },
  {
   "cell_type": "markdown",
   "metadata": {
    "tags": []
   },
   "source": [
    "## 1 - Vérification du calcul analytique\n",
    "---\n",
    "Dans le [travail préparatoire](../FILT_prepa_tp1.ipynb) vous avez pu trouver l'expression analytique de la fonction de transfert du filtre et de la récurrence.\n",
    "\n",
    "Une étudiante distraite a trouvé :\n",
    "\n",
    "$$ G(z) = K \\frac{Te + z^{-1}}{(Te+\\tau).z^{-1} + (Te-2.\\tau)}$$\n",
    "\n",
    "**Vérifiez pour cette formule et la votre** \n",
    "  - homogénéïté \n",
    "  - Gain statique = celui de $\\frac{K}{1+\\tau.p}$ = K\n",
    "  - Gain HF = celui du premier ordre passe-bas = 0\n",
    "\n",
    "\n",
    "Passez à la recurrence du filtre discret et identifiez à la forme :\n",
    "\n",
    "$$\n",
    "\\overbrace{a_1}^{=1} . y[k+1]  =  - a_0 .y[k] + b_1. x[k+1] + b_0. x[k] \n",
    "$$\n",
    "\n",
    "**Vérifiez pour cette récurrence avec vos valeurs des coefs.**\n",
    "  - homogénéïté de vos coefficients $a_0,b_1,$ etc.\n",
    "  - gain statique avec $x[k+1]=x[k]=e^{i.\\overbrace{\\omega}^{=0}.k.T_e}=x^\\star=1$ et $y[k+1]=y[k]=y^\\star.e^{i.\\overbrace{\\omega}^{=0}.k.T_e}=y^\\star$  \n",
    "    on doit avoir $\\frac{y^\\star}{x^\\star}=K$\n",
    "  - gain HF avec $x[k]=e^{i2\\pi.\\overbrace{f}^{=\\frac{F_e}{2}}.k.T_e}=x^\\star.(-1) ^k$ et $y[k]=(-1) ^k.y^\\star$  \n",
    "    on doit avoir $\\frac{y^\\star}{x^\\star}=0$ le gain HF d'un passe-bas\n",
    "    \n",
    "Cette récurrence donne une représentation de $G_d$ qui est compatible Matlab/octave :  \n",
    "\n",
    "$G_d(z) = \\frac{ b_1 z + b_0}{ a_1 z + a_0}$ avec $a_1=1$"
   ]
  },
  {
   "cell_type": "markdown",
   "metadata": {
    "tags": []
   },
   "source": [
    "### Script de calcul des coefs\n",
    "\n",
    "Corrigez les nombreuses erreurs du code ci-dessous. \n",
    "\n",
    "On veut un premier ordre tel que :\n",
    "  - gain statique =1 ;\n",
    "  - fréquence de coupure $f_c=\\frac{F_e}{4}\\equiv\\tilde{f_c}=1/4$ ;\n",
    "  - effet passe-bas ;\n",
    "  - fréquence d'échantillonnage audio de 48kHz.\n",
    " "
   ]
  },
  {
   "cell_type": "code",
   "execution_count": 1,
   "metadata": {
    "tags": [],
    "vscode": {
     "languageId": "json"
    }
   },
   "outputs": [
    {
     "name": "stdout",
     "output_type": "stream",
     "text": [
      "gain_statique =  666\n",
      "warning: division by zero\n",
      "gain_hf = NaN\n"
     ]
    }
   ],
   "source": [
    "clear all; close all; clc;\n",
    "%% ADAPTER et CORRIGER les 666\n",
    "%% Paramètres du filtre discret imposés\n",
    "Fe = 666;      % Fréquence d'échantillonnage [Hz]\n",
    "Te = 666;      % Période d'échantillonnage   [s] \n",
    "\n",
    "%% Parametres du filtre continu imposé\n",
    "K = 666;\n",
    "Fc = Fe/4;\n",
    "\n",
    "\n",
    "%% MODIFIEZ avec vos formules les paramètres de récurrence\n",
    "% du genre  Tau = 1/fc, \n",
    "%  a0 = Te-2*tau/Te\n",
    "%  etc.\n",
    "wc = 666;\n",
    "tau = 666;\n",
    "\n",
    "b0 = 666 ;\n",
    "b1 = 666 ; \n",
    "a0 = 666; \n",
    "a1 = 666; \n",
    "\n",
    "%% Vérifiez vos gain statiques et HF\n",
    "% MODIFIEZ\n",
    "gain_statique = (a0+a1)/(b0+b1) * 666 \n",
    "gain_hf = (a0-a1)/(b0-b1)/666"
   ]
  },
  {
   "cell_type": "markdown",
   "metadata": {
    "jp-MarkdownHeadingCollapsed": true,
    "tags": []
   },
   "source": [
    "#### Corrigé"
   ]
  },
  {
   "cell_type": "code",
   "execution_count": 2,
   "metadata": {
    "tags": [],
    "vscode": {
     "languageId": "json"
    }
   },
   "outputs": [
    {
     "name": "stdout",
     "output_type": "stream",
     "text": [
      "gain_statique =  1\n",
      "gain_hf = -0\n"
     ]
    }
   ],
   "source": [
    "clear all; close all; clc;\n",
    "%% ADAPTER et CORRIGER les 666\n",
    "%% Paramètres du filtre discret imposés\n",
    "Fe = 48e3;      % Fréquence d'échantillonnage [Hz]\n",
    "Te = 1/Fe;      % Période d'échantillonnage   [s] \n",
    "\n",
    "%% Parametres du filtre continu imposé\n",
    "K = 1;\n",
    "Fc = Fe/4;\n",
    "\n",
    "\n",
    "%% MODIFIEZ avec vos formules les paramètres de récurrence\n",
    "% du genre  Tau = 1/fc, \n",
    "%  a0 = Te-2*tau/Te\n",
    "%  etc.\n",
    "wc = 2*pi*Fc;\n",
    "tau = 1/wc;\n",
    "\n",
    "b0 = K*Te ;\n",
    "b1 = K*Te ; \n",
    "a0 = Te-2*tau; \n",
    "a1 = Te+2*tau; \n",
    "\n",
    "%% Vérifiez vos gain statiques et HF\n",
    "% MODIFIEZ\n",
    "gain_statique = (b0+b1)/(a0+a1) \n",
    "gain_hf = (b0-b1)/(a0-a1)"
   ]
  },
  {
   "cell_type": "markdown",
   "metadata": {
    "tags": []
   },
   "source": [
    "### 2 Vérifier le G(p)\n",
    "\n",
    "On peut créer une **fonction anonyme** capable d'évaluer la fonction de transfert pour une valeur de z donnée.\n",
    "\n",
    "Par exemple `f = @(x,a) 3+x^2*a;` définit en une ligne la fonction $f: (x, a) \\mapsto 2+ a\\,x^2$ ce qui pourrait être fait de manière équivalente par\n",
    "```octave\n",
    "function val = f(x,a)\n",
    "    val = 2 + a * x^2\n",
    "end\n",
    "```\n",
    "\n",
    "On définit $G(p)$ et on calcule ensuite avec cette fonction le gain statique et le gain HF et le gain pour $f_c$ :"
   ]
  },
  {
   "cell_type": "code",
   "execution_count": 3,
   "metadata": {},
   "outputs": [
    {
     "name": "stdout",
     "output_type": "stream",
     "text": [
      "gain_statique =    1.3263e-05\n",
      "gain_Hf = -0\n",
      "gain_Fe_sur_4 =  6.6315e-06 + 6.6315e-06i\n",
      "Il est possible qu'il y ait une erreur...\n"
     ]
    }
   ],
   "source": [
    "% On définit la fonction de transfert (où p peut être un vecteur complexe)\n",
    "% Laissez l'erreur pour voir si on détecte\n",
    "G= @(p) tau*K./(1-tau*p) ;\n",
    "\n",
    "%% On vérifie avec le Gain statique\n",
    "gain_statique = G(0)  % équivalent de p = j.w --> 0 en statique\n",
    "%% Gain Hautes fréquences\n",
    "gain_Hf = G(j*inf)   % équivalent de p = j.w --> +j.oo en HF\n",
    "\n",
    "%% On vérrifie G(j.wc) = K/(1+i)  <-> f=Fe/4=fc\n",
    "gain_Fe_sur_4 = G(j*wc)\n",
    "if abs(G(j*2*pi*Fe/4)-(1/(1+i)))<1e-10\n",
    "    disp(\"Vous semblez avoir corrigé l'erreur\");\n",
    "else\n",
    "    disp(\"Il est possible qu'il y ait une erreur...\");\n",
    "end"
   ]
  },
  {
   "cell_type": "markdown",
   "metadata": {
    "jp-MarkdownHeadingCollapsed": true,
    "tags": []
   },
   "source": [
    "#### Corrigé"
   ]
  },
  {
   "cell_type": "markdown",
   "metadata": {
    "jp-MarkdownHeadingCollapsed": true,
    "tags": []
   },
   "source": [
    "Le gain $\\tau.K$ fait que G est homogène à du temps !  On doit avoir un ratio entre deux signaux en volts qui doit être sans dimension.  \n",
    "Le gain statique n'est pas K mais $K\\tau$...\n",
    "\n",
    "La phase n'est pas -45 degrés mais +45 degrés : on a $\\frac{K}{1-i}$ et pas $\\frac{K}{1+i}$ : erreur de signe.\n",
    "\n",
    "$\\frac{K}{1+i} = K \\frac{1-i}{(1+i)(1-i)}=\\frac{K}{2} (1-i)$"
   ]
  },
  {
   "cell_type": "code",
   "execution_count": 4,
   "metadata": {},
   "outputs": [
    {
     "name": "stdout",
     "output_type": "stream",
     "text": [
      "gain_statique =  1\n",
      "gain_Hf = 0\n",
      "gain_Fe_sur_4 =  0.50000 - 0.50000i\n",
      "Vous semblez avoir corrigé l'erreur\n"
     ]
    }
   ],
   "source": [
    "% On définit la fonction de transfert (où p peut être un vecteur complexe)\n",
    "% Laissez l'erreur pour voir si on détecte\n",
    "G= @(p) K./(1+tau*p) ;\n",
    "\n",
    "%% On vérifie avec le Gain statique\n",
    "gain_statique = G(0)  % équivalent de p = j.w --> 0 en statique\n",
    "%% Gain Hautes fréquences\n",
    "gain_Hf = G(j*inf)   % équivalent de p = j.w --> +j.oo en HF\n",
    "\n",
    "%% On vérrifie G(j.wc) <-> f=Fe/4=fc\n",
    "gain_Fe_sur_4 = G(j*wc)\n",
    "if abs(G(j*2*pi*Fe/4)-(1/(1+i)))<1e-10\n",
    "    disp(\"Vous semblez avoir corrigé l'erreur\");\n",
    "else\n",
    "    disp(\"Il est possible qu'il y ait une erreur...\");\n",
    "end"
   ]
  },
  {
   "cell_type": "markdown",
   "metadata": {
    "tags": []
   },
   "source": [
    "### Réponse harmonique de G(p)\n",
    "\n",
    "Inutile d'utiliser de boîte à outils pour tracer une réponse harmonique !\n",
    "\n",
    "On déclare un vecteur des fréquences $f$ et on fait les calculs de $G(p=j2\\pi.f)$ et on trace module et argument ! "
   ]
  },
  {
   "cell_type": "code",
   "execution_count": 5,
   "metadata": {
    "tags": []
   },
   "outputs": [
    {
     "data": {
      "image/png": "[encoded data removed]",
      "text/plain": [
       "<IPython.core.display.Image object>"
      ]
     },
     "metadata": {},
     "output_type": "display_data"
    }
   ],
   "source": [
    "Df=5; \n",
    "f = -Fe:Df:Fe ;  % vecteur des fréquences [Hz]\n",
    "w = 666*f;       % vecteur des pulsation en radians par secondes\n",
    "p = 666*w;       % vecteur complexes des équivalents harmoniques de p \n",
    "\n",
    "G_de_p = G(p) ;   % On calcule pour chaque fréquences G(p=j.w)\n",
    "\n",
    "% On affiche en linéaire module et argument \n",
    "subplot(211);\n",
    "plot(f, abs(G_de_p)); grid on;\n",
    "xlabel(\"f [Hz]\");\n",
    "ylabel(\"Module G(j.w)\")\n",
    "subplot(212);\n",
    "plot(f, angle(G_de_p)); grid on;\n",
    "xlabel(\"f [Hz\")\n",
    "ylabel(\"Argument G(j.w) [rad]\")\n"
   ]
  },
  {
   "cell_type": "markdown",
   "metadata": {},
   "source": [
    "**Corrigé** dans la version bode du code qui suit"
   ]
  },
  {
   "cell_type": "markdown",
   "metadata": {
    "jp-MarkdownHeadingCollapsed": true,
    "tags": []
   },
   "source": [
    "### Bode de G(p)\n",
    "\n",
    "On peut passer l'affichage des fréquences en échelle log en remplaçant `plot` par `semilogx`.\n",
    "\n",
    "On peut afficher le module en dB avec le log en base 10 `log10`\n",
    "\n",
    "Attention pas de fréquence négative ni de fréquence nulle ...."
   ]
  },
  {
   "cell_type": "code",
   "execution_count": 6,
   "metadata": {
    "tags": []
   },
   "outputs": [
    {
     "data": {
      "image/png": "[encoded data removed]",
      "text/plain": [
       "<IPython.core.display.Image object>"
      ]
     },
     "metadata": {},
     "output_type": "display_data"
    }
   ],
   "source": [
    "Df=100; \n",
    "f = Df:Df:10*Fe ;  % vecteur que des positif >0\n",
    "w = 2*pi*f;       % vecteur des pulsation en radians par secondes\n",
    "p = j*w;          % vecteur complexes des équivalents harmoniques de p \n",
    "\n",
    "G_de_p = G(p) ;   % On calcule pour chaque fréquences G(p=j.w)\n",
    "\n",
    "% On affiche en linéaire module et argument \n",
    "subplot(211);\n",
    "semilogx(f, 20*log10(abs(G_de_p))); grid on;\n",
    "xlabel(\"f [Hz]\");\n",
    "ylabel(\"Module G(j.w) dB\")\n",
    "subplot(212);\n",
    "semilogx(f, angle(G_de_p)/pi*180); grid on;\n",
    "xlabel(\"f [Hz]\")\n",
    "ylabel(\"Argument G(j.w) [deg]\")"
   ]
  },
  {
   "cell_type": "markdown",
   "metadata": {},
   "source": [
    "En payant 5k€ on peut utiliser la control toolbox de Matlab et utiliser la fonction bode..."
   ]
  },
  {
   "cell_type": "markdown",
   "metadata": {
    "tags": []
   },
   "source": [
    "## 3 Vérifier le Gd(z)\n",
    "\n",
    "On fait pareil avec l'équivalent harmonique de Gd(z)."
   ]
  },
  {
   "cell_type": "code",
   "execution_count": 7,
   "metadata": {},
   "outputs": [
    {
     "name": "stdout",
     "output_type": "stream",
     "text": [
      "gain_statique = -3.7117\n",
      "gain_Hf = -3.7117\n"
     ]
    }
   ],
   "source": [
    "%% CORRIGEZ l'étourderie dans ce qui suit\n",
    "% On définit la fonction de transfert (où z peut être vecteur)\n",
    "Gd = @(z) (b0 + b1 .* z.^(-1) ) ./ (a0 + a1*z.^(-1) ) ;\n",
    "% Indice pour l'erreur : convention Matlab !\n",
    "\n",
    "%% On vérifie avec le Gain statique\n",
    "gain_statique = Gd(666)\n",
    "%% Gain Hautes fréquences\n",
    "gain_Hf = Gd(666)\n"
   ]
  },
  {
   "cell_type": "markdown",
   "metadata": {
    "jp-MarkdownHeadingCollapsed": true,
    "tags": []
   },
   "source": [
    "### Corrigé\n"
   ]
  },
  {
   "cell_type": "code",
   "execution_count": 8,
   "metadata": {},
   "outputs": [
    {
     "name": "stdout",
     "output_type": "stream",
     "text": [
      "gain_statique =  1\n",
      "gain_Hf = -0\n"
     ]
    }
   ],
   "source": [
    "%% CORRIGÉ \n",
    "% On définit la fonction de transfert (où z peut être vecteur)\n",
    "Gd = @(z) (b0 + b1 .* z ) ./ (a0 + a1*z ) ;\n",
    "\n",
    "%% On vérifie avec le Gain statique\n",
    "gain_statique = Gd(1)\n",
    "%% Gain Hautes fréquences\n",
    "gain_Hf = Gd(-1)"
   ]
  },
  {
   "cell_type": "markdown",
   "metadata": {
    "tags": []
   },
   "source": [
    "### Réponse harmonique de Gd(z)\n",
    "\n",
    "Inutile d'utiliser de boîte à outils pour tracer une réponse harmonique !\n",
    "\n",
    "On déclare un vecteur des fréquences $f$ et on fait les calculs de $G(z=e^{j2\\pi.f.T_e})$ et on trace module et argument ! "
   ]
  },
  {
   "cell_type": "code",
   "execution_count": 9,
   "metadata": {
    "tags": []
   },
   "outputs": [
    {
     "data": {
      "image/png": "[encoded data removed]",
      "text/plain": [
       "<IPython.core.display.Image object>"
      ]
     },
     "metadata": {},
     "output_type": "display_data"
    }
   ],
   "source": [
    "Df=5; \n",
    "f = -Fe:Df:2*Fe ;  % vecteur des fréquences [Hz]\n",
    "w = 666*f;       % vecteur des pulsation en radians par secondes\n",
    "p = 666*w;       % vecteur complexe des équivalents harmoniques de p \n",
    "z = 666*p;       % vecteur complexe des équivalents harmoniques de z \n",
    "G_de_z = Gd(z) ;   % On calcule pour chaque fréquences G(p=j.w)\n",
    "\n",
    "% On affiche en linéaire module et argument \n",
    "subplot(211);\n",
    "plot(f, abs(G_de_z)); grid on;\n",
    "xlabel(\"f [Hz]\");\n",
    "ylabel(\"Module Gd(z)\")\n",
    "subplot(212);\n",
    "plot(f, angle(G_de_z)); grid on;\n",
    "xlabel(\"f [Hz\")\n",
    "ylabel(\"Argument Gd(z) [rad]\")\n"
   ]
  },
  {
   "cell_type": "markdown",
   "metadata": {},
   "source": [
    "**Corrigé** dans la version bode du code qui suit"
   ]
  },
  {
   "cell_type": "markdown",
   "metadata": {
    "tags": []
   },
   "source": [
    "### Bode de Gd(z)\n",
    "\n",
    "On peut passer l'affichage des fréquences en échelle log en remplaçant `plot` par `semilogx`.\n",
    "\n",
    "On peut afficher le module en dB avec le log en base 10 `log10`\n",
    "\n",
    "Attention pas de fréquence négative ni de fréquence nulle ...."
   ]
  },
  {
   "cell_type": "code",
   "execution_count": 10,
   "metadata": {
    "tags": []
   },
   "outputs": [
    {
     "data": {
      "image/png": "[encoded data removed]",
      "text/plain": [
       "<IPython.core.display.Image object>"
      ]
     },
     "metadata": {},
     "output_type": "display_data"
    }
   ],
   "source": [
    "Df=100; \n",
    "f = Df:Df:10*Fe ;  % vecteur que des positif >0\n",
    "w = 2*pi*f;       % vecteur des pulsation en radians par secondes\n",
    "p = j*w;          % vecteur complexes des équivalents harmoniques de p \n",
    "z = exp(Te*p);   % Avec le théorème du retard pour z.\n",
    "\n",
    "G_de_z = Gd(z) ;   % On calcule pour chaque fréquences G(p=j.w)\n",
    "\n",
    "% On affiche en linéaire module et argument \n",
    "subplot(211);\n",
    "semilogx(f, 20*log10(abs(G_de_z))); grid on;\n",
    "xlabel(\"f [Hz]\");\n",
    "ylabel(\"Module Gd(z) dB\")\n",
    "subplot(212);\n",
    "semilogx(f, angle(G_de_z)/pi*180); grid on;\n",
    "xlabel(\"f [Hz]\")\n",
    "ylabel(\"Argument Gd(z) [deg]\")"
   ]
  },
  {
   "cell_type": "markdown",
   "metadata": {},
   "source": [
    "La périodicité tout les $F_e$ est compressée par l'échelle log des fréquences.\n",
    "\n",
    "À $\\frac{F_e}{2}$ et ses périodiques, le gain est nul ce qui donne une atténuation de $- \\infty$ en dB."
   ]
  },
  {
   "cell_type": "markdown",
   "metadata": {},
   "source": [
    "## 4 - Problème de la compression \n",
    "---\n",
    "\n",
    "Si l'on superpose les courbes continues et discretes on voit un problème pour $f=f_c$\n"
   ]
  },
  {
   "cell_type": "code",
   "execution_count": 11,
   "metadata": {
    "vscode": {
     "languageId": "json"
    }
   },
   "outputs": [
    {
     "name": "stdout",
     "output_type": "stream",
     "text": [
      "gain_continu_fc =  0.50000 - 0.50000i\n",
      "gain_discret_fc =  0.38151 - 0.48576i\n"
     ]
    },
    {
     "data": {
      "image/png": "[encoded data removed]",
      "text/plain": [
       "<IPython.core.display.Image object>"
      ]
     },
     "metadata": {},
     "output_type": "display_data"
    }
   ],
   "source": [
    "Df = Fe/100;        % résolution fréquentielle d'affichage\n",
    "f = -Fe: Df: 2*Fe ; % vecteur des fréqeunces [Hz]\n",
    "p = j*2*pi*f;        % équivalents harmoniques de p\n",
    "z = exp(Te*p);  % équivalents harmoniques de z\n",
    "\n",
    "% utilisez la fonction anonyme Gd qui prend l'équivalent de z en argument\n",
    "% pour calculer la fonction de transfert pour chaques fréquences\n",
    "G_continu = G(p);\n",
    "G_discret = Gd(z);\n",
    "\n",
    "\n",
    "plot(f,G_continu,'k');hold on;\n",
    "plot(f,G_discret,'r');grid on;\n",
    "\n",
    "fc=Fe/4;\n",
    "gain_continu_fc = G(j*2*pi*fc)\n",
    "gain_discret_fc = Gd(exp(j*2*pi*fc*Te))\n",
    "plot(fc,gain_continu_fc,'k+');\n",
    "plot(fc,gain_discret_fc,'ro');\n",
    "\n"
   ]
  },
  {
   "cell_type": "markdown",
   "metadata": {},
   "source": [
    "Vous devez constater que :\n",
    " - le spectre discret est périodique\n",
    " - les fréquences de résonnance ne collent pas !\n",
    " \n",
    "C'est l'effet de la fameuse compression des fréquences (\"frequency wrapping\") induites par la méthode de la transformation bilinéaire. \n",
    "\n",
    "Faites un vrai **tracé de bode** en changeant les fréquences de calcul, car l'échelle log sur l'axe des fréquences ne permet pas d'afficher les fréquences négatives ou nulles : On peut prendre des **fréquences de 100Hz à 10 kHz** par exemple.\n",
    "\n",
    "On utilise `semilogx` à la place de plot pour avoir les abscisses en échelle log.\n",
    "On peut caluler le gain en dB avec une fonction anonyme `dB_de`.\n",
    "\n"
   ]
  },
  {
   "cell_type": "code",
   "execution_count": 13,
   "metadata": {
    "tags": []
   },
   "outputs": [
    {
     "name": "stdout",
     "output_type": "stream",
     "text": [
      "gain_continu_fc =  0.50000 - 0.50000i\n",
      "gain_discret_fc =  0.38151 - 0.48576i\n"
     ]
    },
    {
     "data": {
      "image/png": "[encoded data removed]",
      "text/plain": [
       "<IPython.core.display.Image object>"
      ]
     },
     "metadata": {},
     "output_type": "display_data"
    }
   ],
   "source": [
    "Df=455; \n",
    "f = Df:Df:10*Fe ;  % vecteur que des positif >0\n",
    "w = 2*pi*f;       % vecteur des pulsation en radians par secondes\n",
    "p = j*w;          % vecteur complexes des équivalents harmoniques de p \n",
    "z = exp(Te*p);   % Avec le théorème du retard pour z.\n",
    "G_continu = G(p);\n",
    "G_discret = Gd(z);\n",
    "\n",
    "fc=Fe/4;\n",
    "gain_continu_fc = G(j*2*pi*fc)\n",
    "gain_discret_fc = Gd(exp(j*2*pi*fc*Te))\n",
    "\n",
    "\n",
    "% On affiche en linéaire module et argument \n",
    "subplot(211);\n",
    "semilogx(f, 20*log10(abs(G_continu)),'b'); hold on;\n",
    "semilogx(f, 20*log10(abs(G_discret)),'r');grid on;\n",
    "semilogx(fc, 20*log10(gain_continu_fc),'b+'); \n",
    "semilogx(fc, 20*log10(gain_discret_fc),'ro'); \n",
    "xlabel(\"f [Hz]\");\n",
    "ylabel(\"Module Gd(z) dB\")\n",
    "subplot(212);\n",
    "semilogx(f, angle(G_continu)/pi*180,'b'); hold on;\n",
    "semilogx(fc, angle(gain_continu_fc)/pi*180,'b+'); \n",
    "semilogx(f, angle(G_discret)/pi*180,'r'); grid on;\n",
    "semilogx(fc, angle(gain_discret_fc)/pi*180,'ro'); \n",
    "xlabel(\"f [Hz]\")\n",
    "ylabel(\"Argument Gd(z) [deg]\")"
   ]
  },
  {
   "cell_type": "markdown",
   "metadata": {},
   "source": [
    "### 5- Compression fréquencielle \n",
    "\n",
    "Regardez la [suite de la vidéo](https://youtu.be/uBZOh7vhjHU?t=587) sur l'effet de compression de la méthode bilinéaire.\n",
    "\n",
    "Dans la transformation $p \\approx s(z)= \\frac{2}{Te}\\frac{z-1}{z+1}$ utilisée, l'équivalent fréquentiel de $s(z)$ est \n",
    "\n",
    "$$ s\\left(z\\equiv e^{j\\omega.T_e}\\right)= j.\\underbrace{\\frac{2}{T_e} \\tan\\left(\\frac{T_e}{2}\\omega\\right)}_{\\omega_d} = j \\omega_d$$\n",
    "\n",
    "On pensait avoir :  \n",
    "$G_d(\\omega) = G_d(z\\equiv e^{i\\omega\\,T_e}) = G(s(z)\\equiv j\\omega) = G(j\\omega)$ qui fait le job pour $f_c$ avec  \n",
    "$G_d(\\omega_c) \\approx  G(j\\omega_c) = \\frac{K}{1+i}$\n",
    "\n",
    "Mais on a quand $f$ est trop proche de $\\frac{F_e}{2}$ :   \n",
    "$G_d(\\omega) = G_d(z\\equiv e^{i\\omega\\,T_e}) = G\\left(s(z)\\equiv \\underbrace{\\frac{2}{T_e} \\tan\\left(\\frac{T_e}{2}\\omega\\right)}_{\\omega_d}\\right) = G(j\\omega_d)$ qui fait **pas** le job pour $f_c$ car  \n",
    "$G_d(\\omega_c) =  G(j\\omega_d) \\neq \\frac{K}{1+i}$\n",
    "\n",
    "\n",
    "Ainsi, si le polynome $G(p)$ a une fréquence de coupure pour $\\omega_c$ en continu ce n'est pas le cas pour le discret car $G_d(\\omega_c) = G(\\omega_d)$ \n",
    "\n",
    "L'astuce est de tricher..."
   ]
  },
  {
   "cell_type": "markdown",
   "metadata": {},
   "source": [
    "### 6- Compensation fréquentielle \n",
    "\n",
    "Il suffit de changer de $G(p)$ pour avoir un filtre passe-bas de gain K mais de **pulsation de cassure $\\omega_d$** au lieu de $\\omega_c$ qui correspond à $f_c=\\frac{Fe}{4}$ ici.\n",
    "\n",
    "\n",
    "Ainsi on aura $G(p=j\\omega_d)=\\frac{K}{1+i}$ avec les mêmes gains staiques et HF.\n",
    "\n",
    "Le passage en z donnera :\n",
    "$G_d(\\omega_c)=G(s(z)\\equiv j\\omega_d)=G(j\\omega_d)=\\frac{K}{1=i}$ qui fait le job pour $f_c$ !\n",
    "\n",
    "Reprenez vos calcul de coefficients mais changez le $\\tau$ pour effectuer le prewarp.\n",
    "\n"
   ]
  },
  {
   "cell_type": "code",
   "execution_count": 14,
   "metadata": {
    "tags": [],
    "vscode": {
     "languageId": "json"
    }
   },
   "outputs": [
    {
     "name": "stdout",
     "output_type": "stream",
     "text": [
      "gain_statique =  1\n",
      "gain_statique_compo =  1\n",
      "gain_Hf = -0\n",
      "warning: division by zero\n",
      "warning: called from\n",
      "    @<anonymous> at line 1 column 21\n",
      "gain_Hf_compo = -0\n",
      "gain_fc =  0.38151 - 0.48576i\n",
      "gain_fc_compo =  0.38151 - 0.48576i\n",
      "\n",
      "\n",
      "Pas de bon prewarp ! On veut 0.5 - 0.5 i = K/(1+i) comme gain..."
     ]
    }
   ],
   "source": [
    "clear all; close all; clc;\n",
    "Fe = 48e3;      % Fréquence d'échantillonnage [Hz]\n",
    "Te = 1/Fe;      % Période d'échantillonnage   [s] \n",
    "\n",
    "%% Parametres du filtre continu imposé\n",
    "K = 1;\n",
    "Fc = Fe/4;\n",
    "\n",
    "\n",
    "%% MODIFIEZ pour avoir un prewarp et un cassure à wd\n",
    "wc = 2*pi*Fc;\n",
    "tau = 1/wc;\n",
    "\n",
    "b0 = K*Te ;\n",
    "b1 = K*Te ; \n",
    "a0 = Te-2*tau; \n",
    "a1 = Te+2*tau; \n",
    "\n",
    "\n",
    "Gd = @(z) (b0 + b1 .* z ) ./ (a0 + a1*z ) ;\n",
    "S = @(z) (2/Te*(z-1)./(z+1));\n",
    "G = @(p) K./(1+tau*p) ;\n",
    "\n",
    "%% On vérifie avec le Gain statique\n",
    "gain_statique = Gd(1)\n",
    "gain_statique_compo = G(S(1))\n",
    "%% Gain Hautes fréquences\n",
    "gain_Hf = Gd(-1)\n",
    "gain_Hf_compo = G(S(-1))\n",
    "%% gain fc\n",
    "zc = exp(i*2*pi*Fc*Te);\n",
    "gain_fc = Gd(zc)\n",
    "gain_fc_compo = G(S(zc))\n",
    "\n",
    "if abs(gain_fc - K/(1+i))>0.001 \n",
    "    printf(\"\\n\\nPas de bon prewarp ! On veut 0.5 - 0.5 i = K/(1+i) comme gain...\")\n",
    "else\n",
    "    printf(\"\\n\\nTu es sur la bonne voie jeune padawan\")\n",
    "end\n"
   ]
  },
  {
   "cell_type": "markdown",
   "metadata": {
    "jp-MarkdownHeadingCollapsed": true,
    "tags": []
   },
   "source": [
    "### Corrigé"
   ]
  },
  {
   "cell_type": "code",
   "execution_count": 15,
   "metadata": {
    "tags": []
   },
   "outputs": [
    {
     "name": "stdout",
     "output_type": "stream",
     "text": [
      "gain_statique =  1.00000\n",
      "gain_statique_compo =  1\n",
      "gain_Hf = -0\n",
      "warning: division by zero\n",
      "warning: called from\n",
      "    @<anonymous> at line 1 column 21\n",
      "gain_Hf_compo = -0\n",
      "gain_fc =  0.50000 - 0.50000i\n",
      "gain_fc_compo =  0.50000 - 0.50000i\n",
      "\n",
      "\n",
      "Tu es sur la bonne voie jeune padawan"
     ]
    }
   ],
   "source": [
    "clear all; close all; clc;\n",
    "Fe = 48e3;      % Fréquence d'échantillonnage [Hz]\n",
    "Te = 1/Fe;      % Période d'échantillonnage   [s] \n",
    "\n",
    "%% Parametres du filtre continu imposé\n",
    "K = 1;\n",
    "Fc = Fe/4;\n",
    "\n",
    "\n",
    "%% MODIFIEZ pour avoir un prewarp et un cassure à wd\n",
    "wc = 2*pi*Fc;\n",
    "wd = 2/Te*tan(wc*Te/2);\n",
    "tau = 1/wd; % Oui on met s un tau qui casse pour wd\n",
    "\n",
    "b0 = K*Te ;\n",
    "b1 = K*Te ; \n",
    "a0 = Te-2*tau; \n",
    "a1 = Te+2*tau; \n",
    "\n",
    "\n",
    "Gd = @(z) (b0 + b1 .* z ) ./ (a0 + a1*z ) ;\n",
    "S = @(z) (2/Te*(z-1)./(z+1));\n",
    "G = @(p) K./(1+tau*p) ;\n",
    "\n",
    "%% On vérifie avec le Gain statique\n",
    "gain_statique = Gd(1)\n",
    "gain_statique_compo = G(S(1))\n",
    "%% Gain Hautes fréquences\n",
    "gain_Hf = Gd(-1)\n",
    "gain_Hf_compo = G(S(-1))\n",
    "%% gain fc\n",
    "zc = exp(i*2*pi*Fc*Te);\n",
    "gain_fc = Gd(zc)\n",
    "gain_fc_compo = G(S(zc))\n",
    "\n",
    "if abs(gain_fc - K/(1+i))>1e-9\n",
    "    printf(\"\\n\\nPas de bon prewarp ! On veut 0.5 - 0.5 i = K/(1+i) comme gain...\")\n",
    "else\n",
    "    printf(\"\\n\\nTu es sur la bonne voie jeune padawan\")\n",
    "end\n"
   ]
  },
  {
   "cell_type": "markdown",
   "metadata": {},
   "source": [
    "Si on retrace le Bode cela donne"
   ]
  },
  {
   "cell_type": "code",
   "execution_count": 106,
   "metadata": {
    "tags": []
   },
   "outputs": [
    {
     "name": "stdout",
     "output_type": "stream",
     "text": [
      "gain_continu_fc =  0.50000 - 0.50000i\n",
      "gain_discret_fc =  0.50000 - 0.50000i\n"
     ]
    },
    {
     "data": {
      "image/png": "[encoded data removed]",
      "text/plain": [
       "<IPython.core.display.Image object>"
      ]
     },
     "metadata": {},
     "output_type": "display_data"
    }
   ],
   "source": [
    "Df=1055; \n",
    "f = Df:Df:2*Fe ;  % vecteur que des positif >0\n",
    "w = 2*pi*f;       % vecteur des pulsation en radians par secondes\n",
    "p = j*w;          % vecteur complexes des équivalents harmoniques de p \n",
    "z = exp(Te*p);   % Avec le théorème du retard pour z.\n",
    "\n",
    "G = @(p) K./(1+p/wc) ;\n",
    "Gpre = @(p) K./(1+p/wd) ;\n",
    "\n",
    "G_continu = G(p);\n",
    "G_continu_pre = Gpre(p);\n",
    "G_discret = Gd(z);\n",
    "\n",
    "fc=Fe/4;\n",
    "\n",
    "gain_continu_fc = G(j*2*pi*fc)\n",
    "gain_discret_fc = Gd(exp(j*2*pi*fc*Te))\n",
    "\n",
    "\n",
    "% On affiche en linéaire module et argument \n",
    "subplot(211);\n",
    "semilogx(f, 20*log10(abs(G_continu)),'b'); hold on;\n",
    "semilogx(f, 20*log10(abs(G_continu_pre)),'b--'); hold on;\n",
    "semilogx(f, 20*log10(abs(G_discret)),'r');grid on;\n",
    "semilogx(fc, 20*log10(gain_continu_fc),'b+'); \n",
    "semilogx(fc, 20*log10(gain_discret_fc),'ro'); \n",
    "xlabel(\"f [Hz]\");\n",
    "ylabel(\"Module Gd(z) dB\")\n",
    "subplot(212);\n",
    "semilogx(f, angle(G_continu)/pi*180,'b'); hold on;\n",
    "semilogx(f, angle(G_continu_pre)/pi*180,'b--'); hold on;\n",
    "semilogx(fc, angle(gain_continu_fc)/pi*180,'b+'); \n",
    "semilogx(f, angle(G_discret)/pi*180,'r'); grid on;\n",
    "semilogx(fc, angle(gain_discret_fc)/pi*180,'ro'); \n",
    "xlabel(\"f [Hz]\")\n",
    "ylabel(\"Argument Gd(z) [deg]\")"
   ]
  },
  {
   "cell_type": "markdown",
   "metadata": {},
   "source": [
    "## 3 - Application : Ré-échantillonnage\n",
    "---\n",
    "\n",
    "**Exportez votre code dans un fichier .m** pour cela faites \n",
    "\n",
    "`File -> Save and export Notebooks as .. -> Executable script`\n",
    "\n",
    "Vous pouvez passer sous windows avec Matlab et aller dans `U:/signal_discret/tp/resample/sail_away.m`. \n",
    "\n",
    "Normalement le fichier .m est dans le répertoire `Download` de firefox.  \n",
    "Au pire prenez le `TP_bilineaire_ordre1.m`qui est dans ce répertoire `U:/signal_discret/tp/resample/`\n",
    "\n",
    "Vous pouvez rester sur linux et lancer octave dans un terminal \"CTRL+ALT+T\"\n",
    "\n",
    "\n",
    "        cd ~/signal_discret/tp/resample\n",
    "        octave --force-gui\n",
    "\n",
    "\n",
    "\n",
    "Ecoutez le fichier `sail_away.wav` qui est à Fe=96KHz.\n",
    "\n",
    "On aimerait le faire passer à Fe=8 kHz par décimation.\n",
    " - 1 - Ouvrez le fichier `sail_away.m`, faites la décimation et écoutez le `out.wav`\n",
    " - 2 - Modifez le fichier pour afficher les fft avant et après décimation\n",
    " - 3 - faites le filtrage qui va bien !\n"
   ]
  },
  {
   "cell_type": "code",
   "execution_count": null,
   "metadata": {},
   "outputs": [],
   "source": []
  }
 ],
 "metadata": {
  "kernelspec": {
   "display_name": "Octave",
   "language": "octave",
   "name": "octave"
  },
  "language_info": {
   "file_extension": ".m",
   "help_links": [
    {
     "text": "GNU Octave",
     "url": "https://www.gnu.org/software/octave/support.html"
    },
    {
     "text": "Octave Kernel",
     "url": "https://github.com/Calysto/octave_kernel"
    },
    {
     "text": "MetaKernel Magics",
     "url": "https://metakernel.readthedocs.io/en/latest/source/README.html"
    }
   ],
   "mimetype": "text/x-octave",
   "name": "octave",
   "version": "4.2.2"
  },
  "latex_envs": {
   "LaTeX_envs_menu_present": true,
   "autoclose": false,
   "autocomplete": true,
   "bibliofile": "biblio.bib",
   "cite_by": "apalike",
   "current_citInitial": 1,
   "eqLabelWithNumbers": true,
   "eqNumInitial": 1,
   "hotkeys": {
    "equation": "Ctrl-E",
    "itemize": "Ctrl-I"
   },
   "labels_anchors": false,
   "latex_user_defs": false,
   "report_style_numbering": false,
   "user_envs_cfg": false
  }
 },
 "nbformat": 4,
 "nbformat_minor": 4
}
