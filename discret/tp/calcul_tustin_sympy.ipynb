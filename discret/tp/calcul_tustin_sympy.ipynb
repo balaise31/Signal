{
 "cells": [
  {
   "cell_type": "code",
   "execution_count": 14,
   "id": "coated-duration",
   "metadata": {},
   "outputs": [
    {
     "name": "stdout",
     "output_type": "stream",
     "text": [
      "           2       \n",
      "       K⋅wₙ        \n",
      "───────────────────\n",
      " 2                2\n",
      "p  + 2⋅p⋅r⋅wₙ + wₙ \n"
     ]
    }
   ],
   "source": [
    "from sympy import *\n",
    "wn,zeta,K,Te=symbols(\"w_n, r, K,T_e\",real=True)\n",
    "p=symbols('p')\n",
    "second = K*wn**2/(p**2+2*zeta*wn*p+wn**2)\n",
    "pprint(second)"
   ]
  },
  {
   "cell_type": "code",
   "execution_count": 15,
   "id": "posted-timeline",
   "metadata": {},
   "outputs": [
    {
     "name": "stdout",
     "output_type": "stream",
     "text": [
      "                        2   2        2                   \n",
      "                    K⋅Tₑ ⋅wₙ ⋅(z + 1)                    \n",
      "─────────────────────────────────────────────────────────\n",
      "  2   2        2                                        2\n",
      "Tₑ ⋅wₙ ⋅(z + 1)  + 4⋅Tₑ⋅r⋅wₙ⋅(z - 1)⋅(z + 1) + 4⋅(z - 1) \n",
      "                     2   2  2         2   2         2   2                 \n",
      "                 K⋅Tₑ ⋅wₙ ⋅z  + 2⋅K⋅Tₑ ⋅wₙ ⋅z + K⋅Tₑ ⋅wₙ                  \n",
      "──────────────────────────────────────────────────────────────────────────\n",
      "  2   2                2 ⎛  2   2                ⎞     ⎛    2   2    ⎞    \n",
      "Tₑ ⋅wₙ  - 4⋅Tₑ⋅r⋅wₙ + z ⋅⎝Tₑ ⋅wₙ  + 4⋅Tₑ⋅r⋅wₙ + 4⎠ + z⋅⎝2⋅Tₑ ⋅wₙ  - 8⎠ + 4\n"
     ]
    },
    {
     "data": {
      "text/plain": [
       "0"
      ]
     },
     "execution_count": 15,
     "metadata": {},
     "output_type": "execute_result"
    }
   ],
   "source": [
    "z=symbols('z')\n",
    "Gz=simplify(second.subs({p: 2/Te*(z-1)/(z+1)}))\n",
    "pprint(Gz)\n",
    "\n",
    "# On décveloppe et fait un polynôme en z\n",
    "num=collect(expand(numer(Gz)),z)\n",
    "den=collect(expand(denom(Gz)),z)\n",
    "\n",
    "Ggz=num/den\n",
    "pprint(Ggz)\n",
    "\n",
    "\n",
    "# On vérifie nos jolis coefs\n",
    "K_prime=  K\n",
    "nume =(z+1)**2\n",
    "a2 = (1+4*zeta/(Te*wn)+4/(Te*wn)**2)\n",
    "a1 = (2-8/(Te*wn)**2)\n",
    "a0 = (1-4*zeta/(Te*wn)+4/(Te*wn)**2)\n",
    "dene = a2*z**2 + a1 * z + a0\n",
    "Gsimple = K_prime*nume/dene\n",
    "\n",
    "# On vérifie qu'il n'y as aps d'erreur\n",
    "simplify(Gz-Gsimple)\n"
   ]
  },
  {
   "cell_type": "code",
   "execution_count": 16,
   "id": "a79bf932",
   "metadata": {},
   "outputs": [
    {
     "name": "stdout",
     "output_type": "stream",
     "text": [
      "                                    2                           \n",
      "                           K⋅(z + 1)                            \n",
      "────────────────────────────────────────────────────────────────\n",
      " 2 ⎛     4⋅r       4   ⎞     ⎛       8   ⎞        4⋅r       4   \n",
      "z ⋅⎜1 + ───── + ───────⎟ + z⋅⎜2 - ───────⎟ + 1 - ───── + ───────\n",
      "   ⎜    Tₑ⋅wₙ     2   2⎟     ⎜      2   2⎟       Tₑ⋅wₙ     2   2\n",
      "   ⎝            Tₑ ⋅wₙ ⎠     ⎝    Tₑ ⋅wₙ ⎠               Tₑ ⋅wₙ \n"
     ]
    }
   ],
   "source": [
    "# On affiche la version polynomiale\n",
    "pprint(Gsimple)"
   ]
  },
  {
   "cell_type": "code",
   "execution_count": 17,
   "id": "0440c3b8",
   "metadata": {},
   "outputs": [
    {
     "data": {
      "text/plain": [
       "K"
      ]
     },
     "execution_count": 17,
     "metadata": {},
     "output_type": "execute_result"
    }
   ],
   "source": [
    "## Gain statique\n",
    "Gz.subs({z:1})\n"
   ]
  },
  {
   "cell_type": "code",
   "execution_count": 18,
   "id": "6c36e79a",
   "metadata": {},
   "outputs": [
    {
     "data": {
      "text/plain": [
       "0"
      ]
     },
     "execution_count": 18,
     "metadata": {},
     "output_type": "execute_result"
    }
   ],
   "source": [
    "## Gain hautes fréquences\n",
    "Gz.subs({z:-1})"
   ]
  },
  {
   "cell_type": "code",
   "execution_count": 20,
   "id": "ad590757-7bbe-4d24-b80b-9484b07c98d9",
   "metadata": {},
   "outputs": [
    {
     "name": "stdout",
     "output_type": "stream",
     "text": [
      "           2   2       \n",
      "       K⋅Tₑ ⋅wₙ        \n",
      "───────────────────────\n",
      "  2   2                \n",
      "Tₑ ⋅wₙ  - 4⋅Tₑ⋅r⋅wₙ + 4\n",
      "1\n",
      "2\n",
      "1\n",
      "  2   2                \n",
      "Tₑ ⋅wₙ  + 4⋅Tₑ⋅r⋅wₙ + 4\n",
      "───────────────────────\n",
      "  2   2                \n",
      "Tₑ ⋅wₙ  - 4⋅Tₑ⋅r⋅wₙ + 4\n",
      "      ⎛  2   2    ⎞    \n",
      "    2⋅⎝Tₑ ⋅wₙ  - 4⎠    \n",
      "───────────────────────\n",
      "  2   2                \n",
      "Tₑ ⋅wₙ  - 4⋅Tₑ⋅r⋅wₙ + 4\n",
      "1\n"
     ]
    }
   ],
   "source": [
    "## Coef du polynome avec a0 = 1\n",
    "pprint(simplify(K_prime/a0))\n",
    "pprint(simplify(b0))\n",
    "pprint(simplify(b1))\n",
    "pprint(simplify(b2))\n",
    "pprint(simplify(a2/a0))\n",
    "pprint(simplify(a1/a0))\n",
    "pprint(simplify(a0/a0))\n"
   ]
  },
  {
   "cell_type": "code",
   "execution_count": null,
   "id": "5b1e635c",
   "metadata": {},
   "outputs": [],
   "source": []
  }
 ],
 "metadata": {
  "interpreter": {
   "hash": "31f2aee4e71d21fbe5cf8b01ff0e069b9275f58929596ceb00d14d90e3e16cd6"
  },
  "kernelspec": {
   "display_name": "Python 3.6.9 64-bit",
   "language": "python",
   "name": "python3"
  },
  "language_info": {
   "codemirror_mode": {
    "name": "ipython",
    "version": 3
   },
   "file_extension": ".py",
   "mimetype": "text/x-python",
   "name": "python",
   "nbconvert_exporter": "python",
   "pygments_lexer": "ipython3",
   "version": "3.6.9"
  },
  "latex_envs": {
   "LaTeX_envs_menu_present": true,
   "autoclose": false,
   "autocomplete": true,
   "bibliofile": "biblio.bib",
   "cite_by": "apalike",
   "current_citInitial": 1,
   "eqLabelWithNumbers": true,
   "eqNumInitial": 1,
   "hotkeys": {
    "equation": "Ctrl-E",
    "itemize": "Ctrl-I"
   },
   "labels_anchors": false,
   "latex_user_defs": false,
   "report_style_numbering": false,
   "user_envs_cfg": false
  }
 },
 "nbformat": 4,
 "nbformat_minor": 5
}
