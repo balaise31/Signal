{
 "cells": [
  {
   "cell_type": "code",
   "execution_count": 34,
   "id": "coated-duration",
   "metadata": {},
   "outputs": [
    {
     "name": "stdout",
     "output_type": "stream",
     "text": [
      "           2       \n",
      "       K⋅wₙ        \n",
      "───────────────────\n",
      " 2                2\n",
      "p  + 2⋅p⋅r⋅wₙ + wₙ \n"
     ]
    }
   ],
   "source": [
    "from sympy import *\n",
    "wn,zeta,K,Te=symbols(\"w_n, r, K,T_e\",real=True)\n",
    "p=symbols('p')\n",
    "second = K*wn**2/(p**2+2*zeta*wn*p+wn**2)\n",
    "pprint(second)"
   ]
  },
  {
   "cell_type": "code",
   "execution_count": 58,
   "id": "posted-timeline",
   "metadata": {},
   "outputs": [
    {
     "name": "stdout",
     "output_type": "stream",
     "text": [
      "    2   2  2         2   2         2   2\n",
      "K⋅Tₑ ⋅wₙ ⋅z  + 2⋅K⋅Tₑ ⋅wₙ ⋅z + K⋅Tₑ ⋅wₙ \n",
      "  2   2                2 ⎛  2   2                ⎞     ⎛    2   2    ⎞    \n",
      "Tₑ ⋅wₙ  - 4⋅Tₑ⋅r⋅wₙ + z ⋅⎝Tₑ ⋅wₙ  + 4⋅Tₑ⋅r⋅wₙ + 4⎠ + z⋅⎝2⋅Tₑ ⋅wₙ  - 8⎠ + 4\n"
     ]
    },
    {
     "data": {
      "text/plain": [
       "False"
      ]
     },
     "execution_count": 58,
     "metadata": {},
     "output_type": "execute_result"
    }
   ],
   "source": [
    "\n",
    "z=symbols('z')\n",
    "Gz=simplify(second.subs({p: 2/Te*(z-1)/(z+1)}))\n",
    "num=collect(expand(numer(Gz)),z)\n",
    "den=collect(expand(denom(Gz)),z)\n",
    "\n",
    "Ggz=num/den\n",
    "pprint(num)\n",
    "pprint(den)\n",
    "\n",
    "Gz== num/den"
   ]
  },
  {
   "cell_type": "code",
   "execution_count": 22,
   "id": "coordinate-catalyst",
   "metadata": {},
   "outputs": [
    {
     "name": "stdout",
     "output_type": "stream",
     "text": [
      "Object `replace` not found.\n"
     ]
    }
   ],
   "source": []
  },
  {
   "cell_type": "code",
   "execution_count": null,
   "id": "linear-thermal",
   "metadata": {},
   "outputs": [],
   "source": []
  }
 ],
 "metadata": {
  "kernelspec": {
   "display_name": "Python 3.6.9 64-bit",
   "language": "python",
   "name": "python36964bit7550676ff3734273991625fac2be0219"
  },
  "language_info": {
   "codemirror_mode": {
    "name": "ipython",
    "version": 3
   },
   "file_extension": ".py",
   "mimetype": "text/x-python",
   "name": "python",
   "nbconvert_exporter": "python",
   "pygments_lexer": "ipython3",
   "version": "3.6.9"
  },
  "latex_envs": {
   "LaTeX_envs_menu_present": true,
   "autoclose": false,
   "autocomplete": true,
   "bibliofile": "biblio.bib",
   "cite_by": "apalike",
   "current_citInitial": 1,
   "eqLabelWithNumbers": true,
   "eqNumInitial": 1,
   "hotkeys": {
    "equation": "Ctrl-E",
    "itemize": "Ctrl-I"
   },
   "labels_anchors": false,
   "latex_user_defs": false,
   "report_style_numbering": false,
   "user_envs_cfg": false
  }
 },
 "nbformat": 4,
 "nbformat_minor": 5
}
