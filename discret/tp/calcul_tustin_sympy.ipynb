{
 "cells": [
  {
   "cell_type": "code",
   "execution_count": 77,
   "id": "coated-duration",
   "metadata": {},
   "outputs": [
    {
     "name": "stdout",
     "output_type": "stream",
     "text": [
      "           2       \n",
      "       K⋅wₙ        \n",
      "───────────────────\n",
      " 2                2\n",
      "p  + 2⋅p⋅r⋅wₙ + wₙ \n"
     ]
    }
   ],
   "source": [
    "from sympy import *\n",
    "wn,zeta,K,Te=symbols(\"w_n, r, K,T_e\",real=True)\n",
    "p=symbols('p')\n",
    "second = K*wn**2/(p**2+2*zeta*wn*p+wn**2)\n",
    "pprint(second)"
   ]
  },
  {
   "cell_type": "code",
   "execution_count": 81,
   "id": "posted-timeline",
   "metadata": {},
   "outputs": [
    {
     "name": "stdout",
     "output_type": "stream",
     "text": [
      "                        2   2        2                   \n",
      "                    K⋅Tₑ ⋅wₙ ⋅(z + 1)                    \n",
      "─────────────────────────────────────────────────────────\n",
      "  2   2        2                                        2\n",
      "Tₑ ⋅wₙ ⋅(z + 1)  + 4⋅Tₑ⋅r⋅wₙ⋅(z - 1)⋅(z + 1) + 4⋅(z - 1) \n",
      "                     2   2  2         2   2         2   2                 \n",
      "                 K⋅Tₑ ⋅wₙ ⋅z  + 2⋅K⋅Tₑ ⋅wₙ ⋅z + K⋅Tₑ ⋅wₙ                  \n",
      "──────────────────────────────────────────────────────────────────────────\n",
      "  2   2                2 ⎛  2   2                ⎞     ⎛    2   2    ⎞    \n",
      "Tₑ ⋅wₙ  - 4⋅Tₑ⋅r⋅wₙ + z ⋅⎝Tₑ ⋅wₙ  + 4⋅Tₑ⋅r⋅wₙ + 4⎠ + z⋅⎝2⋅Tₑ ⋅wₙ  - 8⎠ + 4\n",
      "                                    2                           \n",
      "                           K⋅(z + 1)                            \n",
      "────────────────────────────────────────────────────────────────\n",
      " 2 ⎛     4⋅r       4   ⎞     ⎛       8   ⎞        4⋅r       4   \n",
      "z ⋅⎜1 + ───── + ───────⎟ + z⋅⎜2 - ───────⎟ + 1 - ───── + ───────\n",
      "   ⎜    Tₑ⋅wₙ     2   2⎟     ⎜      2   2⎟       Tₑ⋅wₙ     2   2\n",
      "   ⎝            Tₑ ⋅wₙ ⎠     ⎝    Tₑ ⋅wₙ ⎠               Tₑ ⋅wₙ \n"
     ]
    },
    {
     "data": {
      "text/plain": [
       "0"
      ]
     },
     "execution_count": 81,
     "metadata": {},
     "output_type": "execute_result"
    }
   ],
   "source": [
    "z=symbols('z')\n",
    "Gz=simplify(second.subs({p: 2/Te*(z-1)/(z+1)}))\n",
    "\n",
    "pprint(Gz)\n",
    "num=collect(expand(numer(Gz)),z)\n",
    "den=collect(expand(denom(Gz)),z)\n",
    "\n",
    "Ggz=num/den\n",
    "pprint(Ggz)\n",
    "\n",
    "K_prime=  K\n",
    "nume =(z+1)**2\n",
    "dene = (1+4*zeta/(Te*wn)+4/(Te*wn)**2)*z**2 + (2-8/(Te*wn)**2) * z + (1-4*zeta/(Te*wn)+4/(Te*wn)**2)\n",
    "Gsimple = K_prime*nume/dene\n",
    "pprint(Gsimple)\n",
    "simplify(Gz-Gsimple)\n"
   ]
  },
  {
   "cell_type": "code",
   "execution_count": 7,
   "id": "0440c3b8",
   "metadata": {},
   "outputs": [
    {
     "data": {
      "text/plain": [
       "K"
      ]
     },
     "execution_count": 7,
     "metadata": {},
     "output_type": "execute_result"
    }
   ],
   "source": [
    "Gz.subs({z:1})\n"
   ]
  },
  {
   "cell_type": "code",
   "execution_count": 8,
   "id": "6c36e79a",
   "metadata": {},
   "outputs": [
    {
     "data": {
      "text/plain": [
       "0"
      ]
     },
     "execution_count": 8,
     "metadata": {},
     "output_type": "execute_result"
    }
   ],
   "source": [
    "Gz.subs({z:-1})"
   ]
  },
  {
   "cell_type": "code",
   "execution_count": 80,
   "id": "ad590757-7bbe-4d24-b80b-9484b07c98d9",
   "metadata": {},
   "outputs": [
    {
     "name": "stdout",
     "output_type": "stream",
     "text": [
      "    2   2  2         2   2         2   2\n",
      "K⋅Tₑ ⋅wₙ ⋅z  + 2⋅K⋅Tₑ ⋅wₙ ⋅z + K⋅Tₑ ⋅wₙ \n",
      "────────────────────────────────────────\n",
      "                  2   2                 \n",
      "                Tₑ ⋅wₙ                  \n"
     ]
    },
    {
     "ename": "IndexError",
     "evalue": "list index out of range",
     "output_type": "error",
     "traceback": [
      "\u001b[0;31m---------------------------------------------------------------------------\u001b[0m",
      "\u001b[0;31mIndexError\u001b[0m                                Traceback (most recent call last)",
      "\u001b[0;32m<ipython-input-80-fc3dfa80334d>\u001b[0m in \u001b[0;36m<module>\u001b[0;34m()\u001b[0m\n\u001b[1;32m      1\u001b[0m \u001b[0mpprint\u001b[0m\u001b[0;34m(\u001b[0m\u001b[0mnum\u001b[0m\u001b[0;34m)\u001b[0m\u001b[0;34m\u001b[0m\u001b[0;34m\u001b[0m\u001b[0m\n\u001b[1;32m      2\u001b[0m \u001b[0mb2\u001b[0m \u001b[0;34m=\u001b[0m \u001b[0mnum\u001b[0m\u001b[0;34m.\u001b[0m\u001b[0mas_ordered_terms\u001b[0m\u001b[0;34m(\u001b[0m\u001b[0;34m)\u001b[0m\u001b[0;34m[\u001b[0m\u001b[0;36m0\u001b[0m\u001b[0;34m]\u001b[0m\u001b[0;34m/\u001b[0m\u001b[0mz\u001b[0m\u001b[0;34m**\u001b[0m\u001b[0;36m2\u001b[0m\u001b[0;34m\u001b[0m\u001b[0;34m\u001b[0m\u001b[0m\n\u001b[0;32m----> 3\u001b[0;31m \u001b[0mb1\u001b[0m \u001b[0;34m=\u001b[0m \u001b[0mnum\u001b[0m\u001b[0;34m.\u001b[0m\u001b[0mas_ordered_terms\u001b[0m\u001b[0;34m(\u001b[0m\u001b[0;34m)\u001b[0m\u001b[0;34m[\u001b[0m\u001b[0;36m1\u001b[0m\u001b[0;34m]\u001b[0m\u001b[0;34m/\u001b[0m\u001b[0mz\u001b[0m\u001b[0;34m\u001b[0m\u001b[0;34m\u001b[0m\u001b[0m\n\u001b[0m\u001b[1;32m      4\u001b[0m \u001b[0mb0\u001b[0m \u001b[0;34m=\u001b[0m \u001b[0mnum\u001b[0m\u001b[0;34m.\u001b[0m\u001b[0mas_ordered_terms\u001b[0m\u001b[0;34m(\u001b[0m\u001b[0;34m)\u001b[0m\u001b[0;34m[\u001b[0m\u001b[0;36m2\u001b[0m\u001b[0;34m]\u001b[0m\u001b[0;34m/\u001b[0m\u001b[0;36m1\u001b[0m\u001b[0;34m\u001b[0m\u001b[0;34m\u001b[0m\u001b[0m\n\u001b[1;32m      5\u001b[0m \u001b[0;31m#a1 = num.coeff(z)\u001b[0m\u001b[0;34m\u001b[0m\u001b[0;34m\u001b[0m\u001b[0;34m\u001b[0m\u001b[0m\n",
      "\u001b[0;31mIndexError\u001b[0m: list index out of range"
     ]
    }
   ],
   "source": [
    "pprint(num)\n",
    "b2 = num.as_ordered_terms()[0]/z**2\n",
    "b1 = num.as_ordered_terms()[1]/z\n",
    "b0 = num.as_ordered_terms()[2]/1\n",
    "#a1 = num.coeff(z)\n",
    "#a2 = num.coeff(z**2)\n",
    "#a0 = les_a[0]\n",
    "#a1 = les_a[1]\n",
    "#a2 = les_a[2]\n",
    "K_prime = K\n",
    "fact = b0/K_prime\n",
    "b1 = b1/b0\n",
    "b2 = b2/b0\n",
    "b0 = 1\n",
    "pprint(K_prime)\n",
    "pprint(b0)\n",
    "pprint(b1)\n",
    "pprint(b2)"
   ]
  },
  {
   "cell_type": "code",
   "execution_count": 76,
   "id": "76a9e3fd-b388-4b29-864c-edd5ae84ce07",
   "metadata": {},
   "outputs": [
    {
     "name": "stdout",
     "output_type": "stream",
     "text": [
      "  2   2                2 ⎛  2   2                ⎞     ⎛    2   2    ⎞    \n",
      "Tₑ ⋅wₙ  - 4⋅Tₑ⋅r⋅wₙ + z ⋅⎝Tₑ ⋅wₙ  + 4⋅Tₑ⋅r⋅wₙ + 4⎠ + z⋅⎝2⋅Tₑ ⋅wₙ  - 8⎠ + 4\n",
      "──────────────────────────────────────────────────────────────────────────\n",
      "                                   6   6                                  \n",
      "                                 Tₑ ⋅wₙ                                   \n"
     ]
    },
    {
     "ename": "IndexError",
     "evalue": "list index out of range",
     "output_type": "error",
     "traceback": [
      "\u001b[0;31m---------------------------------------------------------------------------\u001b[0m",
      "\u001b[0;31mIndexError\u001b[0m                                Traceback (most recent call last)",
      "\u001b[0;32m<ipython-input-76-06c05fef901a>\u001b[0m in \u001b[0;36m<module>\u001b[0;34m()\u001b[0m\n\u001b[1;32m      1\u001b[0m \u001b[0mden\u001b[0m \u001b[0;34m=\u001b[0m \u001b[0mcollect\u001b[0m\u001b[0;34m(\u001b[0m\u001b[0mden\u001b[0m\u001b[0;34m/\u001b[0m\u001b[0mfact\u001b[0m\u001b[0;34m,\u001b[0m\u001b[0mz\u001b[0m\u001b[0;34m)\u001b[0m\u001b[0;34m\u001b[0m\u001b[0;34m\u001b[0m\u001b[0m\n\u001b[1;32m      2\u001b[0m \u001b[0mpprint\u001b[0m\u001b[0;34m(\u001b[0m\u001b[0mden\u001b[0m\u001b[0;34m)\u001b[0m\u001b[0;34m\u001b[0m\u001b[0;34m\u001b[0m\u001b[0m\n\u001b[0;32m----> 3\u001b[0;31m \u001b[0ma2\u001b[0m \u001b[0;34m=\u001b[0m \u001b[0mden\u001b[0m\u001b[0;34m.\u001b[0m\u001b[0mas_ordered_terms\u001b[0m\u001b[0;34m(\u001b[0m\u001b[0;34m)\u001b[0m\u001b[0;34m[\u001b[0m\u001b[0;36m2\u001b[0m\u001b[0;34m]\u001b[0m\u001b[0;34m/\u001b[0m\u001b[0mfact\u001b[0m\u001b[0;34m/\u001b[0m\u001b[0mz\u001b[0m\u001b[0;34m**\u001b[0m\u001b[0;36m2\u001b[0m\u001b[0;34m\u001b[0m\u001b[0;34m\u001b[0m\u001b[0m\n\u001b[0m\u001b[1;32m      4\u001b[0m \u001b[0ma1\u001b[0m \u001b[0;34m=\u001b[0m \u001b[0mden\u001b[0m\u001b[0;34m.\u001b[0m\u001b[0mas_ordered_terms\u001b[0m\u001b[0;34m(\u001b[0m\u001b[0;34m)\u001b[0m\u001b[0;34m[\u001b[0m\u001b[0;36m3\u001b[0m\u001b[0;34m]\u001b[0m\u001b[0;34m/\u001b[0m\u001b[0mfact\u001b[0m\u001b[0;34m/\u001b[0m\u001b[0mz\u001b[0m\u001b[0;34m\u001b[0m\u001b[0;34m\u001b[0m\u001b[0m\n\u001b[1;32m      5\u001b[0m \u001b[0ma0\u001b[0m \u001b[0;34m=\u001b[0m \u001b[0mden\u001b[0m\u001b[0;34m/\u001b[0m\u001b[0mfact\u001b[0m \u001b[0;34m-\u001b[0m\u001b[0ma2\u001b[0m\u001b[0;34m*\u001b[0m\u001b[0mz\u001b[0m\u001b[0;34m**\u001b[0m\u001b[0;36m2\u001b[0m\u001b[0;34m+\u001b[0m\u001b[0ma1\u001b[0m\u001b[0;34m*\u001b[0m\u001b[0mz\u001b[0m\u001b[0;34m\u001b[0m\u001b[0;34m\u001b[0m\u001b[0m\n",
      "\u001b[0;31mIndexError\u001b[0m: list index out of range"
     ]
    }
   ],
   "source": [
    "den = collect(den/fact,z)\n",
    "pprint(den)\n",
    "a2 = den.as_ordered_terms()[2]/fact/z**2\n",
    "a1 = den.as_ordered_terms()[3]/fact/z\n",
    "a0 = den/fact -a2*z**2+a1*z\n",
    "#a1 = num.coeff(z)\n",
    "#a2 = num.coeff(z**2)\n",
    "#a0 = les_a[0]\n",
    "#a1 = les_a[1]\n",
    "#a2 = les_a[2]\n",
    "K_prime = a0\n",
    "a1 = a1/a0\n",
    "a2 = a2/a0\n",
    "a0 = 1\n",
    "pprint(K_prime)\n",
    "pprint(a0)\n",
    "pprint(a1)\n",
    "pprint(a2)"
   ]
  },
  {
   "cell_type": "code",
   "execution_count": null,
   "id": "fa9a04b6-4718-459e-92fe-ed0932f67607",
   "metadata": {},
   "outputs": [],
   "source": []
  }
 ],
 "metadata": {
  "interpreter": {
   "hash": "31f2aee4e71d21fbe5cf8b01ff0e069b9275f58929596ceb00d14d90e3e16cd6"
  },
  "kernelspec": {
   "display_name": "Python 3.6.9 64-bit",
   "language": "python",
   "name": "python36964bit7550676ff3734273991625fac2be0219"
  },
  "language_info": {
   "codemirror_mode": {
    "name": "ipython",
    "version": 3
   },
   "file_extension": ".py",
   "mimetype": "text/x-python",
   "name": "python",
   "nbconvert_exporter": "python",
   "pygments_lexer": "ipython3",
   "version": "3.6.9"
  },
  "latex_envs": {
   "LaTeX_envs_menu_present": true,
   "autoclose": false,
   "autocomplete": true,
   "bibliofile": "biblio.bib",
   "cite_by": "apalike",
   "current_citInitial": 1,
   "eqLabelWithNumbers": true,
   "eqNumInitial": 1,
   "hotkeys": {
    "equation": "Ctrl-E",
    "itemize": "Ctrl-I"
   },
   "labels_anchors": false,
   "latex_user_defs": false,
   "report_style_numbering": false,
   "user_envs_cfg": false
  }
 },
 "nbformat": 4,
 "nbformat_minor": 5
}
