{
 "cells": [
  {
   "cell_type": "code",
   "execution_count": 1,
   "id": "coated-duration",
   "metadata": {},
   "outputs": [
    {
     "name": "stdout",
     "output_type": "stream",
     "text": [
      "             2       \n",
      "        K⋅w_n        \n",
      "─────────────────────\n",
      " 2                  2\n",
      "p  + 2⋅p⋅r⋅w_n + w_n \n"
     ]
    }
   ],
   "source": [
    "from sympy import *\n",
    "wn,zeta,K,Te=symbols(\"w_n, r, K,T_e\",real=True)\n",
    "p=symbols('p')\n",
    "second = K*wn**2/(p**2+2*zeta*wn*p+wn**2)\n",
    "pprint(second)"
   ]
  },
  {
   "cell_type": "code",
   "execution_count": 2,
   "id": "posted-timeline",
   "metadata": {},
   "outputs": [
    {
     "name": "stdout",
     "output_type": "stream",
     "text": [
      "    2    2  2         2    2         2    2\n",
      "K⋅Tₑ ⋅w_n ⋅z  + 2⋅K⋅Tₑ ⋅w_n ⋅z + K⋅Tₑ ⋅w_n \n",
      "  2    2                 2 ⎛  2    2                 ⎞     ⎛    2    2    ⎞   \n",
      "Tₑ ⋅w_n  - 4⋅Tₑ⋅r⋅w_n + z ⋅⎝Tₑ ⋅w_n  + 4⋅Tₑ⋅r⋅w_n + 4⎠ + z⋅⎝2⋅Tₑ ⋅w_n  - 8⎠ + \n",
      "\n",
      " \n",
      "4\n"
     ]
    },
    {
     "data": {
      "text/plain": [
       "False"
      ]
     },
     "execution_count": 2,
     "metadata": {},
     "output_type": "execute_result"
    }
   ],
   "source": [
    "\n",
    "z=symbols('z')\n",
    "Gz=simplify(second.subs({p: 2/Te*(z-1)/(z+1)}))\n",
    "num=collect(expand(numer(Gz)),z)\n",
    "den=collect(expand(denom(Gz)),z)\n",
    "\n",
    "Ggz=num/den\n",
    "pprint(num)\n",
    "pprint(den)\n",
    "\n",
    "Gz== num/den"
   ]
  }
 ],
 "metadata": {
  "kernelspec": {
   "display_name": "Python 2",
   "language": "python",
   "name": "python2"
  },
  "language_info": {
   "codemirror_mode": {
    "name": "ipython",
    "version": 2
   },
   "file_extension": ".py",
   "mimetype": "text/x-python",
   "name": "python",
   "nbconvert_exporter": "python",
   "pygments_lexer": "ipython2",
   "version": "2.7.17"
  },
  "latex_envs": {
   "LaTeX_envs_menu_present": true,
   "autoclose": false,
   "autocomplete": true,
   "bibliofile": "biblio.bib",
   "cite_by": "apalike",
   "current_citInitial": 1,
   "eqLabelWithNumbers": true,
   "eqNumInitial": 1,
   "hotkeys": {
    "equation": "Ctrl-E",
    "itemize": "Ctrl-I"
   },
   "labels_anchors": false,
   "latex_user_defs": false,
   "report_style_numbering": false,
   "user_envs_cfg": false
  }
 },
 "nbformat": 4,
 "nbformat_minor": 5
}
