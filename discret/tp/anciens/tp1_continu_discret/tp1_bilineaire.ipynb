{
 "cells": [
  {
   "cell_type": "markdown",
   "metadata": {
    "tags": []
   },
   "source": [
    "---\n",
    "# TP1 Bilinéaire : Synthèse de filtres à partir du continu\n",
    "---\n",
    "\n",
    "|  [Readme du TP](../README.ipynb) | Sujet | Corrigé |\n",
    "|--------|-------|---------|\n",
    "|Python  | [sujet python](./tp1_bilineaire_python.ipynb) | [corrigé python](./tp1_bilineaire_python_corr.ipynb) |\n",
    "|Octave  | [sujet octave](./tp1_bilineaire.ipynb) | [corrigé octave](./tp1_bilineaire_corr.ipynb) |\n",
    "\n",
    "\n",
    "\n",
    "Allez voir le [Readme du TP](../README.ipynb) vous y trouverez le déroulé avec:\n",
    " - le travail préparatoire papier (TD)\n",
    " - le travail préparatoire Notebook (TD maison)\n",
    " - le script d'installation pour l'INSA,\n",
    " - des vidéos explicatives de la méthode bilinéaire.\n",
    " \n",
    "Après avoir exécuté le [script d'installation INSA](../../installation/README.md#etudiante-insa), la commande `go_signal` doit s'exécuter dans un terminal et lancer un **jupyter-lab avec kernel octave** pouvant exécuter du code Matlab/octave.\n",
    "\n"
   ]
  },
  {
   "cell_type": "markdown",
   "metadata": {},
   "source": [
    "# But du TP\n",
    "\n",
    "On souhaite réaliser un filtre du second ordre résonnant avec la méthode de la transformation bilinéaire.\n",
    "Pour cela on rédige un script capable de faire cette synthèse pour n'importe quelle fréquence naturelle $\\omega_n$ et facteur d'amortissement $\\zeta$.\n",
    "\n",
    "$G(p) = \\frac{\\omega_n^2}{p^2+ 2\\zeta\\omega_n\\,p+{\\omega_n}^2}$\n",
    "\n",
    "![](https://i.stack.imgur.com/J0Ste.png)\n",
    "\n"
   ]
  },
  {
   "cell_type": "markdown",
   "metadata": {
    "tags": []
   },
   "source": [
    "## 1 - Vérification du calcul analytique\n",
    "---\n",
    "Dans le [travail préparatoire](../FILT_prepa_tp1.ipynb) vous avez pu trouver l'expression analytique des coefficients de la recurrence du filtre discret à partir de la transformée bilinéaire (ou trapezoidale ou tusin) de la forme :\n",
    "\n",
    "$$\n",
    "a_0.y[k]  =  a_1 .y[k-1] + a_2. y[k-2] + b_0. x[k] + b_1. x[k-1] + b_2. x[k-2]\n",
    "$$\n",
    "\n",
    "On rencontre dans la littérature (et les outils de calcul) plusieurs conventions de représentation :\n",
    "  - $G_d(z) = K'. \\frac{1 + b_1 z^{-1} + b_2 z^{-2}}{1 + a_1 z^{-1} + a_2 z^{-2}}$ ou bien $G_d(z) = K'. \\frac{b_2 z^{2}+ b_1 z + 1}{a_2 z^{2} +  a_1 z + 1}$\n",
    "  - $G_d(z) = K'. \\frac{1 + b_1 z^{-1} + b_2 z^{-2}}{1 - a_1 z^{-1} - a_2 z^{-2}}$ \n",
    "  - $G_d(z) = \\frac{b_0 + b_1 z^{-1} + b_2 z^{-2}}{1 - a_1 z^{-1} - a_2 z^{-2}}$ \n",
    "  - $G_d(z) = \\frac{b_0 + b_1 z^{-1} + b_2 z^{-2}}{1 + a_1 z^{-1} + a_2 z^{-2}}$ ou bien $G_d(z) = \\frac{b_2 z^{2}+ b_1 z + b_0}{a_2 z^{2} +  a_1 z + b_0}$\n",
    "\n",
    "> **Attention 1 ! En discret  K' n'est PAS le gain statique**  \n",
    "> **Attention 2 ! Erreur de signe fréquente entre la récurrence et $G_g$**. La récurrence ci-dessus correspond à une seule de ces fonction de transfert, sinon il faut modifier les coefficient ($-a_1$, diviser par $b_0$; mulitplier par K' etc.) \n",
    "\n",
    "\n",
    "Faites un script qui donne la valeur de ces coefficients en fonction de $\\omega_n$, $\\zeta$ et $T_e$ calculés avec votre formule théorique. On prendra la dernière représentation de $G_d$ qui est compatible Matlab/octave :  \n",
    "\n",
    "$G_d(z) = \\frac{b_2 z^{2}+ b_1 z + b_0}{a_2 z^{2} +  a_1 z + a_0}$ avec $a_2=1$\n",
    "\n",
    "\n",
    "\n",
    "Corrigez les nombreuses erreurs du code ci-dessous.  \n",
    "On prendra une fréquence propre $w_n=2000$ rad/s, $\\zeta=0.25$ et $F_e = 1$ kHz pour ce calcul : on a ainsi $\\omega_n.T_e=2$. \n"
   ]
  },
  {
   "cell_type": "code",
   "execution_count": 4,
   "metadata": {
    "tags": [],
    "vscode": {
     "languageId": "json"
    }
   },
   "outputs": [
    {
     "name": "stdout",
     "output_type": "stream",
     "text": [
      "num_math =\n",
      "\n",
      "   0.40000   0.80000   0.40000\n",
      "\n",
      "den_math =\n",
      "\n",
      "   1.00000   0.00000   0.60000\n",
      "\n"
     ]
    }
   ],
   "source": [
    "clear all; close all; clc;\n",
    "%% ADAPTER et CORRIGER ce code d'init.\n",
    "%% Parametres du filtre continu désiré\n",
    "wn = 1 ;          % pulsation propre [rad/s]\n",
    "zeta = 0.707; % facteur d'amortissement [1]\n",
    "\n",
    "%% Paramètres du filtre discret imposés\n",
    "Fe = 48e3 ;       % Fréquence d'échantillonnage [Hz]\n",
    "Te = 0.001;     % Période d'échantillonnage   [s] \n",
    "\n",
    "%% MODIFIEZ avec vos formules les paramètres de récurrence\n",
    "% du genre \n",
    "% b2 = (1-4*zeta/(Te*wn)+4/(Te*wn)**2)\n",
    "K=1;\n",
    "b0 = 0.4 ;\n",
    "b1 = 0.8 ; \n",
    "b2 = 0.4 ; \n",
    "a0 = 0.6; \n",
    "a1 = 0; \n",
    "a2 = 1;\n",
    "\n",
    "\n",
    "%% On affiche les vecteurs de coefs \n",
    "num_math=[b2 b1 b0]\n",
    "den_math=[a2 a1 a0]\n"
   ]
  },
  {
   "cell_type": "markdown",
   "metadata": {},
   "source": [
    "### Pour vérifier\n",
    "\n",
    "On peut créer une **fonction anonyme** capable d'évaluer la fonction de transfert pour une valeur de z donnée.\n",
    "\n",
    "Par exemple `f = @(x,a) 3+x^2*a;` définit en une ligne la fonction $f: (x, a) \\mapsto 2+ a\\,x^2$ ce qui pourrait être fait de manière équivalente par\n",
    "```octave\n",
    "function val = f(x,a)\n",
    "    val = 2 + a * x^2\n",
    "end\n",
    "```\n",
    "\n",
    "On calcule ensuite avec cette fonction le gains statique et le gain HF :"
   ]
  },
  {
   "cell_type": "code",
   "execution_count": 8,
   "metadata": {},
   "outputs": [
    {
     "name": "stdout",
     "output_type": "stream",
     "text": [
      "gain_statique =  1\n",
      "gain_Hf = 0\n",
      "Il est possible qu'il y ait une erreur...\n"
     ]
    }
   ],
   "source": [
    "%% CORRIGEZ l'étourderie dans ce qui suit\n",
    "% On définit la fonction de transfert (où z peut être vecteur)\n",
    "Gd = @(z) (b0 + b1 .* z.^(-1) + b2 .* z.^(-2)) ./ (a0 + a1*z.^(-1) + a2*z.^(-2) ) ;\n",
    "% Indice pour l'erreur : convention Matlab !\n",
    "\n",
    "%% On vérifie avec le Gain statique\n",
    "gain_statique = Gd(1)\n",
    "%% Gain Hautes fréquences\n",
    "gain_Hf = Gd(-1)\n",
    "%% Plein de gains\n",
    "Gd(0:0.1:1);\n",
    "%% On vérrifie Gd(z=i) <-> f=Fe/4\n",
    "if abs(Gd(i)+2*i)<1e-10\n",
    "    disp(\"Vous semblez avoir corrigé l'erreur\");\n",
    "else\n",
    "    disp(\"Il est possible qu'il y ait une erreur...\");\n",
    "end"
   ]
  },
  {
   "cell_type": "markdown",
   "metadata": {},
   "source": [
    "Lancez une console avec `File->New Console For Notebook` et dedans tapez `who` ou tout autre commande à tester.  \n",
    "Par exemple lancez `Gd([1; i; -1])` pour voir ce que cela donne..."
   ]
  },
  {
   "cell_type": "markdown",
   "metadata": {},
   "source": [
    "### Verif avec la boite à outils \"control\"\n",
    "\n",
    "On va comparer ces valeurs avec celles trouvées numériquement par la fonction `c2d` : \"continuous 2 discrete\" avec l'argument `\"bilinear\"`.\n",
    "\n",
    "On peut accéder à la [doc de c2d](https://octave.sourceforge.io/control/function/@lti/c2d.html) en ligne (le help ne marche pas pour cette version)\n",
    "\n",
    "Ces valeurs doivent coller à 1ppm près. Sinon revenez avec un prof sur vos calculs et vérifications."
   ]
  },
  {
   "cell_type": "code",
   "execution_count": 171,
   "metadata": {
    "vscode": {
     "languageId": "json"
    }
   },
   "outputs": [
    {
     "name": "stdout",
     "output_type": "stream",
     "text": [
      "\n",
      "Transfer function 'G_de_p' from input 'u1' to output ...\n",
      "\n",
      "      6 s^2 + 6 s + 6\n",
      " y1:  ---------------\n",
      "      9 s^2 + 9 s + 9\n",
      "\n",
      "Continuous-time model.\n",
      "\n",
      "Transfer function 'Gd_c2d' from input 'u1' to output ...\n",
      "\n",
      " y1:  0.6667\n",
      "\n",
      "Sampling time: 1 s\n",
      "Discrete-time model.\n"
     ]
    }
   ],
   "source": [
    "%% Pour octave seulement il faut charger le package control\n",
    "%% Avec matlab inutile et commentez cette ligne\n",
    "pkg load control\n",
    "\n",
    "%% VOTRE CODE G_de_p = tf....\n",
    "% déclarant la fonction de transfert en continu\n",
    "% faire \"help tf\" dans une console si nécessaire \n",
    "G_de_p = tf([6,6,6],[9,9,9])\n",
    "\n",
    "%% VOTRE CODE Gd_c2d = c2d(...)\n",
    "% passant du continu au discret la fonction de transfert\n",
    "% c2d prend en argument une TF et en second argument Te\n",
    "% puis la méthode \"zoh\", \"bilinear\" etc.\n",
    "Gd_c2d = c2d(G_de_p,1,\"zoh\")\n"
   ]
  },
  {
   "cell_type": "markdown",
   "metadata": {},
   "source": [
    "On verifies que les vecteurs de coefficients trouvés avec c2d et ceux que vous avez analytiquement sont les mêmes.\n"
   ]
  },
  {
   "cell_type": "code",
   "execution_count": 172,
   "metadata": {},
   "outputs": [
    {
     "name": "stdout",
     "output_type": "stream",
     "text": [
      "\n",
      "Mauvais numérateurs !\n",
      "num_err =\n",
      "\n",
      "   0.26667  -0.13333   0.26667\n",
      "\n",
      "Mauvais dénominateur !\n",
      "den_err =\n",
      "\n",
      "   0.00000   1.00000   0.40000\n",
      "\n"
     ]
    }
   ],
   "source": [
    "%% On extrait les coefficients avec .num et .den\n",
    "num_c2d = Gd_c2d.num{1};\n",
    "den_c2d = Gd_c2d.den{1};\n",
    "\n",
    "\n",
    "%% On vérifie que cela colle\n",
    "disp(\"\")\n",
    "num_err = num_c2d-num_math;\n",
    "den_err = den_c2d-den_math;\n",
    "\n",
    "if (num_err * num_err' > 1e-6)\n",
    " disp('Mauvais numérateurs !')\n",
    " num_err\n",
    "else\n",
    " disp('Bon numérateur')\n",
    " erreur_de = num_err*num_err'\n",
    "end\n",
    "if (den_err * den_err' > 1e-6)\n",
    " disp('Mauvais dénominateur !')\n",
    " den_err\n",
    "else\n",
    " disp('Bon dénominateur')\n",
    " erreur_de = den_err*den_err'\n",
    "end"
   ]
  },
  {
   "cell_type": "markdown",
   "metadata": {
    "tags": []
   },
   "source": [
    "On pourrait continuer d'utiliser les outils d'octave/Matlab notamment pour afficher \n",
    "  - la réponse harmonique avec `bode`\n",
    "  - la réponse indicielle avec `step`\n",
    "  - les poles et les zéros avec `pzmap`\n",
    "\n",
    "Mais ces outils sont parfois obscurs et inadaptés. Et dans notre cas n'aportent pas grand-chose.\n",
    "\n",
    "Nous allons afficher la réponse harmonique par nos propres moyens et pouvoir voir sa périodicité sous différentes échelles  \n",
    "**ce que ne permet pas la fonction bode !**"
   ]
  },
  {
   "cell_type": "code",
   "execution_count": 150,
   "metadata": {
    "vscode": {
     "languageId": "json"
    }
   },
   "outputs": [
    {
     "data": {
      "image/png": "[encoded data removed]",
      "text/plain": [
       "<IPython.core.display.Image object>"
      ]
     },
     "metadata": {},
     "output_type": "display_data"
    }
   ],
   "source": [
    "bode(Gd_c2d)"
   ]
  },
  {
   "cell_type": "code",
   "execution_count": 151,
   "metadata": {
    "vscode": {
     "languageId": "json"
    }
   },
   "outputs": [
    {
     "data": {
      "image/png": "[encoded data removed]",
      "text/plain": [
       "<IPython.core.display.Image object>"
      ]
     },
     "metadata": {},
     "output_type": "display_data"
    }
   ],
   "source": [
    "step(Gd_c2d)"
   ]
  },
  {
   "cell_type": "code",
   "execution_count": 152,
   "metadata": {
    "vscode": {
     "languageId": "json"
    }
   },
   "outputs": [
    {
     "data": {
      "image/png": "[encoded data removed]",
      "text/plain": [
       "<IPython.core.display.Image object>"
      ]
     },
     "metadata": {},
     "output_type": "display_data"
    }
   ],
   "source": [
    "pzmap(Gd_c2d);hold on;\n",
    "plot(cos(2*pi*(0:0.01:1)),sin(2*pi*(0:0.01:1)))"
   ]
  },
  {
   "cell_type": "markdown",
   "metadata": {},
   "source": [
    "## 2 - Réponse harmonique \n",
    "---\n",
    "Tracez la réponse harmonique du filtre continu et superposez-la avec celle de votre filtre numérique. \n",
    "\n",
    "Préférez l'utilisation de vecteurs $f$, $p$, $z$ et des outils **plots** (comme dans les exemples du notebook du [corrige TD FILT prepa bilineaire](../FILT_prepa_bilineaire_octave_corr.ipynb))\n",
    "\n",
    "\n",
    "Faites un affichage du :\n",
    " - gain de la fonction de transfert en continu en noir (plot avec 'k')\n",
    " - de celui de celle en continu en rouge (avec 'r')  \n",
    " \n",
    "avec en abscisse les fréquences linéaires (plot) et en ordonnée le gain en échelle linéaire (abs).\n",
    "\n"
   ]
  },
  {
   "cell_type": "code",
   "execution_count": 176,
   "metadata": {
    "vscode": {
     "languageId": "json"
    }
   },
   "outputs": [
    {
     "data": {
      "image/png": "[encoded data removed]",
      "text/plain": [
       "<IPython.core.display.Image object>"
      ]
     },
     "metadata": {},
     "output_type": "display_data"
    }
   ],
   "source": [
    "Df = Fe/100;        % résolution fréquentielle d'affichage\n",
    "f = -Fe: Df: 2*Fe ; % vecteur des fréqeunces [Hz]\n",
    "\n",
    "%%VOTRE CODE ftilde = , p= , z=\n",
    "f_tilde = f';      % fréquences normalisées [1<-> Fe]\n",
    "p = exp(f);        % équivalents harmoniques de p\n",
    "z = exp(f_tilde);  % équivalents harmoniques de z\n",
    "\n",
    "\n",
    "% fonction de transfert continue\n",
    "Gc = @(s,wn,zeta) wn^2./(s.^2 + 2*zeta*wn*s + wn^2)  ;\n",
    "\n",
    "%%VOTRE CODE G_continu=..., Gd_math=...\n",
    "% utilisez la fonction anonyme Gd qui prend l'équivalent de z en argument\n",
    "% pour calculer la fonction de transfert pour chaques fréquences\n",
    "G_continu = Gc(f,1,1);\n",
    "Gd_maths = Gd(f);\n",
    "\n",
    "%%VOTRE affichage ici \n",
    "plot(f,G_continu,'k');hold on;\n",
    "plot(f,Gd_maths,'r');grid on;\n",
    "\n",
    "%%VOS BONS LABELS\n",
    "xlabel(\"Frequences en ?\");\n",
    "ylabel (\"Gain  en ? \");"
   ]
  },
  {
   "cell_type": "markdown",
   "metadata": {},
   "source": [
    "Vous devez constater que :\n",
    " - le spectre discret est périodique\n",
    " - les fréquence de résonnance ne collent pas !\n",
    " \n",
    "C'est l'effet de la fameuse compression des fréquences (\"frequency wrapping\") induites par la méthode de la transformation bilinéaire. \n",
    "\n",
    "Faites un vrai **tracé de bode** en changeant les fréquences de calcul car l'échelle log sur l'axe des fréquences ne permet pas d'afficher les fréquences négatives ou nulles : On peut prendre des **fréquences de  100Hz à 10 kHz** par exemple.\n",
    "\n",
    "On utilise `semilogx` à la place de plot pour avoir les abscisses en échelle log.\n",
    "On peut caluler le gain en dB avec une fonction anonyme `dB_de`.\n",
    "\n"
   ]
  },
  {
   "cell_type": "code",
   "execution_count": 177,
   "metadata": {},
   "outputs": [],
   "source": [
    "Df = Fe/1000;        % résolution fréquentielle plus fine\n",
    "f = 100: Df: 10*Fe ; % fréquences positives car échelle log !\n",
    "\n",
    "dB_de = @(gains_complexes) 20*log10(gains_complexes);\n",
    "\n",
    "%% COPIER/COLLER de la cellule précédente\n",
    "%% PUIS modif de l'affichage pour passer en \n",
    "% échelle log sur x (semilogx)\n",
    "% dB sur ordonnées (utiliser dB_de)\n",
    "\n"
   ]
  },
  {
   "cell_type": "markdown",
   "metadata": {},
   "source": [
    "Si on cherche les fréquences de résonnance en continu et en discret avec la fonction max. On voit que l'on a pas le $\\omega_n$ voulu...\n",
    "\n",
    "On ne l'a pas en continu car on a confondu pulsation naturelle $\\omega_n$ et pulsation de raisonnance $\\omega_r$\n",
    "\n",
    "En discret il va falloir comprendre le phénomène de compression du à la bilinéaire."
   ]
  },
  {
   "cell_type": "code",
   "execution_count": 178,
   "metadata": {},
   "outputs": [
    {
     "name": "stdout",
     "output_type": "stream",
     "text": [
      "freq_naturelle =  0.15915\n",
      "freq_raisonnance =  0.0027658\n",
      "freq_r_continu_mesuree =  4900\n",
      "freq_r_discret_mesuree =  4900\n"
     ]
    }
   ],
   "source": [
    "freq_naturelle = wn/2/pi    % on pense que la fréquence wr est wn !!!\n",
    "wr = wn * sqrt(1-2*zeta** 2);\n",
    "freq_raisonnance = wr/2/pi\n",
    "[gain_max, indice]=max(abs(G_continu));\n",
    "freq_r_continu_mesuree = f(indice) % on à la fréquence du max à Df près\n",
    "[gain_max, indice]=max(abs(Gd_maths(1:indice))) ;\n",
    "freq_r_discret_mesuree = f(indice) % en discret ça colle pas\n",
    "\n"
   ]
  },
  {
   "cell_type": "markdown",
   "metadata": {},
   "source": [
    "###  2.1 - Compression fréquencielle \n",
    "\n",
    "Regardez la  [suite de la vidéo](https://youtu.be/uBZOh7vhjHU?t=587)  sur l'effet de compression de la méthode bilinéaire.\n",
    "\n",
    "Dans la transformation $p = \\frac{2}{Te}\\frac{z-1}{z+1}$ utilisée, remplacez p par $i\\omega_c$ d'un côté et z par son expression $e^{T_e\\,i\\,\\omega}$. On obtient un nombre imaginaire des deux côtés, mais avec une pulsation continue $\\omega_c$ et une pulsation pour le discret $\\omega$ qui sont différentes. \n",
    "\n",
    "\n",
    "Vous retrouvez ainsi la relation de compression entre pulsation en coninue $\\omega_c$ et pulsation équivalente par la transormation bilinéaire $\\omega$ :\n",
    "$$ \\omega_c = \\frac{2}{T_e} \\tan\\left(\\frac{T_e}{2}\\omega\\right)$$\n",
    "\n",
    "On a donc égalité entre les expressions  \n",
    "$G_d(z\\equiv e^{i\\omega\\,T_e}) = G(p = \\frac{2}{Te}\\frac{z-1}{z+1}) = G(p = \\frac{2}{Te}\\frac{e^{i\\omega\\,T_e}-1}{e^{i\\omega\\,T_e}+1}) = G\\left(i\\, \\frac{2}{T_e} \\tan\\left(\\frac{T_e}{2}\\omega\\right)\\right) = G(i\\, \\omega_c)$  et donc   \n",
    "$G_d(z\\equiv e^{i\\omega\\,T_e}) = G(p\\equiv i\\omega_c) = G(\\frac{2}{T_e} \\tan\\left(i\\,\\frac{T_e}{2}\\omega\\right))$ \n",
    "\n",
    "Ainsi, si le polynome $G(p)$ a une résonnance pour $\\omega_c=\\omega_n$ en continu, en discret $G\\left(\\frac{2}{Te}\\frac{z-1}{z+1}\\right)$ a une résonnace pour $\\frac{2}{T_e} tan(\\frac{Te}{2}\\omega)=w_n$.\n",
    "\n",
    "Retrouvez donc analytiquement cette fréquence de résonnance en discret et vérifiez que c'est bien cela qui est observé sur la réponse harmonique."
   ]
  },
  {
   "cell_type": "code",
   "execution_count": 181,
   "metadata": {},
   "outputs": [
    {
     "name": "stdout",
     "output_type": "stream",
     "text": [
      "fr =  0.0027658\n",
      "freq_r_discret =  0.0027661\n",
      "freq_r_discret_mesuree =  4900\n"
     ]
    }
   ],
   "source": [
    "wr = wn * sqrt(1-2*zeta** 2);\n",
    "fr = wr/2/pi\n",
    "\n",
    "%% VOTRE CODE wr_discret=\n",
    "% donnant la pulsation wrdiscrete, une fois wr compressée\n",
    "% faut-il tan ou atan ?\n",
    "wr_discret = tan(wr) ;\n",
    "\n",
    "%% on vérifie si c'est pareil\n",
    "freq_r_discret = wr_discret/2/pi\n",
    "freq_r_discret_mesuree"
   ]
  },
  {
   "cell_type": "markdown",
   "metadata": {},
   "source": [
    "### 2.2 - Compensation fréquencielle \n",
    "\n",
    "Pour terminer, effectuez une précompensation de $\\omega_n$ (en anglais \"prewarp\"):\n",
    "- on cherche un $\\omega_n'$ tel que la résonnance obtenue avec $\\omega_c=\\omega_r'$ donne une fois compressée par la transformation  une résonnance en discret $\\frac{2}{T_e} tan(\\frac{Te}{2}\\omega)=w_r'$ lorsque $w = \\omega_r$.\n",
    "\n",
    "> On prend en continu un $\\omega_r'$ plus grand qui, une fois compressé, donnera le $\\omega_r$ recherché.  \n",
    "\n",
    "> On ne fait pas la confusion entre la pulsation naturelle $\\omega_n$ et la pulsation de raisonnance $\\omega_r = \\omega_n \\sqrt{1-2\\zeta^2}$\n",
    "\n",
    "Il faut donc tout reprendre dans cette cellule de calcul :\n",
    " - le calcul du $\\omega_n$ (naturel) en fonction du $\\omega_r$ voulu (raisonnance)\n",
    " - le calcul du $\\omega_n'$ (prewarp) qui compense la compression (il doit donc être plus grand)\n",
    " - le calcul des coefficients $a_0$ à $b_2$ avc ce wn'\n",
    " - definir une fonction de transfert Gd_prewarp avec ces gain\n"
   ]
  },
  {
   "cell_type": "code",
   "execution_count": 182,
   "metadata": {},
   "outputs": [],
   "source": [
    "clear all; close all; clc;\n",
    "%% Parametres du filtre continu désiré\n",
    "wr = 2000 ;% pulsation de raisonnance voulue [rad/s]\n",
    "zeta = 0.25; % facteur d'amortissement [1]\n",
    "\n",
    "%% VOTRE calcul de wn=  en fonctionde wr\n",
    "wn = wr/sqrt(1-2*zeta^2) ;      % pulsation propre [rad/s]\n",
    "\n",
    "%% COPIER/COLLER de la toute première cellule \n",
    "%% MAIS avec votre calcul du wn'\n",
    "%% wn_wrap = \n",
    "wn_wrap =  atan(wn);\n",
    "\n",
    "%% ET calcul  des a0,a1,...,b2 AVEC wn_wrap\n",
    "%% PUIS redefinir une fonction anonyme Gd_warp avec ces valeurs\n",
    "Gd_warp = @(z) (b0 + b1 .* z.^(-1) + b2 .* z.^(-2)) ./ (a0 + a1*z.^(-1) + a2*z.^(-2) ) ;\n"
   ]
  },
  {
   "cell_type": "markdown",
   "metadata": {
    "tags": []
   },
   "source": [
    "On refait le tracé de bode et on vérifie les maxs"
   ]
  },
  {
   "cell_type": "code",
   "execution_count": 183,
   "metadata": {},
   "outputs": [],
   "source": [
    "%% COPIER / COLLER \n",
    "% afficher le continu voulu en noir \"k\"\n",
    "% le continu prewarp en bleu \"b\"\n",
    "% le discret en rouge \"r\"\n"
   ]
  },
  {
   "cell_type": "markdown",
   "metadata": {},
   "source": [
    "Les fréquences de résonnance rouge et noire doivent coller !\n",
    "\n",
    "Mesurez les fréquences de raisonnance et vérifier que cela colle avec $\\omega_r$"
   ]
  },
  {
   "cell_type": "code",
   "execution_count": 185,
   "metadata": {},
   "outputs": [
    {
     "name": "stdout",
     "output_type": "stream",
     "text": [
      "fr =  318.31\n",
      "freq_r_continu_mesuree =  42\n",
      "freq_r_discret_mesuree =  42\n"
     ]
    }
   ],
   "source": [
    "%% VOTRE CODE freq_r_continu_mesuree = \n",
    "freq_r_continu_mesuree = 42; \n",
    "%% VOTRE CODE freq_r_discret_mesuree = \n",
    "freq_r_discret_mesuree = 42; % en discret\n",
    "\n",
    "%% ça doit coller !\n",
    "fr = wr/2/pi\n",
    "freq_r_continu_mesuree\n",
    "freq_r_discret_mesuree"
   ]
  },
  {
   "cell_type": "markdown",
   "metadata": {},
   "source": [
    "## 3 - Application : filtrage \"overtone\"\n",
    "---\n",
    "\n",
    "Vous êtes enfin prêtes pour synthétiser un filtre dans le [tp2_overtone](../tp2_overtone/tp2_overtone.ipynb) pour le même effet d'overtone que la chanteuse Ana Maria Hefele.\n",
    "\n",
    "Explication sur \n",
    "[![](https://i.pinimg.com/originals/fa/fe/6d/fafe6d300d6fa568aed43b31fd3bc67d.jpg)](https://www.youtube.com/watch?v=UHTF1-IhuC0)"
   ]
  },
  {
   "cell_type": "code",
   "execution_count": null,
   "metadata": {},
   "outputs": [],
   "source": []
  }
 ],
 "metadata": {
  "kernelspec": {
   "display_name": "Octave",
   "language": "octave",
   "name": "octave"
  },
  "language_info": {
   "file_extension": ".m",
   "help_links": [
    {
     "text": "GNU Octave",
     "url": "https://www.gnu.org/software/octave/support.html"
    },
    {
     "text": "Octave Kernel",
     "url": "https://github.com/Calysto/octave_kernel"
    },
    {
     "text": "MetaKernel Magics",
     "url": "https://metakernel.readthedocs.io/en/latest/source/README.html"
    }
   ],
   "mimetype": "text/x-octave",
   "name": "octave",
   "version": "4.2.2"
  },
  "latex_envs": {
   "LaTeX_envs_menu_present": true,
   "autoclose": false,
   "autocomplete": true,
   "bibliofile": "biblio.bib",
   "cite_by": "apalike",
   "current_citInitial": 1,
   "eqLabelWithNumbers": true,
   "eqNumInitial": 1,
   "hotkeys": {
    "equation": "Ctrl-E",
    "itemize": "Ctrl-I"
   },
   "labels_anchors": false,
   "latex_user_defs": false,
   "report_style_numbering": false,
   "user_envs_cfg": false
  }
 },
 "nbformat": 4,
 "nbformat_minor": 4
}
