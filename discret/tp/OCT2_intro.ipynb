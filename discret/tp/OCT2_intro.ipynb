{
 "cells": [
  {
   "cell_type": "markdown",
   "id": "472391ae-2bce-43fd-808c-4a6ab9c6144c",
   "metadata": {
    "tags": []
   },
   "source": [
    "| [OCT1 intro](OCT1_intro.ipynb) | Revenir au [Readme TP](../README.ipynb) |---|\n",
    "|-------------|---|---|\n",
    "\n",
    "---\n",
    "# OCT2 Intro. : SUJET ( -> [Corrigé](./OCT2_intro_corr.ipynb))\n",
    "--- \n"
   ]
  },
  {
   "cell_type": "markdown",
   "id": "771060a6-b098-4b6d-92ee-de6926d2a5d0",
   "metadata": {
    "tags": []
   },
   "source": [
    "---\n",
    "Apprendre à :\n",
    " - faire des fonctions explicite\n",
    " - utiliser les fonctions anonyme\n",
    " - faire simple avec les interfaces utilisateur : config de script au début\n",
    " - calcul numérique d'intégrale de 3 manières différentes\n",
    " "
   ]
  },
  {
   "cell_type": "markdown",
   "id": "dcb49e2b-5673-487e-a15a-8b4ecdaa43ba",
   "metadata": {
    "tags": []
   },
   "source": [
    "## Déclaration de fonctions explicites \n",
    "\n",
    "Pour déclarer une fonction en octave, cela est similaire au langage ada."
   ]
  },
  {
   "cell_type": "markdown",
   "id": "5ef5a1fc-7eff-4302-833a-5836d660ce79",
   "metadata": {},
   "source": [
    "Prenons l'exemple de la fonction qui calcule la valeur de l'onde complexe.\n",
    "\n",
    "$f : x \\mapsto e^{i.\\omega.x}$ \n",
    "\n",
    "Remarquons que cette fonction dépend d'un paramètre $\\omega$.\n"
   ]
  },
  {
   "cell_type": "code",
   "execution_count": 1,
   "id": "77bc6500-2a10-44c7-8e8b-474bdfd67847",
   "metadata": {},
   "outputs": [
    {
     "name": "stdout",
     "output_type": "stream",
     "text": [
      "error: 'omega' undefined near line 2 column 15\n",
      "error: called from\n",
      "    f at line 2 column 7\n"
     ]
    }
   ],
   "source": [
    "omega = 4;\n",
    "\n",
    "function y = f(x)\n",
    "    y = exp(i*omega*x)\n",
    "end\n",
    "\n",
    "f(3)"
   ]
  },
  {
   "cell_type": "markdown",
   "id": "30897c3a-103b-42ba-9031-a2aae1db430e",
   "metadata": {},
   "source": [
    "Et oui, en informatique un paramètre doit être donné explicitement ou bien déclaré comme visible partout (dangereux) !\n",
    "\n",
    "On peut donc définir de deux manières une fonction paramétrée :\n",
    "   - `fomega(x)` qui est paramétrée par une variable globale `omega` (effets de bord dangereux !)\n",
    "   - `f(x,omega)` qui est une fonction de deux variables (passage explicite)"
   ]
  },
  {
   "cell_type": "code",
   "execution_count": 2,
   "id": "06674ee9-8af3-4deb-955a-a92458208684",
   "metadata": {},
   "outputs": [
    {
     "data": {
      "image/png": "[encoded data removed]",
      "text/plain": [
       "<IPython.core.display.Image object>"
      ]
     },
     "metadata": {},
     "output_type": "display_data"
    }
   ],
   "source": [
    "clear all;\n",
    "global omega=4;\n",
    "t=0:0.01:2;\n",
    "\n",
    "function y = fomega(x)\n",
    "    global omega;\n",
    "    y = exp(i*omega*x);\n",
    "end\n",
    "\n",
    "function y = f(x, omega)\n",
    "    y = exp(i*omega*x);\n",
    "end\n",
    "\n",
    "plot(t,fomega(x=t),'b');\n",
    "hold on;\n",
    "\n",
    "omega=1;\n",
    "plot(t,fomega(x=t),'g');\n",
    "\n",
    "plot(t,f(x=t, w=10),'r');\n",
    "legend([\"fomega(t) omega = 4 globale\";\"fomega(t) omega = 1 globale modifiee\";\"f(t,10) omega explicite =10\"])"
   ]
  },
  {
   "cell_type": "markdown",
   "id": "19084002-4ef0-49b6-a84e-13da12ba3d20",
   "metadata": {},
   "source": [
    "On peut mettre une fonction dans un fichier du même nom par exemple ici `fomega.m` et `f.m`.\n",
    "\n",
    "Si ces fichiers sont **dans le même répertoire que le script** alors ce script peut les utiliser sans déclarations."
   ]
  },
  {
   "cell_type": "markdown",
   "id": "3eb51e27-ea87-4ac5-9f7d-8487bd59e6e6",
   "metadata": {
    "tags": []
   },
   "source": [
    "## Fonctions anonymes\n",
    "---\n",
    "\n",
    "Une fonction mathématique qui s'exprime en une ligne de calcul peut être **déclarée en une seule ligne**.\n",
    " "
   ]
  },
  {
   "cell_type": "markdown",
   "id": "f0fc6b3c-ebaf-41fb-b3cd-da0fff0183ce",
   "metadata": {
    "jp-MarkdownHeadingCollapsed": true,
    "tags": []
   },
   "source": [
    " > Syntaxe de la déclaration avec @   \n",
    " > @(x,y,z)  <expression mathématique en fonction de x,y,z>   \n",
    " > Par exemple:   \n",
    " > `@(x)  x * x` est la fonction de $\\mathbb{C}\\to\\mathbb{C}$ de graphe $x\\mapsto x^2$   \n",
    " \n",
    " On peut la vectoriser avec :   \n",
    "  `@(x)  x .* x`   \n",
    "par polymorphisme x peut ainsi être un scalaire, un vecteur réel, un vecteur complexe, une matrice 2D, etc.  \n",
    "On obtiendra ainsi le carré du scalaire, le vecteur du carré de chaque élément, la matrice des carrés de chaque élément, etc.\n",
    " \n",
    "Remarquez que cette fonction n'a pas de nom ! (`@` pour anonyme avec matlab/octave, `lambda` en python donnera `lambda x : x * x`) \n",
    "\n",
    ">**En général on nomme une fonction anonyme avec =**, ce qui donne :  \n",
    "> `f = @(x) x .* x` \n",
    "\n",
    "Ne pas nommer une fonction peut servir lorsque l'on doit passer une fonction en argument à une commande.\n",
    "Par exemple la fonction `quad` permet d'intégrer une fonction (pas un tableau de valeurs) avec une méthode numérique avancée (faire `help quad` pour les détails). \n",
    " "
   ]
  },
  {
   "cell_type": "code",
   "execution_count": 3,
   "id": "f3d89588-fba2-4cc0-bd94-9f0f6ce48e01",
   "metadata": {},
   "outputs": [
    {
     "name": "stdout",
     "output_type": "stream",
     "text": [
      "ans =  1.5000\n",
      "ans =  2.5000\n",
      "ans =  2\n",
      "la méthode numérique n'intègre pas des complexes :\n",
      "warning: quad: ignoring imaginary part returned from user-supplied function\n",
      "ans =    4.9226e-17\n",
      "energie_periode =  3.1416\n",
      "puissance_moyenne =  0.50000\n"
     ]
    }
   ],
   "source": [
    "quad( @(x) x, 1, 2)   % Intégrer l'\"x\" de l'année 1 à 2 de prépa = 3/2\n",
    "quad( @(x) x, 2, 3)   % Intégrer l'\"x\" de l'année 2 à 3 de prépa = 5/2\n",
    "quad( @sin,0,pi)      % intégrer sin sur une demi alternance : @sin <-> \"la fonction sin\"\n",
    "                    %                                          sin <-> appelle la fonction sin\n",
    "disp(\"la méthode numérique n'intègre pas des complexes :\")\n",
    "quad( @fomega,0,pi) %  notre fonction fomega s'intègre aussi mais c'est une fonction dans C !\n",
    "% donnons un nom à une fonction anonyme\n",
    "puissance = @(x) sin(x).^2;\n",
    "energie_periode = quad( puissance, 0, 2*pi) % énergie d'une période de sin \n",
    "puissance_moyenne = energie_periode / (2*pi)"
   ]
  },
  {
   "cell_type": "markdown",
   "id": "1ff9b9ee-5866-4de6-b666-707e18e106bb",
   "metadata": {
    "jp-MarkdownHeadingCollapsed": true,
    "tags": []
   },
   "source": [
    "### Sans effets de bord \n",
    "\n",
    "Attention ! Cette déclaration peut utiliser une valeur de paramètre **au moment où elle est déclarée**.\n",
    "\n",
    "On peut avoir des surprises et mieux vaux passer tous les paramètres explicitement.\n",
    "\n",
    "Reprenons notre fonction f :"
   ]
  },
  {
   "cell_type": "code",
   "execution_count": 4,
   "id": "d8e99974-292f-4089-ae51-9dd34250ce1f",
   "metadata": {},
   "outputs": [
    {
     "data": {
      "image/png": "[encoded data removed]",
      "text/plain": [
       "<IPython.core.display.Image object>"
      ]
     },
     "metadata": {},
     "output_type": "display_data"
    }
   ],
   "source": [
    "omega = 4;\n",
    "\n",
    "f = @(x) exp(i*omega*x) ;  % vectorisée puisque omega est scalaire\n",
    "\n",
    "plot(t,f(t),'r+-');\n",
    "hold on;\n",
    "\n",
    "omega = 10;\n",
    "plot(t,f(t),'go');\n",
    "\n",
    "title(\"changer la variable omega ne change pas la fonction\")"
   ]
  },
  {
   "cell_type": "markdown",
   "id": "1990e775-c7fc-40c9-a25b-ce8a22093a93",
   "metadata": {},
   "source": [
    "Et oui ! Lors de la déclaration de la fonction f, omega valait 4.\n",
    "La déclaration est exactement équivalente à `f = @(x) exp(i*4*x)`, car à ce moment `omega` valait 4.\n",
    "\n",
    "> Changer la valeur de omega ensuite, ne change pas la fonction f...\n",
    "\n",
    "Mieux vaut passer plusieurs paramètres explicitement.   \n",
    "Ou bien déclarer une fonction par valeur de paramètre !"
   ]
  },
  {
   "cell_type": "code",
   "execution_count": 5,
   "id": "303c3baf-5968-49a3-8a36-a08549aee44d",
   "metadata": {},
   "outputs": [
    {
     "data": {
      "image/png": "[encoded data removed]",
      "text/plain": [
       "<IPython.core.display.Image object>"
      ]
     },
     "metadata": {},
     "output_type": "display_data"
    }
   ],
   "source": [
    "f = @(x,w) exp(i*w*x) ;\n",
    "omega = 4;\n",
    "f_de_t = f(x=t, w=omega);    % passage explicite des params\n",
    "plot(t,f_de_t,'r');\n",
    "\n",
    "hold on;\n",
    "omega = 10;    \n",
    "plot(t,f(t,omega),'b');         % passage implicite par ordre\n",
    "\n",
    "% Déclarons la fonction pour omega =0 \n",
    "% C'est donc la fonction constante\n",
    "constante = @(x) f(x=x,w=0); % vectorisée si f(x,w) vectorisée\n",
    "plot(t,sqrt(2)/2*constante(t),'g')"
   ]
  },
  {
   "cell_type": "markdown",
   "id": "3d3cd093-629e-4900-a434-74bbc352385b",
   "metadata": {},
   "source": [
    "Remarquez bien qu'en informatique comme en mathématique, il ne faut pas confondre\n",
    "  - la fonction $\\vec{f}:\\mathbb{R^2}\\to \\mathbb{R}$ mathématique associée en informatique à la fonction anonyme `f`\n",
    "  - l'évaluation la fonction $f(x,w)\\in\\mathbb{R}$ mathématique qui est une variable ou un tableau `f_de_t` ou `f(t)` dans cet exemple.\n",
    "  "
   ]
  },
  {
   "cell_type": "code",
   "execution_count": 6,
   "id": "94c520da-94e0-4f1c-b7d5-dfed4397193a",
   "metadata": {},
   "outputs": [
    {
     "name": "stdout",
     "output_type": "stream",
     "text": [
      "f =\n",
      "\n",
      "@(x, w) exp (i * w * x)\n",
      "\n",
      "f_de_t =\n",
      "\n",
      " Columns 1 through 3:\n",
      "\n",
      "   1.00000 + 0.00000i   0.54030 + 0.84147i  -0.41615 + 0.90930i\n",
      "\n",
      " Columns 4 and 5:\n",
      "\n",
      "  -0.98999 + 0.14112i  -0.65364 - 0.75680i\n",
      "\n",
      "ans =  1\n",
      "ans = -0.65364 - 0.75680i\n"
     ]
    }
   ],
   "source": [
    "t=0:4;\n",
    "f_de_t=f(t,1);\n",
    "f\n",
    "f_de_t\n",
    "f(x=0,w=1)\n",
    "f(4,1)"
   ]
  },
  {
   "cell_type": "markdown",
   "id": "3d0d6615-6b4a-4185-8ea5-9ee1e1c2919a",
   "metadata": {
    "tags": []
   },
   "source": [
    "## Exercice fonctions anonymes"
   ]
  },
  {
   "cell_type": "markdown",
   "id": "431060f6-f65c-4bb6-b568-4cdc4237fb95",
   "metadata": {
    "jp-MarkdownHeadingCollapsed": true,
    "tags": []
   },
   "source": [
    "On a défini la fonction de Heaviside $\\vec{u}$ on aimerait définir la fonction rampe $\\vec{r} : x\\mapsto x.u(x)$ "
   ]
  },
  {
   "cell_type": "code",
   "execution_count": 7,
   "id": "e04c77a5-b6f2-4fe5-a9c7-18e6dc662a0b",
   "metadata": {
    "collapsed": true,
    "jupyter": {
     "outputs_hidden": true
    },
    "tags": []
   },
   "outputs": [
    {
     "name": "stdout",
     "output_type": "stream",
     "text": [
      "u_de_moins_10 = 0\n",
      "u_de_0 = 1\n",
      "ans = 0\n",
      "ans = 1\n",
      "r_de_t =\n",
      "\n",
      "  0  1  1  1\n",
      "\n",
      "taille_de_t =\n",
      "\n",
      "   1   4\n",
      "\n",
      "nouvelle_taille_de_t =\n",
      "\n",
      "    1   31\n",
      "\n",
      "taille_de_func_r_de_t =\n",
      "\n",
      "    1   31\n",
      "\n",
      "taille_de_vec_r_de_t =\n",
      "\n",
      "   1   4\n",
      "\n",
      "error: __plt2vv__: vector lengths must match\n",
      "error: called from\n",
      "    __plt__>__plt2vv__ at line 489 column 5\n",
      "    __plt__>__plt2__ at line 248 column 14\n",
      "    __plt__ at line 113 column 17\n",
      "    plot at line 223 column 10\n",
      "warning: legend: ignoring extra labels\n",
      "warning: called from\n",
      "    legend at line 432 column 9\n"
     ]
    },
    {
     "data": {
      "image/png": "[encoded data removed]",
      "text/plain": [
       "<IPython.core.display.Image object>"
      ]
     },
     "metadata": {},
     "output_type": "display_data"
    }
   ],
   "source": [
    "clear all;\n",
    "t=-1:2;  % t = [-1; 0; 1; 2]\n",
    "\n",
    "% Définition de l'échelon u\n",
    "u = @(x) (x >= 0); \n",
    "%         |---> vectorisation de l'opérateur >= \n",
    "%         et diffusion de 0 en vecteur de zéros\n",
    "%  vrai = 1, faux = 0...\n",
    "\n",
    "u_de_moins_10 = u(-10)\n",
    "u_de_0 = u(0)\n",
    "\n",
    "%% VOTRE CODE u_de_t= évaluant u pour chaque valeur du tableau t \n",
    "u_de_t = 1; \n",
    "\n",
    "%% VOTRE CODE r = déclarant la fonction rampe \n",
    "r = u;\n",
    "r(-10)\n",
    "r(10)\n",
    "r_de_t = r(t)\n",
    "\n",
    "\n",
    "%% CORRIGER l'affichage \n",
    "% indice : regardez ce que donne les tailles :\n",
    "taille_de_t = size(t)\n",
    "t=-1:0.1:2;\n",
    "nouvelle_taille_de_t = size(t)\n",
    "taille_de_func_r_de_t = size(r(t))\n",
    "taille_de_vec_r_de_t =size(r_de_t)\n",
    "plot(t,r(t),'b-+'); hold on;\n",
    "plot(t,r_de_t,'bo');\n",
    "xlabel(\"t [s]\"); ylabel(\"r(t) [V]\"); title(\"fonction rampe\")\n",
    "legend([\"la fonction r\";\"le vecteur r-de-t\"])"
   ]
  },
  {
   "cell_type": "markdown",
   "id": "2890da4e-048e-412a-9f41-524ec18fe217",
   "metadata": {
    "tags": []
   },
   "source": [
    "On veut définir :\n",
    "  - une fonction causale $\\vec{f_1} =\\frac{3}{2}\\vec{u}-\\vec{r}$, \n",
    "  - sa fonction antipodale (symétrique dans le temps) et donc anti causale $\\vec{f_2}=\\vec{f_1}\\left(-\\bullet\\right)~: t\\mapsto f_1(-t)$.  \n",
    "  Remarquez que la variable $t$ est muette et aurait pu être $x\\mapsto f_1(-x)$ d'où la notation $\\vec{f_1}(-\\bullet)$\n",
    "  - et la fonction non causale $\\vec{f}=\\vec{f_1}-\\vec{f_2}$ \n",
    " \n",
    " Et les tracer pour un temps $t$ allant de -3 à 3"
   ]
  },
  {
   "cell_type": "code",
   "execution_count": 8,
   "id": "313790f7-e0a1-4698-be5c-0722aef41400",
   "metadata": {
    "collapsed": true,
    "jupyter": {
     "outputs_hidden": true
    },
    "tags": []
   },
   "outputs": [
    {
     "name": "stdout",
     "output_type": "stream",
     "text": [
      "val_de_f1 =  1\n",
      "val_de_f1a = 0\n",
      "taille_vec_f_de_t =  31\n",
      "taille_func_de_t =  61\n"
     ]
    },
    {
     "data": {
      "image/png": "[encoded data removed]",
      "text/plain": [
       "<IPython.core.display.Image object>"
      ]
     },
     "metadata": {},
     "output_type": "display_data"
    }
   ],
   "source": [
    "a=10;\n",
    "%% VOTRE CODE f1 = @... déclarant f1(x) à partir des fonctions u, r et du scalaire a \n",
    "f1 = @cos;\n",
    "\n",
    "%% VOTRE CODE f1a = @... déclarant f1a(x,a)  |--> à partir de u et r mais fonction de x et de a\n",
    "f1a = @mod;\n",
    "\n",
    "a=3/2; % On redéfinit a et on évalue f1(0) et f1a(0)\n",
    "val_de_f1 = f1(0)\n",
    "val_de_f1a = f1a(0,a) % là f1 est redéfinie avec la bonne valeur de a\n",
    "\n",
    "%% VOTRE CODE f2 =  à partir de f1a (variable muette t) on garde a=3/2\n",
    "f2 = @mod;\n",
    "%%VOTRE CODE f= @(bernardo) ... à partir de f1a et f2 (variable muette \"bernardo\")\n",
    "f = @(bernardo) bernardo;\n",
    "\n",
    "t=-1:0.1:2;\n",
    "%% VOTRE CODE f_de_t=... le vecteur des valeur de f pour les temps de t\n",
    "f_de_t = t;\n",
    "\n",
    "%%VOTRE AFFICHAGE de f_de_t avec t pour abscisse , en \"ronds bleus\" avec titre légende des axes etc\n",
    "\n",
    "\n",
    "hold on; %pour ne pas effacer\n",
    "t = -3:0.1:3; % on elargit le temps\n",
    "\n",
    "%%VOTRE AFFICHAGE \"en petits + rouges\" de t |--> f(t) à partir de la fonction f\n",
    "\n",
    "taille_vec_f_de_t = length(f_de_t)  % Ne recalcule pas ! c'est en mémoire\n",
    "taille_func_de_t = length(f(t))    % Recalcule tout à chaque fois !"
   ]
  },
  {
   "cell_type": "markdown",
   "id": "9cb2991b-486d-47fb-aa28-65a16cb5cd50",
   "metadata": {},
   "source": [
    "En bonus voici un exemple de code qui calcule la somme partielle de la série de fonctions $\\vec{S_n} = \\Sigma a(n) . \\vec{\\omega_n}$ avec $a(n) = \\frac{1}{n}$ :\n",
    "\n",
    "$S_2(t) = a(1).\\overbrace{cos(2\\pi.F_0.t)}^{\\omega_1(t)} + a(2).\\overbrace{cos(2\\pi.2.F_0.t)}^{\\omega_2(t)}$\n",
    "\n",
    "$\\dots$ \n",
    "\n",
    "$\\vec{S_N}=\\sum\\limits_{n=1}^{n=N} a(n).\\overbrace{\\cos(2\\pi.F_0.\\bullet)}^{\\vec{\\omega_n}}$\n",
    "\n",
    "\n",
    "Remarquez bien la différence entre la fonction $\\vec{S_2}$ représentée par la fonction anonyme `S2`  \n",
    "et l'évaluation $S_2(t)\\in\\mathbb{R}$ de cette fonction représentée par le tableau de réels `S2_de_T`   "
   ]
  },
  {
   "cell_type": "code",
   "execution_count": 9,
   "id": "ac3d6d76-ae96-432b-9091-db6d4437bfd1",
   "metadata": {},
   "outputs": [
    {
     "data": {
      "image/png": "[encoded data removed]",
      "text/plain": [
       "<IPython.core.display.Image object>"
      ]
     },
     "metadata": {},
     "output_type": "display_data"
    }
   ],
   "source": [
    "T0=3;F0 = 1/T0;  % période de 3 secondes\n",
    "n=1:10;\n",
    "a= 1./n; % coefs de Fourier [1, 1/2, 1/3, ...]\n",
    "w1 = @(x) sin(2*pi*F0*x);\n",
    "w2 = @(x) w1(2*x);\n",
    "\n",
    "S2 = @(x)  a(1)*w1(x) + a(2)*w2(x);\n",
    "S2_de_t = S2(t);\n",
    "plot(t,a(1)*w1(t)); hold on;\n",
    "plot(t,S2_de_t,'b-.')\n",
    "\n",
    "w = @(x) sin(2*pi*x);\n",
    "wn= @(n,x) w(F0*x*n);\n",
    "\n",
    "Sn_de_t = 0*t; % vecteur de zéros (autant de valeur que dans t)\n",
    "Sn = @(x) (0); % fonction nulle x |--> 0\n",
    "\n",
    "\n",
    "for n=n\n",
    "    %plot(t,f_de_t,'r--');hold on;\n",
    "    Sn = @(x) Sn(x)  + a(n)*wn(n,x);    % Redéfinition de la fonction Sn EN FONCTION de Sn !\n",
    "    Sn_de_t = Sn_de_t + a(n)*wn(n,t);   % Somme des valeur à partir de la somme des valeurs !\n",
    " \n",
    "end\n",
    "\n",
    "plot(t,Sn(t),'r')\n",
    "plot(t,f(t),'k')\n",
    "legend([\"S_1 : fondamentale (rang 1)\";\n",
    "        \"S_2 : fond+ 1ere harmonique (rang 2)\";\n",
    "        \"S_{10} : Somme partielle de rang 10\";\n",
    "        \"fonction f : limite de Sn\"])\n"
   ]
  },
  {
   "cell_type": "markdown",
   "id": "7001c72f-40bd-4c70-a89a-d24fdee6e4df",
   "metadata": {},
   "source": [
    "Si l'on change le vecteur temps `t` ($\\pm 3$s) pour l'agrandir en un vecteur `tt` doublé ($\\pm 6$s), on voit que la fonction $f$ n'est pas périodique et est approchée sur le support $\\left[-3,\\;3\\right]$ par $S_n$ qui est périodique. "
   ]
  },
  {
   "cell_type": "code",
   "execution_count": 10,
   "id": "35744a12-23c2-4957-8008-eb21a2de6af2",
   "metadata": {
    "tags": []
   },
   "outputs": [
    {
     "data": {
      "image/png": "[encoded data removed]",
      "text/plain": [
       "<IPython.core.display.Image object>"
      ]
     },
     "metadata": {},
     "output_type": "display_data"
    }
   ],
   "source": [
    "tt = -6:0.01:6;\n",
    "plot(tt,f(tt),'k'); hold on;\n",
    "plot(tt,Sn(tt),'r');\n",
    "plot(t,Sn_de_t,'b.');\n",
    "legend([\"f : fonction non periodique\";\"Sn: Somme partielle periodique\";\"Sn-de-t : avec ancien vecteur temps\"])\n"
   ]
  },
  {
   "cell_type": "markdown",
   "id": "4fe66528-992e-4e85-affa-29cba0fca56e",
   "metadata": {
    "tags": []
   },
   "source": [
    "## Interface utilisateur\n",
    "---\n",
    "\n",
    "En Ada ou avec des **programmes compilés** on est obligée de demander à l'utilisatrice de donner des valeurs avec une interface, etc.\n",
    "\n",
    "En langage interprété on fait **des scripts** simples et **l'utilisatrice modifie directement le fichier script !** \n",
    "\n",
    "La partie [exemple pénible](#Exemple-p%C3%A9nible) montre comment on fait un script compliqué, voire impossible en voulant bien faire. **Vous n'êtes pas obligé de la lire**\n",
    "\n",
    "Mieux vaut voir comment on fait simplement quand on fabrique des scripts avec la partie [smart and easy](#Version-smart-and-easy) \n"
   ]
  },
  {
   "cell_type": "markdown",
   "id": "0a255e19-1bed-413b-889d-f35d46ce4943",
   "metadata": {
    "jp-MarkdownHeadingCollapsed": true,
    "tags": []
   },
   "source": [
    "### Version smart and easy\n",
    "\n",
    "> L'[exemple pénible](#Exemple-p%C3%A9nible) montre que demander à chaque fois de rentrer des valeurs est pénible et\n",
    "> qu'il est impossible de demander de rentrer une fonction mathématique lors de l'exécution du programme...\n",
    "\n",
    "Comme l'utilisatrice doit lancer octave et ouvrir votre fichier script,\n",
    "\n",
    "> **on demande toujours à l'utilisatrice de configurer directement le script** avant de l'exécuter\n",
    "\n",
    "Voilà à quoi ressemble le script idéal :"
   ]
  },
  {
   "cell_type": "code",
   "execution_count": 11,
   "id": "0c3bb28d-102d-48aa-8eb9-099418b058c6",
   "metadata": {},
   "outputs": [
    {
     "data": {
      "image/png": "[encoded data removed]",
      "text/plain": [
       "<IPython.core.display.Image object>"
      ]
     },
     "metadata": {},
     "output_type": "display_data"
    }
   ],
   "source": [
    "clear all;  % efface le \"workspace\" de variables\n",
    "close all;  % ferme les fenètres graphiques\n",
    "clc;        % efface la console\n",
    "%%_________\n",
    "%% script qui affiche une fonction donnée\n",
    "\n",
    "%% <<<<<<<<<<<<<<<<<<<<<<<<<<<<<<<<<<<<<<<\n",
    "%% UTILISATRICE CONFIGUREZ ICI LE SCRIPT\n",
    "tmin = 0 ;  % premier instant affiché [s]\n",
    "tmax = 20 ;  % dernier instant affiché [s]\n",
    "Te =  0.1;  % période d'échantillonnage\n",
    "\n",
    "%% fonction de x à afficher\n",
    "%% décommentez une ligne\n",
    "%fonction = @(x) 3*x + 4*cos(x)  ;\n",
    "fonction = @(x) 4*cos(x)-2*sin(x)  ;\n",
    "%fonction = @(x) 4*cos(1./x)  ;\n",
    "%fonction = @(x) <votre fonction vectorisée de x>\n",
    "\n",
    "%% FIN DE CONFIGURATION\n",
    "%% >>>>>>>>>>>>>>>>>>>>>>>>>>>>>>>>>>>>>>>\n",
    "\n",
    "%% Calculs\n",
    "t = tmin:Te:tmax ;\n",
    "f_de_t = fonction(t) ;\n",
    "\n",
    "%% Affichage\n",
    "plot(t,f_de_t);\n",
    "xlabel('Temps [s]');\n",
    "ylabel('Valeur [V]');\n",
    "title('Affichage de la fonction f')\n"
   ]
  },
  {
   "cell_type": "markdown",
   "id": "6b444786-33ad-42c6-a323-fa4da7a24161",
   "metadata": {},
   "source": [
    "> **L'utilisatrice a le code source, sait exécuter un script et connait le langage**   \n",
    "alors ne pas s'embêter."
   ]
  },
  {
   "cell_type": "markdown",
   "id": "ea6a75b2-fbb5-43a2-8944-c247c0cd5ff0",
   "metadata": {
    "tags": []
   },
   "source": [
    "### Exemple pénible\n",
    "\n",
    "Lisez cette section si vous voulez comprendre pourquoi \"ce n'est pas bien\" de demander à l'utilisatrice des valeurs, etc.\n",
    "\n",
    "On montre ici comment on fait des choses trop compliquées, voire impossibles...\n",
    "\n",
    "\n",
    "> **Mieux vaut voir comment on fait bien et aller direct à la partie suivante [smart and easy](#Version-smart-and-easy)**\n",
    "\n",
    "\n",
    "Sinon, prenons l'exemple d'un programme qui calcule un produit scalaire entre deux vecteurs. Faisons le pénible !\n",
    "\n",
    "Exécutez cette cellule et demandez un vecteur de dimension 3 avec deux fois le vecteur 1, 2,3"
   ]
  },
  {
   "cell_type": "code",
   "execution_count": 14,
   "id": "781c1154-5a2c-44f9-823b-19f4385b4ff5",
   "metadata": {},
   "outputs": [
    {
     "name": "stdin",
     "output_type": "stream",
     "text": [
      "Dimension du vecteur 2\n",
      "Valeur de l'element de rang 1 1\n",
      "Valeur de l'element de rang 2 2\n"
     ]
    },
    {
     "name": "stdout",
     "output_type": "stream",
     "text": [
      "Pour le deuxième vecteur :\n"
     ]
    },
    {
     "name": "stdin",
     "output_type": "stream",
     "text": [
      "Valeur de l'element de rang 1 1\n",
      "Valeur de l'element de rang 2 2\n"
     ]
    },
    {
     "name": "stdout",
     "output_type": "stream",
     "text": [
      "Le produit scalaire\n",
      "ans =\n",
      "\n",
      "   1\n",
      "   2\n",
      "\n",
      "fois\n",
      "v =\n",
      "\n",
      "   1   2\n",
      "\n",
      "=\n",
      "ans =\n",
      "\n",
      "   1   2\n",
      "   2   4\n",
      "\n"
     ]
    }
   ],
   "source": [
    "clear all;\n",
    "N = input(\"Dimension du vecteur\");\n",
    "\n",
    "for id = 1:N\n",
    "    u(id) = input([\"Valeur de l'element de rang \",num2str(id)]);\n",
    "end\n",
    "\n",
    "disp(\"Pour le deuxième vecteur :\")\n",
    "for id = 1:N\n",
    "    v(id) = input([\"Valeur de l'element de rang \",num2str(id)]);\n",
    "end\n",
    "\n",
    "disp(\"Le produit scalaire\")\n",
    "u'\n",
    "disp(\"fois\")\n",
    "v\n",
    "disp(\"=\")\n",
    "u'*v"
   ]
  },
  {
   "cell_type": "markdown",
   "id": "4917cedb-dec0-41cf-a5e5-70adb5abd1a6",
   "metadata": {},
   "source": [
    "**Zut le produit est dans le mauvais sens** (3,1)x(1,3) et donne une matrice (3,3) et non un scalaire.\n",
    "\n",
    "Corrigez l'erreur et re-exécutez avec les mêmes valeurs"
   ]
  },
  {
   "cell_type": "code",
   "execution_count": 15,
   "id": "728f8190-7f21-46f5-953a-a0b76e55b1ef",
   "metadata": {},
   "outputs": [
    {
     "name": "stdin",
     "output_type": "stream",
     "text": [
      "Dimension du vecteur 1\n",
      "Valeur de l'element de rang 1 1\n"
     ]
    },
    {
     "name": "stdout",
     "output_type": "stream",
     "text": [
      "Pour le deuxième vecteur :\n"
     ]
    },
    {
     "name": "stdin",
     "output_type": "stream",
     "text": [
      "Valeur de l'element de rang 1 2\n"
     ]
    },
    {
     "name": "stdout",
     "output_type": "stream",
     "text": [
      "Le produit scalaire\n",
      "ans =  1\n",
      "fois\n",
      "v =  2\n",
      "=\n",
      "ans =  2\n"
     ]
    }
   ],
   "source": [
    "%% CORRIGER LE CODE \n",
    "% pour avoir un produit (1,3)x(3,1)=(1,1) scalaire\n",
    "clear all;\n",
    "N = input(\"Dimension du vecteur\");\n",
    "\n",
    "for id = 1:N\n",
    "    u(id) = input([\"Valeur de l'element de rang \",num2str(id)]);\n",
    "end\n",
    "\n",
    "disp(\"Pour le deuxième vecteur :\")\n",
    "for id = 1:N\n",
    "    v(id) = input([\"Valeur de l'element de rang \",num2str(id)]);\n",
    "end\n",
    "\n",
    "disp(\"Le produit scalaire\")\n",
    "u'\n",
    "disp(\"fois\")\n",
    "v\n",
    "disp(\"=\")\n",
    "u*v'"
   ]
  },
  {
   "cell_type": "markdown",
   "id": "3eb36d56-51f9-4f97-9dd3-56a609b2201b",
   "metadata": {},
   "source": [
    "**Pénible hein !** de répéter les saisies à chaque fois...\n",
    "\n",
    "Maintenant supposons que l'on veut demander à l'utilisatrice de donner une fonction à appliquer au produit scalaire.\n",
    "\n",
    "Cela ressemblerait au code ci-dessous, mais de plus on ne saurait pas le poursuivre !"
   ]
  },
  {
   "cell_type": "code",
   "execution_count": 16,
   "id": "2a051e92-f2ba-4d43-a598-68e483f4b085",
   "metadata": {},
   "outputs": [
    {
     "name": "stdout",
     "output_type": "stream",
     "text": [
      "Programme qui affiche une fonction\n"
     ]
    },
    {
     "name": "stdin",
     "output_type": "stream",
     "text": [
      "Entrez le tmin = 1\n",
      "Entrez le tmax = 2\n",
      "Entrez la periode d'echantillonnage = 0.1\n",
      "Entrez la fonction à afficher : \"3*x + 4*cos(x)\" par exemple 3*x+cos(x)\n"
     ]
    },
    {
     "name": "stdout",
     "output_type": "stream",
     "text": [
      "error: fonction(0): subscripts must be either integers 1 to (2^31)-1 or logicals\n",
      "warning: non-integer range used as index\n",
      "ans = 33333******\n"
     ]
    }
   ],
   "source": [
    "%% CORRIGER LE CODE \n",
    "% pour avoir un produit (1,3)x(3,1)=(1,1) scalaire\n",
    "clear all;\n",
    "disp('Programme qui affiche une fonction')\n",
    "tmin = input(\"Entrez le tmin =\");\n",
    "tmax = input(\"Entrez le tmax = \");\n",
    "Te = input(\"Entrez la periode d'echantillonnage =\");\n",
    "t=tmin:Te:tmax;\n",
    "\n",
    "fonction = input(\"Entrez la fonction à afficher : \"\"3*x + 4*cos(x)\"\" par exemple\",\"s\");\n",
    "\n",
    "fonction(0)\n",
    "fonction(t)\n"
   ]
  },
  {
   "cell_type": "markdown",
   "id": "a152bb28-d271-4ece-a8d1-27d2155f5c96",
   "metadata": {},
   "source": [
    "**Impossible !** Il faudrait transformer la chaine de caractère `fonction` en fonction octave...\n",
    "\n",
    "Comment demander à octave de transformer la chaine de caractère rentrée en une fonction ? \n",
    "> On est bloqué.\n"
   ]
  },
  {
   "cell_type": "markdown",
   "id": "0aa257b5-2534-4466-9f0e-559c38099f86",
   "metadata": {
    "tags": []
   },
   "source": [
    "## Exercice interface\n",
    "---\n",
    "\n",
    "Le script ci-dessous fonctionne, mais mélange tout et demande des saisies pénibles à l'exécution (essayez-le). Faites un script smart !\n"
   ]
  },
  {
   "cell_type": "markdown",
   "id": "63f75307-69ce-4ce8-bfa3-08cbaca17560",
   "metadata": {},
   "source": [
    "\n",
    "Son but est d'illustrer le concept de phaseur (voir [FREQ1 phaseurs](FREQ1_phaseurs.ipynb)). \n",
    "\n",
    "De retrouver le phaseur de cosinus et sinus et de s'en servir pour trouver le phaseur $z_f$ de n'importe quelle onde pure de la forme :\n",
    "$$ f(t) = \\rho.\\cos(\\omega.t+\\phi) $$\n",
    "$$ \\quad = a.\\cos(\\omega.t)+b\\sin(\\omega.t)$$\n",
    "$$ \\quad = \\mathcal{R}\\left[ z_f.e^{i.\\omega.t}\\right]$$\n",
    "$$ \\quad = c.e^{\\omega.t} + \\overline{c}.e^{-i.\\omega.t}$$\n",
    "\n",
    "Modifiez-le en version smart avec une partie configuration pour que l'utilisatrice puisse rentrer :\n",
    "  - une valeur numérique de a et de b\n",
    "  - le phaseur de Cos \n",
    "  - le phaseur de Sin\n",
    "  - la formule donnant le phaseur zf en fonction de a et b\n",
    "\n",
    "L'affichage de vérification se fait en final après les calculs. "
   ]
  },
  {
   "cell_type": "code",
   "execution_count": 17,
   "id": "fe97d9ce-da3f-46b8-9668-6cfd7e8fc820",
   "metadata": {},
   "outputs": [
    {
     "name": "stdout",
     "output_type": "stream",
     "text": [
      "______________________________________\n",
      "Programme qui permet de comparer la forme\n",
      " f(t)= a cos (w.t) + b sin(wt)\n",
      " pour a et b donné \n",
      " avec une forme en phaseur\n",
      "   = Réel[ Zf . exp(i.w.t] ]\n",
      " où Z est un nombre complexe \n"
     ]
    },
    {
     "name": "stdin",
     "output_type": "stream",
     "text": [
      "valeur de a 1\n",
      "valeur de b -1\n",
      "phaseur I - cos : In phase du cosinus => Zi = 1\n",
      "phaseur Q - sin : Quadrature (du cos)=> Zq = -i\n",
      "phaseur de f = 1+i\n"
     ]
    },
    {
     "data": {
      "image/png": "[encoded data removed]",
      "text/plain": [
       "<IPython.core.display.Image object>"
      ]
     },
     "metadata": {},
     "output_type": "display_data"
    }
   ],
   "source": [
    "clear all;\n",
    "close all;\n",
    "\n",
    "disp(\"______________________________________\");\n",
    "disp(\"Programme qui permet de comparer la forme\")\n",
    "disp(\" f(t)= a cos (w.t) + b sin(wt)\");\n",
    "disp(\" pour a et b donné \");\n",
    "disp(\" avec une forme en phaseur\");\n",
    "disp(\"   = Réel[ Zf . exp(i.w.t] ]\");\n",
    "disp(\" où Z est un nombre complexe \");\n",
    "\n",
    "a = input(\"valeur de a\") ;\n",
    "b = input(\"valeur de b\") ;\n",
    "\n",
    "%% Tracé de  a.cos + b.sin\n",
    "subplot(122) %1 ligne, 2 colonnes : figure #2 à droite\n",
    "t=-3:0.1:3; \n",
    "plot(t,a*cos(pi/2*t)+b*sin(pi/2*t),'k+-'); hold on;\n",
    "\n",
    "Zi = input(\"phaseur I - cos : In phase du cosinus => Zi = \");   % phaseur du cosinus\n",
    "%% Tracé du phaseurs dans le plan complexe\n",
    "subplot(121) #1 ligne, 2 colonnes : figure #1 à gauche\n",
    "%tracé du cercle unitaire\n",
    "teta=0:0.1:2*pi;\n",
    "plot(real(exp(i*teta)),imag(exp(i*teta)),'k--');hold on;\n",
    "% phaseur In phase (cos) \n",
    "plot(real(Zi),imag(Zi),'db'); % un \"diamand bleu\"\n",
    "subplot(122) % temporel du cos en bleu\n",
    "%plot(t,cos(pi/2*t),'b--');\n",
    "plot(t,real(Zi*exp(i*pi/2*t)),'b-.');\n",
    "\n",
    "% Pas moyen de demander une formule du style Zf = a Zi + b.Zq\n",
    "% obligé de demander la valeur numérique de Zf...\n",
    "Zq = input(\"phaseur Q - sin : Quadrature (du cos)=> Zq =\"); % phaseur du sinus \n",
    "subplot(121)\n",
    "%  Quadrature (sin)\n",
    "plot(real(Zq),imag(Zq),'dr');\n",
    "subplot(122) % temporel du sin en rouge\n",
    "%plot(t,sin(pi/2*t),'r--');\n",
    "plot(t,real(Zq*exp(i*pi/2*t)),'r-.');\n",
    "\n",
    "Zf = input(\"phaseur de f =\"); % phaseur du sinus \n",
    "subplot(121)\n",
    "%tracé du phaseur Zf et de son cercle\n",
    "plot(real(Zf),imag(Zf),'og');\n",
    "plot(real(Zf*exp(i*teta)),imag(Zf*exp(i*teta)),'g--')\n",
    "% temporel \n",
    "subplot(122)\n",
    "plot(t,real(Zf*exp(i*pi/2*t)),'go-'); grid on;\n",
    "\n",
    "\n",
    "subplot(121)\n",
    "axis ([-3, 3, -3, 3], \"square\")\n",
    "xlabel('Reel [V]');\n",
    "ylabel('Imag. [V]');\n",
    "title('Phaseurs')\n",
    "\n",
    "subplot(122)\n",
    "xlabel('temps [s]');\n",
    "ylabel('signal [V]');\n",
    "title('Temporel')\n",
    "axis ([-3, 3, -3, 3], \"square\")\n",
    "legend([\"f\";\"Zi : cos\";\"Zq : sin\";\"Zf\"])"
   ]
  }
 ],
 "metadata": {
  "kernelspec": {
   "display_name": "Octave",
   "language": "octave",
   "name": "octave"
  },
  "language_info": {
   "file_extension": ".m",
   "help_links": [
    {
     "text": "GNU Octave",
     "url": "https://www.gnu.org/software/octave/support.html"
    },
    {
     "text": "Octave Kernel",
     "url": "https://github.com/Calysto/octave_kernel"
    },
    {
     "text": "MetaKernel Magics",
     "url": "https://metakernel.readthedocs.io/en/latest/source/README.html"
    }
   ],
   "mimetype": "text/x-octave",
   "name": "octave",
   "version": "4.2.2"
  }
 },
 "nbformat": 4,
 "nbformat_minor": 5
}
