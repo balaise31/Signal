{
 "cells": [
  {
   "attachments": {},
   "cell_type": "markdown",
   "id": "e2c31de0-bdf8-42a3-8f16-8ba69bb23568",
   "metadata": {},
   "source": [
    "---\n",
    "# OCT0 : Auto évaluation Octave/Matlab pour le signal\n",
    "---\n",
    "\n",
    "Vérifiez ici si vous avez les compétences en programmation nécessaires pour manipuler les signaux : parfois on sait faire, mais il manque du vocabulaire...\n",
    "\n",
    "**Si vous n'êtes pas en TP insa ou sur monTP INSA** :  \n",
    " tentez de cliquer sur ce badge [![Binder](https://mybinder.org/badge_logo.svg)](https://mybinder.org/v2/gh/balaise31/signal/HEAD?labpath=discret%2Ftp%2FOCT0_auto_eval.ipynb) pour pouvoir modifier le code et faire les tests.\n",
    "\n",
    "**Si vous êtes sur une machine INSA** :\n",
    "Naviguez directement dans le tableau et tentez de coder les réponses aux tests\n"
   ]
  },
  {
   "attachments": {},
   "cell_type": "markdown",
   "id": "6eb521c3-ffda-4276-ba04-57bef2c217d8",
   "metadata": {},
   "source": [
    "\n",
    "|             Vocabulaire/concept     | Tuto                             | Test                 | Corrigé |\n",
    "|:------------------------------------|:--------------------------------:|---------------------:|--------:|\n",
    "|  polymorphisme, promotion, casting | [Tuto.](OCT1_intro.ipynb#Polymorphisme-des-variables)  | [Test](OCT1_intro.ipynb#Exercice) | [Corrigé](OCT1_intro_corr.ipynb#Exercice)  | \n",
    "| vecteurs, matrices | [Tuto.](./OCT1_intro.ipynb#Manipulation-des-vecteur/matrice/tenseurs)  | [Test](./OCT1_intro.ipynb#Exercice-matrices) | [Corrigé](./OCT1_intro_corr.ipynb#Exercice-matrices)  | \n",
    "| opérateurs vectorisés | [Tuto.](OCT1_intro.ipynb#Boucles-vs-calcul-vectoris%C3%A9)  | [Test](./OCT1_intro.ipynb#Exercice-vectorisation) | [Corrigé](./OCT1_intro_corr.ipynb#Exercice-vectorisation)  | \n",
    "| opérateur par élément (**element wise**) | [Tuto.](OCT1_intro.ipynb#Op%C3%A9rations-%C3%A9l%C3%A9ments-par-%C3%A9l%C3%A9ments)  | [Test](./OCT1_intro.ipynb#Exercice-produits-signaux) | [Corrigé](./OCT1_intro_corr.ipynb#Exercice-produits-signaux)  | \n",
    "| graphiques `plot` | voir les corrigés des deux tests précédents  | [Test récap.](./OCT1_intro.ipynb#Exercice-final--(une-solution)) | [Corrigé](./OCT1_intro_corr.ipynb#Exercice-final--(une-solution))  | \n",
    "| fonctions explicites (obsolète) | [Tuto.](OCT2_intro.ipynb#D%C3%A9claration-de-fonctions-explicites)  | pas  | utile | \n",
    "| fonctions anonymes | [Tuto.](./OCT2_intro.ipynb#Fonctions-anonymes)| [test](./OCT2_intro.ipynb#Exercice-fonctions-anonymes) |[Corrigé](./OCT2_intro_corr.ipynb#Exercice-fonctions-anonymes)  | \n",
    "| interface utilisateur | [Tuto.](./OCT2_intro.ipynb#Interface-utilisateur)  | [Test](./OCT2_intro.ipynb#Exercice-interface) | [Corrigé](./OCT2_intro_corr.ipynb#Exercice-interface)  | \n"
   ]
  },
  {
   "attachments": {},
   "cell_type": "markdown",
   "id": "0b3a3208-3313-47ec-bebe-f79216062ea5",
   "metadata": {},
   "source": [
    "\n",
    "\n",
    "\n",
    "Les concepts sont :\n",
    " - polymorphisme des variables (typage selon utilisation)\n",
    " - manipulation de vecteurs, matrices, tenseurs\n",
    " - vectoriser les calculs (faire du matriciel pas des boucles)\n",
    " - utiliser la vectorisation des opérateurs `*`, `/`, `<`, etc. (`.*`, `./` et `<`) pour fabriquer de nouveaux signaux\n",
    " - maitriser la librairie d'affichage graphique (`plot`, `xlabel`, `subplot`, `hold on`, etc.)\n",
    " - faire des fonctions anonymes plutôt que des fonctions\n",
    " - faire des scripts structurés avec des interfaces utilisateurs frugales (partie config, puis calculs, puis affichage)\n",
    " - faire des intégrales numériques par simple calcul matriciel (pas de boucles) \n",
    "\n",
    "\n"
   ]
  },
  {
   "cell_type": "code",
   "execution_count": null,
   "id": "4e1fa230-85f4-4712-b078-81b41e10dcc0",
   "metadata": {},
   "outputs": [],
   "source": []
  }
 ],
 "metadata": {
  "kernelspec": {
   "display_name": "Octave",
   "language": "octave",
   "name": "octave"
  },
  "language_info": {
   "file_extension": ".m",
   "help_links": [
    {
     "text": "GNU Octave",
     "url": "https://www.gnu.org/software/octave/support.html"
    },
    {
     "text": "Octave Kernel",
     "url": "https://github.com/Calysto/octave_kernel"
    },
    {
     "text": "MetaKernel Magics",
     "url": "https://metakernel.readthedocs.io/en/latest/source/README.html"
    }
   ],
   "mimetype": "text/x-octave",
   "name": "octave",
   "version": "4.2.2"
  }
 },
 "nbformat": 4,
 "nbformat_minor": 5
}
