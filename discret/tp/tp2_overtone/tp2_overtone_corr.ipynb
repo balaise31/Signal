{
 "cells": [
  {
   "cell_type": "markdown",
   "metadata": {},
   "source": [
    "---\n",
    "# TP2 overtone CORR : Effet overtone en temps réel\n",
    "---\n",
    "|    [Readme du TP](../README.ipynb)       | Sujet | Corrigé |\n",
    "|--------|-------|---------|\n",
    "|Python  | [sujet python](./tp2_overtone_python.ipynb) | [corrigé python](./tp2_overtone_python_corr.ipynb) |\n",
    "|Octave  | [sujet octave](./tp2_overtone.ipynb) | [corrigé octave](./tp2_overtone_corr.ipynb) |\n",
    "\n",
    "\n",
    "On désire appliquer ce filtre pour effecteur le même effet d'overtone que la chanteuse Ana Maria Hefele. Regardez l'explication sur \n",
    "[![](https://i.pinimg.com/originals/fa/fe/6d/fafe6d300d6fa568aed43b31fd3bc67d.jpg)](https://www.youtube.com/watch?v=UHTF1-IhuC0)\n",
    "\n",
    "\n"
   ]
  },
  {
   "cell_type": "markdown",
   "metadata": {
    "tags": []
   },
   "source": [
    "# 1 - Un peu de solfège\n",
    "---\n",
    "\n",
    "Nous avons besoin de faire le lien entre les fréquences et les notes (regardez le piano de la vidéo et l'échellen des fréquences). Les Anglais ont remplacé notre DO-RE-MI par les lettres de l'alphabet A-B-C en commençant avec A pour le LA ! Ce serait trop simple autrement...\n",
    "\n",
    "\n",
    " ...| DO| RE| MI| FA|SOL| LA| SI| DO| ...\n",
    ":-:|:-:|:-:|:-:|:-:|:-:|:-:|:-:|:-:|:-:\n",
    " ...| C | D | E | F | G | A | B | C | ...  \n",
    "\n",
    "### Octave\n",
    "\n",
    "En solfège, une octave correspond à une miltiplication par 2 de la fréquence et au fait de passer d'un DO au DO suivant par exemple. Donc tous les multiples de fréquence en puissance de 2 sonneront en harmonie et donneront la même note mais à des octaves différentes.\n",
    "\n",
    "### Notes harmoniques\n",
    "\n",
    "Les fréquences multiples qui ne sont pas en puissance de deux apparaissent naturellement (périodicité et séries de Fourier) et les premièrs harmoniques qui ne sont pas des puissances de deux donnent des notes qui sonnent différemment de la note de départ.\n",
    "\n",
    "### Demi-ton et gamme tempérée\n",
    "\n",
    "Les musiciens occidentaux ont convergés vers \"la gammme tempérée\" qui décompose une octave (multiplication par deux) en 12 demi-tons qui correspondent ainsi chacun à une multiplication par :  \n",
    "demi-ton $\\quad \\leftrightarrow \\quad \\times\\; 2^{\\frac{1}{12}}\\approx \\times\\; 1.0595 \\equiv +5.95 \\% \\approx +\\frac{3}{12}\\text{dB}= + 0.25$ dB.  \n",
    "\n",
    "On obtient ainsi **une échelle de fréquence logarithmique** qui décompose en 12 demi-tons le passage à l'octave (doublement de fréquence). Un barreau de référrence de cette échelle est le **LA de la 4ᵉ octave noté \"LA 4\" officiellement à 440 Hz**.\n"
   ]
  },
  {
   "cell_type": "code",
   "execution_count": 1,
   "metadata": {
    "tags": [],
    "vscode": {
     "languageId": "json"
    }
   },
   "outputs": [
    {
     "name": "stdout",
     "output_type": "stream",
     "text": [
      "demiton =  1.0595\n",
      "demiton_dB =  0.25086\n",
      "LA4diese =  466.16\n",
      "SI4 =  493.88\n",
      "DO5 =  523.25\n",
      "DO3 =  130.81\n",
      "DO7 =  2093.0\n"
     ]
    }
   ],
   "source": [
    "clear all; close all; clc;\n",
    "LA4 = 440;\n",
    "\n",
    "%% VOTRE CODE demiton= ... et demiton_dB...\n",
    "% multiplier par demiton doit augmenter  d'un demi-ton\n",
    "% ^ permet de calculer une puissance non entière\n",
    "demiton = 2^(1/12) \n",
    "demiton_dB = 10*log10(demiton)\n",
    "demiton_log2 = 1/12;\n",
    "quart_de_ton = sqrt(demiton); \n",
    "\n",
    "%% VOTRE CODE LA4diese=...\n",
    "% LA + 1demiton = LA#\n",
    "LA4diese = LA4 * demiton \n",
    "% LA + 2demiton = SI\n",
    "SI4 = LA4 * demiton^2\n",
    "% Et oui! SI +1demiton = DO (octave audessus)\n",
    "DO5 = LA4 * demiton^3\n",
    "% Descendez le DO5 de 2 octaves \n",
    "DO3 = DO5/4  \n",
    "DO7 = DO5*4"
   ]
  },
  {
   "cell_type": "markdown",
   "metadata": {},
   "source": [
    "### Attention aux dB !\n",
    "\n",
    "On rappelle que +3dB correspondent environ à une octave soit $\\times\\;2$ (car $10 \\log{3}\\approx 2$) et que 10dB exactement à x10.  \n",
    "\n",
    "> **20dB sont x100 et non pas x10 ne vous trompez pas !** \n",
    "\n",
    "Lorsque l'on dit qu'un gain x10 fait 20dB on sous-entend **+20dB de ratio de puissance.** Comme x100 en puissance font x10 en amplitude puisque $P=U^2/R$ l'embrouille est vite venue...\n",
    "\n",
    "> Attention `log` est en base 2 avec octave/matlab : il n'y pas de \"ln\" !  \n",
    "> Préférez utiliser explicitement `log10` et ̀`log2`.  \n",
    "> De manière indépendante du langage, on peut toujours choisir sa base en faisant `log(x)/log(B)` où B est la base choisie.\n",
    "\n",
    "Ici les dB expriment un ratio entre les fréquences des différentes notes. Comme l'échelle de fréquence des notes est logarithlique, augmenter d'un demi-ton sera toujours une augmentation de fréquence de +0.25dB. \n",
    "\n",
    "### dB acoustiques\n",
    "Ne pas confondre avec les dB exprimant le ratio de puissance acoustique. Il exprime le rapport **de puissance** acoustique (on parle d'intensité sonore) avec une référence qui est l'intensité à la limite du seuil audible :  \n",
    "> $0\\text{dB} \\leftrightarrow 1\\text{pW}/m^2$ d'intensité acoustique  \n",
    "> $\\leftrightarrow  20 \\mu P $ de pression acoustique  \n",
    "> $\\leftrightarrow$ \"Bruissement de la brise dans les champs de blé\" \n",
    "\n",
    "Comme l'oreille humaine est plus ou moins sensible à différentes fréquences (très sensible autour de 1KHz) un facteur de correction peut être apporté en fonction de la fréquence. C'est donc bien un filtre qui est apporté au spectre d'intensité pour se rapprocher de la notion \"d'intensité ressentie\". Le standard donne 3 filtres de A à C et l'unité de mesure associée est communément notée dBA, dBB, dBC. "
   ]
  },
  {
   "cell_type": "markdown",
   "metadata": {
    "tags": []
   },
   "source": [
    "### Les harmoniques qui sonnent bien : tierce et quinte\n",
    "\n",
    "Lorsque l'on chante (un DO 4 par exemple) le signal de la voix est quasi-périodique à la fréquence DO4 et comporte naturellement des multiples (Séries de Fourier oblige !). On distingue :\n",
    "  - $F_0$ (ici DO4) : La **fondamentale** (ou harmonique de rang 1)  \n",
    "  - $F_1 = 2 . F_0$ (ici DO5) : Le **premier harmonique** (rang 2) donne la même note à l'octave supérieure\n",
    "  - $F_2 = 3 . F_0$ (ici SOL5) : Le deuxième harmonique (rang 3) **quinte juste** est ici un SOL qui \"sonne\" dans l'octave supérieure différemment du DO. \n",
    "  - $F_3 = 4 . F_0$ (ici DO 6) : Le troisième harmonique (rang 4) même note deux octaves au-dessus\n",
    "  - $F_4 = 5 . F_0$ (ici MI 6) : Le quatrième harmonique (rang 5) **tierce** est ici un MI qui sonne différemment du DO deux octaves au-dessus\n",
    "  \n",
    "### Gamme de notes et degrés\n",
    "\n",
    "La fondamentale n'est pas toujours un DO et on peut vouloir décaler les tons d'une chanson en partant d'une autre note. On parle plutôt en **degrés** où la note de degré I est la fondamentale et les autres degrés sont relatifs à cette note. On répartit ainsi 7 degrés de I à VII dans une octave.\n",
    "\n",
    "On peut monter la gamme majeure de DO en partant du DO et en faisant des écarts de 2 demi-tons et **parfois un seul demi-ton !** :\n",
    "\n",
    "\n",
    "Degrés      | I | | II | |  III | IV | | V    |   | VI |  | VII| I   | ...\n",
    ":----------:|:-:|-|:--:|-|-----:|:---|-|:----:|:-:|:--:|--|---:|:----|:---:\n",
    "Demitons    | 0 |1| 2  |3|   4  |  5 |6|  7   | 8 | 9  |10| 11 | 12=0| 13=1\n",
    "Gamme DO maj| DO| | RE | | MI   | FA | | SOL  |   | LA |  | SI | DO  | ...\n",
    "Gamme FA maj| FA| | SOL| | LA   | LA#| |  DO  |   | RE |  | MI | FA  | ...\n",
    "\n",
    "La gamme est dite majeure car, elle respecte les intervales \"ton-ton-demiton-ton-ton-ton-demiton\" entre chaques degrés. Cela est culturel et d'autres gammes existent bien sûr.\n",
    "\n",
    "La gamme tempérée permet presque de représenter les harmoniques x 3 (quinte) et x 5 (tierce) fidèlement car :\n",
    " - La **tierce** à $5.F_0$ donne deux octaves en dessous $F_0<\\frac{5.F_0}{4}<2.F_0$ une note de la même octave que la fondamentale.  \n",
    "   Cette note à $1.25 F_0$ est presque comme 4 demitons au-dessus de la fondamentale soit ${2^{\\frac{1}{12}}}^4 . F_0 \\approx 1.2599 F_0 $.  \n",
    "   On la nomme **tierce** car elle est de degré III.\n",
    "- La **quinte** à $3.F_0$ donne une octave en dessous $\\frac{3.F_0}{2}$ une note de la même octave que la fondamentale. \n",
    "  Cette note à $1.5 . F_0$ est presque 7 demi-tons au-dessus de la fondamentale soit ${2^{\\frac{1}{12}}}^7 \\approx 1.4983 . F_0$.  \n",
    "  La **quinte** est appelée ainsi car de degré V.\n",
    "\n",
    "Ainsi un instrument étant accordé pour jouer une gamme de DO avec la quinte juste sonnera mieux que celui accordé en gamme tempérée. L'intérêt apparait lorsque l'on veut jouer dans une autre gamme :\n",
    "  - il faudrait réacorder l'instrument pour être exact ! Autrement de gros écarts de fréquences apparaissent ;\n",
    "  - celui en gamme tempérée n'as pas besoin d'être réaccordé et fera globalement de petites erreurs... \n"
   ]
  },
  {
   "cell_type": "markdown",
   "metadata": {},
   "source": [
    "### Exercice utile pour la suite\n",
    "\n",
    "On veut générer un vecteur de fréquences allant du DO3 (vers 131 Hz) au DO7 (vers 2093 Hz) tous les quarts de ton. On doit obtenir un tableau de 97 valeurs du genre [131, ..., 2033, 2093] environs.\n",
    "\n",
    "> Les faibles utiliseront la fonction `logspace` (mais c'est + compliqué en fait !)  \n",
    "> Les fortes feront une boucle et multiplieront par quart_de_ton  \n",
    "> Les fabuleuses utiliseront la fonction log2, et le calcul vectorisé !\n",
    "\n",
    "Choisissez une manière de faire et stockez le résulta tdans f pour vérification"
   ]
  },
  {
   "cell_type": "code",
   "execution_count": 2,
   "metadata": {
    "vscode": {
     "languageId": "json"
    }
   },
   "outputs": [
    {
     "name": "stdout",
     "output_type": "stream",
     "text": [
      "Bravo, f semble bon\n",
      "M =  97\n"
     ]
    }
   ],
   "source": [
    "%% Nombre de points\n",
    "M = 4 * 12 * 2 +1 ; % 4 octaves * 12 demi-ton * 2 quart de tons\n",
    "\n",
    "%% VOTRE CODE f_aible = ...\n",
    "%% Le faible utilise logspace\n",
    "f_aible = logspace(log10(DO3),log10(DO7), M);\n",
    "\n",
    "%% OU BIEN VOTRE CODE f_orte=...\n",
    "%% La forte utilise une boucle For\n",
    "f=DO3;\n",
    "for id=1:M\n",
    "    f_orte(id) = f;\n",
    "    f = f*quart_de_ton;\n",
    "end\n",
    "\n",
    "%% OU BIEN VOTRE CODE f_abuleuse = ...\n",
    "%% La geeke utilise la fonction 'ln' \n",
    "log2_f = 0 : 1/12/2 : 4;  % *2^0 à *2^4 par quart de ton\n",
    "f_abuleuse = DO3 * 2.^log2_f;\n",
    "\n",
    "%% CHOISISSEZ f= f_aible OU f=f_orte OU f=f_abuleuse\n",
    "%% Pour vérifier\n",
    "f=f_aible;\n",
    "if abs(f(1)-DO3)>1e-6\n",
    "    disp(\"La première fréquence n'est pas un DO3\")\n",
    "elseif abs(f(end)-DO7)>1e-3\n",
    "    disp(\"La dernière fréquence n'est pas un DO7\")\n",
    "elseif abs(f(end)/f(end-1)-2^(1/24))>1e-6\n",
    "    disp(\"Ce n'est pas espacé au quart de ton\")\n",
    "else\n",
    "    disp(\"Bravo, f semble bon\");\n",
    "end\n",
    "M=length(f)"
   ]
  },
  {
   "cell_type": "markdown",
   "metadata": {},
   "source": [
    "# 2 - Analyse et filtrage hors-ligne\n",
    "---\n",
    "\n",
    "On récupère le fichier son `ana_ah.wav` où un \"aaaaah\" est chanté sur le ton d'un DO4. On utilise la fonction `audioread`\n",
    "\n",
    "A vous de créer un vecteur temps de la bonne lognueur ayant la même longueur que le signal `s`.\n",
    "\n",
    "Normalisez le signal pour qu'il ait une norme infinie de 1 : $\\|s\\|_\\infty=1$ (on peut utiliser la fonction `max`)"
   ]
  },
  {
   "cell_type": "code",
   "execution_count": 3,
   "metadata": {
    "tags": [],
    "vscode": {
     "languageId": "json"
    }
   },
   "outputs": [
    {
     "data": {
      "image/png": "[encoded data removed]",
      "text/plain": [
       "<IPython.core.display.Image object>"
      ]
     },
     "metadata": {},
     "output_type": "display_data"
    }
   ],
   "source": [
    "racine = pwd; racine = [racine(1:(findstr(racine,\"Signal\")+6)), \"discret/tp/tp2_overtone\"];cd (racine);\n",
    "\n",
    "fich=\"ana_ah\";\n",
    "\n",
    "[Y,Fe]=audioread([\"./\",fich,\".wav\"]);\n",
    "s=Y(:,1); % récupère que le son gauche (colonne 1) \n",
    "N=length(s);Te=1/Fe;\n",
    "\n",
    "%% VOTRE CODE t=...\n",
    "t=(1:N);t=t-1;t=t*Te;\n",
    "\n",
    "%% VOTRE CODE s = s ... \n",
    "%% Normalisant s en norme infinie\n",
    "s=s/max(abs(s));\n",
    "\n",
    "%% VOTRE AFFICHAGE de s en fonction du  temps\n",
    "plot(t,s)\n",
    "xlabel(\"temps [s]\")\n",
    "\n",
    "%% On peut créer un fichier .wav  avec audiowrite ainsi\n",
    "audiowrite([\"./\",fich,\"_mono.wav\"],s,Fe);\n"
   ]
  },
  {
   "cell_type": "markdown",
   "metadata": {},
   "source": [
    "On peut écouter les fichiers audios dans un terminal avec la commande linux `aplay` (ALSA player).\n",
    "On peut exécuter une commande comme dans un terminal à partir d'un notebook en précédant la commade par `!`.\n",
    "\n",
    "Donc pour écouter le signal donné puis celui normalisé (la commande aplay est bloquante) on fait"
   ]
  },
  {
   "cell_type": "code",
   "execution_count": null,
   "metadata": {},
   "outputs": [
    {
     "name": "stdout",
     "output_type": "stream",
     "text": [
      "\u001b[0m\u001b[00;36mana_ah_mono.wav\u001b[0m  filt_iir_I.m  \u001b[01;32mgenere_les_scripts.sh\u001b[0m    tp2_overtone.ipynb\n",
      "\u001b[00;36mana_ah.wav\u001b[0m       \u001b[00;36mfilt_rec.wav\u001b[0m  \u001b[01;34mscripts_octave\u001b[0m\n",
      "\u001b[00;36mfilt_c.wav\u001b[0m       \u001b[00;36mfilt_z.wav\u001b[0m    tp2_overtone_corr.ipynb\n",
      "\n",
      "Lecture WAVE 'ana_ah.wav' : Signed 16 bit Little Endian, Fréquence 48000 Hz, Stéréo\n",
      "\n",
      "\n",
      "Lecture WAVE 'ana_ah_mono.wav' : Signed 16 bit Little Endian, Fréquence 48000 Hz, Mono\n"
     ]
    }
   ],
   "source": [
    "!ls\n",
    "!aplay ana_ah.wav \n",
    "!aplay ana_ah_mono.wav"
   ]
  },
  {
   "cell_type": "markdown",
   "metadata": {
    "tags": []
   },
   "source": [
    "## Analyse directement aux fréquences intéressantes\n",
    "---\n",
    "\n",
    "Inutile de bourriner une `fft` alors que l'on ne veut voir que des fréquences \"mélodiques\" !\n",
    "\n",
    "On utilise le **vecteur de fréquences en échelle log** précédant allant du D03 au DO7 tous les quarts de tons.\n",
    "\n",
    "On construit la matrice de projection en échantillonnant $e^{i2\\pi\\,f\\,t}$ en discret pour ces fréquences (transposée conjuguée) comme dans [VEC2 bases fréquentielles](../../cours/notebooks/VEC2_bases_frequentielles.ipynb#Base-fr%C3%A9quentielle-orthogonale-:-TFD) et dans le TD FREQ sur la TFD en matriciel [exo1 TFD corrige](../../td/FREQ_code/exo1_tfd_corr_octave.ipynb#TFD-Matricielle).\n",
    "\n",
    "> Ouvrez une console **File -> New Console for Notebook**, et regardez si f et t sont  \n",
    "> des vecteurs lignes ou colonnes.\n",
    "> Testez différentes produits `f*t` `f'*t` etc. et regardez comment former la\n",
    "> matrice de calcul de fft uniquement pour les fréquences voulues\n"
   ]
  },
  {
   "cell_type": "code",
   "execution_count": 4,
   "metadata": {
    "vscode": {
     "languageId": "json"
    }
   },
   "outputs": [
    {
     "name": "stdout",
     "output_type": "stream",
     "text": [
      " N=274692 points temporels et M=97 points fréquentiels\n",
      "Construction de la matrice de calcul de TFD (97 x 274692) pour les f en échelle log...\n",
      "Elapsed time is 1.6459 seconds.\n",
      "\n",
      "Calcul de la TFD : soit 97 x 274692 = 26.6451 Mflo (Millions d'opérations flottantes)...\n",
      "Elapsed time is 0.186548 seconds.\n"
     ]
    }
   ],
   "source": [
    "printf(\" N=%d points temporels et M=%d points fréquentiels\\n\",N,M);\n",
    "printf(\"Construction de la matrice de calcul de TFD (%d x %d) pour les f en échelle log...\\n\",M,N);\n",
    "tic;\n",
    "%% VOTRE CODE W=...\n",
    "% Signaux en lignes de la forme ci-dessous\n",
    "% utiliser le produit matriciel d'un colonne par une ligne !\n",
    "%  ----------> t\n",
    "% |\n",
    "% |   W = matrice conjuguée de exp(i.2.pi.f.t)\n",
    "% V\n",
    "W =  exp(-i*2*pi*f'*t);\n",
    "toc\n",
    "printf(\"\\nCalcul de la TFD : soit %d x %d = %d Mflo (Millions d'opérations flottantes)...\\n\",length(f),N,N*length(f)/1e6);\n",
    "\n",
    "tic;\n",
    "%% VOTRE CODE tfd_s = ...\n",
    "% Utilisant la matrice W et le signal s pour \n",
    "% obtenir les \"projections\" aux fréquences voulues da,s tfd_s\n",
    "tfd_s = W*s;\n",
    "toc\n",
    "\n",
    "clear W % Plus besoin ! et occupe 27M floats * 4 octets = 108 M de RAM !"
   ]
  },
  {
   "cell_type": "markdown",
   "metadata": {},
   "source": [
    "On peut maintenant afficher en échelle fréquentielle log et gain en dB le module : le spectre.  \n",
    "On ne s'intéresse pas à la phase puisque ce n'est pas un filtre mais un signal.\n",
    "\n",
    "On utilise le script `afficher_grille_notes` qui est plus haut dans l'arborescence du dépôt `Signal/discret/utiles`. On regarde en échelle de fréquence log, puis linéaire.\n"
   ]
  },
  {
   "cell_type": "code",
   "execution_count": 5,
   "metadata": {
    "vscode": {
     "languageId": "json"
    }
   },
   "outputs": [
    {
     "data": {
      "image/png": "[encoded data removed]",
      "text/plain": [
       "<IPython.core.display.Image object>"
      ]
     },
     "metadata": {},
     "output_type": "display_data"
    }
   ],
   "source": [
    "addpath(\"../../utiles\");\n",
    "dBde = @(gain) max(-100,20*log10(abs(gain))) ;\n",
    "\n",
    "subplot(211) % échelle log/log comme bode\n",
    "ax=semilogx(f,dBde(tfd_s),'.-'); \n",
    "title(\"quelques octaves en echelle de frequence log...\");\n",
    "xlabel(\"Frequences [Hz] echelle log\")\n",
    "hold on;\n",
    "grid_notes(); % Fonction maison pour les octaves\n",
    "\n",
    "subplot(212)% échelle lin\n",
    "plot(f,dBde(tfd_s),'.-'); \n",
    "hold on;\n",
    "grid_notes();\n",
    "title(\".. en echelle lineaire\")\n",
    "xlabel(\"Frequences [Hz] echelle lin\")\n"
   ]
  },
  {
   "cell_type": "markdown",
   "metadata": {},
   "source": [
    "## Analyse par fft\n",
    "---\n",
    "\n",
    "Utilisons l'algorithme `fft` pour afficher ces fréquences.\n",
    "\n",
    "Attention N points temporel donnent N points en fréquentiel répartis dans $[0, F_e[$.\n",
    "\n",
    "À vous de créer un vecteur de fréquences linéaire `f_lin` adéquat permettant d'afficher de même manière le module de la fft.\n",
    "\n"
   ]
  },
  {
   "cell_type": "code",
   "execution_count": 26,
   "metadata": {
    "vscode": {
     "languageId": "json"
    }
   },
   "outputs": [
    {
     "data": {
      "image/png": "[encoded data removed]",
      "text/plain": [
       "<IPython.core.display.Image object>"
      ]
     },
     "metadata": {},
     "output_type": "display_data"
    }
   ],
   "source": [
    "## VOTRE CODE Df=..., f_lin=...\n",
    "df=Fe/N ;   % La résolution fréquentielle en N points\n",
    "f_lin = 0:df:(Fe-df);  % Les fréquences linéaires\n",
    "\n",
    "## VOTRE CODE fft_s= ....\n",
    "# help fft  si nécessaire\n",
    "# Pourquoi fft n'as pas besoin de connaitre Fe ?!\n",
    "fft_s = fft(s);    \n",
    "\n",
    "# On affiche de même le résultat mais avec l'algo fft\n",
    "# Avec vos fréquences\n",
    "pas_tout = round(110/df):round(9000/df);\n",
    "subplot(211)\n",
    "ax=semilogx(f_lin(pas_tout),dBde(fft_s(pas_tout)),'-'); \n",
    "title(\"quelques octaves en echelle de frequence log...\");\n",
    "xlabel(\"Frequences [Hz] echelle log\")\n",
    "hold on;\n",
    "grid_notes();\n",
    "\n",
    "subplot(212)\n",
    "plot(f_lin,dBde(fft_s),'-'); \n",
    "hold on;\n",
    "grid_notes();\n",
    "title(\".. en echelle lineaire\")\n",
    "xlabel(\"Frequences [Hz] echelle lin\")\n"
   ]
  },
  {
   "cell_type": "markdown",
   "metadata": {},
   "source": [
    "Remarquez alors que le spectre est symétrique par rapport à $\\frac{F_e}{2}$ !\n",
    "\n",
    "Pas étonnant car (sélectionnez la bonne expliquation) :\n",
    " - un spectre discret est $F_e/2$-périodique et peu importe que le signal soit réel \n",
    " - un spectre discret est $F_e$-périodique et peu importe que le signal soit réel \n",
    " - un spectre discret est $F_e$-périodique et le signal est réel donc $\\hat{S}(-f)=\\overline{\\hat{S}(f)}$\n",
    " - un spectre discret est $F_e/2$-périodique et le signal est réel donc $\\hat{S}(-f)=\\overline{\\hat{S}(f)}$\n",
    "\n",
    "On peut utiliser `fftshift` pour afficher une période du spectre centrée en 0. "
   ]
  },
  {
   "cell_type": "code",
   "execution_count": 29,
   "metadata": {
    "vscode": {
     "languageId": "json"
    }
   },
   "outputs": [
    {
     "data": {
      "image/png": "[encoded data removed]",
      "text/plain": [
       "<IPython.core.display.Image object>"
      ]
     },
     "metadata": {},
     "output_type": "display_data"
    }
   ],
   "source": [
    "## VOTRE affichage avec fftshift centré autour de 0 en fréquence\n",
    "\n",
    "f_sym = f_lin - Fe/2;\n",
    "subplot(211);\n",
    "plot(f_sym, fftshift(dBde(fft_s)));\n",
    "grid_notes()\n",
    "\n",
    "subplot(212);\n",
    "pas_tout = round(N/2-1900/df):round(N/2+2000/df);\n",
    "plot(f_sym(pas_tout),fftshift(dBde(fft_s))(pas_tout));\n",
    "grid_notes();"
   ]
  },
  {
   "cell_type": "markdown",
   "metadata": {
    "tags": []
   },
   "source": [
    "## Quelle harmonique amplifier ?\n",
    "\n",
    "\n",
    "  \n",
    "On remarque que la **tierce majeure** donne un MI d'amplitude plus faible que les DO en harmonie et le SOL de la quinte.\n",
    "\n",
    "On peut choisir d'amplifier soit :\n",
    "  - la **quinte** pour faire un SOL encore plus fort,\n",
    "  - la **tierce** qui est déjà faible pour faire apparaître un MI !\n",
    "\n",
    "On peut d'abord ajuster le filtre continu du second ordre du tp précédent pour qu'il amplifie la **tierce** (4ᵉ harmonique, donc celle de rang 5 à la fréquence $5.F_0$) avec +/- un demi ton de sélectivité ($\\zeta$ <0.1).\n",
    "\n",
    "\n",
    "1) Ajustez $\\omega_n$ et $\\zeta$ et calculez le gain du second ordre pour les fréquences d'analyse.\n",
    "\n",
    "\n",
    "> On pourra accentuer l'effet en appliquant 2 à 3 fois ce filtre !  \n",
    "> Que devient la fonction de transfert et la réponse harmonique en faisnt cela ?\n",
    "\n",
    "\n"
   ]
  },
  {
   "cell_type": "code",
   "execution_count": 8,
   "metadata": {
    "tags": [],
    "vscode": {
     "languageId": "json"
    }
   },
   "outputs": [
    {
     "data": {
      "image/png": "[encoded data removed]",
      "text/plain": [
       "<IPython.core.display.Image object>"
      ]
     },
     "metadata": {},
     "output_type": "display_data"
    }
   ],
   "source": [
    "Gc= @(p,wn,zeta) wn^2./(p.^2 + 2*zeta*wn*p + wn^2);\n",
    "p = i*2*pi*f_lin';\n",
    "\n",
    "\n",
    "pas_tout = round(100/df):round(3000/df);\n",
    "plot(f_lin(pas_tout),dBde(fft_s(pas_tout))); hold on;\n",
    "\n",
    "%% On recherche le pic de fréquence autour de F0\n",
    "[maxi, id_max] = max(abs(fft_s)); % la fondamentale est maximum\n",
    "w0 = (id_max*df-df)  *2*pi;\n",
    "\n",
    "puis = [1    1    1    1     1    1    1    1    1    1];\n",
    "zetas = [0.2 0.1 0.08 0.07 0.06 0.04 0.03 0.02 0.02 0.02];\n",
    "for rang = 1:10\n",
    "    wn = rang * w0;    % on multiplie par 3 pour l'harmonique\n",
    "    plot(f_lin(pas_tout),dBde(Gc(p(pas_tout),wn,zetas(rang)).^puis(rang)));\n",
    "end\n",
    "rang=7;\n",
    "wn = w0*rang;\n",
    "zeta=zetas(rang);\n",
    "pow=puis(rang);"
   ]
  },
  {
   "cell_type": "markdown",
   "metadata": {
    "tags": [],
    "vscode": {
     "languageId": "json"
    }
   },
   "source": [
    "# 3 - Filtre IIR : bilinéaire\n",
    "---\n",
    "\n",
    "Choisissez de continuer en notebook ou en scripts. Faites des sauvegardes dans tous les cas.\n"
   ]
  },
  {
   "cell_type": "markdown",
   "metadata": {},
   "source": [
    "## Continuer en notebook\n",
    "\n",
    "\n",
    "> Vous pouvez continuer dans ce notebook le travail en utilisant\n",
    ">   File → New Console For Notebook\n",
    ">  Voir les variables en tapant \"whos\" dans la console\n",
    "> \n",
    "> Il peut être utile de faire une copie de ce Notebook en cas de mise à jour  \n",
    ">   File → Duplicate et rename  \n",
    "> On peut créer un point de suavegarde sans changer de nom   \n",
    ">   File → Snapshot\n",
    "\n",
    "\n",
    "## Continuer avec des scripts\n",
    "\n",
    "> Vous pouvez exporter ce notebook en scripts `.m` et continuer de travailler\n",
    "> avec octave ou matlab.  \n",
    "> Pour cela dans un terminal lancez la commande\n",
    "\n",
    "```bash\n",
    "./genere_les_scripts.sh\n",
    "cd scripts_octave\n",
    "octave --gui\n",
    "```\n",
    "\n",
    "Vous pouvez travailler avec le GUI d'octave ou Matlab, avec emacs en mode octave (ALT+X octave-mode), ou un éditeur évolué (codium, pycharm)..."
   ]
  },
  {
   "cell_type": "code",
   "execution_count": 12,
   "metadata": {},
   "outputs": [
    {
     "name": "stdout",
     "output_type": "stream",
     "text": [
      "on sauve les fichiers .m existants de ./scripts_octave\n",
      "\n",
      "\n",
      "==> .sauv.tp2_overtone_corr.m.du_16_mai_14h45m00s.m\n",
      "\n",
      "\n",
      "    pour voir les diffs :  diff ./scripts_octave/tp2_overtone_corr.m ./scripts_octave/.sauv.tp2_overtone_corr.m.du_16_mai_14h45m00s.m \n",
      "\n",
      "\n",
      "==> .sauv.tp2_overtone.m.du_16_mai_14h45m00s.m\n",
      "\n",
      "\n",
      "    pour voir les diffs :  diff ./scripts_octave/tp2_overtone.m ./scripts_octave/.sauv.tp2_overtone.m.du_16_mai_14h45m00s.m \n",
      "\n",
      "\n",
      "\n",
      "\n",
      "\n",
      "On  génère les .m à partir des .ipynb dans ./scripts_octave\n",
      "\n",
      "\n",
      "[NbConvertApp] Converting notebook tp2_overtone_corr.ipynb to script\n",
      "\n",
      "\n",
      "[NbConvertApp] Writing 6837 bytes to scripts_octave/tp2_overtone_corr.m\n",
      "\n",
      "\n",
      "[NbConvertApp] Converting notebook tp2_overtone.ipynb to script\n",
      "\n",
      "[NbConvertApp] Writing 6890 bytes to scripts_octave/tp2_overtone.m\n",
      "\n",
      "Pour voir les sauvegardes\n",
      "ls -a ./scripts_octave\n",
      "\n",
      "Pour nettoyer les sauvegardes faites\n",
      "rm ./scripts_octave/.sauv.*\n",
      "\n"
     ]
    }
   ],
   "source": [
    "! ./genere_les_scripts.sh\n"
   ]
  },
  {
   "cell_type": "code",
   "execution_count": 13,
   "metadata": {},
   "outputs": [
    {
     "name": "stdout",
     "output_type": "stream",
     "text": [
      "[1] 27013\n",
      "\n"
     ]
    }
   ],
   "source": [
    "! cd scripts_octave && octave --force-gui &"
   ]
  },
  {
   "cell_type": "markdown",
   "metadata": {},
   "source": [
    "## Synthèse discrète bilinéaire\n",
    "\n",
    "Utilisez la synthèse bilinéaire pour fabriquer un filtre discret équivalent au filtre continu que vous avez ajusté.  \n",
    "N'oubliez pas l'effet de compression des fréquences !\n",
    "\n",
    "  1) Donnez la fonction de transfert \n",
    "  2) Affichez la réponse harmonique par-dessus le spectre de la voix\n",
    "  3) Appliquez hors-ligne ce filtre en multipliant puis ifft\n",
    "  \n",
    "  2) Multipliez le spectre du signal par celui de votre second ordre pour filtrer.\n",
    "\n",
    "3) Faites une transformée inverse et généré un fichier son du signal filtré.\n",
    "\n",
    "Vous mettrez ainsi au point votre fonction de transfert continue pour obtenir le meilleur effet sonore.\n"
   ]
  },
  {
   "cell_type": "code",
   "execution_count": 14,
   "metadata": {
    "tags": [],
    "vscode": {
     "languageId": "json"
    }
   },
   "outputs": [],
   "source": [
    "fft_filt_c = fft_s .* Gc(p,wn,zeta).^pow;\n",
    "y_filt_c = real(ifft(fft_filt_c));\n",
    "y_filt_c = y_filt_c/max(abs(y_filt_c));\n",
    "audiowrite(\"filt_c.wav\",y_filt_c,Fe)"
   ]
  },
  {
   "cell_type": "code",
   "execution_count": 15,
   "metadata": {
    "vscode": {
     "languageId": "json"
    }
   },
   "outputs": [
    {
     "data": {
      "image/png": "[encoded data removed]",
      "text/plain": [
       "<IPython.core.display.Image object>"
      ]
     },
     "metadata": {},
     "output_type": "display_data"
    }
   ],
   "source": [
    "Gbi = @(z) 2/Te*(z-1)./(z+1);\n",
    "wnpre = 2/Te*tan(wn*Te/2);\n",
    "z=exp(Te*p);\n",
    "Gzpre = Gc(Gbi(z),wnpre,zeta);\n",
    "Gz = Gc(Gbi(z),wn,zeta);\n",
    "plot(f_lin(pas_tout),dBde(fft_s(pas_tout))); hold on;\n",
    "plot(f_lin(pas_tout),dBde(Gc(p(pas_tout),wn,zeta).^pow),'k');\n",
    "plot(f_lin(pas_tout),dBde(Gzpre(pas_tout).^pow),'g-');\n",
    "plot(f_lin(pas_tout),dBde(Gz(pas_tout).^pow),'g--');\n",
    "\n",
    "fft_filt_z = fft_s .* Gz.^2;\n",
    "y_filt_z = real(ifft(fft_filt_z));\n",
    "y_filt_z = y_filt_z/max(abs(y_filt_z));\n",
    "audiowrite(\"filt_z.wav\",y_filt_z,Fe)"
   ]
  },
  {
   "cell_type": "markdown",
   "metadata": {},
   "source": [
    "## 4 - Filtre IIR : récurrence (temps réel)\n",
    "---\n",
    "\n",
    "On peut calculer comme si l'on était en temps réel la réponse du filtre en faisant une fonction récursive.\n",
    "\n",
    "La boucle suivante \"simule\" un temps réel où à chaque nouvel échantillon, le filtre est calculé avec ce nouveau sample et donne la valeur de la sortie.\n",
    "\n"
   ]
  },
  {
   "cell_type": "code",
   "execution_count": 16,
   "metadata": {
    "vscode": {
     "languageId": "json"
    }
   },
   "outputs": [],
   "source": [
    "function [a,b] = filt_overtone(w0,rang,Te)\n",
    "    wn=2/Te*tan(rang*w0*Te/2);\n",
    "    puis = [1    1    1    1     1    1    1    1    1    1]*1;\n",
    "    zetas = [0.2 0.1 0.08 0.07 0.06 0.04 0.03 0.02 0.02 0.02]*1;\n",
    "    zeta=zetas(rang);\n",
    "    a0 = (1+4*zeta/(Te*wn)+4/(Te*wn)**2); \n",
    "    a1 = (2-8/(Te*wn)**2); \n",
    "    a2 = (1-4*zeta/(Te*wn)+4/(Te*wn)**2);\n",
    "\n",
    "    aa = [a0, a1, a2]/a0;\n",
    "    bb = [1, 2, 1]/a0;\n",
    "    a=aa;\n",
    "    b=bb;\n",
    "    for k=2:puis(rang)\n",
    "        a=conv(a,aa);\n",
    "        b=conv(b,bb);\n",
    "    end\n",
    "end\n"
   ]
  },
  {
   "cell_type": "code",
   "execution_count": 17,
   "metadata": {},
   "outputs": [
    {
     "data": {
      "image/png": "[encoded data removed]",
      "text/plain": [
       "<IPython.core.display.Image object>"
      ]
     },
     "metadata": {},
     "output_type": "display_data"
    }
   ],
   "source": [
    "%% Fonction pouvant implémenter un filtre IIR de type I\n",
    "% Implique la mémorisation des x et des y\n",
    "% cette mémoire est accessible en général par variables globales\n",
    "global mem_x\n",
    "global mem_y\n",
    "filtre = @filt_iir_I; % version stupide de la fonction\n",
    "%% CODEZ VOTRE FONCTION dans le fichier filtre_iir_I.m\n",
    "\n",
    "\n",
    "mem_x = zeros(1,15);   % mémoire du filtre vide au début\n",
    "mem_y = mem_x;\n",
    "\n",
    "%% Le vecteur des sorties à la même taille que s\n",
    "rang=3;\n",
    "inc=1;\n",
    "y = 0*s;\n",
    "a=1;\n",
    "b=1;\n",
    "for k = 1:N\n",
    "    if (mod(k,Fe/4)==Fe/4-1)\n",
    "        [a,b] = filt_overtone(w0,rang,Te);\n",
    "        rang = rang + inc ;\n",
    "        if (rang>9)\n",
    "            inc = -inc;\n",
    "        end\n",
    "        if (rang<3)\n",
    "            inc = -inc;\n",
    "        end\n",
    "    end\n",
    "    y(k) = filtre(s(k),b,a);    \n",
    "end\n",
    "\n",
    "plot(t,y)\n",
    "y = y /max(abs(y));\n",
    "audiowrite(\"filt_rec.wav\",y,Fe)"
   ]
  },
  {
   "cell_type": "code",
   "execution_count": 18,
   "metadata": {},
   "outputs": [
    {
     "name": "stdout",
     "output_type": "stream",
     "text": [
      "Lecture WAVE 'filt_rec.wav' : Signed 16 bit Little Endian, Fréquence 48000 Hz, Mono\n",
      "\n",
      "\n"
     ]
    }
   ],
   "source": [
    "!aplay filt_rec.wav"
   ]
  },
  {
   "cell_type": "code",
   "execution_count": 1,
   "metadata": {},
   "outputs": [],
   "source": [
    "mex myhello.c"
   ]
  },
  {
   "cell_type": "code",
   "execution_count": 2,
   "metadata": {},
   "outputs": [
    {
     "name": "stdout",
     "output_type": "stream",
     "text": [
      "Hello, World!\n",
      "I have 3 inputs and 0 outputs\n"
     ]
    }
   ],
   "source": [
    "myhello (1,2,3)"
   ]
  },
  {
   "cell_type": "code",
   "execution_count": 4,
   "metadata": {},
   "outputs": [
    {
     "name": "stdout",
     "output_type": "stream",
     "text": [
      "ans = mex\n"
     ]
    }
   ],
   "source": [
    "mexext"
   ]
  },
  {
   "cell_type": "code",
   "execution_count": null,
   "metadata": {},
   "outputs": [],
   "source": []
  }
 ],
 "metadata": {
  "kernelspec": {
   "display_name": "Octave",
   "language": "octave",
   "name": "octave"
  },
  "language_info": {
   "file_extension": ".m",
   "help_links": [
    {
     "text": "GNU Octave",
     "url": "https://www.gnu.org/software/octave/support.html"
    },
    {
     "text": "Octave Kernel",
     "url": "https://github.com/Calysto/octave_kernel"
    },
    {
     "text": "MetaKernel Magics",
     "url": "https://metakernel.readthedocs.io/en/latest/source/README.html"
    }
   ],
   "mimetype": "text/x-octave",
   "name": "octave",
   "version": "4.2.2"
  },
  "latex_envs": {
   "LaTeX_envs_menu_present": true,
   "autoclose": false,
   "autocomplete": true,
   "bibliofile": "biblio.bib",
   "cite_by": "apalike",
   "current_citInitial": 1,
   "eqLabelWithNumbers": true,
   "eqNumInitial": 1,
   "hotkeys": {
    "equation": "Ctrl-E",
    "itemize": "Ctrl-I"
   },
   "labels_anchors": false,
   "latex_user_defs": false,
   "report_style_numbering": false,
   "user_envs_cfg": false
  }
 },
 "nbformat": 4,
 "nbformat_minor": 4
}
