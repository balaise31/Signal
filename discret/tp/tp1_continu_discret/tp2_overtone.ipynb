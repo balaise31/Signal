{
 "cells": [
  {
   "cell_type": "markdown",
   "metadata": {},
   "source": [
    "---\n",
    "# TP2 overtone : Effet overtone en temps réel\n",
    "---\n",
    "\n",
    "On désire appliquer ce filtre pour effecteur le même effet d'overtone que la chanteuse Ana Maria Hefele. Regardez l'explication sur \n",
    "[![](https://i.pinimg.com/originals/fa/fe/6d/fafe6d300d6fa568aed43b31fd3bc67d.jpg)](https://www.youtube.com/watch?v=UHTF1-IhuC0)\n",
    "\n",
    "\n"
   ]
  },
  {
   "cell_type": "markdown",
   "metadata": {
    "tags": []
   },
   "source": [
    "# 1 - Un peu de solfège\n",
    "---\n",
    "\n",
    "Nous avons besoin de faire le lien entre les fréquences et les notes (regardez le piano de la vidéo et l'échellen des fréquences). Les anglais on remplacé notre DO-RE-MI avec les lettres de l'alphabet A-B-C en commençant avec A pour le LA ! Ce serait trop simple autrement...\n",
    "\n",
    "\n",
    " ...| DO| RE| MI| FA|SOL| LA| SI| DO| ...\n",
    ":-:|:-:|:-:|:-:|:-:|:-:|:-:|:-:|:-:|:-:\n",
    " ...| C | D | E | F | G | A | B | C | ...  \n",
    "\n",
    "## Octave et échelle de fréquence logarithmique\n",
    "En solfège, une octave correspond à une miltiplication par 2 de la fréquence et au fait de passer d'un DO au DO suivant par exemple. Donc tous les multiples de fréquence en puissance de 2 sonneront en harmonie et donneront la même note mais à des octaves différentes.\n",
    "\n",
    "Les fréquences multiples qui ne sont pas en puissance de deux apparaissent naturellement (périodicité et séries de Fourier) et les premières harmonique qui ne sont pas des puissance de deux donnent des notes qui sonnent différemment de la note de départ.\n",
    "\n",
    "Les musiciens occidentaux ont convergés vers \"la gammme tempérée\" qui décompose une octave (multiplication par deux)  en 12 demitons qui correspondent ainsi chacun à une multiplication par $2^{\\frac{1}{12}}\\approx 1.0595 \\equiv +5.95 \\% \\approx +\\frac{6}{12} dB$. \n",
    "\n",
    "On obtient ainsi **une échelle de fréquence logarithmique** qui décompose en 12 demi-tons le passage à l'octave (doublement de fréquence). Un barreau de référrence de cette échelle est le **LA de la 4ème octave noté \"LA 4\" officiellement à 440 Hz**.\n",
    "\n",
    "## Les harmoniques qui sonnent bien\n",
    "\n",
    "Lorsque l'on chante (un DO 4 par exemple) le signal de la voix est quasi-périodique à la fréquence DO4 et comporte naturellement des multiples (Séries de Fourier oblige !). On distingue :\n",
    "  - DO 4 - $F_0$ - La **fondamentale** (ou harmonique de rang 1)  \n",
    "  - DO 5 - $F_1 = 2 . F_0$ - La première harmonique (rang 2)\n",
    "  - SOL 5 - $F_2 = 3 . F_0$ - La deuxième harmonique (rang 3) **quinte juste** est un SOL qui \"sonne\" différemment du DO. \n",
    "  - DO 6 - $F_3 = 4 . F_0$ - La troisième harmonique (rang 4)\n",
    "  - MI 6 - $F_4 = 5 . F_0$ - La quatrième harmonique (rang 5) **tierce** est un MI qui sonne différemment du DO \n",
    "  \n",
    "\n",
    "La fondamentale n'est pas toujours un DO et on peut vouloir décaler les tons d'une chanson en partant d'une autre note. C'est pourquoi on parle en degrés où la note de degré I est la fondamentale. On répartis ainsi 7 degrés de I à VII dans une octave.\n",
    "\n",
    "On peut monter la gamme majeure de DO en partant du DO et en faisant des écarts de 2 demi-tons et parfois un seul demi-ton :\n",
    "\n",
    "\n",
    "Degrés      | I | | II | |  III | IV | | V    |   | VI |  | VII| I   | ...\n",
    ":----------:|:-:|-|:--:|-|-----:|:---|-|:----:|:-:|:--:|--|---:|:----|:---:\n",
    "Demitons    | 0 |1| 2  |3|   4  |  5 |6|  7   | 8 | 9  |10| 11 | 12=0| 13=1\n",
    "Gamme DO maj| DO| | RE | | MI   | FA | | SOL  |   | LA |  | SI | DO  | ...\n",
    "Gamme FA maj| FA| | SOL| | LA   | LA#| |  DO  |   | RE |  | MI | FA  | ...\n",
    "\n",
    "La gamme est dite majeure car elle respecte les intervales \"ton-ton-demiton-ton-ton-ton-demiton\". Cela est culturel et d'autre gamme existent bien sûr.\n",
    "\n",
    "La gamme tempérée permet presque de représenter les harmoniques x 3 (quinte)  et x 5 (tierce) fidèlement car :\n",
    " - la **tierce** à $5.F_0$ donne deux octaves en dessous $F_0<\\frac{5.F_0}{4}<2.F_0$ une note de la même octave que la fondamentale.  \n",
    "   Cette note à $1.25 F_0$ est presque comme 4 demitons au dessus de la fondamentale soit ${2^{\\frac{1}{12}}}^4 . F_0 \\approx  1.2599 F_0 $.  \n",
    "   On la nomme **tierce** car elle est de degré III.\n",
    "- la **quinte** à $3.F_0$ donne une octave en dessous $\\frac{3.F_0}{2}$ une note de la même octave que la fondamentale. \n",
    "  Cette note à $1.5 . F_0$ est presque 7 demi-tons au dessus de la fondamentale soit $2^{\\frac{1}{12}}^7 \\approx 1.4983 . F_0$.  \n",
    "  La **quinte** est appelée ainsi car de degré V.\n",
    "\n",
    "Ainsi un instrument étant accordé pour jouer une gamme de DO avec la quinte juste sonnera mieux que celui accordé en gamme tempérée. L'intérêt apparait lorsque l'on veut jouer dans une autre gamme :\n",
    "  - il faudrait réacorder l'instrument pour être exact ! Autrement de gros écarts de fréquences apparaissent.\n",
    "  - celui en gamme tempérée n'as pas besoin d'être réaccordé et fera globalement de petites erreurs... \n"
   ]
  },
  {
   "cell_type": "markdown",
   "metadata": {},
   "source": [
    "# 2 - Analyse et filtrage hors-ligne\n",
    "---\n",
    "\n",
    "On récupère le fichier son `anna_a_mono.wav` où un \"aaaaah\" est chanté sur le ton d'un DO 4.\n",
    "\n"
   ]
  },
  {
   "cell_type": "code",
   "execution_count": 119,
   "metadata": {
    "vscode": {
     "languageId": "json"
    }
   },
   "outputs": [
    {
     "data": {
      "image/png": "[encoded data removed]",
      "text/plain": [
       "<IPython.core.display.Image object>"
      ]
     },
     "metadata": {},
     "output_type": "display_data"
    }
   ],
   "source": [
    "clear all; close all; clc;\n",
    "racine = pwd; racine = [racine(1:(findstr(racine,\"Signal\")+6)), \"discret/tp/tp1_continu_discret\"];cd (racine);\n",
    "\n",
    "\n",
    "[Y,Fe]=audioread(\"./anna_a_mono.wav\");\n",
    "s=Y(:,1); % récupère que le son gauche\n",
    "N=length(s);Te=1/Fe;\n",
    "t=(1:N);t=t-1;t=t*Te;\n",
    "\n",
    "plot(t,s)\n"
   ]
  },
  {
   "cell_type": "markdown",
   "metadata": {
    "tags": []
   },
   "source": [
    "## Analyse directement aux fréquences intéressantes\n",
    "---\n",
    "\n",
    "Inutile de bourriner une `fft` alors que l'on ne veut voir que des fréquences \"mélodiques\" !\n",
    "\n",
    "On va construire un **vecteur de fréquences en échelle log** allant du LA2 au LA7 avec 1 points tout les quart de tons.\n",
    "\n",
    "On construit la matrice de passage en échantillonnant $e^{i2\\pi\\,f\\,t}$ en discret pour ces fréquences comme dans [VEC2 bases fréquentielles](../../cours/notebooks/VEC2_bases_frequentielles.ipynb#Base-fr%C3%A9quentielle-orthogonale-:-TFD) et dans le TD FREQ sur la TFD en matriciel [exo1 TFD corrige](../../td/FREQ_code/exo1_tfd_corr_octave.ipynb#TFD-Matricielle).\n"
   ]
  },
  {
   "cell_type": "code",
   "execution_count": 147,
   "metadata": {},
   "outputs": [
    {
     "name": "stdout",
     "output_type": "stream",
     "text": [
      "Construction de la matrice de calcul de TFD (241 x 283964) pour les f en échelle log...\n",
      "Elapsed time is 3.70516 seconds.\n",
      "\n",
      "Calcul de la TFD : soit 241 x 283964 = 68.4353 Mflo (Millions d'opérations flottantes)...\n",
      "Elapsed time is 0.53168 seconds.\n"
     ]
    }
   ],
   "source": [
    "LA4=440;\n",
    "% fenetre audio interessante à regarder\n",
    "fmin=LA4/4; %LA2 /2^2\n",
    "fmax=LA4*8; %LA7 *2^3\n",
    "quart_de_ton = 1/12/4; % 12 demitons dans l'octave (x2) soit 1 en log2\n",
    "logfreqs=log2(fmin):quart_de_ton:log2(fmax);  \n",
    "\n",
    "f=2.^logfreqs; M=length(f);\n",
    "\n",
    "%  ----------> t\n",
    "% |\n",
    "% |   W = matrice conjuguée de exp(i.2.pi.f.t)\n",
    "% V\n",
    "% f\n",
    "printf(\"Construction de la matrice de calcul de TFD (%d x %d) pour les f en échelle log...\\n\",M,N);\n",
    "tic;\n",
    "W =  exp(-i*2*pi*f'*t);\n",
    "toc\n",
    "printf(\"\\nCalcul de la TFD : soit %d x %d = %d Mflo (Millions d'opérations flottantes)...\\n\",length(f),N,N*length(f)/1e6);\n",
    "tic;\n",
    "tfd_s = W*s;\n",
    "toc\n"
   ]
  },
  {
   "cell_type": "markdown",
   "metadata": {},
   "source": [
    "On peut maintenant afficher en échelle temporelle log et gain en dB le module : le spectre.\n",
    "On ne s'intéresse pas à la phase puisque ce n'est pas un filtre.\n",
    "\n",
    "On regarde en échelle de fréquence log, puis linéaire.\n",
    "\n",
    "On utilise le script `afficher_grille_notes` qui est plus haut dans l'orborescence du dépôt `Signal/discret/utiles`."
   ]
  },
  {
   "cell_type": "code",
   "execution_count": 148,
   "metadata": {},
   "outputs": [
    {
     "data": {
      "image/png": "[encoded data removed]",
      "text/plain": [
       "<IPython.core.display.Image object>"
      ]
     },
     "metadata": {},
     "output_type": "display_data"
    }
   ],
   "source": [
    "addpath(\"../../utiles\");\n",
    "dBde = @(gain) 20*log10(abs(gain)) ;\n",
    "\n",
    "subplot(211)\n",
    "ax=semilogx(f,dBde(tfd_s),'.-'); \n",
    "title(\"quelques octaves en echelle de frequence log...\");\n",
    "xlabel(\"Frequences [Hz] echelle log\")\n",
    "hold on;\n",
    "octaves=afficher_grille_notes();\n",
    "\n",
    "subplot(212)\n",
    "plot(f,dBde(tfd_s),'.-'); \n",
    "hold on;\n",
    "afficher_grille_notes(octaves);\n",
    "title(\".. en echelle lineaire\")\n",
    "xlabel(\"Frequences [Hz] echelle lin\")\n"
   ]
  },
  {
   "cell_type": "markdown",
   "metadata": {},
   "source": [
    "## Analyse par fft\n",
    "---\n",
    "\n",
    "Utilisons l'algorithme `fft` pour afficher ces fréquences.\n",
    "\n",
    "Attention N points temporel donnent N points en fréquentiel répartis dans $[0, F_e[$.\n",
    "\n",
    "A vous de créer un vecteur de fréquences linéaire `f_lin` adéquat permettant d'afficher de même manière le module de la fft.\n",
    "\n"
   ]
  },
  {
   "cell_type": "code",
   "execution_count": 154,
   "metadata": {},
   "outputs": [
    {
     "data": {
      "image/png": "[encoded data removed]",
      "text/plain": [
       "<IPython.core.display.Image object>"
      ]
     },
     "metadata": {},
     "output_type": "display_data"
    }
   ],
   "source": [
    "## VOTRE CODE Df=..., f_lin=...\n",
    "df=1 ;   % La résolution fréquentielle en N points\n",
    "f_lin = 1:Df:2;  % Les fréquences linéaires\n",
    "\n",
    "## VOTRE CODE fft_s= ....\n",
    "# help fft  si nécessaire\n",
    "# Pourquoi fft n'as pas besoin de connaitre Fe ?!\n",
    "fft_s = f_lin;    \n",
    "\n",
    "# On affiche de même le résultat mais avec l'algo fft\n",
    "# Avec vos fréquences\n",
    "\n",
    "subplot(211)\n",
    "ax=semilogx(f_lin,dBde(fft_s),'.-'); \n",
    "title(\"quelques octaves en echelle de frequence log...\");\n",
    "xlabel(\"Frequences [Hz] echelle log\")\n",
    "hold on;\n",
    "octaves=afficher_grille_notes();\n",
    "\n",
    "subplot(212)\n",
    "plot(f_lin,dBde(fft_s),'.-'); \n",
    "hold on;\n",
    "afficher_grille_notes(octaves);\n",
    "title(\".. en echelle lineaire\")\n",
    "xlabel(\"Frequences [Hz] echelle lin\")\n"
   ]
  },
  {
   "cell_type": "markdown",
   "metadata": {},
   "source": [
    "Remarquez alors que le spectre est symétrique par rapport à $\\frac{F_e}{2}$ !\n",
    "\n",
    "Pas étonnant car (sélectionnez la bonne expliquation) :\n",
    " - un spectre discret est $F_e/2$-périodique et peut importe que le signal soit réel \n",
    " - un spectre discret est $F_e$-périodique et peut importe que le signal soit réel \n",
    " - un spectre discret est $F_e$-périodique et le signal est réel donc $\\hat{S}(-f)=\\overline{\\hat{S}(f)}$\n",
    " - un spectre discret est $F_e/2$-périodique et le signal est réel donc $\\hat{S}(-f)=\\overline{\\hat{S}(f)}$\n",
    "\n",
    "On peut utiliser `fftshift` pour afficher une période du spectre centrée en 0. "
   ]
  },
  {
   "cell_type": "code",
   "execution_count": 155,
   "metadata": {},
   "outputs": [],
   "source": [
    "##VOTRE affichage avec fftshift centré autour de 0 en fréquence"
   ]
  },
  {
   "cell_type": "markdown",
   "metadata": {
    "tags": []
   },
   "source": [
    "## Quelle harmonique amplifier ?\n",
    "\n",
    "\n",
    "  \n",
    "On remarque que la **tierce majeure** donne un MI d'amplitude plus faible que les DO en harmonie et le SOL de la quinte.\n",
    "\n",
    "On peut choisir d'amplifier soit :\n",
    "  - la **quinte** pour faire un SOL encore plus fort,\n",
    "  - la **tierce** qui est déjà faible pour faire apparaître un MI !\n",
    "\n",
    "On peut d'abord ajuster le filtre continu du second ordre du tp précédent pour qu'il amplifie la **tierce** (4ᵉ harmonique, donc celle de rang 5 à la fréquence $5.F_0$) avec +/- un demi ton de sélectivité ($\\zeta$ <0.1).\n",
    "\n",
    "\n",
    "1) Ajustez $\\omega_n$ et $\\zeta$ et calculez le gain du second ordre pour les fréquences d'analyse.\n",
    "\n",
    "2) Multipliez le spectre du signal par celui de votre second ordre pour filtrer.\n",
    "\n",
    "3) Faites une transformée inverse et généré un fichier son du signal filtré.\n",
    "\n",
    "Vous mettrez ainsi au point votre fonction de transfert continue pour obtenir le meilleur effet sonore.\n",
    "\n",
    "> On pourrat accentuer l'effet en appliquant 2 à 3 fois ce filtre !  \n",
    "> Que devient la fonction de transfert et la réponse harmonique en faisnt cela ?\n",
    "\n",
    "\n"
   ]
  },
  {
   "cell_type": "markdown",
   "metadata": {
    "vscode": {
     "languageId": "json"
    }
   },
   "source": [
    "# 3 - Filtre IIR : bilinéaire\n",
    "---\n",
    "\n",
    "Utilisez la synthèse bilinéaire pour fabriquer unfiltre discret équivalent au filtre continu que vous avez ajusté.\n",
    "  - n'oubliez pas l'effet de compression des fréquences !\n",
    "\n",
    "  1) Donnez la fonction de transfert \n",
    "  2) Affichez la réponse harmonique par dessus le spectre de la voix\n",
    "  3) Appliquez hors-ligne ce filtre en multipliant puis ifft\n",
    "  \n",
    "> Vous pouvez continuer dans ce notebook le travail en utilisant\n",
    ">   File-> New Console For Notebook\n",
    ">  Voir les variables en tapant \"whos\" dans la console\n",
    "> \n",
    "\n",
    "> Vous pouvez exporter ce notebook en scripts `.m` et continuer de travailler\n",
    "> avec octave ou matlab.\n",
    "> pour cela dans un terminal lancez la commande\n",
    "\n",
    "```bash\n",
    "./genere_les_scripts.sh\n",
    "cd scripts_octave\n",
    "octave --gui\n",
    "```"
   ]
  },
  {
   "cell_type": "markdown",
   "metadata": {},
   "source": [
    "## 4 - Filtre IIR : récurrence (temps réel)\n",
    "---\n",
    "\n",
    "On peut calculer comme si l'on était en temps réel la réponse du filtre en faisant une fonction récursive.\n",
    "\n",
    "La boucle suivante \"simule\" un temps réel où à chaque nouvel échantillon, le filtre est calculé avec ce nouveau sample et donne la valeur de la sortie.\n",
    "\n"
   ]
  },
  {
   "cell_type": "code",
   "execution_count": 172,
   "metadata": {},
   "outputs": [],
   "source": [
    "%% Fonction pouvant implémenter un filtre IIR de type I\n",
    "% Implique la mémorisation des x et des y\n",
    "% cette mémoire est accessible en général par variables globales\n",
    "global memoires_x\n",
    "global memoires_y\n",
    "filtre_iir_I = @(xk) xk; % version stupide de la fonction\n",
    "%% VOTRE FONCTION dans le fichier filtre_iir_I.m\n",
    "\n",
    "\n",
    "Ordre = 4 ;               % ordre du filtre\n",
    "memoires_x = zeros(1,Ordre);   % mémoire du filtre vide au début\n",
    "memoires_y = memoires_x;\n",
    "\n",
    "%% Le vecteur des sorties à la même taille que s\n",
    "y = 0*s;\n",
    "\n",
    "for k = 1:N\n",
    "    y(k) = filtre_iir_I(s(k));    \n",
    "end\n"
   ]
  },
  {
   "cell_type": "code",
   "execution_count": null,
   "metadata": {},
   "outputs": [],
   "source": []
  },
  {
   "cell_type": "code",
   "execution_count": null,
   "metadata": {},
   "outputs": [],
   "source": []
  }
 ],
 "metadata": {
  "kernelspec": {
   "display_name": "Octave",
   "language": "octave",
   "name": "octave"
  },
  "language_info": {
   "file_extension": ".m",
   "help_links": [
    {
     "text": "GNU Octave",
     "url": "https://www.gnu.org/software/octave/support.html"
    },
    {
     "text": "Octave Kernel",
     "url": "https://github.com/Calysto/octave_kernel"
    },
    {
     "text": "MetaKernel Magics",
     "url": "https://metakernel.readthedocs.io/en/latest/source/README.html"
    }
   ],
   "mimetype": "text/x-octave",
   "name": "octave",
   "version": "4.2.2"
  },
  "latex_envs": {
   "LaTeX_envs_menu_present": true,
   "autoclose": false,
   "autocomplete": true,
   "bibliofile": "biblio.bib",
   "cite_by": "apalike",
   "current_citInitial": 1,
   "eqLabelWithNumbers": true,
   "eqNumInitial": 1,
   "hotkeys": {
    "equation": "Ctrl-E",
    "itemize": "Ctrl-I"
   },
   "labels_anchors": false,
   "latex_user_defs": false,
   "report_style_numbering": false,
   "user_envs_cfg": false
  }
 },
 "nbformat": 4,
 "nbformat_minor": 4
}
