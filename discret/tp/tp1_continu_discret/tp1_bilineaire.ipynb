{
 "cells": [
  {
   "cell_type": "markdown",
   "metadata": {},
   "source": [
    "---\n",
    "# TP1 overtone : Synthèse de filtres à partir du continu\n",
    "---\n",
    "On souhaite résaliser un filtre du second ordre résonnant avec la méthode de la transformation bilinéaire.\n",
    "\n",
    "Pour cela on rédige un script capable de faire cette synthèse pour n'importe quelle fréquence naturelle $\\omega_n$ et facteur d'amortissement $\\zeta$.\n",
    "\n",
    "$G(p) = \\frac{\\omega_n^2}{p^2+ 2\\zeta\\omega_n\\,p+{\\omega_n}^2}$\n",
    "\n",
    "![](https://i.stack.imgur.com/J0Ste.png)\n",
    "## 1 - Vérification du calcul analytique\n",
    "---\n",
    "Dans le travail préparatoire vous avez pu trouver l'expression analytique des coefficients de la recurrence du filtre discret à partir de la transformée bilinéaire (ou trapezoidale ou tusin) de la forme :\n",
    "\n",
    "$$\n",
    "y[k]  =  a_1 .y[k-1] + a_2. y[k-2] + b_0. x[k] + b_1. x[k-1] + b_2. x[k-2]\n",
    "$$\n",
    "\n",
    "Faites un script qui donne la valeur de ces coefficients calculés avec votre formule théorique que vous comparerez avec ceux trouvés numériquement par la fonction `c2d` avec l'argument `\"tustin\"`.\n",
    "\n",
    "On prendra $\\omega_n=100$, $\\zeta=0.1$ et $Fe=\\frac{1000}{2\\pi}$ pour faire cette comparaison.\n",
    "\n",
    "Si ça ne colle pas pendant la séance de TP, continuez avec les valeurs numériques de c2d et revoyez vos calculs plus tard (homogénéité des coefficients, etc. ?) \n"
   ]
  },
  {
   "cell_type": "markdown",
   "metadata": {},
   "source": [
    "## 2 - Réponse harmonique \n",
    "---\n",
    "Tracez la réponse harmonique du filtre continu et superposez-la avec celle de votre filtre numérique. \n",
    "\n",
    "Préférez l'utilisation de vecteurs $f$, $p$, $z$ et des outils **plots** (comme dans les exemples du notebook de travail préparatoire) plutôt que les fonctions **bode** qui sont parfois obscures.\n",
    "\n",
    "\n",
    "Vous devez constater que les fréquences de résonnance ne collent pas !\n",
    "C'est l'effet de la fameuse compression des fréquences induites par la méthode de la transformation bilinéaire.\n"
   ]
  },
  {
   "cell_type": "markdown",
   "metadata": {},
   "source": [
    "###  2.1 - Compression fréquencielle \n",
    "\n",
    "Dans la transformation $p = \\frac{2}{Te}\\frac{z-1}{z+1}$ utilisée, remplacez p par $i\\omega_c$ d'un côté et z par son expression $e^{T_e\\,i\\,\\omega}$. On obtient un nombre imaginaire des deux côtés, mais avec une pulsation continue $\\omega_c$ et une pulsation pour le discret $\\omega$ qui sont différentes. \n",
    "\n",
    "\n",
    "Vous retrouvez ainsi la relation de compression entre pulsation en coninue $\\omega_c$ et pulsation équivalente par la transormation bilinéaire $\\omega$ :\n",
    "$$ \\omega_c = \\frac{2}{T_e} tan(\\frac{Te}{2}\\omega)$$\n",
    "\n",
    "On a donc égalité entre les expression  \n",
    "\n",
    "$G(p=i\\omega_c)=G\\left(\\frac{2}{Te}\\frac{z-1}{z+1}= i \\frac{2}{T_e} tan(\\frac{Te}{2}\\omega) \\right)$ \n",
    "\n",
    "Ainsi, si le polynome $G(p)$ a une résonnance pour $\\omega_c=\\omega_n$ en continu, en discret $G\\left(\\frac{2}{Te}\\frac{z-1}{z+1}\\right)$ a une résonnace pour $\\frac{2}{T_e} tan(\\frac{Te}{2}\\omega)=w_n$.\n",
    "\n",
    "Retrouvez donc analytiquement cette fréquence de résonnance en discret et vérifiez que c'est bien cela qui est observé sur la réponse harmonique."
   ]
  },
  {
   "cell_type": "markdown",
   "metadata": {},
   "source": [
    "### 2.2 - Compensation fréquencielle \n",
    "\n",
    "Pour terminer, effectuez une précompensation de $\\omega_n$ :\n",
    "- on cherche un $\\omega_n'$ tel que la résonnance obtenue pour $\\omega_c=\\omega_n'$ donne une fois compressée par la transformation\n",
    "- une résonnance en discret $\\frac{2}{T_e} tan(\\frac{Te}{2}\\omega)=w_n'$ lorsque $w = \\omega_n$.\n",
    "\n",
    "> On prend en continu un $\\omega_n'$ plus grand qui une fois compressé donnera le $\\omega_n$ recherché.\n",
    "\n"
   ]
  },
  {
   "cell_type": "markdown",
   "metadata": {},
   "source": [
    "## 3 - Application : filtrage \"overtone\"\n",
    "---\n",
    "\n",
    "On désire appliquer ce filtre pour effecteur le même effet d'overtone que la chanteuse Ana Maria Hefele. Regardez l'explication sur \n",
    "[![](https://i.pinimg.com/originals/fa/fe/6d/fafe6d300d6fa568aed43b31fd3bc67d.jpg)](https://www.youtube.com/watch?v=UHTF1-IhuC0)\n",
    "\n",
    "Inspirez-vous du script ci-dessous (il est dans tp1_bilineaire.m) pour récupérer le signal et analyser son contenu harmonique, "
   ]
  },
  {
   "cell_type": "code",
   "execution_count": 18,
   "metadata": {},
   "outputs": [
    {
     "name": "stdout",
     "output_type": "stream",
     "text": [
      "dir = /home/pacco/Documents/gitens/Signal/discret/tp/tp1_continu_discret\n"
     ]
    },
    {
     "data": {
      "image/png": "[encoded data removed]",
      "text/plain": [
       "<IPython.core.display.Image object>"
      ]
     },
     "metadata": {},
     "output_type": "display_data"
    }
   ],
   "source": [
    "clear all; close all; clc;\n",
    "\n",
    "%% On cherche le chemin vers le fichier\n",
    "dir = pwd\n",
    "if (strcmp(dir((end-7):end),\"_discret\"))\n",
    "    chemin = \"./\";\n",
    "else % on tente un peu au hasard...\n",
    "    chemin = \"./discret/tp/tp1_continu_discret/\";\n",
    "endif\n",
    "[Y,Fs]=audioread([chemin, \"anna_a_mono.wav\"]);\n",
    "Y=Y(:,1); % récupère que le son gauche\n",
    "\n",
    "N=length(Y);\n",
    "t=((1:N)-1)/Fs;\n",
    "\n",
    "Df=Fs/N;\n",
    "f=0:Df:Fs-Df;\n",
    "\n",
    "% fenetre audio interessante à regarder\n",
    "fmin=440/4; %LA2\n",
    "fmax=440*8; %LA7\n",
    "aff= floor(fmin/Df):ceil(fmax/Df) ;\n",
    "\n",
    "mag = abs(fft(Y(:,1)'));\n",
    "subplot(211)\n",
    "ax=semilogx(f(aff),20*log10(mag(aff))); \n",
    "title(\"zoom sur les octaves 3 a 6 en echelle log\")\n",
    "hold on;\n",
    "octaves=afficher_grille_notes();\n",
    "subplot(212)\n",
    "ax=plot(f,20*log10(mag)); \n",
    "hold on;\n",
    "afficher_grille_notes(octaves);\n",
    "title(\"De 0 a Fe en echelle lineaire\")"
   ]
  },
  {
   "cell_type": "markdown",
   "metadata": {},
   "source": [
    "Ajustez votre second ordre pour qu'il amplifie la 5ᵉ harmonique avec +/- un demi ton de sélectivité (la fréquence fondamentale * 6 qui se trouve vers le sol de l'octave 6 ici).\n",
    "\n",
    "Une octave correspondant à une miltiplication par 2, est décomposée en 12 demitons qui correspondent chacun à une multiplication par $2^{\\frac{1}{12}}$. \n",
    "\n",
    "Appliquez la compensation en fréquence et synthétisé le filtre discret avec votre script. Affichez la réponse harmonique du filtre par-dessus les mêmes courbes pour vérifier que l'on amplifie bien cette harmonique.\n",
    "\n",
    "\n",
    "Appliquez 1 à 3 fois ce filtre au signal pour obtenir un effet audible. (Utilisez la fonction `filter` ou bien une boucle for avec la récurrence) \n",
    "\n",
    "\n",
    "Quel serait l'ordre du filtre correspondat à 3 applications du même filtre, quelle est sa fonction de transfert, quel en sont les coefficients.\n"
   ]
  },
  {
   "cell_type": "code",
   "execution_count": null,
   "metadata": {},
   "outputs": [],
   "source": []
  }
 ],
 "metadata": {
  "kernelspec": {
   "display_name": "Octave",
   "language": "octave",
   "name": "octave"
  },
  "language_info": {
   "file_extension": ".m",
   "help_links": [
    {
     "text": "GNU Octave",
     "url": "https://www.gnu.org/software/octave/support.html"
    },
    {
     "text": "Octave Kernel",
     "url": "https://github.com/Calysto/octave_kernel"
    },
    {
     "text": "MetaKernel Magics",
     "url": "https://metakernel.readthedocs.io/en/latest/source/README.html"
    }
   ],
   "mimetype": "text/x-octave",
   "name": "octave",
   "version": "4.2.2"
  },
  "latex_envs": {
   "LaTeX_envs_menu_present": true,
   "autoclose": false,
   "autocomplete": true,
   "bibliofile": "biblio.bib",
   "cite_by": "apalike",
   "current_citInitial": 1,
   "eqLabelWithNumbers": true,
   "eqNumInitial": 1,
   "hotkeys": {
    "equation": "Ctrl-E",
    "itemize": "Ctrl-I"
   },
   "labels_anchors": false,
   "latex_user_defs": false,
   "report_style_numbering": false,
   "user_envs_cfg": false
  }
 },
 "nbformat": 4,
 "nbformat_minor": 4
}
