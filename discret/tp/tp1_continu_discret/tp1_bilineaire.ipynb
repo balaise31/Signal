{
 "cells": [
  {
   "cell_type": "markdown",
   "metadata": {},
   "source": [
    "---\n",
    "# TP1 overtone : Synthèse de filtres à partir du continu\n",
    "---\n",
    "On souhaite résaliser un filtre du second ordre résonnant avec la méthode de la transformation bilinéaire.\n",
    "\n",
    "Pour cela on rédige un script capable de faire cette synthèse pour n'importe quelle fréquence naturelle $\\omega_n$ et facteur d'amortissement $\\zeta$.\n",
    "\n",
    "$G(p) = \\frac{\\omega_n^2}{p^2+ 2\\zeta\\omega_n\\,p+{\\omega_n}^2}$\n",
    "\n",
    "![](https://i.stack.imgur.com/J0Ste.png)\n",
    "\n"
   ]
  },
  {
   "cell_type": "markdown",
   "metadata": {
    "tags": []
   },
   "source": [
    "## 1 - Vérification du calcul analytique\n",
    "---\n",
    "Dans le [travail préparatoire](../FILT_prepa_tp1.ipynb) vous avez pu trouver l'expression analytique des coefficients de la recurrence du filtre discret à partir de la transformée bilinéaire (ou trapezoidale ou tusin) de la forme :\n",
    "\n",
    "$$\n",
    "a_0.y[k]  =  a_1 .y[k-1] + a_2. y[k-2] + b_0. x[k] + b_1. x[k-1] + b_2. x[k-2]\n",
    "$$\n",
    "On prend un gain $K'=1$ et on prendra $a_0=1$ \n",
    "\n",
    "\n",
    "Faites un script qui donne la valeur de ces coefficients calculés avec votre formule théorique.\n",
    "\n",
    "On prendra une fréquence propre $w_n=100$ rad/s, $\\zeta=0.1$ et $F_e = 1$ kHz  pour ce calcul;\n"
   ]
  },
  {
   "cell_type": "code",
   "execution_count": 32,
   "metadata": {},
   "outputs": [],
   "source": [
    "clear all; close all; clc;\n",
    "%% ADAPTER et CORRIGER ce code d'init.\n",
    "%% Parametres du filtre continu désiré\n",
    "wn = 1 ;          % pulsation propre [rad/s]\n",
    "zeta = sqrt(2)/2; % facteur d'amortissement [1]\n",
    "\n",
    "%% Paramètres du filtre discret imposés\n",
    "Fe = 48e3 ;       % Fréquence d'échantillonnage [Hz]\n",
    "Te = 2*pi/Fe;     % Période d'échantillonnage   [s] \n",
    "\n",
    "%% MODIFIEZ avec vos formules les paramètres de récurrence\n",
    "K=1;\n",
    "b0 = K*Te*wn ;\n",
    "b1 = K*Te*wn ; \n",
    "b2 = K*Te*wn ; \n",
    "a0 = (1+4*zeta/(Te*wn)+4/(Te*wn)**2); \n",
    "a1 = (1+4*zeta/(Te*wn)+4/(Te*wn)**2); \n",
    "a2 = (1+4*zeta/(Te*wn)+4/(Te*wn)**2);\n",
    "\n",
    "%% CORRIGEZ l'étourderie dans ce qui suit\n",
    "% On définit la fonction de transfert (où z peut être vecteur)\n",
    "Gd = @(z) K * (b0 + b1./z + b2./(z.^2)) ./ (a0 + a1./z + a2./(z.^2)) ;\n",
    "% Indice pour l'erreur : convention et signes ! \n",
    "% y[k] = a1 y[k-1] pas -a1.y[k-1] ..."
   ]
  },
  {
   "cell_type": "markdown",
   "metadata": {},
   "source": [
    "On va comparer ces valeurs avec celles trouvées numériquement par la fonction `c2d` avec l'argument `\"tustin\"`.\n",
    "\n",
    "Lancez une console avec `File->New Console For Notebook` et dedans tapez `help c2d` pour accéder à l'aide\n",
    "\n",
    "Ces valeurs doivent coller à 1ppm près. Sinon revenez avec un prof sur vos calculs et vérifications."
   ]
  },
  {
   "cell_type": "code",
   "execution_count": 33,
   "metadata": {},
   "outputs": [
    {
     "name": "stdout",
     "output_type": "stream",
     "text": [
      "\n",
      "Transfer function 'G_de_p' from input 'u1' to output ...\n",
      "\n",
      "      4 s^2 + 5 s + 6\n",
      " y1:  ---------------\n",
      "       s^2 + 2 s + 3 \n",
      "\n",
      "Continuous-time model.\n",
      "\n",
      "Transfer function 'Gd_c2d' from input 'u1' to output ...\n",
      "\n",
      "      4 z^2 - 2.601 z + 0.6424\n",
      " y1:  ------------------------\n",
      "      z^2 - 0.1147 z + 0.1353 \n",
      "\n",
      "Sampling time: 1 s\n",
      "Discrete-time model.\n",
      "\n",
      "Mauvais numérateurs !\n",
      "num_err =\n",
      "\n",
      "   3.99987  -2.60129   0.64222\n",
      "\n",
      "Mauvais dénominateur !\n",
      "den_err =\n",
      "\n",
      "  -2.3347e+08  -2.3347e+08  -2.3347e+08\n",
      "\n"
     ]
    }
   ],
   "source": [
    "%% Pour octave seulement il faut charger \n",
    "%% la package control\n",
    "%% Avec matlab inutile et commentez cette ligne\n",
    "pkg load control\n",
    "\n",
    "%% VOTRE CODE G_de_p = tf....\n",
    "% déclarant la fonction de transfert en continu\n",
    "G_de_p = tf([4,5,6],[1,2,3])\n",
    "\n",
    "%% VOTRE CODE Gd_c2d = c2d...\n",
    "% passant du continu au discret la fonction de transfert\n",
    "Gd_c2d = c2d(G_de_p,1)\n",
    "\n",
    "% On extrait les coefficients avec .num et .den\n",
    "num_c2d = Gd_c2d.num{1};\n",
    "den_c2d = Gd_c2d.den{1};\n",
    "\n",
    "%% VOTRE CODE num=, den= \n",
    "% construisez les vecteurs de coefficients \n",
    "% ATTENTION ! prenez la convention de signe de matlab\n",
    "num_math = [b2, b1, b0];\n",
    "den_math = [a2, a1, a0];\n",
    "\n",
    "%% On vérifie que cela colle\n",
    "disp(\"\")\n",
    "num_err = num_c2d-num_math;\n",
    "den_err = den_c2d-den_math;\n",
    "\n",
    "if (num_err * num_err' > 1e-6)\n",
    " disp('Mauvais numérateurs !')\n",
    " num_err\n",
    "else\n",
    " disp('Bon numérateur')\n",
    " erreur_de = num_err*num_err'\n",
    "end\n",
    "if (den_err * den_err' > 1e-6)\n",
    " disp('Mauvais dénominateur !')\n",
    " den_err\n",
    "else\n",
    " disp('Bon dénominateur')\n",
    " erreur_de = den_err*den_err'\n",
    "end"
   ]
  },
  {
   "cell_type": "markdown",
   "metadata": {
    "tags": []
   },
   "source": [
    "On pourrait continuer d'utiliser les outils d'octave/Matlab notamment pour afficher \n",
    "  - la réponse harmonique avec `bode`\n",
    "  - la réponse indicielle avec `step`\n",
    "  - les poles et les zéros avec `pzmap`\n",
    "\n",
    "Mais ces outils sont parfois obscur et inadaptés.  Et dans notre cas n'aportent pas grand chose.\n",
    "\n",
    "Nous allons afficher la réponse harmonique par nos propres moyens et pouvoir voir sa périodicité sous différentes échelles  \n",
    "**ce que ne permet pas la fonction bode !**"
   ]
  },
  {
   "cell_type": "code",
   "execution_count": 34,
   "metadata": {},
   "outputs": [
    {
     "data": {
      "image/png": "[encoded data removed]",
      "text/plain": [
       "<IPython.core.display.Image object>"
      ]
     },
     "metadata": {},
     "output_type": "display_data"
    }
   ],
   "source": [
    "bode(Gd_c2d)"
   ]
  },
  {
   "cell_type": "code",
   "execution_count": 35,
   "metadata": {},
   "outputs": [
    {
     "data": {
      "image/png": "[encoded data removed]",
      "text/plain": [
       "<IPython.core.display.Image object>"
      ]
     },
     "metadata": {},
     "output_type": "display_data"
    }
   ],
   "source": [
    "step(Gd_c2d)"
   ]
  },
  {
   "cell_type": "code",
   "execution_count": 36,
   "metadata": {},
   "outputs": [
    {
     "data": {
      "image/png": "[encoded data removed]",
      "text/plain": [
       "<IPython.core.display.Image object>"
      ]
     },
     "metadata": {},
     "output_type": "display_data"
    }
   ],
   "source": [
    "pzmap(Gd_c2d);"
   ]
  },
  {
   "cell_type": "markdown",
   "metadata": {},
   "source": [
    "## 2 - Réponse harmonique \n",
    "---\n",
    "Tracez la réponse harmonique du filtre continu et superposez-la avec celle de votre filtre numérique. \n",
    "\n",
    "Préférez l'utilisation de vecteurs $f$, $p$, $z$ et des outils **plots** (comme dans les exemples du notebook du [TD FILT prepa bilineaire](../FILT_prepa_bilineaire_octave_corr.ipynb) \n",
    "\n",
    "\n",
    "Vous devez constater que les fréquences de résonnance ne collent pas !\n",
    "C'est l'effet de la fameuse compression des fréquences induites par la méthode de la transformation bilinéaire.\n",
    "\n",
    "Faites un affichage avec en abscisse les fréquences linéaires et en ordonnée le gain en dB.\n",
    "\n"
   ]
  },
  {
   "cell_type": "code",
   "execution_count": 41,
   "metadata": {},
   "outputs": [
    {
     "data": {
      "image/png": "[encoded data removed]",
      "text/plain": [
       "<IPython.core.display.Image object>"
      ]
     },
     "metadata": {},
     "output_type": "display_data"
    }
   ],
   "source": [
    "Df = Fe/100;        % résolution fréquentielle d'affichage\n",
    "f = -Fe: Df: 2*Fe ; % vecteur des fréqeunces [Hz]\n",
    "\n",
    "%%VOTRE CODE ftilde = , p= , z=\n",
    "f_tilde = 1;  % fréquences normalisées [1<-> Fe]\n",
    "p = 1;        % équivalents harmoniques de p\n",
    "z = 1;        % équivalents harmoniques de z\n",
    "\n",
    "\n",
    "Gc = @(p,wn,zeta) wn^2./(p.^2 + 2*zeta*wn*p + wn^2)  ;\n",
    "%%VOTRE CODE G_continu=..., Gd_math=...\n",
    "% utilisez la fonction anonyme Gd qui prend l'équivalent de z en argument\n",
    "% pour calculer la fonction de transfert pour chaques fréquences\n",
    "G_continu = Gc(1,wn,zeta);\n",
    "Gd_maths = Gd(1);\n",
    "\n",
    "%%VOTRE affichage ici \n",
    "dB_de = @(gains_complexes) 20*log10(gains_complexes);\n",
    "\n",
    "plot(f,dB_de(G_continu),'k');  \n",
    "xlabel(\"Frequences en ?\");\n",
    "ylabel (\"Gain  en ? \");grid on;\n"
   ]
  },
  {
   "cell_type": "markdown",
   "metadata": {},
   "source": [
    "###  2.1 - Compression fréquencielle \n",
    "\n",
    "Dans la transformation $p = \\frac{2}{Te}\\frac{z-1}{z+1}$ utilisée, remplacez p par $i\\omega_c$ d'un côté et z par son expression $e^{T_e\\,i\\,\\omega}$. On obtient un nombre imaginaire des deux côtés, mais avec une pulsation continue $\\omega_c$ et une pulsation pour le discret $\\omega$ qui sont différentes. \n",
    "\n",
    "\n",
    "Vous retrouvez ainsi la relation de compression entre pulsation en coninue $\\omega_c$ et pulsation équivalente par la transormation bilinéaire $\\omega$ :\n",
    "$$ \\omega_c = \\frac{2}{T_e} \\tan\\left(\\frac{T_e}{2}\\omega\\right)$$\n",
    "\n",
    "On a donc égalité entre les expressions  \n",
    "$G_d(z\\equiv e^{i\\omega\\,T_e}) = G(p = \\frac{2}{Te}\\frac{z-1}{z+1}) = G(p = \\frac{2}{Te}\\frac{e^{i\\omega\\,T_e}-1}{e^{i\\omega\\,T_e}+1}) = G\\left(i\\, \\frac{2}{T_e} \\tan\\left(\\frac{T_e}{2}\\omega\\right)\\right) = G(i\\, \\omega_c)$  et donc   \n",
    "$G_d(z\\equiv e^{i\\omega\\,T_e}) = G(p\\equiv i\\omega_c) = G(\\frac{2}{T_e} \\tan\\left(i\\,\\frac{T_e}{2}\\omega\\right))$ \n",
    "\n",
    "Ainsi, si le polynome $G(p)$ a une résonnance pour $\\omega_c=\\omega_n$ en continu, en discret $G\\left(\\frac{2}{Te}\\frac{z-1}{z+1}\\right)$ a une résonnace pour $\\frac{2}{T_e} tan(\\frac{Te}{2}\\omega)=w_n$.\n",
    "\n",
    "Retrouvez donc analytiquement cette fréquence de résonnance en discret et vérifiez que c'est bien cela qui est observé sur la réponse harmonique."
   ]
  },
  {
   "cell_type": "markdown",
   "metadata": {},
   "source": [
    "### 2.2 - Compensation fréquencielle \n",
    "\n",
    "Pour terminer, effectuez une précompensation de $\\omega_n$ :\n",
    "- on cherche un $\\omega_n'$ tel que la résonnance obtenue pour $\\omega_c=\\omega_n'$ donne une fois compressée par la transformation\n",
    "- une résonnance en discret $\\frac{2}{T_e} tan(\\frac{Te}{2}\\omega)=w_n'$ lorsque $w = \\omega_n$.\n",
    "\n",
    "> On prend en continu un $\\omega_n'$ plus grand qui une fois compressé donnera le $\\omega_n$ recherché.\n",
    "\n"
   ]
  },
  {
   "cell_type": "markdown",
   "metadata": {},
   "source": [
    "## 3 - Application : filtrage \"overtone\"\n",
    "---\n",
    "\n",
    "On désire appliquer ce filtre pour effecteur le même effet d'overtone que la chanteuse Ana Maria Hefele. Regardez l'explication sur \n",
    "[![](https://i.pinimg.com/originals/fa/fe/6d/fafe6d300d6fa568aed43b31fd3bc67d.jpg)](https://www.youtube.com/watch?v=UHTF1-IhuC0)\n",
    "\n",
    "Inspirez-vous du script ci-dessous (il est dans tp1_bilineaire.m) pour récupérer le signal et analyser son contenu harmonique, "
   ]
  },
  {
   "cell_type": "code",
   "execution_count": 18,
   "metadata": {
    "vscode": {
     "languageId": "json"
    }
   },
   "outputs": [
    {
     "name": "stdout",
     "output_type": "stream",
     "text": [
      "dir = /home/pacco/Documents/gitens/Signal/discret/tp/tp1_continu_discret\n"
     ]
    },
    {
     "data": {
      "image/png": "[encoded data removed]",
      "text/plain": [
       "<IPython.core.display.Image object>"
      ]
     },
     "metadata": {},
     "output_type": "display_data"
    }
   ],
   "source": [
    "clear all; close all; clc;\n",
    "\n",
    "%% On cherche le chemin vers le fichier\n",
    "dir = pwd\n",
    "if (strcmp(dir((end-7):end),\"_discret\"))\n",
    "    chemin = \"./\";\n",
    "else % on tente un peu au hasard...\n",
    "    chemin = \"./discret/tp/tp1_continu_discret/\";\n",
    "endif\n",
    "[Y,Fs]=audioread([chemin, \"anna_a_mono.wav\"]);\n",
    "Y=Y(:,1); % récupère que le son gauche\n",
    "\n",
    "N=length(Y);\n",
    "t=((1:N)-1)/Fs;\n",
    "\n",
    "Df=Fs/N;\n",
    "f=0:Df:Fs-Df;\n",
    "\n",
    "% fenetre audio interessante à regarder\n",
    "fmin=440/4; %LA2\n",
    "fmax=440*8; %LA7\n",
    "aff= floor(fmin/Df):ceil(fmax/Df) ;\n",
    "\n",
    "mag = abs(fft(Y(:,1)'));\n",
    "subplot(211)\n",
    "ax=semilogx(f(aff),20*log10(mag(aff))); \n",
    "title(\"zoom sur les octaves 3 a 6 en echelle log\")\n",
    "hold on;\n",
    "octaves=afficher_grille_notes();\n",
    "subplot(212)\n",
    "ax=plot(f,20*log10(mag)); \n",
    "hold on;\n",
    "afficher_grille_notes(octaves);\n",
    "title(\"De 0 a Fe en echelle lineaire\")"
   ]
  },
  {
   "cell_type": "markdown",
   "metadata": {},
   "source": [
    "Ajustez votre second ordre pour qu'il amplifie la 5ᵉ harmonique avec +/- un demi ton de sélectivité (la fréquence fondamentale * 6 qui se trouve vers le sol de l'octave 6 ici).\n",
    "\n",
    "Une octave correspondant à une miltiplication par 2, est décomposée en 12 demitons qui correspondent chacun à une multiplication par $2^{\\frac{1}{12}}$. \n",
    "\n",
    "Appliquez la compensation en fréquence et synthétisé le filtre discret avec votre script. Affichez la réponse harmonique du filtre par-dessus les mêmes courbes pour vérifier que l'on amplifie bien cette harmonique.\n",
    "\n",
    "\n",
    "Appliquez 1 à 3 fois ce filtre au signal pour obtenir un effet audible. (Utilisez la fonction `filter` ou bien une boucle for avec la récurrence) \n",
    "\n",
    "\n",
    "Quel serait l'ordre du filtre correspondat à 3 applications du même filtre, quelle est sa fonction de transfert, quel en sont les coefficients.\n"
   ]
  },
  {
   "cell_type": "code",
   "execution_count": null,
   "metadata": {
    "vscode": {
     "languageId": "json"
    }
   },
   "outputs": [],
   "source": []
  }
 ],
 "metadata": {
  "kernelspec": {
   "display_name": "Octave",
   "language": "octave",
   "name": "octave"
  },
  "language_info": {
   "file_extension": ".m",
   "help_links": [
    {
     "text": "GNU Octave",
     "url": "https://www.gnu.org/software/octave/support.html"
    },
    {
     "text": "Octave Kernel",
     "url": "https://github.com/Calysto/octave_kernel"
    },
    {
     "text": "MetaKernel Magics",
     "url": "https://metakernel.readthedocs.io/en/latest/source/README.html"
    }
   ],
   "mimetype": "text/x-octave",
   "name": "octave",
   "version": "4.2.2"
  },
  "latex_envs": {
   "LaTeX_envs_menu_present": true,
   "autoclose": false,
   "autocomplete": true,
   "bibliofile": "biblio.bib",
   "cite_by": "apalike",
   "current_citInitial": 1,
   "eqLabelWithNumbers": true,
   "eqNumInitial": 1,
   "hotkeys": {
    "equation": "Ctrl-E",
    "itemize": "Ctrl-I"
   },
   "labels_anchors": false,
   "latex_user_defs": false,
   "report_style_numbering": false,
   "user_envs_cfg": false
  }
 },
 "nbformat": 4,
 "nbformat_minor": 4
}
