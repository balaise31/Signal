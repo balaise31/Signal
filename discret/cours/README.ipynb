{
 "cells": [
  {
   "cell_type": "markdown",
   "id": "a166b064-dff7-477a-a1eb-920efaf42c19",
   "metadata": {},
   "source": [
    "# Systèmes et signaux discrets\n",
    "---"
   ]
  },
  {
   "cell_type": "markdown",
   "id": "00c3b909-9228-4750-ba62-a16d0b45527f",
   "metadata": {},
   "source": [
    "## VEC : Les espaces vectoriels des signaux\n",
    "---\n",
    "\n",
    "Un signal est vu comme un vecteur dans un espace vectoriel. On y trouve une base de signaux orthonormés temporelle et une fréquentielle. Changer de base est calculer une transofrmée.\n",
    "\n",
    "  * Voir le polycopié [premier chapitre](https://balaise31.github.io/Signal/poly_discret.pdf#chapter.1) jusqu'aux [bases temporelles (1.2)](https://balaise31.github.io/Signal/poly_discret.pdf#section.1.2) incluses \n",
    "  * Y associer la lecture des notebooks:\n",
    "     - [VEC1](./notebooks/VEC1_bases_temporelles.ipynb) sur les bases temporelles\n",
    "     - [VEC2](./notebooks/VEC2_bases_frequentielles.ipynb) sur les bases fréquentielles\n",
    "\n",
    "## FREQ : Transformée de Fourier des Signaux Discrets (TFSD): dans $\\mathbb{C}^\\mathbb{Z}$ et $\\mathbb{C}_b^\\mathbb{Z}$\n",
    "Dans le cas des signaux **discrets apériodiques** $\\mathbb{C^\\mathbb{Z}}$ ou apériodiques bornés $\\mathbb{C}_b^\\mathbb{Z}$, le passage à la base fréquencielle en utilisant le produit scalaire $<\\!< \\dots, \\dots >\\!>$ revient à calculer la TFSD du signal :\n",
    "  * Voir de la section [1.4.1 les TF](https://balaise31.github.io/Signal/poly_discret.pdf#subsection.1.4.1) jusqu'aux [1.4.3 les TFSD](https://balaise31.github.io/Signal/poly_discret.pdf#subsection.1.4.3)\n",
    "  * Faire dans exo 1 et 2 tout ce qui parle de TFSD (mais pas de TFD) dans le [TD FREQ](../td/FREQ_sujet.ipynb)\n",
    "  * Regarder le principe de dualité des transformées [1.5 Dualité](https://balaise31.github.io/Signal/poly_discret.pdf#section.1.5)\n",
    "\n",
    "## FREQ: Transformée de Fourier Discrète (TFD) : dans $\\mathbb{C}_p^\\mathbb{Z}$\n",
    "Dans le cas des signaux **discrets périodiques** $\\mathbb{C_p^\\mathbb{Z}}$, le passage à la base fréquencielle en utilisant le produit scalaire $<\\!< \\dots, \\dots >\\!>_p$ revient à calculer la TFD du signal et possède même des matrices de passage :\n",
    "  * Voir la section [1.4.4 les TF](https://balaise31.github.io/Signal/poly_discret.pdf#subsection.1.4.4)\n",
    "  * Terminer exo. 1 et 2 avec la TFD dans le [TD FREQ](../td/FREQ_sujet.ipynb)\n",
    "  * Terminer l'exercice 3 du [TD FREQ](../td/FREQ_sujet.ipynb)\n"
   ]
  },
  {
   "cell_type": "code",
   "execution_count": null,
   "id": "54d3d4c3-9cd2-4e41-838f-a6b31f8652f5",
   "metadata": {},
   "outputs": [],
   "source": []
  }
 ],
 "metadata": {
  "kernelspec": {
   "display_name": "Octave",
   "language": "octave",
   "name": "octave"
  },
  "language_info": {
   "file_extension": ".m",
   "help_links": [
    {
     "text": "GNU Octave",
     "url": "https://www.gnu.org/software/octave/support.html"
    },
    {
     "text": "Octave Kernel",
     "url": "https://github.com/Calysto/octave_kernel"
    },
    {
     "text": "MetaKernel Magics",
     "url": "https://metakernel.readthedocs.io/en/latest/source/README.html"
    }
   ],
   "mimetype": "text/x-octave",
   "name": "octave",
   "version": "4.2.2"
  }
 },
 "nbformat": 4,
 "nbformat_minor": 5
}
