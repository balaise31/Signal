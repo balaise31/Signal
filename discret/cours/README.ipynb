{
 "cells": [
  {
   "cell_type": "markdown",
   "id": "a166b064-dff7-477a-a1eb-920efaf42c19",
   "metadata": {},
   "source": [
    "# Systèmes et signaux discrets\n",
    "---"
   ]
  },
  {
   "cell_type": "markdown",
   "id": "00c3b909-9228-4750-ba62-a16d0b45527f",
   "metadata": {},
   "source": [
    "## VEC : Les espaces vectoriels des signaux\n",
    "---\n",
    "\n",
    "Un signal est vu comme un vecteur dans un espace vectoriel. On y trouve une base de signaux orthonormés temporelle et une fréquentielle. Changer de base, c'est calculer une transofrmée.\n",
    "\n",
    "  * Voir le polycopié [premier chapitre](https://balaise31.github.io/Signal/poly_discret.pdf#chapter.1) jusqu'aux [bases temporelles (1.2)](https://balaise31.github.io/Signal/poly_discret.pdf#section.1.2) incluses \n",
    "  * Y associer la lecture des notebooks:\n",
    "     - [VEC1](./notebooks/VEC1_bases_temporelles.ipynb) sur les bases temporelles\n",
    "     - [VEC2](./notebooks/VEC2_bases_frequentielles.ipynb) sur les bases fréquentielles\n",
    "\n",
    "## FREQ : Transformée de Fourier des Signaux Discrets (TFSD) : dans $\\mathbb{C}^\\mathbb{Z}$ et $\\mathbb{C}_b^\\mathbb{Z}$\n",
    "---\n",
    "Dans le cas des signaux **discrets apériodiques** $\\mathbb{C^\\mathbb{Z}}$ ou apériodiques bornés $\\mathbb{C}_b^\\mathbb{Z}$, le passage à la base fréquencielle en utilisant le produit scalaire $<\\!< \\dots, \\dots >\\!>$ revient à calculer la TFSD du signal :\n",
    "  * Voir de la section [1.4.1 les TF](https://balaise31.github.io/Signal/poly_discret.pdf#subsection.1.4.1) jusqu'aux [1.4.3 les TFSD](https://balaise31.github.io/Signal/poly_discret.pdf#subsection.1.4.3)\n",
    "  * Faire dans exo 1 et 2 tout ce qui parle de TFSD (mais pas de TFD) dans le [TD FREQ](../td/FREQ_sujet.ipynb)\n",
    "  * Regarder le principe de dualité des transformées [1.5 Dualité](https://balaise31.github.io/Signal/poly_discret.pdf#section.1.5)\n",
    "\n",
    "## FREQ: Transformée de Fourier Discrète (TFD) : dans $\\mathbb{C}_p^\\mathbb{Z}$\n",
    "--- \n",
    "Dans le cas des signaux **discrets périodiques** $\\mathbb{C_p^\\mathbb{Z}}$, le passage à la base fréquencielle en utilisant le produit scalaire $<\\!< \\dots, \\dots >\\!>_p$ revient à calculer la TFD du signal et possède même des matrices de passage :\n",
    "  * Voir la section [1.4.4 les TF](https://balaise31.github.io/Signal/poly_discret.pdf#subsection.1.4.4)\n",
    "  * Terminer exo. 1 et 2 avec la TFD dans le [TD FREQ](../td/FREQ_sujet.ipynb)\n",
    "  * Terminer l'exercice 3 du [TD FREQ](../td/FREQ_sujet.ipynb)\n"
   ]
  },
  {
   "cell_type": "markdown",
   "id": "0dfee5d6-6fbd-4f72-99b9-e74406646b67",
   "metadata": {},
   "source": [
    "## SYS : Systèmes discrets\n",
    "--- \n",
    "\n",
    "Approche par calcul opérationnel des systèmes discrets : un système discret LTI est une somme pondérée de systèmes à retards.  \n",
    "Nuance entre quelques systèmes issus de somme finie (FIR) et ceux de somme infinie (IIR).\n",
    "    \n",
    "> Un système et un signal sont associés par la réponse impulsionnelle : $ H \\leftrightarrow h$  \n",
    "> Appliquer un système à un signal, c'est convoluer le signal avec la RIp : $y = x\\star  h$\n",
    "> Le produit de convolution, l'addition de signaux (casaux) se comporte comme une algèbre des nombres classiques \n",
    "> Avec le simple gain $\\lambda\\in \\mathbb{C}$, le système 'avance' $z$ et son inverse (algébrique) $z^{-1}$ on peut tout construire \n",
    "\n",
    "### SYS : MA et FIR\n",
    " * Regarder la [Chap2 jusqu'à 2.3 inclus du poly](https://balaise31.github.io/Signal/poly_discret.pdf#chapter.2)\n",
    " * Faire l'[exo MA q1 à q3 de TD SYS](../td/SYS_sujet.ipynb#MA---Mooving-Average), si ça bloque passer à la suite et me demander \n",
    " * Regarder la [vidéo des systèmes continus aux systèmes discrets](https://youtu.be/9Q0f8Ltj0Y4) (minute 0 à 10'18 temps continu, minute 10'18 le discret)  \n",
    " * Faire l'[exo MA q4 à q6 de TD SYS](../td/SYS_sujet.ipynb#MA---Mooving-Average), si ça bloque tentez la vidéo suivante \n",
    " * Vérifier avec [vidéo du schéma bloc à la fonction de transfert en passant par la récurrence](https://youtu.be/QRiAfbWLMw8) \n",
    " * Regarder la [section 2.4 sur la stabilité BIBO du poly ](https://balaise31.github.io/Signal/poly_discret.pdf#section.2.4) \n",
    " * Faire l'[exo MA q7 à q9 de TD SYS](../td/SYS_sujet.ipynb#MA---Mooving-Average), si ça bloque tentez la suite...\n",
    " * Regarder la vidéo [de la récurrence à la réponse impulsionnelle (FIR)](https://youtu.be/sKBlBBVbRWw)\n",
    " * Terminer l'exo MA\n",
    "\n",
    "         "
   ]
  },
  {
   "cell_type": "markdown",
   "id": "8b2c84b7-5dfc-4e32-a869-f236813b1b83",
   "metadata": {},
   "source": [
    "### SYS : AR et IIR\n",
    " \n",
    "  * Regarder la [vidéo de la récurrence à la réponse impulsionnelle (IIR)](https://youtu.be/TjNE5sKsKRM) jusqu'à la minute 8'32 (avant le cas général)\n",
    "  * Faire l'[exo AR q1 à q4 de TD SYS](../td/SYS_sujet.ipynb#AR---Auto-Regressive), si ça bloque passer à la suite et me demander \n",
    "  * Reprendre la suite de [suite vidéo de la transformée en Z à la réponse impulsionnelle](https://youtu.be/TjNE5sKsKRM?t=500) de la minute 8'32 à 13'20\n",
    "  * Terminer l'exo AR du TD SYS\n",
    "  * Terminez la [fin vidéo de la transformée en Z à la réponse impulsionnelle](https://youtu.be/TjNE5sKsKRM?t=801) de la minute 13'20 à la fin\n",
    "  * Faire l'[exo ARMA TD SYS](../td/SYS_sujet.ipynb#ARMA)"
   ]
  },
  {
   "cell_type": "markdown",
   "id": "51924d11-8540-4f74-bb0a-d22156251968",
   "metadata": {},
   "source": [
    "## FILT : Synthèse de filtres\n",
    "---\n"
   ]
  },
  {
   "cell_type": "markdown",
   "id": "aaf3bb80-502a-4fb8-b4a9-439bbceda9da",
   "metadata": {},
   "source": [
    "* faire le TD de préparation à la méthode bilinéaire [FILT_prepa_bilineaire](../tp/FILT_prepa_bilineaire.ipynb) il est préférable de programmer les cellules de code proposées mais pas indispensable.\n",
    "* regarder les 9 premières minutes (avant la compression de fréquences) de [vidéo sur la méthode bilinéaire avant \"compression\"](https://youtu.be/uBZOh7vhjHU)\n",
    "* faire le travail préparatoire du tp [FILT_prepa_tp1](../tp/FILT_prepa_tp1.ipynb) sur papier seule ou en binôme AVANT d'aller en TP\n",
    "* tenter de compléter les cellules de code de [FILT_prepa_bilineaire](../tp/FILT_prepa_bilineaire.ipynb) en s'aidant du corrigé s'il le faut ou à la fin.\n",
    "* avant/pendant/après le TP :regarder la suite sur la \"compression de fréquences\" de la [vidéo sur la méthode bilinéaire suite](https://youtu.be/uBZOh7vhjHU?t=587)\n",
    "* faire le [TP bilinéaire](../tp/tp1_continu_discret/tp1_bilineaire.ipynb) en séance\n",
    "* poursuivre avec l'application du filtre overtone "
   ]
  },
  {
   "cell_type": "code",
   "execution_count": null,
   "id": "31027ed7-9587-4258-9a0b-2c9d55264f9c",
   "metadata": {
    "vscode": {
     "languageId": "json"
    }
   },
   "outputs": [],
   "source": []
  }
 ],
 "metadata": {
  "kernelspec": {
   "display_name": "Octave",
   "language": "octave",
   "name": "octave"
  },
  "language_info": {
   "file_extension": ".m",
   "help_links": [
    {
     "text": "GNU Octave",
     "url": "https://www.gnu.org/software/octave/support.html"
    },
    {
     "text": "Octave Kernel",
     "url": "https://github.com/Calysto/octave_kernel"
    },
    {
     "text": "MetaKernel Magics",
     "url": "https://metakernel.readthedocs.io/en/latest/source/README.html"
    }
   ],
   "mimetype": "text/x-octave",
   "name": "octave",
   "version": "4.2.2"
  }
 },
 "nbformat": 4,
 "nbformat_minor": 5
}
