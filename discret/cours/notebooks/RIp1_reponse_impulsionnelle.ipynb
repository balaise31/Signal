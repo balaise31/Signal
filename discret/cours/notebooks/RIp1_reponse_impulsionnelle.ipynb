{
 "cells": [
  {
   "cell_type": "markdown",
   "id": "3444098a-6bd9-4530-82fd-44d88b238395",
   "metadata": {},
   "source": [
    "# RIp : Réponse impulsionnelle "
   ]
  },
  {
   "cell_type": "markdown",
   "id": "1b89a8b5-50b6-4aad-ae30-08110e03115e",
   "metadata": {},
   "source": [
    "\n",
    "\n",
    "L'acoustique de la salle de concert de Pori en Finlande a été identifiée par la méthode de la réponse impulsionnelle :\n",
    " * un haut parleur omnidirectionnel envoie un claquement le plus proche possible d'une impulsion de Dirac depuis la scène\n",
    " * deux micro placés dans la salle sur un manequin enregistre le signal : c'est **l'enregistrement binaural**\n",
    " \n",
    " On peut récupérer ces réponses impulsionnelles gracieusement mises à disposition sur  [IR Concert Hall de Pori, Finlan](http://legacy.spa.aalto.fi/projects/poririrs/) . Prenons l'enregistrement binaural `s3_r4_b.wav` et remercions-les.\n",
    " \n",
    " On va utiliser cette RIp qui caractérise le canal acoustique entre la scène et un membre du public pour \n",
    " \n",
    " > transformer un signal audio (sans relief et en mono) en *un signal stereo avec le relief du Concert Hall de Pori*."
   ]
  },
  {
   "cell_type": "markdown",
   "id": "3fbef8b5-3508-4d78-9df5-9ade794523ba",
   "metadata": {},
   "source": [
    "## 1 - Mise en forme de la RIp\n",
    "\n",
    "Récupérons le signal `RIp_s3_r4_b.wav` contenant la réponse impulsionnelle stéréo. On a donc deux réponses impulsionnelles caractérisant deux canaux de transmission du signal :\n",
    " - le canal acoustique de la scène vers l'oreille droite d'un spectateur\n",
    " - celui de l'oreille gauche\n",
    " \n",
    " La fonction `audiored` renvoie une matrice des deux signaux dont les valeurs sont codées en flottant où $[+1, -1]$ représente la pleine échelle du signal.\n",
    " \n",
    " Un signal supérieur à 1 en valeur absolue sera saturé à l'écoute."
   ]
  },
  {
   "cell_type": "code",
   "execution_count": 18,
   "id": "5addcce5-717c-4c1d-bc1c-e24536767188",
   "metadata": {},
   "outputs": [
    {
     "data": {
      "image/png": "[encoded data removed]",
      "text/plain": [
       "<IPython.core.display.Image object>"
      ]
     },
     "metadata": {},
     "output_type": "display_data"
    }
   ],
   "source": [
    "clear all;\n",
    "% on se place dans  Signal/discret/cours/notebooks/\n",
    "racine = pwd; racine = [racine(1:(findstr(racine,\"Signal\")+6)), \"discret/cours/notebooks/\"];cd (racine);\n",
    "\n",
    "% de là le fichier .wav peut être interprété\n",
    "[h,Fs]=audioread(\"RIp_s3_r4_b.wav\");\n",
    "\n",
    "% vecteur temps [s] et nombre d'échantillons Nh\n",
    "Nh = length(h); t=1:Nh; t= t-1; t=t/Fs;\n",
    "\n",
    "% Affichage\n",
    "subplot(211)\n",
    "plot(t,h(:,1),'b');\n",
    "xlabel(\"temps (s)\"); ylabel(\"Signal gauche\");\n",
    "title('Reponses impulsionnelles du Concert Hall de Pori (Finland)')\n",
    "subplot(212)\n",
    "plot(t,h(:,2),'r')\n",
    "xlabel(\"temps (s)\"); ylabel(\"Signal droit\");\n"
   ]
  },
  {
   "cell_type": "markdown",
   "id": "1854edca-062b-4e39-b114-1ff1782694be",
   "metadata": {},
   "source": [
    "On remarque que :\n",
    " * la RIp est nulle pendant quelques milliers d'échantillons avant que le signal n'arrive.\n",
    " * la RIp devient quasi nulle au bout d'une seconde \n",
    " * l'amplitude est inférieure à 0.05 signifiant 5% de la pleine échelle\n",
    " \n",
    " Observons les statistiques des deux signaux et comparons avec les normes :\n",
    "  - $N_1$ : $\\|s\\|_1 = \\frac{1}{N} \\sum\\limits_{j=0}^{N-1} |s[j]|$\n",
    "  - $N_2$ : $\\|s\\|_2 = \\sqrt{ \\frac{1}{N} \\sum\\limits_{j=0}^{N-1} |s[j]|^2}$\n",
    "  - $N_\\infty$  : $\\|s\\|_\\infty=\\mathop\\max\\limits_{0 \\le j < N} |s[j]|$ "
   ]
  },
  {
   "cell_type": "code",
   "execution_count": 19,
   "id": "48d384bc-2b19-45df-ac07-3de7fe580eb8",
   "metadata": {},
   "outputs": [
    {
     "name": "stdout",
     "output_type": "stream",
     "text": [
      "_____________________________\n",
      "\n",
      "RIp STEREO:\n",
      "\n",
      "Gauche :\n",
      "\n",
      "   N1=0.000216457   <  N2=0.000871879   <   NInf= 0.0554627\n",
      "   borné dans  -0.0554627 ...  0.0401613   => NInf = 0.0554627 \n",
      "    i.i.d.  4.2508e-08 (moy) +/- 0.000871881 (std)\n",
      "   moy^2    \t+   std^2    \t=        \t<->   \t N2^2\n",
      "   1.80693e-15 \t+ 7.60177e-07  \t=  7.60177e-07  \t<-> \t 7.60173e-07\n",
      "Droite :\n",
      "\n",
      "   N1=0.000235863   <  N2=0.00104428   <   NInf= 0.0588199\n",
      "   borné dans  -0.0588199 ...  0.0490125   => NInf = 0.0588199 \n",
      "    i.i.d.  -2.99867e-08 (moy) +/- 0.00104428 (std)\n",
      "   moy^2    \t+   std^2    \t=        \t<->   \t N2^2\n",
      "   8.99204e-16 \t+ 1.09052e-06  \t=  1.09052e-06  \t<-> \t 1.09052e-06\n",
      "_____________________________\n",
      "\n",
      "Matrice de covariance gauche droite = \n",
      "\n",
      "   7.6017e-07   3.9352e-08\n",
      "   3.9352e-08   1.0905e-06\n",
      "\n",
      "\n",
      "\n"
     ]
    }
   ],
   "source": [
    "function [N1,N2,Ninf] = stats_signal_mono(s, nom=\"Signal\")\n",
    "    Ninf = max(max(abs(s)));\n",
    "    N2 = sqrt(sum(abs(s).^2)/length(s));\n",
    "    N1 = sum(abs(s))/length(s);\n",
    "    \n",
    "    printf ([nom, \" N1=%d   <  N2=%d   <   NInf= %d\\n\"],\n",
    "            N1,N2,Ninf)\n",
    "    printf ([nom,\" borné dans  %d ...  %d   => NInf = %d \\n\"],\n",
    "            min(s),max(s),Ninf)\n",
    "    printf ([nom,\"  i.i.d.  %d (moy) +/- %d (std)\\n\"], \n",
    "                mean(s), std(s))\n",
    "    printf ([nom,\" moy^2    \\t+   std^2    \\t=        \\t<->   \\t N2^2\\n\"]); \n",
    "    printf ([nom,\" %d \\t+ %d  \\t=  %d  \\t<-> \\t %d\\n\"], \n",
    "                mean(s)^2, std(s)^2, mean(s)^2 + std(s)^2, N2^2)\n",
    "                \n",
    "end\n",
    "\n",
    "function stats_signal_stereo(s, nom=\"Signal\")\n",
    "    disp (\"_____________________________\\n\");\n",
    "    disp ([nom, \" STEREO:\\n\"]);\n",
    "    disp (\"Gauche :\\n\");\n",
    "    stats_signal_mono(s(:,1),[\"  \"]);\n",
    "    disp (\"Droite :\\n\");\n",
    "    stats_signal_mono(s(:,2),[\"  \"]);\n",
    "    disp (\"_____________________________\\n\")\n",
    "    disp(\"Matrice de covariance gauche droite = \\n\");\n",
    "    disp(s'*s/length(s))\n",
    "    disp(\"\\n\\n\");\n",
    "end\n",
    "\n",
    "stats_signal_stereo(h,\"RIp\")\n",
    "\n"
   ]
  },
  {
   "cell_type": "markdown",
   "id": "46ffccb3-e67b-4cd6-9006-70aab42fbdf0",
   "metadata": {},
   "source": [
    "Les normes du signal sont faibles, un tel filtre va atténuer fortement un signal mis en entrée.\n",
    "Nous allons enlever sa valeur moyenne résiduelle et l'amplifier pour le normer. Nous respectons la différence de volume entre gauche et droite.\n",
    "On veut donc qu'en moyenne sur gauche et droite la norme 2 soit de 1.\n",
    "\n",
    "On veut donc :\n",
    "  - Enlever le retard global des deux signaux en cherchant la valeur `start` à partir de laquelle un des des deux signaux devient significativement non nul.\n",
    "  - Enlever la partie au-delà d'une seconde qui est quasi-nulle pour ne pas ajouter inutilement de bruit\n",
    "  - Normaliser le signal de telle sorte que sa puissance moyenne (norme 2) soit unitaire "
   ]
  },
  {
   "cell_type": "code",
   "execution_count": 20,
   "id": "c4fd3094-ceff-4c7d-9bed-e88fa0c1cce3",
   "metadata": {},
   "outputs": [
    {
     "name": "stdout",
     "output_type": "stream",
     "text": [
      "distance =  24.750\n",
      "Nh =  57600\n",
      "_____________________________\n",
      "\n",
      "RIp normalisée STEREO:\n",
      "\n",
      "Gauche :\n",
      "\n",
      "   N1=0.408702   <  N2=0.910018   <   NInf= 31.7079\n",
      "   borné dans  -31.7079 ...  22.9601   => NInf = 31.7079 \n",
      "    i.i.d.  2.13516e-18 (moy) +/- 0.910026 (std)\n",
      "   moy^2    \t+   std^2    \t=        \t<->   \t N2^2\n",
      "   4.55889e-36 \t+ 0.828147  \t=  0.828147  \t<-> \t 0.828132\n",
      "Droite :\n",
      "\n",
      "   N1=0.445491   <  N2=1.08996   <   NInf= 33.6272\n",
      "   borné dans  -33.6272 ...  28.0204   => NInf = 33.6272 \n",
      "    i.i.d.  -1.94343e-18 (moy) +/- 1.08997 (std)\n",
      "   moy^2    \t+   std^2    \t=        \t<->   \t N2^2\n",
      "   3.77693e-36 \t+ 1.18804  \t=  1.18804  \t<-> \t 1.18802\n",
      "_____________________________\n",
      "\n",
      "Matrice de covariance gauche droite = \n",
      "\n",
      "   0.828132   0.042869\n",
      "   0.042869   1.188023\n",
      "\n",
      "\n",
      "\n",
      "ecart_type_moyen_gauche_droite =  1.0000\n"
     ]
    }
   ],
   "source": [
    "start = 1;\n",
    "while (max(abs(h(start,:))) < 1e-4)\n",
    "    start=start +1;\n",
    "end\n",
    "distance = start/Fs*330  % en mètre pour son à 330 m/s\n",
    "h_base = h;\n",
    "h_pre = h_base(start:end,:); % on coupe le debut null\n",
    "% on raccourci pour avoir environ 1 à 2 s\n",
    "h = h_pre(1:(1.2*Fs),:); \n",
    "Nh=length(h)\n",
    "h = (h-mean(h)); % on enlève le résidu de composante continue\n",
    "\n",
    "% On regarde l'écart type moyen qui est la racine de N2\n",
    "ecart_type_moyen_gauche_droite = mean(std(h)); \n",
    "\n",
    "% on amplifie les deux signaux pour les normer\n",
    "h = h / ecart_type_moyen_gauche_droite ;\n",
    "\n",
    "stats_signal_stereo(h,\"RIp normalisée\")\n",
    "\n",
    "% l'écart type moyen (droite-gauche)doit être de 1\n",
    "ecart_type_moyen_gauche_droite = mean(std(h))"
   ]
  },
  {
   "cell_type": "markdown",
   "id": "8c15c439-01dd-403f-b272-c14eee967d59",
   "metadata": {},
   "source": [
    "## 2 - Mise en forme du signal d'entrée\n",
    "On récupère un signal de voix et on s'assure qu'il est bien plat (sans relief) en isolant le canal gauche.\n",
    "\n",
    "On regarde ses statistiques pourmesure la puissance de ce signal."
   ]
  },
  {
   "cell_type": "code",
   "execution_count": 21,
   "id": "e7767554-2522-4d26-be5f-7f6ba1de3cb6",
   "metadata": {
    "tags": []
   },
   "outputs": [
    {
     "data": {
      "image/png": "[encoded data removed]",
      "text/plain": [
       "<IPython.core.display.Image object>"
      ]
     },
     "metadata": {},
     "output_type": "display_data"
    }
   ],
   "source": [
    "[x,Fs_x]=audioread(\"RIp_un_deux.wav\");\n",
    "if (Fs != Fs_x) \n",
    "    disp(\"fréquences échantillonnage différentes !\\n Il faut ré-échantillonner\");\n",
    "else\n",
    "    Nx=length(x);\n",
    "    x = x(:,1); % On rend Mono en enlevant le droit\n",
    "end\n",
    "\n",
    "plot(x,'b');\n",
    "xlabel(\"temps [#  echantillons]\"); ylabel(\"Signal gauche\");\n",
    "title(sprintf('Signal de %d echantillons',Nx))\n",
    "\n",
    "x_base = x;\n",
    "\n"
   ]
  },
  {
   "cell_type": "code",
   "execution_count": 22,
   "id": "849bcbae-7471-4153-8be8-2b9077d43c08",
   "metadata": {},
   "outputs": [
    {
     "name": "stdout",
     "output_type": "stream",
     "text": [
      "x MONO  N1=0.0586641   <  N2=0.132737   <   NInf= 0.999998\n",
      "x MONO  borné dans  -0.985788 ...  0.999998   => NInf = 0.999998 \n",
      "x MONO   i.i.d.  1.34312e-06 (moy) +/- 0.132738 (std)\n",
      "x MONO  moy^2    \t+   std^2    \t=        \t<->   \t N2^2\n",
      "x MONO  1.80397e-12 \t+ 0.0176193  \t=  0.0176193  \t<-> \t 0.017619\n",
      "ans =  0.058664\n"
     ]
    }
   ],
   "source": [
    "stats_signal_mono(x, \"x MONO \")"
   ]
  },
  {
   "cell_type": "markdown",
   "id": "d2b319b7-40de-46e8-8808-b3169a990089",
   "metadata": {},
   "source": [
    "Le signal d'entrée est **normé en norme Infinie** c'est à dire coincé entre -1 et 1. \n",
    "> Ce signal a été mis en pleine échelle pour qu'il ne sature pas.\n",
    "\n",
    "Sa puissance moyenne (norme 2) est de 0.13 : nous essaieront d'obtenir un signal filtré de même puissance (volume)."
   ]
  },
  {
   "cell_type": "markdown",
   "id": "38222934-8279-4bbb-b4f1-b929eb54d688",
   "metadata": {},
   "source": [
    "## 3 - Filtrage en temporel\n",
    "\n",
    "On calcule les sortie de chaque canaux acoustique et donc deux produits de convolution :\n",
    "  - $y_g = x \\star h_g$  pour l'oreille gauche\n",
    "  - $y_d = x \\star h_d$  pour la droite\n",
    "On obtient ainsi une réponse stéréo \"comme si\" le signal est arrivé à nos oreille à travers la salle de concert.\n",
    "\n",
    "On peut calculer le produit de convolution par linéarité :\n",
    "> $\\vec{x} = \\sum_j x[j] \\vec{\\delta[j]} \\implies y = \\sum_j x[j] . \\vec{h[\\bullet-j]}$\n",
    "\n",
    "Il est alors évident que si $x$ à $N_x$ points et $h$ en a $N_h$ :\n",
    "  - le premier instant non nul de la convolution est le premier de $x[0].\\vec{h}$  et donc le premier du signal $h$ pour l'indice $1$\n",
    "  - le dernier instant non nul de la convolution est le dernier de $x[N_x-1].\\vec{h[\\bullet-(N_x-1)]}$ et donc pour la fin de $\\vec{h[\\bullet-(N_x-1)]}$ qui est un signal de longueur $N_h$ retardé de $N_x-1$ soit pour l'indice $N_x+N_h-1$\n",
    "  - le reste de la réponse étant null\n",
    "\n",
    "Il s'agit d'un calcul de $N_x*N_h$ multiplication/addition qui ici est de l'ordre de 100k*75k soit environ 7 Gflo (Giga FLOating point opérations).\n",
    "Avec des accès à la RAM pour lecture/écriture cela peut être long.\n",
    "\n",
    "> chronométrons !"
   ]
  },
  {
   "cell_type": "code",
   "execution_count": 23,
   "id": "2799b453-4d33-41cb-a942-38e29cc5cee4",
   "metadata": {},
   "outputs": [
    {
     "name": "stdout",
     "output_type": "stream",
     "text": [
      "Calcul de la réponse de \n",
      "    2  \tfiltres (gauche et droit)\n",
      " x 57600  \tl'ordre d'un filtre h\n",
      " x 74564 \tvaleurs du signal d'entrée\n",
      " =19.7092 Gflo de calcul ! \n",
      "\n",
      "On chronomètre...\n",
      " ça fait 11.9112 secondes. \n",
      " Soit une efficacité de 1.65468 Gflops"
     ]
    }
   ],
   "source": [
    "Ny = Nx+Nh-1;\n",
    "\n",
    "printf(\"Calcul de la réponse de \\n\");\n",
    "printf(\"    2  \\tfiltres (gauche et droit)\\n\");\n",
    "printf(\" x %d  \\tl'ordre d'un filtre h\\n\",Nh);\n",
    "printf(\" x %d \\tvaleurs du signal d'entrée\\n\", Nx)\n",
    "printf(\" =%d Gflo de calcul\", Nx*Ny*2/1e9)\n",
    "disp(\" ! \\n\\nOn chronomètre...\");\n",
    "\n",
    "y = zeros(Ny,2);\n",
    "\n",
    "tic;\n",
    "for k = 1:Nx \n",
    "    y(k:k+Nh-1,1) += x(k) .* h(:,1);\n",
    "    y(k:k+Nh-1,2) += x(k) .* h(:,2);\n",
    "end \n",
    "ela=toc;\n",
    "printf(\" ça fait %d secondes. \\n Soit une efficacité de %d Gflops\",ela,Nx*Ny*2/1e9/ela); "
   ]
  },
  {
   "cell_type": "code",
   "execution_count": 7,
   "id": "f63bf01b-593b-45c0-8554-5d0119f02e14",
   "metadata": {
    "tags": []
   },
   "outputs": [
    {
     "data": {
      "image/png": "[encoded data removed]",
      "text/plain": [
       "<IPython.core.display.Image object>"
      ]
     },
     "metadata": {},
     "output_type": "display_data"
    }
   ],
   "source": [
    "t=1:Ny; t= t-1; t=t/Fs;\n",
    "\n",
    "subplot(311)\n",
    "x_pad = [x; NaN(Ny-Nx,1)];\n",
    "plot(t,x_pad,'k');\n",
    "xlabel(\"temps (s)\"); ylabel(\"Signal envoye\");\n",
    "title('Signal \"comme si\" emit du  Concert Hall de Pori')\n",
    "subplot(312)\n",
    "plot(t,y(:,1),'b');\n",
    "xlabel(\"temps (s)\"); ylabel(\"Signal gauche\");\n",
    "subplot(313)\n",
    "plot(t,y(:,2),'r')\n",
    "xlabel(\"temps (s)\"); ylabel(\"Signal droit\");\n"
   ]
  },
  {
   "cell_type": "code",
   "execution_count": 24,
   "id": "39916881-1dd9-470e-bc48-5964110f4a57",
   "metadata": {},
   "outputs": [
    {
     "name": "stdout",
     "output_type": "stream",
     "text": [
      " ça fait 17.9965 secondes. \n",
      "Soit une puissance de 1.09517 Gflops"
     ]
    }
   ],
   "source": [
    "% On veut une réponse de la même longueur que y :\n",
    "% on complète alors x avec des zéro en fin de signal. \n",
    "% Comme aux concerts classiques, on attend 1 à 4 secondes\n",
    "% entendre les derniers échos de la salle avant de huer ;-)\n",
    "x_pad = [x; zeros(Ny-Nx,1)];\n",
    "tic;\n",
    "y_f1 = filter(h(:,1),1,x_pad);\n",
    "y_f2 = filter(h(:,2),1,x_pad);\n",
    "ela = toc;\n",
    "yf = [y_f1 , y_f2];\n",
    "\n",
    "\n",
    "printf(\" ça fait %d secondes. \\n\",ela);\n",
    "printf(\"Soit une puissance de %d Gflops\",\n",
    "        Nx*Ny*2/1e9/ela); "
   ]
  },
  {
   "cell_type": "code",
   "execution_count": 25,
   "id": "04559641-0606-4a73-96dd-3174edd71528",
   "metadata": {
    "tags": []
   },
   "outputs": [
    {
     "name": "stdout",
     "output_type": "stream",
     "text": [
      "Différence entre les signaux de 0 et 0 [V^2/sample]\n"
     ]
    }
   ],
   "source": [
    "err = y-yf;\n",
    "err_cov_mat=err'*err;\n",
    "printf(\"Différence entre les signaux de %d et %d [V^2/sample]\\n\",err_cov_mat(1,1),err_cov_mat(2,2))"
   ]
  },
  {
   "cell_type": "code",
   "execution_count": 10,
   "id": "a4881848-1c2b-42f2-9ca7-898b4f9db424",
   "metadata": {
    "tags": []
   },
   "outputs": [],
   "source": [
    "ynorm = y / mean(std(y)) * std(x);\n",
    "audiowrite(\"RIp_y_tempo.wav\",ynorm,Fs)\n"
   ]
  },
  {
   "cell_type": "markdown",
   "id": "552977d5-e616-44d1-a766-ac0b04ff6baa",
   "metadata": {
    "tags": []
   },
   "source": [
    "## 4 - Filtrage en fréquenciel : Optimisation du calcul par FFT\n",
    "\n",
    "Attention en FFt le signal est rendu périodique !\n",
    "\n",
    "> la convolution est cyclique !\n",
    "> Il faut ajouter des zéros pour que les réponses ne se recouvrent pas avec le périodique\n",
    "> ou laisser passer le transitoire et ne regarder que le reste\n",
    "\n",
    "![](https://external-content.duckduckgo.com/iu/?u=http%3A%2F%2Fwww.mathouriste.eu%2F~ajuhel%2FFourier%2Fpapillons_colores.jpg&f=1&nofb=1)\n"
   ]
  },
  {
   "cell_type": "code",
   "execution_count": 26,
   "id": "cd210d6a-525e-4a52-9195-88d01d2a9756",
   "metadata": {},
   "outputs": [
    {
     "name": "stdout",
     "output_type": "stream",
     "text": [
      "Nl =  132163\n",
      "Elapsed time is 0.0241551 seconds.\n"
     ]
    }
   ],
   "source": [
    "Nl = Nh+Nx-1\n",
    "H_fft = fft(h,Nl);\n",
    "tic;\n",
    "X_fft = fft(x,Nl);\n",
    "Y_fft = X_fft .* H_fft ;\n",
    "y_par_fft = ifft(Y_fft) ;\n",
    "toc\n"
   ]
  },
  {
   "cell_type": "code",
   "execution_count": 12,
   "id": "b0a640c0-d846-4cd5-9277-82b12808e36e",
   "metadata": {},
   "outputs": [
    {
     "name": "stdout",
     "output_type": "stream",
     "text": [
      "est_reel =    1.8043e+15\n",
      "ans =\n",
      "\n",
      "   4.9623e-22   7.1006e-24\n",
      "   7.1006e-24   5.8690e-22\n",
      "\n"
     ]
    }
   ],
   "source": [
    "est_reel = sum(abs(real(y_par_fft)))/sum(abs(imag(y_par_fft)))\n",
    "err = (y-real(y_par_fft));\n",
    "err'*err"
   ]
  },
  {
   "cell_type": "code",
   "execution_count": 13,
   "id": "615ae34a-0f09-4b95-a705-0467be4548de",
   "metadata": {},
   "outputs": [
    {
     "data": {
      "image/png": "[encoded data removed]",
      "text/plain": [
       "<IPython.core.display.Image object>"
      ]
     },
     "metadata": {},
     "output_type": "display_data"
    }
   ],
   "source": [
    "\n",
    "subplot(311);\n",
    "plot(real(ifft(X_fft)));\n",
    "subplot(312);\n",
    "plot(real(ifft(H_fft))); \n",
    "%hold on; plot(h,'k')\n",
    "subplot(313);\n",
    "plot(real(y_par_fft));\n",
    "hold on; plot(y,'k');\n",
    "\n"
   ]
  },
  {
   "cell_type": "code",
   "execution_count": 14,
   "id": "244aab96-d609-4580-a023-fbf0fa563a98",
   "metadata": {
    "tags": []
   },
   "outputs": [],
   "source": [
    "y_par_fft = y_par_fft / mean(std(y_par_fft)) * std(x);\n",
    "audiowrite(\"RIp_y_fft.wav\",y_par_fft,Fs)\n"
   ]
  },
  {
   "cell_type": "markdown",
   "id": "8348a025-6c01-4d6e-8409-cb118ab69b1b",
   "metadata": {},
   "source": [
    "![](https://image1.slideserve.com/2205031/algorithme-fft-radix-2-cooley-tuckey-19651-l.jpg)"
   ]
  },
  {
   "cell_type": "code",
   "execution_count": null,
   "id": "9cf5beca-8396-46a8-b9ec-e04c7c9130da",
   "metadata": {},
   "outputs": [],
   "source": []
  }
 ],
 "metadata": {
  "kernelspec": {
   "display_name": "Octave",
   "language": "octave",
   "name": "octave"
  },
  "language_info": {
   "file_extension": ".m",
   "help_links": [
    {
     "text": "GNU Octave",
     "url": "https://www.gnu.org/software/octave/support.html"
    },
    {
     "text": "Octave Kernel",
     "url": "https://github.com/Calysto/octave_kernel"
    },
    {
     "text": "MetaKernel Magics",
     "url": "https://metakernel.readthedocs.io/en/latest/source/README.html"
    }
   ],
   "mimetype": "text/x-octave",
   "name": "octave",
   "version": "4.2.2"
  }
 },
 "nbformat": 4,
 "nbformat_minor": 5
}
