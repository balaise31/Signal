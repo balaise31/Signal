{
 "cells": [
  {
   "cell_type": "markdown",
   "id": "3437d712-e52b-4e5e-aa22-4d98a279543a",
   "metadata": {},
   "source": [
    "# Filtre canal plus"
   ]
  },
  {
   "cell_type": "code",
   "execution_count": 27,
   "id": "0d5b2779-a4a0-4f08-910d-598180e78a07",
   "metadata": {},
   "outputs": [
    {
     "name": "stdout",
     "output_type": "stream",
     "text": [
      "N =  11221980\n"
     ]
    }
   ],
   "source": [
    "clear all;\n",
    "[y,Fs]=audioread(\"12 Fernando.flac\");\n",
    "#[y,Fs]=audioread(\"01 Bad.flac\");\n",
    "#[y,Fs]=audioread(\"11 Le Pénitencier.flac\");\n",
    "\n",
    "Fy=fft(y);\n",
    "N=length(y)\n",
    "t=(0:N-1)/Fs;\n",
    "f=(0:N-1)*Fs/N;\n",
    "enne = 1:round(8000/Fs*N);\n"
   ]
  },
  {
   "cell_type": "code",
   "execution_count": 28,
   "id": "790b5b00-7b8c-42fb-852c-0a8492de1b4f",
   "metadata": {},
   "outputs": [],
   "source": [
    "Fcan = Fy *0;\n",
    "Nf = round(880*2/Fs*N);\n",
    "Nb = round(110/Fs*N);\n",
    "Fcan(Nb:Nf)=Fy(N-Nf:N-Nb);\n",
    "can = real(ifft(Fcan));\n",
    "%can = y .* sin(2*pi*2000*t');\n",
    "%Fcan = fft(can).*(f'<2000)*2;\n",
    "%can = real(ifft(Fcan));"
   ]
  },
  {
   "cell_type": "code",
   "execution_count": 29,
   "id": "c8ef218e-dd9a-4370-b92a-a2ea86de3e74",
   "metadata": {
    "tags": []
   },
   "outputs": [],
   "source": [
    "\n",
    "audiowrite(\"canal.wav\",can,Fs);"
   ]
  },
  {
   "cell_type": "code",
   "execution_count": 22,
   "id": "8fee08c9-2f55-47dd-84a4-52467d633f49",
   "metadata": {},
   "outputs": [
    {
     "name": "stdout",
     "output_type": "stream",
     "text": [
      "\n",
      "\n",
      "\n",
      "(rhythmbox:28741): Gtk-\u001b[1;33mWARNING\u001b[0m **: \u001b[34m18:34:12.332\u001b[0m: actionhelper: action app.play-repeat can't be activated due to parameter type mismatch (parameter type NULL, target type b)\n",
      "\n",
      "\n",
      "\n",
      "\n",
      "\n",
      "(rhythmbox:28741): Gtk-\u001b[1;33mWARNING\u001b[0m **: \u001b[34m18:34:12.332\u001b[0m: actionhelper: action app.play-shuffle can't be activated due to parameter type mismatch (parameter type NULL, target type b)\n",
      "\n",
      "\n",
      "Traceback (most recent call last):\n",
      "\n",
      "\n",
      "  File \"/usr/lib/x86_64-linux-gnu/rhythmbox/plugins/artsearch/local.py\", line 106, in _enum_dir_cb\n",
      "\n",
      "\n",
      "    self.finished(results)\n",
      "\n",
      "\n",
      "  File \"/usr/lib/x86_64-linux-gnu/rhythmbox/plugins/artsearch/local.py\", line 52, in finished\n",
      "\n",
      "\n",
      "    key = RB.ExtDBKey.create_storage(\"album\", self.album)\n",
      "\n",
      "\n",
      "TypeError: Argument 1 does not allow None as a value\n",
      "\n",
      "\n",
      "Traceback (most recent call last):\n",
      "\n",
      "\n",
      "  File \"/usr/lib/x86_64-linux-gnu/rhythmbox/plugins/artsearch/local.py\", line 106, in _enum_dir_cb\n",
      "\n",
      "\n",
      "    self.finished(results)\n",
      "\n",
      "\n",
      "  File \"/usr/lib/x86_64-linux-gnu/rhythmbox/plugins/artsearch/local.py\", line 52, in finished\n",
      "\n",
      "\n",
      "    key = RB.ExtDBKey.create_storage(\"album\", self.album)\n",
      "\n",
      "\n",
      "TypeError: Argument 1 does not allow None as a value\n",
      "\n",
      "\n",
      "\n",
      "\n",
      "\n",
      "During handling of the above exception, another exception occurred:\n",
      "\n",
      "\n",
      "\n",
      "\n",
      "\n",
      "Traceback (most recent call last):\n",
      "\n",
      "\n",
      "  File \"/usr/lib/x86_64-linux-gnu/rhythmbox/plugins/artsearch/local.py\", line 123, in _enum_dir_cb\n",
      "\n",
      "\n",
      "    self.finished(results)\n",
      "\n",
      "\n",
      "  File \"/usr/lib/x86_64-linux-gnu/rhythmbox/plugins/artsearch/local.py\", line 52, in finished\n",
      "\n",
      "\n",
      "    key = RB.ExtDBKey.create_storage(\"album\", self.album)\n",
      "\n",
      "\n",
      "TypeError: Argument 1 does not allow None as a value\n",
      "\n",
      "\n",
      "/usr/lib/python3/dist-packages/gi/overrides/GObject.py:553: Warning: ../../../../gobject/gsignal.c:2642: instance '0x564c5e517400' has no handler with id '15086'\n",
      "\n",
      "\n",
      "  return func(*args, **kwargs)\n",
      "\n",
      "\n",
      "/usr/lib/python3/dist-packages/gi/overrides/GObject.py:553: Warning: ../../../../gobject/gsignal.c:2642: instance '0x564c5e517400' has no handler with id '15085'\n",
      "\n",
      "\n",
      "  return func(*args, **kwargs)\n",
      "\n",
      "\n",
      "\n",
      "\n",
      "\n",
      "(rhythmbox:28741): Gtk-\u001b[1;33mWARNING\u001b[0m **: \u001b[34m18:35:38.265\u001b[0m: Can't set a parent on widget which has a parent\n",
      "\n",
      "\n"
     ]
    }
   ],
   "source": [
    "%shell rhythmbox canal.wav\n",
    "\n"
   ]
  },
  {
   "cell_type": "code",
   "execution_count": 15,
   "id": "afbcb0d8-69ac-4904-8b0f-fb16fc3aec81",
   "metadata": {
    "tags": []
   },
   "outputs": [
    {
     "data": {
      "image/png": "[encoded data removed]",
      "text/plain": [
       "<IPython.core.display.Image object>"
      ]
     },
     "metadata": {},
     "output_type": "display_data"
    }
   ],
   "source": [
    "plot(f(enne),abs(Fcan(enne)))"
   ]
  },
  {
   "cell_type": "markdown",
   "id": "798433c6-59d1-46a9-95fe-74b3e5a01535",
   "metadata": {},
   "source": [
    "# No Do No Mi"
   ]
  },
  {
   "cell_type": "code",
   "execution_count": 30,
   "id": "c576c686-59f2-4df5-9ab6-3a8922149f5d",
   "metadata": {
    "tags": []
   },
   "outputs": [
    {
     "name": "stdout",
     "output_type": "stream",
     "text": [
      "LA =  880.00\n"
     ]
    }
   ],
   "source": [
    "LA = 440;\n",
    "note = @(x) mod(10*log10(x),3);\n",
    "selnote = @(g) (abs(note(f)-note(g))<3/12).*(f<LA*2)*2;\n",
    "deselnote = @(g) 2-selnote(g);\n",
    "demiton = 2^(1/12);\n",
    "ton = demiton ^2;\n",
    "SI = LA*ton;\n",
    "DO = SI*demiton;\n",
    "RE = DO * ton;\n",
    "MI = RE*ton;;\n",
    "FA = MI*demiton;\n",
    "SOL = FA*ton;\n",
    "LA = SOL*ton\n"
   ]
  },
  {
   "cell_type": "code",
   "execution_count": 31,
   "id": "89ea1253-ce1e-4634-a964-cd96fa6557cf",
   "metadata": {
    "tags": []
   },
   "outputs": [],
   "source": [
    "Fcan = Fy .* (selnote(LA) + selnote(DO))' ;\n"
   ]
  },
  {
   "cell_type": "code",
   "execution_count": 32,
   "id": "f9373919-10eb-4f3d-971e-4f61b5aab508",
   "metadata": {},
   "outputs": [
    {
     "data": {
      "image/png": "[encoded data removed]",
      "text/plain": [
       "<IPython.core.display.Image object>"
      ]
     },
     "metadata": {},
     "output_type": "display_data"
    }
   ],
   "source": [
    "plot(f(enne),Fcan(enne),'.')"
   ]
  },
  {
   "cell_type": "code",
   "execution_count": 33,
   "id": "208a0b0b-f5ac-4273-be4d-78dc4d5830e9",
   "metadata": {},
   "outputs": [],
   "source": [
    "can = real(ifft(Fcan));\n",
    "audiowrite(\"NoDoNoMi.wav\",can,Fs)"
   ]
  },
  {
   "cell_type": "code",
   "execution_count": 34,
   "id": "17a78a6f-0faa-4143-abc3-44caefd55c09",
   "metadata": {},
   "outputs": [
    {
     "name": "stdout",
     "output_type": "stream",
     "text": [
      "\n",
      "\n",
      "\n",
      "(rhythmbox:29140): Gtk-\u001b[1;33mWARNING\u001b[0m **: \u001b[34m18:36:44.824\u001b[0m: actionhelper: action app.play-repeat can't be activated due to parameter type mismatch (parameter type NULL, target type b)\n",
      "\n",
      "\n",
      "\n",
      "\n",
      "\n",
      "(rhythmbox:29140): Gtk-\u001b[1;33mWARNING\u001b[0m **: \u001b[34m18:36:44.825\u001b[0m: actionhelper: action app.play-shuffle can't be activated due to parameter type mismatch (parameter type NULL, target type b)\n",
      "\n",
      "\n",
      "Traceback (most recent call last):\n",
      "\n",
      "\n",
      "  File \"/usr/lib/x86_64-linux-gnu/rhythmbox/plugins/artsearch/local.py\", line 106, in _enum_dir_cb\n",
      "\n",
      "\n",
      "    self.finished(results)\n",
      "\n",
      "\n",
      "  File \"/usr/lib/x86_64-linux-gnu/rhythmbox/plugins/artsearch/local.py\", line 52, in finished\n",
      "\n",
      "\n",
      "    key = RB.ExtDBKey.create_storage(\"album\", self.album)\n",
      "\n",
      "\n",
      "TypeError: Argument 1 does not allow None as a value\n",
      "\n",
      "\n",
      "Traceback (most recent call last):\n",
      "\n",
      "\n",
      "  File \"/usr/lib/x86_64-linux-gnu/rhythmbox/plugins/artsearch/local.py\", line 106, in _enum_dir_cb\n",
      "\n",
      "\n",
      "    self.finished(results)\n",
      "\n",
      "\n",
      "  File \"/usr/lib/x86_64-linux-gnu/rhythmbox/plugins/artsearch/local.py\", line 52, in finished\n",
      "\n",
      "\n",
      "    key = RB.ExtDBKey.create_storage(\"album\", self.album)\n",
      "\n",
      "\n",
      "TypeError: Argument 1 does not allow None as a value\n",
      "\n",
      "\n",
      "\n",
      "\n",
      "\n",
      "During handling of the above exception, another exception occurred:\n",
      "\n",
      "\n",
      "\n",
      "\n",
      "\n",
      "Traceback (most recent call last):\n",
      "\n",
      "\n",
      "  File \"/usr/lib/x86_64-linux-gnu/rhythmbox/plugins/artsearch/local.py\", line 123, in _enum_dir_cb\n",
      "\n",
      "\n",
      "    self.finished(results)\n",
      "\n",
      "\n",
      "  File \"/usr/lib/x86_64-linux-gnu/rhythmbox/plugins/artsearch/local.py\", line 52, in finished\n",
      "\n",
      "\n",
      "    key = RB.ExtDBKey.create_storage(\"album\", self.album)\n",
      "\n",
      "\n",
      "TypeError: Argument 1 does not allow None as a value\n",
      "\n",
      "\n",
      "/usr/lib/python3/dist-packages/gi/overrides/GObject.py:553: Warning: ../../../../gobject/gsignal.c:2642: instance '0x556bba3b3e80' has no handler with id '15100'\n",
      "\n",
      "\n",
      "  return func(*args, **kwargs)\n",
      "\n",
      "\n",
      "/usr/lib/python3/dist-packages/gi/overrides/GObject.py:553: Warning: ../../../../gobject/gsignal.c:2642: instance '0x556bba3b3e80' has no handler with id '15099'\n",
      "\n",
      "\n",
      "  return func(*args, **kwargs)\n",
      "\n",
      "\n",
      "\n",
      "\n",
      "\n",
      "(rhythmbox:29140): Gtk-\u001b[1;33mWARNING\u001b[0m **: \u001b[34m18:37:27.760\u001b[0m: Can't set a parent on widget which has a parent\n",
      "\n",
      "\n"
     ]
    }
   ],
   "source": [
    "%shell rhythmbox NoDoNoMi.wav\n",
    "\n"
   ]
  },
  {
   "cell_type": "code",
   "execution_count": null,
   "id": "56f3a790-4983-4692-9aa1-098945e2b352",
   "metadata": {},
   "outputs": [],
   "source": []
  }
 ],
 "metadata": {
  "kernelspec": {
   "display_name": "Octave",
   "language": "octave",
   "name": "octave"
  },
  "language_info": {
   "file_extension": ".m",
   "help_links": [
    {
     "text": "GNU Octave",
     "url": "https://www.gnu.org/software/octave/support.html"
    },
    {
     "text": "Octave Kernel",
     "url": "https://github.com/Calysto/octave_kernel"
    },
    {
     "text": "MetaKernel Magics",
     "url": "https://metakernel.readthedocs.io/en/latest/source/README.html"
    }
   ],
   "mimetype": "text/x-octave",
   "name": "octave",
   "version": "4.2.2"
  }
 },
 "nbformat": 4,
 "nbformat_minor": 5
}
