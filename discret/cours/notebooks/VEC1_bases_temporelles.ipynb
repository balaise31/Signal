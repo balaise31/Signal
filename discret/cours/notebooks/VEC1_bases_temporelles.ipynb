{
 "cells": [
  {
   "cell_type": "markdown",
   "id": "2715b8db-a9b9-47be-8f59-340cb0660279",
   "metadata": {
    "jp-MarkdownHeadingCollapsed": true,
    "slideshow": {
     "slide_type": "slide"
    },
    "tags": []
   },
   "source": [
    "# Signaux et espaces vectoriels : baseS canoniqueS temporelleS\n",
    "\n",
    "\n",
    "\n",
    "Prenonns un ensemble de 3 coordonnées (1, 2, 3) et plongeons les dans une espace vectoriel de base $W$ avec :  \n",
    "\n",
    "$\\vec{v} = 1.\\vec{w_0} + 2.\\vec{w_1} + 3.\\vec{w_3} = (1,2,3)_W$\n"
   ]
  },
  {
   "cell_type": "code",
   "execution_count": 110,
   "id": "71f6feed-3cba-43ce-8094-52dd2614efa2",
   "metadata": {
    "slideshow": {
     "slide_type": "subslide"
    },
    "tags": []
   },
   "outputs": [
    {
     "name": "stdout",
     "output_type": "stream",
     "text": [
      "v =\n",
      "\n",
      "   1\n",
      "   2\n",
      "   3\n",
      "\n"
     ]
    }
   ],
   "source": [
    "clear all;\n",
    "close all;\n",
    "clc;\n",
    "\n",
    "v = [1; 2; 3]"
   ]
  },
  {
   "cell_type": "markdown",
   "id": "7566e4fb-fc03-40c7-bb3b-25528f5baadc",
   "metadata": {
    "slideshow": {
     "slide_type": "subslide"
    },
    "tags": []
   },
   "source": [
    "Elles peuvent représenter différents objets mathématiques d'un espace vectoriel :\n",
    "\n",
    "- Des matrices 2x2 symétriques\n",
    "- un polynôme\n",
    "- un vecteur de l'espace euclidien\n",
    "- une couleur\n",
    "- un signal continu\n",
    "- un signal discret\n",
    "- ...\n",
    "\n",
    "Le tout est de chosir une base $(\\vec{w_0}, \\vec{w_1}, \\vec{w_2})$! et de dire :\n",
    "\n",
    "$\\vec{v} = 1.\\vec{w_0} + 2.\\vec{w_1} + 3.\\vec{w_3}$\n",
    "\n",
    "Ainsi pour un espace des matrices 2x2 symétriques"
   ]
  },
  {
   "cell_type": "code",
   "execution_count": 111,
   "id": "123c860e-140d-4b4b-85c7-38048ff0f6f5",
   "metadata": {
    "slideshow": {
     "slide_type": "subslide"
    },
    "tags": []
   },
   "outputs": [
    {
     "name": "stdout",
     "output_type": "stream",
     "text": [
      "v =\n",
      "\n",
      "   1\n",
      "   2\n",
      "   3\n",
      "\n",
      "Vectv =\n",
      "\n",
      "   1   3\n",
      "   3   2\n",
      "\n"
     ]
    }
   ],
   "source": [
    "w0=[1 0;\n",
    "    0 0];\n",
    "w1=[0 0;\n",
    "    0 1];\n",
    "w2=[0 1;\n",
    "    1 0];\n",
    "v\n",
    "Vectv = v(1)*w0 +v(2)*w1 +v(3)*w2 \n",
    "    "
   ]
  },
  {
   "cell_type": "markdown",
   "id": "3ac25226-cee2-4207-95ff-f03cc67107d6",
   "metadata": {
    "jp-MarkdownHeadingCollapsed": true,
    "tags": [],
    "toc-hr-collapsed": true
   },
   "source": [
    "# $\\mathbb{R}^{\\mathbb{R}}$ : Espace vectoriel des fonctions $\\mathbb{R} \\to \\mathbb{R}$\n",
    "Si nous voulons représenter un signal continu à support infini, il faut choisir une base avec des vecteurs de ce type.  \n",
    "Comme la base se veut temporelle : il faudrait choisir des fonctions localisées (impulsions $p(t)$) autour d'un instant mais qui s'étalent à l'infini.\n",
    "\n",
    "L'idée est d'utiliser des impulsions temporelles $t\\mapsto p(t)$ :\n",
    ">  $(1,2,3)_W = \\vec{v} = 1.\\vec{w_0} + 2.\\vec{w_1} + 3.\\vec{w_3} \\quad \\leftrightarrow \\quad  f: t\\mapsto 1.p(t) + 2.p(t-1) + 3.p(t-2)\\quad $  \n",
    ">  avec $f(0)=1, f(1) = 2, f(2) = 3$ par exemple \n"
   ]
  },
  {
   "cell_type": "markdown",
   "id": "dbdba807-f955-4739-94ac-10ab708b27ff",
   "metadata": {
    "tags": []
   },
   "source": [
    "On peut penser aux fonctions portes, mais aussi aux gaussiennes, sinus cardinal etc.\n",
    "\n",
    "Ainsi avec des sinus cardinaux et en décidant arbitrairement que la composante 0 est autour de l'instant 0, la une autour de l'instant 1 etc.\n",
    "\n",
    "Cela donnerait"
   ]
  },
  {
   "cell_type": "code",
   "execution_count": 112,
   "id": "e238d7a3-ae0f-4ec8-83bf-8228f70b7abb",
   "metadata": {},
   "outputs": [
    {
     "data": {
      "image/png": "[encoded data removed]",
      "text/plain": [
       "<IPython.core.display.Image object>"
      ]
     },
     "metadata": {},
     "output_type": "display_data"
    }
   ],
   "source": [
    "t=-5:0.01:5;    % vecteur temps presque continus ;-)\n",
    "\n",
    "w0 = sinc(t);\n",
    "w1 = sinc(t-1);\n",
    "w2 = sinc(t-2);\n",
    "\n",
    "Vect_v_sinc = v(1)*w0 +v(2)*w1 +v(3)*w2 ;\n",
    "\n",
    "plot(t,Vect_v_sinc,t,w0,t,w1,t,w2); hold on; grid on;\n",
    "plot(0:2,v,'dr')\n",
    "\n",
    "\n"
   ]
  },
  {
   "cell_type": "markdown",
   "id": "99984391-00b7-4144-abda-da42131eef28",
   "metadata": {},
   "source": [
    "On voit bien que la dimension 3 de cette base (les vecteurs sont libres) ne représente qu'une sous-ensemble très restreint de l'espace des fonctions qui est de dimension infinie indénombrable.\n"
   ]
  },
  {
   "cell_type": "markdown",
   "id": "77dd8d38-b79c-4d0e-930e-f160b4928159",
   "metadata": {
    "jp-MarkdownHeadingCollapsed": true,
    "tags": []
   },
   "source": [
    "# $\\mathbb{R}^\\mathbb{Z}$: Espace vectoriel des suites réelles\n",
    "\n",
    "\n",
    "Cherchons donc parmis les signaux discrets (échantillonnés), mathématiquement définis comme des suites numériques.\n",
    "\n",
    "Prenons 3 vecteurs libres de l'espaces des suites entières infinies. Par exemple en discrétisant arbitrairement les sinus cardinaux précédents.\n",
    ">  $(1,2,3)_W = \\vec{v} = 1.\\vec{w_0} + 2.\\vec{w_1} + 3.\\vec{w_3}  \\quad \\leftrightarrow \\quad  f: t\\mapsto 1.p[k] + 2.p[k-1] + 3.p[k-2]\\quad$  \n",
    ">  avec la suite $(\\dots, 1, 2, 3, \\dots)$ par exemple \n",
    "\n"
   ]
  },
  {
   "cell_type": "code",
   "execution_count": 113,
   "id": "0de2bf35-0c41-4b39-8e25-9b800aa8018d",
   "metadata": {},
   "outputs": [
    {
     "data": {
      "image/png": "[encoded data removed]",
      "text/plain": [
       "<IPython.core.display.Image object>"
      ]
     },
     "metadata": {},
     "output_type": "display_data"
    }
   ],
   "source": [
    "k=-10:1:10;    % vecteur temps discret presque infinis ;-)\n",
    "\n",
    "w0 = sinc(k);\n",
    "w1 = sinc(k-1);\n",
    "w2 = sinc(k-2);\n",
    "\n",
    "Vectv = v(1)*w0 +v(2)*w1 +v(3)*w2 ;\n",
    "\n",
    "\n",
    "stem(k,Vectv,'k');hold on;\n",
    "plot(t,Vect_v_sinc,'k--')\n",
    "\n",
    "\n",
    "stem(k,w0,'r')\n",
    "stem(k,w1,'g')\n",
    "stem(k,w2,'b'); \n",
    "plot(t,sinc(t-2),'b--')\n"
   ]
  },
  {
   "cell_type": "markdown",
   "id": "7361315b-0bb6-43ce-a69d-d8e51b377773",
   "metadata": {
    "tags": []
   },
   "source": [
    "Et oui ! En échantillonant à la période des sinus cardinaux on obtient un vecteur de base temporel qui est l'impulsion unité (qui est au discret ce que l'impulsion de Dirac est au continu)\n",
    "\n",
    "> Définissons la **fonction impulsion unité**  \n",
    ">$\\delta_0 : \\mathbb{N} \\to \\mathbb{R}$ parfois $\\mathbb{C}$  \n",
    ">$\\quad k \\mapsto \\begin{cases} 1 & \\text{ si } k = 0 \\\\ 0 & \\text{ sinon}\\end{cases}$  \n",
    ">  \n",
    "> Et l'impulsion centrée en $a$ :\n",
    "> $\\delta_a : k \\mapsto \\delta_0[k-a]=\\begin{cases} 1 & \\text{ si } k = a \\\\ 0 & \\text{ sinon}\\end{cases}$\n",
    "\n"
   ]
  },
  {
   "cell_type": "markdown",
   "id": "46ff813d-408c-49f9-9274-ae7fc2809657",
   "metadata": {
    "jp-MarkdownHeadingCollapsed": true,
    "tags": []
   },
   "source": [
    "# Prolongement dans $\\mathbb{R}^N_b$ : suites réelle à support borné\n",
    "\n",
    "Le prolongement borné consiste à utiliser des impulsions à durée finie (nulles pour $|n|>N_0$). Le prolongement est alors :\n",
    "\n",
    ">  $(1,2,3)_W = \\vec{v} = 1.\\vec{w_0} + 2.\\vec{w_1} + 3.\\vec{w_3}  \\quad \\leftrightarrow \\quad  f: t\\mapsto 1.p[k] + 2.p[k-1] + 3.p[k-2]\\quad \\; | \\;k\\notin[\\![0; N [\\![ \\implies f[k]=0$   \n",
    ">  avec la suite $(\\dots, 0, 1, 2, 3, 0, \\dots)$ par exemple \n"
   ]
  },
  {
   "cell_type": "markdown",
   "id": "c82fbe24-d5f9-4e7d-aea1-854c71f13983",
   "metadata": {},
   "source": [
    "Les suites réelles infinies ne sont pas manipulable dans le cas pratique, nous allons considérer une fenêtre d'observation.\n",
    "> Soit la **fonction porte** ou **fenêtre naturelle**  de largeur N :  \n",
    "> $\\Pi_N : k \\mapsto  \\left\\{ \\;\\begin{array}{ll} 1 & \\text{ si } 0 \\leq k < N \\\\ 0 & \\text{sinon}\\end{array}\\right.$\n",
    "\n",
    "\n",
    "On peut ainsi définir l'espace des suites réelles et différents sous espaces vectoriels à support fini de N échantillons :\n",
    "> **Suite réelle à support borné de N échantillons:**  \n",
    "> $\\mathbb{R}^N_b = \\mathbb{R}^{[\\![0\\,;N [\\![} = \\left(u_k . \\Pi_N[k]\\right)_{k\\in\\mathbb{Z}}$  \n",
    "> Autrement dit \"l'ensemble des suites réelles multipliées par une fenêtre d'observation de N échantillons\"\n",
    "\n",
    "\n",
    "On obtient ainsi des  sous-espaces vectoriels (s.e.v.) de $\\mathbb{R}^{\\mathbb{Z}}$  que nous notons donc :\n",
    ">  $(u_k)_{k\\in\\mathbb{Z}}\\quad$ noté $\\mathbb{R}^{\\mathbb{Z}}\\quad$ : l'**espace des suites réelles**  \n",
    ">  $(u_k)_{k\\in\\mathbb{N}}\\quad$ noté $\\mathbb{R}^{\\mathbb{N}}\\quad\\subset\\mathbb{R}^{\\mathbb{Z}}$ : l'**espace des suites réelles causales** (nulles pour $k<0$)   \n",
    ">  $\\left(u_k . \\Pi_N[k]\\right)_{k\\in\\mathbb{Z}}$ noté $\\mathbb{R}^{[\\![0 \\:;\\; N [\\![}$ parfois $\\mathbb{R}^N_B \\subset\\mathbb{R}^{\\mathbb{N}}\\subset\\mathbb{R}^{\\mathbb{Z}}$ : l'**espace des suites réelles à support finit de longueur N** \n",
    "\n",
    "Pour obtenir une base de $\\mathbb{R}^3_B$ on utilise **les impulsions unités**"
   ]
  },
  {
   "cell_type": "markdown",
   "id": "6dcbe90f-864b-4bc1-a479-0a1df041b23a",
   "metadata": {},
   "source": [
    "% La fonction delta est VECTORISEE : \n",
    "%    k peut être une matrice de valeurs\n",
    "function [v] = delta_0(k)\n",
    "    [Nrang,Ncol] = size(k);   \n",
    "    v = zeros(Nrang, Ncol);\n",
    "    for rang_k = 1:Nrang\n",
    "        for col_k = 1:Ncol\n",
    "                if k(rang_k,col_k) == 0\n",
    "                    v(rang_k,col_k)=1;\n",
    "                end                 \n",
    "        end % boucle sur colonne de k\n",
    "    end % boucle sur rangée de k\n",
    "end \n",
    "\n",
    "w0 = delta_0(k);    % w0 matrice rangée (1,21)\n",
    "w1 = delta_0(k-1);  % w1,w2  idem mais\n",
    "w2 = delta_0(k-2);  %  avec le 1 pour k-1 = 0 etc. \n",
    "\n",
    "Vectv = v(1)*w0 +v(2)*w1 +v(3)*w2 ; % Somme de matrices (1,21)\n",
    "\n",
    "subplot(4,1,1); stem(k,v(1)*w0,'r') %1.w0 composante rouge\n",
    "subplot(4,1,2); stem(k,v(2)*w1,'g') %2.w1 composante verte\n",
    "subplot(4,1,3); stem(k,v(3)*w2,'b')      %3.w2 composante bleue\n",
    "subplot(4,1,4); \n",
    "stem(k,Vectv,'k');  % somme des composantes noire"
   ]
  },
  {
   "cell_type": "markdown",
   "id": "dbff8abb-bba6-4653-b82c-4b6a55ef537d",
   "metadata": {},
   "source": [
    "## Isomorphisme (bijection) avec un sous espace des suites\n",
    "\n",
    "Remarquez que l'on vient de prolonger le vecteur $\\vec{v}\\in\\mathbb{R}^3$ avec des $0$ pour se plonger dans un sous espace vectoriel des suites réelles $(u_n)_{n\\in\\mathbb{Z}}$ noté $\\mathbb{R}^{\\mathbb{Z}}$.\n",
    "\n",
    "\n",
    "\n",
    "On peut faire une bijection entre un vecteur de $\\vec{v}\\in\\mathbb{R}^3$ (de dimention 3) avec une suite observable de $\\mathbb{R}^3_b$ qui est un s.e.v. de dimension 3 de l'espace des suites réels.\n",
    "\n",
    "$\\vec{v}=(1,2,3)_{B_3}=1.e_1 + 2.e_2 + 3.e_3 = \\begin{array}{lll} &1. &(1,0,0)\\\\ +& 2.&(0,1,0)\\\\ + &3.&(0,0,1) \\end{array}= \\left[\\begin{array}{c}1 \\\\2\\\\3 \\end{array}\\right]_{B_3} \\leftrightarrow  \\left[\\begin{array}{c}1 \\\\2\\\\3 \\end{array}\\right]_{B_3^b} = \\begin{array}{lll} & 1. &(\\dots, 1, 0,0,\\dots)\\\\ +& 2.&(\\dots, 0, 1,0,\\dots) \\\\ +& 3.&(\\dots, 0, 0, 1,\\dots)\\end{array}=1.\\delta_0 + 2.\\delta_1 + 3.\\delta_2$\n",
    "\n",
    "Les espaces étant isomorphiques, on assosiera et notera indiféremment la base temporelle $B_3^b$ et la base euclidienne $B_3$.\n",
    "\n",
    "\n",
    "Nous définissons donc les bases canoniques de ces espaces :\n",
    "\n",
    "\n",
    ">  $B_{\\mathbb{Z}} = \\left( \\delta_k \\right)_{k\\in\\mathbb{Z}}\\quad$ avec $\\mathbb{R}^{\\mathbb{Z}} = \\mathop{vect}\\left(B_{\\mathbb{Z}}\\right)$  \n",
    ">  $B_{\\mathbb{N}} = \\left( \\delta_k \\right)_{k\\in\\mathbb{N}}\\quad$ avec $\\mathbb{R}^{\\mathbb{N}} = \\mathop{vect}\\left(B_{\\mathbb{N}}\\right)$  \n",
    ">  $B_N^b = \\left( \\delta_k \\right)_{k\\in[\\![0 \\:;\\; N [\\![}\\quad$ avec $\\mathbb{R}^N_b = \\mathop{vect}\\left(B_N^b\\right)$ où le \"b\" signifie \"support Borné\" \n",
    "\n",
    "\n",
    "Numériquement, nous pouvons définir les matrices de passsages entre ces bases en prenant pour   $\\mathbb{R}^{\\mathbb{Z}}$ un nombre de point plus grand que 3 : \n",
    "\n",
    "**inutile et impossible de représenter un signal sur un support infini!**"
   ]
  },
  {
   "cell_type": "code",
   "execution_count": 115,
   "id": "52111c6c-610b-4c58-848e-b4f5af00ed8a",
   "metadata": {},
   "outputs": [
    {
     "name": "stdout",
     "output_type": "stream",
     "text": [
      "M_Bz_B3b =\n",
      "\n",
      "  0  0  0\n",
      "  1  0  0\n",
      "  0  1  0\n",
      "  0  0  1\n",
      "  0  0  0\n",
      "  0  0  0\n",
      "  0  0  0\n",
      "  0  0  0\n",
      "  0  0  0\n",
      "\n",
      "v_B3b =\n",
      "\n",
      "   0\n",
      "   1\n",
      "   2\n",
      "   3\n",
      "   0\n",
      "   0\n",
      "   0\n",
      "   0\n",
      "   0\n",
      "\n"
     ]
    }
   ],
   "source": [
    "function v = delta(t)\n",
    "    v = (t==0); % vrai = 1, faux = 0\n",
    "end \n",
    "%% t == 0 se fait pour chacun des éléments de t !\n",
    "%% t peut être une matrice : c'est la VECTORISATION\n",
    "\n",
    "%% On prend un support de z infini ou presque (R^8)\n",
    "k= transpose(-1:7); % temps de Bz en colonnes\n",
    "\n",
    "%% On donne les coordonnées de w0 à w2 dans la base\n",
    "w0 = delta(k);    % maintenant en colonnes\n",
    "w1 = delta(k-1); \n",
    "w2 = delta(k-2); \n",
    "\n",
    "%% La matrice de passage consiste à lister en colonne\n",
    "% les vecteur de la base delta_n\n",
    "M_Bz_B3b = [w0, w1, w2] % Matrice de colonnes\n",
    "\n",
    "%%Ainsi notre vecteur dans la base Bz s'obtient en\n",
    "%% multipliant les 3 coordonnées par la matrice de passage\n",
    "v_B3b = M_Bz_B3b * v"
   ]
  },
  {
   "cell_type": "markdown",
   "id": "b35e3409-81d8-4bc8-aee3-7586080860b6",
   "metadata": {},
   "source": [
    "## Base orthogonale\n",
    "\n",
    "Nous pouvons vérifier que cette base ($w_0$, $w_1$, $w_2$) de suite réelles est bien orthogonale et normée. Pour cela il faut effecteur tout les produits scalaires et vérifier :\n",
    "\n",
    "- $<w_k, w_l> = 0$ si $k\\neq l$\n",
    "- $<w_k, w_k> = \\|w_k\\|^2 = 1 $\n",
    "\n",
    "Remarquons que nous n'avons pas défini le produit scalaire entre suite numériques, mais comme nous avons une base $B_N^b$ on sait que l'on peut l'obtenir en multipliant à gauche un vecteur par sa transposée : \n",
    "\n",
    "$ <w_k, w_l> = {}^T\\!w_k|_{B_N^b} \\,.\\, w_l|_{B_N^b}$\n",
    "\n",
    "En prenant la matrice des vecteur colonnes,  qui est la matrice de passage $M = M_{B_3^b\\leftarrow B_3} = \\left[ w_k|_{B_3^b}\\right]_{0\\leq k < 3}$, et en la transposant : on obtient la matrice de tous vecteur transposés ${}^T\\!M = \\left[{}^T\\!w_k|_{B_3^b}\\right]_{0\\leq k < 3}$. On peut donc calculer tous les produit scalaire en multipliant ce sdeux matrices :\n",
    "\n",
    "${}^T\\!M.M = \\left( <w_j,w_k>\\right)_{(j,k)\\in[\\![0 ; 3[\\![^2} = I_d$\n"
   ]
  },
  {
   "cell_type": "code",
   "execution_count": 116,
   "id": "80ffddc2-ee0a-4c7e-8b39-344cc55f8b7d",
   "metadata": {},
   "outputs": [
    {
     "name": "stdout",
     "output_type": "stream",
     "text": [
      "M_Bz_B3b =\n",
      "\n",
      "  0  0  0\n",
      "  1  0  0\n",
      "  0  1  0\n",
      "  0  0  1\n",
      "  0  0  0\n",
      "  0  0  0\n",
      "  0  0  0\n",
      "  0  0  0\n",
      "  0  0  0\n",
      "\n",
      "ans =\n",
      "\n",
      "  0  1  0  0  0  0  0  0  0\n",
      "  0  0  1  0  0  0  0  0  0\n",
      "  0  0  0  1  0  0  0  0  0\n",
      "\n",
      "ans =\n",
      "\n",
      "   1   0   0\n",
      "   0   1   0\n",
      "   0   0   1\n",
      "\n"
     ]
    }
   ],
   "source": [
    "%% Fonctions anonymes ou fonctions \"lambda\"\n",
    "% @(t) (t==0)   \n",
    "% est une fonction d'un parametre t \"déclarée à la volée\"\n",
    "delta = @(t) (t==0);  % on appelle fa fonction anonyme \"delta\"\n",
    "\n",
    "%% Broadcast de variable (pas de français connus)\n",
    "% Si une dimention manque à une variable, elle est \n",
    "% ajoutée en complétant \"intelligemment\"...\n",
    "k = transpose(-1:7); % matrice colonne (8,1)\n",
    "j = 0:2;  % matrice ligne (1,3)\n",
    "M = k-j;\n",
    "% l'expression k-j de type (8,1)-(1,3) non définie en maths\n",
    "% alors \n",
    "% la colonne k (8,1) est recopiée sur 3 colonnes => (8,3)\n",
    "% la rangée  j (3,1) est recopiée sur 8 rangées  => (8,3)\n",
    "% la soustraction matricielle (8,3) peut se faire par BROADCAST\n",
    "\n",
    "% par fonction anonyme vectorisée du broadcast de k-j \n",
    "M_Bz_B3b = delta(k-j) \n",
    "transpose(M_Bz_B3b)\n",
    "transpose(M_Bz_B3b) * M_Bz_B3b\n",
    "\n"
   ]
  },
  {
   "cell_type": "markdown",
   "id": "48d05343-2347-4668-9f7c-9b1048724745",
   "metadata": {},
   "source": [
    "La base est bien orthonormée et donc les matrices de passages orthogonales car :\n",
    "* orthogonaux car les élément hors diagonale ($j\\neq k$) sont les produits scalaires et sont nuls\n",
    "* normés car les éléments diagonaux ($j=k$) sont la norme de chaque vecteurs et vallent 1 \n",
    "\n",
    "Les matrices de passage ne sont pas rectangle car la dimention des espaces est différente (l'un est de dimention infinie dénombrable et l'autre de dimantion 3)."
   ]
  },
  {
   "cell_type": "markdown",
   "id": "132ff827-1973-4abf-b02f-aa973d09625f",
   "metadata": {},
   "source": [
    "> La TFSD (transformée de Fourier des Signaux Discret) est  \n",
    "> le passage dans une base fréquencielle complexe de la base temporelle de $\\mathbb{R}^{\\mathbb{Z}}$"
   ]
  },
  {
   "cell_type": "markdown",
   "id": "b46e2be6-79c7-4c9e-9580-6b33de48e583",
   "metadata": {},
   "source": [
    "## Projection (échantillonnage) de la base $\\mathbb{R}^\\mathbb{Z}$ dans $\\mathbb{R}_3^b$\n",
    "\n",
    "Si l'on prend un vecteur $\\vec{f}\\in\\mathbb{R}^\\mathbb{Z}$ (donc une suite réelle à support infini), on peut la projeter (ou décomposer dans l'espace des suite de 3 points : $\\mathbb{R}_3^b$).\n",
    "\n",
    "\n",
    "Comme la base est une base orthonormée (b.o.n.) la projection est simplement :\n",
    "\n",
    "$\\mathop{proj}_{/B_3^b}(\\vec{f}) = \\left[\\begin{array}{l} <\\vec{f},\\vec{w_0}> \\\\ <\\vec{f},\\vec{w_1}>\\\\<\\vec{f},\\vec{w_2}>\\end{array}\\right]_{B_3^b} = \\left[\\begin{array}{l} <\\vec{w_0},\\vec{f}> \\\\ <\\vec{w_1},\\vec{f}>\\\\<\\vec{w_2},\\vec{f}>\\end{array}\\right]_{B_3^b} = \\left[\\begin{array}{l} {}^T\\!{w_0|}_{B_Z}.g|_{B_Z}\\\\ {}^T\\!{w_1|}_{B_Z}.g|_{B_Z}\\\\{}^T\\!{w_2|}_{B_Z}.g|_{B_Z}\\end{array}\\right]_{B_3^b}= \\underbrace{\\left[\\begin{array}{l} {}^T\\!{w_0|}_{B_Z} \\\\ {}^T\\!{w_1|}_{B_Z}\\\\ ^T\\!{w_2|}_{B_Z}\\end{array}\\right]}_{M_{B_3^b\\leftarrow B_Z}}.g|_{B_Z}=\\underbrace{{\\begin{array}{l} { }\\\\ {}  \\\\ { } \\end{array}}^T\\!\\left[\\begin{array}{l} {w_0|}_{B_Z} \\\\ {w_1|}_{B_Z}\\\\ {w_2|}_{B_Z}\\end{array}\\right]}_{{}^T\\!M_{B_Z\\leftarrow B_3^b}}.g|_{B_Z} $\n",
    "\n",
    "En utilisant les coordonnées pour calculer les produits scalaires matriciellement on obtient:\n",
    "\n",
    "$\\mathop{proj}_{/B_3^b}(\\vec{f})|_{B_3^b} = M_{B_3^b\\leftarrow B_Z} . \\vec{f}|_{B_Z} = {}^T\\!M_{B_Z\\leftarrow B_3^b} . \\vec{f}|_{B_Z}$\n",
    "\n",
    "\n",
    "On en déduit ainsi les produits scalaires que l'on peut associer aux deux espaces $\\mathbb{R}^\\mathbb{Z}$ dans $\\mathbb{R}^3_b$ :\n",
    "\n",
    "* Dans $\\mathbb{R}^\\mathbb{Z}$ on note le produit scalaire $<\\!< f, g>\\!> = \\sum\\limits_{k\\in\\mathbb{Z}}f[k].g[k]$\n",
    "* Dans $\\mathbb{R}^N_b$ on note le produit scalaire $<\\!< f, g>\\!>_p = \\sum\\limits_{0 \\leq k < N}f[k].g[k]$\n",
    "\n",
    "Où l'on note $f[k]$ le terme de rang $k$ d'une suite $(f_k)=(f[k])$.\n"
   ]
  },
  {
   "cell_type": "code",
   "execution_count": 117,
   "id": "bf6756c9-56d4-4675-a775-79dfd8a01aff",
   "metadata": {},
   "outputs": [
    {
     "name": "stdout",
     "output_type": "stream",
     "text": [
      "norme_erreur =  70.271\n"
     ]
    },
    {
     "data": {
      "image/png": "[encoded data removed]",
      "text/plain": [
       "<IPython.core.display.Image object>"
      ]
     },
     "metadata": {},
     "output_type": "display_data"
    }
   ],
   "source": [
    "%% prenont la fonction t^2+1 échantillonnée dans Bz\n",
    "f_Bz = k.^2 + 1;\n",
    "\n",
    "%% Projetons sur B3b: on note p_f la projectio nde f\n",
    "p_f_B3b = transpose(M_Bz_B3b) * f_Bz;\n",
    "\n",
    "%% Revenons dans la base de départ (recomposition)\n",
    "p_f_Bz = M_Bz_B3b * p_f_B3b ; \n",
    "\n",
    "%% On regarde la norme de l'erreur pour voir \n",
    "%% pour voir s'il manque du signal \n",
    "\n",
    "err_pf_Bz = (f_Bz - p_f_Bz);\n",
    "norme_erreur = sqrt(transpose(err_pf_Bz)*err_pf_Bz)\n",
    "\n",
    "%% Affichons ces signaux\n",
    "stem(k,f_Bz,'k--+');hold on;\n",
    "stem(k,p_f_Bz,'r')"
   ]
  },
  {
   "cell_type": "markdown",
   "id": "16131f00-769c-40d8-90ed-b1a68f90ee7b",
   "metadata": {},
   "source": [
    "On voit bien que $\\vec{f}$ est différent de sa projection $\\mathop{proj}_{B_3^b}(\\vec{f})$ sur l'espace des suites de 3 points.\n",
    "\n",
    "\n",
    "On vera que l'on peut trouver une b.o.n de l'espace des suite de 3 points qui soit basée sur les fréquences et non plus sur le temps.\n",
    "\n",
    "> changer de base dans $\\mathbb{R}^N_b$ avec une base fréquencielle sera  \n",
    ">  effectuer une TFSD (Transformée de Fourier des Signaux Discrets)"
   ]
  },
  {
   "cell_type": "markdown",
   "id": "bca58fcf-fb3b-418b-8cd5-8b5b506166db",
   "metadata": {
    "jp-MarkdownHeadingCollapsed": true,
    "tags": []
   },
   "source": [
    "# Prolongement dans $\\mathbb{R}^N_p$ : suite réelles de prériode N\n",
    "\n",
    "Le prolongement périodique consiste à utiliser des impulsions $p$ qui soient N-périodiques.\n",
    "\n",
    "Le prolongement est alors :\n",
    ">  $(1,2,3)_W = \\vec{v} = 1.\\vec{w_0} + 2.\\vec{w_1} + 3.\\vec{w_3}  \\quad \\leftrightarrow \\quad  f: t\\mapsto 1.p[k] + 2.p[k-1] + 3.p[k-2]\\quad \\; | \\;\\forall k, f[k]=f[k+N]$   \n",
    ">  avec la suite $(\\dots, 1, 2, 3,\\, 1, 2, 3,\\, 1, 2, 3,\\dots)$ par exemple \n",
    "\n"
   ]
  },
  {
   "cell_type": "markdown",
   "id": "facca253-c686-45df-9490-28216eadde1d",
   "metadata": {},
   "source": [
    "\n",
    "Dans ce cas il faut prendre des vecteurs de la base qui soient de période 3 et localisé dans le temps. On construit alors simplement une version périodique des vecteurs de $\\delta_j$. \n",
    "\n",
    "> On définit alors un signal appelé **peigne d'impulsions** de période N  \n",
    "> noté $I\\!I\\!I_N$ (letrre cyrilique Sha) défini par :  \n",
    "> $I\\!I\\!I_N := \\sum\\limits_{j\\in\\mathbb{Z}}  \\delta_{jN} : k \\mapsto \\delta_0[k\\mod{}N]\\quad$ \n",
    "\n",
    "On définit donc \n",
    "> le s.e.v. des **suites réelles de période N** et sa base comme :  \n",
    ">  $(u_k = u[k \\mod N ])_{k\\in\\mathbb{Z}}\\quad$ noté $\\mathbb{R}^{[\\![0 \\:;\\; N [\\![_P}\\quad\\notin\\mathbb{R}^{\\mathbb{N}}\\quad\\subset\\mathbb{R}^{\\mathbb{Z}}$ : l'**espace des suites réelles de période N**  \n",
    "> $B_N^p = \\left(k\\mapsto I\\!I\\!I_N[k - j]\\right)_{j\\in\\mathbb{Z}}$ et donc $\\mathbb{R}^{[\\![0 \\:;\\; N [\\![_P} = \\mathop{vec}(B_N^p)$\n",
    "\n",
    "Numériquement traçons les vecteurs de $B_3^P$ dans une base relativement proche de $B_Z$\n",
    "\n",
    "Ainsi $\\mathbb{R}^3$ est isomorphe à $\\mathbb{R}^3_p$ qui est un s.e.v de $\\mathbb{R}^{\\mathbb{Z}}$.\n",
    "Donc pour le vecteur v :\n",
    "\n",
    "$ v \\in \\mathbb{R}^3 \\leftrightarrow  v|_{B_3^p} \\in \\mathbb{R}^3_b $\n"
   ]
  },
  {
   "cell_type": "code",
   "execution_count": 118,
   "id": "d9645812-a4a3-48b2-8481-928f01f62bf6",
   "metadata": {},
   "outputs": [
    {
     "data": {
      "image/png": "[encoded data removed]",
      "text/plain": [
       "<IPython.core.display.Image object>"
      ]
     },
     "metadata": {},
     "output_type": "display_data"
    }
   ],
   "source": [
    "%% Fonction anonyme \"peigne\" Vectorisée à 2 variables\n",
    "peigne = @(k, N) delta(mod(k,N));\n",
    "% Si k est matrice mais N vecteur ou scalaire : \n",
    "% il y aura broadcast de N\n",
    "\n",
    "% Broadcast de k-j en matrice (k,j)\n",
    "M_Bz_B3p = peigne(k-j,3);\n",
    "%  _______________________\\ j\n",
    "% |                       /\n",
    "% |  w0_Bz  w1_Bz  w2_Bz\n",
    "% |\n",
    "%\\|/\n",
    "% k\n",
    "\n",
    "w0_Bz = M_Bz_B3p(:,1);\n",
    "w1_Bz = M_Bz_B3p(:,2);\n",
    "w2_Bz = M_Bz_B3p(:,3);\n",
    "\n",
    "couleurs=['r';'g';'b'];\n",
    "for id_j=1:3\n",
    "    subplot(5,1,id_j)\n",
    "    stem(k,M_Bz_B3p(:,id_j),couleurs(id_j));\n",
    "end\n",
    "\n",
    "v_Bz = M_Bz_B3p * v ;\n",
    "\n",
    "subplot(5,1,[4 5])\n",
    "stem(k,v_Bz,'k--')"
   ]
  },
  {
   "cell_type": "markdown",
   "id": "9acb6166-86b3-4682-8a24-46641876b14c",
   "metadata": {},
   "source": [
    "Essayez donc cette astuce pour modifier la base et avoir une base 3-périodique"
   ]
  },
  {
   "cell_type": "markdown",
   "id": "4da0e522-de94-4a7c-95e3-082a99e134a0",
   "metadata": {},
   "source": [
    "Ce prolongement périodique est pratique si l'on utilise une base fréquentielle, car comme pour les séries de Fourier si le signal est sur un support périodique de période $T_0$, alors seules les fréquences multiples de $F_0$ seront utiles. On \n",
    "obtiendra ainsi : \n",
    "\n",
    "> la Transformée de Fourier Discrète (TFD, où FFT est un algorithme de TFD efficace)  \n",
    "> est le passage dans une base fréquentielle (complexe) de la base temporelle $B_3^p$ de $\\mathbb{R}^3_p$\n",
    "\n",
    "\n",
    "Cette base périodique est donc utile, mais la construction arbitraire de cette période peut ajouter des discontinuités à chaque changement de période (hautes fréquences dans la transformée) et le fait que la fonction ne soit pas paire nécessite de décomposer en cosinus et sinus (a(n), b(n), $n\\geq0$) ou en ondes complexes (c(n), $n\\in\\mathbb{Z}$) avec des fréquences négatives.\n",
    "\n",
    "Sauriez vous donner un prolongement en suites **paires** périodiques (il faut changer la période) de dimension 3 ?\n"
   ]
  },
  {
   "cell_type": "markdown",
   "id": "e573b547-0319-477e-a386-e8e099d82397",
   "metadata": {
    "jp-MarkdownHeadingCollapsed": true,
    "tags": []
   },
   "source": [
    "# Prolongement dans $\\mathbb{R}^{N}_{DCT-II}$ : suite paires périodiques \n",
    "\n",
    "Contrairement au continu où il existe un prolongement périodiques pair possible, en discret il existe plusieurs solutions. \n",
    "\n",
    "Le plus poulaire est de période $2N$ et donne :\n",
    ">  $(1,2,3)_W = \\vec{v} = 1.\\vec{w_0} + 2.\\vec{w_1} + 3.\\vec{w_3}  \\quad \\leftrightarrow \\quad  f: t\\mapsto 1.p[k] + 2.p[k-1] + 3.p[k-2]\\quad \\; | \\;\\forall k, f[k]=f[k+2N]$ et $f[k]=f[-k-1]$  \n",
    ">  avec la suite $(\\dots,\\, 3, 2, 1,\\; 1, 2, 3, 3, 2, 1, \\; 1, 2, 3,\\,\\dots)$ par exemple   \n",
    ">  **Il y a un déclage temporel !** car l'indice $k=0$ ne correspond pas au temps 0. On est quasi-pair car $f[k]=f[-k-1]$ et non $f[-k]$.\n",
    "\n"
   ]
  },
  {
   "cell_type": "markdown",
   "id": "bd116710-c501-4cca-82cc-533854893f7c",
   "metadata": {},
   "source": [
    "En continu, le développement en série de cosinus (CT pour Cosine Transform) est facile à définir car :  \n",
    "> il y n'y a qu'un seul prolongement pair de période double d'un signal à support borné $[0 ; T_0[$. \n",
    "> C'est donc une version réelle des SdF $c(n)$ où l'on prend une période double avec :  \n",
    "> $CT[n] = a(\\frac{n}{2}) = \\int\\limits_0^{T_0} f(t) . \\cos\\left(2\\pi n \\frac{t}{2.T_0}\\right) dt$\n",
    "\n",
    "**Il n'y a pas de $b(n)$ ! et tout est réel, en revanche la résolution fréquentielle est double :  $n\\leftrightarrow \\frac{F_0}{2}$**\n",
    "\n",
    "En discret pour prolonger la suite bornée (a,b,c), il y a deux choix à faire à chaque borne :\n",
    "* a est à l'instant $0$ et donc non répété : ...b,a,b,...\n",
    "* a est répété et donc à l'instant $\\frac{T_e}{2}$ : ..., b, a, a, b\n",
    "* d est non répété et donc à $(N-1).T_e$ de l'échantillon a : ..., c, d, c \n",
    "* d est répété et donc à l'instant $(N-1).T_e + \\frac{T_e}{2}$ de a : ..., b, a, a, b\n",
    "\n",
    "> en discret il y a 4 prolongements pairs donnant 4 **Direct Cosine Transform** DCT  \n",
    "> car il y a 4 prolongements pairs \"aux deux bornes\" conduisant à 4 espaces pairs périodiques,\n",
    "> et 4 prolongement pair en \"a\" et impair en \"b\"\n",
    "\n",
    "\n",
    "Type de DCT | Prolongement (N=4)         | Décalage de \"a\" | parité en \"b\" | Période  \n",
    "-----|----------------------------|-----------------|---------------|--------\n",
    "Type-I | (a, b, c, b)       |         0       | pair          | 2.(N-1)   \n",
    "Type-II | (a, b, c, c, b, a) |        +1/2     | pair          | 2.N   \n",
    "\n",
    "Le type II est très utilisé pour compresser les signaux (mp3, avi, etc.) \n",
    "Donnons-en la base temporelle.\n"
   ]
  },
  {
   "cell_type": "code",
   "execution_count": 119,
   "id": "366bb19a-d2f9-41d1-9cb7-0063cbcf1141",
   "metadata": {},
   "outputs": [
    {
     "data": {
      "image/png": "[encoded data removed]",
      "text/plain": [
       "<IPython.core.display.Image object>"
      ]
     },
     "metadata": {},
     "output_type": "display_data"
    }
   ],
   "source": [
    "decal = 1/2;\n",
    "N = 3;  % 3 points\n",
    "j = (1:N) - decal;\n",
    "k = (0:8*N-1)' - decal;\n",
    "periode = 2*N;\n",
    "\n",
    "M_Bz_Bdct = peigne(k-j,periode) + ...\n",
    "            peigne(k-(periode-j),periode) ;\n",
    "\n",
    "\n",
    "for id_j=1:N\n",
    "    subplot(5,1,id_j); stem(k,M_Bz_Bdct(:,id_j),couleurs(id_j))\n",
    "end\n",
    "\n",
    "v_Bz = M_Bz_Bdct * v;\n",
    "subplot(5,1,[4 5]); \n",
    "stem(k,v_Bz,'k--');\n"
   ]
  },
  {
   "cell_type": "markdown",
   "id": "9382a2b1-b6a6-4105-9f05-2ad658c04b4b",
   "metadata": {
    "tags": []
   },
   "source": [
    "Ce prolongement pair et périodique va permettre de décomposer le signal uniquement en cosisnus (a(n)) mais avec une résolution fréquentielle double, car la période est double.\n",
    "\n",
    "La base est clairement orthogonale (orthogonalité dans le temps : jamais non nul en même temps) par contre la norme au carré de chaque vecteur vaut le nombre d'impulsions dans le temps. Dans une base de temps infinie, ce signal est de norme infinie, car d'énergie infinie puisque périodique. On devrait plutôt parler de puissance moyenne et sommer que sur une période :\n",
    "\n",
    "\n",
    "> Dans $\\mathbb{R}^{\\mathbb{Z}}$ avec le produits scalaire $<\\!<f,g>\\!>=\\sum_{k\\in\\mathbb{Z}} f[k].g[k]$ donne l'énergie !   \n",
    "> Dans $\\mathbb{R}^N_p$ avec le produits scalaire $<\\!<f,g>\\!>_p=\\sum_{0\\leq k < N} f[k].g[k]$ donne l'énergie sur une période. \n",
    "> Dans $\\mathbb{R}^N_p$ avec le produits scalaire $<\\!<f,g>\\!>_p=\\frac{1}{N}\\sum_{0\\leq k < N} f[k].g[k]$ donne la puissance moyenne.  \n",
    "\n"
   ]
  },
  {
   "cell_type": "code",
   "execution_count": 120,
   "id": "46e9b64f-4b33-4eb9-bbf6-c0c65e359941",
   "metadata": {
    "tags": []
   },
   "outputs": [
    {
     "name": "stdout",
     "output_type": "stream",
     "text": [
      "ans =\n",
      "\n",
      "   8   0   0\n",
      "   0   8   0\n",
      "   0   0   8\n",
      "\n",
      "ans =\n",
      "\n",
      "   2   0   0\n",
      "   0   2   0\n",
      "   0   0   2\n",
      "\n",
      "ans =\n",
      "\n",
      "   0.33333   0.00000   0.00000\n",
      "   0.00000   0.33333   0.00000\n",
      "   0.00000   0.00000   0.33333\n",
      "\n"
     ]
    }
   ],
   "source": [
    "scal = @(u,v,N) transpose(v)*u;\n",
    "scalp = @(u,v,N) transpose(v(1:N,:))*u(1:N,:);\n",
    "scalpn = @(u,v,N) transpose(v(1:N,:))*u(1:N,:)/N;\n",
    "\n",
    "scal(M_Bz_Bdct,M_Bz_Bdct)\n",
    "scalp(M_Bz_Bdct,M_Bz_Bdct,2*N)\n",
    "scalpn(M_Bz_Bdct,M_Bz_Bdct,2*N)"
   ]
  },
  {
   "cell_type": "markdown",
   "id": "e559c4e2-6f0d-4a2a-b48f-a980fd85ad2d",
   "metadata": {},
   "source": [
    "On voit que les vecteurs de base  sont orthogonaux et de même norme mais pas de norme 1.\n",
    "\n",
    "Cela veut dire que le vecteur v de norme 5\n",
    "\n"
   ]
  },
  {
   "cell_type": "markdown",
   "id": "17a29165-d304-4f53-a8f9-cd39e987acc6",
   "metadata": {
    "jp-MarkdownHeadingCollapsed": true,
    "tags": []
   },
   "source": [
    "# Prolongement dans $\\mathbb{R}^{N}_{DCT-I}$ : suite paires périodiques (superpositions)\n",
    "\n",
    "Pour obtenir un décalage pair centré en $t=0$, il faut raccourcir la période à $2(N-1) et superposer les signaux:\n",
    "\n",
    ">  $(1,2,3)_W = \\vec{v} = 1.\\vec{w_0} + 2.\\vec{w_1} + 3.\\vec{w_3}  \\quad \\leftrightarrow \\quad  f: t\\mapsto 1.p[k] + 2.p[k-1] + 3.p[k-2]\\quad \\; | \\;\\forall k, f[k]=f[k+2(N-1)]$ et $f[k]=f[-k]$  \n",
    ">  avec la suite $(\\dots,\\, 3, 2,\\; 1, 2, 3, 2, \\; 1, 2, 3,\\,\\dots)$ par exemple   \n",
    "> **Pas de décalage temporel mais la période est $2.(N-1)$** car on superpose les extrémités\n",
    "\n"
   ]
  },
  {
   "cell_type": "markdown",
   "id": "fdddb1d8-4939-45c7-87f2-c2b69dc39d22",
   "metadata": {},
   "source": [
    "\n",
    "Dans les types de prolongement donnés\n",
    "\n",
    "\n",
    "Type de DCT | Prolongement (N=4)         | Décalage de \"a\" | parité en \"b\" | Période  \n",
    "-----|----------------------------|-----------------|---------------|--------\n",
    "Type-I | (a, b, c, b)       |         0       | pair          | 2.(N-1)   \n",
    "Type-II | (a, b, c, c, b, a) |        +1/2     | pair          | 2.N   \n",
    "\n",
    "Le type I nécessite de normer les vecteurs "
   ]
  },
  {
   "cell_type": "code",
   "execution_count": 121,
   "id": "7a959056-37c1-4e89-beed-386ecb9241e3",
   "metadata": {},
   "outputs": [
    {
     "data": {
      "image/png": "[encoded data removed]",
      "text/plain": [
       "<IPython.core.display.Image object>"
      ]
     },
     "metadata": {},
     "output_type": "display_data"
    }
   ],
   "source": [
    "decal = 0;\n",
    "N = 3;  % 3 points\n",
    "j = (0:(N-1)) - decal;\n",
    "k = (0:7*(N-1)-1)' - decal;\n",
    "periode = 2*(N-1);\n",
    "\n",
    "M_Bz_BdctI = peigne(k-j,periode) + ...\n",
    "            peigne(k-(periode-j),periode) ;\n",
    "\n",
    "\n",
    "for id_j=1:N\n",
    "    subplot(5,1,id_j); stem(k,M_Bz_BdctI(:,id_j),couleurs(id_j))\n",
    "end\n",
    "\n",
    "v_Bz = M_Bz_BdctI * v;\n",
    "subplot(5,1,[4 5]); \n",
    "stem(k,v_Bz,'k--');\n"
   ]
  },
  {
   "cell_type": "markdown",
   "id": "319db787-d572-432f-9ffc-b7ea0d745d98",
   "metadata": {},
   "source": [
    "Ce prolongement de période \"trop courte\" recouvre la borne a et c :\n",
    "\n",
    "=  | 2c| b | 2a | b | 2c |  b | 2a | b\n",
    "---|---|---|---|---|---|---|---|---\n",
    "  +|---|---|---|---|---|---|---|---\n",
    "  +| c | b | a | 0 | 0 | 0 | 0 | 0 \n",
    "  +| 0 |0  | a | b | c | 0 | 0 | 0 \n",
    "  +| 0 |0  | 0 | 0 | c | b | a | 0 \n",
    "  +| 0 |0  | 0 | 0 | 0 | 0 | a | b \n",
    "  +|---|---|---|---|---|---|---|---\n",
    "\n",
    "Le \"a\" est doublé et le \"c\" aussi car ainsi :\n",
    "- la base temporelle ...(2,0,0,0)... de a\n",
    "- la base temporelle ...(0,0,2,0)... de c\n",
    "- celles aux milieux ...(0,1,0,1)... de b\n",
    "\n",
    "sont pas de même normes !\n"
   ]
  },
  {
   "cell_type": "code",
   "execution_count": 122,
   "id": "9f6b092c-7440-44e6-9755-81b1c0a7414e",
   "metadata": {},
   "outputs": [
    {
     "name": "stdout",
     "output_type": "stream",
     "text": [
      "normes =\n",
      "\n",
      "   2.0000   1.4142   2.0000\n",
      "\n",
      "correction =\n",
      "\n",
      "   0.50000   1.00000   0.50000\n",
      "\n",
      "normes =\n",
      "\n",
      "   1.0000   1.4142   1.0000\n",
      "\n"
     ]
    },
    {
     "data": {
      "image/png": "[encoded data removed]",
      "text/plain": [
       "<IPython.core.display.Image object>"
      ]
     },
     "metadata": {},
     "output_type": "display_data"
    }
   ],
   "source": [
    "scalaires = scalp(M_Bz_BdctI,M_Bz_BdctI,2*(N-1));\n",
    "normes  = sqrt(sum(scalaires))\n",
    "correction = [0.5 1 0.5]\n",
    "% broadcast rangées\n",
    "M_Bz_BdctI = M_Bz_BdctI .* (correction);\n",
    "\n",
    "scalaires = scalp(M_Bz_BdctI,M_Bz_BdctI,2*(N-1));\n",
    "normes  = sqrt(sum(scalaires))\n",
    "\n",
    "for id_j=1:N\n",
    "    subplot(5,1,id_j); stem(k,M_Bz_BdctI(:,id_j),couleurs(id_j))\n",
    "end\n",
    "v_Bz = M_Bz_BdctI * v;\n",
    "subplot(5,1,[4 5]); \n",
    "stem(k,v_Bz,'k--');\n"
   ]
  },
  {
   "cell_type": "markdown",
   "id": "2178e32a-274a-4d89-99c3-042d48b920e0",
   "metadata": {},
   "source": [
    "Toujours pas de même norme !\n",
    "\n",
    "Dans le passage à une base  fréquentielle il faudra traiter les points bornes à part ! \n",
    "\n",
    "Alors que si nous normons et acceptons de déformer un peu le signal, nous aurons une dct facile...\n",
    "\n"
   ]
  },
  {
   "cell_type": "code",
   "execution_count": 123,
   "id": "08dff993-13ff-4d4f-a4f3-ae92e1daaae3",
   "metadata": {},
   "outputs": [
    {
     "name": "stdout",
     "output_type": "stream",
     "text": [
      "normes =\n",
      "\n",
      "   1.0000   1.4142   1.0000\n",
      "\n",
      "correction =\n",
      "\n",
      "   1.00000   0.70711   1.00000\n",
      "\n",
      "normes =\n",
      "\n",
      "   1.00000   1.00000   1.00000\n",
      "\n"
     ]
    },
    {
     "data": {
      "image/png": "[encoded data removed]",
      "text/plain": [
       "<IPython.core.display.Image object>"
      ]
     },
     "metadata": {},
     "output_type": "display_data"
    }
   ],
   "source": [
    "scalaires = scalp(M_Bz_BdctI,M_Bz_BdctI,2*(N-1));\n",
    "normes  = sqrt(sum(scalaires))\n",
    "correction = 1./normes\n",
    "% broadcast rangées\n",
    "M_Bz_BdctI = M_Bz_BdctI .* (correction);\n",
    "\n",
    "scalaires = scalp(M_Bz_BdctI,M_Bz_BdctI,2*(N-1));\n",
    "normes  = sqrt(sum(scalaires))\n",
    "\n",
    "for id_j=1:N\n",
    "    subplot(5,1,id_j); stem(k,M_Bz_BdctI(:,id_j),couleurs(id_j))\n",
    "end\n",
    "v_Bz = M_Bz_BdctI * v;\n",
    "subplot(5,1,[4 5]); \n",
    "stem(k,v_Bz,'k--');\n"
   ]
  }
 ],
 "metadata": {
  "kernelspec": {
   "display_name": "Octave",
   "language": "octave",
   "name": "octave"
  },
  "language_info": {
   "file_extension": ".m",
   "help_links": [
    {
     "text": "GNU Octave",
     "url": "https://www.gnu.org/software/octave/support.html"
    },
    {
     "text": "Octave Kernel",
     "url": "https://github.com/Calysto/octave_kernel"
    },
    {
     "text": "MetaKernel Magics",
     "url": "https://metakernel.readthedocs.io/en/latest/source/README.html"
    }
   ],
   "mimetype": "text/x-octave",
   "name": "octave",
   "version": "4.2.2"
  }
 },
 "nbformat": 4,
 "nbformat_minor": 5
}
