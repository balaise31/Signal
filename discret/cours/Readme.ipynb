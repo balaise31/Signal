{
 "cells": [
  {
   "cell_type": "markdown",
   "id": "a166b064-dff7-477a-a1eb-920efaf42c19",
   "metadata": {},
   "source": [
    "# Systèmes et signaux discrets\n",
    "---"
   ]
  },
  {
   "cell_type": "markdown",
   "id": "00c3b909-9228-4750-ba62-a16d0b45527f",
   "metadata": {},
   "source": [
    "## VEC : Les espaces vectoriels des signaux\n",
    "---\n",
    "\n",
    "Un signal est vu comme un vecteur dans un espace vectoriel. On y trouve une base de signaux orthonormés temporelle et une fréquentielle. Changer de base est calculer une transofrmée.\n",
    "\n",
    "  * Voir le polycopié [premier chapitre](../poly/poly_discret.pdf#chapter.1) jusqu'aux [bases temporelles (1.2)](../poly/poly_discret.pdf#section.1.2) incluses \n",
    "  * Y associer la lecture des notebooks~:\n",
    "     - [VEC1](./notebooks/VEC1_bases_temporelles.ipynb) sur les bases temporelles\n",
    "     - [VEC2](./notebooks/VEC2_bases_frequentielles.ipynb) sur les bases fréquentielles\n",
    "\n",
    "## TFSD : Transformée de Fourier des Signaux Discrets\n",
    "Dans le cas des signaux discrets non- bornés $\\mathbb{C^\\mathbb{Z}}$ le passage à la base fréquencielle revient à calculer la TFSD du signal\n",
    "  * Voir de la section [1.4.1 les TF](../poly/poly_discret.pdf#subsection.1.4.1) jusqu'aux [1.4.3 les TFSD](../poly/poly_discret.pdf#subsection.1.4.3)\n"
   ]
  },
  {
   "cell_type": "code",
   "execution_count": null,
   "id": "54d3d4c3-9cd2-4e41-838f-a6b31f8652f5",
   "metadata": {},
   "outputs": [],
   "source": []
  }
 ],
 "metadata": {
  "kernelspec": {
   "display_name": "Python 3 (ipykernel)",
   "language": "python",
   "name": "python3"
  },
  "language_info": {
   "codemirror_mode": {
    "name": "ipython",
    "version": 3
   },
   "file_extension": ".py",
   "mimetype": "text/x-python",
   "name": "python",
   "nbconvert_exporter": "python",
   "pygments_lexer": "ipython3",
   "version": "3.10.1"
  }
 },
 "nbformat": 4,
 "nbformat_minor": 5
}
