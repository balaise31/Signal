{
 "cells": [
  {
   "cell_type": "markdown",
   "metadata": {
    "tags": []
   },
   "source": [
    "# Pas de fréquentiel ici ! mais fft...\n",
    "Le signal \"paparite.ogg\" semble être un mélange de messages.\n",
    "Si seulement on pouvait séparer deux signaux paparfréquence non, mais peut-être paparité ?"
   ]
  },
  {
   "cell_type": "code",
   "execution_count": 2,
   "metadata": {},
   "outputs": [
    {
     "data": {
      "image/png": "[encoded data removed]",
      "text/plain": [
       "<IPython.core.display.Image object>"
      ]
     },
     "metadata": {},
     "output_type": "display_data"
    }
   ],
   "source": [
    "[Y,Fs]=audioread(\"paparite.ogg\");\n",
    "t=((1:length(Y))-1)/Fs;\n",
    "plot(t,Y);\n",
    "title(\"Signal quelconque !\")"
   ]
  },
  {
   "cell_type": "markdown",
   "metadata": {},
   "source": [
    "## Ce signal semble pair ! Comment le vérifier ?\n",
    "Peut être en calculant la fft, mais quel lien ?\n",
    "\n",
    "Avec nos séries de Fourier ou au moins a(n) de cos c'était pour le pair et b(n) l'impair...\n",
    "D'ailleur qu'obtient-on quand on recompose que des a(n) d'un signal quelconque ?"
   ]
  },
  {
   "cell_type": "code",
   "execution_count": 8,
   "metadata": {},
   "outputs": [],
   "source": [
    "Ypere=Y; #à vous de jouer et de séparer\n",
    "Yfille=Y;\n",
    "\n",
    "% help fft et ifft. mais ça fait TFD et ITFD en  gros...\n",
    "\n",
    "#une fois fin, sauvez dans un fichier audio et écoutez\n",
    "audiowrite(\"pere.ogg\",Ypere,Fs);\n",
    "audiowrite(\"fille.ogg\",Yfille,Fs);"
   ]
  },
  {
   "cell_type": "markdown",
   "metadata": {
    "tags": []
   },
   "source": [
    "## Bravo ! Comment faire en temporel maintenant ?\n",
    "On entend un petit mélange du au bruit numérique des fft et ifft. Peut-on séparer mais en temporel ces deux parties ? Il y aurait moins de bruit...\n"
   ]
  },
  {
   "cell_type": "code",
   "execution_count": 7,
   "metadata": {},
   "outputs": [],
   "source": [
    "%Faites mieux en temporel\n",
    "Ypapa=Y;\n",
    "Ylili=Y;\n",
    "\n",
    "% vous trouvez pas ? Cherchez comment en radio on arrive à avoir un son mono sur un canal\n",
    "% et un signal sur l'autre qui permet d'avoir gauche et droite de stéréo\n",
    "\n",
    "% toujours pas ? vous retournez pas la tête... Si on vous la fait à l'envers \n",
    "% pourquoi ne pas le faire au signal...\n",
    "\n",
    "audiowrite(\"papa.ogg\",Ypapa,Fs);\n",
    "audiowrite(\"lili.ogg\",Ylili,Fs);\n"
   ]
  },
  {
   "cell_type": "code",
   "execution_count": null,
   "metadata": {},
   "outputs": [],
   "source": []
  }
 ],
 "metadata": {
  "kernelspec": {
   "display_name": "Octave",
   "language": "octave",
   "name": "octave"
  },
  "language_info": {
   "file_extension": ".m",
   "help_links": [
    {
     "text": "GNU Octave",
     "url": "https://www.gnu.org/software/octave/support.html"
    },
    {
     "text": "Octave Kernel",
     "url": "https://github.com/Calysto/octave_kernel"
    },
    {
     "text": "MetaKernel Magics",
     "url": "https://metakernel.readthedocs.io/en/latest/source/README.html"
    }
   ],
   "mimetype": "text/x-octave",
   "name": "octave",
   "version": "4.2.2"
  }
 },
 "nbformat": 4,
 "nbformat_minor": 4
}
