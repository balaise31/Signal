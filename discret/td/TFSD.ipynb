{
 "cells": [
  {
   "cell_type": "markdown",
   "metadata": {
    "tags": []
   },
   "source": [
    "# TFSD et TFD\n",
    "---\n",
    "\n",
    "\n",
    "\n"
   ]
  },
  {
   "cell_type": "markdown",
   "metadata": {
    "tags": []
   },
   "source": [
    "## Exercice TFSD-I: la TFSD et en bonus TFD\n",
    "---"
   ]
  },
  {
   "cell_type": "markdown",
   "metadata": {},
   "source": [
    "### I - TFSD \n",
    "\n",
    "| Démarrer (vidéo/son)                      |             Corrigé (vidéo/papier)                             | \n",
    "|-------------------------------------------|----------------------------------------------------------------|\n",
    "| [TD1 exo 1](https://youtu.be/X5x6lBavL5M) | Un [corrigé par Lucas Marchant](./FREQ_corr/td1_exo1_corr.jpg) |\n",
    "\n",
    "\n",
    "Retrouvez la formule de la TFSD (qui va du discret vers le continu périodique) et appliquez-la pour le signal \"impulsion unité\", noté $\\delta[k]$, et qui joue le même rôle que l'impulsion de Dirac, notée $\\delta$ et par abus parfois $\\delta(t)$, en continu. Dans le cas où l'on a un signal électrique, en Volts et d'échantillons en fonctions du temps, donnez l'unité de la TFSD de :\n",
    "   - $\\delta[k]$\n",
    "   - $\\delta_l[k]=\\delta[k-l]$ avec $l\\in\\mathbb{N}$ représentant un retard de $l$ échantillons.\n",
    "\n",
    "**Vérifications manuelles** \n",
    " - Vérifiez bien que les arguments des exponentielles sont sans dimention, que l'on obtient bien une fonction $\\mathbb{R}\\mapsto\\mathbb{C}$, utilisez les [ ] pour ce qui est discret et () pour le continu ;\n",
    " - que la formule prise avec $l=0$ correspond au premier signal \n",
    " - prenez les equivalents en temps continus ($\\delta$ et $\\delta_l$ de Dirac) et utilisez la transformée de Laplace associée au théorème du retard.\n",
    " - Le signal est réel vérifiez que l'on a bien un spectre de Hilbert (réel pair et imaginaire impair)\n",
    "\n",
    "**Vérification assitée par Ordinateur**\n",
    "\n",
    " Allez voir les exercices notebooks (avec corrigés)  [TFSD-I octave](./FREQ_code/exo1_tfsd_octave.ipynb) et [TFSD-II python](./FREQ_code/exo1_tfsd.ipynb). Pour un début, vous allez juste analyser et nommez les axes des figures (xlabel, ylabel) en donnant les unités.\n",
    "\n"
   ]
  },
  {
   "cell_type": "markdown",
   "metadata": {},
   "source": [
    "### I - bonus TFD\n",
    "---\n",
    "| Démarrer (vidéo/son) | Corriger (vidéo/papier) |\n",
    "|-----|------|\n",
    "| [Carrément le corrigé](https://youtu.be/WdEtgyNIC-k) | [Corrigé écrit](./FREQ_corr/td1_exo1_II_tfd_corr.pdf) |\n",
    "\n",
    "La représentation en TFSD est une fonction continue $F_e$-périodique qui ne peut être stockée dans un processeur en pratique. On souhaite limiter la mémoire de travail à 4 échantillons en temporel plutôt qu'une infinité de zéros dans le cas de $\\delta$ et $\\delta_l$. \n",
    "\n",
    "Pour cela on rend les signaux 4-périodiques : cela permet d'avoir uniquement des fréquences multiples de $\\frac{n}{4.T_e}$ et donc des fréquences discrètes et périodiques : 4 échantillons en fréquence. Voir le [VEC2-C base frequentielle TFD](../cours/notebooks/VEC2_bases_frequentielles.ipynb#C---Base-fr%C3%A9quentielle-orthogonale-:-TFD) pour un exemple en 3-périodique.\n",
    "\n",
    "> Représentez sur plusieur périodes les signaux précédents $\\delta$ et $\\delta_l$ mais rendus 4-périodiques.\n",
    "\n",
    "De même, retrouvez la formule de la TFD (discret périodique vers discret périodique), et donnez la TFD des deux signaux précédents. Vérifiez dans le poly [section1.4.4](https://balaise31.github.io/Signal/poly_discret.pdf#subsection.1.4.4) Vous avez besoin pour cela d'un *nombre de points N = 4* $\\iff$ *fenêtre d'observation/période temporelle* $\\iff$ *fenêtre d'obervation/période fréquentielle*.\n",
    "\n",
    "> Calculez $TFD\\{\\delta\\}[n]$ et $TFD\\{\\delta_l\\}[n]$ en retrouvant la formule par produit scalaire.  \n",
    "> Vous représenterez le signal temporel et son dual fréquentiel sur plusieurs de leur période, que vous indiquerez.\n",
    "\n",
    "On prendra l'habitude d'utiliser un indice k pour le temps et n pour les fréquences.\n",
    "\n",
    "#### **Vérifications manuelles**\n",
    "\n",
    " * Idem tous les signaux sont $\\mathbb{Z}\\rightarrow \\mathbb{C}$ et de période 4 (tout est suite numérique périodique) ; dimension des arguments de l'exponentielle ; unités en [V]\n",
    " * **parité !** $\\delta_0$ rendue périodique reste paire donc TFD réelle. Mais que devient la parité de $\\delta_2$ (de parité quelconque en support infini) lorsqu'elle est rendue 4 périodique ? Ainsi la TFSD[$\\delta_2$] qui était complexe devient réelle !   \n",
    " * La TFD est un échantillonnage **fréquentiel** de résolution $\\Delta_f=\\frac{F_e}{N}$ de la TFSD précédente !\n",
    " * On peut aussi utiliser la transformation de Laplace que l'on vient échantillonner en temps $t=k\\,T_e$ et en fréquence $p=i\\,2\\pi\\,\\Delta_f\\,n$.\n",
    "\n",
    "#### **Vérification octave**\n",
    "\n",
    "L'algo efficace de TFD, nommé FFT, est implémenté par la fonction fft et la réciproque ifft.\n",
    "Allez dans [CODE td1_exo1_tfd](./FREQ_code/exo1_tfd_octave.ipynb) pour voir comment faire et nommer les axes en donnant les unitées."
   ]
  },
  {
   "cell_type": "markdown",
   "metadata": {},
   "source": [
    "### I - bonus TFD matricielle\n",
    "\n",
    "\n",
    "Gardons l'exemple avec des suites de l'espace $E=\\mathbb{Z}\\rightarrow \\mathbb{C}$ (suite numérique complexe de période N/longueur N).\n",
    "La TFD est un changement de base de E dans E, et l'on souhaite écrire la matrice de cette application Identité $M_{B_w\\leftarrow B_c}=mat{(I_d,B_c,B_w)}$. Cela est très similaire au TP dans [VEC3-D](../tp/VEC3_deux_bases.ipynb#D---D%C3%A9composition-dans-la-base-de-fr%C3%A9quencielle-:-TFD)\n",
    "\n",
    "\n",
    "\n",
    "  - COMME EN TP : Représentez verticalement dans une matrice $W$ les 4 échantillons des 4 vecteurs $w_n$ de la base fréquentielle. Pour cela il faut échantillonner $e^{i2\\pi.f.t}$ à la fois en fréquence et en temps : les vecteurs d'analyse $t\\mapsto e^{i\\,2\\pi\\,f\\,t}$ deviennent les vecteurs suites $\\vec{w_n}=k\\mapsto e^{i\\,\\frac{2\\pi}{N}k\\,n}=k\\mapsto W_N^{nk}$ avec $W_N = e^{i\\,\\frac{2\\pi}{N}}$ la racine Nième de l'unité. Allez dans le corrigé à [l'affichage des w_n](./FREQ_code/exo1_tfd_corr_octave.ipynb#Construction-de-la-matrice-des-vecteurs-fr%C3%A9quenciels-$w_n$) pour voir la discrétisation de ces signaux.\n",
    "  - Un point de la TFD d'un signal est alors calculé par $\\hat{S}[n] = <\\!<\\vec{s},\\vec{w_n}>\\!>_p = {}^T\\!s_{B_c} . \\overline{w_n}_{B_c} =  \\underbrace{{}^T\\!\\overline{w_n}_{B_c}}_{M}.s_{B_c}  $ comme un produit scalaire matriciel. On a donc $M = W^H = \\overline{{}^T\\!W}$\n",
    "  - donnez alors la matrice M de l'application linéaire TFD en 4 points et calculez la TFD de $\\delta_0$, $\\delta_{l=2}=\\delta_2$ et $x=(1,-1,1,-1)_{B_c}$ sous forme d'un produit matriciel $M.x_{B_c}$\n",
    "  \n",
    "#### **vérifications manuelles**\n",
    " - la base est orthogonale et les vecteurs de la base sont de norme $\\sqrt {N}$ on doit donc avoir $M^H.M=\\overline{{}^T\\!M}.M=N.Id$ (l'inverse d'une matrice orthogonale est sa transposée de Hilbert)\n",
    " - on remarque que le signal $x$ est en fait la TFD de $\\delta_2$ (prenez la $TFSD[\\delta_2](f=n\\frac{Fe}{4})$ pour vous en convaincre). On peut calculer la transformée inverse et voir que l'on obtient bien le primal $\\delta_2$. Lorsque l'on calcule $TFD[x] = TFD[TFD[x]]$ on obtient par dualité $x[-\\bullet]$ et comme $\\delta_2$ est paire, on a la même chose. Le fait que la TFD n'est pas normée (on ne divise pas par N) implique qu'en réalité $TFD[TFD[x]]=N.x[-\\bullet]$\n",
    " - calculez la norme au carré de $\\delta_2$ en temporel en utilisant le produit scalaire. Calculez la norme au carré de $TFD(\\delta_2)$ et expliquez pourquoi elles ne sont pas égales. \n",
    " \n",
    "#### **VAO**\n",
    "\n",
    "Retournez dans la suite de [TFD matriciel](./FREQ_code/exo1_tfd_corr_octave.ipynb#Construction-de-la-matrice-des-vecteurs-fr%C3%A9quenciels-wnw_n) pour voir la magie matricielle opérer et se comparer avec l'algo. de FFT.\n"
   ]
  },
  {
   "cell_type": "markdown",
   "metadata": {},
   "source": [
    "---\n",
    "## Exercice 2 : Zero padding\n",
    "---"
   ]
  },
  {
   "cell_type": "markdown",
   "metadata": {},
   "source": [
    "### II - TFSD\n",
    "---\n",
    "| Démarrer (vidéo/son) | Corriger (vidéo/papier) |\n",
    "|-----|------|\n",
    "| [td2_exo2_1 dualité](https://youtu.be/nQuzjxC9ur8) | [version classique par A. Boyer](./FREQ_corr/td1_exo2_I_corr.png) et la [version Acco](./FREQ_corr/td1_exo2_1_corr.png)|\n",
    "\n",
    "Soit le signal : $e[k] = \\delta[k-1] + 2.\\delta[k]+ \\delta[k+1]$.\n",
    "\n",
    "   - 1) Représenter e[k] entre -5 et 5.\n",
    "\n",
    "   - 2) Calculer E(f), TFSD de e[k]. Tracer $|E(f)|$ dans l'intervalle ± Fe.\n",
    "\n",
    "#### **Vérification**\n",
    "\n",
    "En vectoriel chaque $\\delta$ symétriques en temps vont sélectionner deux ondes complexes conjuguées donc provoquer un cosinus et l'impulsion en 0 donne une composante continue... Dual de la TF de cos + CC !   \n",
    "\n",
    "### II - TFD en 3 et 5 points (zero padding)\n",
    "---\n",
    "| Démarrer (vidéo/son) | Corriger (vidéo/papier) |\n",
    "|-----|------|\n",
    "| [td2_exo2_2 zero padding](https://youtu.be/SueqSGOjXGE) | [classique d'Alexandre](./FREQ_corr/td1_exo2_II_classique_corr.png) et la [version matrice et shannon](./FREQ_corr/td1_exo2.pdf) |\n",
    "\n",
    "   - 3) Calculer $E_3[n]$, TFD à 3 points de $e[n]$. Tracer $e_3[k]$ sur l'intervalle -5, 5 et $E[n]$ dans l'intervalle $\\pm F_e$.\n",
    "\n",
    "   - 4) Calculer $E_5[n]$, TFD à 5 points de $e[n]$. Tracer $e_5[k]$ et $E_5[n]$ dans les mêmes intervalles qu'au 3).\n",
    "\n",
    "#### **Vérifications**\n",
    "\n",
    "TFD en 3 points = échantillonnage fréquentiel en 3 points de la TFSD... En représentant la courbe continue de la TFSD et en divisant Fe par 3 on doit trouver les mêmes points.\n",
    "\n",
    "#### **VAO**\n",
    "Regardez dans [td1_exo2_tfsd](./FREQ_code/exo2_tfsd.ipynb) on utilise le résultat analytique de la TFSD du 2, que l'on échantillonne et on voit que le signal est périodique en utilisant ifft à 3 points puis 5points."
   ]
  },
  {
   "cell_type": "markdown",
   "metadata": {},
   "source": [
    "### II - Elévation de fréquence d'échantillonnage\n",
    "\n",
    "| Démarrer (vidéo/son) | Corriger (vidéo/papier) |\n",
    "|-----|------|\n",
    "| [NOUVEAU élévation ](https://youtu.be/ri9Gg009U7w) et [la partie conclusion](https://youtu.be/ri9Gg009U7w?t=610) | [corrigé classique Alex.](./FREQ_corr/td1_exo2_III_classique_corr.png) [corrigé 0xACC0](./FREQ_corr/td1_exo2_III_corr.png)|\n",
    "\n",
    "   - 5) On fait maintenant passer le signal $e[k]$, avec Te = 1/Fe, par un élévateur de fréquence d'échantillonnage (EFE), de rapport d'élévation R = 2 : le signal discret est donc échantillonné à la fréquence double et considéré nul partout ailleur. Donc on insère des zéros entre chaque échantillon.\n",
    "   On considère alors un indice temporel $k'$ lié à la période d'échantillonage $\\frac{Te}{2}$ avec la relation $t=k\\,T_e=k'\\frac{Te}{2}$      \n",
    "   Soit y[k'] le signal de sortie de l'EFE. Tracer y[k']. Calculer Y(f), TFSD de y[k'], en fonction de f et de Fe.\n",
    "\n",
    "   - 6) En quelques phrases claires et brèves, conclure sur l'ensemble de ce travail.\n"
   ]
  },
  {
   "cell_type": "markdown",
   "metadata": {},
   "source": [
    "### II - Conclusion de l'exo 2 :\n",
    "   * interpoler plus finement les fréquences ↔ Rallonge la période du temporel en ajoutant des zeros en fin de période. **zero padding temporel**\n",
    "   *  Elever l'échantillonage temporel en insérant des zéros entre échantillons ↔ Ne change pas le spectre (Fe périodique puis 2Fe periodique = pareil)\n",
    "  \n",
    "On ne rajoute pas d'information au signal. Mais le fréquentiel est plus lisible et plus lissé à voir...\n",
    "\n",
    "Allez voir dans [td1_exo2_tfsd](./FREQ_code/exo2_tfsd.ipynb) un exemple avec 10 fois plus d'échantillons et surtout :\n",
    "Qu'en serait-il du dual de ces opérations ?\n",
    "   * Interpoler plus finement le temporel ↔ ???\n",
    "   * Elever l'échantillonnage fréquentiel en insérant des zeros entre échantillons ↔ ???\n",
    "   "
   ]
  },
  {
   "cell_type": "markdown",
   "metadata": {},
   "source": [
    "## Exercice 3 : Echantillonage et fenêtrage"
   ]
  },
  {
   "cell_type": "markdown",
   "metadata": {},
   "source": [
    "| Démarrer (vidéo/son) | Corriger (vidéo/papier) |\n",
    "|-----|------|\n",
    "| [td2_exo3_fenêtrage temporel](https://youtu.be/EZCAfUPVtjQ) | [NEW Vidéo corrigé](https://youtu.be/gFy-UGYgVPU) et le document [corrigé 0xACC0](./FREQ_corr/td1_exo3.pdf) |\n",
    "\n",
    "\n",
    "Un signal analogique x, purement sinusoïdal de fréquence F = 60 Hz, est échantillonné au rythme de 500 échantillons par seconde. Après conversion analogique-numérique, il est analysé avec une FFT à 64 points.\n",
    "\n",
    "   - 1) Quelle est la valeur de la fréquence Fe d’échantillonnage ?\n",
    "\n",
    "   - 2) Quelle est la valeur de la période Te d’échantillonnage ?\n",
    "\n",
    "   - 3) Quelle est la valeur de la période T du signal analogique ?\n",
    "\n",
    "   - 4) Quels sont les rangs (↔ valeurs de n) correspondant aux valeurs les plus élevées du module de la FFT du signal analogique, pour un tracé de spectre où 0 ≤ kn≤ 64 ? Pour cela modélisez le signal comme un sinus infini multiplié par une fonction porte d'observation sur $[0, N\\,T_e[$ et donnez sa transformée de Fourier. Puis représentez l'échantillonage comme la multiplication temporelle par un peigne de Dirac. Donnez sa transformée et la transformée du produit temporeml des deux.\n",
    "\n",
    "   - 5) Quelle nouvelle fréquence Fe ’ d’échantillonnage éliminerait les problèmes associés au fenêtrage (troncature temporelle) ? On proposera la valeur la plus proche de celle trouvée en 1). \n",
    "   \n",
    "#### VAO\n",
    "\n",
    "On ira voir dans [td1_exo3](./FREQ_corr/exo3.ipynb) le résultat et on y essaiera la valeur proposée en 5)."
   ]
  }
 ],
 "metadata": {
  "kernelspec": {
   "display_name": "Octave",
   "language": "octave",
   "name": "octave"
  },
  "language_info": {
   "file_extension": ".m",
   "help_links": [
    {
     "text": "GNU Octave",
     "url": "https://www.gnu.org/software/octave/support.html"
    },
    {
     "text": "Octave Kernel",
     "url": "https://github.com/Calysto/octave_kernel"
    },
    {
     "text": "MetaKernel Magics",
     "url": "https://metakernel.readthedocs.io/en/latest/source/README.html"
    }
   ],
   "mimetype": "text/x-octave",
   "name": "octave",
   "version": "6.4.0"
  },
  "latex_envs": {
   "LaTeX_envs_menu_present": true,
   "autoclose": false,
   "autocomplete": true,
   "bibliofile": "biblio.bib",
   "cite_by": "apalike",
   "current_citInitial": 1,
   "eqLabelWithNumbers": true,
   "eqNumInitial": 1,
   "hotkeys": {
    "equation": "Ctrl-E",
    "itemize": "Ctrl-I"
   },
   "labels_anchors": false,
   "latex_user_defs": false,
   "report_style_numbering": false,
   "user_envs_cfg": false
  }
 },
 "nbformat": 4,
 "nbformat_minor": 4
}
