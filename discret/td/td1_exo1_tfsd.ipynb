{
 "cells": [
  {
   "cell_type": "markdown",
   "id": "turned-vector",
   "metadata": {},
   "source": [
    "# TD1 exo 1 sur le TFSD\n",
    "\n",
    "Un [corrigé par Lucas marchant](./td1_exo1_corr.jpg) a été proposé.\n",
    "Voici la version octave.\n",
    "\n",
    "L'axe des temps est discret donc facilement représentable avec $t=k\\,Te$, il suffit de créer un vecteur du temps discret $k$ de -5 à 5 par exemple et de calculer le vecteurs temps $t$ qui y correspond (utile pour l'affichage)\n",
    "\n"
   ]
  },
  {
   "cell_type": "code",
   "execution_count": 1,
   "id": "interested-costs",
   "metadata": {},
   "outputs": [
    {
     "name": "stdout",
     "output_type": "stream",
     "text": [
      "k =\n",
      "\n",
      "  -5  -4  -3  -2  -1   0   1   2   3   4   5\n",
      "\n",
      "t =\n",
      "\n",
      "  -50  -40  -30  -20  -10    0   10   20   30   40   50\n",
      "\n"
     ]
    }
   ],
   "source": [
    "clear all; close all;\n",
    "% k est le vecteur entier assoicié au temps\n",
    "k=-5:5\n",
    "Fe=0.1; \n",
    "Te = 1/Fe; \n",
    "t=k*Te"
   ]
  },
  {
   "cell_type": "markdown",
   "id": "protected-purse",
   "metadata": {},
   "source": [
    "Dans la TFSD les fréquences sont continues entre 0 et $F_e$ et impossible à stocker dans un ordinateur.\n",
    "On s'en rapproche avec une résolution très fine  $\\Delta_f=0.001$ 𝐻𝑧 (par exemple) comparée à la fréquence d'échantillonnage  𝐹𝑒=1  arbitraire. \n",
    "\n",
    "On peut choisir d'échantillonner en fréquence avec 1000 points entre 0 et $F_e$ et en déduire la résolution $\\Delta_f=\\frac{F_e}{1000}$. On peut calculer **inutilement** la TFSD pour des fréquences au delà de $F_e$ pour vérifier la périodicité du spêctre. "
   ]
  },
  {
   "cell_type": "code",
   "execution_count": 2,
   "id": "other-pickup",
   "metadata": {},
   "outputs": [
    {
     "name": "stdout",
     "output_type": "stream",
     "text": [
      "Df =    1.0000e-04\n",
      "NB_points =  4001\n"
     ]
    }
   ],
   "source": [
    "% f est le vecteur \"presque\" continu des fréquences\n",
    "Df= Fe/1000 %résolution fine\n",
    "f=-2*Fe: Df:2*Fe;\n",
    "NB_points = length(f)"
   ]
  },
  {
   "cell_type": "markdown",
   "id": "defined-joint",
   "metadata": {},
   "source": [
    "On défini la fonction impulsion unité $\\delta_0[k] = 1$ uniquement si $k=0$, elle joue le même rôle que l'impulsion de Dirac. \n",
    "\n",
    "Pour cela on aurait pu faire une fichier dirac.m content :\n",
    "``` octave\n",
    "function val = dirac(k)\n",
    "          if k == 0 \n",
    "              val= 1\n",
    "          else \n",
    "              val = 0\n",
    "          end\n",
    "     return val\n",
    "```     \n",
    "Mais on profite des *fonctions inline* (fonction en ligne) \n",
    "\n",
    "    delta = @(k) \"expression de k\"\n",
    "    \n",
    "Pour faire le *si alors sinon* en une seule ligne on peut profiter d'une astuce où un booléen vrai vaut 1 et un faux vaut 0, donc l'expression \"k == 0\" est un booléen mais aussi une valeur numérique qui convient.\n",
    "\n",
    "Donc delta est une fonction, pour calcul et affichage on créée un vecteur des échantillons du signal en donnant en argument à la fonction le vecteur entier (ici k) des valeurs à calculer.\n"
   ]
  },
  {
   "cell_type": "code",
   "execution_count": 3,
   "id": "designing-ranking",
   "metadata": {},
   "outputs": [
    {
     "name": "stdout",
     "output_type": "stream",
     "text": [
      "signal_x1 =\n",
      "\n",
      "  -5  -4  -3  -2  -1   0   1   2   3   4   5\n",
      "   0   0   0   0   0   1   0   0   0   0   0\n",
      "\n",
      "l =  2\n",
      "signal_xl =\n",
      "\n",
      "  -5  -4  -3  -2  -1   0   1   2   3   4   5\n",
      "   0   0   0   0   0   0   0   1   0   0   0\n",
      "\n"
     ]
    }
   ],
   "source": [
    "% x1 et xl les échantillons des signaux\n",
    "% sur une fenêtre temporelle \"presque\" infinie\n",
    "delta = @(k) k==0 ; % impulsion unité discrète (astuce vaut 1 quand vrai)\n",
    "x1 = delta(k);\n",
    "signal_x1=[k ; x1] % pour afficher en texte joli\n",
    "\n",
    "l=2\n",
    "xl = delta(k-l); % retardé de l=2 échantillons\n",
    "signal_xl=[k ; xl]\n"
   ]
  },
  {
   "cell_type": "markdown",
   "id": "common-rugby",
   "metadata": {},
   "source": [
    "Il suffit ensuite de faire un script TFSD qui fait le calcul pour chaque fréquences contenues dans le vecteur f (supposé être continu de 0 à Fe) avec tout les instants contenu dans k (qui est bien un vecteur d'entiers mais supposé être infini...)\n",
    "La fonction du script [tfsd](tfsd.m) ressemble beaucoup aux scripts de deuxieme année.\n",
    "\n",
    "Pour les affichages à gauche temporel, à droite fréquentiel, en haut partie réelle et en bas partie imaginaire, je vous ai fait la fonction plot_dual.m\n",
    "\n",
    "A vous de mettre les bonnes légendes avec les bonnes sunités."
   ]
  },
  {
   "cell_type": "code",
   "execution_count": 11,
   "id": "accredited-business",
   "metadata": {},
   "outputs": [
    {
     "data": {
      "image/png": "[encoded data removed]",
      "text/plain": [
       "<IPython.core.display.Image object>"
      ]
     },
     "metadata": {},
     "output_type": "display_data"
    }
   ],
   "source": [
    "tfsd_x1 = tfsd(x1,k,f,Te); % voir tfsd.m ou help tfsd\n",
    "tfsd_xl = tfsd(xl,k,f,Te);\n",
    "\n",
    "plot_dual([k; k],\"Unite temps ?\",\n",
    "        [x1;xl],\"Unites Ordonnees ?\",\n",
    "        [f;f],\"Unite frequence ?\",\n",
    "        [tfsd_x1; tfsd_xl],\"Unites Ordonnees ?\",\n",
    "        [\"impulsion 0\";\"impulsion en 2\"],\n",
    "        primalDiscret=true,\n",
    "        dualDiscret=false);\n",
    "subplot(222);axis(axis*1.1) % bug d'affichage et le 1 était invisible"
   ]
  },
  {
   "cell_type": "markdown",
   "id": "distributed-senator",
   "metadata": {},
   "source": [
    "On donc bien tfsd$[\\delta_0][n]= 1$ et tfsd$[\\delta_2][n]= e^{-i\\,2\\pi\\,f\\;2T_e}$\n",
    "\n",
    "On peut vérifier autrement qu'à l'oeil, en calculant l'énergie de l'erreur entre le calcul et la formule"
   ]
  },
  {
   "cell_type": "code",
   "execution_count": 12,
   "id": "light-shock",
   "metadata": {},
   "outputs": [
    {
     "name": "stdout",
     "output_type": "stream",
     "text": [
      "norme_carre_erreur =  8000\n"
     ]
    }
   ],
   "source": [
    "erreur = tfsd_xl - exp(i*2*pi*f*2*Te);\n",
    "norme_carre_erreur = erreur * erreur' % Le produit scalaire complexe des fonctions <<f,f>> "
   ]
  },
  {
   "cell_type": "markdown",
   "id": "tough-andrews",
   "metadata": {},
   "source": [
    "Oups j'ai oublié le - dans la formule !"
   ]
  },
  {
   "cell_type": "code",
   "execution_count": 13,
   "id": "impaired-offense",
   "metadata": {
    "scrolled": true
   },
   "outputs": [
    {
     "name": "stdout",
     "output_type": "stream",
     "text": [
      "norme_carre_erreur = 0\n"
     ]
    }
   ],
   "source": [
    "erreur = tfsd_xl - exp(    -    i*2*pi*f*2*Te);\n",
    "norme_carre_erreur = erreur * erreur' % Le produit scalaire complexe des fonctions <<f,f>> "
   ]
  }
 ],
 "metadata": {
  "kernelspec": {
   "display_name": "Octave",
   "language": "octave",
   "name": "octave"
  },
  "language_info": {
   "file_extension": ".m",
   "help_links": [
    {
     "text": "GNU Octave",
     "url": "https://www.gnu.org/software/octave/support.html"
    },
    {
     "text": "Octave Kernel",
     "url": "https://github.com/Calysto/octave_kernel"
    },
    {
     "text": "MetaKernel Magics",
     "url": "https://metakernel.readthedocs.io/en/latest/source/README.html"
    }
   ],
   "mimetype": "text/x-octave",
   "name": "octave",
   "version": "4.2.2"
  },
  "latex_envs": {
   "LaTeX_envs_menu_present": true,
   "autoclose": false,
   "autocomplete": true,
   "bibliofile": "biblio.bib",
   "cite_by": "apalike",
   "current_citInitial": 1,
   "eqLabelWithNumbers": true,
   "eqNumInitial": 1,
   "hotkeys": {
    "equation": "Ctrl-E",
    "itemize": "Ctrl-I"
   },
   "labels_anchors": false,
   "latex_user_defs": false,
   "report_style_numbering": false,
   "user_envs_cfg": false
  }
 },
 "nbformat": 4,
 "nbformat_minor": 5
}
