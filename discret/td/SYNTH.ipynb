{
 "cells": [
  {
   "cell_type": "markdown",
   "id": "outstanding-partner",
   "metadata": {},
   "source": [
    "---\n",
    "# SYNTH \n",
    "---\n",
    "\n",
    " \n"
   ]
  },
  {
   "cell_type": "markdown",
   "id": "c9b97b9b-0e97-4d73-a61d-495e4000fc2e",
   "metadata": {},
   "source": [
    "# 1 - Méthode bilinéaire\n",
    "---\n",
    "\n",
    "\n",
    "La méthode bilinéaire consiste à prendre une synthèse de filtre en continu \"qui fait le job\".  \n",
    "C'est une fonction de transfert G(p) dont la réponse harmonique $G(p=i\\omega)$ correspond au besoin.\n",
    "\n",
    "On approche l'opérateur dérivé $p$ par un opérateur discret $s(z)$ le plus proche possible harmoniquement de p :\n",
    "\n",
    "$s(z=e^{i\\tilde{\\omega}}) \\approx i\\omega $ sur une plage de fréquence \"raisonnable\".\n",
    "\n",
    "Le système continu $G(p)$ devient discret en remplaçant $p$ par son équivalent $s(z)$ : $s$ est donc l'opérateur discret \"presque dérivée\".  \n",
    "On a ainsi une fraction rationnelle en z à partir de $G(p)$ avec $G(\\overbrace{s(z)}^{p})=G_s(z)$ dont la réponse harmonique \"fait presque le job\" car $s(z)$ est harmoniquement proche de $p$."
   ]
  },
  {
   "cell_type": "markdown",
   "id": "3d91d7e1-43a5-47ff-b129-4ca23f9f7e1b",
   "metadata": {},
   "source": [
    "## 1-A : Retrouver les formules\n",
    "\n",
    "Pour **retrouver la formule de $s(z)\\equiv p$** il faut penser que $s$ est l'opérateur qui a pour sortie $y$ : la dérivée de $x$ sans avance ni retard.\n",
    " 1) Écrivez l'expression de la pente de $x$ mesurée entre l'instant $k$ et $k+1$ (on note $T_e$ la période d'échantillonnage)\n",
    " 2) Complétez pour obtenir une équation de récurrence qui dit \"la moyenne de la sortie $y$ aux instatns $k$ et $k+1$ vaut la pente mesurée\"\n",
    " 3) Passez de la récurrence à sa transofrmée en Z\n",
    " 4) Mettez en forme de fraction rationnelle en z : $s(z)=\\frac{Y(z)}{X(z)}=K'.\\frac{1 \\pm \\dots z}{1 \\pm \\dots z}$\n",
    " \n",
    ">$y[k]=$ pente : donnerait une dérivée en avance et non causale (car dépendant de $x[k+1]$) ;  \n",
    "> $y[k+1]=$pente : donnerait une dérivée \"en retard\" de $\\frac{T_e}{2}$ (méthode \"zero horder hold\" notée \"zoh\" avec octave).  \n",
    "> Alors que le moyenne des dérivées $y$ est \"centrée\" entre les instants $k$ et $k+1$ tout comme la pente."
   ]
  },
  {
   "cell_type": "markdown",
   "id": "9a629a52-c74b-43cc-9886-0dd0a9607f72",
   "metadata": {},
   "source": [
    "**Retrouvez l'équivalent harmonique de p et z** :\n",
    "\n",
    " 1) Retrouvez l'équivalent harmonique de $p$ en calculant le phaseur de sortie d'un dérivateur pour une onde continue $t\\mapsto e^{i\\omega\\,t}$ en entrée.\n",
    " 2) Retrouvez l'équivalent harmonique de $z$ en calculant le phaseur de sortie d'une avance unitaire de temps pour une onde discrète $k\\mapsto e^{i\\omega k T_e}$ en entrée.\n",
    "\n",
    "**Vérifiez la formule** avec :\n",
    " 1) l'homogénéïté des termes\n",
    "    - $z$ est sans dimension, donc $1+T_e\\,z$ n'est pas correct, en revanche  $T_e +T_e\\,z$ l'est.\n",
    "    - Piège ! La dérivée $x'$ est de dimension $\\frac{dx [V]}{dt [s]}$ donc la fonction de transfert qui est le ratio $\\frac{x'}{x}$ est homogène à $\\frac{[V/s]}{[V]}=[1/s]$\n",
    " 2) le gain statique du dérivateur $p$ est nul (car dérivée d'une constante et de plus $p\\equiv i.\\overset{\\to 0}{\\omega} = 0)$  \n",
    "    Donc le gains statique en discret $s\\left(z=e^{i\\overset{\\to 0}{\\omega\\,T_e}}=1\\right)=0$\n",
    " 3) Le gain hautes fréquence du dérivateur est infini car $p\\equiv i.\\overset{\\to +\\infty}{\\omega} = i \\infty$.  \n",
    "    Donc le gain HF discret $s\\left(z=-1\\right)=+\\infty$  \n",
    "    - Piège ! $e^{i\\overset{\\to +\\infty}{\\omega\\,T_e}}$ ne converge pas (tourne en rond sur le cercle unité) donc l'équivalent HF en discret n'est pas pour $\\omega\\to\\infty$.  \n",
    "    - Pensez que le signal le plus rapide de l'ouest est $(\\dots, 1, -1, 1, -1, \\dots)$ qui correspond à un incrément angulaire de $\\pi$ de l'onde exponentielle et donc à la fréquence...  \n",
    "    - Tout cela doit donner un équivalent Harmonique HF de $z\\equiv -1$.\n",
    " \n",
    " "
   ]
  },
  {
   "cell_type": "markdown",
   "id": "447dda3f-a18b-4288-bcf7-5629c880c247",
   "metadata": {},
   "source": [
    "**Retrouvez l'équivalent harmonique de s** et la fameuse formule de compression des fréquences :\n",
    "  1) Remplacez $z$ par son équivalent harmonique dans $s(z)$ ou bien (de manière équivalente) faites passer $k\\mapsto e^{i\\omega T_e k}$ dans le système $s$ et trouvez son phaseur\n",
    "  2) N'oubliez pas la technique de l'arc moitiée :  \n",
    "     $1 +e^{i\\theta}= e^{\\frac{i\\theta}{2}}.\\left(e^{\\frac{-i\\theta}{2}} + e^{\\frac{i\\theta}{2}}\\right)=e^{\\frac{i\\theta}{2}}.2.\\cos(\\theta)$  \n",
    "     $1 -e^{i\\theta}= e^{\\frac{i\\theta}{2}}.\\left(e^{\\frac{-i\\theta}{2}} - e^{\\frac{i\\theta}{2}}\\right)=e^{\\frac{i\\theta}{2}}.(-2i).\\sin(\\theta)$  \n",
    "     pour simplifier la formule en  \n",
    "     $s\\left(z=e^{i\\omega T_e}\\right)= i.\\dots.\\tan(\\omega.\\dots)$\n",
    "  3) Vérifiez en faisant un équivalant pour $\\omega <\\!< T_e \\to 0$ on doit avoir $s \\approx j\\omega \\equiv p$\n",
    "  4) Vérifiez que la fréquence discrète la plus rapide de l'ouest $\\omega_q$ donne bien un équivalent harmonique $+i\\infty$.  \n",
    "     Cette valeur correspond àl'équivalent de $p$ pour une fréquence continue infinie."
   ]
  },
  {
   "cell_type": "markdown",
   "id": "bb536151-b93b-439d-8d01-d35a357114e5",
   "metadata": {
    "tags": []
   },
   "source": [
    "## 1-B : L'empire du premier ordre\n",
    "---"
   ]
  },
  {
   "cell_type": "markdown",
   "id": "675ce6a7-0b86-4d47-94d7-f121fb8ae692",
   "metadata": {},
   "source": [
    "On peut \"facilement\" demander à un outil numérique (matlab/octave) de calculer les coefficients d'un fitre passe-bas et même de générer le code de la récurrence à implanter dans le système. \n",
    "\n",
    "En revanche si l'on désire \"bouger\" la fréquence $f_c$ du passe-bas en temps réel (système adaptatif, bouton de réglage, etc.), il est **hors de question d'implémenter octave sur un micro-contrôleur** pour calculer la nouvelle valeur des coefficients. \n",
    "\n",
    "Il faut donc trouver les équations analytiques des coefficients $b_i, a_i$ en plus de la récurrence !\n",
    "\n",
    "Prenons le cas simple d'un filtre du premier ordre passe-bas de gain $K$ dans sa bande passante $0-f_c$ :\n",
    "\n",
    "$G(p)=\\frac{K.\\tau}{1+\\tau.p}$ avec $\\tau = \\frac{1}{f_c}$"
   ]
  },
  {
   "cell_type": "markdown",
   "id": "e2e99142-c45e-455a-a2f5-b8ac1c5acee0",
   "metadata": {},
   "source": [
    "### Calcul analytique du filtre\n",
    "\n",
    "Appliquez la méthode de synthèse bilinéaire :\n",
    " \n",
    " 0) Vérifiez homogénéïté et gains (statique et HF) de G(p) \n",
    " 1) Calculez la fonction de transfert $G_s(z)=G\\left(p=s(z)\\right)$\n",
    " 2) Vérifiez homogénéïté et gains (statique et HF)de $G_s(z)$\n",
    " 3) Exprimez la fonction de transfert en retards $q=z^{-1}$ sous la forme : $G_s=K'.q^{\\dots}.\\frac{1+b_1.q+b_2.q^2+\\dots}{1+a_1.q+a_2.q^2+\\dots}$\n",
    " 4) Remraquez qu'en discret $K'$ n'est pas le gain statique $K$. Refaites les vérifications de gain statique d'ailleurs !\n",
    " 5) Passez de $\\frac{Y(z)}{X(z)}=G_s(1/q)$ à une récurrence $y[k]=\\dots y[k-1] + \\dots$. Vérifiez l'homogénéïté\n",
    " 6) Vérifiez le gain statique avec le signal constant $x[k]=x[k-1]=\\dots=x^\\star=1$ donnant une sortie constante $y[k]=y[k-1]=\\dots=y^\\star$ \n",
    " 7) Vérifiez le gain HF avec l'entrée la plus rapide l'ouest $x[k]=-x[k-1]=x[k-2]=-x[k-3]=\\dots=x^\\star=1$ et la sortie la plus rapide l'ouest  $y[k]=-y[k-1]=y[k-2]=-y[k-3]=\\dots=y^\\star$ "
   ]
  },
  {
   "cell_type": "markdown",
   "id": "6facb2fc-8cc0-4157-a160-ee701ec2c0b1",
   "metadata": {},
   "source": [
    "### Réponse harmonique et prewarp\n",
    "\n",
    "Partie \"Optionelle\" qui mérite de se faire en même temps que le TP. \n",
    "\n",
    "N'hésitez pas à passer à un autre TD en attendant le TP\n",
    "\n",
    "Il serait trop calculatoire de calculer la réponse harmonique du système discret $H(f)=G_s\\left(z=e^{i\\omega T_e}\\right)$. Imaginez le fait de remplacer $z$ par $e^{i\\omega T_e}$, de simplifier en fraction rationnelle, de calculer module et argument du numérateur et dénominateurs... Cela prend quelque lignes en revanche avec un outil numérique.\n",
    "\n",
    "Mais nous connaissons parfaitement le bode (du moins son diagramme asymptotique) de $H(f)=G(p=i\\omega)$ en continu. Nous savons que :\n",
    "\n",
    "fréquence | équivalent continu  | réponse harmonique   | Gain (dB)  | phase (deg)  |\n",
    "----------|---------------------|----------------------|------------|--------------|\n",
    " 0        |    j.0              | $G(j.O)= K$          |  K[dB]    |  0          | \n",
    " $f_c$   |    $j\\omega_c$      | $G(j\\omega_c)=\\frac{K}{1+i}$ | K[dB]-3 | $\\dots$   |\n",
    " $+\\infty$|    $+j\\infty$       | $G(+\\infty)=\\dots$    | $\\dots$     | $\\dots$   |\n",
    "\n",
    "> Il peut être bon de s'aider d'un graphique dans le plan complexe,   \n",
    "> - de placer un point p sur l'axe imaginaire ($j\\omega$)  \n",
    "> - de placer avec une petite croix sur le pôle de $p_1$ (la racine $1+\\tau.p=0$)  \n",
    "> - de tracer le vecteur $\\vec{p - p_1}$ qui par donc de la croix $p_1$ vers le point $p$  \n",
    "> - de mesurer l'angle et la longueur du vecteur pour avoir argument et phase   \n",
    "> - de pas oublier que c'est un pôle et que donc on inverse le gain (change le signe des dB) et de phase opposée (change le signe)"
   ]
  },
  {
   "cell_type": "markdown",
   "id": "bc02d23d-7b2d-422b-93d1-1946d39812b3",
   "metadata": {},
   "source": [
    "En prenant l'équivalent harmonique $s(f) = i\\frac{2}{T_e}\\tan\\left(2\\pi.f.\\frac{T_e}{2}\\right)$ si l'on remplit le tableau en discret on obtient :\n",
    "\n",
    "fréquence  $f$              | équivalent discret s(f)  | réponse harmonique $H(f)=G\\left(\\overbrace{s(f)}^{p}\\right)$  |\n",
    "----------------------------|--------------------------|---------------------------------------------------------------|\n",
    " Continu : 0                |        ... = j.0         |  H(f=$0)=G(j.0)=K$                                            |\n",
    " Nyquist : $\\frac{F_e}{2}$  |    ... = $+j\\infty$      |  H(f=$\\frac{F_e}{2})=G(j.\\infty)=0$                                |\n",
    " Cassure : $f_c$            |  ... $\\neq j.\\omega_c$   |  H(f=$f_c) \\neq G(j.\\omega_c)$                                |\n",
    "\n",
    "**Nous n'avons pas le bon gain pour $f_c$** car l'équivalent harmonique de $s$ pour cette fréquence n'est pas $i\\omega_c$ comme en continu !\n",
    "\n",
    "Il faut donc faire un *prewarp* c'est à dire prendre un système continu $G^{pre}=K\\frac{1}{1+\\tau^{pre} p}$ tel que pour :  \n",
    "$f=f_c \\implies s(f=f_c) = i\\frac{2}{T_e}\\tan\\left(2\\pi.f_c.\\frac{T_e}{2}\\right) = j.\\omega_c^{pre} \\implies G^{pre}(j.\\omega_c^{pre})=G(j\\omega_c)=\\frac{K}{1+i}$\n",
    "\n",
    "**Donnez donc l'expression analytique de $\\tau^{pre}$** en fonction de la fréquence de cassure désirée.\n"
   ]
  },
  {
   "cell_type": "markdown",
   "id": "d7512d6c-8cc4-47e9-9994-b73e9120f456",
   "metadata": {},
   "source": [
    "## 1-C : Second ordre\n",
    "\n",
    "Faites de même pour synthétiser un système de second ordre de gain unitaire, de factor d'amortissement $\\zeta$ et de pulsation naturelle $\\omega_n$ :\n",
    "\n",
    "\n",
    "$G(p) = \\frac{1}{p^2+ 2\\zeta\\omega_n\\,p+{\\omega_n}^2}$\n",
    "\n",
    "![](./second_ordre_continu.png)\n",
    "\n",
    "\n",
    "Faites bien toutes les vérifications, peut-être que la question est mal posée ?\n",
    "\n",
    "Vous viendrez en TP avec ces résultats."
   ]
  },
  {
   "cell_type": "code",
   "execution_count": null,
   "id": "9f322da9-258a-46ed-9569-9ed07514c32c",
   "metadata": {},
   "outputs": [],
   "source": []
  }
 ],
 "metadata": {
  "interpreter": {
   "hash": "43b84bff16fa7216ed338d9940931cd50142a36f0abc305db4b43b5f154f347f"
  },
  "kernelspec": {
   "display_name": "Octave",
   "language": "octave",
   "name": "octave"
  },
  "language_info": {
   "file_extension": ".m",
   "help_links": [
    {
     "text": "GNU Octave",
     "url": "https://www.gnu.org/software/octave/support.html"
    },
    {
     "text": "Octave Kernel",
     "url": "https://github.com/Calysto/octave_kernel"
    },
    {
     "text": "MetaKernel Magics",
     "url": "https://metakernel.readthedocs.io/en/latest/source/README.html"
    }
   ],
   "mimetype": "text/x-octave",
   "name": "octave",
   "version": "4.2.2"
  },
  "latex_envs": {
   "LaTeX_envs_menu_present": true,
   "autoclose": false,
   "autocomplete": true,
   "bibliofile": "biblio.bib",
   "cite_by": "apalike",
   "current_citInitial": 1,
   "eqLabelWithNumbers": true,
   "eqNumInitial": 1,
   "hotkeys": {
    "equation": "Ctrl-E",
    "itemize": "Ctrl-I"
   },
   "labels_anchors": false,
   "latex_user_defs": false,
   "report_style_numbering": false,
   "user_envs_cfg": false
  }
 },
 "nbformat": 4,
 "nbformat_minor": 5
}
