{
 "cells": [
  {
   "cell_type": "markdown",
   "id": "c33bee8e-64b1-43f5-aacc-8d2a17e04ccc",
   "metadata": {},
   "source": [
    "---\n",
    "# SYS TD systèmes discrets\n",
    "---\n",
    "\n",
    "Apprendre à passer entre les différentes représentations :\n",
    "   - schema blocks\n",
    "   - équation aux différences : récurrence\n",
    "   - fonction de transfert en Z\n",
    "   - réponse harmonique\n",
    "   - réponse impulsionnelle\n",
    "   - représentation d'état\n",
    "\n"
   ]
  },
  {
   "cell_type": "markdown",
   "id": "e745577b-7efc-44a5-8fb8-e3e5e0877934",
   "metadata": {
    "tags": []
   },
   "source": [
    "## MA - Mooving Average\n",
    "---\n",
    "\n",
    "<img src='../poly/tikz/ma_ab.png' width=\"400\" height=\"400\" style=\"background-color: orange\"> \n",
    "\n",
    "Les cercles sont des multiplieurs, l'opérateur T est le retard unitaire\n",
    "\n",
    " 1) Identifiez les trois types d'opérateurs utilisés et dites pour chacun si ce sont des systèmes LTI (Linéaire à Temps Invariant), des systèmes causaux  \n",
    "    Conclure si le système entier est lui-même LTI, causal ? Vous donnerez en phrases quantifiées les définitions de causal, invariant et linéaire.  \n",
    "    Une phrase quantifiée étant du type suivant où E désigne l'ensemble des fonctions discrètes et H le système $H: E\\to E$ :  \n",
    "    $\\forall x,\\alpha \\in E\\times\\mathbb{C}, \\quad H\\left\\{\\alpha\\,x\\right\\}= \\alpha H\\left\\{x\\right\\}$\n",
    " 2) Donnez la réponse impulsionnelle (RIp) de chaque opérateur SISO (*Single Input Single Output*) utilisé. On les notera $h_a, h_b, h_T$ et les exprimerons en fonction de $\\delta_0$ et $\\delta_1$.  \n",
    "    Indiquez sur le schéma la sortie de chaque bloc sous forme de produit de convolution avec l'entrée.  \n",
    "    On trouve ainsi la relation entre $y$ et $x$ sous forme de produits de convolution avec des signaux basés sur $\\delta_0$ et $\\delta_1$.\n",
    "    -$y = x\\star\\ldots+ x\\star\\ldots$, puis utilisez les propiétés algébriques pour factoriser et simplifier en\n",
    "    -$y = x\\star\\left(\\ldots + \\ldots\\right) = x\\star(\\ldots)\\delta_1$ n'oubliez pas que $s\\star\\delta_0=s$  \n",
    " 3) Donnez la réponse impulsionnelle $h$ du système et tracez son graphique. On remplacera l'entrée $x$ par l'impulsion $\\delta_0$ dans la relation de convolution.\n",
    " 4) Passez du schéma block à l'équation aux différences (récurrence) que vous mettrez sous forme :\n",
    "    -$y[k+1]=\\ldots$\n",
    "    -$y[k]=\\ldots$  \n",
    "     Simplifiez les expressions et dites de quel ordre est ce système.  \n",
    "     Le système est-il auto-regressif ? récurrent ? à moyenne glissante (mooving average) ? bouclé ? \n",
    " 5) En se rappelant que $z^{-1}$ est le système/signal associé à l'opérateur retard $T$, donnez la fonction de transfert en Z en partant de chaque récurrence :\n",
    "    -$y[k+1]=\\ldots \\implies G(z) = \\frac{Y(z)}{X(z)} = \\ldots$\n",
    "    -$y[k]=\\ldots \\implies G(z) = \\frac{Y(z)}{X(z)} = \\ldots$  \n",
    " 6) Remplacez $X(z)$ par la transformée en Z de $\\delta_0$ dans la relation $G(z) = \\frac{Y(z)}{X(z)}$ et trouvez la transformée de la réponse impulsionnelle $H(z)$ puis $h$  \n",
    "    Le système est-il FIR (Finite Impluse Response) ? IIR (Infinite Impulse response) ? $h$ est-elle une série ACV (Absoluement Convergente) ? Une suite convergente ? \n",
    "    Nous devons retrouver la même expression qu'avec les convolutions en faisant les associations :\n",
    "    -$\\star \\leftrightarrow \\;. $ : produit de convolution fonctionne comme un produit algébrique\n",
    "    -$\\delta_0 \\leftrightarrow 1 $ : l'impulsion est l'élément neutre noté 1 de ce produit\n",
    "    -$ \\delta_1 \\leftrightarrow z^{-1} $ : le retard est associé au nombre $z$\n",
    " 7) Retrouvez la propriété de causalité à partir de la RIp $h$. (BONUS : démontrez que $h$ causale $\\implies H$ causal en décomposant $h$ en somme d'impulsions) \n",
    " 8) La phrase quantifiée suivante tente de donner une définition de la stabilité BIBO (Bounded Input Bounded Output), corrigez-la (3 erreurs) : \n",
    "    $\\exists A \\in \\mathbb{R} \\; | \\; \\forall x, k \\in E\\times\\mathbb{Z}, \\; x[k]\\leq A \\quad \\iff \\quad \\forall k\\in\\mathbb{Z}, \\; \\exists B \\in \\mathbb{R} \\; | \\; H\\left\\{x\\right\\}[k] \\leq B $  \n",
    "    on veut exprimer *\"tout signal borné donne une sortie bornée\"*\n",
    " 9) Quelle propriété doit vérifier la RIp pour que le système soit stable ? Est-ce une condition nécessaire et suffisante ? Concluez si ce système est BIBO stable à partir de sa RIp. (BONUS : démontrez que $h$ ACV $\\implies$ H stable)\n",
    " 10) Donnez un schéma block en transformée en Z sous forme Directe I (chaîne de retards puis combinaison linéaire). Retrouvez de quel ordre est ce système.\n",
    " 11) A-t-on :  \n",
    "     -$MA \\implies FIR$ ?\n",
    "     -$FIR \\implies BIBO$ ou $BIBO \\implies FIR$ ou $BIBO \\iff FIR$ ?\n",
    "     -$MA \\implies FIR \\implies BIBO$ ?\n",
    "     -$BIBO \\iff FIR \\implies MA$ ?"
   ]
  },
  {
   "cell_type": "markdown",
   "id": "e96f2a06-6446-4864-83cf-57b1569e52e0",
   "metadata": {},
   "source": [
    "## AR - Auto Regressive\n",
    "---\n",
    "\n",
    "Nous voulons créer un système capable de générer en réponse impulsionnelle une exponentielle causale (comme un premier ordre en continu) $h(t) = e^{-t/\\tau}.u(t)$.  \n",
    "\n",
    " 1) Discrétisez le signal $t\\mapsto h(t)$ et montrez qu'il s'agit d'une suite géométrique $h[k]=a^k.u[k]$ où vous exprimerez $a$ en fonction de $\\tau$ et $T_e$.\n",
    " 2) Représentez $h$ graphiquement pour $a=\\frac{1}{2}$ puis $1$ puis $2$. Déduisez une condition nécessaire et suffisante de stabilité BIBO du système H avec $a$ puis avec $\\tau$ (Il y a une CNS de CVA des séries géométriques à utiliser) : \n",
    "    - H BIBO stable $\\iff \\quad |a| \\ldots $\n",
    "    - H BIBO stable $\\iff \\quad \\tau \\ldots$  \n",
    "    On vérifie que la condition sur $\\tau$ correspond aux conditions de stabilité en continu (trouver la TF, le(s) pole(s), etc.) \n",
    " 3) Traduisez la récurrence autonomme :  \n",
    "    $y[k]=a.y[k-1]$ avec condition initiale $y[0]=1$  \n",
    "    en un système avec entrée $x$ dont la réponse impulsionnelle sans condition initiale (tous les $y[k]=0$ pour $k<0$) donne bien $h$.\n",
    " 4) Donnez la fonction de transfert $G(z)$ de ce système et vérifiez que la réponse impulsionnelle $H(z)$ vaut bien $H(z) = G(z).\\underbrace{1}_{Z\\{\\delta_0\\}}$. Pour cela, donnez $H(z)$ en appliquant la formule directe de transformée en Z qui se retrouve simplement avec la décomposition de $h$ dans le temps :  \n",
    "    -$\\vec{h[k]} = \\sum\\limits_{j=0}^{\\infty} h[j] . \\vec{\\delta_j[k]}  \\quad\\implies\\quad H(z) = Z\\{\\vec{h}\\}(z) =  \\sum\\limits_{j=0}^{\\infty} h[j] . Z\\{\\vec{\\delta_j[k]}\\} = \\ldots$  \n",
    "    -Utilisez la formule de la somme d'une série géométrique pour retrouver G(z) \n",
    "    -Exprimez G(z) comme une fraction rationnelle en $z^{-1}$ et faites une division par les puissances croissante de $z^{-1}$ pour retrouver $H(z)$\n",
    " 5) Ce système est-il MA (moyenne pondérée glissante) ? AR (autorégressif) ? Récursif ? Bouclé ?\n",
    " 6) Déterminez l'ordre, les pôles et les zéros de $G(z)$.  \n",
    "    Quelle est la condition de stabilité en continu en fonction des zéros et des pôles ? En remplaçant $z^{-1}$ par le théorème du retard d'un temps $T_e$ en transformée de Laplace,  \n",
    "    retrouvez la relation $z\\leftrightarrow e^{-T_e p}$.  \n",
    "    Que devient la condition de stabilité d'un pôle continu $p_1$ lorsque l'on passe au pôle discret associé $z_1$  \n",
    " 7) Donnez un schéma block en transformée en Z sous forme Directe I (chaîne de retards et combinaison linéaire). Retrouvez de quel ordre est ce système.\n",
    " 8) A-t-on :  \n",
    "    -$IIR \\implies AR$ ?\n",
    "    -$IIR \\implies \\overline{BIBO}$ ou $ \\overline{BIBO} \\implies IIR$ ou $\\overline{BIBO} \\iff IIR$ ?\n",
    "    -$AR \\iff IIR \\implies \\overline{BIBO}$ ?\n",
    "    -$\\overline{BIBO} \\implies IIR \\implies AR$ ?"
   ]
  },
  {
   "cell_type": "markdown",
   "id": "381461ef-14ac-4efa-9af0-f0c93c7400a8",
   "metadata": {},
   "source": [
    "## ARMA\n",
    "---\n",
    "\n",
    "<img src='../poly/tikz/arma_o1.png' width=\"400\" height=\"400\" style=\"background-color: orange\"> \n",
    "\n",
    " 1) Repérez le(s) bouclages(s) (AR) et les moyennes glissantes (MA) et décomposez le schéma bloc en séparant clairement MA puis AR.\n",
    " 2) Simplifiez la boucle (AR) avec les règles de Masson (Autom le fameux $BF(p) = \\frac{1}{1 + BO(p) }$) et obtenez un numérateur (en $z^{-1}$) pour le MA et un dénominateur pour AR. Trouvez la fonction de transfert $G(p)=MA(p).AR(p)$.\n",
    " 3) Trouvez la récurrence correspondate du système sous forme $y[k+1]= \\ldots y[k] + \\ldots x[\\ldots] \\ldots x[\\ldots]$ et vérifiez qu'elle correspond au schéma.\n",
    " 4) Concluez sur la stabilité à partir des pôles et zéros de $G(z)$.\n",
    " 5) Trouvez la réponse impulsionnelle en décomposant $G(z)$ en $MA(z)$ puis $AR(z)$ (pour la transofrmée inverse de $AR(z)$ on utilise le résultat de l'ex. AR précédent : ce qui revient à utiliser une table de transformée en Z).  \n",
    "    Par linéarité du système, trouvez $h$ comme la somme des réponses AR à une somme finie d'impulsions issue du MA(FIR)  \n",
    "    **N'oubliez pas que les systèmes sont causaux et qu'il faut donc utiliser par exemple $a^{k-1}u[k-1]$ pour annuler la réponse en $k<1$**\n",
    " 6) Vérifiez le résultat en faisant une division par les puissances croissantes de $z^{-1}$ de la fonction de transfert prise avec une entrée impulsionnelle. Vous vérifierez ainsi sur les quelques premiers termes que la réponse analytique du 5) fonctionne.\n",
    " 7) À partir de $h$ dites pourquoi le système est stable et causal (en phrases quantifiées d'abord et puis en booléen/prédicat)\n",
    " 8) Nous avons $G(z) = MA(z).AR(z) = AR(z).MA(z)$. Redessinez le schéma block en séparant d'**abord le AR** puis le MA. En permuttant le multiplieur avec le retard, regroupez les deux blocs mémoires pour n'en faire qu'un dont l'entrée sera $w[k+1]$ et la sortie $w[k]$. Vous obtenez ainsi la **forme Directe II** canonique (et optimale en termes de mémoires).\n",
    " 9) Donnez l'ordre de ce système et la récurrence sous forme de représentation d'état discrète avec pour vecteur d'état $W_k = {}^T\\![w[k], w[k-1], \\ldots]$ de taille adéquate :  \n",
    "  $$\\begin{eqnarray} W_{k+1} = A . W_k + B. x[k] \\\\ y[k] = C . W_k +  D. x[k]\\end{eqnarray}$$\n",
    "   "
   ]
  },
  {
   "cell_type": "code",
   "execution_count": null,
   "id": "61b9573b-9ca4-46a3-9b17-302f7c3e2eb3",
   "metadata": {},
   "outputs": [],
   "source": []
  }
 ],
 "metadata": {
  "kernelspec": {
   "display_name": "Python 3 (ipykernel)",
   "language": "python",
   "name": "python3"
  },
  "language_info": {
   "codemirror_mode": {
    "name": "ipython",
    "version": 3
   },
   "file_extension": ".py",
   "mimetype": "text/x-python",
   "name": "python",
   "nbconvert_exporter": "python",
   "pygments_lexer": "ipython3",
   "version": "3.10.1"
  }
 },
 "nbformat": 4,
 "nbformat_minor": 5
}
