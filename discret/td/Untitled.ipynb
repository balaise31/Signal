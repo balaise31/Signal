{
 "cells": [
  {
   "cell_type": "markdown",
   "id": "fa447070-9c51-49e2-a606-a1b2de636d67",
   "metadata": {
    "tags": []
   },
   "source": [
    "# Synthèse pa rla méthode de la réponse impulsionnelle\n"
   ]
  },
  {
   "cell_type": "code",
   "execution_count": 49,
   "id": "32f0296c-6eb5-476f-a2bf-05c661c48e55",
   "metadata": {},
   "outputs": [
    {
     "name": "stdout",
     "output_type": "stream",
     "text": [
      "Fc =  8000\n"
     ]
    },
    {
     "data": {
      "image/png": "[encoded data removed]",
      "text/plain": [
       "<IPython.core.display.Image object>"
      ]
     },
     "metadata": {},
     "output_type": "display_data"
    }
   ],
   "source": [
    "clear all;\n",
    "u = @(x) x >= 0 ;\n",
    "p = @(x,a,b) (x>=a).*(x<=b) ;\n",
    "Fe = 48e3;\n",
    "M = 3;\n",
    "B = Fe/M;\n",
    "Fc = B/2\n",
    "Hc =@(f) p(f,-Fc,+Fc);\n",
    "f=-2*Fe:1:2*Fe;\n",
    "plot(f,Hc(f),'b.'); box off;\n",
    "\n",
    "Htfsd = @(f) Hc(mod(f+Fe/2,Fe)-Fe/2);\n",
    "hold on;\n",
    "plot(f,Htfsd(f),'r');\n",
    "\n",
    "N=256;\n",
    "n=0:(N-1);\n",
    "fd = n*Fe/N;\n",
    "plot(fd,Htfsd(fd),'ro');"
   ]
  },
  {
   "cell_type": "code",
   "execution_count": 50,
   "id": "c62ad87c-8569-412d-8eca-b1c866ac426e",
   "metadata": {},
   "outputs": [
    {
     "data": {
      "image/png": "[encoded data removed]",
      "text/plain": [
       "<IPython.core.display.Image object>"
      ]
     },
     "metadata": {},
     "output_type": "display_data"
    }
   ],
   "source": [
    "Te=1/Fe;\n",
    "t=(0:length(f)-1)*Te;\n",
    "td = n*Te;\n",
    "plot(td,real(ifft(Htfsd(fd))));"
   ]
  },
  {
   "cell_type": "code",
   "execution_count": null,
   "id": "705b5102-88f9-44d9-8350-9c319810e4fb",
   "metadata": {},
   "outputs": [],
   "source": []
  },
  {
   "cell_type": "markdown",
   "id": "c260b06b-4505-4935-9325-7ce6ad85a5b0",
   "metadata": {},
   "source": [
    "# 2 - Méthode de la réponse impulsionnelle\n",
    "\n",
    "On désire réaliser un filtre coupe bas idéal de fréquence de coupure $\\tilde{f_c}$ directement en numérique par la méthode de la réponse impulsionnelle.\n",
    "\n",
    "Pour cela on procède en plusieurs étapes :\n",
    "  - a) Donner le transformée continue idéale du filtre voulu $\\hat{H}(f)$ **choisir $f_c$**\n",
    "  - b) En déduire la réponse impulsionnelle continue $t\\mapsto h(t)$\n",
    "  - c) Rendre $h$ à support borné (fenêtrage temporel) et causale (retard temporel) **choisir la largeur de fenêtre L** \n",
    "  - d) Échantillonner $h(t)$ pour obtenir une réponse impulsionnelle discrète finie $k\\mapsto h[k]$ **choisir le nombre de points N**\n",
    "  - e) On en déduit les coefficient $b_n$ du filtre FIR \n",
    "\n",
    "**Q1** Esquissez en échelle linéaire et en fréquence normalisée la TFSD d'un filtre passe-bas discret idéal de fréquence de coupure $\\tilde{f_c}$ : vous montrerez les périodes et symétries usuelles.\n",
    "\n",
    "**Q2** Esquissez en échelle linéaire et fréquences naturelles la TF d'un filtre passe bas idéal continu : vous montrerez les périodicités et symétries usuelles. \n"
   ]
  },
  {
   "cell_type": "markdown",
   "id": "96524c44-21e8-427c-b1ad-d257aceac602",
   "metadata": {},
   "source": [
    "## 2-A $h$ en continu\n",
    "\n",
    "On note $\\Pi_{[a, b]}(f)$ la fonction porte qui vaut 1 si $f\\in[a, b]$ et 0 sinon.\n",
    "\n",
    "Sans faire de calcul d'intégrale, utilisez la bi-dualité des transformées :\n",
    "\n",
    "$  \\dots \\overset{\\mathcal{F}}{\\longrightarrow} s(\\bullet) \\overset{\\mathcal{F}}{\\longrightarrow} \\hat{S}(\\bullet) \\overset{\\mathcal{F}}{\\longrightarrow} s(-\\bullet) \\overset{\\mathcal{F}}{\\longrightarrow} \\hat{S}(-\\bullet) \\overset{\\mathcal{F}}{\\longrightarrow} s(\\bullet) \\overset{\\mathcal{F}}{\\longrightarrow} \\dots $\n",
    "\n",
    "Sachant que la transformée de la porte est un sinus cardinal : $\\DeclareMathOperator{\\sinc}{sinc}$\n",
    "$\\mathcal{F}\\left\\{\\Pi_{[-a, a]}\\right\\}(f) = 2a.\\sinc(2\\pi.f.a)$\n",
    "> Pour s'en rapeller on part du calcul direct, **sans le faire,** $\\int\\limits_{-a}^{a}1.e^{i2\\pi.f t} dt$ et  \n",
    "> - se rapelle que les $e^{i2\\pi.f a} - e^{-i2\\pi.f a}$ donnent un sinus $\\sin(2\\pi.f a)$ \n",
    "> - se rapelle que le sinus cardinal $\\sinc(x)=\\frac{\\sin(x)}{x} \\underset{x\\to 0}{\\sim} \\frac{x}{x}=1 \\neq 0$\n",
    "> - se rapelle que $\\hat{S}(f=0)=<\\vec{s}, t\\mapsto 1>=$ surface algébrique de $s$ (qui vaut ici $2a$) pour terminer la formule\n",
    "\n",
    "**Q3** Trouvez la transformée inverse d'une porte fréquentielle $f\\mapsto\\Pi_{[-a; a]}(f)$ \n",
    "\n",
    "**Q4** Esquissez la réponse impulsionnelle $h$ du siltre continu idéal sur plusieurs pseudo-périodes du sinus cardinal. Indiquez cette période temporelle en fonction de la fréquence $f_c$"
   ]
  },
  {
   "cell_type": "markdown",
   "id": "3dcea56a-cf5c-4116-b0b8-8772092fb25f",
   "metadata": {},
   "source": [
    "## 2-B $h$ continue fenêtrée causale\n",
    "\n",
    "\n",
    "Et sachant qu'appliquer l'opérateur $H$ revient à faire une convolution dans le temps (somme des RIp)  mais aussi une multiplication des transfromées (multiplication des phaseurs) :  \n",
    "$ y=s\\star h \\overset{\\mathcal{F}}{\\longrightarrow} Y = \\hat{S}.\\hat{H}$ \n",
    "\n",
    "Sans faire de démonstration, utilisez la dualité suivante dans le cas où $h$ et $s$ sont paires :\n",
    "\n",
    "$  \\dots \\overset{\\mathcal{F}}{\\longrightarrow} s(\\bullet) \\overset{\\mathcal{F}}{\\longrightarrow} \\hat{S}(\\bullet) \\overset{\\mathcal{F}}{\\longrightarrow} s(\\bullet) \\overset{\\mathcal{F}}{\\longrightarrow} \\hat{S}(\\bullet) \\overset{\\mathcal{F}}{\\longrightarrow} s(\\bullet)  \\overset{\\mathcal{F}}{\\longrightarrow} \\dots $  \n",
    "\n",
    "Pour prolonger \n",
    "$  \\dots \\overset{\\mathcal{F}}{\\longrightarrow} s \\star h \\overset{\\mathcal{F}}{\\longrightarrow} \\hat{S}.\\hat{H} \\overset{\\mathcal{F}}{\\longrightarrow} \\dots $\n",
    "\n",
    "Pour trouver que le dual du théorème du filtrage et le théorème du fenêtrage temporel sont duaux.\n",
    "\n",
    "**Q5** Coupez le signal $h$ pour le rendre à support borné : **évitez les discontinuités !** On aura donc un nombre $M$ de pseudo périodes du sinus cardinal. Montrez que cela revient à multiplier $h$ par une fenêtre temporelle $t\\mapsto \\Pi[-L, L](t)$. On donnera la relation entre $L$, $M$ et $f_c$.\n",
    "\n",
    "**Q6** Il est dur de tracer ce que devient le spectre car il s'agit d'une convolution d'un rectangle par un sinuscardinal. Cela consiste à \"arrondir les angles du rectangle\" avec une forme de sinus cardinal. Donnez tout de même la période d'oscillation en fréquence de ce sinus cardinal en fonction de $L$ ou de $M$ et $f_c$. Vaut-il mieux agrandir la fenêtre avec M grand ou la réduire ?\n",
    "\n"
   ]
  },
  {
   "cell_type": "markdown",
   "id": "11729fa7-6e4d-4b87-b9ce-fac8691e4cb4",
   "metadata": {},
   "source": [
    "## 2-C h discrète \n",
    "\n",
    "Rappelez vous que le dual d'une SdF qui à un temporel périodique associe un fréquentiel est la TFSD qui...\n",
    "\n",
    "\n"
   ]
  },
  {
   "cell_type": "markdown",
   "id": "47b36d3d-736d-4aea-abdd-9664cd5cb616",
   "metadata": {
    "vscode": {
     "languageId": "json"
    }
   },
   "source": [
    "## Virgule fixe\n",
    "\n",
    ">    * voire  Si vous voulez être frugale et calculer avec des nombres entiers (float coûte cher sur un micro-contrôleur !), il faudra passer en échelle nano (on multiplie x et y par $10^{-9}$) :  \n",
    "> $10^9.y[k+1] = 10^9.y[k] + 10420 \\left(x[k+1] +x[k]\\right)$.  \n",
    "> inutile de multiplier $y$ par $10^{-9}$ à chaque fois, il suffit de noter que $x$ est en unité de base et que $y$ est en nano :  \n",
    "> $y_n[k+1] = y_n[k] + 1042 \\left(x[k+1] +x[k]\\right)$, avec $y_n=10^9.y$   \n",
    "> on est encore plus frugale en remplaçant la multiplication $\\times 10^9$ coûteuse par $\\times 2^{30}$ qui consiste à décaler le nombre de 30 bits. La constante devient $ 1,042.10^{-5}\\times2^{30} = 11188,389\\dots\\approx 11188$ on obtient alors :  \n",
    ">  $y_{30}[k+1] = y_{30}[k] + 11188 \\left(x[k+1] +x[k]\\right)$, avec $y_{30}=2^{30}.y$ soit `y<<30` en langage C  \n",
    "> La valeur $11188$ (se codant sur 13 bits) correspond au codage du nombre à virgule $0,00001042$ au format dit à virgule fixe 2.30 (pour un registre 32 bits contenant ce nombre dont seul les 13 derniers bits sont significatifs).\n",
    "> Si x occupe 12 bits sur 16 bits (valeur d'un ADC de résolution 12 bits stockée en 16 bits dans la ram), il faudra multiplier par le nombre $b$ occupants 13 bits stockés, le produit nécessite de stocker 12+13=25 bits significatifs dans un registre 32 bits au format vf2.30. \n",
    " "
   ]
  },
  {
   "cell_type": "code",
   "execution_count": null,
   "id": "cfa976f7-f6cc-43a9-a1df-4ed21b08f831",
   "metadata": {},
   "outputs": [],
   "source": []
  }
 ],
 "metadata": {
  "kernelspec": {
   "display_name": "Octave",
   "language": "octave",
   "name": "octave"
  },
  "language_info": {
   "file_extension": ".m",
   "help_links": [
    {
     "text": "GNU Octave",
     "url": "https://www.gnu.org/software/octave/support.html"
    },
    {
     "text": "Octave Kernel",
     "url": "https://github.com/Calysto/octave_kernel"
    },
    {
     "text": "MetaKernel Magics",
     "url": "https://metakernel.readthedocs.io/en/latest/source/README.html"
    }
   ],
   "mimetype": "text/x-octave",
   "name": "octave",
   "version": "4.2.2"
  }
 },
 "nbformat": 4,
 "nbformat_minor": 5
}
