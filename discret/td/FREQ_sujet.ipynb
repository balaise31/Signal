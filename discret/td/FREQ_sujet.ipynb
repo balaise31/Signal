{
 "cells": [
  {
   "cell_type": "markdown",
   "metadata": {},
   "source": [
    "# TFSD et TFD\n"
   ]
  },
  {
   "cell_type": "markdown",
   "metadata": {},
   "source": [
    "## Exercice 1 : TFSD, TFD analytique et matricielle"
   ]
  },
  {
   "cell_type": "markdown",
   "metadata": {},
   "source": [
    "### I - TFSD \n",
    "| Démarrer (vidéo/son) || Corriger (vidéo/papier) |\n",
    "|-----||------|\n",
    "| [TD1 exo 1](https://youtu.be/X5x6lBavL5M) || Un [corrigé par Lucas Marchant](./FREQ_corr/td1_exo1_corr.jpg) |\n",
    "\n",
    "Retrouvez la formule de la TFSD (qui va du discret vers le continu périodique) et appliquez-la pour le signal \"impulsion unité\", noté $\\delta[k]$, et qui joue le même rôle que l'impulsion de Dirac, notée $\\delta$ et par abus parfois $\\delta(t)$, en continu. Dans le cas où l'on a un signal électrique, en Volts et d'échantillons en fonctions du temps, donnez l'unité de la TFSD de :\n",
    "   - $\\delta[k]$\n",
    "   - $\\delta_l[k]=\\delta[k-l]$ avec $l\\in\\mathbb{N}$ représentant un retard de $l$ échantillons.\n",
    "\n",
    "**Vérifications manuelles** \n",
    " - Vérifiez bien que les arguments des exponentielles sont sans dimention, que l'on obtient bien une fonction $\\mathbb{R}\\mapsto\\mathbb{C}$, utilisez les [] pour ce qui est discret et () pour le continu ;\n",
    " - que la formule prise avec $l=0$ correspond au premier signal \n",
    " - prenez les equivalents en temps continus ($\\delta$ et $\\delta_l$ de Dirac) et utilisez la transformée de Laplace associée au théorème du retard.\n",
    " - Le signal est réel vérifiez que l'on a bien un spectre de Hilbert (réel pair et imaginaire impair)\n",
    "\n",
    "**Vérification assitée par Ordinateur**\n",
    "\n",
    " Allez voir dans ce notebook [td1_exo1_tfsd](./FREQ_code/exo1_tfsd.ipynb). Pour un début vous allez juste analyser et nommez les axes des figures (xlabel, ylabel) en donnant les unités.\n",
    "\n"
   ]
  },
  {
   "cell_type": "markdown",
   "metadata": {},
   "source": [
    "### II - TFD \n",
    "| Démarrer (vidéo/son) || Corriger (vidéo/papier) |\n",
    "|-----||------|\n",
    "| [Carrément le corrigé](https://youtu.be/WdEtgyNIC-k) || [Corrigé écrit](./FREQ_corr/td1_exo1_II_tfd_corr.pdf)  |\n",
    "\n",
    "De même, retrouvez la formule de la TFD (discret périodique vers discret périodique), et donnez la TFD des deux signaux précédents. Vous avez besoin pour cela d'un *nombre de points N = 4* $\\iff$ *fenêtre d'observation/période temporelle* $\\iff$ *fenêtre d'obervation/période fréquentielle*.\n",
    "Vous représenterez le signal temporel et son dual fréquentiel sur plusieurs de leur périodes, que vous indiquerez.\n",
    "On prendra l'habitude d'utiliser un indice k pour le temps et n pour les fréquences.\n",
    "\n",
    "**Vérifications manuelles**\n",
    "\n",
    " * idem fonction de $\\mathbb{Z}_N\\rightarrow \\mathbb{Z}_N$ (tout est suite numérique périodique), dimention des arguments de l'exponentielle, unités en [V]\n",
    " * la TFD est un échantillonnage **fréquentiel** de résolution $\\Delta_f=\\frac{F_e}{N}$\n",
    " * on peut aussi utiliser la transformation de Laplace que l'on vient échantillonner en temps $t=k\\,T_e$ et en fréquence $p=i\\,2\\pi\\,\\Delta_f\\,n$.\n",
    "\n",
    "**Vérification octave**\n",
    "\n",
    "L'algo efficace de TFD, nommé FFT, est implémenté par la fonction fft et la réciproque ifft.\n",
    "Allez dans [td1_exo1_tfd](./FREQ_code/exo1_tfd.ipynb) pour voir comment faire et nommer les axes en donnant les unitées."
   ]
  },
  {
   "cell_type": "markdown",
   "metadata": {},
   "source": [
    "### III -  TFD en matriciel\n",
    "\n",
    "\n",
    "Gardons l'exemple avec des suites de l'espace $E=\\mathbb{Z}_N\\rightarrow \\mathbb{C}$ (suite numérique complexes de période N/longueur N).\n",
    "\n",
    " - Utilisez les impulsions unitaires $x_l$ pour construire la base canonique $B_c$ de $E$ et donnez les coordonnées de $x_1$ et de la suite $(1,2,3,4,1,2,3,4,\\ldots)$ (la réponse est évidente !)\n",
    "\n",
    "La TFD est un changement de base de E dans E, et l'on souhaite écrire la matrice de cette application Identité $M=mat{(I_d,B_c,B_w)}$. Les vecteurs d'analyses $t\\mapsto e^{i\\,2\\pi\\,f\\,t}$ deviennent les vecteurs suites $\\vec{w_n}=k\\mapsto e^{i\\,\\frac{2\\pi}{N}k\\,n}=k\\mapsto W_N^{nk}$ avec $W_N = e^{i\\,\\frac{2\\pi}{N}}$ la racine Nième de l'unité. Les vecteurs $\\vec{w_n}$ de la base fréquentielle $B_w$ sont donc des suites géométriques de raison $W_N\\in\\mathbb{C}$ sur 4 points.\n",
    "  - représentez les vecteurs $\\vec{w_0}$ à $\\vec{w_3}$ dans la base $B_c$ sous forme de suites, et représentez-les aussi comme des valeurs $w_n[k]$ sur le cercle unité.\n",
    "  - un point de la TFD d'un signal s est alors calculé par $\\hat{S}[n] = <\\!<s,w_n>\\!>_p = {}^T\\!s_{B_c} . \\overline{w_n}_{B_c} =  \\underbrace{{}^T\\!\\overline{w_n}_{B_c}}_{M}.s_{B_c}  $ comme un produit scalaire matriciel.\n",
    "  - donnez alors la matrice M de l'application linéaire TFD en 4 points et calculez la TFD de $x_{B_c}=(1,-1,1,-1)_{B_c}$ sous forme d'un produit matriciel $M.x_{B_c}$\n",
    "  \n",
    "**vérifications manuelles**\n",
    " - la base est orthogonale et les vecteurs de la base sont de norme $\\sqrt {N}$ on doit donc avoir $M^T.M=N.Id$ (l'inverse d'une matrice orthogonale est sa transposée)\n",
    " - le signal $x$ est en fait la TFD de $\\delta[k-2]$ précédente. On peut calculer la transformée inverse et voir que l'on obtient bien le primal $\\delta[k-2]$. Pour calculer la transformée inverse, on peut retourner le signal $x[n]$ en $x[-n]$ (soit inverser l'ordre des valeurs de la suite SAUF le premier terme ! car signal périodique...) et calculer sa transformée (en matriciel). Comme les vecteurs ne sont pas normés il faut diviser par N, car $M^T.M=N.Id$ indique bient que transformer et appliquer la transofrmée inverse multipli par N.\n",
    " \n",
    " \n",
    "**VAO**\n",
    "\n",
    "Retournez dans la suite de [td1_exo1_tfd](./FREQ_code/exo1_tfd.ipynb) pour voir la magie matricielle opérer et se comparer avec l'algo. de FFT."
   ]
  },
  {
   "cell_type": "markdown",
   "metadata": {},
   "source": [
    "## Exercice 2 : Zero padding et élévation de fréquence\n",
    "\n",
    "### I - TFSD\n",
    "| Démarrer (vidéo/son) || Corriger (vidéo/papier) |\n",
    "|-----||------|\n",
    "| [td2_exo2_1 dualité](https://youtu.be/nQuzjxC9ur8) ||   [version classique par A. Boyer](./FREQ_corr/td1_exo2_I_corr.png)   et la [version Acco](./FREQ_corr/td1_exo2_1_corr.png)|\n",
    "\n",
    "Soit le signal : $e[k] = \\delta[k-1] + 2.\\delta[k]+ \\delta[k+1]$.\n",
    "\n",
    "   - 1) Représenter e[k] entre -5 et 5.\n",
    "\n",
    "   - 2) Calculer E(f), TFSD de e[k]. Tracer $|E(f)|$ dans l'intervalle ± Fe.\n",
    "\n",
    "#### Vérification\n",
    "\n",
    "En vectoriel chaque $\\delta$ symétriques en temps vont sélectionner deux ondes complexes conjuguées donc provoquer un cosinus et l'impulsion en 0 donne une composante continue... Dual de la TF de cos + CC !   \n",
    "\n",
    "### II - TFD en 3 et 5 points (zero padding)\n",
    "| Démarrer (vidéo/son) || Corriger (vidéo/papier) |\n",
    "|-----||------|\n",
    "| [td2_exo2_2 zero padding](https://youtu.be/SueqSGOjXGE) ||  [classique d'Alexandre](./FREQ_corr/td1_exo2_II_classique_corr.png)  et la [version matrice et shannon](./FREQ_corr/td1_exo2.pdf) |\n",
    "\n",
    "   - 3) Calculer $E_3[n]$, TFD à 3 points de $e[n]$. Tracer $e_3[k]$ sur l'intervalle -5, 5 et $E[n]$ dans l'intervalle $\\pm F_e$.\n",
    "\n",
    "   - 4) Calculer $E_5[n]$, TFD à 5 points de $e[n]$. Tracer $e_5[k]$ et $E_5[n]$ dans les même intervalles qu'au 3).\n",
    "\n",
    "#### Vérifications\n",
    "\n",
    "TFD en 3 points = échantillonnage fréquentiel en 3 points de la TFSD... En représentant la courbe continue de la TFSD et en divisant Fe par  3 on doit trouver les mêmes points.\n",
    "\n",
    "#### VAO\n",
    "Regardez dans [td1_exo2_tfsd](./FREQ_code/exo2_tfsd.ipynb) on utilise la résultat analytique de la TFSD du 2, que l'on échantillonne et on voit que le signal est périodique en utilisant ifft à 3 points puis 5points.\n",
    "\n",
    "\n"
   ]
  },
  {
   "cell_type": "markdown",
   "metadata": {},
   "source": [
    "### III - Elévation de fréquence d'échantillonnage\n",
    "\n",
    "| Démarrer (vidéo/son) || Corriger (vidéo/papier) |\n",
    "|-----||------|\n",
    "| [NOUVEAU élévation ](https://youtu.be/ri9Gg009U7w)  et [la partie conclusion](https://youtu.be/ri9Gg009U7w?t=610)  || [corrigé classique Alex.](./FREQ_corr/td1_exo2_III_classique_corr.png)  [corrigé 0xACC0](./FREQ_corr/td1_exo2_III_corr.png)|\n",
    "\n",
    "   - 5) On fait maintenant passer le signal $e[k]$, avec Te = 1/Fe, par un élévateur de fréquence d'échantillonnage (EFE), de rapport d'élévation R = 2 : le signal discret est donc échantilloné à la fréquence double et considéré nul partout ailleur.  Donc on insère des zéros entre chaque échantillons.\n",
    "   On considère alors un indice temporel $k'$ lié à la période d'échantillonage $\\frac{Te}{2}$ avec la relation $t=k\\,T_e=k'\\frac{Te}{2}$      \n",
    "   Soit y[k'] le signal de sortie de l'EFE. Tracer y[k']. Calculer Y(f), TFSD de y[k'], en fonction de f et de Fe.\n",
    "\n",
    "   - 6) En quelques phrases claires et brèves, conclure sur l'ensemble de ce travail.\n"
   ]
  },
  {
   "cell_type": "markdown",
   "metadata": {},
   "source": [
    "### IV - Conclusion de l'exo 2 :\n",
    "   * interpoler plus finement les fréquences <-> Rallonge la période du temporel en ajoutant des zeros en fin de période. **zero padding temporel**\n",
    "   *  Elever l'échantillonage temporel en insérant des zéros entre échantillons <-> Ne change pas le spectre (Fe périodique puis 2Fe periodique = pareil)\n",
    "  \n",
    "On ne rajoute pas d'information au signal. Mais le fréquentiel est plus lisible et plus lissé à voir...\n",
    "\n",
    "Allez voir dans [td1_exo2_tfsd](./FREQ_code/exo2_tfsd.ipynb) un exemple avec 10 fois plus d'échantillons et surtout :\n",
    "Qu'en serait-il du dual de ces opérations ?\n",
    "   * interpoler plus finement le temporel <->  ???\n",
    "   * Elever l'échantillonnage fréquentiel en insérant des zeros entre échantillons <-> ???\n",
    "   "
   ]
  },
  {
   "cell_type": "markdown",
   "metadata": {},
   "source": [
    "## Exercice 3 : Echantillonage et fenêtrage\n",
    "| Démarrer (vidéo/son) || Corriger (vidéo/papier) |\n",
    "|-----||------|\n",
    "| [td2_exo3_fenêtrage temporel](https://youtu.be/EZCAfUPVtjQ) ||  [NEW Vidéo corrigé](https://youtu.be/gFy-UGYgVPU)  et le document [corrigé 0xACC0](./FREQ_corr/td1_exo3.pdf) |\n",
    "\n",
    "\n",
    "Un signal analogique x, purement sinusoïdal de fréquence F = 60 Hz, est échantillonné au rythme de 500 échantillons par seconde. Après conversion analogique-numérique, il est analysé avec une FFT à 64 points.\n",
    "\n",
    "   - 1) Quelle est la valeur de la fréquence Fe d’échantillonnage ?\n",
    "\n",
    "   - 2) Quelle est la valeur de la période Te d’échantillonnage ?\n",
    "\n",
    "   - 3) Quelle est la valeur de la période T du signal analogique ?\n",
    "\n",
    "   - 4) Quels sont les rangs (<=> valeurs de n) correspondant aux valeurs les plus élevées du module de la FFT du signal analogique, pour un tracé de spectre où 0 ≤ kn≤ 64 ? Pour cela modélisez le signal comme un sinus infini multiplié par une fonction porte d'observation sur $[0, N\\,T_e[$ et donnez sa transformée de Fourier. Puis représentez l'échantillonage comme la multiplication temporelle par un peigne de Dirac. Donnez sa transformée et la transformée du produit temporeml des deux.\n",
    "\n",
    "   - 5) Quelle nouvelle fréquence Fe ’ d’échantillonnage éliminerait les problèmes associés au fenêtrage (troncature temporelle) ? On proposera la valeur la plus proche de celle trouvée en 1). \n",
    "   \n",
    "#### VAO\n",
    "\n",
    "On ira voir dans [td1_exo3](./FREQ_corr/exo3.ipynb) le résultat et on y essaira la valeur proposée en 5)."
   ]
  },
  {
   "cell_type": "code",
   "execution_count": null,
   "metadata": {},
   "outputs": [],
   "source": []
  }
 ],
 "metadata": {
  "kernelspec": {
   "display_name": "Octave",
   "language": "octave",
   "name": "octave"
  },
  "language_info": {
   "file_extension": ".m",
   "help_links": [
    {
     "text": "GNU Octave",
     "url": "https://www.gnu.org/software/octave/support.html"
    },
    {
     "text": "Octave Kernel",
     "url": "https://github.com/Calysto/octave_kernel"
    },
    {
     "text": "MetaKernel Magics",
     "url": "https://metakernel.readthedocs.io/en/latest/source/README.html"
    }
   ],
   "mimetype": "text/x-octave",
   "name": "octave",
   "version": "4.2.2"
  },
  "latex_envs": {
   "LaTeX_envs_menu_present": true,
   "autoclose": false,
   "autocomplete": true,
   "bibliofile": "biblio.bib",
   "cite_by": "apalike",
   "current_citInitial": 1,
   "eqLabelWithNumbers": true,
   "eqNumInitial": 1,
   "hotkeys": {
    "equation": "Ctrl-E",
    "itemize": "Ctrl-I"
   },
   "labels_anchors": false,
   "latex_user_defs": false,
   "report_style_numbering": false,
   "user_envs_cfg": false
  }
 },
 "nbformat": 4,
 "nbformat_minor": 4
}
