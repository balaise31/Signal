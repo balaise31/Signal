{
 "cells": [
  {
   "cell_type": "markdown",
   "id": "a12358ce-56e2-46bb-a16e-6fe2c7587125",
   "metadata": {
    "tags": []
   },
   "source": [
    "# Déroulé des TDs\n",
    "---\n",
    "\n",
    "\n",
    "\n",
    "\n",
    "\n"
   ]
  },
  {
   "cell_type": "markdown",
   "id": "4e801769-ec95-42f5-a3af-9953781fc675",
   "metadata": {
    "tags": []
   },
   "source": [
    "## SYStèmes : 2,5 séances\n",
    "---\n",
    "\n",
    "\n",
    "Séance | Exercices MIC |  Exercices IMACS   |  Corrigés \n",
    "-------|:-----------|:-----------------|---------------:\n",
    "#1,2  |[poly Systèmes-II](https://moodle.insa-toulouse.fr/mod/resource/view.php?id=14994#page=43) | [SYS-MA](./SYS.ipynb#II---MA)| [SYS-MA corrigé](./td2_systemes_discrets/TD_MA_profs.pdf)\n",
    "#2,3  |[poly Filtres-IV](https://moodle.insa-toulouse.fr/mod/resource/view.php?id=14994#page=44) | [SYS-AR](./SYS.ipynb#IV---AR)| [SYS-AR corrigé](./td2_systemes_discrets/TD_AR.pdf)\n",
    "#3,4 |[poly Systèmes-I](https://moodle.insa-toulouse.fr/mod/resource/view.php?id=14994#page=43) | [SYS-ARMA](./SYS.ipynb#I---ARMA) | [SYS-ARMA corrigé](./td2_systemes_discrets/TD_ARMA.pdf)\n",
    "| Bonus exos [poly Filtres-II](https://moodle.insa-toulouse.fr/mod/resource/view.php?id=14994#page=43) | Libre| \n",
    "\n",
    "\n"
   ]
  },
  {
   "cell_type": "markdown",
   "id": "6be4b7c4-00cb-4071-bd78-42697fcd7ea5",
   "metadata": {},
   "source": [
    "## SYNTHèse : 1 séance + 1TP\n",
    "---\n",
    "  \n",
    "Séance | Exercice IMACS   |  Corrigé        |   TP associé au TD \n",
    "-------|:-----------------|:----------------|:----------------------:\n",
    "#4,5   | [SYNTH bilinéaire](SYNTH.ipynb) | [Corrigé SYNTH bilinéaire](./td2_systemes_discrets/synth_bilineaire.pdf) | [TP bilinéaire ordre 1](../tp/TP_bilineaire_ordre1.ipynb) (corrigé inclus)\n",
    "\n",
    "\n",
    "Pour exécuter le code du [TP bilinéaire ordre 1](../tp/TP_bilineaire_ordre1.ipynb) associé à ce TD il faut :\n",
    "  - Aller sur [monTP.insa-toulouse.fr](https://github.com/balaise31/Signal/blob/main/installation/README.md#monTP-INSA-virtuel) \n",
    "  - exécuter la [ligne de commande pour les 3IMACS](https://github.com/balaise31/Signal/blob/main/installation/README.md#pour-les-3imacs) dans un terminal.\n",
    "  \n",
    "\n",
    "    \n",
    "    \n",
    "La partie \"prewarp\" du TD est en option, ce sera plus facile de la comprendre pendant le TP.\n",
    "\n",
    "\n",
    "\n",
    "    \n",
    "\n",
    "\n",
    "\n",
    "\n",
    "\n",
    "\n",
    "\n"
   ]
  },
  {
   "cell_type": "markdown",
   "id": "2c6921a9-8947-48f7-92a0-38340edfae21",
   "metadata": {},
   "source": [
    "## Fréquentiel TFSD et TFD : En 2,5 séances\n",
    "---\n",
    "\n",
    "Séance | Exercices MIC |  Exercices IMACS    |  Notebooks \n",
    "-------|:-----------|:-----------------|---------------:\n",
    "#5     |[poly TFSD-I](https://moodle.insa-toulouse.fr/mod/resource/view.php?id=14994#page=42) | [TFSD-I](./TFSD.ipynb#I---TFSD)| [Exo 1 TFSD octave](./FREQ_code/exo1_tfsd_octave.ipynb) et [Exo I TFSD python](./FREQ_code/exo1_tfsd.ipynb) (avec corrigés)\n",
    "#5     | En plus TFD du I | [I Bonus TFD](./TFSD.ipynb#I---bonus-TFD)|  |\n",
    "#5,6   | [poly TFSD-II](https://moodle.insa-toulouse.fr/mod/resource/view.php?id=14994#page=42) | [TFSD-II](./TFSD.ipynb#Exercice-2-:-Zero-padding)| [Exo2 tfsd octave](./FREQ_code/exo2_tfsd.ipynb)\n",
    "#5,6     | En plus TFD matriciel du I| [I bonus TFD matricielle](./TFSD.ipynb#I---bonus-TFD-matricielle)|[Exo 1 TFD octave](./FREQ_code/exo1_tfd_octave.ipynb) et [Exo I TFD python](./FREQ_code/exo1_tfd.ipynb) (avec corrigés)\n",
    "#5,6     | [poly TFSD-III](https://moodle.insa-toulouse.fr/mod/resource/view.php?id=14994#page=42)|[TFSD-III](TFSD.ipynb#Exercice-3-:-Echantillonage-et-fen%C3%AAtrage) | [Exo 3](./FREQ_code/exo3.ipynb) (avec corrigés)"
   ]
  },
  {
   "cell_type": "markdown",
   "id": "e9a6aa7e-7409-4553-89b0-d97e5295a229",
   "metadata": {},
   "source": [
    "---\n",
    "## Pour s'entrainer ou aller plus loin\n",
    "---\n",
    "\n",
    "\n",
    "\n",
    "### Notebooks de TPs\n",
    "\n",
    "ALLEZ VOIR LES SUJETS DE TP avec le [README du TP](../tp/README.ipynb) !\n",
    "\n",
    "Beaucoups de sujets avec corrigés qui ne seront pas fait en séance (options)\n",
    "\n",
    "### Allez chez les MICS\n",
    "\n",
    "<li>TD3 Filtres : Sujet dans  le <a href=\"https://moodle.insa-toulouse.fr/mod/resource/view.php?id=14994\" <span> poly Dilhac page 43 à 45 </span></a></li>\n",
    "    <ol>\n",
    "        <li>Exo I s'aider de la fin de <a href=\"https://youtu.be/TjNE5sKsKRM\" target=\"_blank\"><span>la récurrence à la réponse impulsionnelle (IIR)</span></a><span> ou de poly Dilhac p27-28</span></li>\n",
    "        <li><span>Exo II facile ! La réponse harmonique (ou fréquentielle) s'obtient p29 à partir de la transformée en Z (voir <a href=\"https://youtu.be/vaGALhd2ohM\" target=\"_blank\"><span class=\"nolink\">de la fonction de transfert à la réponse harmonique</span></a>), ou en faisant la TFSD de h !<br></span></li>\n",
    "        <li><span>Exo III Facile ! on voit qu'il s'agit de la moyenne glissante sur 4 échantillons au final. <br>A mettre en relation avec l'exo V : comment faire une moyenne glissante sur 1024 échantillons (FIR ordre 1024) au prix d'une simple récurrence d'ordre 1 (IIR à 1 coefficient mais avec un buffer de mémoire de 1024 soit)</span></li>\n",
    "    </ol>\n",
    "    <li><span>TD4 Synthèse : préparation au TP.</span></li>\n",
    "    <ol>\n",
    "        <li><span>Faire l'exo 2.1 du poly live</span></li>\n",
    "        <li><span>Revoir <span> <a href=\"https://youtu.be/vaGALhd2ohM\" target=\"_blank\"><span>de la fonction de transfert à la réponse harmonique</span></a></span> ou plutôt&nbsp; bien voir l'<a href=\"https://youtu.be/xHIdLHOoUe4\" target=\"_blank\"><span class=\"nolink\">exemple de l'intégrateur trapézoïdal</span></a><span class=\"nolink\"> </span><br></span></li>\n",
    "        <li><span>Répondre aux questions et analyser le code du <a href=\"http://notebook de préparation au tp\" target=\"_blank\"><span class=\"nolink\">notebook de préparation au tp</span></a> (version pdf )<br></span></li>\n",
    "    </ol>\n",
    "</ol>"
   ]
  },
  {
   "cell_type": "code",
   "execution_count": null,
   "id": "de2459e1-9d65-45c1-a46e-2944c66bc4d3",
   "metadata": {},
   "outputs": [],
   "source": []
  }
 ],
 "metadata": {
  "kernelspec": {
   "display_name": "Python 3",
   "language": "python",
   "name": "python3"
  },
  "language_info": {
   "codemirror_mode": {
    "name": "ipython",
    "version": 3
   },
   "file_extension": ".py",
   "mimetype": "text/x-python",
   "name": "python",
   "nbconvert_exporter": "python",
   "pygments_lexer": "ipython3",
   "version": "3.6.9"
  }
 },
 "nbformat": 4,
 "nbformat_minor": 5
}
