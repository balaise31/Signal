{
 "cells": [
  {
   "cell_type": "markdown",
   "id": "a12358ce-56e2-46bb-a16e-6fe2c7587125",
   "metadata": {},
   "source": [
    "# Déroulé des TDs\n",
    "---\n",
    "\n",
    "\n",
    "\n",
    "## FREQ : En 2,5 séances\n",
    " - [Exo1-I](./FREQ_sujet.ipynb#I---TFSD) TFSD d'impulsions \n",
    " - [Exo1-II](./FREQ_sujet.ipynb#II---TFD) TFD d'impulsions \n",
    " - [Exo1-II](./FREQ_sujet.ipynb#III----TFD-en-matriciel) TFD en matriciel\n",
    " - [Exo2](./FREQ_sujet.ipynb#Exercice-2-:-Zero-padding-et-élévation-de-fréquence) Zero-padding\n",
    " - [Exo3](./FREQ_sujet.ipynb#Exercice-3-:-Echantillonage-et-fenêtrage) Echantillonnage et Fenêtrage\n",
    "\n",
    "## SYS : 2 séances\n",
    "\n",
    " <li>TD2 systèmes discrets : poly Dilhac page 43.</li>\n",
    "    <ol>\n",
    "        <li>Regarder la vidéo <a href=\"https://youtu.be/9Q0f8Ltj0Y4\" target=\"_blank\"><span class=\"nolink\">des systèmes continus aux systèmes discrets</span></a></li>\n",
    "        <li>Faire l'exo II ou tenter sans la réponse impulsionnelle</li>\n",
    "        <li>Vérifier avec <a href=\"https://youtu.be/QRiAfbWLMw8\" target=\"_blank\"><span class=\"nolink\">du schéma bloc à la fonction de transfert en passant par la récurrence</span></a></li>\n",
    "        <li><span class=\"nolink\">Regarder la vidéo de</span> <a href=\"https://youtu.be/sKBlBBVbRWw\" target=\"_blank\"><span class=\"\">la récurrence à la réponse impulsionnelle (FIR)</span></a><span class=\"\"> <br></span></li>\n",
    "        <li><span class=\"\">Terminer l'exo II</span></li>\n",
    "        <li><span class=\"\">Faire l'exo I sans la réponse impulsionnelle<br></span></li>\n",
    "        <li><span>Regarder la vidéo de</span> <a href=\"https://youtu.be/TjNE5sKsKRM\" target=\"_blank\"><span class=\"nolink\">la récurrence à la réponse impulsionnelle (IIR)</span></a><span></span><span></span></li>\n",
    "        <li><span class=\"nolink\"></span>Terminer l'exo I</li>\n",
    "        <li>Regarder la vidéo de la <a href=\"https://youtu.be/_Mrx9QQ-z5o\" target=\"_blank\"><span class=\"nolink\">transformée en Z à la réponse impulsionnelle</span></a><span class=\"\">&nbsp; pour la suite et vérifier les Rip précédentes.</span><br></li>\n",
    "    </ol>\n",
    "    <li>TD3 Filtres : analyse poly Dilhac page 43 à 45</li>\n",
    "    <ol>\n",
    "        <li>Exo I s'aider de la fin de <a href=\"https://youtu.be/TjNE5sKsKRM\" target=\"_blank\"><span>la récurrence à la réponse impulsionnelle (IIR)</span></a><span> ou de poly Dilhac p27-28</span></li>\n",
    "        <li><span>Exo II facile ! La réponse harmonique (ou fréquentielle) s'obtient p29 à partir de la transformée en Z (voir <a href=\"https://youtu.be/vaGALhd2ohM\" target=\"_blank\"><span class=\"nolink\">de la fonction de transfert à la réponse harmonique</span></a>), ou en faisant la TFSD de h !<br></span></li>\n",
    "        <li><span>Exo III Facile ! on voit qu'il s'agit de la moyenne glissante sur 4 échantillons au final. <br>A mettre en relation avec l'exo V : comment faire une moyenne glissante sur 1024 échantillons (FIR ordre 1024) au prix d'une simple récurrence d'ordre 1 (IIR à 1 coefficient mais avec un buffer de mémoire de 1024 soit)</span></li>\n",
    "    </ol>\n",
    "    <li><span>TD4 Synthèse : préparation au TP.</span></li>\n",
    "    <ol>\n",
    "        <li><span>Faire l'exo 2.1 du poly live</span></li>\n",
    "        <li><span>Revoir <span> <a href=\"https://youtu.be/vaGALhd2ohM\" target=\"_blank\"><span>de la fonction de transfert à la réponse harmonique</span></a></span> ou plutôt&nbsp; bien voir l'<a href=\"https://youtu.be/xHIdLHOoUe4\" target=\"_blank\"><span class=\"nolink\">exemple de l'intégrateur trapézoïdal</span></a><span class=\"nolink\"> </span><br></span></li>\n",
    "        <li><span>Répondre aux questions et analyser le code du <a href=\"http://notebook de préparation au tp\" target=\"_blank\"><span class=\"nolink\">notebook de préparation au tp</span></a> (version pdf )<br></span></li>\n",
    "    </ol>\n",
    "</ol>"
   ]
  },
  {
   "cell_type": "code",
   "execution_count": null,
   "id": "3dd4aecc-8a8a-464b-bd2f-41c3eee705eb",
   "metadata": {},
   "outputs": [],
   "source": []
  }
 ],
 "metadata": {
  "kernelspec": {
   "display_name": "",
   "name": ""
  },
  "language_info": {
   "name": ""
  }
 },
 "nbformat": 4,
 "nbformat_minor": 5
}
