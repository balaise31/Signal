{
 "cells": [
  {
   "cell_type": "markdown",
   "id": "a12358ce-56e2-46bb-a16e-6fe2c7587125",
   "metadata": {
    "tags": []
   },
   "source": [
    "# Déroulé des TDs\n",
    "---\n",
    "\n",
    "\n",
    "\n",
    "\n",
    "## Fréquentiel TFSD et TFD : En 2,5 séances\n",
    "---\n",
    "\n",
    "Séance | Exercices |  Déroulement    |  Notebooks \n",
    "-------|:-----------|:-----------------|---------------:\n",
    "#1     |[poly TFSD-I](https://moodle.insa-toulouse.fr/mod/resource/view.php?id=14994#page=42) | [TFSD-I](./TFSD.ipynb#I---TFSD)| [Exo 1 TFSD octave](./FREQ_code/exo1_tfsd_octave.ipynb) et [Exo I TFSD python](./FREQ_code/exo1_tfsd.ipynb) (avec corrigés)\n",
    "#1     | En plus TFD du I | [I Bonus TFD](./TFSD.ipynb#I---bonus-TFD)|  |\n",
    "#1,2   | [poly TFSD-II](https://moodle.insa-toulouse.fr/mod/resource/view.php?id=14994#page=42) | [TFSD-II](./TFSD.ipynb#Exercice-2-:-Zero-padding)| [Exo2 tfsd octave](./FREQ_code/exo2_tfsd.ipynb)\n",
    "#2,2     | En plus TFD matriciel du I| [I bonus TFD matricielle](./TFSD.ipynb#I---bonus-TFD-matricielle)|[Exo 1 TFD octave](./FREQ_code/exo1_tfd_octave.ipynb) et [Exo I TFD python](./FREQ_code/exo1_tfd.ipynb) (avec corrigés)\n",
    "#2,3     | [poly TFSD-III](https://moodle.insa-toulouse.fr/mod/resource/view.php?id=14994#page=42)|[TFSD-III](TFSD.ipynb#Exercice-3-:-Echantillonage-et-fen%C3%AAtrage) | [Exo 3](./FREQ_code/exo3.ipynb) (avec corrigés)\n"
   ]
  },
  {
   "cell_type": "markdown",
   "id": "ea0a2bfb-023c-43b3-bdd0-aa2f76d1d482",
   "metadata": {},
   "source": [
    "## SYS : 2,5 séances\n",
    "\n",
    "Collez vraiment aux sujets des Exercices,  \n",
    "**il n'est pas nécessaire de suivre les déroulements** qui sont plus détaillés et un peu (trop ?) compliqués.\n",
    "\n",
    "\n",
    "Séance | Exercices |  Déroulement (optionnel)   |  Notebooks \n",
    "-------|:-----------|:-----------------|---------------:\n",
    "#3 ,4  |[poly Systèmes-II](https://moodle.insa-toulouse.fr/mod/resource/view.php?id=14994#page=43) | [SYS-MA](./SYS.ipynb#II---MA)| \n",
    "#3, 4  |[poly Filtres-IV](https://moodle.insa-toulouse.fr/mod/resource/view.php?id=14994#page=44) | [SYS-AR](./SYS.ipynb#IV---AR)|\n",
    "#4, 5  |[poly Systèmes-I](https://moodle.insa-toulouse.fr/mod/resource/view.php?id=14994#page=43) | [SYS-ARMA](./SYS.ipynb#I---ARMA)|\n",
    "#5     | Bonus exos [poly Filtres-II](https://moodle.insa-toulouse.fr/mod/resource/view.php?id=14994#page=43) | Libre| \n",
    "\n",
    "\n"
   ]
  },
  {
   "cell_type": "markdown",
   "id": "7af76ed9-ea74-46f7-84e9-48917571e5c9",
   "metadata": {},
   "source": [
    "## SYNTH : 1 séances\n",
    "\n",
    " Le sujet à faire forcément avant le TP est celui là.\n",
    "  \n",
    "Séance | Exercices |  Déroulement (optionnel)   |  Notebooks \n",
    "-------|:-----------|:-----------------|---------------:\n",
    "#6     |           |  [SYNTH bilinéaire](SYNTH.ipynb) | \n",
    "\n",
    "    \n",
    "\n",
    "\n",
    "\n",
    "\n",
    "\n",
    "\n",
    "\n"
   ]
  },
  {
   "cell_type": "markdown",
   "id": "e9a6aa7e-7409-4553-89b0-d97e5295a229",
   "metadata": {},
   "source": [
    "## Pour s'entrainer\n",
    "\n",
    "<li>TD3 Filtres : Sujet dans  le <a href=\"https://moodle.insa-toulouse.fr/mod/resource/view.php?id=14994\" <span> poly Dilhac page 43 à 45 </span></a></li>\n",
    "    <ol>\n",
    "        <li>Exo I s'aider de la fin de <a href=\"https://youtu.be/TjNE5sKsKRM\" target=\"_blank\"><span>la récurrence à la réponse impulsionnelle (IIR)</span></a><span> ou de poly Dilhac p27-28</span></li>\n",
    "        <li><span>Exo II facile ! La réponse harmonique (ou fréquentielle) s'obtient p29 à partir de la transformée en Z (voir <a href=\"https://youtu.be/vaGALhd2ohM\" target=\"_blank\"><span class=\"nolink\">de la fonction de transfert à la réponse harmonique</span></a>), ou en faisant la TFSD de h !<br></span></li>\n",
    "        <li><span>Exo III Facile ! on voit qu'il s'agit de la moyenne glissante sur 4 échantillons au final. <br>A mettre en relation avec l'exo V : comment faire une moyenne glissante sur 1024 échantillons (FIR ordre 1024) au prix d'une simple récurrence d'ordre 1 (IIR à 1 coefficient mais avec un buffer de mémoire de 1024 soit)</span></li>\n",
    "    </ol>\n",
    "    <li><span>TD4 Synthèse : préparation au TP.</span></li>\n",
    "    <ol>\n",
    "        <li><span>Faire l'exo 2.1 du poly live</span></li>\n",
    "        <li><span>Revoir <span> <a href=\"https://youtu.be/vaGALhd2ohM\" target=\"_blank\"><span>de la fonction de transfert à la réponse harmonique</span></a></span> ou plutôt&nbsp; bien voir l'<a href=\"https://youtu.be/xHIdLHOoUe4\" target=\"_blank\"><span class=\"nolink\">exemple de l'intégrateur trapézoïdal</span></a><span class=\"nolink\"> </span><br></span></li>\n",
    "        <li><span>Répondre aux questions et analyser le code du <a href=\"http://notebook de préparation au tp\" target=\"_blank\"><span class=\"nolink\">notebook de préparation au tp</span></a> (version pdf )<br></span></li>\n",
    "    </ol>\n",
    "</ol>"
   ]
  },
  {
   "cell_type": "code",
   "execution_count": null,
   "id": "de2459e1-9d65-45c1-a46e-2944c66bc4d3",
   "metadata": {},
   "outputs": [],
   "source": []
  }
 ],
 "metadata": {
  "kernelspec": {
   "display_name": "Python 3 (ipykernel)",
   "language": "python",
   "name": "python3"
  },
  "language_info": {
   "codemirror_mode": {
    "name": "ipython",
    "version": 3
   },
   "file_extension": ".py",
   "mimetype": "text/x-python",
   "name": "python",
   "nbconvert_exporter": "python",
   "pygments_lexer": "ipython3",
   "version": "3.10.6"
  }
 },
 "nbformat": 4,
 "nbformat_minor": 5
}
