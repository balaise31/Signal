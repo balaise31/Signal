{
 "cells": [
  {
   "cell_type": "markdown",
   "id": "a12358ce-56e2-46bb-a16e-6fe2c7587125",
   "metadata": {},
   "source": [
    "# Déroulé des TDs\n",
    "---\n",
    "\n",
    "\n",
    "\n",
    "## FREQ : En 2,5 séances\n",
    " - [Exo1-I](./FREQ_sujet.ipynb#I---TFSD) TFSD d'impulsions \n",
    " - [Exo1-II](./FREQ_sujet.ipynb#II---TFD) TFD d'impulsions \n",
    " - [Exo1-II](./FREQ_sujet.ipynb#III----TFD-en-matriciel) TFD en matriciel\n",
    " - [Exo2](./FREQ_sujet.ipynb#Exercice-2-:-Zero-padding-et-élévation-de-fréquence) Zero-padding\n",
    " - [Exo3](./FREQ_sujet.ipynb#Exercice-3-:-Echantillonage-et-fenêtrage) Echantillonnage et Fenêtrage\n",
    "\n",
    "## SYS : 1 séance\n",
    " - [Exo- MA](./SYS_sujet.ipynb#MA---Mooving-Average) moyennes glissantes MA et filtre FIR\n",
    " - [Exo- MA](./SYS_sujet.ipynb#AR---Auto-Regressive) boucle pure AR (AutoRegressive) et filtre IIR\n",
    " - [Exo- ARMA](./SYS_sujet.ipynb#ARMA) combinaison MAAR et ARMA optimale (FIR ou IIR) \n",
    "\n",
    "## FILT : 2 séances\n",
    "<li>TD3 Filtres : analyse poly Dilhac page 43 à 45</li>\n",
    "    <ol>\n",
    "        <li>Exo I s'aider de la fin de <a href=\"https://youtu.be/TjNE5sKsKRM\" target=\"_blank\"><span>la récurrence à la réponse impulsionnelle (IIR)</span></a><span> ou de poly Dilhac p27-28</span></li>\n",
    "        <li><span>Exo II facile ! La réponse harmonique (ou fréquentielle) s'obtient p29 à partir de la transformée en Z (voir <a href=\"https://youtu.be/vaGALhd2ohM\" target=\"_blank\"><span class=\"nolink\">de la fonction de transfert à la réponse harmonique</span></a>), ou en faisant la TFSD de h !<br></span></li>\n",
    "        <li><span>Exo III Facile ! on voit qu'il s'agit de la moyenne glissante sur 4 échantillons au final. <br>A mettre en relation avec l'exo V : comment faire une moyenne glissante sur 1024 échantillons (FIR ordre 1024) au prix d'une simple récurrence d'ordre 1 (IIR à 1 coefficient mais avec un buffer de mémoire de 1024 soit)</span></li>\n",
    "    </ol>\n",
    "    <li><span>TD4 Synthèse : préparation au TP.</span></li>\n",
    "    <ol>\n",
    "        <li><span>Faire l'exo 2.1 du poly live</span></li>\n",
    "        <li><span>Revoir <span> <a href=\"https://youtu.be/vaGALhd2ohM\" target=\"_blank\"><span>de la fonction de transfert à la réponse harmonique</span></a></span> ou plutôt&nbsp; bien voir l'<a href=\"https://youtu.be/xHIdLHOoUe4\" target=\"_blank\"><span class=\"nolink\">exemple de l'intégrateur trapézoïdal</span></a><span class=\"nolink\"> </span><br></span></li>\n",
    "        <li><span>Répondre aux questions et analyser le code du <a href=\"http://notebook de préparation au tp\" target=\"_blank\"><span class=\"nolink\">notebook de préparation au tp</span></a> (version pdf )<br></span></li>\n",
    "    </ol>\n",
    "</ol>"
   ]
  },
  {
   "cell_type": "code",
   "execution_count": null,
   "id": "3dd4aecc-8a8a-464b-bd2f-41c3eee705eb",
   "metadata": {},
   "outputs": [],
   "source": []
  }
 ],
 "metadata": {
  "kernelspec": {
   "display_name": "Python 3 (ipykernel)",
   "language": "python",
   "name": "python3"
  },
  "language_info": {
   "codemirror_mode": {
    "name": "ipython",
    "version": 3
   },
   "file_extension": ".py",
   "mimetype": "text/x-python",
   "name": "python",
   "nbconvert_exporter": "python",
   "pygments_lexer": "ipython3",
   "version": "3.10.1"
  }
 },
 "nbformat": 4,
 "nbformat_minor": 5
}
