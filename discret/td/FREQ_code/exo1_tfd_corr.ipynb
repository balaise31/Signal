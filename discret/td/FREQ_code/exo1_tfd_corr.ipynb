{
 "cells": [
  {
   "cell_type": "markdown",
   "id": "changing-skating",
   "metadata": {},
   "source": [
    "# CODE TD1 exo 1 sur la TFD (Octave)\n",
    "----\n",
    "\n",
    "\n",
    "Là tout est simple car tout est discret et N périodique :\n",
    "\n",
    "- $t= k T_e$  avec N points\n",
    "- $f=k\\Delta_f$ avec N points dans $[0, F_e [$ ouvert à droite !!!\n",
    "\n",
    "Faisons un essais avec un TFD à 4 points. On peut utiliser l'algo FFT de calcul rapide de TFD d'octave/matlab..."
   ]
  },
  {
   "cell_type": "code",
   "execution_count": 7,
   "id": "operational-steal",
   "metadata": {
    "tags": []
   },
   "outputs": [
    {
     "name": "stdout",
     "output_type": "stream",
     "text": [
      "t =\n",
      "\n",
      "    0.000000    0.010000    0.020000    0.030000\n",
      "\n",
      "f =\n",
      "\n",
      "    0   25   50   75\n",
      "\n"
     ]
    },
    {
     "data": {
      "image/png": "[encoded data removed]",
      "text/plain": [
       "<IPython.core.display.Image object>"
      ]
     },
     "metadata": {},
     "output_type": "display_data"
    }
   ],
   "source": [
    "clear all;\n",
    "close all;\n",
    "\n",
    "N=4;\n",
    "Fe=100; Te = 1/Fe;\n",
    "%% VOTRE CODE : k= ? et t= ?\n",
    "% déclarant un vecteur ligne k du segment entier [[0, 4[[ \n",
    "% le vecteur temps correspondant\n",
    "\n",
    "k=(1:N)-1;   %astuce pour faire un vecteur de 0 à ?? avec N points...\n",
    "t=k*Te \n",
    "\n",
    "\n",
    "%% VOTRE CODE : n= ? et f= Df=?\n",
    "% déclarant un vecteur ligne n du segment entier [[0, 4[[ \n",
    "% le vecteur des 4 fréquences de [0 ; Fe[ <- semi ouvert ! \n",
    "% fréquences espacées de Df (la résolution fréquencielle ou le F0 des SdF)\n",
    "Df=Fe/N ; n=k; f = n*Df\n",
    "\n",
    "%% VOTRE CODE : delta = @(?) ?\n",
    "% qui crée une fonction anonyme delta(k) qui vaut (k==0) \n",
    "delta = @(k) k==0 ; % impulsion unité discrète (astuce vaut 1 quand vrai)\n",
    "\n",
    "l=2;\n",
    "%% VOTRE CODE : x0 = ?; xl = ?\n",
    "% qui utilise la fonction delta pour calculer x0 = delta(k)\n",
    "% et xl = delta(k) retardée de l\n",
    "x0 = delta(k);\n",
    "xl = delta(k-l);\n",
    "\n",
    "%% VOTRE CODE : stem (?,?,'r')\n",
    "% qui affiche x0 et xl avec \"stem\" et \"hold on\" \n",
    "stem(k, x0,'b'); hold on;\n",
    "stem(k, xl, 'r')"
   ]
  },
  {
   "cell_type": "code",
   "execution_count": 2,
   "id": "fb728e50-e529-4da2-9fcc-2c010e536fb7",
   "metadata": {
    "tags": []
   },
   "outputs": [],
   "source": [
    "%%python \n",
    "from numpy import *\n",
    "from matplotlib.pyplot import *\n",
    "N=4\n",
    "Fe=100\n",
    "Te = 1./Fe \n",
    "k=arange(N)\n",
    "t=k*Te \n",
    "\n",
    "Df=Fe/N \n",
    "n=k\n",
    "f = n*Df\n",
    "\n",
    "# on crée les signaux comme avant\n",
    "delta = lambda k :  k==0  # impulsion unité discrète (astuce vaut 1 quand vrai)\n",
    "x1 = delta(k)\n",
    "l=2\n",
    "xl = delta(k-l)\n",
    "plot(t,x1,\"o--\")\n",
    "show()"
   ]
  },
  {
   "cell_type": "markdown",
   "id": "vocal-courtesy",
   "metadata": {},
   "source": [
    "On peut créer une matrice avec en rangées tous les vecteurs de la base fréquencielle $w_0$ à $w_{N-1}$ et en colonne le temps pour $k$ de 0 à $N-1$ avec une bouclette *for*.\n",
    "\n",
    "On peut même afficher toutes ces ondes d'analyse d'un coup avec une couleur par fréquence :"
   ]
  },
  {
   "cell_type": "code",
   "execution_count": 3,
   "id": "miniature-universal",
   "metadata": {
    "scrolled": true
   },
   "outputs": [
    {
     "data": {
      "image/png": "[encoded data removed]",
      "text/plain": [
       "<IPython.core.display.Image object>"
      ]
     },
     "metadata": {},
     "output_type": "display_data"
    }
   ],
   "source": [
    "W_N=exp(i*2*pi/N); % Racine de l'unité\n",
    "for indice_n=1:length(n)\n",
    "    wn(indice_n,:)=exp(i*2*pi/N*n(indice_n)*k);\n",
    "end\n",
    "% wn = [ wo en ligne ]\n",
    "%      [ w1 en ligne ]\n",
    "%      [ w2 en ligne ]\n",
    "%      [ w3 en ligne ]\n",
    "       \n",
    "subplot(211)\n",
    "plot(real(wn))\n",
    "axis(axis*1.1)\n",
    "subplot(212)\n",
    "plot(imag(wn))\n",
    "legend([\"w0\";\"w1\";\"w2\";\"w3\"])\n",
    "axis(axis*1.1)"
   ]
  },
  {
   "cell_type": "markdown",
   "id": "arctic-spank",
   "metadata": {},
   "source": [
    "Mais si on veut calculer touts les produits scalaires $<s,w_i>=<\\overline{w_i},\\overline{s}>$, il suffit de multiplier le conjugué de cette matrice de signaux avec le vecteur du signal s (vertical) à décomposer.\n",
    "\n",
    "Ce qui donne:"
   ]
  },
  {
   "cell_type": "code",
   "execution_count": 4,
   "id": "popular-james",
   "metadata": {},
   "outputs": [
    {
     "name": "stdout",
     "output_type": "stream",
     "text": [
      "ans =\n",
      "\n",
      "   1\n",
      "   1\n",
      "   1\n",
      "   1\n",
      "\n",
      "ans =\n",
      "\n",
      "   1.0000 + 0.0000i\n",
      "  -1.0000 - 0.0000i\n",
      "   1.0000 + 0.0000i\n",
      "  -1.0000 - 0.0000i\n",
      "\n"
     ]
    }
   ],
   "source": [
    "conj(wn)*x1'\n",
    "conj(wn)*xl'"
   ]
  },
  {
   "cell_type": "markdown",
   "id": "fifth-synthesis",
   "metadata": {},
   "source": [
    "On peut aussi calculer la matrice directement avec $M=(\\overline{W_N^{nk}})_{0<n,k<N-1}$, et vérifier que la matrice est bien orthogonale (dans $\\mathbb{C}$) donc\n",
    "$$ M. M^H = N . Id$$ mais pas normée.\n",
    "\n",
    "Où $M^H$ est la matrice adjointe : transposée du conjugué.\n",
    "Et donc $M^{-1}=M^H/N$ \n",
    "\n",
    "Donc on peut calculer une tranformée inverse avec $M^H/N$."
   ]
  },
  {
   "cell_type": "code",
   "execution_count": 5,
   "id": "enormous-housing",
   "metadata": {},
   "outputs": [
    {
     "name": "stdout",
     "output_type": "stream",
     "text": [
      "ans =\n",
      "\n",
      "   1 + 0i   1 - 0i   1 - 0i   1 + 0i\n",
      "   1 + 0i   0 - 1i  -1 - 0i  -0 + 1i\n",
      "   1 + 0i  -1 - 0i   1 + 0i  -1 - 0i\n",
      "   1 + 0i  -0 + 1i  -1 - 0i   0 - 1i\n",
      "\n",
      "ans =\n",
      "\n",
      "   4  -0   0   0\n",
      "  -0   4  -0  -0\n",
      "   0  -0   4  -0\n",
      "   0  -0  -0   4\n",
      "\n",
      "fftx1_matriciel =\n",
      "\n",
      "   1\n",
      "   1\n",
      "   1\n",
      "   1\n",
      "\n",
      "fftx1_matlab =\n",
      "\n",
      "   1\n",
      "   1\n",
      "   1\n",
      "   1\n",
      "\n",
      "xlBc =\n",
      "\n",
      "  0\n",
      "  0\n",
      "  1\n",
      "  0\n",
      "\n",
      "fftxl =\n",
      "\n",
      "   1.0000 + 0.0000i\n",
      "  -1.0000 - 0.0000i\n",
      "   1.0000 + 0.0000i\n",
      "  -1.0000 - 0.0000i\n",
      "\n"
     ]
    }
   ],
   "source": [
    "% Matrice de passage (conj(W_N^{nk}) \n",
    "%      avec k(temps) en colonnes et \n",
    "%      n(freq) en rangées\n",
    "M = (conj(W_N).^k).^(n') ;\n",
    "% k vecteur à plat 0 1 2 3\n",
    "% n' vecteur vertical \n",
    "%   .^   veut dire \"mettre chaque élément à la puissance ...\"\n",
    "arrondir = @(v) round(v*1000)/1000;\n",
    "arrondir(M)\n",
    "arrondir(M*M')\n",
    "\n",
    "% k vecteur à plat n' vecteur vertical\n",
    "x1Bc=x1' ;% signal dans la base Bc en vecteur vertical\n",
    "fftx1_matriciel = M*x1'\n",
    "fftx1_matlab = fft(x1)' \n",
    "\n",
    "xlBc=xl' % signal dans la base Bc en vecteur vertical\n",
    "fftxl= M*xlBc\n",
    "\n"
   ]
  },
  {
   "cell_type": "code",
   "execution_count": null,
   "id": "23029e78-716d-48ca-bf8f-0709218de5fa",
   "metadata": {},
   "outputs": [],
   "source": []
  }
 ],
 "metadata": {
  "kernelspec": {
   "display_name": "Octave",
   "language": "octave",
   "name": "octave"
  },
  "language_info": {
   "file_extension": ".m",
   "help_links": [
    {
     "text": "GNU Octave",
     "url": "https://www.gnu.org/software/octave/support.html"
    },
    {
     "text": "Octave Kernel",
     "url": "https://github.com/Calysto/octave_kernel"
    },
    {
     "text": "MetaKernel Magics",
     "url": "https://metakernel.readthedocs.io/en/latest/source/README.html"
    }
   ],
   "mimetype": "text/x-octave",
   "name": "octave",
   "version": "4.2.2"
  },
  "latex_envs": {
   "LaTeX_envs_menu_present": true,
   "autoclose": false,
   "autocomplete": true,
   "bibliofile": "biblio.bib",
   "cite_by": "apalike",
   "current_citInitial": 1,
   "eqLabelWithNumbers": true,
   "eqNumInitial": 1,
   "hotkeys": {
    "equation": "Ctrl-E",
    "itemize": "Ctrl-I"
   },
   "labels_anchors": false,
   "latex_user_defs": false,
   "report_style_numbering": false,
   "user_envs_cfg": false
  }
 },
 "nbformat": 4,
 "nbformat_minor": 5
}
