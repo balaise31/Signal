{
 "cells": [
  {
   "cell_type": "markdown",
   "metadata": {},
   "source": [
    "***\n",
    "# <center> Espaces des signaux </center>\n",
    "***"
   ]
  },
  {
   "cell_type": "markdown",
   "metadata": {},
   "source": [
    "## Espace des fonctions physiques\n",
    "\n",
    "Nous donnerons une première définition :\n",
    "\n",
    "Rappel : continuité à droite en un point\n",
    " Soit $a$ un réel. Une fonction d'une variable réelle sera dite continue à droite en $a$ ssi :\n",
    "\n",
    "$\\quad \\lim_{x \\to a,\\ x>a} f(x) = \\lim_{x \\to a^+} f(x) = f(a)$.\n",
    "\n",
    "Par exemple, la **Fonction de Heaviside** $u$ définie par :\n",
    "\n",
    "$\\forall x \\in \\R\\quad u(x)=\\left\\{\\begin{matrix} 0 & \\mathrm{si} & x < 0 \\\\ 1 & \\mathrm{si} & x \\geqslant 0. \\end{matrix}\\right. $\n",
    "\n",
    "est continue à droite en 0. En effet :\n",
    "\n",
    "$\\lim_{x \\to 0,\\ x>0} H(x) = 1 =H(0)$.\n"
   ]
  },
  {
   "cell_type": "markdown",
   "metadata": {},
   "source": [
    "### Définition : fonctions physiques\n",
    "\n",
    "Nous appellerons fonction physique, une fonction qui vérifie les trois propriétés suivantes :\n",
    "* elle est définie sur l’ensemble des nombres réels $\\R$ ;\n",
    "* elle est continue à droite en tout réel ;\n",
    "* elle est intégrable sur tout intervalle borné $[a ,  b]$.\n",
    "Dans cette leçon, nous noterons $\\P$ l'ensemble des fonctions physiques \n",
    "\n",
    "***Exemple***\n",
    "Nous voyons, par exemple, que la fonction de Heaviside est une fonction physique.\n",
    "La fonction $f$ définie par $f(x) = \\frac{1}{x}$ n'est pas une fonction physique (bien qu'étant continue à droite en tout point de son ensemble de définition) car elle n'est pas définie en 0.\n",
    "La fonction $f$ définie par :$\\forall t \\in \\R\\quad f(t)=\\begin{cases}\\frac1x &\\text{si } & t < 0 \\\\ 0 & \\mathrm{si} & t \\geqslant 0\\end{cases}$<br>n'est pas une fonction physique (bien qu'étant définie et continue à droite en tout point) car elle n'est pas intégrable sur [–1, 1] par exemple.\n",
    "\n",
    "\n",
    "***Remarque***\n",
    "\n",
    "Les fonctions physiques seront, dans notre leçon, des fonctions d'une variable réelle, mais son ensemble d'arrivée ne sera pas nécessairement l’ensemble des nombres réels. Il se peut que ce soit l’ensemble des nombres complexes. Ce sera le cas, par exemple, lorsque nous étudierons la transformée de Fourier.\n",
    "\n",
    "***Théorème***\n",
    "L'ensemble $\\P$ des fonctions physiques est un espace vectoriel sur $\\R$.\n"
   ]
  },
  {
   "cell_type": "code",
   "execution_count": null,
   "metadata": {},
   "outputs": [],
   "source": []
  }
 ],
 "metadata": {
  "kernelspec": {
   "display_name": "Octave",
   "language": "octave",
   "name": "octave"
  },
  "language_info": {
   "file_extension": ".m",
   "help_links": [
    {
     "text": "GNU Octave",
     "url": "https://www.gnu.org/software/octave/support.html"
    },
    {
     "text": "Octave Kernel",
     "url": "https://github.com/Calysto/octave_kernel"
    },
    {
     "text": "MetaKernel Magics",
     "url": "https://metakernel.readthedocs.io/en/latest/source/README.html"
    }
   ],
   "mimetype": "text/x-octave",
   "name": "octave",
   "version": "5.1.0"
  }
 },
 "nbformat": 4,
 "nbformat_minor": 2
}
