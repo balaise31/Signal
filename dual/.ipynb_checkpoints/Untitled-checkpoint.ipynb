{
 "cells": [
  {
   "cell_type": "markdown",
   "metadata": {},
   "source": [
    "$$\n",
    "\\def\\F{\\mathcal{F}}\n",
    "\\def\\L{\\mathcal{L}}\n",
    "\\def\\C{\\mathbb{C}}\n",
    "\\def\\R{\\mathbb{R}}\n",
    "\\def\\p#1{\\left(#1\\right)}\n",
    "\\def\\a#1{\\left\\{#1\\right\\}}\n",
    "\\def\\scalint#1#2#3{\\int\\limits_{-\\infty}^{\\infty}\\;#1\\,#2\\;d#3}\n",
    "\\def\\application#1#2#3#4{\\begin{array}{ccccc}\n",
    " & #1 & \\longrightarrow & #2 \\\\\n",
    " & #3 & \\longmapsto & #4 \\\\\n",
    "\\end{array}}\n",
    "$$\n",
    "\n",
    "# Produit scalaire, Transformée et Espace Dual\n",
    "\n",
    "Les transformées de Laplace et de Fourier sont très utilisées et il en existe encore d'autres (transformée en ondelettes, décomposition de Chebitchev, ...). Elles sont toutes basées sur une notion de transformation qui sont définies par une intégrale. Une définition assez générale de transformée par intégrale est la suivante : \n",
    "\n",
    "$$\n",
    "T : \\application{\\R^\\C}{\\C^\\C}{f : t\\mapsto f(t)}{ F : p \\mapsto \\scalint{f(t)}{g(t,p)}{t}}\n",
    "$$\n",
    "où la famille de fonctions $\\a{t\\mapsto g(t,p)}_{p\\in\\C}$ est appelée le noyau (ou Kernel de la transformée) suffit pour définir entièrement la transforméée.\n",
    "\n",
    "Une transformée est donc une application qui à une fonction associe une fonction. Il est très important d'être rigoureu-se-x au début sur les notations car les objets sont variés. Il s'agit bien ici du cas assez général d'une application $T$ (elle est linéaire grâce aux propriétés de l'intégrale) qui associe à une fonction $f$ de $\\R$ dans $\\C$ (noté $f\\in\\R^\\C$) du domaine de définition de $T$, une fonction $F$ de $\\C$ dans $\\C$ (noté $F\\in\\C^\\C$) du domaine image de $T$.\n",
    "\n",
    "Par exemple lorsque l'on parlera de la transformée de Laplace (notée $\\L$) de la fonction sinus nous noterons bien $\\L\\p{\\sin}$ qui est une fonction de la variable complexe souvent notée $p$.\n",
    "\n",
    "Amusez vous à indiquer parmi les écritures suivantes la/lesquelles sont correctement typées :\n",
    "     - $\\L\\p{sint(t)} = \\frac{p}{p-1}$\n",
    "\n",
    "\n",
    "\n",
    "## Produit scalaire\n"
   ]
  },
  {
   "cell_type": "code",
   "execution_count": null,
   "metadata": {},
   "outputs": [],
   "source": []
  }
 ],
 "metadata": {
  "kernelspec": {
   "display_name": "Octave",
   "language": "octave",
   "name": "octave"
  },
  "language_info": {
   "file_extension": ".m",
   "help_links": [
    {
     "text": "GNU Octave",
     "url": "https://www.gnu.org/software/octave/support.html"
    },
    {
     "text": "Octave Kernel",
     "url": "https://github.com/Calysto/octave_kernel"
    },
    {
     "text": "MetaKernel Magics",
     "url": "https://metakernel.readthedocs.io/en/latest/source/README.html"
    }
   ],
   "mimetype": "text/x-octave",
   "name": "octave",
   "version": "5.1.0"
  }
 },
 "nbformat": 4,
 "nbformat_minor": 2
}
