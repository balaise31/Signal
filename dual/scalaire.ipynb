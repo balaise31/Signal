{
 "cells": [
  {
   "cell_type": "markdown",
   "metadata": {},
   "source": [
    "***\n",
    "#  <center>  Produit scalaire, Transformée et Espace Dual </center>\n",
    "***"
   ]
  },
  {
   "cell_type": "code",
   "execution_count": 1,
   "metadata": {},
   "outputs": [],
   "source": [
    "clear all ;\n",
    "close all ;"
   ]
  },
  {
   "cell_type": "markdown",
   "metadata": {},
   "source": [
    "\n",
    "\n",
    "Les transformées de Laplace et de Fourier sont très utilisées et il en existe encore d'autres (transformée en ondelettes, décomposition de Chebitchev, ...). Ce sont toutes des transformations dites \"par intégrale\" définies par une relation du type suivant :\n",
    "$$F(\\omega) = \\int\\limits_I f(t)\\,{K(\\omega,t)}\\;dt$$\n",
    "où la famille de fonctions $\\a{t\\mapsto K(t,\\omega)}_{\\omega\\in J}$ est appelée le *noyau (ou Kernel)* de la transformée. L'intervale d'intégration $I$ des fonctions initiales $f$ et l'ensemble de définition $J$ de la variable des fonctions images $F$ suffisent avec le noyau pour définir entièrement la transformée. \n",
    "\n",
    "$$ \\T : f \\mapsto F $$ \n",
    "\n",
    "On note alors $F=\\T(f)$ et l'erreur de typage commune $F(\\omega) = \\T(f(t))$ ne sera pas tolérée dans cette UF car c'est le moment ou jamais d'être plus précis-e que préssé-e. Si l'on veut préciser, pour ne pas s'y perdre, que par exemple l'ensemble de définition des fonctions initiales est le temps $t$ et que celui de la fonction image est la fréquence $f$ (en Hertz) plutôt que la pulsation $\\omega$ (en radians par secondes), on notera alors $F(f)=\\T\\p{t\\mapsto f(t)}(f)$. On utilise parfois les crochets pour différentier l'application de la transformation à celle d'une simple fonction, ce qui donne $F = \\T[f]$ ou bien $F(f)=\\T\\c{t\\mapsto f(t)}(f)$\n",
    "\n",
    "Pour ne pas alourdir l'écriture on utilisera des **lettres majuscules pour les fonctions images** et des **lettres minuscules pour les fonctions initiales**. **Les transformations sont notées par des cursives majuscules** en général ($\\F$ pour la transformation de Fourier, $\\L$ pour la transformation de Laplace).   Sauf cas particulier la variable $t$ est utilisée pour les fonctions initiales (temporel) et les variables $f$ ou $\\omega$ pour la transformation de Fourier (en fréquence, ou en pulsation), et les lettres $p$ et $s$ pour les variables complexes des fonctions images de Laplace ($p$ est plutôt franco-allemande, et $s$ anglosaxone)."
   ]
  },
  {
   "cell_type": "markdown",
   "metadata": {},
   "source": [
    "## Espaces vectoriels de fonctions et produit scalaire\n",
    "Nous nous intéressons au cas général des fonctions complexes, et nous allons voir que ce type d'intégrale peut définir un produit scalaire dans un espace de fonctions donné.\n",
    "\n",
    "Prenons une fonction complexe $f$ définit analytiquement par la fonction logicielle [frc.m](./frc.m) que nous définissont uniquement par son graphe ainsi:"
   ]
  },
  {
   "cell_type": "code",
   "execution_count": 4,
   "metadata": {
    "scrolled": true
   },
   "outputs": [
    {
     "data": {
      "image/png": "[encoded data removed]",
      "text/plain": [
       "<IPython.core.display.Image object>"
      ]
     },
     "metadata": {},
     "output_type": "display_data"
    }
   ],
   "source": [
    "Fe=1000.;\n",
    "Te=1/Fe;\n",
    "L=3;\n",
    "t=-L:Te:L;\n",
    "\n",
    "%run \n",
    "\n",
    "%prenons la fonction frc.m et renommons-là f\n",
    "f = @frc ;\n",
    "subplot(1,3,1)\n",
    "plot(t,real(f(t)),'r--'); \n",
    "xlabel('t [s]');\n",
    "ylabel('partie R\\''eelle [v]');\n",
    "grid on; \n",
    "subplot(1,3,2);\n",
    "plot(t,imag(f(t)),'b--');\n",
    "xlabel('t [s]');\n",
    "ylabel('partie Imaginaire [v]');\n",
    "grid on; \n",
    "subplot(1,3,3);\n",
    "plot3(t,real(f(t)),0*imag(f(t)),'r-'); hold on;\n",
    "plot3(t,0*real(f(t)),imag(f(t)),'b-'); \n",
    "plot3(t,real(f(t)),imag(f(t)),'g.');\n",
    "xlabel('t [s]');\n",
    "ylabel('partie r\\''eelle [v]')\n",
    "zlabel('partie imaginaire [v]');\n",
    "title('la fonction complexe f');"
   ]
  },
  {
   "cell_type": "markdown",
   "metadata": {},
   "source": [
    "Selons l'espaces des fonctions considéré nous allons utiliser des produits scalaires basés sur les intégrales.\n",
    "Prenons le cas "
   ]
  },
  {
   "cell_type": "markdown",
   "metadata": {},
   "source": [
    "\n",
    "## Transformée\n",
    "\n",
    "Une transformée est donc une application qui à une fonction associe une fonction. Il est très important d'être rigoureu-se-x au début sur les notations car les objets mathématiques sont variés et il est n'est pas évident au début de savoir dans quel espace chaque élément se trouve. Une transformation par intégrale est donc une application que l'on peut noter $T$ (elle est linéaire grâce aux propriétés de l'intégrale) qui transforme une fonction $f$ de $I$ dans $\\C$ (noté $f\\in I^\\C$) du domaine de définition de $T$, en une fonction $F$ de $J$ dans $\\C$ (noté $F\\in J^\\C$) du domaine image de $T$. Remarquez que l'on considère le cas général de fonctions complexes que l'on peut réuire au cas plus fréquent des fonctions réelles. On définit donc de manière rigoureuse une transformée par intégrale $T$ de noyau $K$ par : \n",
    "$$\n",
    "T : \\application{I^\\C}{J^\\C}{f : t\\mapsto f(t)}{ F : \\omega \\mapsto \\int\\limits_I f(t)\\,K(t,\\omega)\\;dt}\n",
    "$$\n",
    "\n",
    "\n",
    "Par exemple lorsque l'on parlera de la transformée de Laplace (notée $\\L$) de la fonction sinus nous noterons bien $\\L\\p{\\sin}$ qui est une fonction de la variable complexe souvent notée $p$.\n",
    "\n",
    "Amusez vous à indiquer parmi les écritures suivantes la/lesquelles sont correctement typées :\n",
    "- $\\L\\p{sint(t)} = \\frac{p}{p-1}$\n",
    "\n",
    "\n"
   ]
  },
  {
   "cell_type": "code",
   "execution_count": 5,
   "metadata": {},
   "outputs": [
    {
     "name": "stdout",
     "output_type": "stream",
     "text": [
      "[1] 18950\r\n",
      "\n"
     ]
    }
   ],
   "source": [
    "!nohup \"octave --gui --persist --eval \"\"edit demo_ui_control.m\"\"\" &"
   ]
  },
  {
   "cell_type": "code",
   "execution_count": 16,
   "metadata": {},
   "outputs": [
    {
     "name": "stdout",
     "output_type": "stream",
     "text": [
      "appending output to nohup.out\r\n",
      "\n"
     ]
    }
   ],
   "source": [
    "!nohup pwd"
   ]
  },
  {
   "cell_type": "code",
   "execution_count": null,
   "metadata": {},
   "outputs": [],
   "source": []
  }
 ],
 "metadata": {
  "kernelspec": {
   "display_name": "Octave",
   "language": "octave",
   "name": "octave"
  },
  "language_info": {
   "file_extension": ".m",
   "help_links": [
    {
     "text": "GNU Octave",
     "url": "https://www.gnu.org/software/octave/support.html"
    },
    {
     "text": "Octave Kernel",
     "url": "https://github.com/Calysto/octave_kernel"
    },
    {
     "text": "MetaKernel Magics",
     "url": "https://metakernel.readthedocs.io/en/latest/source/README.html"
    }
   ],
   "mimetype": "text/x-octave",
   "name": "octave",
   "version": "5.1.0"
  },
  "latex_envs": {
   "LaTeX_envs_menu_present": true,
   "autoclose": true,
   "autocomplete": true,
   "bibliofile": "biblio.bib",
   "cite_by": "apalike",
   "current_citInitial": 1,
   "eqLabelWithNumbers": true,
   "eqNumInitial": 1,
   "hotkeys": {
    "equation": "Ctrl-E",
    "itemize": "Ctrl-I"
   },
   "labels_anchors": false,
   "latex_user_defs": true,
   "report_style_numbering": true,
   "user_envs_cfg": false
  },
  "toc": {
   "base_numbering": 1,
   "nav_menu": {},
   "number_sections": true,
   "sideBar": true,
   "skip_h1_title": false,
   "title_cell": "Table of Contents",
   "title_sidebar": "Contents",
   "toc_cell": false,
   "toc_position": {},
   "toc_section_display": true,
   "toc_window_display": false
  }
 },
 "nbformat": 4,
 "nbformat_minor": 2
}
