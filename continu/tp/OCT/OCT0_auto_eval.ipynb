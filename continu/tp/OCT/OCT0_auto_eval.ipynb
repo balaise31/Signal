{
 "cells": [
  {
   "attachments": {},
   "cell_type": "markdown",
   "id": "e2c31de0-bdf8-42a3-8f16-8ba69bb23568",
   "metadata": {},
   "source": [
    "---\n",
    "# OCT0 : Auto évaluation Octave/Matlab pour le signal\n",
    "---\n",
    "\n",
    "Vérifiez ici si vous avez les compétences en programmation nécessaires pour manipuler les signaux : parfois on sait faire, mais il manque du vocabulaire...\n",
    "\n",
    "\n",
    "Assurez vous d'**avoir bien suivi les [instructions d'installation](https://github.com/balaise31/Signal/blob/main/installation/README.md)**:\n",
    "> 1) Dans un terminal lancez la commande `go_continu` (`go_discret` en 3IMACS)\n",
    "> 2) Un notebook `README.ipynb` doit s'ouvrir dans Firefox\n",
    "> 3) Naviguez en cliquant `TD/README.ipynb`->`Td octave` dans le Tableau de liens \n",
    "> 4) Vous retrouvez cette page avec en plus la possibilité de modifier et exécuter...\n",
    "> 5) Allez dans un Tuto/exercice en cliquant dans le tableau ci-dessous puis\n",
    "> 6) **Faites SHIFT+ENTER plein de fois** dans le notebook ouvert pour passer de cellule en cellule et exécuter les cellules de code\n",
    "\n",
    "\n"
   ]
  },
  {
   "attachments": {},
   "cell_type": "markdown",
   "id": "6eb521c3-ffda-4276-ba04-57bef2c217d8",
   "metadata": {},
   "source": [
    "# Liens par concepts\n",
    "\n",
    "|             Vocabulaire/concept     | Tuto                             | Test                 | Corrigé |\n",
    "|:------------------------------------|:--------------------------------:|---------------------:|--------:|\n",
    "|  typage dynamique, promotion, casting | [T - Typage dynamique](OCT1_intro.ipynb#T---Typage-dynamique)  | [T - Exercice](OCT1_intro.ipynb#T---Exercice) | [T - Corrigé](OCT1_intro.ipynb#T---Corrig%C3%A9)  | \n",
    "| vecteurs, matrices | [M - Matrices](./OCT1_intro.ipynb#M---Matrices)  | [M - Exercice](./OCT1_intro.ipynb#M---Exercice) | [M - Corrigé](OCT1_intro.ipynb#M---Corrig%C3%A9)  | \n",
    "| Boucles for (pas utile !)| [B - Boucles](OCT1_intro.ipynb#B---Boucles)  | [B - Exercice](OCT1_intro.ipynb#B---Exercice) | [B - Corrigé](OCT1_intro.ipynb#B---Corrig%C3%A9)  | \n",
    "| opérateurs vectorisés | [V - Vectorisation](OCT1_intro.ipynb#V---Vectorisation)  | [V - Exercice](OCT1_intro.ipynb#V---Exercice) | [V - Corrigé](OCT1_intro.ipynb#V---Corrig%C3%A9)  | \n",
    "| opérateur par élément (**element wise**) | [E - Opérateurs par éléments](OCT1_intro.ipynb#E---Op%C3%A9rateurs-par-%C3%A9l%C3%A9ments)  | [E - Exercice](OCT1_intro.ipynb#E---Exercice) | [E - Corrigé](OCT1_intro.ipynb#E---Corrig%C3%A9)  | \n",
    "| graphiques `plot` | S'inspirer des corrigés des deux tests précédents  | [T - Test récap.](OCT1_intro.ipynb#T---Test-r%C3%A9cap.) | [T - Corrigé](OCT1_intro.ipynb#T---Corrig%C3%A9)  | \n",
    "| fonctions explicites (obsolète) | [Tuto.](OCT2_intro.ipynb#D%C3%A9claration-de-fonctions-explicites)  | pas  | utile | \n",
    "| fonctions anonymes | [Tuto.](./OCT2_intro.ipynb#Fonctions-anonymes)| [test](./OCT2_intro.ipynb#Exercice-fonctions-anonymes) |[Corrigé](./OCT2_intro_corr.ipynb#Exercice-fonctions-anonymes)  | \n",
    "| interface utilisateur | [Tuto.](./OCT2_intro.ipynb#Interface-utilisateur)  | [Test](./OCT2_intro.ipynb#Exercice-interface) | [Corrigé](./OCT2_intro_corr.ipynb#Exercice-interface)  | \n"
   ]
  },
  {
   "attachments": {},
   "cell_type": "markdown",
   "id": "0b3a3208-3313-47ec-bebe-f79216062ea5",
   "metadata": {},
   "source": [
    "\n",
    "\n",
    "\n",
    "Les concepts sont :\n",
    " - typage dynamique des variables (typage selon utilisation)\n",
    " - manipulation de vecteurs, matrices, tenseurs\n",
    " - vectoriser les calculs (faire du matriciel pas des boucles)\n",
    " - utiliser la vectorisation des opérateurs `*`, `/`, `<`, etc. (`.*`, `./` et `<`) pour fabriquer de nouveaux signaux\n",
    " - maitriser la librairie d'affichage graphique (`plot`, `xlabel`, `subplot`, `hold on`, etc.)\n",
    " - faire des fonctions anonymes plutôt que des fonctions\n",
    " - faire des scripts structurés avec des interfaces utilisateurs frugales (partie config, puis calculs, puis affichage)\n",
    " - faire des intégrales numériques par simple calcul matriciel (pas de boucles) \n",
    "\n",
    "\n"
   ]
  },
  {
   "cell_type": "code",
   "execution_count": null,
   "id": "90ae0764-b6de-40d6-9161-7c8bc2175f6c",
   "metadata": {},
   "outputs": [],
   "source": []
  }
 ],
 "metadata": {
  "kernelspec": {
   "display_name": "Octave",
   "language": "octave",
   "name": "octave"
  },
  "language_info": {
   "file_extension": ".m",
   "help_links": [
    {
     "text": "GNU Octave",
     "url": "https://www.gnu.org/software/octave/support.html"
    },
    {
     "text": "Octave Kernel",
     "url": "https://github.com/Calysto/octave_kernel"
    },
    {
     "text": "MetaKernel Magics",
     "url": "https://metakernel.readthedocs.io/en/latest/source/README.html"
    }
   ],
   "mimetype": "text/x-octave",
   "name": "octave",
   "version": "4.2.2"
  }
 },
 "nbformat": 4,
 "nbformat_minor": 5
}
