{
 "cells": [
  {
   "attachments": {},
   "cell_type": "markdown",
   "id": "e2c31de0-bdf8-42a3-8f16-8ba69bb23568",
   "metadata": {},
   "source": [
    "---\n",
    "# OCT0 : Auto évaluation Octave/Matlab pour le signal\n",
    "---\n",
    "\n",
    "Vérifiez ici si vous avez les compétences en programmation nécessaires pour manipuler les signaux : parfois on sait faire, mais il manque du vocabulaire...\n",
    "\n",
    "\n",
    "Assurez vous d'**avoir bien suivi les [instructions d'installation](https://github.com/balaise31/Signal/blob/main/installation/README.md)**:\n",
    "> 1) Dans un terminal lancez la commande `go_continu` (`go_discret` en 3IMACS)\n",
    "> 2) Un notebook `README.ipynb` doit s'ouvrir dans Firefox\n",
    "> 3) Naviguez en cliquant `TD/README.ipynb`->`Td octave` dans le Tableau de liens \n",
    "> 4) Vous retrouvez cette page avec en plus la possibilité de modifier et exécuter...\n",
    "> 5) Allez dans un Tuto/exercice en cliquant dans le tableau ci-dessous puis\n",
    "> 6) **Faites SHIFT+ENTER plein de fois** dans le notebook ouvert pour passer de cellule en cellule et exécuter les cellules de code\n",
    "\n",
    "\n"
   ]
  },
  {
   "attachments": {},
   "cell_type": "markdown",
   "id": "6eb521c3-ffda-4276-ba04-57bef2c217d8",
   "metadata": {},
   "source": [
    "# Liens par concepts\n",
    "\n",
    "|             Vocabulaire/concept     | Tuto                             | Test                 | Corrigé |\n",
    "|:------------------------------------|:--------------------------------:|---------------------:|--------:|\n",
    "|  polymorphisme, promotion, casting | [Tuto.](OCT1_intro.ipynb#Polymorphisme-des-variables)  | [Test](OCT1_intro.ipynb#Exercice) | [Corrigé](OCT1_intro_corr.ipynb#Exercice)  | \n",
    "| vecteurs, matrices | [Tuto.](./OCT1_intro.ipynb#Manipulation-des-vecteur/matrice/tenseurs)  | [Test](./OCT1_intro.ipynb#Exercice-matrices) | [Corrigé](./OCT1_intro_corr.ipynb#Exercice-matrices)  | \n",
    "| opérateurs vectorisés | [Tuto.](OCT1_intro.ipynb#Boucles-vs-calcul-vectoris%C3%A9)  | [Test](./OCT1_intro.ipynb#Exercice-vectorisation) | [Corrigé](./OCT1_intro_corr.ipynb#Exercice-vectorisation)  | \n",
    "| opérateur par élément (**element wise**) | [Tuto.](OCT1_intro.ipynb#Op%C3%A9rations-%C3%A9l%C3%A9ments-par-%C3%A9l%C3%A9ments)  | [Test](./OCT1_intro.ipynb#Exercice-produits-signaux) | [Corrigé](./OCT1_intro_corr.ipynb#Exercice-produits-signaux)  | \n",
    "| graphiques `plot` | voir les corrigés des deux tests précédents  | [Test récap.](./OCT1_intro.ipynb#Exercice-final--(une-solution)) | [Corrigé](./OCT1_intro_corr.ipynb#Exercice-final--(une-solution))  | \n",
    "| fonctions explicites (obsolète) | [Tuto.](OCT2_intro.ipynb#D%C3%A9claration-de-fonctions-explicites)  | pas  | utile | \n",
    "| fonctions anonymes | [Tuto.](./OCT2_intro.ipynb#Fonctions-anonymes)| [test](./OCT2_intro.ipynb#Exercice-fonctions-anonymes) |[Corrigé](./OCT2_intro_corr.ipynb#Exercice-fonctions-anonymes)  | \n",
    "| interface utilisateur | [Tuto.](./OCT2_intro.ipynb#Interface-utilisateur)  | [Test](./OCT2_intro.ipynb#Exercice-interface) | [Corrigé](./OCT2_intro_corr.ipynb#Exercice-interface)  | \n"
   ]
  },
  {
   "attachments": {},
   "cell_type": "markdown",
   "id": "0b3a3208-3313-47ec-bebe-f79216062ea5",
   "metadata": {},
   "source": [
    "\n",
    "\n",
    "\n",
    "Les concepts sont :\n",
    " - polymorphisme des variables (typage selon utilisation)\n",
    " - manipulation de vecteurs, matrices, tenseurs\n",
    " - vectoriser les calculs (faire du matriciel pas des boucles)\n",
    " - utiliser la vectorisation des opérateurs `*`, `/`, `<`, etc. (`.*`, `./` et `<`) pour fabriquer de nouveaux signaux\n",
    " - maitriser la librairie d'affichage graphique (`plot`, `xlabel`, `subplot`, `hold on`, etc.)\n",
    " - faire des fonctions anonymes plutôt que des fonctions\n",
    " - faire des scripts structurés avec des interfaces utilisateurs frugales (partie config, puis calculs, puis affichage)\n",
    " - faire des intégrales numériques par simple calcul matriciel (pas de boucles) \n",
    "\n",
    "\n"
   ]
  }
 ],
 "metadata": {
  "kernelspec": {
   "display_name": "Octave",
   "language": "octave",
   "name": "octave"
  },
  "language_info": {
   "file_extension": ".m",
   "help_links": [
    {
     "text": "GNU Octave",
     "url": "https://www.gnu.org/software/octave/support.html"
    },
    {
     "text": "Octave Kernel",
     "url": "https://github.com/Calysto/octave_kernel"
    },
    {
     "text": "MetaKernel Magics",
     "url": "https://metakernel.readthedocs.io/en/latest/source/README.html"
    }
   ],
   "mimetype": "text/x-octave",
   "name": "octave",
   "version": "4.2.2"
  }
 },
 "nbformat": 4,
 "nbformat_minor": 5
}
