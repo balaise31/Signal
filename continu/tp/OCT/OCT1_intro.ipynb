{
 "cells": [
  {
   "cell_type": "markdown",
   "metadata": {
    "tags": []
   },
   "source": [
    "| [OCT0](OCT0_auto_eval.ipynb) | OCT1 | [OCT2 Intro.](OCT2_intro.ipynb)|\n",
    "|-------------|---|---|\n",
    "\n",
    "---\n",
    "# OCT1 Intro. \n",
    "--- \n",
    "\n",
    "\n",
    "\n"
   ]
  },
  {
   "cell_type": "markdown",
   "metadata": {
    "tags": []
   },
   "source": [
    "---\n",
    "\n",
    "Concepts :\n",
    "  - langage interprété (vs langage compilé)\n",
    "  - polymorphisme des variables\n",
    "  - aides et communauté\n",
    "  - manipulation des vecteurs/matrices/tenseurs\n",
    "  - boucles vs calcul vectorisé\n",
    "  - Opérateur élément par élément"
   ]
  },
  {
   "cell_type": "markdown",
   "metadata": {
    "tags": []
   },
   "source": [
    "## T - Typage dynamique\n",
    "---\n",
    "\n",
    "Octave est un langage interprété (pas de compilation: c'est Matlab/Octave qui interprète chaque ordre).\n",
    "\n",
    "Il n'est pas besoin de déclarer un type de variable : le fait d'utiliser une variable la crée et son initialisation donne sont type !\n",
    "\n",
    "Si l'utilisation change, le type change avec la notion de **promotion de type** : \"qui peut le plus peut le moins\""
   ]
  },
  {
   "cell_type": "markdown",
   "metadata": {
    "jp-MarkdownHeadingCollapsed": true,
    "tags": []
   },
   "source": [
    "Essayons de déclarer une variable A et voyons son évolution..."
   ]
  },
  {
   "cell_type": "code",
   "execution_count": 41,
   "metadata": {},
   "outputs": [
    {
     "name": "stdout",
     "output_type": "stream",
     "text": [
      "A =  3\n",
      "A =  0.75000\n",
      "A =  0.00000 + 0.86603i\n",
      "error: 'B' undefined near line 1 column 5\n"
     ]
    }
   ],
   "source": [
    "A = 3\n",
    "A = 3/4\n",
    "A = sqrt(-A)\n",
    "A = B\n"
   ]
  },
  {
   "cell_type": "markdown",
   "metadata": {},
   "source": [
    "Et oui $\\mathbb{Z}\\subset\\mathbb{R}\\subset\\mathbb{C}$ donc la promotion marche\n",
    "\n",
    "> Même s'il n'est pas utile de déclarer explicitement le type, il faut au moins créer la variable B en l'initialisant avant de l'utiliser.\n",
    "\n",
    "L'interpréteur garde en mémoire toutes ces variables dans un *memory pool* appelé *workspace*. Ce worwspace est visible dans l'IDE d'octave (à droite, ou le type la dimension et la valeur sont affichés).\n",
    "\n",
    "Pour voir le contenu du workspace (notamment avec des notebooks) on peut faire la commande `who`\n"
   ]
  },
  {
   "cell_type": "code",
   "execution_count": 42,
   "metadata": {},
   "outputs": [
    {
     "name": "stdout",
     "output_type": "stream",
     "text": [
      "Variables in the current scope:\n",
      "\n",
      "A         Fsin      f1_de_t   sin_de_t  tmax\n",
      "F         Te        f2_de_t   t         tmin\n",
      "\n"
     ]
    }
   ],
   "source": [
    "who"
   ]
  },
  {
   "cell_type": "markdown",
   "metadata": {
    "tags": []
   },
   "source": [
    "Mais une variable peut non seulement se promouvoir de type, mais aussi en dimension et passer de scalaire à vecteur à matrice à matrice de dimensions supérieure (hyper matrice ou tenseur).\n",
    "\n",
    "La syntaxe des tableaux est celle de l'ADA **sans déclaration !**  \n",
    "Il suffit de voir une matrice comme un tableau à deux entrées avec la notation `A(2,3)` pour l'élément de rangée 2 et la colonne 3 du tableau A.\n",
    "\n",
    "Voici donc une promotion de dimension"
   ]
  },
  {
   "cell_type": "code",
   "execution_count": 43,
   "metadata": {},
   "outputs": [
    {
     "name": "stdout",
     "output_type": "stream",
     "text": [
      "A =\n",
      "\n",
      "   0.00000 + 0.86603i   0.00000 + 0.00000i   0.00000 + 0.00000i\n",
      "   0.00000 + 0.00000i   0.00000 + 0.00000i   0.00000 + 1.00000i\n",
      "\n"
     ]
    }
   ],
   "source": [
    "A(2,3) = exp(i*pi/2)"
   ]
  },
  {
   "cell_type": "code",
   "execution_count": 44,
   "metadata": {},
   "outputs": [
    {
     "name": "stdout",
     "output_type": "stream",
     "text": [
      "A =\n",
      "\n",
      "ans(:,:,1) =\n",
      "\n",
      "   0.00000 + 0.86603i   0.00000 + 0.00000i   0.00000 + 0.00000i\n",
      "   0.00000 + 0.00000i   0.00000 + 0.00000i   0.00000 + 1.00000i\n",
      "\n",
      "ans(:,:,2) =\n",
      "\n",
      "   1.00000 + 1.00000i   0.00000 + 0.00000i   0.00000 + 0.00000i\n",
      "   0.00000 + 0.00000i   0.00000 + 0.00000i   0.00000 + 0.00000i\n",
      "\n"
     ]
    }
   ],
   "source": [
    "A(1,1,2) = sqrt(2) * exp(i*pi/4)"
   ]
  },
  {
   "cell_type": "markdown",
   "metadata": {},
   "source": [
    "Remarquez que matlab connait les opérateurs de base (et bien plus !), le nombre imaginaire `i` aussi noté `j`.\n"
   ]
  },
  {
   "cell_type": "code",
   "execution_count": 45,
   "metadata": {
    "scrolled": true
   },
   "outputs": [
    {
     "name": "stdout",
     "output_type": "stream",
     "text": [
      "ans =  0 + 1i\n",
      "ans =  0 + 1i\n",
      "ans =  0 + 1i\n"
     ]
    }
   ],
   "source": [
    "i\n",
    "j\n",
    "sqrt(-1)"
   ]
  },
  {
   "cell_type": "markdown",
   "metadata": {},
   "source": [
    "Attention au typage dynamique ! On peut par **accident redéclarer une variable prédéfinie** (souvent `i`dans une boucle) et la masquer !"
   ]
  },
  {
   "cell_type": "code",
   "execution_count": 46,
   "metadata": {},
   "outputs": [
    {
     "name": "stdout",
     "output_type": "stream",
     "text": [
      "i = Toto\n",
      "ans = o\n",
      "Variables in the current scope:\n",
      "\n",
      "A         Fsin      ans       f2_de_t   sin_de_t  tmax\n",
      "F         Te        f1_de_t   i         t         tmin\n",
      "\n"
     ]
    }
   ],
   "source": [
    "i = \"Toto\"\n",
    "i(2)\n",
    "who"
   ]
  },
  {
   "cell_type": "markdown",
   "metadata": {},
   "source": [
    "Une variable `i` est créée dans le *workspace* et masque la variable imaginaire prédéfinie.\n",
    "\n",
    "Il faut alors effacer cette variable `i` en utilisant la commande `clear`"
   ]
  },
  {
   "cell_type": "code",
   "execution_count": 47,
   "metadata": {},
   "outputs": [
    {
     "name": "stdout",
     "output_type": "stream",
     "text": [
      "Variables in the current scope:\n",
      "\n",
      "A         Fsin      ans       f2_de_t   t         tmin\n",
      "F         Te        f1_de_t   sin_de_t  tmax\n",
      "\n",
      "ans =  0 + 1i\n"
     ]
    }
   ],
   "source": [
    "clear i\n",
    "who\n",
    "i"
   ]
  },
  {
   "cell_type": "markdown",
   "metadata": {
    "tags": []
   },
   "source": [
    "### T - Exercice\n",
    "Votre test sur les variables polymorphisme, casting, promotions..."
   ]
  },
  {
   "cell_type": "markdown",
   "metadata": {
    "jp-MarkdownHeadingCollapsed": true,
    "tags": []
   },
   "source": [
    "Essayez de créer par promotions successives (par ex. $B=\\dots$, puis $B(1,2)=\\dots$, etc.) :\n",
    " - le vecteur ligne $u = [0, 1, 2]$\n",
    " - le vecteur colonne $v =  \\left[\\begin{matrix}0 \\\\ 1 \\\\2\\end{matrix}\\right]$\n",
    " - la matrice $B = \\left[\\begin{matrix}1 & 0\\\\2 & 0 \\\\ 3 & 2+i\\end{matrix}\\right]$ \n",
    " \n",
    " **N'utilisez pas encore les fonctions `1:3`, et `(1:3)'` ou `linspace`**"
   ]
  },
  {
   "cell_type": "code",
   "execution_count": 48,
   "metadata": {},
   "outputs": [
    {
     "name": "stdout",
     "output_type": "stream",
     "text": [
      "u = 0\n"
     ]
    }
   ],
   "source": [
    "%% VOTRE CODE ICI !\n",
    "\n",
    "clear all\n",
    "%% démarrer directement avec\n",
    "u=0   % ou u(1)=0\n",
    "%% VOTRE CODE u(...)=...\n",
    "\n",
    "% VOTRE VODE v=...; v(...)=... \n",
    "\n",
    "% VOTRE CODE B=...\n",
    "\n",
    "% Exécutez avec MAJ+ENTREE\n"
   ]
  },
  {
   "cell_type": "markdown",
   "metadata": {
    "jp-MarkdownHeadingCollapsed": true
   },
   "source": [
    "### T - Corrigé\n",
    "La cellule est cachée : **cliquez sur \"cell hidden\" ci-dessous pour la révéler**"
   ]
  },
  {
   "cell_type": "code",
   "execution_count": 49,
   "metadata": {},
   "outputs": [
    {
     "name": "stdout",
     "output_type": "stream",
     "text": [
      "u =\n",
      "\n",
      "   0   1   2\n",
      "\n",
      "u =\n",
      "\n",
      "   0   1   2\n",
      "\n",
      "v =\n",
      "\n",
      "   0\n",
      "   1\n",
      "   3\n",
      "\n",
      "B =\n",
      "\n",
      "   1 + 0i   1 + 0i\n",
      "   2 + 0i   0 + 0i\n",
      "   3 + 0i   2 + 1i\n",
      "\n"
     ]
    }
   ],
   "source": [
    "%% VOTRE CODE ICI !\n",
    "clear all\n",
    "%% démarrer directement avec\n",
    "\n",
    "% Tableau 1D sont des matrices lignes (1,n) par défaut\n",
    "u=0 ;  % ou u(1)=0\n",
    "u(2)=1;\n",
    "u(3)=2\n",
    "% On peut de manière équivalente utiliser les tableaux 2D\n",
    "u=0 ; u(1,2)=1 ; u(1,3)=2  \n",
    "\n",
    "% Tableau 2D obligatoires pour les vecteurs colonnes (n,1)\n",
    "v=0 ; v(2,1)=1 ; v(3,1)=3\n",
    "\n",
    "%Tableau 2D pour les matrices (n,m) évidemment\n",
    "B=1 ; B(1,2)=1 ; B(2,1)=2 ; B(3,1)=3 ; B(3,2) = 2+i\n",
    "\n",
    "% Exécutez avec MAJ+ENTREE\n"
   ]
  },
  {
   "cell_type": "markdown",
   "metadata": {
    "tags": []
   },
   "source": [
    "## H - Aide\n",
    "---\n",
    "\n",
    "La fonction `help` permet d'obtenir des informations bien faites sur une commande et de trouver des commandes annexes."
   ]
  },
  {
   "cell_type": "markdown",
   "metadata": {
    "jp-MarkdownHeadingCollapsed": true,
    "tags": []
   },
   "source": [
    "Cherchons si la fonction `log` est en base 10, 2 ou e."
   ]
  },
  {
   "cell_type": "code",
   "execution_count": 50,
   "metadata": {},
   "outputs": [
    {
     "name": "stdout",
     "output_type": "stream",
     "text": [
      "'log' is a built-in function from the file libinterp/corefcn/mappers.cc\n",
      "\n",
      " -- log (X)\n",
      "     Compute the natural logarithm, 'ln (X)', for each element of X.\n",
      "\n",
      "     To compute the matrix logarithm, see *note Linear Algebra::.\n",
      "\n",
      "     See also: exp, log1p, log2, log10, logspace.\n",
      "\n",
      "Additional help for built-in functions and operators is\n",
      "available in the online version of the manual.  Use the command\n",
      "'doc <topic>' to search the manual index.\n",
      "\n",
      "Help and information about Octave is also available on the WWW\n",
      "at http://www.octave.org and via the help@octave.org\n",
      "mailing list.\n"
     ]
    }
   ],
   "source": [
    "help log\n",
    "%% TAPEZ SHIFT+ENTREE pour exécuter"
   ]
  },
  {
   "cell_type": "markdown",
   "metadata": {},
   "source": [
    "C'est donc le $ln$ néperien et celui en base 10 est sans doute $log10$.\n",
    "\n",
    "De plus il existe une autocomplétion : si on tape un début \"sin\" de \"sinus cardinal\" par exemple, et que l'on appuie sur TAB, octave va proposer ce qui existe pour compléter.\n",
    "\n",
    "Utilisez l'autocomplétion TAB puis la commande `help` pour savoir si le sinus cardinal de matlab est défini par $\\frac{\\sin(x)}{x}$ ou bien $\\frac{\\sin(\\pi.x)}{\\pi.x}$..."
   ]
  },
  {
   "cell_type": "code",
   "execution_count": 51,
   "metadata": {},
   "outputs": [
    {
     "name": "stdout",
     "output_type": "stream",
     "text": [
      "'sin' is a built-in function from the file libinterp/corefcn/mappers.cc\n",
      "\n",
      " -- sin (X)\n",
      "     Compute the sine for each element of X in radians.\n",
      "\n",
      "     See also: asin, sind, sinh.\n",
      "\n",
      "Additional help for built-in functions and operators is\n",
      "available in the online version of the manual.  Use the command\n",
      "'doc <topic>' to search the manual index.\n",
      "\n",
      "Help and information about Octave is also available on the WWW\n",
      "at http://www.octave.org and via the help@octave.org\n",
      "mailing list.\n"
     ]
    }
   ],
   "source": [
    "## VOTRE COMMANDE Help pour savoir quel sinus cardinal est-ce\n",
    "## utilisez l'AUTOCOMPLETION (appuyez sur TAB juste après 'sin') POUR TROUVER le nom du sinus cardinal\n",
    "\n",
    "help sin\n"
   ]
  },
  {
   "cell_type": "markdown",
   "metadata": {},
   "source": [
    "\n",
    "> Une recherche sur internet sera très efficace car la communauté Matlab et Octave est très grande : il y a un code .m pour tout !"
   ]
  },
  {
   "cell_type": "markdown",
   "metadata": {},
   "source": [
    "#### Valeur singulière de sinc\n",
    "La fonction \"Sinus cardinal\" est non définie en 0, mais usuellement prolongée de manière continue en 0 par un 1.\n",
    "\n",
    "Car par équivalence $\\frac{\\sin(x)}{x} \\underset{x\\to 0}{\\sim} \\frac{x}{x} = 1 \\neq 0$\n",
    "\n",
    "\n",
    "Voyons ce que fait Octave..."
   ]
  },
  {
   "cell_type": "code",
   "execution_count": 52,
   "metadata": {},
   "outputs": [
    {
     "name": "stdout",
     "output_type": "stream",
     "text": [
      "warning: division by zero\n",
      "un_sur_zero = -Inf\n",
      "warning: division by zero\n",
      "sin_zero_sur_zero = NaN\n",
      "sinc_de_matlab_en_zero =  1\n"
     ]
    }
   ],
   "source": [
    "un_sur_zero = -1/0\n",
    "sin_zero_sur_zero = sin(0)/0\n",
    "sinc_de_matlab_en_zero = sinc(0)"
   ]
  },
  {
   "cell_type": "markdown",
   "metadata": {},
   "source": [
    "Octave nous préviens d'une division par 0 qui n'est pas une erreur !   \n",
    "\n",
    "En fait le standard de codage des nombres flottants (format IEEE754) ajoute des littéraux :\n",
    " - `Inf` pour *Infinity* s'obtient avec `1/0` et `-Inf` avec `-1/0` par exemple\n",
    " - `NaN` pour *Not A Number* pour les forme indéterminées comme `0/0` ou `Inf/Inf`\n",
    "C'est le cas de tous les langages (Ada.Numerics, python, c, etc. )\n",
    " \n",
    "`NaN` est élément absorbant de tout opérateur alors que `Inf` a sa propre algèbre :"
   ]
  },
  {
   "cell_type": "code",
   "execution_count": 53,
   "metadata": {},
   "outputs": [
    {
     "name": "stdout",
     "output_type": "stream",
     "text": [
      "ans = NaN\n",
      "ans = -0\n",
      "ans = NaN\n",
      "ans = NaN\n"
     ]
    }
   ],
   "source": [
    "NaN*0\n",
    "-1/Inf\n",
    "Inf*0\n",
    "sinc(Inf)"
   ]
  },
  {
   "cell_type": "markdown",
   "metadata": {
    "tags": []
   },
   "source": [
    "## M - Matrices\n",
    "---\n",
    "\n",
    "Plusieurs outils et écritures pour manipuler vecteurs (1D), matrices (2D) et tenseurs (3D+) sont natifs en Octave."
   ]
  },
  {
   "cell_type": "markdown",
   "metadata": {},
   "source": [
    "De manière native une matrice de dimension 2 peut se déclarer avec :\n",
    " - d'abord `,` le séparateur de colonnes\n",
    " - puis `;` le séparateur de lignes   \n",
    "\n",
    "Par exemple pour l'exercice précédent"
   ]
  },
  {
   "cell_type": "code",
   "execution_count": 54,
   "metadata": {},
   "outputs": [
    {
     "name": "stdout",
     "output_type": "stream",
     "text": [
      "u =\n",
      "\n",
      "   0   1   2\n",
      "\n",
      "v =\n",
      "\n",
      "   0\n",
      "   1\n",
      "   2\n",
      "\n",
      "B =\n",
      "\n",
      "   1 + 0i   0 + 0i\n",
      "   2 + 0i   0 + 0i\n",
      "   3 + 0i   2 + 1i\n",
      "\n"
     ]
    }
   ],
   "source": [
    "u = [0, 1, 2]\n",
    "v = [0; 1; 2]\n",
    "B = [ 1, 0;\n",
    "      2, 0;\n",
    "      3, 2+i]"
   ]
  },
  {
   "cell_type": "markdown",
   "metadata": {
    "tags": []
   },
   "source": [
    "Pour créer des matrices spéciales de zéros, de 1, ou une suite de nombres"
   ]
  },
  {
   "cell_type": "code",
   "execution_count": 55,
   "metadata": {},
   "outputs": [
    {
     "name": "stdout",
     "output_type": "stream",
     "text": [
      "z =\n",
      "\n",
      "   0\n",
      "   0\n",
      "\n",
      "u =\n",
      "\n",
      "   1   1\n",
      "\n",
      "r =\n",
      "\n",
      "   0.8513006   0.0574355   0.0044409\n",
      "   0.3150233   0.2866960   0.5495659\n",
      "\n",
      "t =\n",
      "\n",
      "   1.0000   1.2000   1.4000   1.6000   1.8000   2.0000\n",
      "\n",
      "L'intervale est donc de (2-1)/(6-1)=\n",
      "ans =  0.20000\n",
      "tt =\n",
      "\n",
      "    1.0000    1.2000    1.4000    1.6000    1.8000    2.0000\n",
      "\n"
     ]
    }
   ],
   "source": [
    "clear all;\n",
    "z=zeros(2,1) % 2 rangées et 1 colonne  de zéros\n",
    "u=ones(1,2)  % 1 rangée  et 2 colonnes de uns\n",
    "r=rand(2,3)  % 2 rangées et 3 colonnes de variable aléatoire gaussiènes\n",
    "\n",
    "t=linspace(1,2,6) % en colonne, de 1 à 2 avec 6 points\n",
    "disp(\"L'intervale est donc de (2-1)/(6-1)=\"); (2-1)/(6-1)\n",
    "\n",
    "% de manière équivalente\n",
    "tt=1:0.2:2.1        % de 1 à 2.1 par pas de 0.2\n"
   ]
  },
  {
   "cell_type": "markdown",
   "metadata": {},
   "source": [
    "Les produits matriciels, scalaires existent nativement et sont les opérateurs `*`,`+`\n",
    "L'opérateur transpose existe aussi 'transpose' ainsi que la transposée hilbertienne `'` (transpose et conjugué complexe)\n",
    "\n",
    "Cela donne..."
   ]
  },
  {
   "cell_type": "code",
   "execution_count": 56,
   "metadata": {},
   "outputs": [
    {
     "name": "stdout",
     "output_type": "stream",
     "text": [
      "u_fois_z = 0\n",
      "z_fois_u =\n",
      "\n",
      "   0   0\n",
      "   0   0\n",
      "\n",
      "transpose_i_u =\n",
      "\n",
      "   0 + 1i\n",
      "   0 + 1i\n",
      "\n",
      "hilbert_i_u =\n",
      "\n",
      "   0 - 1i\n",
      "   0 - 1i\n",
      "\n",
      "longueur =  6\n",
      "taille =\n",
      "\n",
      "   1   6\n",
      "\n"
     ]
    }
   ],
   "source": [
    "u_fois_z = u*z  % produit scalaire (1,2)x(2,1)=(1,1) ou \"dot product\" \n",
    "z_fois_u =z*u   % matriciel (2,1)x(1,2)= (2,2) \n",
    "transpose_i_u = transpose(u*i)\n",
    "hilbert_i_u = (u*i)'\n",
    "longueur = length(t)\n",
    "taille = size(t)\n"
   ]
  },
  {
   "cell_type": "markdown",
   "metadata": {
    "tags": []
   },
   "source": [
    "### M - Exercice"
   ]
  },
  {
   "cell_type": "markdown",
   "metadata": {
    "tags": []
   },
   "source": [
    "  - Créez le vecteur temps `t` ligne qui va de -5 à 5 par pas de 0.5. En utilisant la notation `deb:step:fin`\n",
    "  - Utiliser la fonction `length` et `ones` pour créer un vecteur **colonne** nommé `u` formé de uns de même longueur que `t`\n",
    "  - Réfléchissez s'il faut faire `t*u` ou `u*t` pour obtenir un résultat scalaire. \n",
    "  - Ce résultat doit correspondre à la somme des valeurs de t, mais réalisé par projection scalaire avec u. Comparez avec la fonction `sum(t)` qui doit donner cette même somme qui vaut 0\n",
    "  "
   ]
  },
  {
   "cell_type": "code",
   "execution_count": 57,
   "metadata": {},
   "outputs": [],
   "source": [
    "% VOTRE CODE t=\n",
    "\n",
    "% VOTRE CODE u = ones(...)\n",
    "\n",
    "% VOTRE t*u ou u*t ?\n",
    "\n",
    "% VOTRE APPEL de sum pour avoir la somme des éléments de t = 0\n"
   ]
  },
  {
   "cell_type": "markdown",
   "metadata": {
    "tags": []
   },
   "source": [
    "Nous allons représenter le signal $s: t\\mapsto \\sin(2\\pi.t)$ en évaluant cette fonction pour tous les instants $t$ contenus dans le tableau `tt` et en mémorisant ses valeurs $s(t)$ dans un tableau `s_de_t`."
   ]
  },
  {
   "cell_type": "markdown",
   "metadata": {
    "jp-MarkdownHeadingCollapsed": true,
    "tags": []
   },
   "source": [
    "### M - Corrigé\n",
    "La cellule est cachée : **cliquez sur \"cell hidden\" ci-dessous pour la révéler**"
   ]
  },
  {
   "cell_type": "code",
   "execution_count": 58,
   "metadata": {},
   "outputs": [
    {
     "name": "stdout",
     "output_type": "stream",
     "text": [
      "t =\n",
      "\n",
      " Columns 1 through 8:\n",
      "\n",
      "   -5.0000   -4.5000   -4.0000   -3.5000   -3.0000   -2.5000   -2.0000   -1.5000\n",
      "\n",
      " Columns 9 through 16:\n",
      "\n",
      "   -1.0000   -0.5000    0.0000    0.5000    1.0000    1.5000    2.0000    2.5000\n",
      "\n",
      " Columns 17 through 21:\n",
      "\n",
      "    3.0000    3.5000    4.0000    4.5000    5.0000\n",
      "\n",
      "N =  21\n",
      "u =\n",
      "\n",
      "   1\n",
      "   1\n",
      "   1\n",
      "   1\n",
      "   1\n",
      "   1\n",
      "   1\n",
      "   1\n",
      "   1\n",
      "   1\n",
      "   1\n",
      "   1\n",
      "   1\n",
      "   1\n",
      "   1\n",
      "   1\n",
      "   1\n",
      "   1\n",
      "   1\n",
      "   1\n",
      "   1\n",
      "\n",
      "somme_matricielle = 0\n",
      "somme_sum = 0\n"
     ]
    }
   ],
   "source": [
    "% VOTRE CODE\n",
    "t=-5:0.5:5 % à vous de modifier\n",
    "N = length(t)\n",
    "u = ones(N,1)\n",
    "somme_matricielle = t*u        % ligne (1,N) x (N,1) en colonne = (1,1) scalaire \n",
    "somme_sum =sum(t)"
   ]
  },
  {
   "cell_type": "markdown",
   "metadata": {
    "tags": []
   },
   "source": [
    "## B - Boucles\n",
    "---\n",
    "Une première solution est de faire une boucle `for` comme en ADA.  \n",
    "Mais elle n'utilise pas les possibilités du langage et le dénature..."
   ]
  },
  {
   "cell_type": "code",
   "execution_count": 59,
   "metadata": {},
   "outputs": [
    {
     "name": "stdout",
     "output_type": "stream",
     "text": [
      "s_de_t =\n",
      "\n",
      "  -2.4493e-16   9.5106e-01   5.8779e-01  -5.8779e-01  -9.5106e-01  -4.8986e-16\n",
      "\n"
     ]
    }
   ],
   "source": [
    "for id = 1:6\n",
    "    t = tt(id); % ; pour ne pas afficher\n",
    "    s_de_t(id)=sin(2*pi*t);\n",
    "end\n",
    "s_de_t % sans ; pour afficher"
   ]
  },
  {
   "cell_type": "markdown",
   "metadata": {
    "tags": []
   },
   "source": [
    "La représentation numérique en notation scientifique n'est pas très visuelle ! On va utiliser un affichage avec `plot`\n",
    "\n",
    "Le premier vecteur est la valeur des abscisses et le second **de même taille** les ordonnées de chaque point."
   ]
  },
  {
   "cell_type": "code",
   "execution_count": 60,
   "metadata": {
    "tags": []
   },
   "outputs": [
    {
     "data": {
      "image/png": "[encoded data removed]",
      "text/plain": [
       "<IPython.core.display.Image object>"
      ]
     },
     "metadata": {},
     "output_type": "display_data"
    }
   ],
   "source": [
    "plot(tt,s_de_t)"
   ]
  },
  {
   "cell_type": "markdown",
   "metadata": {},
   "source": [
    "### B - Exercice   \n",
    "Augmentez le nombre de points en faisant passer la **période d'échantillonnage $T_e$** (l'écart régulier entre deux valeurs du temps dans la représentation : qui est ici de 0.2 s) à une valeur de $0.1$.\n",
    "\n",
    "Vous utiliserez la fonction `length` pour connaitre le nombre de points de `tt` et modifier votre boucle."
   ]
  },
  {
   "cell_type": "code",
   "execution_count": 61,
   "metadata": {},
   "outputs": [
    {
     "data": {
      "image/png": "[encoded data removed]",
      "text/plain": [
       "<IPython.core.display.Image object>"
      ]
     },
     "metadata": {},
     "output_type": "display_data"
    }
   ],
   "source": [
    "Te=0.1;\n",
    "%% MODIFER pour redéfinir le vecteur temps tt de 1 à 2 par pas de Te=0.1\n",
    "\n",
    "%% ADAPTER la boucle avec la fonction length\n",
    "for id = 1:6\n",
    "    t = tt(id); % ; pour ne pas afficher\n",
    "    s_de_t(id)=sin(2*pi*t);\n",
    "end\n",
    "\n",
    "plot(x=tt, y=s_de_t, fmt='-+') ; %% style avec des + reliés par une ligne"
   ]
  },
  {
   "cell_type": "markdown",
   "metadata": {
    "jp-MarkdownHeadingCollapsed": true,
    "tags": []
   },
   "source": [
    "### B - Corrigé\n",
    "La cellule est cachée : **cliquez sur \"cell hidden\" ci-dessous pour la révéler**"
   ]
  },
  {
   "cell_type": "code",
   "execution_count": 62,
   "metadata": {},
   "outputs": [
    {
     "data": {
      "image/png": "[encoded data removed]",
      "text/plain": [
       "<IPython.core.display.Image object>"
      ]
     },
     "metadata": {},
     "output_type": "display_data"
    }
   ],
   "source": [
    "Te=0.1;\n",
    "%% MODIFER pour redéfinir le vecteur temps tt de 1 à 2 par pas de Te=0.1\n",
    "tt=1:Te:2;\n",
    "\n",
    "%% ADAPTER la boucle avec la fonction length\n",
    "for id = 1:length(tt)\n",
    "    t = tt(id); % ; pour ne pas afficher\n",
    "    s_de_t(id)=sin(2*pi*t);\n",
    "end\n",
    "\n",
    "plot(x=tt, y=s_de_t, fmt='-+') ; %% style avec des + reliés par une ligne"
   ]
  },
  {
   "cell_type": "markdown",
   "metadata": {
    "tags": []
   },
   "source": [
    "## V - Vectorisation\n",
    "---\n",
    "\n",
    "Les opérateurs matriciels étant natifs, les fonctions peuvent s'appliquer autant à des matrices qu'à des scalaires.   \n",
    "La pluspart des taches peuvent se faire en \"vectorisant le calcul\" ou en utilisant le calcul matriciel.\n",
    "\n",
    "Donc pour créer un signal et le calculer on peut :\n",
    " - utiliser des boucle for (voir [B - Boucles](#B---Boucles)) mais c'est inélégant et peu puissant\n",
    " - utiliser la vectorisation pour appliquer des calculs au signal entier : puissant et élégant\n",
    "\n"
   ]
  },
  {
   "cell_type": "markdown",
   "metadata": {
    "tags": []
   },
   "source": [
    "### Exemple du [B - Boucles](#B---Boucles) en vectorisant\n",
    "\n",
    " Octave sait multiplier une matrice par un scalaire et sait appliquer la fonction `sin` à une matrice pour donner une matrice de même taille contenant l'évaluation de $\\sin$ pour chaque élément...\n",
    "\n",
    " L'utilisation dans le cas de [B - Exercice](#B---Exercice) est immédiate !\n",
    " \n",
    "Reprenons le vecteur temps de 6 points et testons nos calculs matriciels"
   ]
  },
  {
   "cell_type": "code",
   "execution_count": 63,
   "metadata": {},
   "outputs": [
    {
     "name": "stdout",
     "output_type": "stream",
     "text": [
      "ans =\n",
      "\n",
      "     6.2832     7.5398     8.7965    10.0531    11.3097    12.5664\n",
      "\n",
      "ans =\n",
      "\n",
      "  -2.4493e-16   9.5106e-01   5.8779e-01  -5.8779e-01  -9.5106e-01  -4.8986e-16\n",
      "\n"
     ]
    }
   ],
   "source": [
    "tt= 1:0.2:2;\n",
    "2*pi*tt\n",
    "sin(2*pi*tt)"
   ]
  },
  {
   "cell_type": "markdown",
   "metadata": {},
   "source": [
    "La ligne `sin(2*pi*tt)` effectue implicitement une boucle for dans tous les éléments de l'argument `2*pi*tt` qui est un vecteur et produit un vecteur de même taille de tous les résultats.\n",
    "\n",
    "Vous pouvez donc refaire l'exercice, mais sans boucle for **en une seule ligne !**"
   ]
  },
  {
   "cell_type": "code",
   "execution_count": 64,
   "metadata": {
    "tags": []
   },
   "outputs": [
    {
     "data": {
      "image/png": "[encoded data removed]",
      "text/plain": [
       "<IPython.core.display.Image object>"
      ]
     },
     "metadata": {},
     "output_type": "display_data"
    }
   ],
   "source": [
    "tt=1:Te:2;\n",
    "\n",
    "% VOTRE CODE s_de_t = en une ligne\n",
    "s_de_t = tt;\n",
    "\n",
    "plot(tt, s_de_t , \"rs--\") %Read Squares reliés par des tirets"
   ]
  },
  {
   "cell_type": "markdown",
   "metadata": {
    "tags": []
   },
   "source": [
    "### Vectorisation des opérateurs de comparaison\n",
    "Les opérateurs de comparaison sont vectorisés et donnent des vecteurs de booléens.\n",
    "\n",
    "Ces vecteurs de booléens sont promus au rang de nombres avec '1' pour vrai et '0' sinon.\n",
    "Cela est très pratique pour construire des fonctions par morceaux sans faire de *if* dans un *for*. \n",
    " \n",
    "Faisons le vecteur de la fonction $u(\\bullet-2)$ à l'ancienne"
   ]
  },
  {
   "cell_type": "code",
   "execution_count": 65,
   "metadata": {},
   "outputs": [
    {
     "data": {
      "image/png": "[encoded data removed]",
      "text/plain": [
       "<IPython.core.display.Image object>"
      ]
     },
     "metadata": {},
     "output_type": "display_data"
    }
   ],
   "source": [
    "clear s_de_t\n",
    "\n",
    "tt=1.5:0.25:2.5 ;\n",
    "\n",
    "for id=1:length(tt)\n",
    "    t = tt(id);\n",
    "    if (t<2) \n",
    "        s_de_t(id) = 0;\n",
    "    else\n",
    "        s_de_t(id) = 1;\n",
    "    end\n",
    "end\n",
    "plot(tt,s_de_t,'o-')"
   ]
  },
  {
   "cell_type": "markdown",
   "metadata": {},
   "source": [
    "Mais si l'on utilise la vectorisation de la condition $t<2$, sur le tableau des valeurs de t nommé `tt`, on obtient un vecteur des comparaisons avec des 1 et des 0 !\n",
    "Ce qui est facile à manipuler...\n",
    "\n",
    "On a ainsi les fonctions échelons, portes, et *pseudo_dirac* (impulsion unité)"
   ]
  },
  {
   "cell_type": "code",
   "execution_count": 66,
   "metadata": {
    "scrolled": true,
    "tags": []
   },
   "outputs": [
    {
     "name": "stdout",
     "output_type": "stream",
     "text": [
      "tt =\n",
      "\n",
      "    1.5000    1.7500    2.0000    2.2500    2.5000\n",
      "\n",
      "ans =\n",
      "\n",
      "  1  1  0  0  0\n",
      "\n",
      "ans =\n",
      "\n",
      "  0  0  1  1  1\n",
      "\n",
      "ans =\n",
      "\n",
      "  0  0  1  1  1\n",
      "\n"
     ]
    }
   ],
   "source": [
    "tt\n",
    "tt < 2\n",
    "tt >= 2\n",
    "not(tt<2)\n"
   ]
  },
  {
   "cell_type": "code",
   "execution_count": 67,
   "metadata": {},
   "outputs": [
    {
     "name": "stdout",
     "output_type": "stream",
     "text": [
      "ans =\n",
      "\n",
      "  0  0  1  0  0\n",
      "\n",
      "ans =\n",
      "\n",
      "  0  0  1  0  0\n",
      "\n",
      "ans =\n",
      "\n",
      "  1  1  0  0  1\n",
      "\n"
     ]
    }
   ],
   "source": [
    "tt == 2\n",
    "(tt<=2) & (tt>=2)  % & est le ET par élément alors que && est le logique à la ADA\n",
    "(tt<=1.75) | (tt>=2.5) % | le OU elementwise et || le OU logique (pour les if ou while style ADA)"
   ]
  },
  {
   "cell_type": "markdown",
   "metadata": {
    "tags": []
   },
   "source": [
    "### V - Exercice "
   ]
  },
  {
   "cell_type": "markdown",
   "metadata": {},
   "source": [
    "Utilisez les opérateurs par éléments que sont le `+-` matriciels et le `+-*\\` entre vecteur **et scalaire**\n",
    "pour fabriquer les tableaux de valeurs `g_de_t` de la fonction :   \n",
    "$g: t \\mapsto u(t)+u(t-1)+u(t-2)-3.u(t-3))$ ou de manière plus lisible   \n",
    "$g = u(\\bullet)+u(\\bullet-1)+u(\\bullet-2)-3.u(\\bullet-3)$\n",
    "\n",
    "Où $u$ est la fonction de Heaviside (0 quand t<0, et 1 sinon) que vous fabriquerez par vectorisation de l'opérateur `>`"
   ]
  },
  {
   "cell_type": "code",
   "execution_count": 68,
   "metadata": {},
   "outputs": [
    {
     "data": {
      "image/png": "[encoded data removed]",
      "text/plain": [
       "<IPython.core.display.Image object>"
      ]
     },
     "metadata": {},
     "output_type": "display_data"
    }
   ],
   "source": [
    "%% VOTRE CODE tt= \n",
    "% pour avoir un vecteur temps tt entre -0.5 et 3.5 par pas de 0.1\n",
    "\n",
    "%% MODIFIEZ g_de_t= pour avoir les 3 marches d'escalier\n",
    "g_de_t = (tt>0) ;\n",
    "\n",
    "%%AFFICHAGE\n",
    "plot(tt, g_de_t, 'ko-.'); % blacK cicrcle \"o\" avec trait discontinus \"-.\""
   ]
  },
  {
   "cell_type": "markdown",
   "metadata": {
    "jp-MarkdownHeadingCollapsed": true,
    "tags": []
   },
   "source": [
    "### V - Corrigé\n",
    "La cellule est cachée : **cliquez sur \"cell hidden\" ci-dessous pour la révéler**"
   ]
  },
  {
   "cell_type": "code",
   "execution_count": 69,
   "metadata": {},
   "outputs": [
    {
     "data": {
      "image/png": "[encoded data removed]",
      "text/plain": [
       "<IPython.core.display.Image object>"
      ]
     },
     "metadata": {},
     "output_type": "display_data"
    }
   ],
   "source": [
    "%% MODIFIEZ tt= \n",
    "% pour avoir un vecteur temps tt entre -0.5 et 3.5 par pas de 0.25\n",
    "tt=-0.5:0.25:3.5;\n",
    "\n",
    "%% MODIFIEZ g_de_t=\n",
    "g_de_t = (tt>0)+(tt>1)+(tt>2)-3*(tt>3) ;\n",
    "\n",
    "%%AFFICHAGE\n",
    "plot(tt, g_de_t, 'ko-.'); % blacK cicrcle \"o\" avec trait discontinus \"-.\""
   ]
  },
  {
   "cell_type": "markdown",
   "metadata": {
    "tags": []
   },
   "source": [
    "## E - Opérateur par éléments\n",
    "---\n",
    "\n",
    "Les opérateurs *in fixe* de base comme `*/^` sont des opérateurs matriciels (le `/` existe en matriciel et consiste à résoudre un système, il se note à l'envers `\\`).\n",
    "\n",
    "Pour faire du calcul vectorisé **élément par élément** (*elementwise*), on met un `.` en préfixe de l'opérateur soit `.* ./ .^`.\n",
    "\n",
    "> Cela permet de multiplier des signaux (ou plutôt leurs tableaux de valeurs) entre eux."
   ]
  },
  {
   "cell_type": "markdown",
   "metadata": {
    "tags": []
   },
   "source": [
    "### Produits de signaux\n",
    "\n",
    "Si l'on veut multiplier le signal $g : t\\mapsto e^{-t}$ par le signal échelon $u$.   \n",
    "On est tenté de faire cela pour afficher $f=g.u$"
   ]
  },
  {
   "cell_type": "code",
   "execution_count": 70,
   "metadata": {},
   "outputs": [
    {
     "name": "stdout",
     "output_type": "stream",
     "text": [
      "error: operator *: nonconformant arguments (op1 is 1x41, op2 is 1x41)\n"
     ]
    }
   ],
   "source": [
    "tt=-1:0.1:3;   % tt pour \"Table de T\"\n",
    "\n",
    "g_de_t = exp(-tt);      % Par vectorisation de la fonction matlab exp()\n",
    "u_de_t = (tt >= 0) ;    % échelon par vectorisation de >=\n",
    "f_de_t = g_de_t*u_de_t"
   ]
  },
  {
   "cell_type": "markdown",
   "metadata": {},
   "source": [
    "Et oui ! Matlab utilise le produit matriciel et un produit (1,n)x(1,n) ne respecte pas la relation de Chasles, car $,n\\neq1,$\n",
    "\n",
    "> Il faut alors demander la version \"élément par élément\" du produit avec `.*` ce qui donne"
   ]
  },
  {
   "cell_type": "code",
   "execution_count": 71,
   "metadata": {},
   "outputs": [
    {
     "data": {
      "image/png": "[encoded data removed]",
      "text/plain": [
       "<IPython.core.display.Image object>"
      ]
     },
     "metadata": {},
     "output_type": "display_data"
    }
   ],
   "source": [
    "f_de_t = g_de_t .* u_de_t ;\n",
    "plot(tt, f_de_t,'o-')"
   ]
  },
  {
   "cell_type": "markdown",
   "metadata": {
    "tags": []
   },
   "source": [
    "### E - Exercice"
   ]
  },
  {
   "cell_type": "markdown",
   "metadata": {
    "tags": []
   },
   "source": [
    "Attention à la taille des matrices sur des produits éléments par éléments~:\n",
    "> il faut **la même taille** comme pour les `plot`s (affichage) d'ailleurs.\n",
    "\n",
    "À vous de le faire fonctionner en surveillant les tailles et en utilisant les produits par éléments `.*` au bon moment.\n",
    "\n",
    "On veut que `f_de_t` soit la fonction $t\\mapsto u(t).g(t)+ 2.u(t)$"
   ]
  },
  {
   "cell_type": "code",
   "execution_count": 72,
   "metadata": {
    "tags": []
   },
   "outputs": [
    {
     "name": "stdout",
     "output_type": "stream",
     "text": [
      "taille_u =\n",
      "\n",
      "    1   37\n",
      "\n",
      "taille_g =\n",
      "\n",
      "   1   9\n",
      "\n",
      "error: operator *: nonconformant arguments (op1 is 1x37, op2 is 1x9)\n",
      "taille_f =\n",
      "\n",
      "    1   41\n",
      "\n",
      "error: __plt2vv__: vector lengths must match\n",
      "error: called from\n",
      "    __plt__>__plt2vv__ at line 489 column 5\n",
      "    __plt__>__plt2__ at line 248 column 14\n",
      "    __plt__ at line 113 column 17\n",
      "    plot at line 223 column 10\n",
      "error: __plt2vv__: vector lengths must match\n",
      "error: called from\n",
      "    __plt__>__plt2vv__ at line 489 column 5\n",
      "    __plt__>__plt2__ at line 248 column 14\n",
      "    __plt__ at line 113 column 17\n",
      "    plot at line 223 column 10\n",
      "error: __plt2vv__: vector lengths must match\n",
      "error: called from\n",
      "    __plt__>__plt2vv__ at line 489 column 5\n",
      "    __plt__>__plt2__ at line 248 column 14\n",
      "    __plt__ at line 113 column 17\n",
      "    plot at line 223 column 10\n"
     ]
    },
    {
     "data": {
      "image/png": "[encoded data removed]",
      "text/plain": [
       "<IPython.core.display.Image object>"
      ]
     },
     "metadata": {},
     "output_type": "display_data"
    }
   ],
   "source": [
    "tt=-1:0.5:3;   % tt pour \"Table de T\"\n",
    "\n",
    "g_de_t = exp(-tt); % Par vectorisation de la fonction matlab exp()\n",
    "u_de_t = (tt >= 0) ; %  vectorisation de supérieur ou égal >=\n",
    "\n",
    "tt=-0.5:0.1:3.1; % raffinement de tt\n",
    "\n",
    "%% MODIFIER POUR QUE CA MARCHE\n",
    "%  quitte à réévaluer certains signaux \n",
    "%  qui n'ont pas la bonne taille !\n",
    "u_de_t = (tt >= 0) ; \n",
    "taille_u=size(u_de_t)\n",
    "taille_g=size(g_de_t)\n",
    "f_de_t = u_de_t * g_de_t + 2 * u_de_t ;\n",
    "taille_f=size(f_de_t)\n",
    "\n",
    "%% subplot permet de diviser une figure en plusieurs graphiques\n",
    "subplot(3,1,1) % 3 rangées de graphiques et 1 colonne : on se met dans le premier\n",
    "plot(tt,u_de_t,'ob-')\n",
    "subplot(3,1,2) % 3 rangées de graphique et 1 colonne : on se met dans le deuxième\n",
    "%plot(tt,exp(-tt),'o-')\n",
    "\n",
    "plot(tt,g_de_t,'og-')\n",
    "subplot(313) % on se met dans le troisième graphique\n",
    "\n",
    "plot(tt,u_de_t,'b--'); hold on ; % superpose des graphiques\n",
    "plot(tt,g_de_t,'g--');\n",
    "plot(tt,f_de_t,'ko-'); \n"
   ]
  },
  {
   "cell_type": "markdown",
   "metadata": {
    "jp-MarkdownHeadingCollapsed": true,
    "tags": []
   },
   "source": [
    "### E - Corrigé\n",
    "La cellule est cachée : **cliquez sur \"cell hidden\" ci-dessous pour la révéler**"
   ]
  },
  {
   "cell_type": "code",
   "execution_count": 73,
   "metadata": {},
   "outputs": [
    {
     "name": "stdout",
     "output_type": "stream",
     "text": [
      "taille_u =\n",
      "\n",
      "    1   37\n",
      "\n",
      "taille_g =\n",
      "\n",
      "    1   37\n",
      "\n",
      "taille_f =\n",
      "\n",
      "    1   37\n",
      "\n"
     ]
    },
    {
     "data": {
      "image/png": "[encoded data removed]",
      "text/plain": [
       "<IPython.core.display.Image object>"
      ]
     },
     "metadata": {},
     "output_type": "display_data"
    }
   ],
   "source": [
    "tt=-1:0.5:3;   % tt pour \"Table de T\"\n",
    "\n",
    "g_de_t = exp(-tt); % Par vectorisation de la fonction matlab exp()\n",
    "u_de_t = (tt >= 0) ; %  vectorisation de supérieur ou égal >=\n",
    "\n",
    "tt=-0.5:0.1:3.1; % raffinement de tt\n",
    "%% MODIFIER POUR QUE CA MARCHE\n",
    "u_de_t = (tt >= 0) ; \n",
    "g_de_t = exp(-tt);  % Il faut aussi réévaluer g_de_t pour \n",
    "                    % pour avoir le même nombre de valeurs\n",
    "taille_u=size(u_de_t)\n",
    "taille_g=size(g_de_t)\n",
    "f_de_t = u_de_t .* g_de_t + 2 * u_de_t ;\n",
    "%                |        |   |\n",
    "%                P1       S   P2\n",
    "% Le produit P1 est (1,37) x (1,37) -> (1,37)\n",
    "%    n'est pas matriciel : il faut demander par élément avec .*\n",
    "% La somme S est (1,37) + (1,37) -> (1,37) matricielle\n",
    "%  c'est d'ailleur une somme élément par éléments + <-> .+\n",
    "% Le produit P2 est (1,1) x (1,37) -> (1,37) matriciel\n",
    "% pas besoin de demander un produit par élément ce sera fait...\n",
    "\n",
    "taille_f=size(f_de_t)\n",
    "\n",
    "\n",
    "%% subplot permet de diviser une figure en plusieurs graphiques\n",
    "subplot(3,1,1) % 3 rangees de graphiques et 1 colonne : on se met dans le premier\n",
    "plot(tt,u_de_t,'ob-')\n",
    "subplot(3,1,2) % 3 rangees de graphique et 1 colonne : on se met dans le deuxième\n",
    "%plot(tt,exp(-tt),'o-')\n",
    "\n",
    "plot(tt,g_de_t,'og-')\n",
    "subplot(313) % on se met dans le troisième graphique\n",
    "\n",
    "plot(tt,u_de_t,'b--'); hold on ; % superpose des graphiques\n",
    "plot(tt,g_de_t,'g--');\n",
    "plot(tt,f_de_t,'ko-'); \n"
   ]
  },
  {
   "cell_type": "markdown",
   "metadata": {
    "tags": []
   },
   "source": [
    "### **BONUS matrices** : Prenons le cas de produits matriciels définis et non définis.\n",
    "Pour celles qui se posent la signification de `A/B` et `A\\B` pour des matrices...\n",
    "Alors que A./B ne pose aucun porblème."
   ]
  },
  {
   "cell_type": "code",
   "execution_count": 74,
   "metadata": {},
   "outputs": [
    {
     "name": "stdout",
     "output_type": "stream",
     "text": [
      "A =\n",
      "\n",
      "   1   1   0\n",
      "   0   1   1\n",
      "   0   0   2\n",
      "\n",
      "B =\n",
      "\n",
      "   1   2   3\n",
      "\n",
      "B*A OK car (1,3)x(3,3)\n",
      "ans =\n",
      "\n",
      "   1   3   8\n",
      "\n",
      "A*B=erreur car (3,3)x(1,3)\n",
      "error: operator *: nonconformant arguments (op1 is 3x3, op2 is 1x3)\n",
      "A_carre =\n",
      "\n",
      "   1   2   1\n",
      "   0   1   3\n",
      "   0   0   4\n",
      "\n",
      "B/A existe ! \n",
      "x =\n",
      "\n",
      "   1   1   1\n",
      "\n",
      "Tel que x*A = B\n",
      "ans =\n",
      "\n",
      "   1   2   3\n",
      "\n"
     ]
    }
   ],
   "source": [
    "A = [1,1,0;\n",
    "     0,1,1;\n",
    "     0,0,2]\n",
    "B = (1:3)\n",
    "disp(\"B*A OK car (1,3)x(3,3)\")\n",
    "B*A\n",
    "disp(\"A*B=erreur car (3,3)x(1,3)\")\n",
    "A*B\n",
    "A_carre = A^2\n",
    "disp(\"B/A existe ! \")\n",
    "x = B/A\n",
    "disp (\"Tel que x*A = B\")\n",
    "x*A"
   ]
  },
  {
   "cell_type": "markdown",
   "metadata": {},
   "source": [
    "Pour `A/B`, matlab fait appel à un solveur numérique pour trouver le vecteur  \n",
    "$x \\quad | \\quad x.A = B \\iff \\frac{B}{A}.A= B$ par la gauche (combi. de rangées)\n",
    "\n",
    "$x$ est donc **une combinaison de rangées** de A qui donne le vecteur rangée B.\n",
    "\n",
    "\n",
    "Avec `A\\C`, c'est le produit à droite qui est inversé tel que :\n",
    "$y \\quad | \\quad A.y = C \\iff A.\\frac{C}{A}= C$ par la droite (combi. de colonnes)\n",
    "\n",
    "$y$ est donc **une combinaison de colonnes** de A qui donne le vecteur colonne C."
   ]
  },
  {
   "cell_type": "markdown",
   "metadata": {
    "tags": []
   },
   "source": [
    "---\n",
    "## T - Test récap.\n",
    "---\n",
    "\n",
    "Vous pouvez maintenant terminer l'[exercice 3 du premier TD  moodle](https://moodle.insa-toulouse.fr/pluginfile.php/33895/mod_resource/content/5/TD_prise_en_main_Matlab_Octave_signal_2IMACS.pdf#page=6) qui consiste à afficher sur le même graphique deux signaux :\n",
    " - $f_1:t \\mapsto 2.\\cos\\left(\\frac{2\\pi}{10}.t\\right)$\n",
    " - $f_2:t \\mapsto 2.\\cos\\left(\\frac{2\\pi}{10}.t\\right).\\sin\\left(\\frac{2\\pi}{10}.t\\right)$\n",
    "\n",
    "En affichant pour un temps allant de -5 à 5 avec une période d'échantillonnage de 0.5.\n",
    "\n",
    "Modifiez la cellule ci-dessous ou faites-le avec l'IDE d'octave (Menu-> Outils système -> Terminal pour lancer un terminal puis `octave  --gui`)\n",
    "\n"
   ]
  },
  {
   "cell_type": "code",
   "execution_count": 75,
   "metadata": {},
   "outputs": [
    {
     "name": "stdout",
     "output_type": "stream",
     "text": [
      "warning: legend: plot data is empty; setting key labels has no effect\n",
      "warning: called from\n",
      "    legend at line 378 column 9\n",
      "error: kids(0): subscripts must be either integers 1 to (2^31)-1 or logicals\n",
      "error: called from\n",
      "    legend at line 408 column 13\n"
     ]
    },
    {
     "data": {
      "image/png": "[encoded data removed]",
      "text/plain": [
       "<IPython.core.display.Image object>"
      ]
     },
     "metadata": {},
     "output_type": "display_data"
    }
   ],
   "source": [
    "%% Une solution de l'intro octave 1 \n",
    "% Affiche les deux fonctions f1 et f_2 du sujet\n",
    "% https://moodle.insa-toulouse.fr/pluginfile.php/33895/mod_resource/content/5/TD_prise_en_main_Matlab_Octave_signal_2IMACS.pdf\n",
    "%%___________________________________________________________\n",
    "\n",
    "%% Fait le ménage\n",
    "clear all % les variables\n",
    "close all % ferme les fenêtres\n",
    "clc       % efface la console (fenêtre de commandes)\n",
    "\n",
    "%%________________________________________\n",
    "%% définition de paramètres et constantes\n",
    "% Utilisatrice : modifiez le code ci-dessous \n",
    "\n",
    "Te = 0.5; % période d'échantillonnage [s]\n",
    "tmin=-5; \n",
    "tmax=5;\n",
    "\n",
    "\n",
    "A = 2;  % amplitude du signal [V]\n",
    "F = 1/10; % fréquence du signal cos [Hz] de f1 (voir sujet)\n",
    "Fsin = F ; % fréquence du sin f2 (voir sujet)\n",
    "%Utilisatrice : Ne plus modifier le code au delà de cette ligne\n",
    "%%_______________________________________\n",
    "\n",
    "%%VOTRE CODE tt=\n",
    "\n",
    "%%VOTRE CODE f1_de_t=\n",
    "\n",
    "%%VOTRE CODE sin_de_t\n",
    "% le signal sinus tel que f2 = f1*sinus\n",
    "\n",
    "%%VOTRE CODE f2_de_t=\n",
    "% en utilisant le produit de suignaux\n",
    "\n",
    "%% Affichage\n",
    "%%VOTRE CODE PLOT de f1 en rouge\n",
    "\n",
    "hold on;               % ne pas effacer le graphique précédent pour supperposer\n",
    "%VOS PLOT de sin_de_t et de f2\n",
    "\n",
    "grid on;\n",
    "xlabel(\"temps [s]\");\n",
    "ylabel(\"signaux [v]\");\n",
    "legend([\"f1 (cos)\"; \"le sin\";\"le produit f2\"])\n",
    "title(\"f2 = Cos fois sin\")\n"
   ]
  },
  {
   "cell_type": "markdown",
   "metadata": {
    "jp-MarkdownHeadingCollapsed": true,
    "tags": []
   },
   "source": [
    "### T - Corrigé\n",
    "La cellule est cachée : **cliquez sur \"cell hidden\" ci-dessous pour la révéler**"
   ]
  },
  {
   "cell_type": "code",
   "execution_count": 76,
   "metadata": {},
   "outputs": [
    {
     "data": {
      "image/png": "[encoded data removed]",
      "text/plain": [
       "<IPython.core.display.Image object>"
      ]
     },
     "metadata": {},
     "output_type": "display_data"
    }
   ],
   "source": [
    "%% Une solution de l'intro octave 1 \n",
    "% Affiche les deux fonctions f1 et f_2 du sujet\n",
    "% https://moodle.insa-toulouse.fr/pluginfile.php/33895/mod_resource/content/5/TD_prise_en_main_Matlab_Octave_signal_2IMACS.pdf\n",
    "%%___________________________________________________________\n",
    "\n",
    "%% Fait le ménage\n",
    "clear all % les variables\n",
    "close all % ferme les fenêtres\n",
    "clc       % efface la console (fenêtre de commandes)\n",
    "\n",
    "%%________________________________________\n",
    "%% définition de paramètres et constantes\n",
    "% Utilisatrice : modifiez le code ci-dessous \n",
    "\n",
    "Te = 0.5; % période d'échantillonnage [s]\n",
    "tmin=-5; \n",
    "tmax=5;\n",
    "\n",
    "\n",
    "A = 2;  % amplitude du signal [V]\n",
    "F = 1/10; % fréquence du signal cos [Hz] de f1 (voir sujet)\n",
    "Fsin = F ; % fréquence du sin f2 (voir sujet)\n",
    "\n",
    "% Ne plus modifier le code au delà de cette ligne\n",
    "%%_______________________________________\n",
    "\n",
    "t=tmin:Te:tmax ; % vecteur temps \n",
    "f1_de_t =  A * cos(2*pi*F*t); % vectorisation sur t !\n",
    "sin_de_t = sin(2*pi*Fsin*t); % vectorisation sur t\n",
    "f2_de_t = f1_de_t .* sin_de_t; % produit de signaux\n",
    "%                  ^\n",
    "%                  |___ produit élément par élément ici \n",
    "\n",
    "\n",
    "%% Affichage\n",
    "plot(t, f1_de_t,'r');     % trait rouge\n",
    "hold on;               % ne pas effacer le graphique précédent pour supperposer\n",
    "plot(t, sin_de_t, 'b'); % que des points verts\n",
    "plot(t, f2_de_t, 'k'); % que des points verts\n",
    "grid on;\n",
    "xlabel(\"temps [s]\");\n",
    "ylabel(\"signaux [v]\");\n",
    "legend([\"f1 (cos)\"; \"le sin\";\"le produit f2\"])\n",
    "title(\"f2 = Cos fois sin\")\n"
   ]
  },
  {
   "cell_type": "markdown",
   "metadata": {
    "jp-MarkdownHeadingCollapsed": true,
    "tags": []
   },
   "source": [
    "### T - Corr. avec Bouclettes\n",
    "La cellule est cachée : **cliquez sur \"cell hidden\" ci-dessous pour la révéler**"
   ]
  },
  {
   "cell_type": "markdown",
   "metadata": {},
   "source": [
    "Une solution avec des bouclette for obsolètes..."
   ]
  },
  {
   "cell_type": "code",
   "execution_count": 77,
   "metadata": {
    "tags": []
   },
   "outputs": [
    {
     "data": {
      "image/png": "[encoded data removed]",
      "text/plain": [
       "<IPython.core.display.Image object>"
      ]
     },
     "metadata": {},
     "output_type": "display_data"
    }
   ],
   "source": [
    "%% Une solution de l'intro octave 1 \n",
    "% Affiche les deux fonctions f1 et f_2 du sujet\n",
    "% https://moodle.insa-toulouse.fr/pluginfile.php/33895/mod_resource/content/5/TD_prise_en_main_Matlab_Octave_signal_2IMACS.pdf\n",
    "%%___________________________________________________________\n",
    "\n",
    "%% Fait le ménage\n",
    "clear all % les variables\n",
    "close all % ferme les fenêtres\n",
    "clc       % efface la console (fenêtre de commandes)\n",
    "\n",
    "%%________________________________________\n",
    "%% définition de paramètres et constantes\n",
    "% Utilisatrice : modifiez le code ci-dessous \n",
    "\n",
    "Te = 0.5; % période d'échantillonnage [s]\n",
    "tmin=-5; \n",
    "tmax=5;\n",
    "\n",
    "\n",
    "A = 2;  % amplitude du signal [V]\n",
    "F = 1/10; % fréquence du signal cos [Hz] de f1 (voir sujet)\n",
    "Fsin = F ; % fréquence du sin f2 (voir sujet)\n",
    "\n",
    "% Ne plus modifier le code au delà de cette ligne\n",
    "%%_______________________________________\n",
    "\n",
    "% N=nombre de points espacés de Te entre tmin et tmax\n",
    "N= round((tmax-tmin)/(Te))+1; %round = entier le plus proche de x\n",
    "\n",
    "%calcul du tableau  tt\n",
    "tt=zeros(1,N); % init à 0 \n",
    "t=tmin;\n",
    "for id=1:N\n",
    "    tt(id)=t;\n",
    "    t=t+Te;\n",
    "end\n",
    "\n",
    "% calcul des signaux \n",
    "for id=1:N\n",
    "    t=tt(id); % instant t lu dans le tableau tt\n",
    "    f1_de_t(id) =  A * cos(2*pi*F*t); % vectorisation sur t !\n",
    "    sin_de_t(id) = sin(2*pi*Fsin*t); % vectorisation sur t\n",
    "    f2_de_t(id) = f1_de_t(id) * sin_de_t(id); % produit de signaux\n",
    "%                             ^\n",
    "%                             |___ produit classique ici \n",
    "end\n",
    "\n",
    "%% Affichage\n",
    "plot(tt, f1_de_t,'r');     % trait rouge\n",
    "hold on;               % ne pas effacer le graphique précédent pour supperposer\n",
    "plot(tt, sin_de_t, 'b'); % que des points verts\n",
    "plot(tt, f2_de_t, 'k'); % que des points verts\n",
    "grid on;\n",
    "xlabel(\"temps [s]\");\n",
    "ylabel(\"signaux [v]\");\n",
    "legend([\"f1 (cos)\"; \"le sin\";\"le produit f2\"])\n",
    "title(\"f2 = Cos fois sin\")\n"
   ]
  }
 ],
 "metadata": {
  "kernelspec": {
   "display_name": "Octave",
   "language": "octave",
   "name": "octave"
  },
  "language_info": {
   "file_extension": ".m",
   "help_links": [
    {
     "text": "GNU Octave",
     "url": "https://www.gnu.org/software/octave/support.html"
    },
    {
     "text": "Octave Kernel",
     "url": "https://github.com/Calysto/octave_kernel"
    },
    {
     "text": "MetaKernel Magics",
     "url": "https://metakernel.readthedocs.io/en/latest/source/README.html"
    }
   ],
   "mimetype": "text/x-octave",
   "name": "octave",
   "version": "4.2.2"
  },
  "latex_envs": {
   "LaTeX_envs_menu_present": true,
   "autoclose": false,
   "autocomplete": true,
   "bibliofile": "biblio.bib",
   "cite_by": "apalike",
   "current_citInitial": 1,
   "eqLabelWithNumbers": true,
   "eqNumInitial": 1,
   "hotkeys": {
    "equation": "Ctrl-E",
    "itemize": "Ctrl-I"
   },
   "labels_anchors": false,
   "latex_user_defs": false,
   "report_style_numbering": false,
   "user_envs_cfg": false
  }
 },
 "nbformat": 4,
 "nbformat_minor": 4
}
