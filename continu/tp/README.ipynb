{
 "cells": [
  {
   "cell_type": "markdown",
   "id": "36cb06ea-36aa-4a9b-be22-f3ca0f4a4fbc",
   "metadata": {
    "tags": []
   },
   "source": [
    "---\n",
    "# Guide de TP\n",
    "---\n",
    "\n",
    "\n",
    "Il y a deux sujets de TP :\n",
    "\n",
    " 1. Décomposition en séries de Fourier [TP1 moodle](https://moodle.insa-toulouse.fr/mod/resource/view.php?id=24774) en 1 séance avec compte rendu (léger et en ligne sur moodle) et le code à déposer sur moodle. \n",
    "\n",
    "   **Je vous conseille fortement de faire le [travail papier préparatoire TP1](TP1.ipynb) et de me  laisser vos calculs sous forme papier pour que je les corrige : cela remplasse le compte rendu succint demandé**\n",
    "   \n",
    " 2. Convolution et correlation [TP2 moodle](https://moodle.insa-toulouse.fr/mod/resource/view.php?id=24778) en 2 séances\n",
    "  \n",
    "   **Voir les instructions du [TP2](TP2.ipynb)**\n",
    "   "
   ]
  },
  {
   "cell_type": "code",
   "execution_count": null,
   "id": "2cacedcb-c35c-4433-b9ac-afc492eddbd8",
   "metadata": {},
   "outputs": [],
   "source": []
  }
 ],
 "metadata": {
  "kernelspec": {
   "display_name": "Python 3 (ipykernel)",
   "language": "python",
   "name": "python3"
  },
  "language_info": {
   "codemirror_mode": {
    "name": "ipython",
    "version": 3
   },
   "file_extension": ".py",
   "mimetype": "text/x-python",
   "name": "python",
   "nbconvert_exporter": "python",
   "pygments_lexer": "ipython3",
   "version": "3.8.5"
  }
 },
 "nbformat": 4,
 "nbformat_minor": 5
}
