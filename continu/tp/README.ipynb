{
 "cells": [
  {
   "cell_type": "markdown",
   "id": "36cb06ea-36aa-4a9b-be22-f3ca0f4a4fbc",
   "metadata": {
    "jp-MarkdownHeadingCollapsed": true,
    "tags": []
   },
   "source": [
    "---\n",
    "# Guide de TP\n",
    "---\n",
    "\n",
    "\n",
    "Il y a deux sujets de TP :\n",
    "\n",
    "1. Décomposition en séries de Fourier [TP1](https://moodle.insa-toulouse.fr/mod/resource/view.php?id=24774) en 1 séance\n",
    "  - un script `noms_binones_Gpe_X_TP1_1.m` pour la decomposition numérique + calculs **à remettre sur moodle**\n",
    "  - un script `noms_binones_Gpe_X_TP1_2.m` pour le calcul de la puissance moyenne en numérique + calcul **à remettre sur moodle**\n",
    "    \n",
    "2. Convolution et correlation [TP2](https://moodle.insa-toulouse.fr/mod/resource/view.php?id=24774) en 2 séances\n",
    "\n",
    "\n"
   ]
  },
  {
   "cell_type": "markdown",
   "id": "c6a64262-a98e-4a55-a5d5-604c2b0c75cd",
   "metadata": {},
   "source": [
    "\n",
    "# Préparation du TP1\n",
    "---\n",
    "\n",
    "Vous allez faire un script `noms_binones_Gpe_X_TP1_1.m` programme qui :\n",
    "- calcule les coefficients de Série de Fourier réels (a(n) et b(n)) et imaginaires (c(n)) ;\n",
    "- affiche ces valeurs de coefficients sous forme de spectre (amplitude et phase) ;\n",
    "- calcule une somme partielle de Fourier et affiche cette fonction par-dessus la fonction décomposée.\n",
    "\n",
    "Pour vérifier s'il n'y a pas d'erreurs dans ce programme, vous allez comparer les résultats approchés numériquement par octave **aux calculs que vous aurez faits à l'avance**\n",
    "\n"
   ]
  },
  {
   "cell_type": "markdown",
   "id": "9206563c-d51e-4c81-9283-62a7d942cf9e",
   "metadata": {
    "tags": []
   },
   "source": [
    "## Calcul des séries (Partie 1 du sujet de TP1)\n",
    "\n",
    "Vous avez deux signaux dans [le sujet p.11 q4](https://moodle.insa-toulouse.fr/mod/resource/view.php?id=24774#page=11)\n",
    "- f(t) est le sinus en valeur absolue qui se ramène à celui vu dans l'exo2 de manière classique [Exo 2 S.d.F.](https://nbviewer.org/github/balaise31/Signal/blob/master/continu/tds/ch5_s6_series.ipynb#Exercice-2-:) et en passant par Laplace dans [Exo 2 S.d.F. suite](https://nbviewer.org/github/balaise31/Signal/blob/master/continu/tds/ch5_s9_series.ipynb#Faire-le-lien-avec-Laplace-(exo-2))  \n",
    "pour cela il faut trouver la relation entre T0 et alpha.\n",
    "  - posez-vous à nouveau la question de la période d'un tel signal ! T0 est-elle bien la période ? Faites entuite le lien avec la période trouvée en fonction de alpha   \n",
    "  - calculez cette série des deux manières vue en TD (calcul direct et par Laplace) et vérifiez le résultat\n",
    "  - Effectuez les contrôles habituels pour être sûre de votre expression analytique :\n",
    "    + homogénéité des termes (arguments des exponentielles et sinus sans dimention, c(n) de dimension [V])\n",
    "    + c(0) doit être la surface algébrique du signal\n",
    "    + pas de T0 dans l'expression de c(n) (étirement temporel uniquement sur les vecteurs de base)\n",
    "    + A doit intervenir linéairement : c(n)=A... (étirement d'amplitude uniquement sur les coordonnées de la base)\n",
    "    + c(n) tend vers 0 quand n tend vers l'infini pour avoir convergence de la série de Fourier.\n",
    "- g(t), si vous avez suivi les [indiquations de l'exo 3e) des TF](https://nbviewer.org/github/balaise31/Signal/blob/master/continu/tds/ch6_tf.ipynb#Exercice-3) vous avez la formule des c(n). Bien faire une vérification en faisant le lien comme indiqué avec l'[ex1.3 SdF](https://moodle.insa-toulouse.fr/mod/resource/view.php?id=24741#page=95)\n",
    "\n"
   ]
  },
  {
   "cell_type": "markdown",
   "id": "781f1174-a6a6-4d88-a02a-5783bc76505b",
   "metadata": {},
   "source": [
    "## Calcul de la puissance moyenne (Partie 2 du sujet de TP1)\n",
    "\n",
    "De la même manière, vous allez calculer l'énergie sur une période ou la puissance moyenne de signaux.  \n",
    "\n",
    "- Cela peut se faire en temporel\n",
    "  + de manière analytique en calculant l'intégrale du module au carré\n",
    "  + de manière numérique avec un script octave faisant la somme des carrés \n",
    "\n",
    "- Cela peut se faire en fréquentiel\n",
    "  + de manière analytique avec le théorème de Parseval et la somme des coefficients au carré\n",
    "  + de manière numérique avec un script octave faisant la somme des coefficients en module au carré\n",
    "\n"
   ]
  },
  {
   "cell_type": "markdown",
   "id": "067cb060-d15c-4856-bc23-714a48247f4f",
   "metadata": {},
   "source": [
    "### Révisez la notion de puissance moyenne \n",
    "\n",
    "1. Revenez sur [l'exercice 1.1 et 1.2](https://nbviewer.org/github/balaise31/Signal/blob/master/continu/tds/ch5_s9_series.ipynb#Exercice-1.1-et-1.2) qui abordent la notion de spectre et de puissance moyenne.\n",
    "\n",
    "2. Attention au piège [des bases de Fourier normées ou non ](https://nbviewer.org/github/balaise31/Signal/blob/master/continu/tds/intro_series.ipynb#Coefs-de-Fourier-avec-une-base-imaginaire-norm%C3%A9e-:-c(n)) ! **Vous pouvez perdre la moitié de la puissance moyenne du signal par erreur et la totalité des points à l'interro !**\n",
    "\n",
    "3. Calculez analityquement en temporel la puissance moyenne des signaux f(t) et g(t)\n",
    "\n",
    "4. Comment faire ce calcul avec octave ?\n",
    "\n",
    "## Révisions sur octave\n",
    "\n",
    "1. Retournez sur la page de [TD d'init à octave](https://nbviewer.org/github/balaise31/Signal/tree/master/continu/tds/intro_octave. ipynb) et revoyez votre code\n",
    "\n",
    "2. En guise de correction regardez ce qui est fait pour l'[exo 3 des SdF en octave](https://nbviewer.org/github/balaise31/Signal/tree/master/continu/tds/Series_exo3_pour_TP.ipynb) : c'est quasiment le corrigé du TP1 ! En séance repartez de 0 et faites vos scripts en vous inspirant de ce que vous avez compris.\n",
    "\n"
   ]
  },
  {
   "cell_type": "markdown",
   "id": "791c7742-79c3-4e1f-bc37-16eb59fd8823",
   "metadata": {},
   "source": [
    "### Consignes sur les scripts\n",
    "\n",
    "En TP vous calculerez numériquement la valeur des $c(n), a(n), b(n)$ pour quelques valeurs de $n$.  \n",
    "Ce script devra donner les mêmes valeurs que la formule trouvée analityquement.\n",
    "\n",
    "> l'avantage est que ce script pourra calculer des SdF dont on n'a pas de résultat analytique car :\n",
    "> - il n'y a pas de formule connue (primitive inconnue)\n",
    "> - le signal n'est pas connu mathématiquement (enregistrement de valeurs)\n",
    "> - on n'a pas le temps ni le talent pour le faire \n",
    "\n",
    "Il peut être utile/élégant/lisible de définir **vous-mêmes** les versions numériques des opérateurs :\n",
    "- **intégrale** d'un vecteur de valeurs `integ = @(signal_de_t, Te) ...` \n",
    "- **produit scalaire périodique** entre deux signaux `scalp = @(gauche_de_t, droite_de_t, periode, Te) ...` \n",
    "- **Série de Fourier** d'un signal `sdf = @(temps, signal_de_t, periode, Te) ...`\n",
    "\n",
    "Votre script pourra s'adapter à n'importe quelle fonction. Dans un script **on ne demande jamais à l'utilisatice de rentrer des valeurs pendant l'exécution !** : ce serait pénible voir impossible de demander \"quelle est la fonction\"...\n",
    "\n",
    "Comme Matlab/octave est un langage interprété, **l'utilisatrice modifie directement le début du script** puis lance l'exécution.\n",
    "\n",
    "Ce qui donne un script du type \n",
    "\n",
    "```matlab\n",
    "clear all\n",
    "close all\n",
    "clc \n",
    "\n",
    "\n",
    "%%____________________________________________________________________\n",
    "%% Configs utilisatrice\n",
    "% Entrez ici votre fonction f et sa période T0\n",
    "f = @(t) abs(sin(t)) ;\n",
    "T0 = 2*pi ;\n",
    "\n",
    "% Parametrez la période d'échantillonage et la fenêtre d'observation \n",
    "Te = 0.1 ;\n",
    "tmin = -T0 ; \n",
    "tmax = T0 ;\n",
    "\n",
    "%% NE PAS MODIFIER LA SUITE du script\n",
    "%%____________________________________________________________________\n",
    "\n",
    "\n",
    "%% Fonctions utiles\n",
    "integ = @(signal_de_t,Te) sum(signal_de_t)*Te ;\n",
    "\n",
    "%% Calculs \n",
    "t = tmin:Te:tmax ;\n",
    "f_de_t = f(t) ;\n",
    "\n",
    "%% Affichage\n",
    "plot(t,f_de_t)\n",
    "\n",
    "\n",
    "```"
   ]
  },
  {
   "cell_type": "code",
   "execution_count": null,
   "id": "2cacedcb-c35c-4433-b9ac-afc492eddbd8",
   "metadata": {},
   "outputs": [],
   "source": []
  }
 ],
 "metadata": {
  "kernelspec": {
   "display_name": "Python 3 (ipykernel)",
   "language": "python",
   "name": "python3"
  },
  "language_info": {
   "codemirror_mode": {
    "name": "ipython",
    "version": 3
   },
   "file_extension": ".py",
   "mimetype": "text/x-python",
   "name": "python",
   "nbconvert_exporter": "python",
   "pygments_lexer": "ipython3",
   "version": "3.10.1"
  }
 },
 "nbformat": 4,
 "nbformat_minor": 5
}
