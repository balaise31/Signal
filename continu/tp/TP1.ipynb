{
 "cells": [
  {
   "cell_type": "markdown",
   "id": "ba532b58-6358-4046-9bbd-ebb8faa33383",
   "metadata": {},
   "source": [
    "\n",
    "# Préparation du TP1\n",
    "---\n",
    "\n",
    "Vous allez faire un script `noms_binones_Gpe_X_TP1_1.m` programme qui :\n",
    "- calcule les coefficients de Série de Fourier réels (a(n) et b(n)) et imaginaires (c(n)) ;\n",
    "- affiche ces valeurs de coefficients sous forme de spectre (amplitude et phase) ;\n",
    "- calcule une somme partielle de Fourier et affiche cette fonction par-dessus la fonction décomposée.\n",
    "\n",
    "Pour vérifier s'il n'y a pas d'erreurs dans ce programme, vous allez comparer les résultats approchés numériquement par octave **aux calculs que vous aurez faits à l'avance** qui constitueront une **partie du compte-rendu papier à produire**\n",
    "\n"
   ]
  },
  {
   "cell_type": "markdown",
   "id": "991ee546-a010-4fcc-9d6d-a98e127e964b",
   "metadata": {
    "tags": []
   },
   "source": [
    "## Calcul des séries (Partie 1 du sujet de TP1)\n",
    "\n",
    "Vous avez deux signaux dans [le sujet p.11 q4](https://moodle.insa-toulouse.fr/mod/resource/view.php?id=24774#page=11)\n",
    "\n",
    "### Premier signal $f$\n",
    "f(t) est le sinus en valeur absolue qui se ramène à celui de l'[SdF Exo 3](../td/S6_series.ipynb#Exercice-3-:) vu de manière classique en TD.\n",
    "  - vérifiez le calcul direct en passant cette fois-ci par Laplace comme dans [SdF Exo 3 version Laplace](../td/S7_sdf_suite.ipynb#Dans-l'exo-3).\n",
    "  - Effectuez les contrôles habituels pour être sûre de votre expression analytique :\n",
    "    + homogénéité des termes (arguments des exponentielles et sinus sans dimention, c(n) de dimension [V])\n",
    "    + c(0) doit être la valeur moyenne sur une période \n",
    "    + pas de T0 dans l'expression de c(n) (étirement temporel uniquement dans les cos et sin pas les amplitudes )\n",
    "    + A doit intervenir linéairement : c(n)=A... (étirement d'amplitude uniquement sur les coordonnées de la base)\n",
    "    + c(n) tend vers 0 quand n tend vers l'infini pour ne pas avoir divergence de la série de Fourier (somme infinie).\n",
    "    + parité en lien avec les coefs $b(n)$ tous nuls, et la partie imaginaire de $c(n)$\n"
   ]
  },
  {
   "cell_type": "markdown",
   "id": "01a50702-1f05-4bf9-9f41-5d6af0f6f6de",
   "metadata": {},
   "source": [
    "### Deuxième signal $g$\n",
    "\n",
    "<img src=\"../td/images/fonction_g_tp1.png\" width=200pt>\n",
    "\n",
    "Pour $g(t)$ faites l'exo   [S9 - TF suite : exo 3e](../td/S9_tf_suite.ipynb#Exercice-3) et obtenez la transformée de Fourier $\\hat{G}(f)$.\n",
    "- voir [lien avec SdF (fin du notebook)](../td/S8_transformees.ipynb#Lien-avec-Sdf) et passez de la transformée de Fourier $\\hat{G}(f)$ aux séries de Fourier de coefs $c(n)$. Simplifiez comme expliqué pour éliminer ce $T_0$ ! On peut noter le rapport cyclique $\\frac{\\tau}{T_0}=\\alpha$ pour faire disparaître $T_0$.\n",
    "- simplifiez le $e^{-i.\\pi.n}$ en dessinant le cercle trigo. Sinon la vérification de la relation entre parité et les parties réelles et imaginaires de $c(n)$ ne fonctionnera pas...\n",
    "- Faites bien les vérifications (c(0), parité, $n\\to\\infty$ , unitées c(n) en [V], hilbert $c(-n)=\\overline{c(n)}$, pas de $T_0$)\n",
    "- Développez donc $g(t)$ en séries de Fourier complexes (avec $\\sum. c(n). \\dots$ et donnez l'expression en coef réels (avec $b(n)$)\n",
    "- Retardez ce signal d'un temps $\\Delta$ et écrire ce que devient le développement complexe $g(t-\\Delta) = \\sum \\dots e^{i.n\\omega_0.t}$. Vous retrouvez le théorème du retard pour les séries ($e^{-\\Delta.p)}$ en remplaçant $p$ par $j\\omega$ (TF) puis $\\omega$ par $n\\omega_0$ (SdF). On trouve ainsi les coefficients $c'(n)$ de  $g(t-\\Delta)$.\n",
    "- Cherchez un retard $\\Delta$ qui rend $g(t)$ paire (soit en temporel soit en rendant les $c'(n)$ réels ou imaginaires). Vérifiez la cohérence.  \n",
    "- BONUS Pour vérifier, constatez que la fonction de l'[Ex1.3 SdF](https://moodle.insa-toulouse.fr/mod/resource/view.php?id=24741#page=102) est un cas particulier de $g(t)$.\n",
    "  * Identifiez la valeur de $\\tau$ qui convient et vérifiez que cela colle avec la bonne séries de l'exo 1.3.\n",
    "  * Votre résultat de la forme $i.(-1)^n.c.\\text{sinc}(a.n).sin(b.n)$ ne ressemble pas au résultat 3b de l'exo 1.3 de la forme $\\dots\\frac{\\cos(\\dots n) + \\cos(\\dots n)}{a.n}$. C'est **pourtant la même chose** ! il suffit de passer  en $\\frac{\\sin(a.n).\\sin(b.n)}{a.n}$ puis en $\\frac{\\cos(\\dots n) + \\cos(\\dots n)}{a.n}$ avec une formule trigo.\n",
    "  * Pour retrouver la formule trigo (la mémoire et internet c'est pour les faibles, pas vous !) :\n",
    "    - dessinez et calculez $e^{i.a}.e^{i.b}$ en séparant les partie réelles et imaginaires : on trouve les formules de $\\cos(a+b)$ et $\\sin(a+b)$\n",
    "    - de même avec $e^{i.a}.e^{-i.b}$  on trouve les formules de $\\cos(a-b)$ et $\\sin(a-b)$\n",
    "    - cherchez la combinaison de ses deux équations  $\\alpha e^{i.a}.e^{i.b} + \\beta e^{i.a}.e^{-i.b} $ qui permet d'obtenir la formule $\\sin(a).\\sin(b)=\\dots$\n",
    "    - on retrouve le même résultat si on dessine la combinaison ci-dessus $e^{i.(a+b)}-e^{i(a-b)}$ dont on extrait la partie réelle de la somme. Si l'on factorise avec la technique de l'arc moitiée en $e^{i.a}.(\\dots)$, il suffit de regarder la partie réelle du produit (attention $R(z_1.z_2)\\neq R(z_1).R(z_2)$ sauf si $z_1$ ou $z_2$ est réel). On retrouve encore le résultat.\n"
   ]
  },
  {
   "cell_type": "markdown",
   "id": "52f77654-9bb0-4c87-9aaa-5da727cfea8e",
   "metadata": {
    "tags": []
   },
   "source": [
    "## Calcul de la puissance moyenne (Partie 2 du sujet de TP1)\n",
    "\n",
    "De la même manière, vous allez calculer l'énergie sur une période ou la puissance moyenne de signaux.  \n",
    "\n",
    "- Cela peut se faire en temporel\n",
    "  + de manière analytique en calculant l'intégrale du module au carré\n",
    "  + de manière numérique avec un script octave faisant la somme des carrés \n",
    "\n",
    "- Cela peut se faire en fréquentiel\n",
    "  + de manière analytique avec le théorème de Parseval et la somme des modules des coefficients de Fourier au carré\n",
    "  + de manière numérique avec un script octave faisant la somme des coefficients en module au carré\n",
    "\n"
   ]
  },
  {
   "cell_type": "markdown",
   "id": "0b1789e3-41b1-4986-9e4f-ec47a8dc6670",
   "metadata": {},
   "source": [
    "### Révisez la notion de puissance moyenne \n",
    "\n",
    "1. Revenez sur [Exo 1.2 des SdF](../td/S7_sdf_suite.ipynb#1.2) qui abordent la notion de spectre et de puissance moyenne.\n",
    "\n",
    "2. Attention au piège [Intro séries : Bases de Fourier non normée ](../td/notebooks/intro_series.ipynb#Coefs-de-Fourier-sont-dans-une-base-r%C3%A9elle-NON-norm%C3%A9e) ! **Vous pouvez perdre la moitié de la puissance moyenne du signal par erreur et la totalité des points à l'interro !**\n",
    "\n",
    "3. Calculez analityquement en temporel la puissance moyenne des signaux f(t) et g(t)\n",
    "\n",
    "4. Comment faire ce calcul avec octave ?\n",
    "\n",
    "## Révisions sur octave\n",
    "\n",
    "\n",
    "1. En guise de correction regardez ce qui est fait pour l'[SDF Bac à sable: Exo 3](../td/notebooks/SDF_bac_a_sable.ipynb#Exercice-4--pour-le-TP) : c'est quasiment le corrigé du TP1 !     \n",
    "\n",
    "2. Si vous ne comprenez-pas le code octave du bac à sable, retournez sur la page de [TD d'init à octave](../td/notebooks/intro_octave.ipynb) et revoyez votre code\n",
    "\n",
    "**En séance repartez de 0 et faites vos scripts en vous inspirant de ce que vous avez compris.**\n",
    "\n"
   ]
  },
  {
   "cell_type": "markdown",
   "id": "ee99a50f-f078-4d7f-9b8d-c698537a1cde",
   "metadata": {
    "tags": []
   },
   "source": [
    "### Consignes sur les scripts\n",
    "\n",
    "En TP vous calculerez numériquement la valeur des $c(n), a(n), b(n)$ pour quelques valeurs de $n$.  \n",
    "Ce script devra donner les mêmes valeurs que la formule trouvée analityquement.\n",
    "\n",
    "> l'avantage est que ce script pourra calculer des SdF dont on n'a pas de résultat analytique car :\n",
    "> - il n'y a pas de formule connue (primitive inconnue)\n",
    "> - le signal n'est pas connu mathématiquement (enregistrement de valeurs)\n",
    "> - on n'a pas le temps ni le talent pour le faire \n",
    "\n",
    "\n",
    "Votre script pourra s'adapter à n'importe quelle fonction. Dans un script **on ne demande jamais à l'utilisatice de rentrer des valeurs pendant l'exécution !** : ce serait pénible voir impossible de demander \"quelle est la fonction\"...\n",
    "\n",
    "Comme Matlab/octave est un langage interprété, **l'utilisatrice modifie directement le début du script** puis lance l'exécution.\n",
    "\n",
    "Ce qui donne un script du type \n",
    "\n",
    "```octave\n",
    "clear all\n",
    "close all\n",
    "clc \n",
    "\n",
    "\n",
    "%%____________________________________________________________________\n",
    "%% Configs utilisatrice\n",
    "% Entrez ici votre fonction f et sa période T0\n",
    "f = @(t) abs(sin(t)) ;\n",
    "T0 = 2*pi ;\n",
    "\n",
    "% Parametrez la période d'échantillonage et la fenêtre d'observation \n",
    "Te = 0.1 ;\n",
    "tmin = -T0 ; \n",
    "tmax = T0 ;\n",
    "\n",
    "%% NE PAS MODIFIER LA SUITE du script\n",
    "%%____________________________________________________________________\n",
    "\n",
    "\n",
    "%% Fonctions utiles\n",
    "integ = @(signal_de_t,Te) sum(signal_de_t)*Te ;\n",
    "\n",
    "%% Calculs \n",
    "t = tmin:Te:tmax ;\n",
    "f_de_t = f(t) ;\n",
    "\n",
    "%% Affichage\n",
    "plot(t,f_de_t)\n",
    "```"
   ]
  },
  {
   "cell_type": "code",
   "execution_count": null,
   "id": "7b2c9f1e-81f1-4a16-8d37-ea76e5e3d0ab",
   "metadata": {},
   "outputs": [],
   "source": []
  }
 ],
 "metadata": {
  "kernelspec": {
   "display_name": "Octave",
   "language": "octave",
   "name": "octave"
  },
  "language_info": {
   "file_extension": ".m",
   "help_links": [
    {
     "text": "GNU Octave",
     "url": "https://www.gnu.org/software/octave/support.html"
    },
    {
     "text": "Octave Kernel",
     "url": "https://github.com/Calysto/octave_kernel"
    },
    {
     "text": "MetaKernel Magics",
     "url": "https://metakernel.readthedocs.io/en/latest/source/README.html"
    }
   ],
   "mimetype": "text/x-octave",
   "name": "octave",
   "version": "4.2.2"
  }
 },
 "nbformat": 4,
 "nbformat_minor": 5
}
