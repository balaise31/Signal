{
 "cells": [
  {
   "cell_type": "markdown",
   "id": "ba532b58-6358-4046-9bbd-ebb8faa33383",
   "metadata": {},
   "source": [
    "\n",
    "# Préparation du TP1\n",
    "---\n",
    "\n",
    "Vous allez faire un script `noms_binones_Gpe_X_TP1_1.m` programme qui :\n",
    "- calcule les coefficients de Série de Fourier réels (a(n) et b(n)) et imaginaires (c(n)) ;\n",
    "- affiche ces valeurs de coefficients sous forme de spectre (amplitude et phase) ;\n",
    "- calcule une somme partielle de Fourier et affiche cette fonction par-dessus la fonction décomposée.\n",
    "\n",
    "Pour vérifier s'il n'y a pas d'erreurs dans ce programme, vous allez comparer les résultats approchés numériquement par octave **aux calculs que vous aurez faits à l'avance** qui constitueront une **partie du compte-rendu papier à produire**\n",
    "\n"
   ]
  },
  {
   "cell_type": "markdown",
   "id": "991ee546-a010-4fcc-9d6d-a98e127e964b",
   "metadata": {
    "tags": []
   },
   "source": [
    "## Calcul des séries (Partie 1 du sujet de TP1)\n",
    "\n",
    "Vous avez deux signaux dans [le sujet p.11 q4](https://moodle.insa-toulouse.fr/mod/resource/view.php?id=24774#page=11)\n",
    "- f(t) est le sinus en valeur absolue qui se ramène à celui vu dans l'exo2 de manière classique [S6 - SdF : Exo 2](../td/S6_series.ipynb#Exercice-2-:) et en passant par Laplace dans [S7 - Sdf Suite : Exo 2 version Laplace](../td/S7_sdf_suite.ipynb#Faire-le-lien-avec-Laplace-(exo-2))  \n",
    "pour cela il faut trouver la relation entre T0 et alpha.\n",
    "  - calculez cette série des deux manières vues en TD (calcul direct et par Laplace) et vérifiez le résultat\n",
    "  - Effectuez les contrôles habituels pour être sûre de votre expression analytique :\n",
    "    + homogénéité des termes (arguments des exponentielles et sinus sans dimention, c(n) de dimension [V])\n",
    "    + c(0) doit être la surface algébrique du signal\n",
    "    + pas de T0 dans l'expression de c(n) (étirement temporel uniquement sur les vecteurs de base)\n",
    "    + A doit intervenir linéairement : c(n)=A... (étirement d'amplitude uniquement sur les coordonnées de la base)\n",
    "    + c(n) tend vers 0 quand n tend vers l'infini pour avoir convergence de la série de Fourier.\n",
    "- g(t), si vous avez suivi les [S9 - TF suite : exo 3e](../td/S9_tf_suite.ipynb#Exercice-3) vous avez la formule des c(n). Bien faire une vérification en faisant le lien comme indiqué avec l'[ex1.3 SdF](https://moodle.insa-toulouse.fr/mod/resource/view.php?id=24741#page=95)\n",
    "\n"
   ]
  },
  {
   "cell_type": "markdown",
   "id": "52f77654-9bb0-4c87-9aaa-5da727cfea8e",
   "metadata": {
    "tags": []
   },
   "source": [
    "## Calcul de la puissance moyenne (Partie 2 du sujet de TP1)\n",
    "\n",
    "De la même manière, vous allez calculer l'énergie sur une période ou la puissance moyenne de signaux.  \n",
    "\n",
    "- Cela peut se faire en temporel\n",
    "  + de manière analytique en calculant l'intégrale du module au carré\n",
    "  + de manière numérique avec un script octave faisant la somme des carrés \n",
    "\n",
    "- Cela peut se faire en fréquentiel\n",
    "  + de manière analytique avec le théorème de Parseval et la somme des modules des coefficients de Fourier au carré\n",
    "  + de manière numérique avec un script octave faisant la somme des coefficients en module au carré\n",
    "\n"
   ]
  },
  {
   "cell_type": "markdown",
   "id": "0b1789e3-41b1-4986-9e4f-ec47a8dc6670",
   "metadata": {},
   "source": [
    "### Révisez la notion de puissance moyenne \n",
    "\n",
    "1. Revenez sur [S7 - SdF suite : 1.1 et 1.2](../td/S7_sdf_suite.ipynb#Exercice-1.1-et-1.2) qui abordent la notion de spectre et de puissance moyenne.\n",
    "\n",
    "2. Attention au piège [Intro séries : Bases de Fourier non normée ](../td/notebooks/intro_series.ipynb#Coefs-de-Fourier-avec-une-base-r%C3%A9elle-:-a(n)-et-b(n)) ! **Vous pouvez perdre la moitié de la puissance moyenne du signal par erreur et la totalité des points à l'interro !**\n",
    "\n",
    "3. Calculez analityquement en temporel la puissance moyenne des signaux f(t) et g(t)\n",
    "\n",
    "4. Comment faire ce calcul avec octave ?\n",
    "\n",
    "## Révisions sur octave\n",
    "\n",
    "\n",
    "1. En guise de correction regardez ce qui est fait pour l'[SDF Bac à sable: Exo 3](../td/notebooks/SDF_bac_a_sable.ipynb#Exercice-3--pour-le-TP) : c'est quasiment le corrigé du TP1 !     \n",
    "\n",
    "2. Si vous ne comprenez-pas le code octave du bac à sable, retournez sur la page de [TD d'init à octave](../td/notebooks/intro_octave.ipynb) et revoyez votre code\n",
    "\n",
    "**En séance repartez de 0 et faites vos scripts en vous inspirant de ce que vous avez compris.**\n",
    "\n"
   ]
  },
  {
   "cell_type": "markdown",
   "id": "ee99a50f-f078-4d7f-9b8d-c698537a1cde",
   "metadata": {
    "tags": []
   },
   "source": [
    "### Consignes sur les scripts\n",
    "\n",
    "En TP vous calculerez numériquement la valeur des $c(n), a(n), b(n)$ pour quelques valeurs de $n$.  \n",
    "Ce script devra donner les mêmes valeurs que la formule trouvée analityquement.\n",
    "\n",
    "> l'avantage est que ce script pourra calculer des SdF dont on n'a pas de résultat analytique car :\n",
    "> - il n'y a pas de formule connue (primitive inconnue)\n",
    "> - le signal n'est pas connu mathématiquement (enregistrement de valeurs)\n",
    "> - on n'a pas le temps ni le talent pour le faire \n",
    "\n",
    "Il peut être utile/élégant/lisible de définir **vous-mêmes** les versions numériques des opérateurs :\n",
    "- **intégrale** d'un vecteur de valeurs `integ = @(signal_de_t, Te) ...` \n",
    "- **produit scalaire périodique** entre deux signaux `scalp = @(gauche_de_t, droite_de_t, periode, Te) ...` \n",
    "- **Série de Fourier** d'un signal `sdf = @(temps, signal_de_t, periode, Te) ...`\n",
    "\n",
    "Votre script pourra s'adapter à n'importe quelle fonction. Dans un script **on ne demande jamais à l'utilisatice de rentrer des valeurs pendant l'exécution !** : ce serait pénible voir impossible de demander \"quelle est la fonction\"...\n",
    "\n",
    "Comme Matlab/octave est un langage interprété, **l'utilisatrice modifie directement le début du script** puis lance l'exécution.\n",
    "\n",
    "Ce qui donne un script du type \n",
    "\n",
    "```octave\n",
    "clear all\n",
    "close all\n",
    "clc \n",
    "\n",
    "\n",
    "%%____________________________________________________________________\n",
    "%% Configs utilisatrice\n",
    "% Entrez ici votre fonction f et sa période T0\n",
    "f = @(t) abs(sin(t)) ;\n",
    "T0 = 2*pi ;\n",
    "\n",
    "% Parametrez la période d'échantillonage et la fenêtre d'observation \n",
    "Te = 0.1 ;\n",
    "tmin = -T0 ; \n",
    "tmax = T0 ;\n",
    "\n",
    "%% NE PAS MODIFIER LA SUITE du script\n",
    "%%____________________________________________________________________\n",
    "\n",
    "\n",
    "%% Fonctions utiles\n",
    "integ = @(signal_de_t,Te) sum(signal_de_t)*Te ;\n",
    "\n",
    "%% Calculs \n",
    "t = tmin:Te:tmax ;\n",
    "f_de_t = f(t) ;\n",
    "\n",
    "%% Affichage\n",
    "plot(t,f_de_t)\n",
    "```"
   ]
  },
  {
   "cell_type": "code",
   "execution_count": null,
   "id": "7b2c9f1e-81f1-4a16-8d37-ea76e5e3d0ab",
   "metadata": {},
   "outputs": [],
   "source": []
  }
 ],
 "metadata": {
  "kernelspec": {
   "display_name": "Octave",
   "language": "octave",
   "name": "octave"
  },
  "language_info": {
   "file_extension": ".m",
   "help_links": [
    {
     "text": "GNU Octave",
     "url": "https://www.gnu.org/software/octave/support.html"
    },
    {
     "text": "Octave Kernel",
     "url": "https://github.com/Calysto/octave_kernel"
    },
    {
     "text": "MetaKernel Magics",
     "url": "https://metakernel.readthedocs.io/en/latest/source/README.html"
    }
   ],
   "mimetype": "text/x-octave",
   "name": "octave",
   "version": "4.2.2"
  }
 },
 "nbformat": 4,
 "nbformat_minor": 5
}
