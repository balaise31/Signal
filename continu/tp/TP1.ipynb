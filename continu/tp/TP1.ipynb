{
 "cells": [
  {
   "cell_type": "markdown",
   "id": "ba532b58-6358-4046-9bbd-ebb8faa33383",
   "metadata": {},
   "source": [
    "\n",
    "# Préparation du TP1\n",
    "---\n",
    "\n",
    "Vous allez faire un script qui :\n",
    "- calcule les coefficients de Série de Fourier réels (a(n) et b(n)) et imaginaires (c(n)) ;\n",
    "- affiche ces valeurs de coefficients sous forme de spectre (amplitude et phase) ;\n",
    "- calcule une somme partielle de Fourier et affiche cette fonction par-dessus la fonction décomposée.\n",
    "\n",
    "Pour vérifier s'il n'y a pas d'erreurs dans ce programme, vous allez comparer les résultats approchés numériquement par octave **aux calculs que vous aurez faits à l'avance** qui constitueront une **partie du compte-rendu papier à produire**\n",
    "\n",
    " 1. Travail préparatoire [Calcul des Séries](#1.-Calcul-des-s%C3%A9ries) analytique sur papier\n",
    " 2. Travail préparatoire [Calcul des puissances moyennes](#2.-Calcul-de-la-puissance-moyenne) analytique sur papier\n",
    " 3. [En TP1](#3.-En-TP1) démarrez sous (linux/octave/notebooks) ou bien sous (windows/matlab/github) avec le script de départ.\n",
    "    - Le [QUIZZ](#4.-QUIZZ) matlab est à faire avant/pendant car ils vous donne des solutions pour faire le TP en matriciel\n",
    "    - puis prenez le [script](#Script) de départ \n"
   ]
  },
  {
   "cell_type": "markdown",
   "id": "991ee546-a010-4fcc-9d6d-a98e127e964b",
   "metadata": {
    "tags": []
   },
   "source": [
    "## 1. Calcul des séries\n",
    "\n",
    "Vous avez deux signaux dans [le sujet p.11 q4](https://moodle.insa-toulouse.fr/mod/resource/view.php?id=24774#page=11)\n",
    "\n",
    "### Premier signal $f$\n",
    "f(t) est le sinus en valeur absolue qui se ramène à celui de l'[SdF Exo 3](../td/S6_series.ipynb#Exercice-3-:) vu de manière classique en TD.\n",
    "  - vérifiez le calcul direct en passant cette fois-ci par Laplace comme dans [SdF Exo 3 version Laplace](../td/S7_sdf_suite.ipynb#Dans-l'exo-3).\n",
    "  - Effectuez les contrôles habituels pour être sûre de votre expression analytique :\n",
    "    + homogénéité des termes (arguments des exponentielles et sinus sans dimention, c(n) de dimension [V])\n",
    "    + c(0) doit être la valeur moyenne sur une période \n",
    "    + pas de T0 dans l'expression de c(n) (étirement temporel uniquement dans les cos et sin pas les amplitudes )\n",
    "    + A doit intervenir linéairement : c(n)=A... (étirement d'amplitude uniquement sur les coordonnées de la base)\n",
    "    + c(n) tend vers 0 quand n tend vers l'infini pour ne pas avoir divergence de la série de Fourier (somme infinie).\n",
    "    + parité en lien avec les coefs $b(n)$ tous nuls, et la partie imaginaire de $c(n)$\n"
   ]
  },
  {
   "cell_type": "markdown",
   "id": "01a50702-1f05-4bf9-9f41-5d6af0f6f6de",
   "metadata": {},
   "source": [
    "### Deuxième signal $g$\n",
    "\n",
    "<img src=\"../td/images/fonction_g_tp1.png\" width=200pt>\n",
    "\n",
    "Pour $g(t)$ faites l'exo   [S9 - TF suite : exo 3e](../td/S9_tf_suite.ipynb#Exercice-3) et obtenez la transformée de Fourier $\\hat{G}(f)$.\n",
    "- voir [lien avec SdF (fin du notebook)](../td/S8_transformees.ipynb#Lien-avec-Sdf) et passez de la transformée de Fourier $\\hat{G}(f)$ aux séries de Fourier de coefs $c(n)$. Simplifiez comme expliqué pour éliminer ce $T_0$ ! On peut noter le rapport cyclique $\\frac{\\tau}{T_0}=\\alpha$ pour faire disparaître $T_0$.\n",
    "- simplifiez le $e^{-i.\\pi.n}$ en dessinant le cercle trigo. Sinon la vérification de la relation entre parité et les parties réelles et imaginaires de $c(n)$ ne fonctionnera pas...\n",
    "- Faites bien les vérifications (c(0), parité, $n\\to\\infty$ , unitées c(n) en [V], hilbert $c(-n)=\\overline{c(n)}$, pas de $T_0$)\n",
    "- Développez donc $g(t)$ en séries de Fourier complexes (avec $\\sum. c(n). \\dots$ et donnez l'expression en coef réels (avec $b(n)$)\n",
    "- Retardez ce signal d'un temps $\\Delta$ et écrire ce que devient le développement complexe $g(t-\\Delta) = \\sum \\dots e^{i.n\\omega_0.t}$. Vous retrouvez le théorème du retard pour les séries ($e^{-\\Delta.p)}$ en remplaçant $p$ par $j\\omega$ (TF) puis $\\omega$ par $n\\omega_0$ (SdF). On trouve ainsi les coefficients $c'(n)$ de  $g(t-\\Delta)$.\n",
    "- Cherchez un retard $\\Delta$ qui rend $g(t)$ paire (soit en temporel soit en rendant les $c'(n)$ réels ou imaginaires). Vérifiez la cohérence.  \n",
    "- BONUS Pour vérifier, constatez que la fonction de l'[Ex1.3 SdF](https://moodle.insa-toulouse.fr/mod/resource/view.php?id=24741#page=102) est un cas particulier de $g(t)$.\n",
    "  * Identifiez la valeur de $\\tau$ qui convient et vérifiez que cela colle avec la bonne séries de l'exo 1.3.\n",
    "  * Votre résultat de la forme $i.(-1)^n.c.\\text{sinc}(a.n).sin(b.n)$ ne ressemble pas au résultat 3b de l'exo 1.3 de la forme $\\dots\\frac{\\cos(\\dots n) + \\cos(\\dots n)}{a.n}$. C'est **pourtant la même chose** ! il suffit de passer  en $\\frac{\\sin(a.n).\\sin(b.n)}{a.n}$ puis en $\\frac{\\cos(\\dots n) + \\cos(\\dots n)}{a.n}$ avec une formule trigo.\n",
    "  * Pour retrouver la formule trigo (la mémoire et internet c'est pour les faibles, pas vous !) :\n",
    "    - dessinez et calculez $e^{i.a}.e^{i.b}$ en séparant les partie réelles et imaginaires : on trouve les formules de $\\cos(a+b)$ et $\\sin(a+b)$\n",
    "    - de même avec $e^{i.a}.e^{-i.b}$  on trouve les formules de $\\cos(a-b)$ et $\\sin(a-b)$\n",
    "    - cherchez la combinaison de ses deux équations  $\\alpha e^{i.a}.e^{i.b} + \\beta e^{i.a}.e^{-i.b} $ qui permet d'obtenir la formule $\\sin(a).\\sin(b)=\\dots$\n",
    "    - on retrouve le même résultat si on dessine la combinaison ci-dessus $e^{i.(a+b)}-e^{i(a-b)}$ dont on extrait la partie réelle de la somme. Si l'on factorise avec la technique de l'arc moitiée en $e^{i.a}.(\\dots)$, il suffit de regarder la partie réelle du produit (attention $R(z_1.z_2)\\neq R(z_1).R(z_2)$ sauf si $z_1$ ou $z_2$ est réel). On retrouve encore le résultat.\n"
   ]
  },
  {
   "cell_type": "markdown",
   "id": "52f77654-9bb0-4c87-9aaa-5da727cfea8e",
   "metadata": {
    "tags": []
   },
   "source": [
    "## 2. Calcul de la puissance moyenne \n",
    "\n",
    "De la même manière, vous allez calculer l'énergie sur une période ou la puissance moyenne de signaux.  \n",
    "\n",
    "- Cela peut se faire en temporel\n",
    "  + de manière analytique en calculant l'intégrale du module au carré\n",
    "  + de manière numérique avec un script octave faisant la somme des carrés \n",
    "\n",
    "- Cela peut se faire en fréquentiel\n",
    "  + de manière analytique avec le théorème de Parseval et la somme des modules des coefficients de Fourier au carré\n",
    "  + de manière numérique avec un script octave faisant la somme des coefficients en module au carré\n",
    "\n"
   ]
  },
  {
   "cell_type": "markdown",
   "id": "0b1789e3-41b1-4986-9e4f-ec47a8dc6670",
   "metadata": {},
   "source": [
    "### Révisez la notion de puissance moyenne \n",
    "\n",
    "1. Revenez sur [Exo 1.2 des SdF](../td/S7_sdf_suite.ipynb#1.2) qui abordent la notion de spectre et de puissance moyenne.\n",
    "\n",
    "2. Attention au piège [Intro séries : Bases de Fourier non normée ](../td/notebooks/intro_series.ipynb#Coefs-de-Fourier-sont-dans-une-base-r%C3%A9elle-NON-norm%C3%A9e) ! **Vous pouvez perdre la moitié de la puissance moyenne du signal par erreur et la totalité des points à l'interro !**\n",
    "\n",
    "3. Calculez analityquement en temporel la puissance moyenne des signaux f(t) et g(t)\n",
    "    Rappel pour intégrer un sinus au carré (signal $f$):\n",
    "     - utiliser une formule linéairisante $sin(a)^2 = ...\\cos(2a)$ (que l'on retrouve en prenant la partie réelle de $e^{i.a}.e^{i.a}=e^{i.2a}) $\n",
    "     - utiliser l'électricité qui utilise ce résultat ! Un signal alternatif d'amplitude $A$ véhicule la même puissance qu'un signal continu d'amplitude $\\frac{A}{\\sqrt{2}}$.\n",
    "       Cette valeur est nommé *valeur efficace*. Cela veut dire aussi qu'**à amplitudes égales, un signal sinusoïdal est deux fois moins puissant qu'un continu**\n",
    "4. Comment faire ce calcul avec octave ? Essayez de trouver une expression matricielle de ce calcul et c'est gagné !  \n",
    "   - Rappel : `transpose(v)` transpose la matrice `v`, alors que `v'` fait la **transposée de Hilbert** notée en math ${}^H\\!v$ ou $v^H$ et qui vaut $\\overline{{}^T\\!v}$\n",
    "   - Attention ! Le produit $z.z\\neq |z|^2$ pour les nombres complexes. Produit des modules certes, mais somme des arguments... Il faut donc multiplier avec un nombre de même module mais dont l'argument en s'ajoutant donne 0 car un module est toujours positif (et réel)\n",
    "\n",
    "\n"
   ]
  },
  {
   "cell_type": "markdown",
   "id": "588305f7-47e1-48e2-8140-7e671c580b46",
   "metadata": {},
   "source": [
    "## Révisions sur octave\n",
    "\n",
    "\n",
    "1. En guise de correction regardez ce qui est fait pour l'[SDF Bac à sable: Exo 3](../td/notebooks/SDF_bac_a_sable.ipynb#Exercice-4--pour-le-TP) : c'est quasiment le corrigé du TP1 !     \n",
    "\n",
    "2. Si vous ne comprenez-pas le code octave du bac à sable, retournez sur la page de [TD d'init à octave](../td/notebooks/intro_octave.ipynb) et revoyez votre code\n",
    "\n",
    "\n"
   ]
  },
  {
   "cell_type": "markdown",
   "id": "6d6e05e4-75ca-4dff-9601-fcfb49eeaa28",
   "metadata": {},
   "source": [
    "## 3. En TP1\n",
    "**En séance repartez de 0 et faites vos scripts en vous inspirant de ce que vous avez compris.**\n",
    "\n",
    "Vous pouvez continuer avec :\n",
    " - octave sous linux et lisez ce notebook avec `go_continu` et naviguez dans le Readme-> Readme du TP -> TP1.\n",
    " - matlab sous windows et lisez ce notebook sur le github [ici](https://github.com/balaise31/Signal/blob/main/continu/tp/README.ipynb) et naviguez vers TP1\n",
    "\n",
    " \n",
    "Commencez avec le signal $f$ rien qu'avec des réels (dans le fichier `TP1_reel.m` par exemple) :\n",
    "  - Testez vos compétences en matriciel avec le [QUIZZ](#QUIZZ) matlab (réponses du tp incluses !)\n",
    "  - Recopiez le [script de départ](Script) conseillé dans votre .m\n",
    "  - Modifiez pour afficher le spectre, la somme partielle et la puissance moyenne\n",
    "    1. Tentez de calculer la valeur moyenne en matriciel\n",
    "    2. Tentez de calculer tous les coefficients a(n) en matriciel\n",
    "    3. Affichez le spectre des a(n) \n",
    "    4. Recomposez en une ligne de code  la somme partielle $a(0)+a(1).cos(\\dots) b(1).\\sin(\\dots)$ \n",
    "    5. Modifiez pour faire en matriciel une somme partielle plus grande\n",
    "    6. Afficher cette somme partielle avec le résidu.\n",
    "    7. Calculez la puissance en temporel en (encore un produit matriciel)\n",
    "    8. Calulez la puissance en fréquentiel (encore un produit scalaire matriciel mais dans une autre base)\n",
    "\n",
    "Modifiez votre script (version `TP1_final.m`) pour le signal $g$ :\n",
    " - Reprennez les points 2 à 7, mais ajoutez les calculs de $b(n)$ et ceux des $c(n)$.\n",
    " - Vous devez donc modifier vos affichages (module/arguments $c(n)$ et autre figure $a(n), b(n)$."
   ]
  },
  {
   "cell_type": "markdown",
   "id": "8be3b6bb-ea1d-42b3-9df7-8b755d9954d0",
   "metadata": {
    "tags": []
   },
   "source": [
    "### Script\n",
    "\n",
    "En TP vous calculerez numériquement la valeur des $c(n), a(n), b(n)$ pour quelques valeurs de $n$.  \n",
    "Ce script devra donner les mêmes valeurs que la formule trouvée analityquement.\n",
    "\n",
    "> l'avantage est que ce script pourra calculer des SdF dont on n'a pas de résultat analytique car :\n",
    "> - il n'y a pas de formule connue (primitive inconnue)\n",
    "> - le signal n'est pas connu mathématiquement (enregistrement de valeurs)\n",
    "> - on n'a pas le temps ni le talent pour le faire \n",
    "\n",
    "\n",
    "Votre script pourra s'adapter à n'importe quelle fonction. Dans un script **on ne demande jamais à l'utilisatice de rentrer des valeurs pendant l'exécution !** : ce serait pénible voir impossible de demander \"quelle est la fonction\"...\n",
    "\n",
    "Comme Matlab/octave est un langage interprété, **l'utilisatrice modifie directement le début du script** puis lance l'exécution.\n",
    "\n",
    "Ce qui donne un script du type \n"
   ]
  },
  {
   "cell_type": "code",
   "execution_count": 2,
   "id": "74ca8305-ca3d-42f1-bcf1-fb79e31cc794",
   "metadata": {
    "collapsed": true,
    "jupyter": {
     "outputs_hidden": true
    }
   },
   "outputs": [
    {
     "name": "stdout",
     "output_type": "stream",
     "text": [
      "Energie de f = 0.000000 [joules]Puissance moyenne de f = 0.000000 [joules]"
     ]
    },
    {
     "data": {
      "image/png": "[encoded data removed]",
      "text/plain": [
       "<IPython.core.display.Image object>"
      ]
     },
     "metadata": {},
     "output_type": "display_data"
    },
    {
     "data": {
      "image/png": "[encoded data removed]",
      "text/plain": [
       "<IPython.core.display.Image object>"
      ]
     },
     "metadata": {},
     "output_type": "display_data"
    },
    {
     "data": {
      "image/png": "[encoded data removed]",
      "text/plain": [
       "<IPython.core.display.Image object>"
      ]
     },
     "metadata": {},
     "output_type": "display_data"
    }
   ],
   "source": [
    "clear all\n",
    "close all\n",
    "clc \n",
    "\n",
    "\n",
    "%%____________________________________________________________________\n",
    "%% CONFIG utilisatrice\n",
    "%%_______\n",
    "\n",
    "% Entrez ici votre fonction f et sa période T0\n",
    "f = @(t) abs(sin(t)) ;\n",
    "T0 = 2*pi ;\n",
    "\n",
    "% Parametrez la période d'échantillonage et la fenêtre d'observation \n",
    "Te = 0.1 ;\n",
    "tmin = -T0 ; \n",
    "tmax = T0 ;\n",
    "\n",
    "%% FIN CONFIG\n",
    "%%____________________________________________________________________\n",
    "\n",
    "%% 0. Calcul de f(t)\n",
    "t = tmin:Te:tmax ;\n",
    "f_de_t = f(t) ;\n",
    "\n",
    "%% 0. Affichage\n",
    "figure(1);\n",
    "plot(t,f_de_t);\n",
    "\n",
    "%% 1. Valeur moyenne de f le a(0)\n",
    "\n",
    "%% 2. Calcul des a(n) \n",
    "  %% BONUS éviter la boucle for et faire le calcul en matriciel\n",
    "  %% S_de_f = M . transpose(f_de_t)\n",
    "  %% où S_de_f est la série de fourier de f : le tableau des a(n)\n",
    "  \n",
    "%% 3. Affichage du spectre des a(n)\n",
    "    figure(2);\n",
    "    title(\"Spectre\")\n",
    "    \n",
    "%% 4./5. Recomposition en somme partielle\n",
    "  %% BONUS éviter la boucle for et faire le calcul matriciel\n",
    "  %% s_partiel_de_t = Minverse . transpose(S_de_F)\n",
    "\n",
    "  \n",
    "%% 6. Affichage de la somme partielle (par dessus f(t) de fig. 1)\n",
    "figure(1);\n",
    "hold on;\n",
    "title(\"Signal et recomposition partielle\")\n",
    "\n",
    "%% 7. Calcul de la puissance moyenne sur f(t)\n",
    "    nrj_de_f = 0;\n",
    "    printf(\"Energie de f = %f [joules]\", nrj_de_f);\n",
    "    % à corriger\n",
    "    printf(\"Puissance moyenne de f = %f [joules]\\n\", nrj_de_f/666.); \n",
    "\n",
    "%% 8. Calcul de la puissance moyenne sur une partie des a(n)\n",
    "\n",
    "%% 9. BONUS Afficher le résidu (f(t) - somme partielle(t))\n",
    "    figure(3)\n",
    "    title(\"Residu et composante de rang N+1\\n\")\n",
    "    % BONUS on peut afficher par dessus cos((N+1).w0.t) et deviner l'amplitude a(N+1)\n",
    "    % BONUS Calcul de la puissance du résidu : conclure avec pythagore\n",
    "    "
   ]
  },
  {
   "cell_type": "markdown",
   "id": "f6ab6e89-4e14-4f21-837f-e872a7f6f01f",
   "metadata": {},
   "source": [
    "## 4. QUIZZ\n",
    "---\n",
    "\n",
    "Pour savoir si vous maitrisez..\n"
   ]
  },
  {
   "cell_type": "markdown",
   "id": "ef276dd2-8ac6-4495-967e-6a6c977fbe84",
   "metadata": {},
   "source": [
    "### Matrices\n",
    "Devinez le contenu et les dimensions des variables"
   ]
  },
  {
   "cell_type": "code",
   "execution_count": 54,
   "id": "80b1d6a2-e839-42c1-824e-b8364e1b0cea",
   "metadata": {
    "collapsed": true,
    "jupyter": {
     "outputs_hidden": true
    },
    "scrolled": true
   },
   "outputs": [
    {
     "name": "stdout",
     "output_type": "stream",
     "text": [
      "T0 =  0.30000\n",
      "t =\n",
      "\n",
      "    0.00000    0.10000    0.20000    0.30000\n",
      "\n",
      "n =\n",
      "\n",
      "   0\n",
      "   1\n",
      "   2\n",
      "\n",
      "ans =\n",
      "\n",
      "   1   4\n",
      "\n",
      "ans =\n",
      "\n",
      "   3   1\n",
      "\n"
     ]
    }
   ],
   "source": [
    "clear all;\n",
    "Te = 0.1; T0=0.3\n",
    "t = 0.0:Te:T0\n",
    "n = transpose(0:2)\n",
    "size(t)\n",
    "size(n)"
   ]
  },
  {
   "cell_type": "markdown",
   "id": "0a12d85c-6eb3-42e9-99a2-363ff7b78337",
   "metadata": {},
   "source": [
    "### Produits matriciel et par élément\n",
    "Devinez si les produits sont corrects, la taille des résultats.\n"
   ]
  },
  {
   "cell_type": "code",
   "execution_count": 55,
   "id": "1d69f6fa-9f40-4d41-a404-742796e87b5f",
   "metadata": {
    "collapsed": true,
    "jupyter": {
     "outputs_hidden": true
    }
   },
   "outputs": [
    {
     "name": "stdout",
     "output_type": "stream",
     "text": [
      "n*t\n",
      "ans =\n",
      "\n",
      "   0.00000   0.00000   0.00000   0.00000\n",
      "   0.00000   0.10000   0.20000   0.30000\n",
      "   0.00000   0.20000   0.40000   0.60000\n",
      "\n",
      "t*n\n",
      "error: operator *: nonconformant arguments (op1 is 1x4, op2 is 3x1)\n",
      "t.*n\n",
      "ans =\n",
      "\n",
      "   0.00000   0.00000   0.00000   0.00000\n",
      "   0.00000   0.10000   0.20000   0.30000\n",
      "   0.00000   0.20000   0.40000   0.60000\n",
      "\n",
      "t*t\n",
      "error: operator *: nonconformant arguments (op1 is 1x4, op2 is 1x4)\n",
      "t.*t\n",
      "ans =\n",
      "\n",
      "   0.000000   0.010000   0.040000   0.090000\n",
      "\n",
      "t*transpose(t)\n",
      "ans =  0.14000\n"
     ]
    }
   ],
   "source": [
    "disp(\"n*t\"); n*t\n",
    "disp(\"t*n\"); t*n\n",
    "disp(\"t.*n\"); t.*n\n",
    "disp(\"t*t\"); t*t\n",
    "disp(\"t.*t\"); t.*t\n",
    "disp(\"t*transpose(t)\"); t * transpose(t)"
   ]
  },
  {
   "cell_type": "markdown",
   "id": "af4e070d-a214-4016-be72-b8e3beed58c2",
   "metadata": {},
   "source": [
    "## Vectorisation des opérateurs\n",
    "Quelle taille des résultats et leur signification mathématique/signal\n"
   ]
  },
  {
   "cell_type": "code",
   "execution_count": 56,
   "id": "cc31162a-b509-40f5-8100-365113e7d6d4",
   "metadata": {
    "collapsed": true,
    "jupyter": {
     "outputs_hidden": true
    }
   },
   "outputs": [
    {
     "name": "stdout",
     "output_type": "stream",
     "text": [
      "ct =\n",
      "\n",
      "   1.00000   0.80902   0.30902  -0.30902\n",
      "\n",
      "ct0 =\n",
      "\n",
      "   1   1   1   1\n",
      "\n",
      "f_t =\n",
      "\n",
      "   0.000000   0.010000   0.040000   0.090000\n",
      "\n",
      "f_t .* ct0\n",
      "ans =\n",
      "\n",
      "   0.000000   0.010000   0.040000   0.090000\n",
      "\n",
      "f_t * transpose(ct0)\n",
      "ans =  0.046667\n",
      "M =\n",
      "\n",
      "   0.33333   0.33333   0.33333   0.33333\n",
      "   0.33333   0.26967   0.10301  -0.10301\n",
      "   0.33333   0.10301  -0.26967  -0.26967\n",
      "\n",
      "M*transpose(f_t)\n",
      "ans =\n",
      "\n",
      "   0.0466667\n",
      "  -0.0024536\n",
      "  -0.0340273\n",
      "\n"
     ]
    }
   ],
   "source": [
    "ct = cos(2*pi*t)\n",
    "ct0 = cos(2*pi*0*t)\n",
    "f_t = t.^2\n",
    "disp(\"f_t .* ct0\"); f_t .* ct0\n",
    "disp(\"f_t * transpose(ct0)\"); f_t * transpose(ct0) * Te / T0\n",
    "M=cos(2*pi*n*t)*Te/T0\n",
    "disp(\"M*transpose(f_t)\"); M*transpose(f_t)"
   ]
  },
  {
   "cell_type": "markdown",
   "id": "4af625a8-a252-4155-a921-3ada90b39e82",
   "metadata": {},
   "source": [
    "## Vectorisation des comparaisons\n",
    " Que donne ces comparaisons vecteurs"
   ]
  },
  {
   "cell_type": "code",
   "execution_count": 57,
   "id": "2a76f006-9579-448f-849c-37af6b994e3c",
   "metadata": {
    "collapsed": true,
    "jupyter": {
     "outputs_hidden": true
    }
   },
   "outputs": [
    {
     "name": "stdout",
     "output_type": "stream",
     "text": [
      "t =\n",
      "\n",
      "  -2  -1   0   1   2\n",
      "\n",
      "ans =\n",
      "\n",
      "  1  1  0  0  0\n",
      "\n",
      "ans =\n",
      "\n",
      "  1  1  1  0  0\n",
      "\n",
      "error: operator *: nonconformant arguments (op1 is 1x5, op2 is 1x5)\n",
      "ans =\n",
      "\n",
      "   0   1   1   0   0\n",
      "\n"
     ]
    }
   ],
   "source": [
    "t = -2:2\n",
    "t < 0\n",
    "t <= 0\n",
    "(t <= 0)*(t >= -1)\n",
    "(t <= 0).*(t >= -1)\n"
   ]
  },
  {
   "cell_type": "markdown",
   "id": "68d432df-3f73-4b35-baa2-96210960d3ce",
   "metadata": {},
   "source": [
    "## Complexes\n",
    "Que doit donner ces commandes de base (plus une question de math que de matlab)\n"
   ]
  },
  {
   "cell_type": "code",
   "execution_count": 60,
   "id": "adf7fc9a-4d22-4537-b059-08986d95f2c0",
   "metadata": {
    "collapsed": true,
    "jupyter": {
     "outputs_hidden": true
    }
   },
   "outputs": [
    {
     "name": "stdout",
     "output_type": "stream",
     "text": [
      "z =  1.0000 - 1.0000i\n",
      "z =  1 - 1i\n",
      "absz =  1.4142\n",
      "anglez = -0.78540\n",
      "realz =  1\n",
      "imagz = -1\n",
      "z*z = 0.000000z*conj(z) = 2.000000"
     ]
    }
   ],
   "source": [
    "z = exp(-i*pi/4)*sqrt(2)\n",
    "z = (1.0 - 1.0i)\n",
    "absz = abs(z)\n",
    "anglez = angle(z)\n",
    "realz = real(z)\n",
    "imagz = imag(z)\n",
    "printf(\"z*z = %f\",z*z)\n",
    "printf(\"z*conj(z) = %f\",z*conj(z))"
   ]
  },
  {
   "cell_type": "markdown",
   "id": "e5e54042-aac4-41af-80d5-d9f4e8b6e19d",
   "metadata": {},
   "source": [
    "Et pour les vecteurs de complexes :\n",
    "\n",
    "Calculez à la main (c'est faisable car vecteur de 4 valeurs) ce que donne ces opérations."
   ]
  },
  {
   "cell_type": "code",
   "execution_count": 66,
   "id": "2d929414-a513-4ab5-a091-19f4002bf0b8",
   "metadata": {
    "collapsed": true,
    "jupyter": {
     "outputs_hidden": true
    }
   },
   "outputs": [
    {
     "name": "stdout",
     "output_type": "stream",
     "text": [
      "wn =\n",
      "\n",
      " Columns 1 through 3:\n",
      "\n",
      "   1.00000 + 0.00000i   0.00000 + 1.00000i  -1.00000 + 0.00000i\n",
      "\n",
      " Column 4:\n",
      "\n",
      "   0.00000 - 1.00000i\n",
      "\n",
      "ans =\n",
      "\n",
      "   1.0000 + 0.0000i  -1.0000 + 0.0000i   1.0000 - 0.0000i  -1.0000 - 0.0000i\n",
      "\n",
      "transpose\n",
      "ans =  0.0000e+00 - 1.5314e-15i\n",
      "hilbert avec '\n",
      "ans =  4\n"
     ]
    }
   ],
   "source": [
    "T0=4*Te;\n",
    "t=0:Te:(T0-Te);\n",
    "F0=1/T0;\n",
    "wn = exp(i*2*pi*F0*t)\n",
    "wn .* wn\n",
    "disp (\"transpose\"); wn * transpose(wn)\n",
    "disp (\"hilbert avec '\"); wn * wn'"
   ]
  },
  {
   "cell_type": "code",
   "execution_count": null,
   "id": "502934ed-4f5a-4c46-8c51-4cd20d18699a",
   "metadata": {},
   "outputs": [],
   "source": []
  }
 ],
 "metadata": {
  "kernelspec": {
   "display_name": "Octave",
   "language": "octave",
   "name": "octave"
  },
  "language_info": {
   "file_extension": ".m",
   "help_links": [
    {
     "text": "GNU Octave",
     "url": "https://www.gnu.org/software/octave/support.html"
    },
    {
     "text": "Octave Kernel",
     "url": "https://github.com/Calysto/octave_kernel"
    },
    {
     "text": "MetaKernel Magics",
     "url": "https://metakernel.readthedocs.io/en/latest/source/README.html"
    }
   ],
   "mimetype": "text/x-octave",
   "name": "octave",
   "version": "4.2.2"
  }
 },
 "nbformat": 4,
 "nbformat_minor": 5
}
