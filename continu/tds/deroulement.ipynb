{
 "cells": [
  {
   "cell_type": "markdown",
   "metadata": {},
   "source": [
    "# Déroulement des séances de TD\n"
   ]
  },
  {
   "cell_type": "markdown",
   "metadata": {},
   "source": [
    "\n",
    "# Exercices à avoir vu\n",
    "\n",
    "Thème | Chapitre | Exos\n",
    "------|----------|------\n",
    "Systèmes linéaires | Ch2 [poly 2.7 page 34](https://moodle.insa-toulouse.fr/mod/resource/view.php?id=24741#section.2.7)| Exo 1,2,4 (3 en option)\n",
    "Laplace |  Ch3 [poly 3.7 page 53](https://moodle.insa-toulouse.fr/mod/resource/view.php?id=24741#section.3.7) | 1,2,3 puis 5,6\n",
    "Laplace Filtrage |  Ch4 [poly 4.6 page 73](https://moodle.insa-toulouse.fr/mod/resource/view.php?id=24741#section.4.6) | rien (2, 5 en option car similaire à électronique)\n",
    "S.d.Fourier |  Ch5 [poly 5.9 page 94](https://moodle.insa-toulouse.fr/mod/resource/view.php?id=24741#section.5.9) | 1,2,3,6,7 (8,9 en opt.)\n",
    "T.d.Fourier |  Ch6 [poly 6.8 page 110](https://moodle.insa-toulouse.fr/mod/resource/view.php?id=24741#section.6.8) | 1,2,3,5 (4 en option)\n",
    "Filtrage temporel |  Ch7 [poly 7.5 page 124](https://moodle.insa-toulouse.fr/mod/resource/view.php?id=24741#section.7.5) | 2 (pas tout), 3.1 à 3.3, 5\n",
    "Energie, convolution |  Ch8 [poly 8.7 page 141](https://moodle.insa-toulouse.fr/mod/resource/view.php?id=24741#section.8.7) | 1(pas tout), 2.1, 4.1, 7\n"
   ]
  },
  {
   "cell_type": "markdown",
   "metadata": {},
   "source": [
    "\n",
    "\n",
    "# Déroulement 0XACC0\n",
    "Séance | Chapitre | Exercices |   Page d'aide\n",
    "-------|----------|-----------|-----------------\n",
    "S1     |  Ch. 2 p34-36   | 2.1, 4 |  [Signaux de base et phaseurs](ch2_s1_signaux_base_et_phaseur.ipynb)\n",
    "S2     | Ch. 2      | 2.2, 1   |    [Ondes complexes et systèmes linéaires](ch2_s2_linearite_et_rip.ipynb)\n",
    "S3     | Ch. 2      | 2.1b + Laplace, 1  |    [Décomposition linéarité et laplace](ch2_s3_linearite_et_laplace.ipynb)\n",
    "S4     | Ch. 3    | 1,2,3  |    [Transformées de Laplace](ch3_s4_laplace.ipynb)\n",
    "S5     | Ch. 3    | 3 (5,6 opt)  |    [Equa. Diff. avec Laplace](ch3_s5_equa_diff.ipynb)\n",
    "S6     | Ch. 5    |   1.3,7,2  |    [S.d.F.](ch5_s6_series.ipynb)\n",
    "S7     | TD Matlab/octave    | moodle  |    [TD Octave](intro_octave.ipynb)\n",
    "S8     | TD Matlab/octave    | moodle  |    [TD Octave](intro_octave.ipynb)\n",
    "S9     | Ch. 5    |  1fin,2fin,6  |    \n",
    "S10    | Ch. 5    |  6fin, 7   |    \n",
    "S11    | Ch. 6    |  2,3 |    \n",
    "S12    | Ch. 6    |  3fin,1, 5 vs Chap4 exo 6  |    \n",
    "S13    | Ch. 7    |  2.1, 3,  5    |    \n",
    "S14    | Ch. 8    |  ch7fin, 1b, 1a, 1d vs 4.1, 7  |    \n",
    "\n"
   ]
  },
  {
   "cell_type": "markdown",
   "metadata": {},
   "source": []
  }
 ],
 "metadata": {
  "kernelspec": {
   "display_name": "Octave",
   "language": "octave",
   "name": "octave"
  },
  "language_info": {
   "file_extension": ".m",
   "help_links": [
    {
     "text": "GNU Octave",
     "url": "https://www.gnu.org/software/octave/support.html"
    },
    {
     "text": "Octave Kernel",
     "url": "https://github.com/Calysto/octave_kernel"
    },
    {
     "text": "MetaKernel Magics",
     "url": "https://metakernel.readthedocs.io/en/latest/source/README.html"
    }
   ],
   "mimetype": "text/x-octave",
   "name": "octave",
   "version": "4.2.2"
  },
  "latex_envs": {
   "LaTeX_envs_menu_present": true,
   "autoclose": false,
   "autocomplete": true,
   "bibliofile": "biblio.bib",
   "cite_by": "apalike",
   "current_citInitial": 1,
   "eqLabelWithNumbers": true,
   "eqNumInitial": 1,
   "hotkeys": {
    "equation": "Ctrl-E",
    "itemize": "Ctrl-I"
   },
   "labels_anchors": false,
   "latex_user_defs": false,
   "report_style_numbering": false,
   "user_envs_cfg": false
  }
 },
 "nbformat": 4,
 "nbformat_minor": 2
}
