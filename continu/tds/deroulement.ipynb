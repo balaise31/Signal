{
 "cells": [
  {
   "cell_type": "markdown",
   "source": [
    "# Déroulement des séances de TD\n",
    "\n",
    "\n",
    "Séance | Chapitre | Exercices |   Page d'aide\n",
    "-------|----------|-----------|-----------------\n",
    "S1     |  Ch. 2 p34-36   | 2.1, 4 |  [Signaux de base et phaseurs](ch2_s1_signaux_base_et_phaseur.ipynb)\n",
    "S2     | Ch. 2      | 2.2, 1   |    [Ondes complexes et systèmes linéaires](./ch2_s2_linearite_et_rip.ipynb)\n",
    "S3     | Ch. 2      | 2.1b + Laplace, 1  |    [Décomposition linéarité et laplace](./ch2_s3_linearite_et_laplace.ipynb)\n",
    "S4     | Ch. 3    | 1,2,3  |    [Transformées de Lapalce](ch3_s4_laplace.ipynb)\n",
    "\n"
   ],
   "metadata": {}
  },
  {
   "cell_type": "code",
   "execution_count": null,
   "source": [],
   "outputs": [],
   "metadata": {}
  }
 ],
 "metadata": {
  "kernelspec": {
   "display_name": "Python 3",
   "language": "python",
   "name": "python3"
  },
  "language_info": {
   "codemirror_mode": {
    "name": "ipython",
    "version": 3
   },
   "file_extension": ".py",
   "mimetype": "text/x-python",
   "name": "python",
   "nbconvert_exporter": "python",
   "pygments_lexer": "ipython3",
   "version": "3.9.2"
  },
  "latex_envs": {
   "LaTeX_envs_menu_present": true,
   "autoclose": false,
   "autocomplete": true,
   "bibliofile": "biblio.bib",
   "cite_by": "apalike",
   "current_citInitial": 1,
   "eqLabelWithNumbers": true,
   "eqNumInitial": 1,
   "hotkeys": {
    "equation": "Ctrl-E",
    "itemize": "Ctrl-I"
   },
   "labels_anchors": false,
   "latex_user_defs": false,
   "report_style_numbering": false,
   "user_envs_cfg": false
  }
 },
 "nbformat": 4,
 "nbformat_minor": 2
}