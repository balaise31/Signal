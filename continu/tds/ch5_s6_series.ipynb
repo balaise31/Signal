{
    "cells": [
        {
            "cell_type": "markdown",
            "source": [
                "# S6 Série de Fourier\n",
                "\n",
                "\n",
                "Avant d'attaquer, lisez ce [récapitulatif](intro_series.ipynb) avec animation gif et dessins et phaseurs à gogo pour ressentir ce qu'est cette fameuse série de fonction.\n",
                "\n",
                "On fera dans l'ordre suivant\n",
                "\n",
                "# Série, parité, période, composante continue\n",
                "-  Exercice 1.3 : \n",
                "   * Remarquez que l'indice $k$ ne peut être en dehors de la somme sur $k$ : c'est une erreur, vous mettrez ce facteur dans le $\\Sigma$\n",
                "   * Cherchez la composante continue (valeur moyenne) **sans calcul ! à l'oeil**. Vous pourrez ainsi éliminer une proposition\n",
                "   * Cherchez la période de $x$ et repérez les coefficients $a(n)$ devant les ondes cosinusoïdales et les b(n) devant les ondes sinusoïdales. Ces $a(k)$ et $b(k)$ doivent être constant avec le temps, doivent dépendre de l'amplitude et jamais de la période. Ils doivent décroître en valeur absolue avec $k$. Vous éliminez ainsi deux propositions\n",
                "   * Cherchez la parité pour vérifier que le dernier choix est viable.\n",
                "\n",
                "**Ces tests sont importants à effectuer lorsque vous calculez des coefficients pour vérifier s'il n'y a pas d'erreur.**\n",
                "- Exercice 7 : Les égalités sont vérifiées que dans certains intervalles qui ne sont pas forcément une période ! Cherchez la période dans les arguments des cosinus et sinus, trouvez la parité et la composante continue. On peut définir une fonction sur un intervalle $[t, t+T_0]$ et dire qu'elle est périodique de période $T_0$ pour qu'elle soit prolongée correctement. Effectuez le graphe et vérifié à l'oeil que valeur moyenne (tracé une barre à la valeur moyenne) et parité marche. \n",
                "\n",
                "Le 7.1 doit ressembler à l'exo 2. Remarquez que la période n'est pas celle de l'argument du sinus ! Un sinus redressé est de période double...\n",
                "\n",
                "# Calcul de séries\n",
                "- Exercice 2 :\n",
                "    * Estimez à l'œil la valeur moyenne (ou donnez des valeurs extrêmes). Faites ensuite le calcul de $a_0$ et vérifiez que cela colle.\n",
                "    * Enlevez à l'oeil cette valeur moyenne (décallez l'axe des abscisses) et estimez si elle est paire impaire ou quelconque. Sinon, y a-t-il un retard qui la rendrait paire ou impaire (décallez l'axe des ordonnées). En fonction de la parité, calculez les coefficients dont il est besoin. Pour cela...\n",
                "    * Regardez s'il vaut mieux calculer le $c(n)$ avec une exponentielle ou si c'est plus facile avec un $a(n)$ ou $b(n)$ et donc d'intégrer des cosinus.\n",
                "    * Vérifiez avec Laplace ! Vous avez calculé la transformée d'un sinus sur une demi-période dans les exos précédents. Écrivez la formule de la transformée de Laplace d'une fonction $f$ et écrivez $\\frac{\\mathcal{L}[f]}{T_0}(p=i n \\omega_0 t)$. Vous devez obtenir la formule des c(n). Donc prenez la transformée d'une impulsion non-périodique, remplacez p par $i n \\omega_0$ et divisez par $T_0$ pour retomber sur la même valeur.\n",
                " "
            ],
            "metadata": {}
        }
    ],
    "metadata": {
        "orig_nbformat": 4,
        "language_info": {
            "name": "octave"
        }
    },
    "nbformat": 4,
    "nbformat_minor": 2
}