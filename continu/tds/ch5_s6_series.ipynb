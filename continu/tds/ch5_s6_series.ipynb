{
 "cells": [
  {
   "cell_type": "markdown",
   "metadata": {},
   "source": [
    "# S6 Série de Fourier\n",
    "\n",
    "\n",
    "Avant d'attaquer, lisez le début du [récapitulatif](intro_series.ipynb) (jusqu'à la parité) avec animation gif et dessins et phaseurs à gogo pour ressentir ce qu'est cette fameuse série de fonctions.\n",
    "\n",
    "On fera dans l'ordre suivant\n",
    "\n",
    "# Série, parité, période, composante continue\n",
    "\n",
    "##  Exercice 1.3 : \n",
    "\n",
    "[Exo 1.3 poly page 94](https://moodle.insa-toulouse.fr/mod/resource/view.php?id=24741#section.5.9)\n",
    "\n",
    "   * Remarquez que l'indice $k$ ne peut être en dehors de la somme sur $k$ : c'est une erreur, vous mettrez ce facteur dans le $\\Sigma$\n",
    "   * Cherchez la composante continue (valeur moyenne) **sans calcul ! À l'œil**. Vous pourrez ainsi éliminer une proposition\n",
    "   * Cherchez la période de $x$ et repérez les coefficients $a(n)$ devant les ondes cosinusoïdales et les b(n) devant les ondes sinusoïdales. Ces $a(k)$ et $b(k)$ doivent être :\n",
    "     - constant avec le temps (l'intégrale élimine le temps `t` et ne laisse que les fréquences `k`), \n",
    "     - doivent être proportionnels à l'amplitude (si on multiplie par A le signal, on multiplie les coefficients par A...),\n",
    "     - ne pas dépendre de la période (des simplifications doivent avoir lieu. Si on étire le signal dans le temps seul les arguments des cos et sin doivent changer)\n",
    "     - ils doivent décroître en valeur absolue avec $k$ (la série doit converger : $|c(k)| < 1/k$ CVA avec Rieman). \n",
    "     Vous éliminez ainsi deux propositions\n",
    "   * Cherchez la parité pour vérifier que le dernier choix est viable.\n",
    "\n",
    "**Ces tests sont importants à effectuer lorsque vous calculez des coefficients pour vérifier s'il n'y a pas d'erreur.**\n",
    "\n",
    "\n"
   ]
  },
  {
   "cell_type": "markdown",
   "metadata": {},
   "source": [
    "## Exercice 7\n",
    "\n",
    "[Exo 7 poly page 97](https://moodle.insa-toulouse.fr/mod/resource/view.php?id=24741#page=97)\n",
    "\n",
    "Les égalités sont vérifiées que dans certains intervalles qui ne sont pas forcément une période !\n",
    "\n",
    "* Cherchez la période dans les arguments des cosinus et sinus de la série, car l'exemple du signal 2) peut déconcerter ; \n",
    "* Trouvez la parité en pensant qu'une somme d'impair est forcément impaire...\n",
    "* Pour définir la fonction, on peut la définir sur un intervalle $[t, t+T_0]$ et dire qu'elle est périodique de période $T_0$ : cela permet de la prolonger correctement. \n",
    "* Tracez le graphe en montrant la périodicité\n",
    "\n",
    "**Vérifiez !** \n",
    "\n",
    "Vérifiez à l'œil que la valeur moyenne (tracez une barre à la valeur moyenne) et parité marchent sur le graphique.\n",
    "\n",
    "Entrainez-vous à vérifier les coefficients : \n",
    "- Sont ils décroissants avec $n$ ? (vous devez remarquer **une erreur pour un des signaux**)\n",
    "- Remarquez que si on multiplie un signal par $A$ pour augmenter l'amplitude : alors fatalement chaque coef est multiplié par $A$. Dans les prochains calculs où l'amplitude $A$ apparaît, vérifiez que les coefs sont proportionnels à $A$.\n",
    "- Écrivez les deux premiers termes non nuls de la somme (important pour le signal 2 dont une harmonique sur deux est nulle : aller jusqu'à n=3 pour deux composantes)\n",
    "- Esquissez cette somme (comme en TD matlab, ou utilisez votre script matlab) graphiquement et vérifiez qu'elle se rapproche de la fonction définie. Approchez allègrement $\\pi$ par 3 pour faire des tracés rapides. On voit dans le signal 1 comment un sinus peut être produit approché à partir de somme de cosinus !     \n",
    "\n",
    "Le 7.1 doit ressembler à l'exo 2. Remarquez que la période n'est pas celle de l'argument du sinus ! Un sinus redressé est de période double...\n"
   ]
  },
  {
   "cell_type": "markdown",
   "metadata": {},
   "source": [
    "\n",
    "# Calcul des coefficients de séries\n",
    "\n",
    "## Exercice 2 :\n",
    "\n",
    "[Exo 2 poly page 95](https://moodle.insa-toulouse.fr/mod/resource/view.php?id=24741#page=95)\n",
    "\n",
    "* Estimez à l'œil la valeur moyenne (ou donnez des valeurs extrêmes). Faites ensuite le calcul de $a_0$ et vérifiez que cela colle.\n",
    "* Enlevez à l'œil cette valeur moyenne (décallez l'axe des abscisses) et estimez si elle est paire, impaire ou quelconque. Sinon, y a-t-il un retard qui la rendrait paire ou impaire (décallez l'axe des ordonnées). En fonction de la parité, calculez les coefficients dont il est besoin... \n",
    "\n",
    "Retrouvez les formules des c(n) d'une part, puis celle des a(n) et b(n) d'autre part en ayant la vision vectorielle Euclidienne des choses ( voir [la partie \"calcul des coefficients\" à la fin du récapitulatif](intro_series.ipynb) ).\n",
    "\n",
    "* Retrouvez la formule des $a(n)$ et $b(n)$ en pensant au coefficient $2$ qui vient de la norme des vecteurs (voir le récap) \n",
    "\n",
    "* Regardez s'il vaut mieux calculer le $c(n)$ avec une intégrale d'exponentielles, ou si c'est plus facile avec un $a(n)$ (cos, donc f paire) ou $b(n)$ (sin donc f impaire) et donc d'intégrer des cosinus fois des exponentielles.\n",
    "* Vérifiez avec Laplace ! Vous avez calculé la transformée d'un sinus sur une demi-période dans les exos précédents. Écrivez la formule de la transformée de Laplace d'une fonction $f$ et écrivez $\\frac{\\mathcal{L}[f]}{T_0}(p=i n \\omega_0 t)$. Vous devez obtenir la formule des c(n). Donc prenez la transformée d'une impulsion non-périodique, remplacez p par $i n \\omega_0$ et divisez par $T_0$ pour retomber sur la même valeur.\n",
    " \n"
   ]
  },
  {
   "cell_type": "markdown",
   "metadata": {},
   "source": []
  }
 ],
 "metadata": {
  "kernelspec": {
   "display_name": "Python 3",
   "language": "python",
   "name": "python3"
  },
  "language_info": {
   "codemirror_mode": {
    "name": "ipython",
    "version": 3
   },
   "file_extension": ".py",
   "mimetype": "text/x-python",
   "name": "python",
   "nbconvert_exporter": "python",
   "pygments_lexer": "ipython3",
   "version": "3.9.2"
  },
  "latex_envs": {
   "LaTeX_envs_menu_present": true,
   "autoclose": false,
   "autocomplete": true,
   "bibliofile": "biblio.bib",
   "cite_by": "apalike",
   "current_citInitial": 1,
   "eqLabelWithNumbers": true,
   "eqNumInitial": 1,
   "hotkeys": {
    "equation": "Ctrl-E",
    "itemize": "Ctrl-I"
   },
   "labels_anchors": false,
   "latex_user_defs": false,
   "report_style_numbering": false,
   "user_envs_cfg": false
  }
 },
 "nbformat": 4,
 "nbformat_minor": 2
}
