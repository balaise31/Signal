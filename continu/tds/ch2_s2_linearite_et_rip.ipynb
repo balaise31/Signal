{
 "cells": [
  {
   "cell_type": "markdown",
   "metadata": {},
   "source": [
    "---\n",
    "# Séance 2 Onde complexe et systèmes linéaire\n",
    "---\n",
    "\n",
    "\n",
    "| Revenir à la [page déroulement](Readme.md) |\n",
    "|-------------|\n",
    "\n",
    "\n",
    "## À faire\n",
    "---\n",
    "\n",
    "\n",
    "* Terminer l'exo 2.1 (signaux a, b et c) avec l'approche indiquée :\n",
    "    - schéma bloc de somme de \" retards + intégrales + gain \" transformant une impulsion unité (Dirac en 0)\n",
    "    - traduction en somme de \"fonctions de base\" (échelon unité, voire rampes unités)\n",
    "    - VÉRIFIER ! Prendre une valeur de t un peu avant 3 et calculer pour voir si ça colle.\n",
    "\n",
    "* Ne pas faire le 2.2 tout de suite, mais avant de passer au 4, d'abord faire le lien entre les 3 représentations d'une onde pure : cos déphasé, représentation IQ (cos + sin) et représentation par phaseur (exponentielles complexes)\n",
    "\n",
    "* Pour cela regarder la [fiche de récapitulation](./phaseur_onde_IQ.pdf)\n",
    "\n",
    "* Faire le lien entre les trois représentations et retrouver les formules passages entre IQ, amplitude déphasage, et phaseur.\n",
    "\n",
    "* Faites l'exercice 4\n",
    "    -  Ex. 4a,b en utilisant au maximum le phaseur (qui est la fonction de transfert prise pour une valeur de la pulsation $\\omega$). On comprend alors que pour la pulsation $\\omega=2\\pi$ le système ne fait que multiplier le phaseur du signal d'entré par le phaseur du système ($g(\\omega=2\\pi)=\\frac{1}{2}e^{i\\frac{pi}{3}}$)\n",
    "    - Ex 4c. D'abord calculer le phaseur $z_e$ du signal d'entrée qui est donné sous la forme IQ. Et appliquer la linéarité du système $\\Sigma[t\\mapsto z_e.e^{i\\omega t}]=z_e\\,\\Sigma[t \\mapsto e^{i\\omega t}]$ où $\\Sigma$ est un opérateur (application linéaire qui transforme une fonction en fonction) transformant un signal d'entré $x$ en signal de sortie $y$ soit $\\Sigma[x]=y$. Attention x et y sont bien des fonctions ! \n",
    "\n",
    "\n",
    "## En séance \n",
    "---\n",
    "\n",
    "\n",
    "Présentation complète du passage entre les visions de l'onde complexe :\n",
    "* cosinus amplitude déphasage\n",
    "* IQ\n",
    "* phaseur d'onde complexe\n",
    "\n",
    "Revue de l'exercice 4 complète\n",
    "\n",
    "\n",
    "\n",
    "\n"
   ]
  },
  {
   "cell_type": "code",
   "execution_count": 1,
   "metadata": {},
   "outputs": [
    {
     "name": "stdout",
     "output_type": "stream",
     "text": [
      "error: 'anim' undefined near line 1 column 1\n"
     ]
    }
   ],
   "source": [
    "anim"
   ]
  },
  {
   "cell_type": "code",
   "execution_count": 2,
   "metadata": {},
   "outputs": [
    {
     "name": "stdout",
     "output_type": "stream",
     "text": [
      "error: graphics_toolkit: qt toolkit is not available\n",
      "error: called from\n",
      "    graphics_toolkit at line 81 column 5\n"
     ]
    },
    {
     "data": {
      "image/png": "[encoded data removed]",
      "text/plain": [
       "<IPython.core.display.Image object>"
      ]
     },
     "metadata": {},
     "output_type": "display_data"
    }
   ],
   "source": [
    "clear all\n",
    "graphics_toolkit qt\n",
    "set (0, \"defaultlinelinewidth\", 2);\n",
    "\n",
    "h.points = rand (2, 3);         # 3 random points\n",
    "h.line = [];\n",
    "h.marker = [];\n",
    "set (gcf, \"userdata\", h)\n",
    "\n",
    "function down_fig (hsrc, evt)\n",
    "\n",
    "  h = get (hsrc, \"userdata\");\n",
    "  if (isempty (h.marker))\n",
    "    hold on\n",
    "    h.marker = plot (NA, NA, \"o\", \"markersize\", 15, \"color\", \"green\");\n",
    "    hold off\n",
    "  endif\n",
    "\n",
    "  set (hsrc, \"userdata\", h);\n",
    "  drag_fig (hsrc, evt);\n",
    "endfunction\n",
    "\n",
    "function drag_fig (hsrc, evt)\n",
    "\n",
    "  # evt 1:left button, 2:middle button, 3:right button\n",
    "  h = get (hsrc, \"userdata\");\n",
    "\n",
    "  if (! isempty (h.marker))\n",
    "    c = get (gca, \"currentpoint\")([1;3]);\n",
    "    set (h.marker, \"xdata\", c(1));\n",
    "    set (h.marker, \"ydata\", c(2));\n",
    "\n",
    "    # find nearest point\n",
    "    d = h.points - c;\n",
    "    [~, idx] = min (hypot (d(1, :), d(2, :)));\n",
    "    h.points(:, idx) = c;\n",
    "\n",
    "  endif\n",
    "\n",
    "  # draw / update the line\n",
    "  tmp = [h.points h.points(:,1)]; # duplicate first point to close triangle\n",
    "  if (isempty (h.line))\n",
    "    h.line = plot (tmp(1, :), tmp(2, :), \"-o\");\n",
    "    h.text = text (NA, NA, \"\", \"horizontalalignment\", \"center\");\n",
    "    ## testing\n",
    "    axis ([0 1 0 1])\n",
    "  else\n",
    "    set (h.line, \"xdata\", tmp(1, :));\n",
    "    set (h.line, \"ydata\", tmp(2, :));\n",
    "  endif\n",
    "\n",
    "  # calculate the area\n",
    "  A = polyarea (h.points(1, :),\n",
    "                h.points(2, :));\n",
    "  P = mean (h.points, 2);\n",
    "  set (h.text, \"position\", mean (h.points, 2).');\n",
    "  set (h.text, \"string\", sprintf (\"A = %.3f\", A));\n",
    "\n",
    "  set (hsrc, \"userdata\", h);\n",
    "\n",
    "endfunction\n",
    "\n",
    "function up_fig (hsrc, evt)\n",
    "\n",
    "  h = get (gcbf, \"userdata\");\n",
    "  delete (h.marker);\n",
    "  h.marker = [];\n",
    "  set (gcbf, \"userdata\", h);\n",
    "\n",
    "endfunction\n",
    "\n",
    "set (gcf, \"windowbuttondownfcn\", @down_fig);\n",
    "set (gcf, \"windowbuttonmotionfcn\", @drag_fig)\n",
    "set (gcf, \"windowbuttonupfcn\", @up_fig)\n",
    "\n",
    "# first update\n",
    "drag_fig (gcf, [])"
   ]
  },
  {
   "cell_type": "code",
   "execution_count": null,
   "metadata": {},
   "outputs": [],
   "source": []
  }
 ],
 "metadata": {
  "kernelspec": {
   "display_name": "Octave",
   "language": "octave",
   "name": "octave"
  },
  "language_info": {
   "file_extension": ".m",
   "help_links": [
    {
     "text": "GNU Octave",
     "url": "https://www.gnu.org/software/octave/support.html"
    },
    {
     "text": "Octave Kernel",
     "url": "https://github.com/Calysto/octave_kernel"
    },
    {
     "text": "MetaKernel Magics",
     "url": "https://metakernel.readthedocs.io/en/latest/source/README.html"
    }
   ],
   "mimetype": "text/x-octave",
   "name": "octave",
   "version": "4.2.2"
  },
  "latex_envs": {
   "LaTeX_envs_menu_present": true,
   "autoclose": false,
   "autocomplete": true,
   "bibliofile": "biblio.bib",
   "cite_by": "apalike",
   "current_citInitial": 1,
   "eqLabelWithNumbers": true,
   "eqNumInitial": 1,
   "hotkeys": {
    "equation": "Ctrl-E",
    "itemize": "Ctrl-I"
   },
   "labels_anchors": false,
   "latex_user_defs": false,
   "report_style_numbering": false,
   "user_envs_cfg": false
  }
 },
 "nbformat": 4,
 "nbformat_minor": 4
}
