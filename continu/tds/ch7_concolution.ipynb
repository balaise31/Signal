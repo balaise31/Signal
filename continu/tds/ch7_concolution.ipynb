{
 "cells": [
  {
   "cell_type": "markdown",
   "metadata": {
    "tags": []
   },
   "source": [
    "---\n",
    "# Convolution et réponse temporelle\n",
    "---\n"
   ]
  },
  {
   "cell_type": "markdown",
   "metadata": {},
   "source": [
    "## Définition à partir des sytèmes LTI\n",
    "\n",
    "La convolution entre deux signaux $f$ et $g$ est une fonction notée $\\def\\conv#1#2{#1\\!\\!\\star\\!\\!#2\\,}\\conv{f}{g}$ qui correspond à la sortie obtenue en envoyant un signal d'entré $f$ sur un système $G$ de réponse impulsionnelle $g$. **Le système doit être linéaire et invariant !** Ce qui est le cas le plus souvent.\n",
    "\n",
    "$f \\quad \\overset{G}{\\rightarrow} \\quad y=\\conv{f}{g} \\quad $ où le système $G$ est tels que $\\delta_0 \\overset{G}{\\rightarrow} g$. \n",
    "\n",
    "\n",
    "Si nous prenons la transformée de Fourier (ou de Laplace) de la définition du système $G$ de réponse impulsionnelle $g$ :\n",
    "\n",
    "temporel | $\\quad \\delta_0 \\quad \\overset{G}{\\rightarrow} \\quad g$ \n",
    "---|---\n",
    "Laplace  | $\\quad p\\mapsto 1 \\quad \\overset{G}{\\rightarrow} \\quad G(p)$\n",
    "Fourier  | $\\quad f\\mapsto 1 \\quad \\overset{G}{\\rightarrow} \\quad \\hat{G}(f)$\n",
    "\n",
    "> La fonction de transfert $G(p)$ d'un système $G$ est donc la transformée de sa réponse impulsionnelle $g$\n",
    "\n",
    "Le filtrage du signal f par le système $G$ est la convolution entre $f$ et $g$:\n",
    "\n",
    "temporel | $\\quad f \\quad \\overset{G}{\\rightarrow} \\quad y = f \\star g$ \n",
    "---|---\n",
    "Laplace  | $\\quad F(p) \\quad \\overset{G}{\\rightarrow} \\quad Y(p) = F(p).G(p)$\n",
    "Fourier  | $\\quad \\hat{F}(f) \\overset{G}{\\rightarrow} \\quad \\hat{Y}(f) = \\hat{F}(f).\\hat{G}(f)$ \n",
    "\n",
    "> La transformée de la convolution est donc le produit des transformées ce qui correspond à un filtrage des fréquences\n",
    "\n",
    "Comme un système est invariant alors sa réponse à un Dirac retardé à l'instant $a$ est la réponse impulsionnelle retardée à l'instant $a$ :\n",
    "\n",
    "$\\delta_a \\star f = f \\star \\delta_a = f(\\bullet-a)$\n",
    "\n",
    "> La convolution d'un signal avec un Dirac décale l'origine du signal sur le Dirac\n",
    "\n",
    "Comme le produit des transformées commute : $F(p).G(p)=G(p).F(p)$ alors la convolution aussi \n",
    "\n",
    "$f\\star g = g \\star f$  \n",
    "\n",
    "Cela veut dire qu'un signal $f$ filtré par $G$ donne le même signal que $g$ filtré par $F$, car une impulsion $\\delta_0$ filtré par $F$ puis $G$ est identique à celle filtré par $G$ puis $F$:\n",
    "\n",
    "$\\delta_0 \\quad \\overset{F}{\\rightarrow}\\quad \\delta_0\\star f = f \\quad \\overset{G}{\\rightarrow} \\quad y=f\\star g \\quad $\n",
    "\n",
    "$\\delta_0 \\quad \\overset{G}{\\rightarrow}\\quad \\delta_0\\star g = g \\quad \\overset{F}{\\rightarrow} \\quad y=g\\star f \\quad $\n"
   ]
  },
  {
   "cell_type": "markdown",
   "metadata": {},
   "source": [
    "# Formulation temporelle\n",
    "\n",
    "\n",
    "La réponse $y$ d'un système de RIp (Réponse ImPulsionnelle) $h$ à une entrée $x$ est donc $y=x\\star h$. \n",
    "\n",
    "On peut décomposer l'entrée $x$ dans le temps comme une somme d'impulsions localisées autour du temps $\\tau=k.dt\\in\\mathbb{R}$\n",
    "\n",
    "$\\sum_{k\\in\\mathbb{Z}} \\overbrace{x(k.dt)}^{x(\\tau)} . \\overbrace{\\Pi_{dt}(t-k.dt)}^{\\delta_0(t-\\tau)} \\quad \\overset{dt\\to 0}{\\approx} \\quad x(t) \\quad = \\int x(\\tau) . \\delta_0(t-\\tau) .  d\\tau$\n",
    "\n",
    "\n",
    "**Par linéarité du système $H$,** la réponse du système à la somme d'impulsions est la somme des réponses aux impulsions :\n",
    "\n",
    "$$\n",
    "\\begin{array}{ccc}\n",
    "  x(t) & = \\int x(\\tau) \\;.\\; & \\delta_0(t-\\tau) \\;.\\; d\\tau \\\\\n",
    "  \\downarrow H &          &\\downarrow H\\\\\n",
    "  H[x](t) = \\conv{x}{h}(t)  &= \\int x(\\tau) \\;.\\;& H[\\tau\\mapsto \\delta_0(t-\\tau)] \\;.\\; d\\tau\n",
    "\\end{array}\n",
    "$$\n",
    "\n",
    "**Par invariance du système $H$,** la réponse à une impulsion retardée $\\delta_0(\\bullet-\\tau)$ est la réponse impulsionnelle retardée $h(\\bullet-\\tau)$. Et la somme des réponses devient :\n",
    "\n",
    "$$\n",
    "\\begin{array}{ccc}\n",
    "  x(t) & = \\int x(\\tau) \\;.\\; & \\delta_0(t-\\tau) \\;.\\; d\\tau \\\\\n",
    "  \\downarrow H &          &\\downarrow H\\\\\n",
    "  \\conv{x}{h}(t)  &= \\int x(\\tau) \\;.\\;& h(t-\\tau) \\;.\\; d\\tau\n",
    "\\end{array}\n",
    "$$\n",
    "\n"
   ]
  },
  {
   "cell_type": "markdown",
   "metadata": {},
   "source": [
    "---\n",
    "# Calcul direct\n",
    "---\n",
    "\n",
    "On vera plus tard comment éviter ses calculs.\n",
    "\n",
    "## Exercice 2\n",
    "\n",
    "a) $u(t)\\star u(t)$ n'est pas bien typé ! On convolue des fonctions entre-elles, pas des réels. Comprendre $u(\\bullet)\\star u(\\bullet) = u\\star u$ la convolution entre deux échelons.\n",
    "  - retrouver la formule de convolution $f\\star g$ en pensant à décomposer $f$ comme une somme d'impulsions retardées en $\\tau$ : $f(t) = \\int f(\\tau).\\delta_0(t-\\tau).d\\tau$. Et penser que la réponse de $G$ à une somme d'impulsions $f$ est une somme de réponses impulsionnelles $g$ (G linéaire invariant).\n",
    "  - inutile d'intégrer pour $\\tau$ de $-\\infty$ à $+\\infty$ car les fonctions s'annulent. **Pour $t$ fixé**, écrivez les deux conditions sur $\\tau$ (en fonction de $t$) qui font que les deux échelons sont non nuls simultanément. Vous avez ainsi les bornes de l'intégrale qui doit intégrer $1.1.d\\tau$.\n",
    "  - pour quelle valeur de $t$ as-t-on un intervale d'intégration nul et donc une valeur de l'intégrale nulle ?\n",
    "  - On défint ainsi uun produit de convolution par morceau : \n",
    "    - 0 quand $t<0$\n",
    "    - $\\int_0^t 1 d\\tau = t$ quand $t>0$\n",
    "  - on trouve que $\\conv{u}{u}(t) = r(t)$ la fonction rampe causale.\n",
    "  - **bonus important** : écrivez la convolution entre une fonction $f$ quelconque et $u$ : $f\\star u$. On doit trouver la fonction primitive de $f$ qui s'annule en 0. Donc **convoluer avec $u$ c'est intégrer !** Cela est normal car le système $U$ transforme une impulsion $\\delta_0$ de transformée $1$ en un échelon $u$ de transformée $\\frac{1}{p}$. En effet **le système U de RIp $u$ est le système intégrateur**."
   ]
  },
  {
   "cell_type": "code",
   "execution_count": null,
   "metadata": {},
   "outputs": [],
   "source": []
  },
  {
   "cell_type": "code",
   "execution_count": null,
   "metadata": {},
   "outputs": [],
   "source": []
  }
 ],
 "metadata": {
  "kernelspec": {
   "display_name": "Octave",
   "language": "octave",
   "name": "octave"
  },
  "language_info": {
   "file_extension": ".m",
   "help_links": [
    {
     "text": "GNU Octave",
     "url": "https://www.gnu.org/software/octave/support.html"
    },
    {
     "text": "Octave Kernel",
     "url": "https://github.com/Calysto/octave_kernel"
    },
    {
     "text": "MetaKernel Magics",
     "url": "https://metakernel.readthedocs.io/en/latest/source/README.html"
    }
   ],
   "mimetype": "text/x-octave",
   "name": "octave",
   "version": "4.2.2"
  }
 },
 "nbformat": 4,
 "nbformat_minor": 4
}
