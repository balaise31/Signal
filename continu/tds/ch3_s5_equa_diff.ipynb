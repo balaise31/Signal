{
    "cells": [
        {
            "cell_type": "markdown",
            "source": [
                "# S5 - Equa. Diff et transformée de Laplace\n",
                "\n",
                "| Revenir à la [page déroulement](deroulement.ipynb) |\n",
                "|-------------|\n",
                "\n"
            ],
            "metadata": {}
        },
        {
            "cell_type": "markdown",
            "source": [
                "# À faire\n",
                "\n",
                "## Bien terminer l'exercice 1 (sauf le 1.h) en sachant retrouver les formules.\n",
                "  - $\\delta_0$ : On associe un signal à un système permettant de générer ce signal à partir de l'impulsion de Dirac $\\delta_0$. Le système qui ne fait rien doit multiplier par $1$ la transformée du signal d'entrée pour ne pas la changer et il transforme un Dirac en un Dirac : donc la transformée du Dirac est celle du système qui ne fait rien et vaut 1.\n",
                "  - échelon et rampe ($r : t\\mapsto t.u(t)$) se déduisent en intégrant (multiplier par $\\frac{1}{p}$) la transformée du Dirac qui vaut $1\\ldots$ Attention au piège à partir de $t.u(t)$ l'intégrale vaut $\\frac{t^2}{2}\\rightarrow \\frac{1}{p^3}$ puis $\\frac{t^3}{2.3}\\rightarrow \\frac{1}{p^4}$ et ainsi de suite (récurrence) pour obtenir $L[t\\mapsto \\frac{t^n}{n!}.u(t)](p) = \\frac{1}{p^{n+1}}$  \n",
                "  - Théorème du retard : Le retard est un système de gain 1 et de déphasage $-\\tau\\omega$, car une onde de pulsation $\\omega$ à une période $T=\\frac{1}{f}=\\frac{2\\pi}{\\omega}$ se déphase avec un retard $\\tau$ de $-2\\pi.\\frac{\\tau}{T}=-2\\pi.\\frac{\\tau}{\\frac{2\\pi}{\\omega}}=-\\tau\\omega$. Donc retarder un signal $X(p)$, c'est le multiplier par $1.e^{-i\\tau\\omega}=e^{-\\tau p}$ (en prenant $p=i\\omega$)\n",
                "  - $e^{-a t}.u(t)$ : est la réponse d'un premier ordre stable (pour a>0). On doit donc avoir un pôle stable : $\\frac{1}{p+a}$ marche, car $p=-a$ est un pôle à partie réelle négative donc stable. De plus c'est un signal borné homogène à $\\frac{1}{p}$, car $a\\equiv\\frac{1}{t}\\equiv p$, puisque l'argument de l'exponentielle est sans dimension.\n",
                "  - $\\sin(\\omega t).u(t)$ et $cos(\\omega t).u(t)$ se retrouvent facilement, car on sait qu'il s'agit de deux pôles imaginaires purs $\\pm i \\omega$ (cela donne du $e^{i \\omega t}\\pm e^{-i \\omega t}$ qui par formule d'Euler donne bien des sin et cos). Ce qui donne du $\\frac{\\dots}{p+i\\omega}\\frac{\\dots}{p-i\\omega} = \\frac{\\dots}{p^2+\\omega^2}$. Les signaux étant bornés, leur transformée doit être homogène à $\\frac{1}{p}$ ; on doit donc avoir au numérateur du $p$ ou du $\\omega\\equiv p$. Comme l'on sait que $\\frac{d}{dt}\\cos(\\omega t) = \\omega \\sin(\\omega t)$, on a donc $\\underbrace{p}_{\\frac{d}{dt}} \\underbrace{\\frac{\\omega}{p^2+\\omega^2}}_{cos(\\omega t)} = \\omega \\underbrace{\\frac{p}{p^2+\\omega^2}}_{sin(\\omega t)} $\n"
            ],
            "metadata": {}
        },
        {
            "cell_type": "markdown",
            "source": [
                "## Faire l'exerice 2 pour les transformées inverses\n",
                "* 2a. le $p^2+16$ fait penser à des pôles imaginaires purs conjugués donc à cos et sin. Retrouvez le Laplace de cos et sin causaux avec la technique précédente et voir une somme de cos et sin causaux pour $x(t)$. Utiliser un petit schéma IQ pour retrouver l'expression sous forme $A cos(\\omega t + \\varphi)u(t)$. On obtient $a=\\sqrt{2}, \\varphi=\\frac{5\\pi}{4}, \\omega=4$  \n",
                "* 2b. Pas de DES ici : il n'y pas de pôle, ou plutôt il vaut 0. Décomposer en somme et utiliser les intégrales du Dirac. On doit pourvoir trouver $\\delta_0 + 3;\\left(1+t-t^2\\right)u(t)$\n",
                "* 2c. Sortir la partie entière et obtenir $\\frac{2p}{p^2+2p+2}$. On peut faire une pénible DES mais il y a toujours plus malin. Mettez le $p^2 + 2p +2$ sous sa forme canonique $(p+a)^2+b $. Le $(p+a)$ fait penser à un retard de $-a$ sur la variable $p$ (voir précédent sur théorème de la modulation). Essayez d'exprimer cette fraction avec uniquement la variable $q=p+a$. On obtient alors $G(p+a)$ avec $G(p)$ une transformée connue ! Il s'ensuit avec le théorème de la modulation que $z(t) = \\delta_0 + e^{-t}.g(t)$, on peut faire un schéma IQ pour exprimer $g(t)$ sous la forme amplitude et phase d'un cosinus causal.\n",
                "* 2d. Ne pas faire tout de suite ou bien mettre sous la forme $H(p).\\frac{1}{1-e^{-p}}$. Trouver facilement $h(t)$ sous la forme de somme d'échelon et de rampes retardées, dessiner cette fonction qui est nulle en dehors du segment [0, 1]. Appliquer le théorème de la répétition causale, mais il vaut mieux attendre le td.  "
            ],
            "metadata": {}
        },
        {
            "cell_type": "markdown",
            "source": [
                "## Comprendre le théorème de la dérivée et les CI\n",
                "On a admis qu'intégrer et dériver correspondait à multiplier et diviser par $p$. Retrouvons ses résultats pour voir que la dérivation fait apparaitre les conditions initiales. Pour cela :\n",
                "   - on admet que $(u.v)'=u'.v+u.v'$, isoler le terme $u'.v$ et intégrer pour retrouver la formule d'intégration par parties. \n",
                "   - Retrouvez la formule de la transformée de Laplace d'une fonction $f$ quelconque, en pensant à la fonction qui : à toute fréquence complexe $p$ associe la projection de $f$ sur l'exponentielle complexe $e^ {-p.t}$.\n",
                "   - Effectuer une I.P.P. de $L[f']$ et retrouver que $L[f'](p) = [f(t) e^-{pt}]_{-\\infty}^{+\\infty} + p L[f](p)$ \n",
                "   - Considérez alors le cas de fonctions causales nulles pour $t<0$ et pas forcément continue à droite en $0$ (comme l'échelon par exemple). L'équation devient $L[f'](p) = [f(t) e^-{pt}]_{0}^{+\\infty} + p L[f](p)$ avec un passage à la limite en $0^+$, car f(0) n'est pas continue à droite. Vous obtiendrez alors la bonne formule $L[f'](p)= pL[f](p) - f(0^+)$. Et surtout pas $f(0^-)$ comme on peut le rencontrer chez de naïfs physiciens !\n",
                "* Revoir le [poly page 51 3.6.2](https://moodle.insa-toulouse.fr/mod/resource/view.php?id=24741#page=51) sur la résolution des équations différentielles avec les transformées.\n"
            ],
            "metadata": {}
        },
        {
            "cell_type": "markdown",
            "source": [
                "## Faire l'exercice 3\n",
                "*  Faire l'exercice 3a\n",
                "   - Trouvez que la transformée de réponse est $X(p) = \\frac{1}{(p+1)^3}$. Ne pas sombrer dans une décomposition en éléments simples un peu longue, ni dans la lecture de table de transformée ($\\frac{1}{(p+\\alpha)^n}$ y figure). C'est un pôle multiple, c'est fréquent et facile à faire avec l'astuce suivante. \n",
                "   - Remarquez que $X(p)= \\frac{1}{q^3}$ avec $q=p+1$. C'est comme si la variable $p$ était retardée de $-1$ avant d'appliquer $L^{-1}[p\\mapsto\\frac{1}{p^3}](t)= \\frac{t^2}{2}$. Par dualité du théorème du retard $L[t\\mapsto f(t-\\tau)](p)= e^{-\\tau p} F(p)$, appliquez le théorème de la modulation (qui est son dual) $L[t\\mapsto e^{\\tau t}f(t)](p)=F(p+\\tau)$. \n",
                "   - Remarquez la similitude du dual et faites attention au petit changement de signe dans l'exponentielle. On justifiera plus tard avec Fourier de l'existence de cette dualité des formules et du pourquoi du changement de signe. On retrouve ainsi la fonction $x$ primale de la transformée $X$. \n",
                "* Faire l'exercice 3b) **avec CI mais sans le Dirac !** \n",
                "   - Résoudre l'équation homogène ($x'' +\\dots = 0$) en introduisant les conditions initiales avec la formule $L[f'](p)=p.F(p)+f(0^+)$ et la même formule appliquée à la dérivée $L[f'']=p.L[f']-f'(0^+)$. On trouve ainsi $X(p)$ \n",
                "   - Vérifiez que la transformée de Laplace vérifie bien les CI en appliquant le théorème de la valeur initiale : $\\lim_{p\\to\\infty}(pF(p))=f(0^+)$ **si la limite existe !**. Vérifiez l'homogénéité de cette transformée avec $p\\equiv 1/t$ et $x_0'=\\frac{d}{dt}x\\equiv 1/t$\n",
                "   - Pour trouver la réponse temporelle $x$, on peut chercher les pôles de $X(p)$ et faire une Décomposition en Éléments Simples avec la méthode du cache : méthode classique expliquée dans [poly page 48 3.5.2](https://moodle.insa-toulouse.fr/mod/resource/view.php?id=24741#page=48).\n",
                "   - Vérifier que la solution $x(t)$ prise en $O^+$ respecte les CI données, vérifiez l'homogénéité des termes.\n",
                "   - Utilisez le théorème de la valeur finale pour faire un dernier test : $\\lim_{p\\to 0}(pF(p))=\\lim_{t\\to +\\infty}(f(t))$\n",
                "* Calculez ensuite la réponse de ce système **sans condition initiale,** mais avec pour entrée $\\left(6.x(0^+)+x'(0^+)\\right)\\delta_0 + \\delta_0' = 9\\delta_0 + \\delta_0'$. Sans aller jusqu'au bout, observez bien le $X(p)$ trouvé avec cette entrée sans CI et comparez à celle trouvée auparavant avec CI mais avec entrée nulle. Vous comprenez alors que les impulsions de Dirac et ses dérivées permettent d'introduire instantanément les CI.\n",
                "* Il est donc très moche dans cet exercice de demander la réponse d'un système avec un Dirac en entrée et en plus des CI ! Vérifiez cela avec le [corrigé coloré](laplace_exo2_dirac_et_CI.pdf)"
            ],
            "metadata": {}
        },
        {
            "cell_type": "markdown",
            "source": [
                "# En séance\n",
                "- Retour sur l'exo 1h. Démonstration de la formule de répétition causale avec le résultat sur les séries géométriques.\n",
                "- Correction du 2d\n",
                "- Correction de l'exo 3\n",
                "- Explication du théorème de la modulation comme le dual du théorème du retard\n",
                " "
            ],
            "metadata": {}
        }
    ],
    "metadata": {
        "orig_nbformat": 4,
        "language_info": {
            "mimetype": "text/x-octave",
            "name": "octave",
            "file_extension": ".m",
            "version": "4.2.2",
            "help_links": [
                {
                    "text": "GNU Octave",
                    "url": "https://www.gnu.org/software/octave/support.html"
                },
                {
                    "text": "Octave Kernel",
                    "url": "https://github.com/Calysto/octave_kernel"
                },
                {
                    "text": "MetaKernel Magics",
                    "url": "https://metakernel.readthedocs.io/en/latest/source/README.html"
                }
            ]
        },
        "kernelspec": {
            "name": "octave",
            "display_name": "Octave",
            "language": "octave"
        }
    },
    "nbformat": 4,
    "nbformat_minor": 2
}