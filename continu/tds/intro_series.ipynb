{
    "cells": [
        {
            "cell_type": "markdown",
            "source": [
                "# Séries de Fourier : premiers pas\n",
                "\n",
                "Nous allons aborder les notions dans un ordre qui n'est pas celui des exercices. D'abord comprendre ce qu'est une décomposition et une série de fonctions. Comprendre alors les liens entre parité et les parties réelles ou imaginaires des coefficients.Utiliser ces propriétés pour trouver les coefficients de décomposition en évitant des calculs directs trop complexes. \n",
                "\n",
                "# Forme d'une décomposition, période et parité\n",
                "\n",
                "Avant de calculer des coefficients $a(n)$, $b(n)$, et $c(n)$ regardons à quoi ils servent. Il existe plusieurs écritures de la décomposition et coexiste donc plusieurs formules différentes ! Bien comprendre comment les retrouver pour ne pas faire des erreurs de $2\\pi$, etc.\n",
                "\n",
                "Comme le montre la figure ci-dessous on décompose un signal en somme pondérée de signaux de base (ondes pures). \n",
                "Ici on montre une somme partielle (somme de 1 à 8 composantes) de série d'ondes pures qui semble converger vers le signal rectangle :\n",
                "\n",
                "![decompo](anim_serie_somme_partielle_nustre_feudon.gif)\n",
                "\n",
                "Chaque terme en sinus (fonctions impaires) ajouté est une ***composante*** $f_0$ à $f_{10}$ d'une suite de fonctions $(f_n)$. La somme partielle de ces composantes est une suite appelée ***série de fonctions*** : la suite des sommes partielles d'une suite de fonctions.\n",
                "\n",
                "On construit une série de fonctions : la suite des sommes partielles $S_N = \\Sigma_{n=0}^{n=N} f_n = t\\mapsto  \\Sigma_{n=0}^{n=N} f_n(t)$ \n",
                "\n",
                "***Attention*** $S_n$ est bien une fonction et pas un réel, de plus la somme $S = \\lim_{n\\to \\infty} S_n$ est une fonction communément appelée série de Fourier dans notre cas.\n",
                "\n",
                "***Dans ce cas, cette somme de sinus impairs ne peut donner comme limite qu'une fonction impaire*** qui semble ici être la fonction carrée."
            ],
            "metadata": {}
        },
        {
            "cell_type": "markdown",
            "source": [
                "## Les composantes sous forme phaseur, complexe, IQ, cosinus déphasé\n",
                "On décompose tout signal réel (pour les complexes, seule la représentation complexe avec les $c(n)$ fonctionnera) de période $T_0$ en une somme de :\n",
                "  - $f_0$ : composante continue $t\\mapsto a_0$ : la \"hauteur de la courbe\" ou sa valeur moyenne sur une période ($a_0$ parfois remplacé par $\\frac{a_0}{2}$ selon les goûts)\n",
                "  - $f_1$ : la fondamentale $t\\mapsto c(1).e^{i\\omega_0 t}+c(-1).e^{-i\\omega_0 t} = a(1)\\cos(\\omega_0 t) + b(1)\\sin(\\omega_0 t) = |c(1)|\\cos(\\omega_0 t + \\arg{c(1)})$ : une onde déphasée de période $T_0$ et donc de fréquence $F_0=\\frac{1}{T_0}$ et de pulsation $\\omega_0=2\\pi f_0=\\frac{2\\pi}{T_0}$. Les coefficients complexes $c(1)$ sont liés à la représentation par phaseur, les $a(1)$ et $b(1)$ à la représentation IQ de cette onde.\n",
                "  - $f_n$ : les harmoniques prises aux fréquences multiples de $F_0$ : $t\\mapsto c(n).e^{i n \\omega_0 t}+\\overline{c(n)}.e^{-i n \\omega_0 t} = a(n)\\cos(n \\omega_0 t) + b(n)\\sin(n \\omega_0 t) = |c(n)|\\cos(n \\omega_0 t + \\arg{c(n)})$\n",
                "\n",
                "Remarquez sur la figure que pour qu'une onde soit réelle dans la représentation complexe $c(n).e^{i n \\omega_0 t}+c(-n).e^{-i n \\omega_0 t}$ ***pour tout t***, il faut que $c(n).e^{i n \\omega_0 t}$ soit le conjugué de $c(-n).e^{-i n \\omega_0 t}$ ce qui impose :\n",
                "  - f réelle, $\\forall t \\quad \\implies \\quad c(n)=\\overline{c(-n)}, \\forall n$\n",
                "  - $\\exists t \\;|\\; f(t)$ imaginaire $\\implies \\quad \\exists n \\;|\\; c(n)\\neq\\overline{c(-n)}$\n",
                "\n",
                "<img src=phaseur_et_cn_an_bn.png width=600>\n",
                "\n",
                "Remarquez alors que la somme $c(n).e^{i n \\omega_0 t}+c(-n).e^{-i n \\omega_0 t}$ (violet) est la fonction $f_n$ (bleu) réelle car horizontale sur l'axe des réels. \n",
                "\n",
                "Quand les vecteurs roses tournent l'un dans un sens et l'autre dans l'autre avec le temps, la fonction bleue oscille sur l'axe des réels : l'onde pure. \n",
                "\n",
                "Le phaseur orange tourne à la même vitesse que le rose et a pour partie réelle la fonction réelle $f_n$ (bleue)\n",
                "\n",
                "**La composante Q est vers le bas pour que sa partie réelle soit un sinus lorsque Q tourne dans le sens positif**. On décompose le phaseur dans la base IQ pour avoir $Z_n = a(n) I + b(n) Q$ et donc les relations entre $a(n)$, $b(n)$ et $c(n)$ qui se trouvent géométriquement :\n",
                "  - $2 \\mathcal{R}(C(n)) = c(n) + \\overbrace{c(-n)}^{\\overline{c(n)}} = a(n)$ pour l'axe I du cosinus \n",
                "  - $2 \\mathcal{I}(C(n)) = c(n) - c(-n) =  - b(n) $ pour l'axe Q du sinus (le moins car Q est vers le bas)"
            ],
            "metadata": {}
        },
        {
            "cell_type": "markdown",
            "source": [
                "\n",
                "## La série complexe c(n) (vision phaseur) associée à la série réelle (a(n), b(n) vision IQ)\n",
                "\n",
                "Voici une animation qui montre comment des ondes complexes (phaseurs) peuvent décomposer ou reproduire une fonction périodique (ici une fonction en dents de scie).\n",
                "\n",
                "***attention les phaseurs sont représentés avec l'axe réel vers le haut et l'axe imaginaire vers la gauche de manière à avoir une partie réelle qui se projette en ordonnée du graphe temporel***\n",
                "\n",
                "<img src=anim_4_composantes.gif width=600>\n",
                "\n",
                "- en orange $S_1=f_0 + f_1$ la fondamentale de pulsation $\\omega_0$ (la composante continue $f_0$ est nulle) : Le vecteur qui tourne dans le cercle orange est le phaseur $z_1(t)=\\left(c(1)+c(-1)\\right).e^{i\\omega_0 t}$ tel que sa projection sur les réels vaut $\\mathcal {R}(z_1(t)) = c(1).e^{i\\omega_0 t}+c(-1).e^{-i\\omega_0 t}=f_1(t)= a(1)\\cos(\\omega_0 t) + b(1)\\sin(\\omega_0 t) = |c(1)|\\cos(\\omega_0 t + \\arg{c(1)})$\n",
                "- en vert $S_2= f_0 + f_1 + f_2$ la somme partielle avec en plus le premier harmonique de pulsation $2\\omega_0$. Le phaseur vert est plus petit en module et tourne deux fois plus vite. Il vaut $z_2(t)=\\left( c(2)+c(-2)\\right).e^{i 2 \\omega_0 t}$ tel que sa projection sur les réels vaut $\\mathcal {R}(z_2(t)) = c(2).e^{i 2 \\omega_0 t}+c(-2).e^{-i 2 \\omega_0 t}=f_2(t)$. La somme des deux phaseurs est représentée dans le deuxième cercle comme une somme vectorielle.\n",
                "- en bleu $S_3 = f_0 + \\ldots + f_3$ qui ajoute le deuxième harmonique de pulsation $3\\omega_0$ et tourne 3 fois plus vite que l'orange. Le phaseur bleu est encore plus petit et de même forme que précédemment. Il ajoute des ondulations de forme $|c(3)| \\cos\\left(3\\omega_0 t + \\arg(c(3))\\right)$ en représentation amplitude et phase.\n",
                "- en rouge $S_4 = \\Sigma_{n=0}^{4} f_n$. Avec le 3ème harmonique de fréquence $4 F_0$ et un phaseur encore plus petit qui ajoute une ondulation $a(4)\\cos(4\\omega_0.t)+b(4)\\sin(4.2\\pi.F_0.t)$ en représentation IQ soit $\\left(a(4)^2+b(4)^2\\right)\\cos\\left(2\\pi.4\\frac{t}{T_0}+\\mathrm{atan}{\\frac{-b(4)}{a(4)}}\\right)$ "
            ],
            "metadata": {}
        },
        {
            "cell_type": "markdown",
            "source": [
                "## Parité et coefficients\n",
                "\n",
                "On conçoit qu'une **fonction paire** ne peut être que la somme de fonctions paires donc :\n",
                "  - $a_0$, la valeur moyenne peut ne pas être nulle\n",
                "  - les $b_n$ qui sont les composantes Q (quadrature de cos) donc en sinus (impaire) sont tous nuls\n",
                "  - donc sans composante Q, la partie imaginaire des $c(n)$ est nulle aussi ce qui donne des coefficients complexes purement réels\n",
                "\n",
                "On conçoit qu'une **fonction impaire** ne peut être que la somme de fonctions impaires donc :\n",
                "  - $a_0$, la valeur moyenne est nulle\n",
                "  - les $a_n$ qui sont les composantes I (In phase du cosinus) donc en cosinus (paire) sont tous nuls\n",
                "  - donc sans composante I, la partie réelle des $c(n)$ est nulle aussi ce qui donne des c(n) purement imaginaires\n",
                "\n",
                "Cela facilite les calculs et on peut donc opérer aux astuces suivantes :\n",
                "  - enlever la composante continue d'une fonction $f$ (calculer la valeur moyenne $a_0$) pour obtenir $\\tilde{f} = f-a_0$. La fonction est alors à valeur moyenne nulle avec $\\tilde{a_0}=0$ et peut être rendue ainsi impaire ! Donc que des b(n) à calculer ou des c(n) imaginaires purs.\n",
                "  - appliquer un retard à la fonction $\\tilde{f}$ pour obtenir $f^*(t)=\\tilde(t-\\tau)$ permet parfois de rendre la fonction $f^*$ paire ou impaire. Il suffit alors d'appliquer le théorème du retard pour obtenir les coefficients de $\\tilde{f}$ qui sont ceux de $f$ car seule la composante continue $a_0$ change.\n"
            ],
            "metadata": {}
        },
        {
            "cell_type": "markdown",
            "source": [
                "\n",
                "## Convergence\n",
                "\n",
                " \n",
                "**Si** la fonction périodique est \n",
                "  - continue par morceaux avec un nombre de discontinuités dénombrable (en gros on peut l'intégrer par morceaux)\n",
                "  - bornée (l'intégrale converge)\n",
                "\n",
                "Alors la **série de fonctions** de Fourier **converge simplement** (on verra qu'elle converge avec la norme 2, mais pas de manière uniforme) vers la fonction périodique $f$.\n",
                "\n",
                "***Alors*** la série de Fourier converge vers f : $S_n \\underset{n\\to\\infty}{\\to} f$\n",
                "\n",
                "$\\forall t, \\quad \\Sigma_{n=-\\infty}^{+\\infty} c(n) e^{i n \\omega_0 t} =\\quad  a_0 + \\Sigma_{n=1}^{+\\infty}{\\left( \\begin{array}{c} a(n) \\cos({n \\omega_0 t}) \\\\ + \\\\ b(n) \\sin({n \\omega_0 t})\\end{array}\\right)} \\quad \\underset{CVS}{\\longrightarrow} \\quad f(t)$\n",
                "\n"
            ],
            "metadata": {}
        }
    ],
    "metadata": {
        "orig_nbformat": 4,
        "language_info": {
            "name": "octave"
        }
    },
    "nbformat": 4,
    "nbformat_minor": 2
}