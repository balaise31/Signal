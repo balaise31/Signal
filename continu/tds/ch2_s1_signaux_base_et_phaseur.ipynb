{
 "cells": [
  {
   "cell_type": "markdown",
   "metadata": {},
   "source": [
    "---\n",
    "# Séance 1 (Chapitre 2 du poly)\n",
    "---\n",
    "\n",
    "| Revenir à la [page déroulement](Readme.md) |\n",
    "|-------------|\n",
    "\n",
    "\n",
    "## Décomposition des signaux en signaux de bases\n",
    "---\n",
    "\n",
    "On a besoin de voir l'opérateur dérivé comme une bijection qui admet une réciproque (l'intégrale) de manière à pouvoir construire des signaux. Cela pose problème si un signal discontinu doit être dérivé. On introduit alors la notion nouvelle de fonction généralisée (ou distribution) de Dirac qui permet de générer des discontinuités en l'intégrant.\n",
    "\n",
    "Tout signal peut être modélisé par une seule impulsion de Dirac que l'on va modifier avec les opérateurs retard, intégrale (et sa réciproque dérivée) et les combinaisons linéaires de signaux (gain ou multiplication par un scalaire et somme. \n",
    "\n",
    "Les trois visions ou écritures mathématiques d'une onde pure sont introduites : le cosinus déphasé avec enveloppe vs un somme IQ (I pour \"In phase\" cosinus en phase, Q pour \"Quadrature\" le sinus en avance d'une quadrature sur le I)\n",
    "\n",
    "## En séance 1\n",
    "---\n",
    "\n",
    "- On fait d'abord l'exo 2.1a en essayant de modéliser les signaux à partir d'une seule impulsion unité.\n",
    "- Puis l'exo 4 pour aborder les différentes visions de l'onde pure.\n",
    "\n"
   ]
  },
  {
   "cell_type": "code",
   "execution_count": null,
   "metadata": {},
   "outputs": [],
   "source": []
  }
 ],
 "metadata": {
  "kernelspec": {
   "display_name": "Octave",
   "language": "octave",
   "name": "octave"
  },
  "language_info": {
   "file_extension": ".m",
   "help_links": [
    {
     "text": "GNU Octave",
     "url": "https://www.gnu.org/software/octave/support.html"
    },
    {
     "text": "Octave Kernel",
     "url": "https://github.com/Calysto/octave_kernel"
    },
    {
     "text": "MetaKernel Magics",
     "url": "https://metakernel.readthedocs.io/en/latest/source/README.html"
    }
   ],
   "mimetype": "text/x-octave",
   "name": "octave",
   "version": "4.2.2"
  },
  "latex_envs": {
   "LaTeX_envs_menu_present": true,
   "autoclose": false,
   "autocomplete": true,
   "bibliofile": "biblio.bib",
   "cite_by": "apalike",
   "current_citInitial": 1,
   "eqLabelWithNumbers": true,
   "eqNumInitial": 1,
   "hotkeys": {
    "equation": "Ctrl-E",
    "itemize": "Ctrl-I"
   },
   "labels_anchors": false,
   "latex_user_defs": false,
   "report_style_numbering": false,
   "user_envs_cfg": false
  }
 },
 "nbformat": 4,
 "nbformat_minor": 4
}
