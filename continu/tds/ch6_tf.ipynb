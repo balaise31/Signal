{
 "cells": [
  {
   "cell_type": "markdown",
   "metadata": {},
   "source": [
    "---\n",
    "# Transformées de Fourier suite\n",
    "---\n",
    "\n",
    "\n",
    "| Revenir à la [page déroulement](Readme.md) |\n",
    "|-------------|\n",
    "\n"
   ]
  },
  {
   "cell_type": "markdown",
   "metadata": {},
   "source": [
    "---\n",
    "# Tranformées de Fourier existante seulement avec des distributions\n",
    "--- \n",
    "\n",
    "On voit plus haut que l'impulsion de Dirac $\\delta_0$ pourrait être la transformée de la fonction constante $\\vec{c}$ qui n'est pourtant pas intégrable avec les fonctions usuelles ! \n",
    "\n",
    "Essayons de calculer la transformée inverse de $\\hat{C}= \\delta_0$. Rappelons-nous que $\\hat{C}(f)=<\\vec{c},\\vec{w_f}>$ est le coefficient de projection de $\\vec{c}$ sur l'onde complexe $w_f$ de fréquence $f$ de la base : $w_f=e^{i2\\pi.f.\\bullet}$. \n",
    "\n",
    "Donc pour reconstruire le signal temporel $\\vec{f}$ par transformée inverse $\\mathcal{F}^{-1}[C]$ on fait la somme des composantes associées à toutes les fréquences et donc à tous les vecteurs de la base :\n",
    "\n",
    "$\\mathcal{F}^{-1}[C](t) = \\int_{f\\in\\mathbb{R}} \\underbrace{C(f)}_{<\\vec{w_f},\\vec{f}>}.\\underbrace{e^{i2\\pi.f.t}}_{\\vec{w_f}}.df$ \n",
    "\n",
    "$\\mathcal{F}^{-1}[C](t) = \\int_{f\\in\\mathbb{R}} \\delta_0.e^{i2\\pi.f.t}.df$ \n",
    "\n",
    "L'intégrale du produit d'une fonction $f$ avec une impulsion de Dirac $\\delta_T$ centré en $T$ converge vers $f(T)$ : **le Dirac sous l'intégrale sert à sélectionner/mesurer une valeur de la fonction à un instant précis**. \n",
    "\n",
    "<iframe src=\"https://www.desmos.com/calculator/nbxqqxkrql?embed\" width=\"500\" height=\"500\" style=\"border: 1px solid #ccc\" frameborder=0></iframe>\n",
    "\n",
    "[Allez ici sur desmos](https://www.desmos.com/calculator/zdpscvfenr) pour voir et manipuler l'animation du passage à la limite.\n",
    "\n",
    "Par passage à la limite, l'aire d'une impulsion $h(t)$ (violette) de poids unitaire (aire violette = 1) devient multipliée localement par $f(T)$ (vert) pour donner l'aire du produit (orange) qui vaut $1.f(T)$ : **l'intégrale du produit avec $\\delta_T$ à mesuré $f$ à l'instant $T$**.\n",
    "\n",
    "La transformée inverse de $\\delta_0$ sélectionne, en intégrant sur tout les $f$, la valeur de l'onde pure $e^{i2\\pi.f.t}$ pour la fréquence $f=0$, car le Dirac est centré en 0 :\n",
    "\n",
    "$\\mathcal{F}^{-1}[C](t) = \\int_{f\\in\\mathbb{R}} \\delta_0.e^{i2\\pi.f.t}.df = e^{i2\\pi.0.t}$\n",
    "\n",
    "$\\mathcal{F}^{-1}[C](t) = e^{0} = 1 , \\forall t$\n",
    "\n",
    "> On peut ainsi sélectionner n'importe quelle onde pure de la base par un Dirac, ce qui donne :\n",
    ">  - $\\delta_0$ transformée de Fourier de la fonction constante $w_0 := t \\mapsto 1$\n",
    ">  - $\\delta_f$ transformée de Fourier de l'onde complexe $w_f := t \\mapsto e^{i2\\pi.f.t}$\n",
    ">  - $\\frac{\\delta_f + \\delta_{-f}}{2}$ transformée de Fourier du cosinus $a_f := t \\mapsto \\cos(2\\pi.f.t)$\n",
    ">  - $\\frac{\\delta_f - \\delta_{-f}}{2i}$ transformée de Fourier du sinus $b_f := t \\mapsto \\sin(2\\pi.f.t)$"
   ]
  },
  {
   "cell_type": "markdown",
   "metadata": {},
   "source": [
    "---\n",
    "## Exercice 1 suite et fin \n",
    "---\n",
    "\n",
    "Vous pouvez maintenant terminer l'exercice 1.1 et 1.2 car vous connaissez maintenant la transformée d'un sinus et d'une fonction porte.\n",
    "\n",
    "Pour le 1.2 faites bien attention aux unités !\n",
    "  - pour les séries de Fourier, le coefficient est simplement l'amplitude de la composante. Ainsi la fonction constante d'amplitude 2 est un coefficient $a_0=2$ en volts par exemple \n",
    "  - pour les transformées il s'agit d'une **densité d'amplitude par fréquence**. La même fonction constante est représenté par un Dirac de poids $2$ certes, mais d'amplitude infinie en 0 !\n",
    "\n",
    "On peut voir la transformée de Fourrier comme un passage à la limite des séries de Fourier avec $T_0\\to+\\infty$ soit quand $f_0\\to0$, ainsi la décomposition donne :\n",
    "\n",
    "$ s(t) = \\sum c(n).e^{i2\\pi.n.f_0.t} \\underset{f_0\\to0}{\\rightarrow} s(t) = \\int C(f).e^{i2\\pi.f.t} df$\n",
    "\n",
    "On voit qu'une amplitude $c(n)$ volt associé à une fréquence $n.f_0=f$ dans une série, devient dans une transformée homogène à $C(f).df$ en volts. Donc une transformée est homogène à des Volts par Hertz.\n",
    "\n",
    "**La probabilité discrète d'un jet de dé est à la série de Fourier ce que la densité de probabilité d'une variable continue est à la transformée de Fourier**  "
   ]
  },
  {
   "cell_type": "markdown",
   "metadata": {},
   "source": [
    "---\n",
    "Exercice 3\n",
    "---\n",
    "Ne faites pas dans l'ordre !\n",
    "\n",
    "  - e) Pas de calcul direct, essayez de décomposer en somme :\n",
    "    - au lieu d'utiliser des échelons (utiles avec Laplace), essayez de voir une somme de fonctions portes (pratique avec Fourier)\n",
    "    - Vérifiez la cohérence entre parité et partie réelle, etc.\n",
    "    - Vérifiez que $|E(f)|\\to 0$ quand $f$ tends vers $\\pm\\infty$\n",
    "    - **Faites le passage de Transformée à série de Fourier** vous obtiendrez ainsi les $c(n)$ de l'exercice 3 facilement !\n",
    "  - d) On reconnait l'exponentielle causale multipliée par $t$. On se rappelle que multiplier par $p$ revient à faire une dérivée dans le temps. Par dualité on doit avoir une formule qui dit \"multiplier par $t$, c'est dériver la TF. Il y a toujours un changement de signe dans la dualité (voir [poly 3A à partir de l'exo 1.10 page 12](https://github.com/balaise31/Signal/blob/tds/discret/poly/main.pdf)). Si on ne trouve pas la formule ainsi, le calcul direct sent l'IPP.\n",
    "\n",
    "<img src=anim_tf_rectangle_dual.gif width=400>\n",
    "\n",
    "Pensez la dualité (l'idée que si j'applique un opérateur une seconde fois : je reviens au primal) ! Une transformée de Fourier transforme une fonction en fonction de même type (ce qui n'est pas le cas de Laplace et des séries). Attention : \n",
    "\n",
    ">La transformée de Fourier est biduale ($\\mathcal{F}^2=\\mathcal{F}\\circ\\mathcal{F}=\\mathcal{F}[\\mathcal{F}[\\bullet]]$ est duale) :\n",
    " \n",
    ">$\\mathcal{F}^2[s(\\bullet)] = s(-\\bullet)\\quad$ la duale de $s$ est son antipodale notée $S_y[s]$ dans le schéma.\n",
    " \n",
    ">$\\mathcal{F}^2[s(-\\bullet)] = s(\\bullet)\\quad$ retour à la primale : l'antipodale de l'antipodale**\n",
    "\n",
    "<img src=../../discret/poly/dessins/dualite_4.png width=200>\n",
    "\n",
    "  "
   ]
  },
  {
   "cell_type": "markdown",
   "metadata": {},
   "source": [
    "- b) Attention Dirac :\n",
    "    - Faire le calcul direct et revoir plus haut l'effet de sélection/mesure d'un Dirac sous l'intégrale.\n",
    "    - Par dual : On a vu que la transformée d'un cosinus est $\\frac{\\delta_f+\\delta_{-f}}{2}$. Et celle d'une constante un simple $\\delta_0$. Ici la fonction primale b semble être ce signal. Par dualité, en appliquant une deuxième fois la transformée on doit retomber sur un cos et une constante retournée dans le temps (antipodal). **Sans calcul !**\n",
    "    - vérifier la relation parité/fonction réelle\n",
    "    - la transformée ne tend pas vers 0 car la transformée inverse ne converge pas vers des fonctions usuelles (Dirac -> infini -> non définit)\n",
    "    - bien vérifier les dimensions, car erreurs courantes de confusion temps fréquence avec les duaux. \n",
    "- c) Attention pas de théorème de changement d'échelle avec les Diracs. Même formule, pas de piège.\n",
    "- a) La fonction $\\Pi_{T_0}$ est bien $\\Pi_{[-T_0/2, T_0/2]}$. C'est un produit de fonctions connues et pas une somme donc pas si simple !\n",
    "    - on peut y voir une somme de cosinus causaux avec Laplace puis passer à la TF\n",
    "    - on peut faire un calcul direct un peu crade (passer par Euler)\n",
    "    - on fera plus tard la décomposition en produit, car $\\mathcal{F}[f.g]=\\mathcal{F}[f]\\star \\mathcal{F}[g]$ où $\\star$ est un **produit de convolution**. En général ces produits sont complexes à calculer, mais là on convolue avec un Dirac et cela est très facile : on décale la fonction autour du Dirac. Le calcul est simple et faisable\n",
    "    - vérification de parité, là on doit avoir un spectre qui tends vers 0 à l'infini."
   ]
  },
  {
   "cell_type": "markdown",
   "metadata": {},
   "source": []
  }
 ],
 "metadata": {
  "kernelspec": {
   "display_name": "Python 3",
   "language": "python",
   "name": "python3"
  },
  "language_info": {
   "codemirror_mode": {
    "name": "ipython",
    "version": 3
   },
   "file_extension": ".py",
   "mimetype": "text/x-python",
   "name": "python",
   "nbconvert_exporter": "python",
   "pygments_lexer": "ipython3",
   "version": "3.9.2"
  },
  "latex_envs": {
   "LaTeX_envs_menu_present": true,
   "autoclose": false,
   "autocomplete": true,
   "bibliofile": "biblio.bib",
   "cite_by": "apalike",
   "current_citInitial": 1,
   "eqLabelWithNumbers": true,
   "eqNumInitial": 1,
   "hotkeys": {
    "equation": "Ctrl-E",
    "itemize": "Ctrl-I"
   },
   "labels_anchors": false,
   "latex_user_defs": false,
   "report_style_numbering": false,
   "user_envs_cfg": false
  }
 },
 "nbformat": 4,
 "nbformat_minor": 2
}
