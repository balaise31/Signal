{
 "cells": [
  {
   "cell_type": "markdown",
   "metadata": {
    "tags": []
   },
   "source": [
    "---\n",
    "# Convolution et réponse temporelle\n",
    "---\n"
   ]
  },
  {
   "cell_type": "markdown",
   "metadata": {},
   "source": [
    "## Définition à partir des sytèmes LTI\n",
    "\n",
    "La convolution entre deux signaux $f$ et $g$ est une fonction notée $\\def\\conv#1#2{#1\\!\\!\\star\\!\\!#2\\,}\\conv{f}{g}$ qui correspond à la sortie obtenue en envoyant un signal d'entré $f$ sur un système $G$ de réponse impulsionnelle $g$. **Le système doit être linéaire et invariant !** Ce qui est le cas le plus souvent.\n",
    "\n",
    "$f \\quad \\overset{G}{\\rightarrow} \\quad y=\\conv{f}{g} \\quad $ où le système $G$ est tels que $\\delta_0 \\overset{G}{\\rightarrow} g$. \n",
    "\n",
    "\n",
    "Si nous prenons la transformée de Fourier (ou de Laplace) de la définition du système $G$ de réponse impulsionnelle $g$ :\n",
    "\n",
    "temporel | $\\quad \\delta_0 \\quad \\overset{G}{\\rightarrow} \\quad g$ \n",
    "---|---\n",
    "Laplace  | $\\quad p\\mapsto 1 \\quad \\overset{G}{\\rightarrow} \\quad G(p)$\n",
    "Fourier  | $\\quad f\\mapsto 1 \\quad \\overset{G}{\\rightarrow} \\quad \\hat{G}(f)$\n",
    "\n",
    "> La fonction de transfert $G(p)$ d'un système $G$ est donc la transformée de sa réponse impulsionnelle $g$\n",
    "\n",
    "Le filtrage du signal f par le système $G$ est la convolution entre $f$ et $g$:\n",
    "\n",
    "temporel | $\\quad f \\quad \\overset{G}{\\rightarrow} \\quad y = f \\star g$ \n",
    "---|---\n",
    "Laplace  | $\\quad F(p) \\quad \\overset{G}{\\rightarrow} \\quad Y(p) = F(p).G(p)$\n",
    "Fourier  | $\\quad \\hat{F}(f) \\overset{G}{\\rightarrow} \\quad \\hat{Y}(f) = \\hat{F}(f).\\hat{G}(f)$ \n",
    "\n",
    "> La transformée de la convolution est donc le produit des transformées ce qui correspond à un filtrage des fréquences\n",
    "\n",
    "Comme un système est invariant alors sa réponse à un Dirac retardé à l'instant $a$ est la réponse impulsionnelle retardée à l'instant $a$ :\n",
    "\n",
    "$\\delta_a \\star f = f \\star \\delta_a = f(\\bullet-a)$\n",
    "\n",
    "> La convolution d'un signal avec un Dirac décale l'origine du signal sur le Dirac\n",
    "\n",
    "Comme le produit des transformées commute : $F(p).G(p)=G(p).F(p)$ alors la convolution aussi \n",
    "\n",
    "$f\\star g = g \\star f$  \n",
    "\n",
    "Cela veut dire qu'un signal $f$ filtré par $G$ donne le même signal que $g$ filtré par $F$, car une impulsion $\\delta_0$ filtré par $F$ puis $G$ est identique à celle filtré par $G$ puis $F$:\n",
    "\n",
    "$\\delta_0 \\quad \\overset{F}{\\rightarrow}\\quad \\delta_0\\star f = f \\quad \\overset{G}{\\rightarrow} \\quad y=f\\star g \\quad $\n",
    "\n",
    "$\\delta_0 \\quad \\overset{G}{\\rightarrow}\\quad \\delta_0\\star g = g \\quad \\overset{F}{\\rightarrow} \\quad y=g\\star f \\quad $\n"
   ]
  },
  {
   "cell_type": "markdown",
   "metadata": {},
   "source": [
    "# Formulation temporelle\n",
    "\n",
    "\n",
    "La réponse $y$ d'un système de RIp (Réponse ImPulsionnelle) $h$ à une entrée $x$ est donc $y=x\\star h$. \n",
    "\n",
    "On peut décomposer l'entrée $x$ dans le temps comme une somme d'impulsions localisées autour du temps $\\tau=k.dt\\in\\mathbb{R}$\n",
    "\n",
    "$\\sum_{k\\in\\mathbb{Z}} \\overbrace{x(k.dt)}^{x(\\tau)} . \\overbrace{\\Pi_{dt}(t-k.dt)}^{\\delta_0(t-\\tau)} \\quad \\overset{dt\\to 0}{\\approx} \\quad x(t) \\quad = \\int x(\\tau) . \\delta_0(t-\\tau) .  d\\tau$\n",
    "\n",
    "\n",
    "**Par linéarité du système $H$,** la réponse du système à la somme d'impulsions d'amplitude $x(\\tau)$ est la somme des réponses aux impulsions unités fois $x(\\tau)$ :\n",
    "\n",
    "$$\n",
    "\\begin{array}{ccc}\n",
    "  x(t) & = \\int x(\\tau) \\;.\\; & \\delta_0(t-\\tau) \\;.\\; d\\tau \\\\\n",
    "  \\downarrow H &          &\\downarrow H\\\\\n",
    "  H[x](t) = \\conv{x}{h}(t)  &= \\int x(\\tau) \\;.\\;& H[\\tau\\mapsto \\delta_0(t-\\tau)] \\;.\\; d\\tau\n",
    "\\end{array}\n",
    "$$\n",
    "\n",
    "**Par invariance du système $H$,** la réponse à une impulsion retardée $\\delta_0(\\bullet-\\tau)$ est la réponse impulsionnelle retardée $h(\\bullet-\\tau)$. Et la somme des réponses devient :\n",
    "\n",
    "$$\n",
    "\\begin{array}{ccc}\n",
    "  x(t) & = \\int x(\\tau) \\;.\\; & \\delta_0(t-\\tau) \\;.\\; d\\tau \\\\\n",
    "  \\downarrow H &          &\\downarrow H\\\\\n",
    "  \\conv{x}{h}(t)  &= \\int x(\\tau) \\;.\\;& h(t-\\tau) \\;.\\; d\\tau\n",
    "\\end{array}\n",
    "$$\n",
    "\n"
   ]
  },
  {
   "cell_type": "markdown",
   "metadata": {},
   "source": [
    "---\n",
    "# Calcul direct\n",
    "---\n",
    "\n",
    "On vera plus tard comment éviter ses calculs. Essayez de suivre ces quelques indications pour comprendre la technique, mais il est **inutile et abrutissant de toutes les faires ainsi !**\n",
    "\n",
    "  1) Je suis une **geeke** : \n",
    "    - j'ai lu le cours (et récap ci-dessus) et pense avoir compris \"la vision système\" et la vision \"somme de réponses\" de la convolution\n",
    "    - je tente les exos en utilsant les deux visions, je cherche des méthodes de vérifications\n",
    "    - je regarde les indications et le corrigé pour me réconforter et m'imprégner des expertises et méthodes du rédacteur du corrigé. Le cours me parraît simple, évident et beau.\n",
    "    - j'aide les autres pour renforcer ma vision et mon apprentissage : \"ce qui se conçoit clairement s'exprime clairement\"\n",
    "  2) Je serai bientôt une geeke, alors j'essaye de comprendre avant tout\n",
    "    - j'essaie de comprendre le cours et les visions du prof (première passe) : si je ne capte pas rapidement, j'insiste pas trop (on demandera de l'aide plus tard)\n",
    "    - j'essaie un premier exercice seule : soit ça passe et je passe en mode geek, soit j'arrive pas à démarrer et je regarde les indications. Si ça ne marche toujours pas, je regarde le corrigé pour voir avoir le déclic\n",
    "    - à chaque exo fait, je reviens sur la partie du cours pour voir si les visions simples du cours s'éclaircissent maintenant\n",
    "    - si au bout de quelques exos, il me semble avoir compris le cours **inutile d'en faire plus !**. Passez à la suite du cours !\n",
    "    - si ou bout de quelques exercices ça ne devient pas clair, s'arrêter et demander à une $geek$. Ou bien je demande à la prof. **Il faut provoquer le déclic de compréhension** avant de continuer à s'exercer : sinon vous êtes condamnée à la méthode 3.\n",
    "  3) Je veux pas être geeke, je veux juste \"passer\" et en finir avec cette UF\n",
    "    - continuez votre bachôtage en faisant laborieusement plein d'exercices en ne gardant du cours que des formules en mémoire le temps de l'interro... bon courage et au boulot car il y en aura de plus en plus. Pourvu que les exos de l'IE ressemble à ceux du TD sinon je suis cuite !\n",
    "    \n",
    "    \n",
    "\n"
   ]
  },
  {
   "cell_type": "markdown",
   "metadata": {},
   "source": [
    "## Exercice 2\n",
    "\n",
    "a) $u(t)\\star u(t)$ n'est pas bien typé ! On convolue des fonctions entre-elles : pas des réels. Comprendre $u(\\bullet)\\star u(\\bullet) = u\\star u$ la convolution entre deux échelons.\n",
    "  - Retrouver la formule de convolution $f\\star g$ en pensant à décomposer $f$ comme une somme d'impulsions retardées en $\\tau$ : $f(t) = \\int f(\\tau).\\delta_0(t-\\tau).d\\tau$. Et penser que la réponse de $G$ à une somme d'impulsions $f$ est une somme de réponses impulsionnelles $g$ (G linéaire invariant).\n",
    "  - Inutile d'intégrer pour $\\tau$ de $-\\infty$ à $+\\infty$ car les fonctions s'annulent. **Pour $t$ fixé**, écrivez les deux conditions sur $\\tau$ (en fonction de $t$) qui font que les deux échelons sont non nuls simultanément.  \n",
    "  $u(\\tau).u(t-\\tau)\\neq 0 \\implies \\dots < \\tau < \\dots$.\n",
    "  Vous avez ainsi les bornes de l'intégrale qui doit intégrer $1.1.d\\tau$.\n",
    "  - Pour quelle valeur de $t$ a-t-on un intervale d'intégration nul et donc une valeur de l'intégrale nulle ?\n",
    "  - On définit ainsi le produit de convolution par morceaux : \n",
    "    - 0 quand $t<0$\n",
    "    - $\\int_0^t 1 d\\tau = t$ quand $t>0$\n",
    "  - on trouve que $\\conv{u}{u}(t) = r(t)$ la fonction rampe causale.\n",
    "  - **Bonus important** : écrivez la convolution entre une fonction $f$ quelconque et $u$ : $f\\star u$. On doit trouver la fonction primitive de $f$ qui s'annule en 0. Donc **convoluer avec $u$, c'est intégrer !** Cela est normal, car le système $U$ transforme une impulsion $\\delta_0$ de transformée $p\\mapsto 1$ en un échelon $u$ de transformée $p\\mapsto\\frac{1}{p}$. En effet, **le système U de RIp $u$ est le système intégrateur**.\n",
    "  - **vérifiez pour un décalage nul**. $\\conv{u}{u}(t=0) = <u(\\bullet),\\; \\overline{u(-\\bullet)}>$ La convolution pour un décalage $t$ de 0 est la projection (l'aire du produit) d'un signal sur l'antipodal de l'autre signal (signal retourné dans le temps)\n",
    "  - **essayez de voir** quelle peut être cette projection pour différents **retards $t$ du signal retourné** car en effet $u\\star u = <u(\\bullet),\\; \\overline{u\\left(-(\\bullet - t)\\right)}> = <u(\\bullet),\\; \\overline{u\\left(t-\\bullet\\right)}>$\n",
    "  - **vérifier les unités** quand c'est possible... Ici l'amplitude $A=1[V]$ est cachée, mais la convolution étant le signal de sortie d'un filtrage : sa dimention doit être en $[V]$ et rester linéaire en $A$\n",
    "\n",
    "b et c) mal typés !  $sin(\\bullet)\\!\\!\\star\\!\\!\\Pi_{2a}(\\bullet)\\,(t)=\\conv{\\sin{}}{\\Pi_{2a}}(t)$ pour le signal b) et $\\conv{\\cos{}}{\\Pi_{2a}}(t)$ pour c). Rappelons que $\\Pi_{2a}$ est la fonction porte de **largeur 2a** centrée en 0 et donc non nulle sur $[-a, a]$.\n",
    "  - Vaut-il mieux calculer $\\sin\\star\\Pi_{2a}$ et avoir un simple sinus à intégrer sur des bornes un peu compliquées. Car il faut se demander, à $t$ fixé, pour quel $\\tau$ l'expression $\\Pi_{2a}(t-\\tau)$ n'est pas nulle\\dots\n",
    "  - Ou vaut-il mieux calculer $\\Pi_{2a}\\star\\sin$ et intégrer sur des bornes $-a$ à $+a$ simples un sinus un peu plus compliqué $\\sin(t-\\bullet)$ (attention la variable d'intégration est bien $\\tau$ !). C'est une question de goût, mais il est bon de prendre le reflexe ambidextre pour gagner en agilité de calcul.\n",
    "  - **Vérifiez en 0 facilement** en faisant coincider  $[-a, a]$ avec une période du sinus, on doit avoir $0$. D'ailleurs on doit avoir $0$ pour tout les décalages $t$ dans ce cas là. Votre résultat corobore-t-il cela ?\n",
    "  - les dimentions sont encore une fois cachées donc on ne peut vérifier. En revanche si $a=0$ on convolue avec la fonction nulle et on doit avoir une convolution nulle (entrée nulle d'un système linéaire donc sortie nulle).\n",
    "  - **facile de voir** dans ce cas là car la fonction porte est paire, donc elle est sa propre antipodale. Il suffit donc de retarder la porte d'un temps $t$ et de projeter sur un sinus. On a $0$ pour toute largeur multiple de la période du sinus, etc. Votre résultat fonctionne-t-il ?\n",
    "\n",
    "d) idem que b) et c). Intégrer sur $-a$ à $+a$, bien voir que l'exponentielle n'est pas causale ! donc pour un décalge en $t\\to-\\infty$, on doit avoir une surface infinie ! et tendre vers 0 en $+\\infty$\n",
    "\n",
    "e) bien voir que l'on a une fonction porte $\\Pi_2$ de largeur 2 centrée, à convoluer avec des Diracs retardés : $(\\delta_1+\\delta_2)\\star\\Pi_2$.\n",
    "  - mieux vaut retourner la porte qui est paire qu'un dirac donc $(\\delta_1+\\delta_2)\\star\\Pi_2$ est bien plus facile que $\\Pi_2\\star(\\delta_1+\\delta_2)$\n",
    "  - se rapeller qu'intégrer un dirac c'est faire une mesure avec la propriété fondamentale qui défini le Dirac : $\\int\\delta_a(x).f(x).dx \\overset{\\text mesure en a}{=} f(a)$. Attention si $a$ n'est pas dans l'intervale d'intégration alors on intègre $0$ et obtient $0$. \n",
    "  - la surface d'un Dirac de poids $1$ est par définition $1$. On peut vérifier en décalant la porte d'un temps $t$, si les Diracs \"passente dans la porte\" ou non et donc ajoute $1$ ou non à la valeur de la convolution.\n",
    "\n"
   ]
  },
  {
   "cell_type": "markdown",
   "metadata": {},
   "source": [
    "## Exercice 3\n",
    "\n",
    "En calcul direct est assez long mais pas compliqué. Pour cela il faut procéder avec méthode et user du dessin du graphe pour ne pas faire d'erreur.\n",
    "\n",
    "1) Utilisez donc les fonctions portes ou des échelons et leurs retards\n",
    "2) $x\\star h$ semble équivalent à $h\\star x$ en terme de complexité. Gardons donc $x\\star h$. On peut voir la convolution comme la correlation de $x$ avec l'antipodal de $h$, ce qui donne l'animation suivante:\n",
    "\n",
    "\n",
    "<iframe src=\"https://www.desmos.com/calculator/w45cw3ft1h?embed\" width=\"500\" height=\"500\" style=\"border: 1px solid #ccc\" frameborder=0></iframe>\n",
    "\n",
    "\n",
    "[Cliquez ici pour manipuler l'animation](https://www.desmos.com/calculator/w45cw3ft1h)\n",
    "\n",
    "\n",
    "  - représentez l'antipodal de $h$ : $h(-\\bullet)$ et prenez l'habitude de nommer $\\tau$ la variable (celle d'intégration). Son support est alors $[-2 -1]$.\n",
    "  - retardez de $t$ l'antipodal de $h$ : **Attention piège !** c'est $h(-(\\bullet-t))$ et donc $h(t-\\tau)$ **mais** si l'on note les abscisses des fronts du signal, on doit résoudre  $t-\\tau = 1$ et $t-\\tau=2$. Ce qui donne un intervalle $[t-2,  \\; t-1]$ : quand on retarde une fonction $f$ de $t$, on ajoute $t$ aux intervalles de la fonction mais elle se note bien $x\\mapsto f(x-t)$\n",
    "  - identifiez le support de la correlation : les valeurs en dehors desquelles la correlation est forcément nulle. Pour cela on dessine les deux cas où les supports de $x$ ($[0,\\;1]$) et celui de $h(t-\\bullet)$ ($[t-2,  \\; t-1]$) sont disjoints :\n",
    "    -  $\\overset{}{[t-2,  \\; t-1]} < [0,\\;1] \\implies t -1 < 0 \\implies t < 1 \\implies \\conv{x}{h}(t)=0$ \n",
    "    -  $ [0,\\;1]  < \\overset{}{[t-2,  \\; t-1]} \\implies 1 < t-2 \\implies 3 < t\\implies \\conv{x}{h}(t)=0$\n",
    "    - ensuite dessinez le cas où $x$ recouvre  $h(t-\\bullet)$ par la gauche (petit $t$ ou avance de $t$) et trouvez la condition sur $1<t<?$. Dans ce cas, **pour t fixé** dans cet intervalle, cherchez les conditions sur $\\tau$ pour que le produit à intégrer (l'intégrande) n'est pas nul. On trouve alors $\\conv{x}{h}(t)=\\int_1^{?} \\underbrace{2}_{x(\\bullet)}. \\underbrace{1}_{h(t-\\bullet)} d\\tau$\n",
    "     - le cas où $x$ recouvre  $h(t-\\bullet)$ par la droite (grand $t$ ou retard de $t$) et trouvez la condition sur $?<t<3$. **En fixant t** dans cet intervalle, on trouve alors $\\conv{x}{h}(t)=\\int_?^{3} \\underbrace{2}_{x(\\bullet)}. \\underbrace{1}_{h(t-\\bullet)} d\\tau$\n",
    "   - on obtient ainsi une définition par morceaux de la convolution :\n",
    "   $$\\conv{x}{h}(t) =\\begin{cases} \\ldots & \\text{ quand } 1<t<? \\\\ \\ldots & \\text{ quand } ?<t<3 \\\\ 0 & \\text{ sinon }\\end{cases}$$\n",
    "\n",
    "   "
   ]
  },
  {
   "cell_type": "code",
   "execution_count": null,
   "metadata": {},
   "outputs": [],
   "source": []
  }
 ],
 "metadata": {
  "kernelspec": {
   "display_name": "Octave",
   "language": "octave",
   "name": "octave"
  },
  "language_info": {
   "file_extension": ".m",
   "help_links": [
    {
     "text": "GNU Octave",
     "url": "https://www.gnu.org/software/octave/support.html"
    },
    {
     "text": "Octave Kernel",
     "url": "https://github.com/Calysto/octave_kernel"
    },
    {
     "text": "MetaKernel Magics",
     "url": "https://metakernel.readthedocs.io/en/latest/source/README.html"
    }
   ],
   "mimetype": "text/x-octave",
   "name": "octave",
   "version": "4.2.2"
  }
 },
 "nbformat": 4,
 "nbformat_minor": 4
}
