{
 "cells": [
  {
   "cell_type": "markdown",
   "metadata": {},
   "source": [
    "# Opérateurs linéaires et Transformée de Laplace\n",
    "\n",
    "| Revenir à la [page déroulement](deroulement.ipynb) |\n",
    "|-------------|\n",
    "\n",
    "## À faire \n",
    "\n",
    "* Retourner sur l'ex. 2.2 et utiliser au maximum le phaseur complexe.\n",
    "    - a) le phaseur est donné, trouver amplitude et phase pour obtenir le tracé\n",
    "    - b) le phaseur (partie indépendante de $t$) vaut 1, mais nous avons une enveloppe du signal $e^{-2t}$. De plus l'échelon $u(t-2)$ annule le signal dès que $t-2<0$ par définition du signal échelon d'Heaviside.\n",
    "    - c) factoriser l'enveloppe $e^{-t}$ et obtenir la somme de deux complexes conjugués : c'est un signal qui est déjà réel ! Tracer les deux exponentielles imaginaires dans le plan complexe et retrouver ainsi la formule d'Euler (attention au demi).\n",
    "\n",
    " * Aller sur l'exercice 1\n",
    "\n",
    "## En séance\n",
    "* Ex. 2.1b) : corrigé de la décomposition du signal. On insiste sur les opérateurs de base (intégrale, gain et retard) et la linéarité. On insite sur la rigueur de manière à comprendre que $T_1\\circ f = t\\mapsto f(t) - 1$ et $f\\circ T_1 (t) = f(t-1)$ sont des écritures correctes.\n",
    "* Sur le signal b) on calcule la transformée de Laplace en utilisant \n",
    "    - la propriété de linéarité $L[a.f+g]=a.L[f]+L[g]$\n",
    "    - en admettant que $L[\\delta_0] = 1$ et que la dérivée donne $L[\\dot{f}] \\quad = \\quad p \\mapsto p.L[f]$ (donc **dériver c'est multiplier par** $p$) on construit par intégration (donc **intégrer c'est multiplier par** $\\frac{1}{p}$) de $\\delta_0$ les signaux de base $t\\mapsto u(t)$, $r : t \\mapsto t.u(t)$\n",
    "    - on admet en un premier temps le théorème du retard $L[f\\circ T_\\tau]=L[t\\mapsto f(t-\\tau)]\\quad = \\quad p\\mapsto e^{-\\tau p}.L[f](p)$. (donc **retarder d'un temps $\\tau$ c'est multiplier par** $e^{-\\tau p}$) \n",
    "\n",
    "* Ex 1. : \n",
    "    - explication de la **causalité (le système répond après son excitation)** à partir de la réponse impulsionnelle $h$ (réponse à une impulsion unité de Dirac) qui doit être nulle avant le Dirac, c-à-d, avant 0. Toute combinaison d'opérateur de base donnera un système causal sauf s'il y a une avance : un retard d'un temps négatif donc un argument de x ou y en $t+\\ldots$.\n",
    "    -  La linéarité est comme pour les espaces vectoriels (pas de carré de x ou y, pas de produit entre x et y). Un système sous forme d'équa. diff. linéaire est linéaire entre sa sortie $y$ et son entrée $x$ car $\\Sigma[a.f+g]=a.\\Sigma[f]+\\Sigma[g]$\n",
    "    - invariance : **la réponse ne dépend pas de l'instant où l'on applique l'entrée**. Donc une équa. diff. à coefficients constants est toujours invariante. Cela implique que l'**on peut permuter le système avec un opérateur de retard** ou avance : $y = \\Sigma\\circ T_\\tau[x]  = T_\\tau \\circ \\Sigma[x] = \\Sigma[T_\\tau[x]] = T_\\tau[\\Sigma[x]]$\n"
   ]
  },
  {
   "cell_type": "code",
   "execution_count": null,
   "metadata": {},
   "outputs": [],
   "source": []
  }
 ],
 "metadata": {
  "kernelspec": {
   "display_name": "Python 3",
   "language": "python",
   "name": "python3"
  },
  "language_info": {
   "codemirror_mode": {
    "name": "ipython",
    "version": 3
   },
   "file_extension": ".py",
   "mimetype": "text/x-python",
   "name": "python",
   "nbconvert_exporter": "python",
   "pygments_lexer": "ipython3",
   "version": "3.9.2"
  },
  "latex_envs": {
   "LaTeX_envs_menu_present": true,
   "autoclose": false,
   "autocomplete": true,
   "bibliofile": "biblio.bib",
   "cite_by": "apalike",
   "current_citInitial": 1,
   "eqLabelWithNumbers": true,
   "eqNumInitial": 1,
   "hotkeys": {
    "equation": "Ctrl-E",
    "itemize": "Ctrl-I"
   },
   "labels_anchors": false,
   "latex_user_defs": false,
   "report_style_numbering": false,
   "user_envs_cfg": false
  }
 },
 "nbformat": 4,
 "nbformat_minor": 2
}
