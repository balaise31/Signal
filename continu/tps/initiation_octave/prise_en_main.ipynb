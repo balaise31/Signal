{
 "cells": [
  {
   "cell_type": "markdown",
   "metadata": {},
   "source": [
    "\\titre{ Prise en main d'octave}\n",
    " \n",
    "Les instructions qui suivent sont adaptées à une installation sous linux Ubuntu classique. Si vous êtes dans une salle de TP, démarrez donc sous linuc. Sur votre PC perso il est conseillé d'avoir linux Ubuntu installé (utilisez une machine virtuelle Virtualbox le cas échéant pour les Mac et Windows) à moins de savoir adapter les intructions à son système.\n",
    "\n",
    "Nous commençons ici dans un notebook par essayer quelques commandes pour découvrir le langage. Les cellules de codes comme celles ci-dessous peuvent être donnée à un interpréteur (appelé Kernel dans les notebook) et le résultat de l'interprétation est affiché en dessous. Il y a donc un programme qui est en trains de s'exécuter, ici l'interpréteur octave,  et qui attend qu'on lui donne des lignes de codes à exécuter. Le kernel de ce notebook ne fait que donner ce code à l'interpréteur lorsque l'on appuie sur les touches Shift + Enter dans la cellule de code. Le kernel Jupyter récupère ensuite le résultat et le mets en forme pour afficher dans le notebook.\n",
    "\n",
    "Si vous double-cliquez sur cette cellule, vous pouvez éditer le texte et corrigé la faute d'orthographe qui s'est glissé dans cette phrase (un plus, si vous corrigé la faute de grammaire aussi) ! Vous pouvez aussi corriger la faute de math de cette équation $i=\\sqrt{1}$. Le langage utilisé pour les équations est celui de LaTex.\n",
    "\n",
    "Si vous cliquez sur la cellule ci-dessous (qui est une cellule de code), vous pouvez éditer le code et aller à la ligne pour faire plusiquers lignes. Un appui sur Shift+Enter et le Kernel va envoyer ces lignes de code à l'interpréteur et afficher sa réponse.\n",
    "\n",
    "Pour réviser vos nombres complexes calculez la valeur suivante $\\frac{\\sqrt{-1}+2}{\\cosh(\\ln{1})}$. Pour rappel les fonctions hyperboliques et trigonométriques sont reliées en manipulant la formule d'Euler par :\n",
    "\\begin{equation}\n",
    "    \\begin{array}{llll}\n",
    "cos(x) = \\frac{e^{ix} +e^{-ix}}{2} & \\mbox{et } \\qquad \\cosh(x) = \\frac{e^x + e^{-x}}{2} &\\implies \\cos(x)=\\cosh(ix) &\\iff \\cosh(x)=\\cos\\p{\\frac{x}{i}}\\\\\n",
    "\\sin(x) = \\frac{e^{ix} - e^{-ix}}{2i} & \\mbox{et } \\qquad \\sinh(x) = \\frac{e^x - e^{-x}}{2} &\\implies \\sin(x)=\\frac{\\sinh(ix)}{i} &\\iff \\sinh(x)=i\\,\\sin\\p{\\frac{x}{i}}\n",
    "     \\end{array}\n",
    "\\end{equation}\n",
    "Inutile de saturer sa mémoire avec des formules qui ne seront peut-être pas utiles à l'avenir.  Vous pouvez mémoriser uniquement cette technique ou démonstration pour retrouver les résultats quand nécessaire. Si une formule est utile elle sera mémorisée directement à force de faire ce passage.\n"
   ]
  },
  {
   "cell_type": "code",
   "execution_count": 1,
   "metadata": {},
   "outputs": [
    {
     "name": "stdout",
     "output_type": "stream",
     "text": [
      "ans =  1.1447\n",
      "ans =  2 + 1i\n"
     ]
    }
   ],
   "source": [
    "log(pi)\n",
    "(sqrt(-1)+2 )/cosh(log(1))\n",
    "log(pi); % non affiché car ; à la fin"
   ]
  },
  {
   "cell_type": "markdown",
   "metadata": {},
   "source": [
    "et oui l'interpréteur connait les nombres complexes, des constantes et des fonctions mathématiques de base ! \n",
    "\n",
    "Vous remarquerez que la fonction  `log` est le logarithme Népérien usuellement noté $\\ln$, pour l'avoir en base 10 on peut toujours diviser par $\\ln(10)$ ou utilser la fonction `log10` usuellement notée $\\log$.\n",
    "\n",
    "Pour trouver ces fonctions le plus simple est d'utiliser l'auto-completion : tapez le début d'une fonction et appuyez sur la touche Tab, le kernel vous liste les possibilités. Si vous voulez des infos sur une fonction _toto_ tapez `help toto`.\n",
    "\n",
    "Par exemple la fonction _sinus cardinal_ (très importante en traitement du signal) est tantôt définie comme $\\frac{\\sin{x}}{x}$ tantôt $\\frac{\\sin{\\pi x}}{\\pi x}$ etc.\n",
    "Utilisez d'abord vos compétences en math pour réviser et déterminer ce que peut bien valoir cette fonction en 0.\n",
    "\n",
    "Vérifiez ensuite avec octave : entrainez-vous et utilisez l'autocompletion (touche tab) pour lister les noms de fonctions débutant par \"si\", puis\n",
    "utilisez la commande `help` pour savoir quelle définition est utilisée pour le sinus cardinal. "
   ]
  },
  {
   "cell_type": "code",
   "execution_count": 2,
   "metadata": {
    "scrolled": true
   },
   "outputs": [
    {
     "name": "stdout",
     "output_type": "stream",
     "text": [
      "error: help: 'si' not found\r\n"
     ]
    }
   ],
   "source": [
    "help si"
   ]
  },
  {
   "cell_type": "markdown",
   "metadata": {},
   "source": [
    "# Variables et représentation des signaux\n",
    "\n",
    "Contrairement aux langages compilés il est inutile de déclarer le type des variables utilisées. L'interpréteur va s'adpater en fonction de l'utilisation et est capable de promouvoir un entier en réel ou en vecteur de flottant, matrice de flottant, hypermatrice etc. L'expression donnée est stockée systèmatiquement dans la variables ans, ou dans une variable d'un non donné. Le résultat est affiché à moins de terminer la ligne par un ;\n",
    "\n",
    "## Scalaires, vecteurs, matrices, hypermatrices\n",
    "Nous déclarons ici une variable qui va changer de type au fur et à mesure de l'exécution"
   ]
  },
  {
   "cell_type": "code",
   "execution_count": 3,
   "metadata": {},
   "outputs": [
    {
     "name": "stdout",
     "output_type": "stream",
     "text": [
      "ans =  0 + 1i\n",
      "a =  2\n",
      "b =  3\n",
      "b =  1.5000\n",
      "b =\n",
      "\n",
      "   1.50000   0.00000   0.00000   0.10000\n",
      "\n",
      "b =\n",
      "\n",
      "   1.50000   0.00000   0.00000   0.10000\n",
      "   0.00000   0.00000   3.14159   0.00000\n",
      "\n",
      "b =\n",
      "\n",
      "ans(:,:,1) =\n",
      "\n",
      "   1.50000   0.00000   0.00000   0.10000\n",
      "   0.00000   0.00000   3.14159   0.00000\n",
      "\n",
      "ans(:,:,2) =\n",
      "\n",
      "   3 + 1i   0 + 0i   0 + 0i   0 + 0i\n",
      "   0 + 0i   0 + 0i   0 + 0i   0 + 0i\n",
      "\n"
     ]
    }
   ],
   "source": [
    "% les trois lignes suivantes permettent de réinitialiser l'interpréteur (à ne faire qu'une fois en général)\n",
    "clear all\n",
    "close all\n",
    "clc\n",
    "% essayons des calculs\n",
    "sqrt(-1) % résultat stocké dans la variable par défaut \"ans\"\n",
    "sqrt(4); % n'affiche rien à cause du ;\n",
    "a = ans  % et oui la dernière réponse est 2 même si elle n'est pas affichée\n",
    "b = a + 1\n",
    "b = b/2   % promotion de b d'un vulgaire entier à un beau flotant (nombre réel)\n",
    "b(4) = 0.1 % promotion de b en tableau 1D de 4 entiers puisqu'on demande à écrire dans la 4 ème case\n",
    "b(2,3) = pi % promotion en matrice de réels\n",
    "b(1,1,2) =  3 + i % promotion en hyper matrice 3D de complexes !"
   ]
  },
  {
   "cell_type": "markdown",
   "metadata": {},
   "source": [
    "Cela est très pratique en phase de prototypage, car l'on décide de la taille et du type d'une variable en l'utilisant. Ce genre de code est très peu sûr et il est souvent nécessaire de passer ensuite à un langage typé et compilé (tel que Ada, C, Java, etc.) pour produire un logiciel \"fini\", débogué et même testé.\n",
    "\n",
    "\n",
    "Le langage est particulièrement adapté à la manipulation de matrices. Les opérateurs classiques `+ - *` sont les opérateurs matriciels utilisés en mathématique classique. On peut par exemple calculer l'image d'un vecteur colonne par une application linéaire définie par sa matrice.\n",
    "$$\n",
    "A = \\Mtd{0}{-1}{0}{1}{1}{1}\n",
    "$$\n",
    "Pour réviser, calculez à la main l'image du vecteur $V_1=\\Vdeux{2}{-1}$ par l'application linéaire de matrice $A$ dans les bases canoniques. "
   ]
  },
  {
   "cell_type": "code",
   "execution_count": 4,
   "metadata": {},
   "outputs": [
    {
     "name": "stdout",
     "output_type": "stream",
     "text": [
      "A =\n",
      "\n",
      "   0  -1\n",
      "   0   1\n",
      "   1   1\n",
      "\n",
      "P1 =\n",
      "\n",
      "   1\n",
      "   2\n",
      "\n",
      "I1 =\n",
      "\n",
      "  -2\n",
      "   2\n",
      "   3\n",
      "\n",
      "error: operator *: nonconformant arguments (op1 is 2x1, op2 is 3x2)\n"
     ]
    }
   ],
   "source": [
    "A = [0, -1 ; 0, 1 ; 1, 1] %matrice d'une application linéaire de R^2 dans R^3\n",
    "P1 = [1 ;2] % point de R^2 vecteur colonne\n",
    "I1=A*P1 \n",
    "Ifaux=P1*A"
   ]
  },
  {
   "cell_type": "markdown",
   "metadata": {},
   "source": [
    "Il y a donc toujours des opérations matricielles impossibles. On peut calculer une inverse de matrice (lorsqu'elle existe), transposer une matrice ou un vecteur avec l'opérateur postfixé `'`. Calculer un pivot de gauss (factorisation LU) ou diagonaliser"
   ]
  },
  {
   "cell_type": "code",
   "execution_count": 5,
   "metadata": {},
   "outputs": [
    {
     "name": "stdout",
     "output_type": "stream",
     "text": [
      "A=\n",
      "   0  -1\n",
      "   0   1\n",
      "   1   1\n",
      "A3 = A * A'  transpose(A) se note A'\n",
      "   1  -1  -1\n",
      "  -1   1   1\n",
      "  -1   1   2\n",
      "A3bis =\n",
      "\n",
      "   1   1\n",
      "   1   3\n",
      "\n",
      "Le produit A*A est mal définit car A vaut\n",
      "   0  -1\n",
      "   0   1\n",
      "   1   1\n",
      "Donc A*A donne\n",
      "error: operator *: nonconformant arguments (op1 is 3x2, op2 is 3x2)\n",
      "On peut demander le produit entre chaque terme avec A .* A \n",
      "ans =\n",
      "\n",
      "   0   1\n",
      "   0   1\n",
      "   1   1\n",
      "\n",
      "Acarre =\n",
      "\n",
      "   3  -3  -4\n",
      "  -3   3   4\n",
      "  -4   4   6\n",
      "\n",
      "Acarrebis =\n",
      "\n",
      "   1   1   1\n",
      "   1   1   1\n",
      "   1   1   4\n",
      "\n",
      "V =\n",
      "\n",
      "  -0.92388   0.38268\n",
      "   0.38268   0.92388\n",
      "\n",
      "D =\n",
      "\n",
      "Diagonal Matrix\n",
      "\n",
      "   0.58579         0\n",
      "         0   3.41421\n",
      "\n",
      "ans =\n",
      "\n",
      "  -0.92388\n",
      "   0.38268\n",
      "\n",
      "ans =\n",
      "\n",
      "  0\n",
      "  0\n",
      "\n",
      "ne jamais comparer des float avec == !\n",
      "ans =\n",
      "\n",
      "  1\n",
      "  1\n",
      "\n"
     ]
    }
   ],
   "source": [
    "disp (\"A=\"); disp(A) % disp pour display, permet d'afficher du texte ou des valeurs mises en forme\n",
    "disp(\"A3 = A * A'  transpose(A) se note A'\"); disp(A3=A*A')\n",
    "A3bis = A' * A\n",
    "\n",
    "disp(\"Le produit A*A est mal définit car A vaut\"); disp(A)\n",
    "disp(\"Donc A*A donne\")\n",
    "A * A\n",
    "\n",
    "\n",
    "disp(\"On peut demander le produit entre chaque terme avec A .* A \")\n",
    "A .*A\n",
    "\n",
    "Acarre = A3*A3\n",
    "Acarrebis=A3 .* A3\n",
    "\n",
    "[V,D]  = eig(A3bis) % la fonction eig renvoie la matrice des vecteurs propres V et la matrice diagonale\n",
    "V(:,1) % extrait toutes les lignes \":\" de la colonne \"1\" donc le premier vecteur propre associé à la première v.p.\n",
    "A3bis * V(:,1) == D(1,1)*V(:,1) % on pose la question est-ce-que A*V = lambda. V et la réponse est 0 pour faux !\n",
    "\n",
    "disp ('ne jamais comparer des float avec == !')\n",
    "(A3bis * V(:,1) - D(1,1)*V(:,1))<1e-6 % pour les floats on peut dire < 10^-6 est presque zero, là la réponse est \"1\" pour vrai "
   ]
  },
  {
   "cell_type": "markdown",
   "metadata": {},
   "source": [
    "\n",
    "On peut ainsi agir comme si potentiellement _toute variable peut être une hypermatrice de complexes_, il existe cependant d'autres types équivalents aux records et aux listes permettant de stocker ensemble des variables de types différents.\n",
    "\n",
    "\n",
    "\n",
    "L'équivalent du record ADA (ou struct en C) se produit en utilisant la notation `variable.champ` directement dans le code : "
   ]
  }
 ],
 "metadata": {
  "author": " Prise en main d&#39;octave",
  "kernelspec": {
   "display_name": "Octave",
   "language": "octave",
   "name": "octave"
  },
  "language_info": {
   "file_extension": ".m",
   "help_links": [
    {
     "text": "GNU Octave",
     "url": "https://www.gnu.org/software/octave/support.html"
    },
    {
     "text": "Octave Kernel",
     "url": "https://github.com/Calysto/octave_kernel"
    },
    {
     "text": "MetaKernel Magics",
     "url": "https://metakernel.readthedocs.io/en/latest/source/README.html"
    }
   ],
   "mimetype": "text/x-octave",
   "name": "octave",
   "version": "4.2.2"
  },
  "latex_envs": {
   "LaTeX_envs_menu_present": true,
   "autoclose": false,
   "autocomplete": true,
   "bibliofile": "biblio.bib",
   "cite_by": "apalike",
   "current_citInitial": 1,
   "eqLabelWithNumbers": true,
   "eqNumInitial": 1,
   "hotkeys": {
    "equation": "Ctrl-E",
    "itemize": "Ctrl-I"
   },
   "labels_anchors": false,
   "latex_user_defs": true,
   "report_style_numbering": false,
   "user_envs_cfg": true
  },
  "toc": {
   "base_numbering": 1,
   "nav_menu": {},
   "number_sections": true,
   "sideBar": true,
   "skip_h1_title": false,
   "title_cell": "Table of Contents",
   "title_sidebar": "Contents",
   "toc_cell": false,
   "toc_position": {},
   "toc_section_display": true,
   "toc_window_display": false
  },
  "widgets": {
   "application/vnd.jupyter.widget-state+json": {
    "state": {},
    "version_major": 1,
    "version_minor": 0
   }
  }
 },
 "nbformat": 4,
 "nbformat_minor": 2
}
