{
 "cells": [
  {
   "cell_type": "markdown",
   "id": "e954df5d-9afe-475d-861e-cb9760ae9a53",
   "metadata": {},
   "source": [
    "# CONV 1\n",
    "L'algèbre des convolutions est celle des systèmes.\n",
    "---"
   ]
  },
  {
   "cell_type": "markdown",
   "id": "24478563-4fa3-4022-9cb5-088b5799d9f6",
   "metadata": {},
   "source": [
    "# A\n",
    "Convolution = sortie d'un système LTI\n",
    "---\n",
    "\n",
    "La convolution entre deux signaux $f$ et $g$ est une fonction notée $\\def\\conv#1#2{#1\\!\\!\\star\\!\\!#2\\,}\\conv{f}{g}$ qui correspond à la sortie obtenue en envoyant un signal d'entré $f$ sur un système $G$ de réponse impulsionnelle $g$. **Le système doit être linéaire et invariant !** Ce qui est le cas le plus souvent.\n",
    "\n",
    "$f \\quad \\overset{G}{\\rightarrow} \\quad y=\\conv{f}{g} \\quad $ où le système $G$ est tels que $\\delta_0 \\overset{G}{\\rightarrow} g$. \n",
    "\n",
    "\n",
    "Si nous prenons la transformée de Fourier (ou de Laplace) de la définition du système $G$ de réponse impulsionnelle $g$ :\n",
    "\n",
    "temporel | $\\quad \\delta_0 \\quad \\overset{G}{\\rightarrow} \\quad g$ \n",
    "---|---\n",
    "Laplace  | $\\quad p\\mapsto 1 \\quad \\overset{G}{\\rightarrow} \\quad G(p)$\n",
    "Fourier  | $\\quad f\\mapsto 1 \\quad \\overset{G}{\\rightarrow} \\quad \\hat{G}(f)$\n",
    "\n",
    "> La fonction de transfert $G(p)$ d'un système $G$ est donc la transformée de sa réponse impulsionnelle $g$\n",
    "\n",
    "Le filtrage du signal f par le système $G$ est la convolution entre $f$ et $g$:\n",
    "\n",
    "temporel | $\\quad f \\quad \\overset{G}{\\rightarrow} \\quad y = f \\star g$ \n",
    "---|---\n",
    "Laplace  | $\\quad F(p) \\quad \\overset{G}{\\rightarrow} \\quad Y(p) = F(p).G(p)$\n",
    "Fourier  | $\\quad \\hat{F}(f) \\overset{G}{\\rightarrow} \\quad \\hat{Y}(f) = \\hat{F}(f).\\hat{G}(f)$ \n",
    "\n",
    "> La transformée de la convolution est donc le produit des transformées ce qui correspond à un filtrage des fréquences\n",
    "\n",
    "Comme un système est invariant, alors sa réponse à un Dirac retardé à l'instant $a$ est la réponse impulsionnelle retardée à l'instant $a$ :\n",
    "\n",
    "$\\delta_a \\star f = f \\star \\delta_a = f(\\bullet-a)$\n",
    "\n",
    "> La convolution d'un signal avec un Dirac décale l'origine du signal sur le Dirac\n",
    "\n",
    "Comme le produit des transformées commute : $F(p).G(p)=G(p).F(p)$ alors la convolution aussi \n",
    "\n",
    "$f\\star g = g \\star f$  \n",
    "\n",
    "Cela veut dire qu'un signal $f$ filtré par $G$ donne le même signal que $g$ filtré par $F$, car une impulsion $\\delta_0$ filtré par $F$ puis $G$ est identique à celle filtré par $G$ puis $F$:\n",
    "\n",
    "$\\delta_0 \\quad \\overset{F}{\\rightarrow}\\quad \\delta_0\\star f = f \\quad \\overset{G}{\\rightarrow} \\quad y=f\\star g \\quad $\n",
    "\n",
    "$\\delta_0 \\quad \\overset{G}{\\rightarrow}\\quad \\delta_0\\star g = g \\quad \\overset{F}{\\rightarrow} \\quad y=g\\star f \\quad $\n"
   ]
  },
  {
   "cell_type": "markdown",
   "id": "15620270-2be4-4675-b95a-9c6012a43d70",
   "metadata": {
    "tags": []
   },
   "source": [
    "# B\n",
    "Convolution = somme de réponses\n",
    "---\n",
    "\n",
    "La réponse $y$ d'un système de RIp (Réponse ImPulsionnelle) $h$ à une entrée $x$ est donc $y=x\\star h$. \n",
    "\n",
    "On peut décomposer l'entrée $x$ dans le temps comme une somme d'impulsions localisées autour du temps $\\tau=k.dt\\in\\mathbb{R}$\n",
    "\n",
    "$\\overbrace{x(k.dt)}^{x(t)} = \\sum\\limits_{j\\in\\mathbb{Z}} \\overbrace{x(j.dt)}^{x(\\tau)} . \\overbrace{\\Pi_{dt}(k.dt-j.dt)}^{\\delta_0(t-\\tau)} \\quad \\overset{dt\\to 0}{\\approx} \\quad x(t) \\quad = \\int x(\\tau) . \\delta_0(t-\\tau) .  d\\tau$\n",
    "\n",
    "Voilà ce que cette décomposition en somme d'impulsion donne en discret :   \n",
    "\n",
    "<img  src=\"../../discret/poly/dessins/reponse_convolution.png\">\n",
    "\n",
    "Le même type de schéma en continu est dans le [poly section 2.6.1 figure 2.7](https://moodle.insa-toulouse.fr/mod/resource/view.php?id=24741#figure.2.7)\n",
    "\n",
    "**Par linéarité du système $H$,** la réponse du système à la somme d'impulsions d'amplitude $x(\\tau)$ est la somme des réponses aux impulsions unités fois $x(\\tau)$ :\n",
    "\n",
    "$$\n",
    "\\begin{array}{ccc}\n",
    "  x(t) & = \\int x(\\tau) \\;.\\; & \\delta_0(t-\\tau) \\;.\\; d\\tau \\\\\n",
    "  \\downarrow H &          &\\downarrow H\\\\\n",
    "  H[x](t) = \\conv{x}{h}(t)  &= \\int x(\\tau) \\;.\\;& H[\\tau\\mapsto \\delta_0(t-\\tau)] \\;.\\; d\\tau\n",
    "\\end{array}\n",
    "$$\n",
    "\n",
    "**Par invariance du système $H$,** la réponse à une impulsion retardée $\\delta_0(\\bullet-\\tau)$ est la réponse impulsionnelle retardée $h(\\bullet-\\tau)$. Et la somme des réponses devient :\n",
    "\n",
    "$$\n",
    "\\begin{array}{ccc}\n",
    "  x(t) & = \\int x(\\tau) \\;.\\; & \\delta_0(t-\\tau) \\;.\\; d\\tau \\\\\n",
    "  \\downarrow H &          &\\downarrow H\\\\\n",
    "  \\conv{x}{h}(t)  &= \\int x(\\tau) \\;.\\;& h(t-\\tau) \\;.\\; d\\tau\n",
    "\\end{array}\n",
    "$$\n",
    "\n",
    "\n",
    "\n"
   ]
  },
  {
   "cell_type": "markdown",
   "id": "8c4b44fe-58ec-4dbd-adc1-91ea177272b1",
   "metadata": {},
   "source": [
    "Le notebook octave [CONVolution discrète](../../discret/cours/notebooks/CONV.ipynb) illustre cette somme dans le cas d'un signal discret simple."
   ]
  }
 ],
 "metadata": {
  "kernelspec": {
   "display_name": "Octave",
   "language": "octave",
   "name": "octave"
  },
  "language_info": {
   "file_extension": ".m",
   "help_links": [
    {
     "text": "GNU Octave",
     "url": "https://www.gnu.org/software/octave/support.html"
    },
    {
     "text": "Octave Kernel",
     "url": "https://github.com/Calysto/octave_kernel"
    },
    {
     "text": "MetaKernel Magics",
     "url": "https://metakernel.readthedocs.io/en/latest/source/README.html"
    }
   ],
   "mimetype": "text/x-octave",
   "name": "octave",
   "version": "4.2.2"
  }
 },
 "nbformat": 4,
 "nbformat_minor": 5
}
