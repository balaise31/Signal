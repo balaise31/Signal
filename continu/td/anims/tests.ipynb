{
 "cells": [
  {
   "cell_type": "markdown",
   "id": "f179c213-3552-4d18-8e65-d946e2a0922f",
   "metadata": {},
   "source": [
    "# Le concept de phaseur\n",
    "\n",
    "## Onde imaginaire et partie réelle\n",
    "\n",
    "On peut représenter l'onde complexe $t\\mapsto e^{i.\\omega.t}$ (notée en bref $t\\mapsto e^{i.\\omega.t}$$e^{i.\\omega.\\bullet}$) dans le plan complexe (vision phaseur/Fresnel) ou la projeter sur les réels pour obtenir un cosinus.\n"
   ]
  },
  {
   "cell_type": "code",
   "execution_count": 27,
   "id": "a4dc5d2a-7619-4ffd-b542-89e0bf29dffd",
   "metadata": {
    "jupyter": {
     "source_hidden": true
    },
    "tags": []
   },
   "outputs": [],
   "source": [
    "from ipywidgets import interact, interactive, fixed, interact_manual\n",
    "import ipywidgets as widgets\n",
    "import numpy as np\n",
    "import matplotlib.pyplot as plt\n",
    "plt.rcParams[\"figure.figsize\"]=22,10\n",
    "\n",
    "from numpy import pi, real, imag, cos, sin, exp, arange"
   ]
  },
  {
   "cell_type": "code",
   "execution_count": 66,
   "id": "2ed5fa1e-2db7-46d6-a1ae-facda7f12231",
   "metadata": {
    "jupyter": {
     "source_hidden": true
    },
    "tags": []
   },
   "outputs": [
    {
     "data": {
      "application/vnd.jupyter.widget-view+json": {
       "model_id": "1f1ab912a1354e119eccfe5ae228adfa",
       "version_major": 2,
       "version_minor": 0
      },
      "text/plain": [
       "interactive(children=(FloatSlider(value=0.0, description='tps', max=1.09), FloatSlider(value=6.283185307179586…"
      ]
     },
     "metadata": {},
     "output_type": "display_data"
    }
   ],
   "source": [
    "\n",
    "def plot_cplx(s, tps=0, t=None ):\n",
    "    if t is None:\n",
    "        Te=0.01\n",
    "        t=arange(-1.1,1.2,Te)\n",
    "    else:\n",
    "        Te=t[1]-t[0]\n",
    "\n",
    "    \n",
    "    fig = plt.figure(figsize=plt.figaspect(1.))\n",
    "    axcpl=fig.add_subplot(221)\n",
    "    axcpl.set_xlabel(f'Réel')\n",
    "    axcpl.set_ylabel(f'Imag')\n",
    "    axcpl.set_title(f'Plan Laplace')\n",
    "    axcpl.grid(\"on\")\n",
    "    \n",
    "    aximag=fig.add_subplot(222)\n",
    "    aximag.set_xlabel(f't')\n",
    "    aximag.set_ylabel(f'Imaginaire')\n",
    "    aximag.set_title(f'Projection sur imaginaire')\n",
    "    aximag.grid(\"on\")\n",
    "    \n",
    "    axreel=fig.add_subplot(223)\n",
    "    axreel.set_xlabel(f't')\n",
    "    axreel.set_ylabel(f'Réel')\n",
    "    axreel.set_title(f'Projection sur réels')\n",
    "    axreel.grid(\"on\")\n",
    "    \n",
    "    ax3d = fig.add_subplot(224,projection='3d')\n",
    "    ax3d.set_xlabel(f't')\n",
    "    ax3d.set_zlabel(f'Réel')\n",
    "    ax3d.set_ylabel(f'Imaginaire')\n",
    "    ax3d.set_title(f'Onde complexe 3d')\n",
    "    \n",
    "    sig=s(t)\n",
    "    axcpl.plot(real(sig),imag(sig))\n",
    "    axcpl.plot(real(s(tps)),imag(s(tps)),'o')\n",
    "    aximag.plot(t,imag(sig))\n",
    "    aximag.plot(tps,imag(s(tps)),'o')\n",
    "    axreel.plot(t,real(sig))\n",
    "    axreel.plot(tps,real(s(tps)),'o')\n",
    "    ax3d.plot(t,imag(sig),real(sig))\n",
    "    ax3d.plot(tps,imag(s(tps)),real(s(tps)),'o')\n",
    "    \n",
    "def plot_onde_pure(tps=0,w=2*pi):\n",
    "    onde = lambda t : exp(1j*w*t)\n",
    "    tlast = min(100,2.2*pi/w)\n",
    "    t=arange(0,tlast,tlast/1000)\n",
    "    plot_cplx(onde,t=t,tps=tps)\n",
    "    \n",
    "#plot_cplx(lambda t : onde(w,t),t=t)\n",
    "_ = interact(plot_onde_pure, tps=(t[0],t[-1],0.1), w=(0,4*pi,pi/8))"
   ]
  },
  {
   "cell_type": "markdown",
   "id": "1d866a90-57df-4f08-99af-db718a1ba8eb",
   "metadata": {},
   "source": [
    "Un phaseur $z$ est un nombre complexe qui va être multiplié à l'onde complexe $e^{i\\omega\\bullet}$\n",
    "\n",
    "En représentation polaire $z=\\rho.e^{i\\varphi}$, et dans ce cas :\n",
    "   - le module $\\rho$ aura un effet d'amplification de l'onde\n",
    "   - l'argument $\\varphi$ aura un effet de rotation d'un ampgle $\\varphi$ radians. L'onde multipliée aura ainsi un déphasage de $\\varphi$ par rapport à l'onde de base  $e^{i\\omega\\bullet}$"
   ]
  },
  {
   "cell_type": "code",
   "execution_count": 69,
   "id": "515fd7af-50f4-4a71-b2c8-038b4878b5bd",
   "metadata": {
    "jupyter": {
     "source_hidden": true
    },
    "tags": []
   },
   "outputs": [
    {
     "data": {
      "application/vnd.jupyter.widget-view+json": {
       "model_id": "df3683b11a0e4cd386a243497427f6ad",
       "version_major": 2,
       "version_minor": 0
      },
      "text/plain": [
       "interactive(children=(FloatSlider(value=0.0, description='tps', max=1.09), FloatSlider(value=6.283185307179586…"
      ]
     },
     "metadata": {},
     "output_type": "display_data"
    }
   ],
   "source": [
    "def plot_onde_phaseur(tps=0,w=2*pi,rho=1,phi=0):\n",
    "    onde = lambda t : exp(1j*w*t)\n",
    "    onde_phasee = lambda t: onde(t)*rho*exp(1j*phi)\n",
    "    \n",
    "    tlast = min(100,2.2*pi/w)\n",
    "    t=arange(0,tlast,tlast/1000)\n",
    "    plot_cplx(onde_phasee,t=t,tps=tps)\n",
    "    \n",
    "#plot_cplx(lambda t : onde(w,t),t=t)\n",
    "_ = interact(plot_onde_phaseur, tps=(t[0],t[-1],0.1), w=(0,4*pi,pi/8), rho = (0,2,0.1), phi = (-1.125*pi,1.125*pi,pi/8))"
   ]
  },
  {
   "cell_type": "markdown",
   "id": "8eea0af5-c567-4b80-b2db-7c1714b24847",
   "metadata": {},
   "source": [
    "Le phaseur appelé $\\vec{I}$ pour **In phase** (avec le cosinus) est celui qui permet d'obtenir un **cosinus en partie réelle**.\n",
    "\n",
    "Le phaseur appelé $\\vec{Q}$ pour **Quadrature** (avec le cosinus) est celui qui permet d'obtenir un **sinus en partie réelle**.\n"
   ]
  },
  {
   "cell_type": "code",
   "execution_count": 4,
   "id": "72748a7f-2148-40d9-9380-8e68a827392d",
   "metadata": {
    "tags": []
   },
   "outputs": [
    {
     "data": {
      "application/vnd.jupyter.widget-view+json": {
       "model_id": "d531dd2330404aa6912a3de88fb06cba",
       "version_major": 2,
       "version_minor": 0
      },
      "text/plain": [
       "interactive(children=(FloatSlider(value=1.0, description='I', max=3.0, min=-3.0), FloatSlider(value=1.0, descr…"
      ]
     },
     "metadata": {},
     "output_type": "display_data"
    }
   ],
   "source": [
    "def IQ(I=1,Q=1,w=2*np.pi):\n",
    "    fig,ax = plt.subplots(1,2)\n",
    "    ax1=ax[0]\n",
    "    ax2=ax[1]\n",
    "    t=np.arange(-1.1*np.pi/w,1.2*np.pi/w,0.01)\n",
    "    N0 = int(1.1*np.pi/w / 0.01)\n",
    "    s = I*np.cos(w*t)+Q*np.sin(w*t)\n",
    "    ax1.plot(t,I*np.cos(w*t),\n",
    "             t,Q*np.sin(w*t),\n",
    "             t,s)\n",
    "    ax1.set_ylim(-3.4,4.4)\n",
    "    minid = s.argmax()\n",
    "    ax1.legend([\"Inphase = I.cos(w.t)\",\n",
    "                \"Quadrature=Q.sin(w.t)\",\n",
    "                \"I.cos(w.t)+Q.sin(w.t)\"],\n",
    "              loc = \"lower left\")\n",
    "    ax1.plot(t[minid],s[minid],'+')\n",
    "    ax1.plot((0,t[minid]),(s[minid],s[minid]),'o-')\n",
    "    ax1.text(t[minid]+0.05,s[minid],\"A=\"+s[minid].__str__()[:4])\n",
    "    ax1.text(t[minid]/2,s[minid]+0.3,r\"$\\varphi$ =\"+(-t[minid]/2/np.pi*w*360).__str__()[:4])\n",
    "    ax1.grid(\"on\")\n",
    "    sc= np.exp(1j*w*t)\n",
    "    ax2.set_xlim(-3,3)\n",
    "    ax2.set_ylim(-3,3)\n",
    "    ax2.grid(\"on\")\n",
    "    ax2.plot([0,I],[0,0],[0,0],[0,-Q],[0,I],[0,-Q])\n",
    "    ax2.plot(I,-Q,'+')\n",
    "    Nd = min(N0,minid)\n",
    "    Nf = max(N0,minid)+1\n",
    "    ax2.plot(np.real(sc[Nd:Nf]),-np.imag(sc[Nd:Nf]),'-o')\n",
    "    ax2.text(I+0.05,-Q-0.05,\"A=\"+s[minid].__str__()[:4])\n",
    "    ax2.text(1.1*np.real(sc[int((Nd+Nf)/2)]),-1.1*np.imag(sc[int((Nd+Nf)/2)]),r\"$\\varphi$ =\"+(-t[minid]/2/np.pi*w*360).__str__()[:4])\n",
    "    ax2.plot(np.real(sc),np.imag(sc),'-.k')\n",
    "    ax2.quiver([0,0],[0,0],[0,1],[-1,0])\n",
    "    ax2.text(0.1,0.1,r\"$\\vec{I}$\")\n",
    "    ax2.text(-0.2,-0.1,r\"$\\vec{Q}$\")\n",
    "    \n",
    "_ = interact(IQ, I=(-3,3,0.1), Q=(-3,3,0.1), w=fixed(2*np.pi))"
   ]
  },
  {
   "cell_type": "code",
   "execution_count": 72,
   "id": "68f463ad-5e91-46a4-9d3f-0996226ef961",
   "metadata": {},
   "outputs": [
    {
     "data": {
      "text/plain": [
       "()"
      ]
     },
     "execution_count": 72,
     "metadata": {},
     "output_type": "execute_result"
    },
    {
     "data": {
      "image/png": "[encoded data removed]",
      "text/plain": [
       "<Figure size 432x288 with 1 Axes>"
      ]
     },
     "metadata": {
      "needs_background": "light"
     },
     "output_type": "display_data"
    }
   ],
   "source": []
  },
  {
   "cell_type": "code",
   "execution_count": 34,
   "id": "091da9c8-bb99-444b-b064-ad061dfca416",
   "metadata": {},
   "outputs": [
    {
     "data": {
      "image/png": "[encoded data removed]",
      "text/plain": [
       "<Figure size 1584x720 with 1 Axes>"
      ]
     },
     "metadata": {
      "needs_background": "light"
     },
     "output_type": "display_data"
    }
   ],
   "source": [
    "fig,ax = plt.subplots()"
   ]
  },
  {
   "cell_type": "code",
   "execution_count": 36,
   "id": "fd3223da-751e-4c1c-8a6a-e17df858c8e1",
   "metadata": {},
   "outputs": [
    {
     "data": {
      "text/plain": [
       "\u001b[0;31mSignature:\u001b[0m\n",
       "\u001b[0max\u001b[0m\u001b[0;34m.\u001b[0m\u001b[0mset\u001b[0m\u001b[0;34m(\u001b[0m\u001b[0;34m\u001b[0m\n",
       "\u001b[0;34m\u001b[0m    \u001b[0;34m*\u001b[0m\u001b[0;34m,\u001b[0m\u001b[0;34m\u001b[0m\n",
       "\u001b[0;34m\u001b[0m    \u001b[0madjustable\u001b[0m\u001b[0;34m=\u001b[0m\u001b[0;34m<\u001b[0m\u001b[0mUNSET\u001b[0m\u001b[0;34m>\u001b[0m\u001b[0;34m,\u001b[0m\u001b[0;34m\u001b[0m\n",
       "\u001b[0;34m\u001b[0m    \u001b[0magg_filter\u001b[0m\u001b[0;34m=\u001b[0m\u001b[0;34m<\u001b[0m\u001b[0mUNSET\u001b[0m\u001b[0;34m>\u001b[0m\u001b[0;34m,\u001b[0m\u001b[0;34m\u001b[0m\n",
       "\u001b[0;34m\u001b[0m    \u001b[0malpha\u001b[0m\u001b[0;34m=\u001b[0m\u001b[0;34m<\u001b[0m\u001b[0mUNSET\u001b[0m\u001b[0;34m>\u001b[0m\u001b[0;34m,\u001b[0m\u001b[0;34m\u001b[0m\n",
       "\u001b[0;34m\u001b[0m    \u001b[0manchor\u001b[0m\u001b[0;34m=\u001b[0m\u001b[0;34m<\u001b[0m\u001b[0mUNSET\u001b[0m\u001b[0;34m>\u001b[0m\u001b[0;34m,\u001b[0m\u001b[0;34m\u001b[0m\n",
       "\u001b[0;34m\u001b[0m    \u001b[0manimated\u001b[0m\u001b[0;34m=\u001b[0m\u001b[0;34m<\u001b[0m\u001b[0mUNSET\u001b[0m\u001b[0;34m>\u001b[0m\u001b[0;34m,\u001b[0m\u001b[0;34m\u001b[0m\n",
       "\u001b[0;34m\u001b[0m    \u001b[0maspect\u001b[0m\u001b[0;34m=\u001b[0m\u001b[0;34m<\u001b[0m\u001b[0mUNSET\u001b[0m\u001b[0;34m>\u001b[0m\u001b[0;34m,\u001b[0m\u001b[0;34m\u001b[0m\n",
       "\u001b[0;34m\u001b[0m    \u001b[0mautoscale_on\u001b[0m\u001b[0;34m=\u001b[0m\u001b[0;34m<\u001b[0m\u001b[0mUNSET\u001b[0m\u001b[0;34m>\u001b[0m\u001b[0;34m,\u001b[0m\u001b[0;34m\u001b[0m\n",
       "\u001b[0;34m\u001b[0m    \u001b[0mautoscalex_on\u001b[0m\u001b[0;34m=\u001b[0m\u001b[0;34m<\u001b[0m\u001b[0mUNSET\u001b[0m\u001b[0;34m>\u001b[0m\u001b[0;34m,\u001b[0m\u001b[0;34m\u001b[0m\n",
       "\u001b[0;34m\u001b[0m    \u001b[0mautoscaley_on\u001b[0m\u001b[0;34m=\u001b[0m\u001b[0;34m<\u001b[0m\u001b[0mUNSET\u001b[0m\u001b[0;34m>\u001b[0m\u001b[0;34m,\u001b[0m\u001b[0;34m\u001b[0m\n",
       "\u001b[0;34m\u001b[0m    \u001b[0maxes_locator\u001b[0m\u001b[0;34m=\u001b[0m\u001b[0;34m<\u001b[0m\u001b[0mUNSET\u001b[0m\u001b[0;34m>\u001b[0m\u001b[0;34m,\u001b[0m\u001b[0;34m\u001b[0m\n",
       "\u001b[0;34m\u001b[0m    \u001b[0maxisbelow\u001b[0m\u001b[0;34m=\u001b[0m\u001b[0;34m<\u001b[0m\u001b[0mUNSET\u001b[0m\u001b[0;34m>\u001b[0m\u001b[0;34m,\u001b[0m\u001b[0;34m\u001b[0m\n",
       "\u001b[0;34m\u001b[0m    \u001b[0mbox_aspect\u001b[0m\u001b[0;34m=\u001b[0m\u001b[0;34m<\u001b[0m\u001b[0mUNSET\u001b[0m\u001b[0;34m>\u001b[0m\u001b[0;34m,\u001b[0m\u001b[0;34m\u001b[0m\n",
       "\u001b[0;34m\u001b[0m    \u001b[0mclip_box\u001b[0m\u001b[0;34m=\u001b[0m\u001b[0;34m<\u001b[0m\u001b[0mUNSET\u001b[0m\u001b[0;34m>\u001b[0m\u001b[0;34m,\u001b[0m\u001b[0;34m\u001b[0m\n",
       "\u001b[0;34m\u001b[0m    \u001b[0mclip_on\u001b[0m\u001b[0;34m=\u001b[0m\u001b[0;34m<\u001b[0m\u001b[0mUNSET\u001b[0m\u001b[0;34m>\u001b[0m\u001b[0;34m,\u001b[0m\u001b[0;34m\u001b[0m\n",
       "\u001b[0;34m\u001b[0m    \u001b[0mclip_path\u001b[0m\u001b[0;34m=\u001b[0m\u001b[0;34m<\u001b[0m\u001b[0mUNSET\u001b[0m\u001b[0;34m>\u001b[0m\u001b[0;34m,\u001b[0m\u001b[0;34m\u001b[0m\n",
       "\u001b[0;34m\u001b[0m    \u001b[0mfacecolor\u001b[0m\u001b[0;34m=\u001b[0m\u001b[0;34m<\u001b[0m\u001b[0mUNSET\u001b[0m\u001b[0;34m>\u001b[0m\u001b[0;34m,\u001b[0m\u001b[0;34m\u001b[0m\n",
       "\u001b[0;34m\u001b[0m    \u001b[0mframe_on\u001b[0m\u001b[0;34m=\u001b[0m\u001b[0;34m<\u001b[0m\u001b[0mUNSET\u001b[0m\u001b[0;34m>\u001b[0m\u001b[0;34m,\u001b[0m\u001b[0;34m\u001b[0m\n",
       "\u001b[0;34m\u001b[0m    \u001b[0mgid\u001b[0m\u001b[0;34m=\u001b[0m\u001b[0;34m<\u001b[0m\u001b[0mUNSET\u001b[0m\u001b[0;34m>\u001b[0m\u001b[0;34m,\u001b[0m\u001b[0;34m\u001b[0m\n",
       "\u001b[0;34m\u001b[0m    \u001b[0min_layout\u001b[0m\u001b[0;34m=\u001b[0m\u001b[0;34m<\u001b[0m\u001b[0mUNSET\u001b[0m\u001b[0;34m>\u001b[0m\u001b[0;34m,\u001b[0m\u001b[0;34m\u001b[0m\n",
       "\u001b[0;34m\u001b[0m    \u001b[0mlabel\u001b[0m\u001b[0;34m=\u001b[0m\u001b[0;34m<\u001b[0m\u001b[0mUNSET\u001b[0m\u001b[0;34m>\u001b[0m\u001b[0;34m,\u001b[0m\u001b[0;34m\u001b[0m\n",
       "\u001b[0;34m\u001b[0m    \u001b[0mnavigate\u001b[0m\u001b[0;34m=\u001b[0m\u001b[0;34m<\u001b[0m\u001b[0mUNSET\u001b[0m\u001b[0;34m>\u001b[0m\u001b[0;34m,\u001b[0m\u001b[0;34m\u001b[0m\n",
       "\u001b[0;34m\u001b[0m    \u001b[0mpath_effects\u001b[0m\u001b[0;34m=\u001b[0m\u001b[0;34m<\u001b[0m\u001b[0mUNSET\u001b[0m\u001b[0;34m>\u001b[0m\u001b[0;34m,\u001b[0m\u001b[0;34m\u001b[0m\n",
       "\u001b[0;34m\u001b[0m    \u001b[0mpicker\u001b[0m\u001b[0;34m=\u001b[0m\u001b[0;34m<\u001b[0m\u001b[0mUNSET\u001b[0m\u001b[0;34m>\u001b[0m\u001b[0;34m,\u001b[0m\u001b[0;34m\u001b[0m\n",
       "\u001b[0;34m\u001b[0m    \u001b[0mposition\u001b[0m\u001b[0;34m=\u001b[0m\u001b[0;34m<\u001b[0m\u001b[0mUNSET\u001b[0m\u001b[0;34m>\u001b[0m\u001b[0;34m,\u001b[0m\u001b[0;34m\u001b[0m\n",
       "\u001b[0;34m\u001b[0m    \u001b[0mprop_cycle\u001b[0m\u001b[0;34m=\u001b[0m\u001b[0;34m<\u001b[0m\u001b[0mUNSET\u001b[0m\u001b[0;34m>\u001b[0m\u001b[0;34m,\u001b[0m\u001b[0;34m\u001b[0m\n",
       "\u001b[0;34m\u001b[0m    \u001b[0mrasterization_zorder\u001b[0m\u001b[0;34m=\u001b[0m\u001b[0;34m<\u001b[0m\u001b[0mUNSET\u001b[0m\u001b[0;34m>\u001b[0m\u001b[0;34m,\u001b[0m\u001b[0;34m\u001b[0m\n",
       "\u001b[0;34m\u001b[0m    \u001b[0mrasterized\u001b[0m\u001b[0;34m=\u001b[0m\u001b[0;34m<\u001b[0m\u001b[0mUNSET\u001b[0m\u001b[0;34m>\u001b[0m\u001b[0;34m,\u001b[0m\u001b[0;34m\u001b[0m\n",
       "\u001b[0;34m\u001b[0m    \u001b[0msketch_params\u001b[0m\u001b[0;34m=\u001b[0m\u001b[0;34m<\u001b[0m\u001b[0mUNSET\u001b[0m\u001b[0;34m>\u001b[0m\u001b[0;34m,\u001b[0m\u001b[0;34m\u001b[0m\n",
       "\u001b[0;34m\u001b[0m    \u001b[0msnap\u001b[0m\u001b[0;34m=\u001b[0m\u001b[0;34m<\u001b[0m\u001b[0mUNSET\u001b[0m\u001b[0;34m>\u001b[0m\u001b[0;34m,\u001b[0m\u001b[0;34m\u001b[0m\n",
       "\u001b[0;34m\u001b[0m    \u001b[0msubplotspec\u001b[0m\u001b[0;34m=\u001b[0m\u001b[0;34m<\u001b[0m\u001b[0mUNSET\u001b[0m\u001b[0;34m>\u001b[0m\u001b[0;34m,\u001b[0m\u001b[0;34m\u001b[0m\n",
       "\u001b[0;34m\u001b[0m    \u001b[0mtitle\u001b[0m\u001b[0;34m=\u001b[0m\u001b[0;34m<\u001b[0m\u001b[0mUNSET\u001b[0m\u001b[0;34m>\u001b[0m\u001b[0;34m,\u001b[0m\u001b[0;34m\u001b[0m\n",
       "\u001b[0;34m\u001b[0m    \u001b[0mtransform\u001b[0m\u001b[0;34m=\u001b[0m\u001b[0;34m<\u001b[0m\u001b[0mUNSET\u001b[0m\u001b[0;34m>\u001b[0m\u001b[0;34m,\u001b[0m\u001b[0;34m\u001b[0m\n",
       "\u001b[0;34m\u001b[0m    \u001b[0murl\u001b[0m\u001b[0;34m=\u001b[0m\u001b[0;34m<\u001b[0m\u001b[0mUNSET\u001b[0m\u001b[0;34m>\u001b[0m\u001b[0;34m,\u001b[0m\u001b[0;34m\u001b[0m\n",
       "\u001b[0;34m\u001b[0m    \u001b[0mvisible\u001b[0m\u001b[0;34m=\u001b[0m\u001b[0;34m<\u001b[0m\u001b[0mUNSET\u001b[0m\u001b[0;34m>\u001b[0m\u001b[0;34m,\u001b[0m\u001b[0;34m\u001b[0m\n",
       "\u001b[0;34m\u001b[0m    \u001b[0mxbound\u001b[0m\u001b[0;34m=\u001b[0m\u001b[0;34m<\u001b[0m\u001b[0mUNSET\u001b[0m\u001b[0;34m>\u001b[0m\u001b[0;34m,\u001b[0m\u001b[0;34m\u001b[0m\n",
       "\u001b[0;34m\u001b[0m    \u001b[0mxlabel\u001b[0m\u001b[0;34m=\u001b[0m\u001b[0;34m<\u001b[0m\u001b[0mUNSET\u001b[0m\u001b[0;34m>\u001b[0m\u001b[0;34m,\u001b[0m\u001b[0;34m\u001b[0m\n",
       "\u001b[0;34m\u001b[0m    \u001b[0mxlim\u001b[0m\u001b[0;34m=\u001b[0m\u001b[0;34m<\u001b[0m\u001b[0mUNSET\u001b[0m\u001b[0;34m>\u001b[0m\u001b[0;34m,\u001b[0m\u001b[0;34m\u001b[0m\n",
       "\u001b[0;34m\u001b[0m    \u001b[0mxmargin\u001b[0m\u001b[0;34m=\u001b[0m\u001b[0;34m<\u001b[0m\u001b[0mUNSET\u001b[0m\u001b[0;34m>\u001b[0m\u001b[0;34m,\u001b[0m\u001b[0;34m\u001b[0m\n",
       "\u001b[0;34m\u001b[0m    \u001b[0mxscale\u001b[0m\u001b[0;34m=\u001b[0m\u001b[0;34m<\u001b[0m\u001b[0mUNSET\u001b[0m\u001b[0;34m>\u001b[0m\u001b[0;34m,\u001b[0m\u001b[0;34m\u001b[0m\n",
       "\u001b[0;34m\u001b[0m    \u001b[0mxticklabels\u001b[0m\u001b[0;34m=\u001b[0m\u001b[0;34m<\u001b[0m\u001b[0mUNSET\u001b[0m\u001b[0;34m>\u001b[0m\u001b[0;34m,\u001b[0m\u001b[0;34m\u001b[0m\n",
       "\u001b[0;34m\u001b[0m    \u001b[0mxticks\u001b[0m\u001b[0;34m=\u001b[0m\u001b[0;34m<\u001b[0m\u001b[0mUNSET\u001b[0m\u001b[0;34m>\u001b[0m\u001b[0;34m,\u001b[0m\u001b[0;34m\u001b[0m\n",
       "\u001b[0;34m\u001b[0m    \u001b[0mybound\u001b[0m\u001b[0;34m=\u001b[0m\u001b[0;34m<\u001b[0m\u001b[0mUNSET\u001b[0m\u001b[0;34m>\u001b[0m\u001b[0;34m,\u001b[0m\u001b[0;34m\u001b[0m\n",
       "\u001b[0;34m\u001b[0m    \u001b[0mylabel\u001b[0m\u001b[0;34m=\u001b[0m\u001b[0;34m<\u001b[0m\u001b[0mUNSET\u001b[0m\u001b[0;34m>\u001b[0m\u001b[0;34m,\u001b[0m\u001b[0;34m\u001b[0m\n",
       "\u001b[0;34m\u001b[0m    \u001b[0mylim\u001b[0m\u001b[0;34m=\u001b[0m\u001b[0;34m<\u001b[0m\u001b[0mUNSET\u001b[0m\u001b[0;34m>\u001b[0m\u001b[0;34m,\u001b[0m\u001b[0;34m\u001b[0m\n",
       "\u001b[0;34m\u001b[0m    \u001b[0mymargin\u001b[0m\u001b[0;34m=\u001b[0m\u001b[0;34m<\u001b[0m\u001b[0mUNSET\u001b[0m\u001b[0;34m>\u001b[0m\u001b[0;34m,\u001b[0m\u001b[0;34m\u001b[0m\n",
       "\u001b[0;34m\u001b[0m    \u001b[0myscale\u001b[0m\u001b[0;34m=\u001b[0m\u001b[0;34m<\u001b[0m\u001b[0mUNSET\u001b[0m\u001b[0;34m>\u001b[0m\u001b[0;34m,\u001b[0m\u001b[0;34m\u001b[0m\n",
       "\u001b[0;34m\u001b[0m    \u001b[0myticklabels\u001b[0m\u001b[0;34m=\u001b[0m\u001b[0;34m<\u001b[0m\u001b[0mUNSET\u001b[0m\u001b[0;34m>\u001b[0m\u001b[0;34m,\u001b[0m\u001b[0;34m\u001b[0m\n",
       "\u001b[0;34m\u001b[0m    \u001b[0myticks\u001b[0m\u001b[0;34m=\u001b[0m\u001b[0;34m<\u001b[0m\u001b[0mUNSET\u001b[0m\u001b[0;34m>\u001b[0m\u001b[0;34m,\u001b[0m\u001b[0;34m\u001b[0m\n",
       "\u001b[0;34m\u001b[0m    \u001b[0mzorder\u001b[0m\u001b[0;34m=\u001b[0m\u001b[0;34m<\u001b[0m\u001b[0mUNSET\u001b[0m\u001b[0;34m>\u001b[0m\u001b[0;34m,\u001b[0m\u001b[0;34m\u001b[0m\n",
       "\u001b[0;34m\u001b[0m\u001b[0;34m)\u001b[0m\u001b[0;34m\u001b[0m\u001b[0;34m\u001b[0m\u001b[0m\n",
       "\u001b[0;31mDocstring:\u001b[0m\n",
       "Set multiple properties at once.\n",
       "\n",
       "Supported properties are\n",
       "\n",
       "Properties:\n",
       "    adjustable: {'box', 'datalim'}\n",
       "    agg_filter: a filter function, which takes a (m, n, 3) float array and a dpi value, and returns a (m, n, 3) array\n",
       "    alpha: scalar or None\n",
       "    anchor: (float, float) or {'C', 'SW', 'S', 'SE', 'E', 'NE', ...}\n",
       "    animated: bool\n",
       "    aspect: {'auto', 'equal'} or float\n",
       "    autoscale_on: bool\n",
       "    autoscalex_on: bool\n",
       "    autoscaley_on: bool\n",
       "    axes_locator: Callable[[Axes, Renderer], Bbox]\n",
       "    axisbelow: bool or 'line'\n",
       "    box_aspect: float or None\n",
       "    clip_box: `.Bbox`\n",
       "    clip_on: bool\n",
       "    clip_path: Patch or (Path, Transform) or None\n",
       "    facecolor or fc: color\n",
       "    figure: `.Figure`\n",
       "    frame_on: bool\n",
       "    gid: str\n",
       "    in_layout: bool\n",
       "    label: object\n",
       "    navigate: bool\n",
       "    navigate_mode: unknown\n",
       "    path_effects: `.AbstractPathEffect`\n",
       "    picker: None or bool or float or callable\n",
       "    position: [left, bottom, width, height] or `~matplotlib.transforms.Bbox`\n",
       "    prop_cycle: unknown\n",
       "    rasterization_zorder: float or None\n",
       "    rasterized: bool\n",
       "    sketch_params: (scale: float, length: float, randomness: float)\n",
       "    snap: bool or None\n",
       "    subplotspec: unknown\n",
       "    title: str\n",
       "    transform: `.Transform`\n",
       "    url: str\n",
       "    visible: bool\n",
       "    xbound: unknown\n",
       "    xlabel: str\n",
       "    xlim: (bottom: float, top: float)\n",
       "    xmargin: float greater than -0.5\n",
       "    xscale: {\"linear\", \"log\", \"symlog\", \"logit\", ...} or `.ScaleBase`\n",
       "    xticklabels: unknown\n",
       "    xticks: unknown\n",
       "    ybound: unknown\n",
       "    ylabel: str\n",
       "    ylim: (bottom: float, top: float)\n",
       "    ymargin: float greater than -0.5\n",
       "    yscale: {\"linear\", \"log\", \"symlog\", \"logit\", ...} or `.ScaleBase`\n",
       "    yticklabels: unknown\n",
       "    yticks: unknown\n",
       "    zorder: float\n",
       "\u001b[0;31mFile:\u001b[0m      ~/anaconda3/envs/octavelab/lib/python3.10/site-packages/matplotlib/artist.py\n",
       "\u001b[0;31mType:\u001b[0m      method\n"
      ]
     },
     "metadata": {},
     "output_type": "display_data"
    }
   ],
   "source": [
    "\n"
   ]
  },
  {
   "cell_type": "code",
   "execution_count": null,
   "id": "6af9ead1-fe58-47cb-ac1b-91124de11eb1",
   "metadata": {},
   "outputs": [],
   "source": []
  },
  {
   "cell_type": "code",
   "execution_count": 6,
   "id": "6a3643f9-bd94-484a-bce4-65574887a936",
   "metadata": {},
   "outputs": [],
   "source": [
    "import matplotlib.pyplot as plt\n",
    "from matplotlib.animation import FuncAnimation\n",
    "import numpy as np\n",
    "\n",
    "\n",
    "def affine_combination(pair, t):\n",
    "    \"\"\"Return intermediate point between two points.\"\"\"\n",
    "    x0, x1 = np.asarray(pair)\n",
    "    return (1 - t) * x0 + t * x1\n",
    "\n",
    "\n",
    "def casteljau_step(points, t):\n",
    "    \"\"\"One step of De Casteljau's algorithm.\n",
    "\n",
    "    Takes a list of points.\n",
    "    Returns a list of intermediate points.\n",
    "\n",
    "    \"\"\"\n",
    "    return [affine_combination(pair, t)\n",
    "            for pair in zip(points[:-1], points[1:])]\n",
    "\n",
    "\n",
    "def plot_casteljau(points, t, ax=None):\n",
    "    \"\"\"Plot steps of De Casteljau's algorithm.\n",
    "\n",
    "    t is supposed to be between 0 and 1.\n",
    "\n",
    "    \"\"\"\n",
    "    if len(points) < 2:\n",
    "        raise ValueError('We need at least two points')\n",
    "    if ax is None:\n",
    "        ax = plt.gca()\n",
    "    ax.set_title(f'Bézier curve of degree {len(points) - 1}; t = {t:1.2f}')\n",
    "    while len(points) >= 2:\n",
    "        ax.plot(*np.asarray(points).T)\n",
    "        points = casteljau_step(points, t)\n",
    "        ax.scatter(*np.asarray(points).T)\n",
    "    ax.axis('equal')\n",
    "    result, = points\n",
    "    return result\n",
    "\n",
    "\n",
    "def create_animation(points, frames, ax=None, **kwargs):\n",
    "    \"\"\"Create matplotlib animation for De Casteljau's algorithm.\n",
    "\n",
    "    ``**kwargs`` are passed to ``FuncAnimation()``.\n",
    "\n",
    "    \"\"\"\n",
    "    if ax is None:\n",
    "        ax = plt.gca()\n",
    "    partial_curve = []\n",
    "\n",
    "    def animation_func(t):\n",
    "        ax.clear()\n",
    "        if partial_curve:\n",
    "            ax.plot(*np.asarray(partial_curve).T, '.', c='lightgrey')\n",
    "        point = plot_casteljau(points, t, ax=ax)\n",
    "        ax.scatter(*np.asarray(points).T, marker='x', c='black')\n",
    "        partial_curve.append(point)\n",
    "\n",
    "    times = np.linspace(0, 1, frames)\n",
    "    return FuncAnimation(ax.figure, animation_func, frames=times, **kwargs)\n"
   ]
  }
 ],
 "metadata": {
  "kernelspec": {
   "display_name": "Python 3 (ipykernel)",
   "language": "python",
   "name": "python3"
  },
  "language_info": {
   "codemirror_mode": {
    "name": "ipython",
    "version": 3
   },
   "file_extension": ".py",
   "mimetype": "text/x-python",
   "name": "python",
   "nbconvert_exporter": "python",
   "pygments_lexer": "ipython3",
   "version": "3.10.1"
  }
 },
 "nbformat": 4,
 "nbformat_minor": 5
}
