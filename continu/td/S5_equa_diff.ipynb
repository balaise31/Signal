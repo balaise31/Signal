{
 "cells": [
  {
   "cell_type": "markdown",
   "metadata": {},
   "source": [
    "|[S4 - Laplace](S4_laplace.ipynb) | Revenir à la [page déroulement](README.ipynb) | |\n",
    "|-------------|---|---|\n",
    "\n",
    "---\n",
    "# S5 - Equa. Diff.\n",
    "---\n"
   ]
  },
  {
   "cell_type": "markdown",
   "metadata": {
    "jp-MarkdownHeadingCollapsed": true,
    "tags": []
   },
   "source": [
    "# Travail préparatoire\n",
    "---\n",
    " - Révisions des formules de base.\n",
    " - Exo 2 : transformées inverse par lecture des tables\n",
    " - Bonus vois le théorème de la dérivée et les Conditions Initiales"
   ]
  },
  {
   "cell_type": "markdown",
   "metadata": {
    "jp-MarkdownHeadingCollapsed": true,
    "tags": []
   },
   "source": [
    "## Bien terminer l'exercice 1 (sauf le 1.h) et apprendre à **retrouver** les formules.\n",
    "Comment retrouver les formules sans mémoriser dans ce qui suit."
   ]
  },
  {
   "cell_type": "markdown",
   "metadata": {
    "tags": []
   },
   "source": [
    "  - **Dirac** $\\delta_0$ :   \n",
    "  On associe un signal à un système permettant de générer ce signal à partir de l'impulsion de Dirac $\\delta_0$. Le système qui ne fait rien doit multiplier par $1$ la transformée du signal d'entrée pour ne pas la changer et il transforme un Dirac en un Dirac : donc la transformée du Dirac est celle du système qui ne fait rien et vaut 1.\n",
    "  - **échelon et rampe** ($r : t\\mapsto t.u(t)$) :   \n",
    "  se déduisent en intégrant (multiplier par $\\frac{1}{p}$) la transformée du Dirac qui vaut $1\\ldots$ Attention au piège à partir de $t.u(t)$ l'intégrale vaut $\\frac{t^2}{2}\\rightarrow \\frac{1}{p^3}$ puis $\\frac{t^3}{2.3}\\rightarrow \\frac{1}{p^4}$ et ainsi de suite (récurrence) pour obtenir $L[t\\mapsto \\frac{t^n}{n!}.u(t)](p) = \\frac{1}{p^{n+1}}$  \n",
    "  - **Théorème du retard** :   \n",
    "  Le retard est un système de gain 1 et de déphasage $-\\tau\\omega$, car une onde de pulsation $\\omega$ à une période $T=\\frac{1}{f}=\\frac{2\\pi}{\\omega}$ se déphase avec un retard $\\tau$ de $-2\\pi.\\frac{\\tau}{T}=-2\\pi.\\frac{\\tau}{\\frac{2\\pi}{\\omega}}=-\\tau\\omega$. Donc retarder un signal $X(p)$, c'est le multiplier par $1.e^{-i\\tau\\omega}=e^{-\\tau p}$ (en prenant $p=i\\omega$)\n",
    "  - **Premier ordre** $e^{-a t}.u(t)$ :   \n",
    "  est la réponse d'un premier ordre stable (pour a>0). On doit donc avoir un pôle stable : $\\frac{1}{p+a}$ marche, car $p=-a$ est un pôle à partie réelle négative donc stable. De plus c'est un signal borné homogène à $\\frac{1}{p}$, car $a\\equiv\\frac{1}{t}\\equiv p$, puisque l'argument de l'exponentielle est sans dimension.\n",
    "  - **Sin et cos causaux** $\\sin(\\omega t).u(t)$ et $cos(\\omega t).u(t)$   :\n",
    "  se retrouvent facilement, car on sait qu'il s'agit de deux pôles imaginaires purs $\\pm i \\omega$ (cela donne du $e^{i \\omega t}\\pm e^{-i \\omega t}$ qui par formule d'Euler donne bien des sin et cos). Ce qui donne du $\\frac{\\dots}{p+i\\omega}\\frac{\\dots}{p-i\\omega} = \\frac{\\dots}{p^2+\\omega^2}$. Les signaux étant bornés, leur transformée doit être homogène à $\\frac{1}{p}$ ; on doit donc avoir au numérateur du $p$ ou du $\\omega\\equiv p$. Comme l'on sait que $\\frac{d}{dt}\\cos(\\omega t) = \\omega \\sin(\\omega t)$, on a donc $\\underbrace{p}_{\\frac{d}{dt}} \\underbrace{\\frac{\\omega}{p^2+\\omega^2}}_{cos(\\omega t)} = \\omega \\underbrace{\\frac{p}{p^2+\\omega^2}}_{sin(\\omega t)} $"
   ]
  },
  {
   "cell_type": "markdown",
   "metadata": {
    "jp-MarkdownHeadingCollapsed": true,
    "tags": []
   },
   "source": [
    "## Faire l'exerice 2 pour les transformées inverses\n",
    "L' [Exercice 2](https://moodle.insa-toulouse.fr/mod/resource/view.php?id=24741#page=53) sont des transformées inverses.\n",
    "\n",
    "La formule d'inversion de la transformée n'est pas dans vos compétences : **on va décomposer en fonctions simples connues de la table**"
   ]
  },
  {
   "cell_type": "markdown",
   "metadata": {},
   "source": [
    "* **a)** $X(p)=\\frac{p-4}{p^2+16}$ :   \n",
    "le $p^2+16$ fait penser à des pôles imaginaires purs conjugués donc à cos et sin. \n",
    "  - Retrouvez le Laplace de cos et sin causaux avec la technique précédente (vérifiez dans la [table page 47 du poly](https://moodle.insa-toulouse.fr/mod/resource/view.php?id=24741#page=47)). \n",
    "  - Décomposer la fraction en une somme de cos et sin causaux : on a $x(t)$ sous forme IQ.\n",
    "  - Utiliser un petit schéma IQ pour retrouver l'expression sous forme $A cos(\\omega t + \\varphi)u(t)$.\n",
    "  - On obtient $a=\\sqrt{2}, \\varphi=\\frac{5\\pi}{4}, \\omega=4$ \n",
    "* **b)** $Y(p)= \\frac{p^2+3p+3− \\frac{6}{p}}{p^2}$ :   \n",
    "Pas de Décomposition en Elements Simple ici !   \n",
    "   - ici les pôles valent 0 : donc des intégrateurs ! Décomposer en somme et utiliser les intégrales du Dirac. \n",
    "   - On doit pourvoir trouver $t\\mapsto \\delta_0 + 3.\\left(1+t-t^2\\right)u(t)$\n",
    "* **c)** $ \\frac{p^2+4p+4}{p^2+2p+2}$.   \n",
    "   - Sortir la partie entière et obtenir $\\frac{2p}{p^2+2p+2}$. \n",
    "   - On peut faire une pénible DES. On arrivera toujours à une somme d'intégrateurs, de premier ordre ou d'ordre deux (sin/cos amortis). Pour vérifier, il y a plus malin :\n",
    "   - Mettez le $p^2 + 2p +2$ sous sa forme canonique $(p+a)^2+b $. \n",
    "   - Le $(p+a)$ fait penser à un retard de $-a$ sur la variable $p$, on pense alors au [Th. de la translation en fréquence section 3.3.4](https://moodle.insa-toulouse.fr/mod/resource/view.php?id=24741#subsection.3.3.4).\n",
    "   - Essayez d'exprimer cette fraction avec uniquement la variable $q=p+a$. \n",
    "   - On obtient alors $G(p+a)$ avec $G(p)$ une transformée connue ! Il s'ensuit avec le théorème de la modulation que $z(t) = \\delta_0 + e^{-t}.g(t)$\n",
    "   - Pour le g(t), on peut faire un schéma IQ pour exprimer $g(t)$ sous la forme amplitude et phase d'un cosinus causal.\n",
    "* **d)** $\\frac{p−1+e^{−p}}{p^2.(1−e^{−p})}$. Ne pas faire tout de suite tout !\n",
    "   - mettre sous la forme $H(p).\\frac{1}{1-e^{-p}}$. \n",
    "   - Trouver facilement $h(t)$ sous la forme de somme d'échelon et de rampes retardées, dessiner cette fonction qui est nulle en dehors du segment [0, 1].\n",
    "   - Appliquer le [théorème de la répétition causale section 3.3.12](https://moodle.insa-toulouse.fr/mod/resource/view.php?id=24741#subsection.3.3.12), mais il vaut mieux attendre le td où l'on fait la démonstration :-p  "
   ]
  },
  {
   "cell_type": "markdown",
   "metadata": {
    "jp-MarkdownHeadingCollapsed": true,
    "tags": []
   },
   "source": [
    "## (BONUS) Comprendre le théorème de la dérivée et les CI"
   ]
  },
  {
   "cell_type": "markdown",
   "metadata": {
    "tags": []
   },
   "source": [
    "On a admis qu'intégrer et dériver correspondait à multiplier et diviser par $p$. Retrouvons ces résultats pour voir que la dérivation fait apparaitre les conditions initiales. Pour cela :\n",
    "   - on admet que $(u.v)'=u'.v+u.v'$, isoler le terme $u'.v$ et intégrer le tout pour retrouver la formule d'intégration par parties. \n",
    "   - Effectuer une I.P.P. de $L[f']$ et retrouver que $L[f'](p) = [f(t) e^{-pt}]_{-\\infty}^{+\\infty} + p L[f](p)$ \n",
    "   - Considérez alors le cas de fonctions causales nulles pour $t<0$ et pas forcément continue à droite en $0$ (comme l'échelon par exemple). L'équation devient $L[f'](p) = [f(t) e^{-pt}]_{0}^{+\\infty} + p L[f](p)$ avec un passage à la limite en $0^+$, car f(0) n'est pas continue à droite. Vous obtiendrez alors la bonne formule $L[f'](p)= pL[f](p) - f(0^+)$. Et surtout pas $f(0^-)$ comme on peut le rencontrer chez de naïfs physiciens !\n",
    "* Revoir le [poly page 51 3.6.2](https://moodle.insa-toulouse.fr/mod/resource/view.php?id=24741#page=51) sur la résolution des équations différentielles avec les transformées."
   ]
  },
  {
   "cell_type": "markdown",
   "metadata": {
    "jp-MarkdownHeadingCollapsed": true,
    "tags": []
   },
   "source": [
    "# En Séance \n",
    "- Retour sur l'exo 1h. Démonstration de la formule de répétition causale avec le résultat sur les séries géométriques.\n",
    "- Correction du 2d\n",
    "- Retour sur le travail préparatoire de l'exercice 2   \n",
    "- Mise en oeuvre pour l'équa. diff. de l'exercice 3\n",
    "- Explication du théorème de la modulation comme le dual du théorème du retard\n"
   ]
  },
  {
   "cell_type": "markdown",
   "metadata": {
    "tags": []
   },
   "source": [
    "## Exercice 3\n",
    "\n",
    "L ' [Exercice 3](https://moodle.insa-toulouse.fr/mod/resource/view.php?id=24741#page=54) consiste à résoudre deux équations différentielle avec conditions initiales."
   ]
  },
  {
   "cell_type": "markdown",
   "metadata": {
    "jp-MarkdownHeadingCollapsed": true,
    "tags": []
   },
   "source": [
    "### Exercice 3a\n",
    "\n",
    "Résoudre  $x'' + 2x' + x = e^{−t}.u(t)$, avec $x(0) = 0$ et $x’(0) = 0$ :  **sans conditions initiales donc**"
   ]
  },
  {
   "cell_type": "markdown",
   "metadata": {},
   "source": [
    "   - Passez l'équa. diff. en Laplace. Le second membre est la réponse d'un système de premier ordre ! Pas de calcul donc...\n",
    "   - Isolez $X(p)$ pour trouver  $X(p) = \\frac{1}{(p+1)^3}$. Ne pas sombrer dans une DES un peu longue ! ni dans la lecture de table de transformée ($\\frac{1}{(p+\\alpha)^n}$ y figure honteusement !).\n",
    "   - C'est un pôle multiple, c'est fréquent et facile à faire avec l'astuce du [Th. de la translation en fréquence section 3.3.4](https://moodle.insa-toulouse.fr/mod/resource/view.php?id=24741#subsection.3.3.4) :  \n",
    "   - Remarquez que $X(p)= \\frac{1}{q^3}$ avec $q=p+1$. C'est comme si la variable $p$ était retardée de $-1$ avant d'appliquer $L^{-1}[p\\mapsto\\frac{1}{p^3}](t)= \\frac{t^2}{2}$. \n",
    "   - Par dualité du théorème du retard $L[f(\\bullet-\\tau)](p)= e^{-\\tau p}. F(p)$, appliquez le théorème de la modulation (qui est son dual) $L[e^{-\\tau \\bullet}f(\\bullet)](p)=F(p+\\tau)$. **Dualité = danger de signe !** c'est bien $F(p+\\tau)$ ici : il n'y a pas d'erreur. \n",
    "   - On trouve ainsi la solution de l'équa. diff x(t) sous la forme $x(t) = e^{-t}.\\dots$  \n",
    "   - Remarquez la similitude du dual et faites attention au petit changement de signe dans l'exponentielle. On justifiera plus tard avec Fourier de l'existence de cette dualité des formules et du pourquoi du changement de signe. On retrouve ainsi la fonction $x$ primale de la transformée $X$. \n",
    "   \n",
    "   "
   ]
  },
  {
   "cell_type": "markdown",
   "metadata": {
    "jp-MarkdownHeadingCollapsed": true,
    "tags": []
   },
   "source": [
    "### Exercice 3b\n",
    "Résoudre $x'' + 6x' + 8x = \\delta(t)$ avec $x(0)=1$ et $x’(0)=3$.\n",
    "\n",
    "Commençons **avec CI mais sans le Dirac !** Car le Dirac introduit une condition initiale en plus..."
   ]
  },
  {
   "cell_type": "markdown",
   "metadata": {},
   "source": [
    "Donc résolvons d'abord l'équation homogène :\n",
    "Résoudre $x'' + 6x' + 8x = \\mathbb{0}$ avec $x(0)=1$ et $x’(0)=3$.\n",
    " - Résoudre l'équation homogène ($x'' +\\dots = 0$) en introduisant les conditions initiales avec la formule $L[f'](p)=p.F(p)-f(0^+)$ et la même formule appliquée à la dérivée $L[f'']=p.L[f']-f'(0^+)$. On trouve en séparant  $X(p)$ au premier membre :   \n",
    " $p^2.X(p)+6pX(p)+8X(p)= p.x_{0^+}-x_{0^+}'+6.x_{0^+}$\n",
    " \n",
    "On remarque qu'une équation homogène avec CI est équivalente à une équation générale avec des Dirac et ses dérivées en entrée du système ! Car en faisant la transformée inverse :\n",
    " $x''+6x'+8x= x_{0^+}.\\delta_0' + x_{0^+}'.\\delta_0 + 6.x_{0^+}.\\delta_0 = \\delta_0' + 9.\\delta_0$\n",
    "\n",
    "**On introduit les CI ou bien on prend des CI nulles et on met des Diracs en entrée**\n",
    "    \n",
    " - Vérifiez que la transformée de Laplace vérifie bien les CI en appliquant le [Th. de la valeur initiale section 3.3.8](https://moodle.insa-toulouse.fr/mod/resource/view.php?id=24741#subsection.3.3.8) : $\\lim\\limits_{p\\to\\infty}{pF(p)}=f(0^+)$ **si la limite existe !**. \n",
    " - Vérifiez l'homogénéité de cette transformée avec $p\\equiv 1/t$ et $x_0'=\\frac{d}{dt}x\\equiv 1/t$\n",
    " - Pour trouver la réponse temporelle $x$, on peut chercher les pôles de $X(p)$ et faire une DES avec la méthode du cache : méthode classique expliquée dans [poly page 48 3.5.2](https://moodle.insa-toulouse.fr/mod/resource/view.php?id=24741#page=48). Mais il y a plus malin !\n",
    "\n",
    "Plus malin pour calculer la transformée inverse de $X(p)$ :\n",
    "\n",
    " - Pour cela passez $p^2+6p+8$ sous forme canonique $(p+a)^2-b$ (Delta sucks !). Appliquez le  [Th. de la translation en fréquence section 3.3.4](https://moodle.insa-toulouse.fr/mod/resource/view.php?id=24741#subsection.3.3.4) avec $q=p+a$ ce qui doit donner $X(q)=\\frac{q}{q^2-1}$ que l'on décompose en $\\frac{\\dots}{q+1}+\\frac{\\dots}{q-1}$. On doit obtenir une solution temporelle $x(t)$ sous forme de deux premier ordre (exponentielle causale) modulées par $e^{3t}$ par translation $q=p+3$.\n",
    " - Vérifier que la solution $x(t)$ prise en $O^+$ respecte les CI données, vérifiez l'homogénéité des termes.\n",
    " - Utilisez le [Th. de la valeur FINALE section 3.3.9](https://moodle.insa-toulouse.fr/mod/resource/view.php?id=24741#subsection.3.3.9) pour faire un dernier test : $\\lim_{p\\to 0}(pF(p))=\\lim_{t\\to +\\infty}(f(t))$\n",
    "\n",
    "On a vu que calculer la réponse de ce système **avec CI** est pareil que de calculer **sans condition initiale,** mais avec diracs en entrée $9\\delta_0 + \\delta_0'$. \n",
    "\n",
    "Vous comprenez alors que les impulsions de Dirac et ses dérivées permettent d'introduire instantanément les CI.\n",
    "\n",
    "> Il est donc **très moche dans cet exercice** de demander la réponse d'un système avec un Dirac en entrée **et en plus des CI** ! > Vérifiez cela avec le [corrigé coloré](pdfs/laplace_exo2_dirac_et_CI.pdf)"
   ]
  },
  {
   "cell_type": "markdown",
   "metadata": {},
   "source": []
  }
 ],
 "metadata": {
  "kernelspec": {
   "display_name": "Octave",
   "language": "octave",
   "name": "octave"
  },
  "language_info": {
   "file_extension": ".m",
   "help_links": [
    {
     "text": "GNU Octave",
     "url": "https://www.gnu.org/software/octave/support.html"
    },
    {
     "text": "Octave Kernel",
     "url": "https://github.com/Calysto/octave_kernel"
    },
    {
     "text": "MetaKernel Magics",
     "url": "https://metakernel.readthedocs.io/en/latest/source/README.html"
    }
   ],
   "mimetype": "text/x-octave",
   "name": "octave",
   "version": "4.2.2"
  }
 },
 "nbformat": 4,
 "nbformat_minor": 4
}
