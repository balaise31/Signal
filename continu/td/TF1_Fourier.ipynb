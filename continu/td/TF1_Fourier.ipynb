{
 "cells": [
  {
   "cell_type": "markdown",
   "id": "c76102e8-31f0-49f0-90d9-e75df22eb9b1",
   "metadata": {},
   "source": [
    " - [A](#A) - Existence des transformées\n",
    " - [B](#B) - Unicité et causalité\n",
    " - [C](#C) - Lien avec Laplace\n",
    " - [D](#D) - Lien avec les Séries de Fourier (SdF) "
   ]
  },
  {
   "cell_type": "markdown",
   "id": "3d20aece-b70a-4b91-8071-32884a073ca7",
   "metadata": {},
   "source": [
    "# A \n",
    "Existence des transformées\n",
    "---\n",
    "\n",
    "> La CNS d'existence d'une transformée de Laplace $F$ d'une fonction $\\vec{f}$ causale est que la fonction soit d'**ordre exponentiel** :\n",
    "\n",
    "$\\exists(\\lambda,\\alpha)\\in\\mathbb{R}^2\\;|\\;\\forall t,\\;|f(t)|<\\lambda.e^{\\alpha.t}$\n",
    "\n",
    "Si une fonction est d'ordre exponentiel $\\alpha$ alors l'intégrale de Laplace converge sur ces deux branches infinies pour $p\\succ \\alpha$ car :\n",
    "\n",
    "$|f(t).e^{-pt}|<\\lambda.e^{\\alpha.t}.e^{-\\mathcal{R}(p).t}.\\underbrace{|e^{-i\\mathcal{I}(p).t}|}_{=1}=\\lambda.e^{-(\\mathcal{R}(p)-\\alpha).t}$ CV SSI $\\mathcal{R}(p)-\\alpha>1$ (Rieman). \n",
    "\n",
    "Et finalement $p\\succ \\alpha \\iff \\text{CVA} \\implies \\text{CV}$. La réciproque est moins immédiate, mais vraie.\n",
    "\n",
    "> Une CS d'existence de la transformée de Fourier est celle de la CVA :   \n",
    "> $\\vec{f}\\in L_1 \\iff ||\\vec{f}||_1 \\text{ finie } \\iff \\int |\\vec{f}(t)|.dt $ CV \n",
    "\n",
    "\n",
    "En conclusion, une transformée de Fourier existe si la fonction semble intégrable à $\\pm \\infty$, celle de Laplace existe s'il existe une exponentielle capable d'écraser d'un côté la fonction $f$ suffisamment (attention, elle amplifie de l'autre côté) pour que son intégrale converge. \n"
   ]
  },
  {
   "cell_type": "markdown",
   "id": "7cde7ff9-1288-4e57-8d53-d73248dd31b3",
   "metadata": {},
   "source": [
    "# B\n",
    "Unicité et causalité\n",
    "---\n",
    "\n",
    "> On remarque que **deux fonctions peuvent avoir la même expression algébrique de Laplace**. \n",
    "\n",
    ">Par exemple\n",
    "> $e_a=e^{-a\\bullet}.u(\\bullet)$ et $f=-e^{-a\\bullet}.u(-\\bullet)$ ont pour expression algébrique $\\frac{1}{p+a}$\n",
    "\n",
    "> **Mais les transformées de Laplace sont bien uniques**, car une fonction est un graphe qui, s'il est donné sous forme algébrique, doit être accompagnée d'un domaine de définition et là :\n",
    "\n",
    "> $s_1 := e_a=e^{-a\\bullet}.u(\\bullet) \\quad \\quad\\overset{\\mathcal{L}}{\\longrightarrow} \\quad p\\mapsto\\frac{1}{p+a} \\quad$ avec $p\\in D_{e_a}=\\{p \\succ -a\\}\\quad$\n",
    "\n",
    "> $f=-e^{-a\\bullet}.u(-\\bullet) \\quad \\overset{\\mathcal{L}}{\\longrightarrow} \\quad p\\mapsto\\frac{1}{p+a} \\quad$ avec $p\\in D_{f}=\\{p \\prec -a\\}\\quad$\n",
    "\n",
    "> L'une est causale avec un domaine de définition en demi-plan droit et l'autre anti-causale avec un domaine en demi-plan gauche\n"
   ]
  },
  {
   "cell_type": "markdown",
   "id": "b589d4b8-9b7d-488c-94da-262a4470031e",
   "metadata": {
    "tags": []
   },
   "source": [
    "# C\n",
    "Lien avec Laplace\n",
    "---\n",
    "\n",
    "On peut faire le lien (remplacez les transformées par leurs formules et cela devient évident) entre la TF et la TP avec :\n",
    "> $\\hat{F}\\left(f=\\frac{\\omega}{2\\pi}\\right) =\\quad \\int\\limits_{-\\infty}^{+\\infty}{\\vec{f}(t).\\overline{e^{i.\\omega.t}}.dt} = \\int\\limits_{-\\infty}^{+\\infty}{\\vec{f}(t).e^{- \\overbrace{i.\\omega}^{p}.t}.dt} = \\quad F\\left(p=j \\omega\\right)$\n",
    "\n",
    "ou encore\n",
    "\n",
    "> $F(p=\\alpha+i\\omega)=\\quad \\int\\limits_{-\\infty}^{+\\infty}{\\vec{f}(t).e^{- \\overbrace{\\alpha +i\\omega}^{p}.t}.dt} =  \\int\\limits_{-\\infty}^{+\\infty}{\\underbrace{\\vec{f}(t).e^{-\\alpha{}t}}_{\\vec{f}\\text{ écrasée}} \\;.\\;e^{- i\\omega{}t}.dt} \\quad  =\\mathcal{F}[\\underbrace{e^{-\\alpha\\bullet}.\\vec{f}(\\bullet)}_{\\vec{f}\\text{ écrasée}}]\\left(f=\\frac{\\omega}{2\\pi}\\right)$\n",
    "\n",
    "Mais attention ! Une transformée de Laplace n'est pas définie pour tout $p\\in\\mathbb{C}$, mais elle possède un domaine de définition.   \n",
    "**Il se peut que l'on ait une transformée de Laplace définie, mais pas de transformée de Fourier !** \n",
    "\n",
    "> La transformée de Laplace peut faire converger l'intégrale de Fourier en écrasant la fonction $\\vec{f}$ avec $e^{-\\alpha.t}$.   \n",
    "> La condition de convergence se traduit en borne sur $\\alpha$ qui donne un *domaine de convergence* dans le plan complexe de $p$ sous forme de demiplan $p\\succ\\dots \\iff \\alpha=\\mathcal{R}(p)>\\dots$.   \n",
    "> Quand la TL existe, il faut que l'axe imaginaire $\\left\\{p=i\\omega \\;|\\; \\omega \\in \\mathbb{R}\\right\\}=i\\mathbb{R}$ utilisé par la TF fasse partie du demiplan de convergence de Laplace $p\\succ \\dots$.\n",
    "\n"
   ]
  },
  {
   "cell_type": "markdown",
   "id": "5cf2ff5e-c830-4165-a613-ac4a1c3ac4f7",
   "metadata": {},
   "source": [
    "### Exemple de l'échelon unité\n",
    "Dans l'échelon unité :\n",
    "$U(p) = \\int\\limits_{\\mathbb{R}}{e^{-pt}.u(t).dt} = \\int\\limits_{t=0}^{+\\infty}{1.e^{-pt}.dt}=\\left[\\frac{e^{-pt}}{-p}\\right]_0^{+\\infty}$\n",
    "\n",
    "$U(p) = \\underset{t\\to+\\infty}{\\lim} e^{-pt} - \\frac{1}{-p}$\n",
    "\n",
    "Il faut voir si la branche infinie converge, comme $e^{-pt} = e^{-\\alpha t}.\\underbrace{e^{i\\omega t}}_{|.|=1}, \\quad$ en notant $p=\\alpha+i\\omega$ ce qui donne :\n",
    "  - $\\alpha < 0$ (noté $p\\prec0$) $\\implies |e^{-p.t}|=|e^{-\\alpha.t}|\\to +\\infty \\quad\\implies$ $F(p)$ non définie \n",
    "  - $\\alpha > 0$ (noté $p\\succ0$) $\\implies |e^{-p.t}|=|e^{-\\alpha.t}|\\to 0 \\quad\\implies$ $F(p)=\\frac{1}{p}$ définie (car $p\\neq0$)\n",
    "  - $\\alpha = 0$ (donc $p=i\\omega$) $\\implies e^{-p.t}=e^{i\\omega t}$ n'as pas de limite (parcours du cercle unité à l'infini ne converge pas et ne diverge pas à l'infini : donc diverge) \n",
    "\n",
    "Donc **le domaine de convergence de U est $D_U=\\left\\{p=\\alpha +i\\omega\\in\\mathbb{C}\\;|\\;\\alpha>0\\right\\}$. On note plus simplement $D_U=\\{p\\succ 0\\}$**\n",
    "\n",
    "\n",
    "Comme l'échelon $u$ admet pour transformée $p\\mapsto U(p)=\\frac{1}{p}$, on pourrait penser que $\\hat{U}(f)= \\frac{1}{j 2\\pi f}$, mais le domaine de $U$ est $\\{p\\succ 0\\}$ on a divergence pour $p=i\\omega=i2\\pi.f$ : l'intégrale ne converge pas et il n'y a donc pas de transformée de Fourier !\n",
    "\n",
    " Donc finalement,\n",
    " \n",
    ">  il faut que l'axe imaginaire pur (utilisé par $\\hat{F}$ la TF) fasse partie du domaine   \n",
    "> de définition de la transformée de Laplace$F$    \n",
    "> F existe et $i\\mathbb{R} \\subset D_F \\quad \\iff \\quad \\hat{F}$ existe \n"
   ]
  },
  {
   "cell_type": "markdown",
   "id": "bed91abf-f44d-4012-b506-a6158c820f4a",
   "metadata": {
    "tags": []
   },
   "source": [
    "# D \n",
    "Lien avec Sdf\n",
    "---\n",
    "Le lien avec les SdF : on remarque une similitude des formules\n",
    "\n",
    "$\\hat{F}(f)=\\int_{\\mathbb{R}}{e^{-i2\\pi.f.t}.\\vec{f}(t).dt}\\quad\\longleftrightarrow\\quad C_{\\vec{f}}(n)=\\frac{1}{T_0}\\int_{t=0}^{T_0}{e^{-2\\pi.n.f_0.t}.\\vec{f}(t).dt}$ \n",
    "\n",
    "On remplace ainsi $f \\quad\\leftrightarrow\\quad n.F_0=\\frac{n}{T_0}$ ou bien $\\omega=2\\pi.f \\quad\\leftrightarrow\\quad n.\\omega_0 = 2\\pi.\\frac{n}{T_0}$\n",
    "\n",
    "\n",
    "Mais attention ! **Ne pas oublier de multiplier la fonction $f$ périodique par $\\Pi_{[0, T_0]}$ pour annuler la fonction et limiter l'intégrale de la transformée de Fourier qui est pour tout $t$ à une intégrale de 0 à $T_0$ qui converge**. \n",
    "\n",
    "> Donc en notant $g$ la fonction impulsion nulle en dehors d'une période et $g_{T_0}$ la fonction $g$ rendue périodique de période $T_0$, on obtient le lien :\n",
    "\n",
    "> $C_{g_{T_0}}(n) = \\frac{1}{T_0}.\\hat{G}(f=n.F_0=\\frac{n.\\omega_0}{2\\pi}) = \\frac{1}{T_0}.G(p=i.2\\pi.n.F_0)$    \n",
    "> **où $g$ est la fonction impulsion nulle en dehors de $[0, T_0]$**\n",
    "\n",
    "**Simplifiez bien,** car dans $c(n)$ toute expression de période doit disparaître (invariance des coefs sur étirement temporel).   \n",
    "Donc éradiquez les $T_0$, $F_0$, $\\omega_0$ :\n",
    "- ne pas oublier le $\\frac{1}{T_0}$ qui **doit disparaître** avec les $T_0.F_0=1$ et $T_0\\omega_0=2\\pi$ venant de la TF\n",
    "- parfois un terme $\\frac{L}{T_0}$ persiste où $L$ est un paramètre temporel comme par exemple la largeur d'une fonction porte. $\\frac{L}{T_0}=\\alpha$ est alors sans dimension et représente une sorte de rapport cyclique que l'on pourrait exprimer en %. Ainsi on garde un rapport cyclique $ \\alpha$ constant pour étirer le signal périodique dans le temps sans le déformer et $T_0$ a bien disparu des $c(n)$...\n",
    "\n",
    "\n"
   ]
  },
  {
   "cell_type": "code",
   "execution_count": null,
   "id": "392ac8db-2f36-462a-acfd-8b2f48317e36",
   "metadata": {},
   "outputs": [],
   "source": []
  }
 ],
 "metadata": {
  "kernelspec": {
   "display_name": "Octave",
   "language": "octave",
   "name": "octave"
  },
  "language_info": {
   "file_extension": ".m",
   "help_links": [
    {
     "text": "GNU Octave",
     "url": "https://www.gnu.org/software/octave/support.html"
    },
    {
     "text": "Octave Kernel",
     "url": "https://github.com/Calysto/octave_kernel"
    },
    {
     "text": "MetaKernel Magics",
     "url": "https://metakernel.readthedocs.io/en/latest/source/README.html"
    }
   ],
   "mimetype": "text/x-octave",
   "name": "octave",
   "version": "4.2.2"
  }
 },
 "nbformat": 4,
 "nbformat_minor": 5
}
