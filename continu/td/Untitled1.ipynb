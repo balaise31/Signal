{
 "cells": [
  {
   "cell_type": "code",
   "execution_count": null,
   "id": "9d46aa58-dfcc-48b5-ba71-51b9028dc1f0",
   "metadata": {},
   "outputs": [],
   "source": []
  },
  {
   "cell_type": "markdown",
   "id": "e558c955-a2c4-4193-a697-b2cc7bba0385",
   "metadata": {},
   "source": [
    "---\n",
    "# Tranformées de Fourier existante seulement avec des distributions\n",
    "--- \n",
    "\n",
    "On a vu dans la S8 que l'impulsion de Dirac $\\delta_0$ pourrait être la transformée de la fonction constante $\\vec{c}$ qui n'est pourtant pas intégrable avec les fonctions usuelles ! \n",
    "\n",
    "Essayons de calculer la transformée inverse de $\\hat{C}= \\delta_0$. Rappelons-nous que $\\hat{C}(f)=<\\vec{c},\\vec{w_f}>$ est le coefficient de projection de $\\vec{c}$ sur l'onde complexe $w_f$ de fréquence $f$ de la base : $w_f=e^{i2\\pi.f.\\bullet}$. \n",
    "\n",
    "Donc pour reconstruire le signal temporel $\\vec{f}$ par transformée inverse $\\mathcal{F}^{-1}[\\hat{C}]$ on fait la somme des composantes associées à toutes les fréquences et donc à tous les vecteurs de la base :\n",
    "\n",
    "$\\mathcal{F}^{-1}[\\hat{C}](t) = \\int_{f\\in\\mathbb{R}} \\underbrace{\\hat{C}(f)}_{<\\vec{w_f},\\vec{f}>}.\\underbrace{e^{i2\\pi.f.t}}_{\\vec{w_f}}.df$ \n",
    "\n",
    "$\\mathcal{F}^{-1}[\\hat{C}](t) = \\int_{f\\in\\mathbb{R}} \\delta_0.e^{i2\\pi.f.t}.df$ \n",
    "\n",
    "L'intégrale du produit d'une fonction $f$ avec une impulsion de Dirac $\\delta_T$ centré en $T$ converge vers $f(T)$ : **le Dirac sous l'intégrale sert à sélectionner/mesurer une valeur de la fonction à un instant précis**. \n",
    "\n",
    "<iframe src=\"https://www.desmos.com/calculator/8jvcerh6gr?embed\" width=\"500\" height=\"500\" style=\"border: 1px solid #ccc\" frameborder=0></iframe>\n",
    "\n",
    "Allez sur [desmos intégrale avec Dirac](https://www.desmos.com/calculator/8jvcerh6gr) pour voir et manipuler l'animation du passage à la limite.   \n",
    "Allez sur [desmos Dirac dérivée de l'échelon](https://www.desmos.com/calculator/fr7rq8byok) pour se rappeller de la définition du Dirac.\n",
    "\n",
    "\n",
    "Par passage à la limite, l'aire d'une impulsion $h(t)$ (violette) de poids unitaire (aire violette = 1) devient multipliée localement par $f(T)$ (vert) pour donner l'aire du produit (orange) qui vaut $1.f(T)$ : **l'intégrale du produit avec $\\delta_T$ à mesuré $f$ à l'instant $T$**.\n",
    "\n",
    "La transformée inverse de $\\delta_0$ sélectionne, en intégrant sur tout les $f$, la valeur de l'onde pure $e^{i2\\pi.f.t}$ pour la fréquence $f=0$, car le Dirac est centré en 0 :\n",
    "\n",
    "$\\mathcal{F}^{-1}[\\hat{C}](t) = \\int_{f\\in\\mathbb{R}} \\delta_0.e^{i2\\pi.f.t}.df = e^{i2\\pi.0.t}$\n",
    "\n",
    "$\\mathcal{F}^{-1}[\\hat{C}](t) = e^{0} = 1 , \\forall t$\n",
    "\n",
    ">On peut ainsi sélectionner n'importe quelle onde pure de la base par un Dirac, ce qui donne :\n",
    "> - $\\delta_0$ transformée de Fourier de la fonction constante $w_0 := t \\mapsto 1$\n",
    "> - $\\delta_f$ transformée de Fourier de l'onde complexe $w_f := t \\mapsto e^{i2\\pi.f.t}$\n",
    "> - $\\frac{\\delta_f + \\delta_{-f}}{2}$ transformée de Fourier du cosinus $a_f := t \\mapsto \\cos(2\\pi.f.t)$\n",
    "> - $\\frac{\\delta_f - \\delta_{-f}}{2i}$ transformée de Fourier du sinus $b_f := t \\mapsto \\sin(2\\pi.f.t)$"
   ]
  }
 ],
 "metadata": {
  "kernelspec": {
   "display_name": "",
   "name": ""
  },
  "language_info": {
   "name": ""
  }
 },
 "nbformat": 4,
 "nbformat_minor": 5
}
