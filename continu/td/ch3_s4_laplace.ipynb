{
 "cells": [
  {
   "cell_type": "markdown",
   "metadata": {},
   "source": [
    "---\n",
    "# Transformée de Laplace\n",
    "---\n",
    "\n",
    "| Revenir à la [page déroulement](Readme.md) |\n",
    "|-------------|\n",
    "\n",
    "\n",
    "\n",
    "La transformée de Laplace est un opérateur : c'est une application linéaire qui transforme une application de $\\mathbb{R}\\mapsto \\mathbb{R} (ou \\;\\mathbb{C})$ (une fonction de la variable réelle : souvent le temps) en une application de $\\mathbb{C}\\mapsto\\mathbb{C}$ (fonction de la variable complexe : la variable de Laplace)\n",
    "\n",
    "On va privilégier l'utilisation de transformées connues (table page 47 du [poly](https://moodle.insa-toulouse.fr/mod/resource/view.php?id=24741#page=47)) et éviter le calcul direct avec la formule\n",
    "\n",
    "$L[f](p) = F(p) = \\int_{\\mathbb{R}} f(t).e^{-p.t}.dt$\n"
   ]
  },
  {
   "cell_type": "markdown",
   "metadata": {},
   "source": [
    "## À faire\n",
    "---\n",
    "\n",
    "* Exercice 1 (page 53 du [poly](https://moodle.insa-toulouse.fr/mod/resource/view.php?id=24741#page=53): sans calcul direct !\n",
    "    - d) Retrouver $L[u]$ en intégrant le Dirac, appliquer le théorème du retard pour avoir $L[u\\circ T_1]=L[t\\mapsto u(t-1)]$. Représenter le signal d) comme une somme de 4 échelons de Heavisides avec 4 retards différents. Par linéarité trouver cette transformée. VÉRIFIER en prenant des valeurs typiques de t. Réponse dans l'exemple page 47. \n",
    "    - e) Décomposer ce signal comme une somme de deux rampes avec des retards différents et d'un échelon $2.u(t-2)$. Retrouver la transformée de la rampe en intégrant un échelon et calculer la transformée avec les propriétés de linéarité et le théorème du retard.\n",
    "* Démontrer le théorème du retard. Pour cela utiliser la formule et faire un changement de la variable d'intégration en remplaçant t par $t-\\tau$. Voir la démo dans le poly 3.3.2 p43. \n",
    "* Faire le calcul direct de la transformée d'un sinus causal $sin(\\omega t).u(t)$, si vous n'y arrivez pas regarder l'exemple 2 du 3.4 p.46. Tracez l'allure du signal. Si vous n'y arrivez toujours pas, retrouvez la formule d'Euler du sinus (plan complexe) et essayer de décomposer en somme d'exponentielles causales qui figurent dans la table P.47 des transformées incontournables !\n",
    "* Exercice 1 : suite \n",
    "    - g) représenter le signal comme la somme de deux sinus causaux avec des retards différents. Utiliser la transformée du sinus causal trouvée auparavant ou dans la table p47 théorème du retard pour trouver la transformée.\n",
    "    -c) faites une décomposition IQ du cosinus déphasé, utilisez les résultats sur les cosinus et sinus causaux et la linéarité pour obtenir la transformée.\n",
    "* Utilisez le théorème de la translation en fréquence (3.3.4 p 44) pour trouver $L[t\\mapsto e^{- a t}.f(t)]$. Tenter le calcul direct (sera refait en séance).\n",
    "* Exercice 1 : suite\n",
    "    - b) Représenter cette fonction comme le retard de l'exponentielle causale $e^{- a t}.u(t)$ vue précédemment, mais avec un retard. Appliquer le fameux théorème à la transformée trouvée.\n",
    "    - a) Bidouiller l'exponentielle pour se ramener à b) et conclure.\n"
   ]
  },
  {
   "cell_type": "markdown",
   "metadata": {},
   "source": [
    "## En séance \n",
    "---\n",
    "\n",
    "* Retour sur l'exo 1\n",
    "* Calcul direct propre de $L[e^{-\\alpha t}.u(t)]$, explication des bornes et du lien entre causalité et transformée de Laplace unilatérale\n",
    "* Lien avec les systèmes et les signaux, la stabilité des systèmes et les pôles pour retrouver les formules sans faire appel à la mémoire. \n",
    "* Explication de la résolution d'une équa. diff. (exo 3) et de la méthode de calcul de transformée inverse par décomposition.\n"
   ]
  },
  {
   "cell_type": "markdown",
   "metadata": {},
   "source": [
    "## Vérification des décompositions avec Octave/Matlab\n",
    "\n",
    "Le code ci-dessous effectue une vérification de la décomposition en échelons de la fonction d).\n",
    "\n",
    "Vous pouvez vous en inspirer et exécuter ce code sur Matlab (payant), Octave (gratuit multiplateforme).\n",
    "Vous pouvez aller sur [octave-online](https://octave-online.net/) pour tenter des lignes d'octaves \"en ligne\" sans installation. "
   ]
  },
  {
   "cell_type": "code",
   "execution_count": 17,
   "metadata": {},
   "outputs": [
    {
     "data": {
      "image/png": "[encoded data removed]",
      "text/plain": [
       "<IPython.core.display.Image object>"
      ]
     },
     "metadata": {},
     "output_type": "display_data"
    }
   ],
   "source": [
    "t=-1:0.1:6;             % vecteur des temps de -1 à 6 par pas de 0,1\n",
    "\n",
    "% définition de l'échelon unité\n",
    "u = @(t) t>0 ;          %fonction de la variable t qui répond 1 si vrai, 0 sinon\n",
    "\n",
    "% définition de la fonction d)\n",
    "fonction_d = @(t) u(t)+u(t-1)+u(t-2)-3*u(t-3) ;  \n",
    "\n",
    "plot(t, fonction_d(t),'.-')\n",
    "title(\"Fonction d) Exo 1\")"
   ]
  }
 ],
 "metadata": {
  "interpreter": {
   "hash": "31f2aee4e71d21fbe5cf8b01ff0e069b9275f58929596ceb00d14d90e3e16cd6"
  },
  "kernelspec": {
   "display_name": "Octave",
   "language": "octave",
   "name": "octave"
  },
  "language_info": {
   "file_extension": ".m",
   "help_links": [
    {
     "text": "GNU Octave",
     "url": "https://www.gnu.org/software/octave/support.html"
    },
    {
     "text": "Octave Kernel",
     "url": "https://github.com/Calysto/octave_kernel"
    },
    {
     "text": "MetaKernel Magics",
     "url": "https://metakernel.readthedocs.io/en/latest/source/README.html"
    }
   ],
   "mimetype": "text/x-octave",
   "name": "octave",
   "version": "4.2.2"
  },
  "latex_envs": {
   "LaTeX_envs_menu_present": true,
   "autoclose": false,
   "autocomplete": true,
   "bibliofile": "biblio.bib",
   "cite_by": "apalike",
   "current_citInitial": 1,
   "eqLabelWithNumbers": true,
   "eqNumInitial": 1,
   "hotkeys": {
    "equation": "Ctrl-E",
    "itemize": "Ctrl-I"
   },
   "labels_anchors": false,
   "latex_user_defs": false,
   "report_style_numbering": false,
   "user_envs_cfg": false
  }
 },
 "nbformat": 4,
 "nbformat_minor": 2
}
