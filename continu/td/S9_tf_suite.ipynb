{
 "cells": [
  {
   "cell_type": "markdown",
   "metadata": {},
   "source": [
    "|[S8 - Transformées de Fourier](S8_transformees.ipynb) | Revenir à la [page déroulement](README.ipynb) |   [S10 - Convolution et Rip](S10_convolution_et_rip.ipynb) |\n",
    "|-------------|---|---|\n",
    "|Notebook  |  |  |\n",
    "---\n",
    "# S9 TF suite \n",
    "---\n"
   ]
  },
  {
   "cell_type": "markdown",
   "metadata": {},
   "source": [
    "\n",
    "## Exercice 1 suite et fin \n",
    "---\n",
    "\n",
    "Vous pouvez maintenant terminer l'exercice 1.1 et 1.2 [exercice 1.1 et 1.2  poly page 117](https://moodle.insa-toulouse.fr/mod/resource/view.php?id=24741#page=117)\n",
    "car vous connaissez maintenant la transformée d'un sinus et d'une fonction porte.\n",
    "\n",
    "Pour le 1.2 faites bien attention aux unités !\n",
    "  - pour les séries de Fourier, le coefficient est simplement l'amplitude de la composante. Ainsi la fonction constante d'amplitude 2 est un coefficient $a_0=2$ en volts par exemple \n",
    "  - pour les transformées il s'agit d'une **densité d'amplitude par fréquence**. La même fonction constante est représenté par un Dirac de poids $2$ certes, mais d'amplitude infinie en 0 !\n",
    "\n",
    "On peut voir la transformée de Fourrier comme un passage à la limite des séries de Fourier avec $T_0\\to+\\infty$ soit quand $f_0\\to0$, ainsi la décomposition donne :\n",
    "\n",
    "$s(t)=\\sum c(n).e^{i2\\pi.n.f_0.t} \\underset{f_0\\to0}{\\rightarrow} s(t) = \\int C(f).e^{i2\\pi.f.t} df$\n",
    "\n",
    "On voit qu'une amplitude $c(n)$ volt associé à une fréquence $n.f_0=f$ dans une série, devient dans une transformée homogène à $C(f).df$ en volts. Donc une transformée est homogène à des Volts par Hertz.\n",
    "\n",
    "> **La probabilité discrète d'un jet de dé est à la série de Fourier ce que la densité de probabilité d'une variable continue est à la transformée de Fourier**  "
   ]
  },
  {
   "cell_type": "markdown",
   "metadata": {},
   "source": [
    "\n",
    "## Exercice 3\n",
    "---\n",
    "Ne faites pas l'[exo 3 poly page 118](https://moodle.insa-toulouse.fr/mod/resource/view.php?id=24741#page=118) dans l'ordre et changez légèrement le signal e) pour avoir celui du TP  !\n",
    "\n",
    "\n",
    "- e) **Ne prenez pas le signal du sujet, mais celui du TP1 ci-dessous !** C'est similaire et ce sera plus utile en TP. \n",
    "  \n",
    "  <img src=\"images/fonction_g_tp1.png\" width=200pt>\n",
    "\n",
    "  Remarquez bien que le signal périodique n'a pas de TF, vous prendrez le signal ci-dessus sous forme d'impulsion nulle en dehors de la période.\n",
    "\n",
    "  Pas de calcul direct, essayez de décomposer en somme :\n",
    "  - au lieu d'utiliser des échelons (utiles avec Laplace), essayez de voir une somme de fonctions portes retardées (pratique avec Fourier) et utilisez le théorème du retard (le même qu'avec Laplace en remplaçant $p$ par $j2\\pi f$ puisque la TF existe)\n",
    "  - dans $\\hat{G}(f=\\frac{\\omega}{2\\pi})$, l'expression $e^{-j\\frac{T_0}{4}\\omega}-e^{\\frac{3T_0}{4}\\omega}$ fait penser à la forme d'Euler d'un sinus. Jetez un œil à [technique de l'arc-moitié](S7_sdf_suite.ipynb#Technique-de-l'arc-moiti%C3%A9e). Et faites apparaître un sinus en produit avec le sinus cardinal.\n",
    "  - l'expression $A\\tau.\\text{sinc}(\\omega\\frac{\\tau}{2}). 2i.\\sin(\\frac{T_0}{4}\\omega).e^{-i\\frac{T_0}{2}\\omega}$ est complexe :\n",
    "      * c(n) pas tous réels $\\implies$ temporel pas pair\n",
    "      * c(n) pas tous imaginaires $\\implies$ temporel pas impair\n",
    "      * au moins un c(n) complexe $\\implies$ le signal temporel est de parité quelconque.\n",
    "    Vérifiez que la parité est bien quelconque\n",
    "  - Seule l'exponentielle $e^{-i\\frac{T_0}{2}\\omega}$ est complexe (le reste est imaginaire pur) et $e^{-i\\frac{T_0}{2}\\omega}$ fait penser au théorème du retard !   \n",
    "    * Cherchez un retard/avance qui transformerait cette exponentielle en réel pur pour obtenir une transformée imaginaire pure. Le signal est donc rendu impair par ce retard : c'est une forme de vérification.\n",
    "    * on peut chercher un retard/avance qui transforme $e^{-i\\frac{T_0}{2}\\omega}$ en $i=e^{i.\\frac{\\pi}{2}}$ et rend les c(n) tous réels (donc $g$ paire). Mais cela n'est pas possible $\\forall \\omega$ : donc aucun retard/avance ne peut rendre $g$ paire : encore une vérification !\n",
    "  - Vérifiez que les unités des exponentielles et que celle de $\\hat{G}(f)$ est bien  [V/Hz] = [V.s] car $\\hat{G}(f)$ est une densité d'amplitude en fonction des fréquences.\n",
    "  - Vérifiez que $\\hat{G}(0)=$ surface et que $|\\hat{G}(f)|\\to 0$ quand $f$ tends vers $\\pm\\infty$\n",
    "  - Vérifiez la propriété de Hilbert : $g(t)\\in\\mathbb{R},\\forall t \\implies \\hat{G}(f) = \\overline{\\hat{G}(-f)},\\forall f$   \n",
    "\n",
    "Pour le TP vous passerez de la TF aux séries en suivant les instruction du travail préparatoire sur [prépa TP1](../tp/TP1.ipynb#Deuxi%C3%A8me-signal-$g$)"
   ]
  },
  {
   "cell_type": "markdown",
   "metadata": {
    "tags": []
   },
   "source": [
    "        \n",
    "- a) La fonction $\\Pi_{T_0}$ est bien $\\Pi_{[-T_0/2, T_0/2]}$. C'est un produit de fonctions connues et pas une somme donc pas si simple !\n",
    "  - on peut y voir une somme de cosinus causaux avec Laplace puis passer à la TF (c'est le plus facile)\n",
    "  - on ne fera pas le calcul direct un peu crade (passer par Euler)\n",
    "  - on fera plus tard la décomposition en produit, car $\\mathcal{F}[f.g]=\\mathcal{F}[f]\\star \\mathcal{F}[g]$ où $\\star$ est un **produit de convolution**. En général ces produits sont complexes à calculer, mais là on convolue avec un Dirac et cela est très facile : on décale la fonction autour du Dirac. Le calcul est simple et faisable\n",
    "  - vérification de parité, là on doit avoir un spectre qui tends vers 0 à l'infini.\n",
    "  \n"
   ]
  },
  {
   "cell_type": "markdown",
   "metadata": {},
   "source": [
    "## Exercice 3 suite\n",
    "- b) Attention Dirac :\n",
    "    - Faire le calcul direct et l'effet de sélection/mesure d'un Dirac sous l'intégrale [TF2 : Dirac](TF2_Dirac.ipynb).\n",
    "    - Par dual : Revoir l'[TF3-B : utilisation simple de la dualité](TF3_Dualite.ipynb#B) et tout se fait **Sans calcul !** conaissant la TF de la fonction constante et du cosinus [TF2_Dirac](TF2_Dirac.ipynb).\n",
    "    - vérifier la relation parité/fonction réelle\n",
    "    - **la transformée ne tend pas vers 0 et c'est normal !** car la transformée d'un cosinus  n'existe pas ou alors avec un Dirac... \n",
    "    - bien vérifier les dimensions, car erreurs courantes de confusion temps fréquence avec les duaux. \n",
    "- c) Attention pas de théorème de changement d'échelle avec les Diracs. Même formule, pas de piège.\n",
    "\n"
   ]
  },
  {
   "cell_type": "markdown",
   "metadata": {},
   "source": [
    "\n",
    "## Exercice 3 suite et fin\n",
    "\n",
    "- d) On reconnait l'exponentielle causale multipliée par $t$. On se rappelle que multiplier par $p$ revient à faire une dérivée dans le temps. Par dualité on doit avoir une formule qui dit \"multiplier par $t$, c'est dériver la TF. Il y a toujours un changement de signe dans la dualité (voir [TF3-C : application de la dualité aux propriétés](TF3_Dualite.ipynb#C)).\n",
    " - Trouvez la formule dans le poly ou sur internet et utilisez-la\n",
    " - Ecrivez le théorème de la dérivée, et poursuivez ensuite la boucle des transformations   \n",
    " $s'(\\bullet)=\\frac{d}{d\\bullet}s(\\bullet) \\quad\\overset{\\mathcal{F}}{\\rightarrow}\\quad \\overbrace{i2\\pi\\bullet}^{p}.\\hat{S}(\\bullet)\\quad\\overset{\\mathcal{F}}{\\rightarrow}\\quad s'(-\\bullet) \\quad\\overset{\\mathcal{F}}{\\rightarrow}\\quad -i2\\pi\\bullet.\\hat{S}(-\\bullet)\\quad\\overset{\\mathcal{F}}{\\rightarrow}\\quad s'(\\bullet) \\quad \\overset{\\mathcal{F}}{\\rightarrow} \\ldots$ \n",
    "    \n",
    " - Remplacez $\\hat{S}$ par une fonction $g$ dans la boucle ci-dessus et utilisez les boucles ci-dessous pour **ne pas faire d'erreur de signe** et trouver les remplacements   \n",
    " $\\ldots \\quad\\overset{\\mathcal{F}}{\\rightarrow}\\quad s(\\bullet) \\quad\\overset{\\mathcal{F}}{\\rightarrow}\\quad \\hat{S}(\\bullet)\\quad\\overset{\\mathcal{F}}{\\rightarrow}\\quad s(-\\bullet)\\quad\\overset{\\mathcal{F}}{\\rightarrow}\\quad \\hat{S}(-\\bullet)\\quad\\overset{\\mathcal{F}}{\\rightarrow}\\quad s(\\bullet) \\quad\\overset{\\mathcal{F}}{\\rightarrow}\\quad \\ldots$   \n",
    " $\\ldots \\quad\\overset{\\mathcal{F}}{\\rightarrow}\\quad \\;\\;\\ldots \\quad\\overset{\\mathcal{F}}{\\rightarrow}\\quad g(\\bullet)\\quad\\overset{\\mathcal{F}}{\\rightarrow}\\quad \\hat{G}(\\bullet)\\quad\\overset{\\mathcal{F}}{\\rightarrow}\\quad g(-\\bullet)\\quad\\overset{\\mathcal{F}}{\\rightarrow}\\quad \\hat{G}(-\\bullet) \\quad\\overset{\\mathcal{F}}{\\rightarrow}\\quad \\ldots$   \n",
    " - Vous obtenez le dual du théorème de la dérivée qui est celui de la multiplication par la variable (ou dérivée fréquentielle)    \n",
    " $\\overbrace{i2\\pi\\bullet}^{p}.g(\\bullet)\\quad\\overset{\\mathcal{F}}{\\rightarrow}\\quad \\frac{d}{d-\\bullet}\\hat{G}(\\bullet) = -\\hat{G}'(\\bullet) $  \n",
    " et donc  \n",
    "$\\bullet.g(\\bullet)\\quad\\overset{\\mathcal{F}}{\\rightarrow}\\quad  = \\frac{-\\hat{G}'(\\bullet)}{i2\\pi} = \\frac{i.\\hat{G}'(\\bullet)}{2\\pi}$\n",
    "\n",
    "**Attention la dérivée de $\\hat{G}$ est bien par rapport à se variable $f$ (et non $\\omega$) ce qui fait apparaître un $2\\pi$**. On trouve des formules où la variable est $\\omega$ sans le $2\\pi$.\n"
   ]
  },
  {
   "cell_type": "markdown",
   "metadata": {},
   "source": []
  }
 ],
 "metadata": {
  "kernelspec": {
   "display_name": "Python 3 (ipykernel)",
   "language": "python",
   "name": "python3"
  },
  "language_info": {
   "codemirror_mode": {
    "name": "ipython",
    "version": 3
   },
   "file_extension": ".py",
   "mimetype": "text/x-python",
   "name": "python",
   "nbconvert_exporter": "python",
   "pygments_lexer": "ipython3",
   "version": "3.8.5"
  },
  "latex_envs": {
   "LaTeX_envs_menu_present": true,
   "autoclose": false,
   "autocomplete": true,
   "bibliofile": "biblio.bib",
   "cite_by": "apalike",
   "current_citInitial": 1,
   "eqLabelWithNumbers": true,
   "eqNumInitial": 1,
   "hotkeys": {
    "equation": "Ctrl-E",
    "itemize": "Ctrl-I"
   },
   "labels_anchors": false,
   "latex_user_defs": false,
   "report_style_numbering": false,
   "user_envs_cfg": false
  }
 },
 "nbformat": 4,
 "nbformat_minor": 4
}
