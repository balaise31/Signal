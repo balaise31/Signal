{
 "cells": [
  {
   "cell_type": "markdown",
   "metadata": {},
   "source": [
    "|--- | Revenir à la [page déroulement](README.ipynb) | [S2 phaseurs](S2_phaseurs.ipynb)|\n",
    "|-------------|---|---|\n",
    "\n",
    "---\n",
    "# S1 - Signaux de base \n",
    "---\n",
    "\n"
   ]
  },
  {
   "cell_type": "markdown",
   "metadata": {},
   "source": [
    "## Préparation ou plutôt réparation :-) \n",
    "---\n",
    "\n",
    "Voir les signaux de base, l'échelon unité, le Dirac et ses intégrales [SYS1 : signaux de base](notebooks/SYS1_signaux_de_base.ipynb)"
   ]
  },
  {
   "cell_type": "markdown",
   "metadata": {},
   "source": [
    "## En séance 1\n",
    "---\n",
    "\n",
    "Allez dans le [SYS2 : Bac à sable](notebooks/SYS2_bac_a_sable.ipynb) pour essayer vos formules et les visualiser avec Octave pour savoir si c'est bon. Vous y ferrez :\n",
    "- Décomposition en escalier  avec [Ch3-Ex1-d](https://moodle.insa-toulouse.fr/mod/resource/view.php?id=24741#page=53). Regarder le [l'exemple de fig2.3 du poly](https://moodle.insa-toulouse.fr/mod/resource/view.php?id=24741#subsection.2.5.2) et s'en inspirer pour trouver l'expression du signal d).\n",
    "- Décomposition en rampes avec [Ch2-Ex2.1-b](https://moodle.insa-toulouse.fr/mod/resource/view.php?id=24741#page=35) **sans le dirac** encore.\n",
    "- Décomposition mixte en rampes + discontinuités avec échelon. Là on peut faire les signaux [Ch3-Ex1-e](https://moodle.insa-toulouse.fr/mod/resource/view.php?id=24741#page=53) et [Ch2-Ex2.1-a et c](https://moodle.insa-toulouse.fr/mod/resource/view.php?id=24741#page=35). Pour le signal (c) ne pas hésiter à ajouter une constante 2 soit la fonction $t\\mapsto 2$."
   ]
  },
  {
   "cell_type": "markdown",
   "metadata": {},
   "source": [
    "## Pour les balèses\n",
    "\n",
    "\n",
    "- Dériver une discontinuité -> Dirac  : une autre manière d'aborder l'exo Ch3-Ex1-e par **la face nord** ! C'est dans [fin du SYS2 : Bac à sable](notebooks/SYS2_bac_a_sable.ipynb#Dérivées-de-discontinuités)\n",
    "- Revoir le [SYS1 : signaux de base](notebooks/SYS1_signaux_de_base.ipynb) et proposer pour chaque signaux leurs transformées de Laplace. L'opérateur dérivée est $p$ , la transformée du dirac est $1$, et le retard d'un temps $\\tau$ c'est le système $e^{-\\tau.p}$.  \n",
    "\n",
    "> Par exemple le signal $y = u(\\bullet-2)$ est :  \n",
    "> - l'intégrale de $\\delta_0$ que l'on retarde ensuite de 2s : soit $Y(p) = 1.\\frac{1}{p}.e^{-2.p}$  \n",
    "> - Le dirac retardé de deux seconde puis que l'on intègre : soit $Y(p) = 1.e^{-2.p}.\\frac{1}{p}$"
   ]
  },
  {
   "cell_type": "markdown",
   "metadata": {},
   "source": [
    "# Préparation de la séance 2\n",
    "\n",
    "\n",
    "> **Ne pas oublier de préparer la séance 2 : Vous pouvez naviguer en haut de cette page !**"
   ]
  },
  {
   "cell_type": "code",
   "execution_count": null,
   "metadata": {},
   "outputs": [],
   "source": []
  }
 ],
 "metadata": {
  "kernelspec": {
   "display_name": "Octave",
   "language": "octave",
   "name": "octave"
  },
  "language_info": {
   "file_extension": ".m",
   "help_links": [
    {
     "text": "GNU Octave",
     "url": "https://www.gnu.org/software/octave/support.html"
    },
    {
     "text": "Octave Kernel",
     "url": "https://github.com/Calysto/octave_kernel"
    },
    {
     "text": "MetaKernel Magics",
     "url": "https://metakernel.readthedocs.io/en/latest/source/README.html"
    }
   ],
   "mimetype": "text/x-octave",
   "name": "octave",
   "version": "5.2.0"
  },
  "latex_envs": {
   "LaTeX_envs_menu_present": true,
   "autoclose": false,
   "autocomplete": true,
   "bibliofile": "biblio.bib",
   "cite_by": "apalike",
   "current_citInitial": 1,
   "eqLabelWithNumbers": true,
   "eqNumInitial": 1,
   "hotkeys": {
    "equation": "Ctrl-E",
    "itemize": "Ctrl-I"
   },
   "labels_anchors": false,
   "latex_user_defs": false,
   "report_style_numbering": false,
   "user_envs_cfg": false
  }
 },
 "nbformat": 4,
 "nbformat_minor": 4
}
