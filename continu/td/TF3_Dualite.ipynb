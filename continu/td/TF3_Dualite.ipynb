{
 "cells": [
  {
   "cell_type": "markdown",
   "id": "3d76df9b-b221-48ac-a5a5-b1655b53c86a",
   "metadata": {},
   "source": [
    " - [A](#A) Dualité\n",
    " - [B](#B) Utilisation simple\n",
    " - [C](#C) Utilisation sur des propriétés\n",
    "   "
   ]
  },
  {
   "cell_type": "markdown",
   "id": "c1eccd6d-2df4-4b75-ae06-12d5266c16bf",
   "metadata": {
    "jp-MarkdownHeadingCollapsed": true
   },
   "source": [
    "# A \n",
    "Dualité\n",
    "---\n",
    "\n",
    "Pensez la dualité (l'idée que si j'applique un opérateur une seconde fois : je reviens au primal) ! \n",
    " - on ne peut pas le faire avec Laplace qui transforme $f:\\;\\mathbb{R}\\to\\mathbb{C}$ en $F:\\;\\mathbb{C}\\to\\mathbb{C}$ donc impossible d'appliquer à $F$ une seconde fois la transformée de Laplace ;\n",
    " - on ne peut pas le faire avec les SdF qui transforment une fonction périodique $f:\\; [0, T_0]_p\\to \\mathbb{C}$ en série $C_f:\\;\\mathbb{Z}\\to\\mathbb{C}$ ;\n",
    " - **on peut le faire avec les TF,** car elle transforme $f:\\;\\mathbb{R}\\to\\mathbb{C}$ en $\\hat{F}:\\;\\mathbb{R}\\to\\mathbb{C}$. On peut donc calculer la transformée d'une transformée et espérer revenir sur la même fonction ! \n",
    "  \n",
    "  C'est le cas de la fonction porte et du sinus cardinal qui sont duales, ce qu'illustre l'animation ci-dessous :\n",
    "\n",
    "<img src=gifs/anim_tf_rectangle_dual.gif width=400>\n",
    "\n",
    "Mais attention ! **On a $\\mathcal{F}[\\mathcal{F}[s(\\bullet)]]= s(-\\bullet) \\neq s(\\bullet)$**. Dans l'exemple de la fonction porte, cela fonctione car la fonction est paire ($f(\\bullet)=f(-\\bullet)$). \n",
    "\n",
    "On retrouve facilement, et astucieusement, ce résultat en calculant :\n",
    "\n",
    "$\\mathcal{F}[s(-\\bullet)]: s \\mapsto \\int_{\\mathbb{R}} s(-t).\\overline{e^{i2\\pi.f.t}}.dt\\quad \\overset{x=-t}{=}\\quad \\int_{\\mathbb{R}} s(x).e^{i2\\pi.f.x}.dx \\quad = \\mathcal{F}^{-1}[s]$\n",
    "\n",
    "On reconnait la transformée inverse $\\mathcal{F}^{-1}[s]$ et donc, en notant l'opérateur $S_y : f(\\bullet)\\mapsto f(-\\bullet)$ l'opérateur qui construit la fonction antipodale par symétrie selon l'axe des ordonnées (axe y), on obtient la relation :\n",
    "\n",
    "$\\mathcal{F}[S_y[s]]=\\mathcal{F}^{-1}[s]\\quad$ soit en terme d'opérateurs $\\mathcal{F}\\circ S_y = \\mathcal{F}^{-1}$ (relation notée en vert dans le schéma ci-dessous) pour toutes fonctions !\n",
    "\n",
    "<img src=../../discret/poly/dessins/dualite_4.png width=200>\n",
    "\n",
    "En remarquant que $S_y^{-1}=S_y$ (dualité de $s(\\bullet)$ et $f=s(-\\bullet)$ par l'opérateur $S_y$), on peut appliquer le résultat ci-dessus :\n",
    "- à une fonction $s\\quad$ (flêches vertes) \n",
    "- à la fonction $s(-\\bullet)\\quad$ (relation rose)\n",
    "- puis à $\\hat{S}\\quad$ (relation orange)\n",
    "- et à $\\hat{S}(-\\bullet)\\quad$ (cyan)\n",
    "\n",
    "\n",
    ">La transformée de Fourier est biduale (car $S_y=\\mathcal{F}^2=\\mathcal{F}\\circ\\mathcal{F}=\\mathcal{F}[\\mathcal{F}[\\bullet]]$ est duale) et donc :\n",
    " \n",
    ">$\\mathcal{F}^2 = S_y\\quad \\iff \\quad \\mathcal{F}^2[s(\\bullet)] = s(-\\bullet)\\quad$ duale de $s$ par $S_y$\n",
    " \n",
    ">$\\mathcal{F}^2\\circ S_y = I_D\\quad \\iff \\mathcal{F}^2[s(-\\bullet)] = s(\\bullet)\\quad$ retour à la primale : **l'antipodale de l'antipodale**\n",
    "\n",
    ">$\\mathcal{F}^4 = I_D \\quad \\iff \\quad \\mathcal{F}^4[s(\\bullet)] = s(\\bullet)\\quad$\n",
    "\n",
    ">$\\mathcal{F}^{-1} = \\mathcal{F}^3 = \\mathcal{F}\\circ S_y = S_y\\circ\\mathcal{F} $\n",
    "\n",
    "> Et finalement on résume avec une boucle de transformations :\n",
    "\n",
    "> $\\ldots \\quad\\overset{\\mathcal{F}}{\\rightarrow}\\quad s(\\bullet) \\quad\\overset{\\mathcal{F}}{\\rightarrow}\\quad \\hat{S}(\\bullet)\\quad\\overset{\\mathcal{F}}{\\rightarrow}\\quad s(-\\bullet)\\quad\\overset{\\mathcal{F}}{\\rightarrow}\\quad \\hat{S}(-\\bullet)\\quad\\overset{\\mathcal{F}}{\\rightarrow}\\quad s(\\bullet) \\quad\\overset{\\mathcal{F}}{\\rightarrow}\\quad \\ldots$\n",
    "\n"
   ]
  },
  {
   "cell_type": "markdown",
   "id": "f243ac7f-8034-4858-9b27-17ca475baf73",
   "metadata": {},
   "source": [
    "# B\n",
    "Utilisation simple de la dualité \n",
    "---\n",
    "Lorsque l'on connaît une transformée d'une fonction (par exemple porte se transforme en sinus cardinal), on connait alors aussi la transformée du dual (on déduit que transformée du sinus cardinal est une porte antipodale soit une porte).\n",
    "\n",
    "Complétez la table ci-dessous (les deux premières font l'exo 3.b et 3.c) par dualité en utilisant la chaine de transformées :\n",
    "\n",
    "$\\ldots\\quad\\overset{\\mathcal{F}}{\\rightarrow}\\quad s(\\bullet)\\quad\\overset{\\mathcal{F}}{\\rightarrow}\\quad \\hat{S}(\\bullet)\\quad\\overset{\\mathcal{F}}{\\rightarrow}\\quad s(-\\bullet)\\quad\\overset{\\mathcal{F}}{\\rightarrow}\\quad \\hat{S}(-\\bullet)\\quad\\overset{\\mathcal{F}}{\\rightarrow}\\quad s(\\bullet) \\quad\\overset{\\mathcal{F}}{\\rightarrow}\\quad \\ldots$\n",
    "\n",
    "Fonctions paires : \n",
    "\n",
    "\n",
    "$\\ldots \\quad\\overset{\\mathcal{F}}{\\rightarrow}\\quad s: t\\mapsto 1 \\quad\\overset{\\mathcal{F}}{\\rightarrow}\\quad \\delta_0 \\quad\\overset{\\mathcal{F}}{\\rightarrow}\\quad s(-\\bullet)=\\ldots \\quad\\overset{\\mathcal{F}}{\\rightarrow}\\quad \\hat{S}(-\\bullet) = \\ldots \\quad\\overset{\\mathcal{F}}{\\rightarrow}\\quad \\ldots$\n",
    "\n",
    "$\\ldots \\quad\\overset{\\mathcal{F}}{\\rightarrow}\\quad s=\\cos\\left(2\\pi.f_0.\\bullet\\right) \\quad\\overset{\\mathcal{F}}{\\rightarrow}\\quad \\frac{\\delta_{f_0}+\\delta_{-f_0}}{2}(\\bullet)\\quad\\overset{\\mathcal{F}}{\\rightarrow}\\quad s(-\\bullet)=\\ldots \\quad\\overset{\\mathcal{F}}{\\rightarrow}\\quad \\hat{S}(-\\bullet) = \\ldots \\quad\\overset{\\mathcal{F}}{\\rightarrow}\\quad \\ldots$\n",
    "\n",
    "$\\ldots \\quad\\overset{\\mathcal{F}}{\\rightarrow}\\quad s=\\Pi_L \\quad\\overset{\\mathcal{F}}{\\rightarrow}\\quad L . \\textrm{sinc}(2\\pi \\bullet \\frac{L}{2})\\quad\\overset{\\mathcal{F}}{\\rightarrow}\\quad s(-\\bullet)=\\ldots \\quad\\overset{\\mathcal{F}}{\\rightarrow}\\quad \\hat{S}(-\\bullet) = \\ldots \\quad\\overset{\\mathcal{F}}{\\rightarrow}\\quad \\ldots$\n",
    "\n",
    "Fonctions impaires : \n",
    "\n",
    "\n",
    "$\\ldots \\quad\\overset{\\mathcal{F}}{\\rightarrow}\\quad \\sin\\left(2\\pi.f_0.\\bullet\\right) \\quad\\overset{\\mathcal{F}}{\\rightarrow}\\quad \\frac{\\delta_{f_0}-\\delta_{-f_0}}{2i}(\\bullet)\\quad\\overset{\\mathcal{F}}{\\rightarrow}\\quad s(-\\bullet)=\\ldots \\quad\\overset{\\mathcal{F}}{\\rightarrow}\\quad \\hat{S}(-\\bullet) = \\ldots \\quad\\overset{\\mathcal{F}}{\\rightarrow}\\quad \\ldots$\n",
    "\n",
    "Fonctions quelconques :\n",
    "\n",
    "$\\ldots \\quad\\overset{\\mathcal{F}}{\\rightarrow}\\quad e_a: t\\mapsto e^{-at}.u(t) \\quad\\overset{\\mathcal{F}}{\\rightarrow}\\quad \\frac{\\omega}{2\\pi} \\mapsto  \\frac{1}{j\\omega + a} := f\\mapsto \\frac{1}{j 2\\pi f + a}\\quad\\overset{\\mathcal{F}}{\\rightarrow}\\quad s(-\\bullet)=\\ldots \\quad\\overset{\\mathcal{F}}{\\rightarrow}\\quad \\hat{S}(-\\bullet) = \\ldots \\quad\\overset{\\mathcal{F}}{\\rightarrow}\\quad \\ldots$\n",
    "\n",
    "\n",
    "  "
   ]
  },
  {
   "cell_type": "markdown",
   "id": "cb78df86-18e2-43ad-a36a-92cba700addb",
   "metadata": {},
   "source": [
    "# C\n",
    "Utilisation de la dualité sur des propriétés\n",
    "---\n",
    "\n",
    "Si l'on prend une propriété (théorème du retard, dérivation), on peut par dual trouver d'autres propriétés duales (théorème de la modulation, multiplication par la variable). Pour cela, il suffit de continuer la chaîne des transformées.\n",
    "\n",
    "Pour le théorème du retard : $s(\\bullet-\\tau) \\overset{\\mathcal{F}}{\\rightarrow} e^{-\\tau.\\overbrace{i2\\pi.\\bullet}^{p}}\\hat{S}(\\bullet)\\quad$.\n",
    "\n",
    "La transformée $\\hat{S}$ est d'habitude une fonction de la fréquence ($\\bullet \\equiv f$), on la considère maintenant comme une fonction temporelle $g(\\bullet)=\\hat{S}(\\bullet)$. On obtient la correspondance avec les boucles de transformations\n",
    "\n",
    "$\\ldots \\quad\\overset{\\mathcal{F}}{\\rightarrow}\\quad s(\\bullet)\\quad\\overset{\\mathcal{F}}{\\rightarrow}\\quad \\hat{S}(\\bullet)\\quad\\overset{\\mathcal{F}}{\\rightarrow}\\quad s(-\\bullet)\\quad\\overset{\\mathcal{F}}{\\rightarrow}\\quad \\hat{S}(-\\bullet)\\quad\\overset{\\mathcal{F}}{\\rightarrow}\\quad s(\\bullet) \\quad\\overset{\\mathcal{F}}{\\rightarrow}\\quad \\ldots$\n",
    "\n",
    "$\\ldots \\quad\\overset{\\mathcal{F}}{\\rightarrow}\\quad \\;\\;\\ldots\\quad\\overset{\\mathcal{F}}{\\rightarrow}\\quad g(\\bullet)\\quad\\overset{\\mathcal{F}}{\\rightarrow}\\quad \\hat{G}(\\bullet)\\quad\\overset{\\mathcal{F}}{\\rightarrow}\\quad g(-\\bullet)\\quad\\overset{\\mathcal{F}}{\\rightarrow}\\quad \\hat{G}(-\\bullet) \\quad\\overset{\\mathcal{F}}{\\rightarrow}\\quad \\ldots$\n",
    "\n",
    "\n",
    "On écrit la boucle du théorème avec $s$ et dessous le même avec $g$ en remplaçant (**attention aux signes !**) $\\hat{S}$ par $g$ ; $s$ par $\\hat{G}(-\\bullet)$, etc comme vue au dessus. Ce qui donne dans la boucle du Théorême :\n",
    "\n",
    "$s(\\bullet-\\tau) \\quad\\overset{\\mathcal{F}}{\\rightarrow}\\quad e^{-\\tau.\\overbrace{i2\\pi.\\bullet}^{p}}\\hat{S}(\\bullet)\\quad\\overset{\\mathcal{F}}{\\rightarrow}\\quad s(-\\bullet-\\tau)\\quad\\overset{\\mathcal{F}}{\\rightarrow}\\quad e^{\\tau.\\overbrace{i2\\pi.\\bullet}^{p}} \\hat{S}(-\\bullet)\\quad\\overset{\\mathcal{F}}{\\rightarrow}\\quad s(\\bullet-\\tau) \\quad \\overset{\\mathcal{F}}{\\rightarrow} \\ldots$ \n",
    "\n",
    "$\\ldots \\;\\quad\\quad\\quad\\overset{\\mathcal{F}}{\\rightarrow}\\quad e^{-\\tau.\\overbrace{i2\\pi.\\bullet}^{p}}g(\\bullet)\\quad\\overset{\\mathcal{F}}{\\rightarrow}\\quad \\hat{G}(\\bullet+\\tau)\\;\\;\\quad\\overset{\\mathcal{F}}{\\rightarrow}\\quad e^{\\tau.\\overbrace{i2\\pi.\\bullet}^{p}} g(-\\bullet)\\quad\\overset{\\mathcal{F}}{\\rightarrow}\\quad \\hat{G}(\\tau-\\bullet) \\quad\\overset{\\mathcal{F}}{\\rightarrow} \\ldots$ \n",
    "\n",
    "Le théorème du retard avec son paramètre temporel $\\tau$ devient le théorème de la modulation avec son paramètre fréquenciel $\\omega_m\\leftrightarrow 2\\pi\\tau$ (non homogène par dualité), ce qui donne bien :\n",
    "\n",
    "$\\ldots \\quad\\overset{\\mathcal{F}}{\\rightarrow}\\quad e^{- i\\omega_m.\\bullet}g(\\bullet)\\quad\\overset{\\mathcal{F}} {\\rightarrow}\\quad \\hat{G}(\\bullet+\\omega_m)\\ldots$\n"
   ]
  },
  {
   "cell_type": "code",
   "execution_count": null,
   "id": "09ff4e51-88c5-431a-9539-f9ccb4cd1630",
   "metadata": {},
   "outputs": [],
   "source": []
  }
 ],
 "metadata": {
  "kernelspec": {
   "display_name": "Octave",
   "language": "octave",
   "name": "octave"
  },
  "language_info": {
   "file_extension": ".m",
   "help_links": [
    {
     "text": "GNU Octave",
     "url": "https://www.gnu.org/software/octave/support.html"
    },
    {
     "text": "Octave Kernel",
     "url": "https://github.com/Calysto/octave_kernel"
    },
    {
     "text": "MetaKernel Magics",
     "url": "https://metakernel.readthedocs.io/en/latest/source/README.html"
    }
   ],
   "mimetype": "text/x-octave",
   "name": "octave",
   "version": "4.2.2"
  }
 },
 "nbformat": 4,
 "nbformat_minor": 5
}
