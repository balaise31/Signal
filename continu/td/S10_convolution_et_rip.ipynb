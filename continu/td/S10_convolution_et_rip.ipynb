{
 "cells": [
  {
   "cell_type": "markdown",
   "metadata": {
    "tags": []
   },
   "source": [
    "|[S9 - TF suite](S9_tf_suite.ipynb) | Revenir à la [page déroulement](README.ipynb) |  |\n",
    "|-------------|---|---|\n",
    "|Notebook  | | |\n",
    "\n",
    "---\n",
    "# S10 - Convolution et Rip\n",
    "---\n"
   ]
  },
  {
   "cell_type": "markdown",
   "metadata": {},
   "source": [
    "Il est naturel de se rassurer en calculant directement un produit de convolution ce qui est fait dans la suite.\n",
    "\n",
    "Mais auparavent il peut être utile de se rappeller que la convolution $f\\star h$ n'est rien d'autre que le filtrage du signal $f$ par un système $H$ de réponse impulsionnelle (RIp) $h$.   \n",
    "\n",
    "Ceci est détaillé dans la vision [Convolution = sortie d'un système LTI](#Convolution-=-sortie-d'un-syst%C3%A8me-LTI).\n",
    "\n",
    "> Ainsi Le premier exercice qui consiste à calculer la convolution $u\\star u$ se fait **sans calcul** en se demandant:      \n",
    "> Quel est le système de RIp u : qui transforme un Dirac en échelon ?   \n",
    "> Quelle est la sortie de ce système pour une entrée de forme échelon ?\n",
    "\n",
    "Et hop ! On trouve que $u\\star{}u=r$ sans aucun calcul (qui n'est pas sans piège d'ailleurs)\n",
    "\n",
    "De plus cette vision permet de retrouver et d'expliquer la formule de la convolution. Car on peut décomposer un signal sous forme d'impulsions à différents instants et dire que \n",
    "> la réponse à une somme d'impulsions en entrée est la somme des réponses impulsionnelles.\n",
    "\n",
    "C'est expliqué dans la vision [Convolution = somme de réponses](#Convolution-=-somme-de-r%C3%A9ponses).\n",
    "\n"
   ]
  },
  {
   "cell_type": "markdown",
   "metadata": {
    "tags": []
   },
   "source": [
    "---\n",
    "# Calcul direct\n",
    "---\n",
    "\n",
    "On vera plus tard comment éviter ces calculs. Essayez de suivre ces quelques indications pour comprendre la technique, mais il est **inutile et abrutissant de toutes les faires ainsi !**\n",
    "\n",
    "  - Tentez de faire quelques exercices avec les indications (à la suite du tableau) \n",
    "  - Puis, pour voir si vous avez bien compris, regardez le/les corrigés du tableau pour voir si vous avez raté des visions simples, des vérifications à faire etc.\n",
    "\n",
    "Exercice | Corrigé manuscrit | Vidéos playlist  Signal de 0xACC0\n",
    "---|---|---\n",
    "Exo 2 | [Chap7. Exo. 2](pdfs/chap7_exo2.pdf) | [Exo 2 a) calcul direct](https://youtu.be/ubVTj5iCjZg)  [Exo 2 suite](https://youtu.be/erY63FeObPc)\n",
    "Exo 3 | [Chap7. Exo. 3](pdfs/chap7_exo3.pdf) | [Exo 3, 4 méthodes et plus !](https://youtu.be/xQWXbJFnQ7Y)\n",
    "Exo 5 | [Chap7. Exo. 5](pdfs/chap7_exo5.pdf)\n"
   ]
  },
  {
   "cell_type": "markdown",
   "metadata": {},
   "source": [
    "## Exercice 2\n",
    "\n",
    "Pour poser le calcul inspirez-vous de l'animation ci-dessous pour :\n",
    "  - retourner un des signaux $f(-\\bullet) : \\tau \\mapsto f(-\\tau)$\n",
    "  - le retarder d'un temps $t$ :  $f(-(\\bullet-t)) :  \\tau = f(-(\\tau-t))=f(t-\\tau)$\n",
    "  - le multiplier avec l'autre signal : $g(\\tau).f(t-\\tau)$\n",
    "  - intégrer pour obtenir une surface en fonction du retard $t$ : $g\\!\\star{}\\!f : t\\mapsto \\int g(\\tau).f(t-\\tau) d\\tau$\n",
    "\n",
    "\n",
    "<iframe src=\"https://www.desmos.com/calculator/8gevfe2s8c?embed\" width=\"500\" height=\"500\" style=\"border: 1px solid #ccc\" frameborder=0></iframe>\n",
    "\n",
    "\n",
    "Cliquez sur [la Desmos de la convolution de u par u](https://www.desmos.com/calculator/8gevfe2s8c)\n",
    "\n",
    "a) $u(t)\\star u(t)$ n'est pas bien typé ! On convolue des fonctions entre-elles : pas des réels. Comprendre $u(\\bullet)\\star u(\\bullet) = u\\star u$ la convolution entre deux échelons.\n",
    "  - Retrouver la formule de convolution $f\\star g$ en pensant à décomposer $f$ comme une somme d'impulsions retardées en $\\tau$ : $f(t) = \\int f(\\tau).\\delta_0(t-\\tau).d\\tau$. Et penser que la réponse de $G$ à une somme d'impulsions $f$ est une somme de réponses impulsionnelles $g$ (G linéaire invariant).\n",
    "  - Inutile d'intégrer pour $\\tau$ de $-\\infty$ à $+\\infty$ car les fonctions s'annulent. **Pour $t$ fixé**, écrivez les deux conditions sur $\\tau$ (en fonction de $t$) qui font que les deux échelons sont non nuls simultanément.  \n",
    "  $u(\\tau).u(t-\\tau)\\neq 0 \\implies \\dots < \\tau < \\dots$.\n",
    "  Vous avez ainsi les bornes de l'intégrale qui doit intégrer $1.d\\tau$.\n",
    "  - Pour quelle valeur de $t$ a-t-on un intervale d'intégration nul et donc une valeur de l'intégrale nulle ?\n",
    "  - On définit ainsi le produit de convolution par morceaux : \n",
    "    - 0 quand $t<0$\n",
    "    - $\\int_0^t 1 d\\tau = t$ quand $t>0$\n",
    "  - on trouve que $\\conv{u}{u}(t) = r(t)$ la fonction rampe causale.\n",
    "  - **Bonus important** : écrivez la convolution entre une fonction $f$ quelconque et $u$ : $f\\star u$. On doit trouver la fonction primitive de $f$ qui s'annule en 0. Donc **convoluer avec $u$, c'est intégrer !** Cela est normal, car le système $U$ transforme une impulsion $\\delta_0$ de transformée $p\\mapsto 1$ en un échelon $u$ de transformée $p\\mapsto\\frac{1}{p}$. En effet, **le système U de RIp $u$ est le système intégrateur**.\n",
    "  - **vérifiez pour un décalage nul**. $\\conv{u}{u}(t=0) = <u(\\bullet),\\; \\overline{u(-\\bullet)}>$ La convolution pour un décalage $t$ de 0 est la projection (l'aire du produit) d'un signal sur l'antipodal de l'autre signal (signal retourné dans le temps)\n",
    "  - **essayez de voir** quelle peut être cette projection pour différents **retards $t$ du signal retourné** car en effet $u\\star u = <u(\\bullet),\\; \\overline{u\\left(-(\\bullet - t)\\right)}> = <u(\\bullet),\\; \\overline{u\\left(t-\\bullet\\right)}>$\n",
    "  - **vérifier les unités** quand c'est possible... Ici l'amplitude $A=1[V]$ est cachée, mais la convolution étant le signal de sortie d'un filtrage : sa dimention doit être en $[V]$ et rester linéaire en $A$\n",
    "\n",
    "b et c) mal typés !  $sin(\\bullet)\\!\\!\\star\\!\\!\\Pi_{2a}(\\bullet)\\,(t)=\\conv{\\sin{}}{\\Pi_{2a}}(t)$ pour le signal b) et $\\conv{\\cos{}}{\\Pi_{2a}}(t)$ pour c). Rappelons que $\\Pi_{2a}$ est la fonction porte de **largeur 2a** centrée en 0 et donc non nulle sur $[-a, a]$.\n",
    "  - Vaut-il mieux calculer $\\sin\\star\\Pi_{2a}$ et avoir un simple sinus à intégrer sur des bornes un peu compliquées. Car il faut se demander, à $t$ fixé, pour quel $\\tau$ l'expression $\\Pi_{2a}(t-\\tau)$ n'est pas nulle...\n",
    "  - Ou vaut-il mieux calculer $\\Pi_{2a}\\star\\sin$ et intégrer sur des bornes $-a$ à $+a$ simples un sinus un peu plus compliqué $\\sin(t-\\bullet)$ (attention la variable d'intégration est bien $\\tau$ !). C'est une question de goût, mais il est bon de prendre le reflexe ambidextre pour gagner en agilité de calcul.\n",
    "  - **Vérifiez en 0 facilement** en faisant coincider  $[-a, a]$ avec une période du sinus, on doit avoir $0$. D'ailleurs on doit avoir $0$ pour tout les décalages $t$ dans ce cas là. Votre résultat corobore-t-il cela ?\n",
    "  - les dimentions sont encore une fois cachées donc on ne peut vérifier. En revanche si $a=0$ on convolue avec la fonction nulle et on doit avoir une convolution nulle (entrée nulle d'un système linéaire donc sortie nulle).\n",
    "  - **facile de voir** dans ce cas là car la fonction porte est paire, donc elle est sa propre antipodale. Il suffit donc de retarder la porte d'un temps $t$ et de projeter sur un sinus. On a $0$ pour toute largeur multiple de la période du sinus, etc. Votre résultat fonctionne-t-il ?\n",
    "\n",
    "d) idem que b) et c). Intégrer sur $-a$ à $+a$, bien voir que l'exponentielle n'est pas causale ! donc pour un décalge en $t\\to-\\infty$, on doit avoir une surface infinie ! et tendre vers 0 en $+\\infty$\n",
    "\n",
    "e) bien voir que l'on a une fonction porte $\\Pi_2$ de largeur 2 centrée, à convoluer avec des Diracs retardés : $(\\delta_1+\\delta_2)\\star\\Pi_2$.\n",
    "  - mieux vaut retourner la porte qui est paire qu'un dirac donc $(\\delta_1+\\delta_2)\\star\\Pi_2$ est bien plus facile que $\\Pi_2\\star(\\delta_1+\\delta_2)$\n",
    "  - se rapeller qu'intégrer un dirac c'est faire une mesure avec la propriété fondamentale qui défini le Dirac : $\\int\\delta_a(x).f(x).dx \\overset{\\text{mesure en a}}{=} f(a)$. Attention si $a$ n'est pas dans l'intervale d'intégration alors on intègre $0$ et obtient $0$. \n",
    "  - la surface d'un Dirac de poids $1$ est par définition $1$. On peut vérifier en décalant la porte d'un temps $t$, si les Diracs \"passente dans la porte\" ou non et donc ajoute $1$ ou non à la valeur de la convolution.\n",
    "\n"
   ]
  },
  {
   "cell_type": "markdown",
   "metadata": {},
   "source": [
    "## Exercice 3\n",
    "\n",
    "En calcul direct est assez long mais pas compliqué. Pour cela il faut procéder avec méthode et user du dessin du graphe pour ne pas faire d'erreur.\n",
    "\n",
    " 1) Utilisez donc les fonctions portes ou des échelons et leurs retards   \n",
    " 2) $x\\star h$ semble équivalent à $h\\star x$ en terme de complexité. Gardons donc $x\\star h$. On peut voir la convolution comme la correlation de $x$ avec l'antipodal de $h$, ce qui donne l'animation suivante:   \n",
    "\n",
    "<iframe src=\"https://www.desmos.com/calculator/crv0h3r5dx?embed\" width=\"500\" height=\"500\" style=\"border: 1px solid #ccc\" frameborder=0></iframe>   \n",
    "\n",
    "Cliquez sur [Desmos de convolution](https://www.desmos.com/calculator/crv0h3r5dx) pour visualiser.   \n",
    "\n",
    " - représentez l'antipodal de $h$ : $h(-\\bullet)$ et prenez l'habitude de nommer $\\tau$ la variable (celle d'intégration). Son support est alors $[-2 -1]$.\n",
    " - retardez de $t$ l'antipodal de $h$ : **Attention piège !** c'est $h(-(\\bullet-t))$ et donc $h(t-\\tau)$ **mais** si l'on note les abscisses des fronts du signal, on doit résoudre  $t-\\tau = 1$ et $t-\\tau=2$. Ce qui donne un intervalle $[t-2,  \\; t-1]$ : quand on retarde une fonction $f$ de $t$, on ajoute $t$ aux intervalles de la fonction mais elle se note bien $x\\mapsto f(x-t)$\n",
    " - identifiez le support de la correlation : les valeurs en dehors desquelles la correlation est forcément nulle. Pour cela on dessine les deux cas où les supports de $x$ ($[0,\\;1]$) et celui de $h(t-\\bullet)$ ($[t-2,  \\; t-1]$) sont disjoints :\n",
    "   *  $\\overset{}{[t-2,  \\; t-1]} < [0,\\;1] \\implies t -1 < 0 \\implies t < 1 \\implies \\conv{x}{h}(t)=0$ \n",
    "   *  $ [0,\\;1]  < \\overset{}{[t-2,  \\; t-1]} \\implies 1 < t-2 \\implies 3 < t\\implies \\conv{x}{h}(t)=0$\n",
    " -  ensuite dessinez le cas où $x$ recouvre  $h(t-\\bullet)$ par la gauche (petit $t$ ou avance de $t$) et trouvez la condition sur $1<t<?$. Dans ce cas, **pour t fixé** dans cet intervalle, cherchez les conditions sur $\\tau$ pour que le produit à intégrer (l'intégrande) n'est pas nul. On trouve alors $\\conv{x}{h}(t)=\\int_1^{?} \\underbrace{2}_{x(\\bullet)}. \\underbrace{1}_{h(t-\\bullet)} d\\tau$\n",
    " - le cas où $x$ recouvre  $h(t-\\bullet)$ par la droite (grand $t$ ou retard de $t$) et trouvez la condition sur $?<t<3$. **En fixant t** dans cet intervalle, on trouve alors $\\conv{x}{h}(t)=\\int_?^{3} \\underbrace{2}_{x(\\bullet)}. \\underbrace{1}_{h(t-\\bullet)} d\\tau$\n",
    " - on obtient ainsi une définition par morceaux de la convolution :\n",
    "   $$\\conv{x}{h}(t) =\\begin{cases} \\ldots & \\text{ quand } 1<t<? \\\\ \\ldots & \\text{ quand } ?<t<3 \\\\ 0 & \\text{ sinon }\\end{cases}$$   "
   ]
  },
  {
   "cell_type": "markdown",
   "metadata": {},
   "source": [
    "## Convolution = sortie d'un système LTI\n",
    "\n",
    "La convolution entre deux signaux $f$ et $g$ est une fonction notée $\\def\\conv#1#2{#1\\!\\!\\star\\!\\!#2\\,}\\conv{f}{g}$ qui correspond à la sortie obtenue en envoyant un signal d'entré $f$ sur un système $G$ de réponse impulsionnelle $g$. **Le système doit être linéaire et invariant !** Ce qui est le cas le plus souvent.\n",
    "\n",
    "$f \\quad \\overset{G}{\\rightarrow} \\quad y=\\conv{f}{g} \\quad $ où le système $G$ est tels que $\\delta_0 \\overset{G}{\\rightarrow} g$. \n",
    "\n",
    "\n",
    "Si nous prenons la transformée de Fourier (ou de Laplace) de la définition du système $G$ de réponse impulsionnelle $g$ :\n",
    "\n",
    "temporel | $\\quad \\delta_0 \\quad \\overset{G}{\\rightarrow} \\quad g$ \n",
    "---|---\n",
    "Laplace  | $\\quad p\\mapsto 1 \\quad \\overset{G}{\\rightarrow} \\quad G(p)$\n",
    "Fourier  | $\\quad f\\mapsto 1 \\quad \\overset{G}{\\rightarrow} \\quad \\hat{G}(f)$\n",
    "\n",
    "> La fonction de transfert $G(p)$ d'un système $G$ est donc la transformée de sa réponse impulsionnelle $g$\n",
    "\n",
    "Le filtrage du signal f par le système $G$ est la convolution entre $f$ et $g$:\n",
    "\n",
    "temporel | $\\quad f \\quad \\overset{G}{\\rightarrow} \\quad y = f \\star g$ \n",
    "---|---\n",
    "Laplace  | $\\quad F(p) \\quad \\overset{G}{\\rightarrow} \\quad Y(p) = F(p).G(p)$\n",
    "Fourier  | $\\quad \\hat{F}(f) \\overset{G}{\\rightarrow} \\quad \\hat{Y}(f) = \\hat{F}(f).\\hat{G}(f)$ \n",
    "\n",
    "> La transformée de la convolution est donc le produit des transformées ce qui correspond à un filtrage des fréquences\n",
    "\n",
    "Comme un système est invariant alors sa réponse à un Dirac retardé à l'instant $a$ est la réponse impulsionnelle retardée à l'instant $a$ :\n",
    "\n",
    "$\\delta_a \\star f = f \\star \\delta_a = f(\\bullet-a)$\n",
    "\n",
    "> La convolution d'un signal avec un Dirac décale l'origine du signal sur le Dirac\n",
    "\n",
    "Comme le produit des transformées commute : $F(p).G(p)=G(p).F(p)$ alors la convolution aussi \n",
    "\n",
    "$f\\star g = g \\star f$  \n",
    "\n",
    "Cela veut dire qu'un signal $f$ filtré par $G$ donne le même signal que $g$ filtré par $F$, car une impulsion $\\delta_0$ filtré par $F$ puis $G$ est identique à celle filtré par $G$ puis $F$:\n",
    "\n",
    "$\\delta_0 \\quad \\overset{F}{\\rightarrow}\\quad \\delta_0\\star f = f \\quad \\overset{G}{\\rightarrow} \\quad y=f\\star g \\quad $\n",
    "\n",
    "$\\delta_0 \\quad \\overset{G}{\\rightarrow}\\quad \\delta_0\\star g = g \\quad \\overset{F}{\\rightarrow} \\quad y=g\\star f \\quad $\n"
   ]
  },
  {
   "cell_type": "markdown",
   "metadata": {
    "tags": []
   },
   "source": [
    "## Convolution = somme de réponses\n",
    "\n",
    "\n",
    "La réponse $y$ d'un système de RIp (Réponse ImPulsionnelle) $h$ à une entrée $x$ est donc $y=x\\star h$. \n",
    "\n",
    "On peut décomposer l'entrée $x$ dans le temps comme une somme d'impulsions localisées autour du temps $\\tau=k.dt\\in\\mathbb{R}$\n",
    "\n",
    "$\\overbrace{x(k.dt)}^{x(t)} = \\sum\\limits_{j\\in\\mathbb{Z}} \\overbrace{x(j.dt)}^{x(\\tau)} . \\overbrace{\\Pi_{dt}(k.dt-j.dt)}^{\\delta_0(t-\\tau)} \\quad \\overset{dt\\to 0}{\\approx} \\quad x(t) \\quad = \\int x(\\tau) . \\delta_0(t-\\tau) .  d\\tau$\n",
    "\n",
    "Voilà ce que cette décomposition en somme d'impulsion donne en discret :   \n",
    "\n",
    "<img  src=\"../../discret/poly/dessins/reponse_convolution.png\">\n",
    "\n",
    "Le même type de schéma en continu est dans le [poly section 2.6.1 page 30](https://moodle.insa-toulouse.fr/mod/resource/view.php?id=24741#page=30)\n",
    "\n",
    "**Par linéarité du système $H$,** la réponse du système à la somme d'impulsions d'amplitude $x(\\tau)$ est la somme des réponses aux impulsions unités fois $x(\\tau)$ :\n",
    "\n",
    "$$\n",
    "\\begin{array}{ccc}\n",
    "  x(t) & = \\int x(\\tau) \\;.\\; & \\delta_0(t-\\tau) \\;.\\; d\\tau \\\\\n",
    "  \\downarrow H &          &\\downarrow H\\\\\n",
    "  H[x](t) = \\conv{x}{h}(t)  &= \\int x(\\tau) \\;.\\;& H[\\tau\\mapsto \\delta_0(t-\\tau)] \\;.\\; d\\tau\n",
    "\\end{array}\n",
    "$$\n",
    "\n",
    "**Par invariance du système $H$,** la réponse à une impulsion retardée $\\delta_0(\\bullet-\\tau)$ est la réponse impulsionnelle retardée $h(\\bullet-\\tau)$. Et la somme des réponses devient :\n",
    "\n",
    "$$\n",
    "\\begin{array}{ccc}\n",
    "  x(t) & = \\int x(\\tau) \\;.\\; & \\delta_0(t-\\tau) \\;.\\; d\\tau \\\\\n",
    "  \\downarrow H &          &\\downarrow H\\\\\n",
    "  \\conv{x}{h}(t)  &= \\int x(\\tau) \\;.\\;& h(t-\\tau) \\;.\\; d\\tau\n",
    "\\end{array}\n",
    "$$\n",
    "\n",
    "\n",
    "\n"
   ]
  },
  {
   "cell_type": "markdown",
   "metadata": {},
   "source": [
    "Le notebook octave [CONVolution discrète](../../discret/cours/notebooks/CONV.ipynb) illustre cette somme dans le cas d'un signal discret simple."
   ]
  }
 ],
 "metadata": {
  "kernelspec": {
   "display_name": "Octave",
   "language": "octave",
   "name": "octave"
  },
  "language_info": {
   "file_extension": ".m",
   "help_links": [
    {
     "text": "GNU Octave",
     "url": "https://www.gnu.org/software/octave/support.html"
    },
    {
     "text": "Octave Kernel",
     "url": "https://github.com/Calysto/octave_kernel"
    },
    {
     "text": "MetaKernel Magics",
     "url": "https://metakernel.readthedocs.io/en/latest/source/README.html"
    }
   ],
   "mimetype": "text/x-octave",
   "name": "octave",
   "version": "4.2.2"
  },
  "latex_envs": {
   "LaTeX_envs_menu_present": true,
   "autoclose": false,
   "autocomplete": true,
   "bibliofile": "biblio.bib",
   "cite_by": "apalike",
   "current_citInitial": 1,
   "eqLabelWithNumbers": true,
   "eqNumInitial": 1,
   "hotkeys": {
    "equation": "Ctrl-E",
    "itemize": "Ctrl-I"
   },
   "labels_anchors": false,
   "latex_user_defs": true,
   "report_style_numbering": false,
   "user_envs_cfg": true
  }
 },
 "nbformat": 4,
 "nbformat_minor": 4
}
