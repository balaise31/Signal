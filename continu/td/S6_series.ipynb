{
 "cells": [
  {
   "cell_type": "markdown",
   "metadata": {},
   "source": [
    "|[S5 - Equ. Diff.](S5_equa_diff.ipynb) | Revenir à la [page déroulement](README.ipynb) | [SdF suite](S7_sdf_suite.ipynb) |\n",
    "|-------------|---|---|\n",
    "|Notebook  | [Intro séries](notebooks/intro_series.ipynb) | |\n",
    "\n",
    "---\n",
    "# S6 - Séries de Fourier\n",
    "---"
   ]
  },
  {
   "cell_type": "markdown",
   "metadata": {},
   "source": [
    "# Travail préparatoire\n",
    "---\n",
    "\n",
    "Avant d'attaquer, lisez le début du [Intro séries](notebooks/intro_series.ipynb) (jusqu'à la parité) avec animation gif et dessins et phaseurs à gogo pour ressentir ce qu'est cette fameuse série de fonctions.\n",
    "\n",
    "Entraînez-vous sur l' [Exo 1.3 poly page 94](https://moodle.insa-toulouse.fr/mod/resource/view.php?id=24741#section.5.9) :\n",
    "\n",
    "  - regardez la figure 5.10 et **sans modéliser ni calculer** déterminez si sa valeur moyenne est positive, nulle ou négative\n",
    "  - regardez les a) à d) et cherchez la composante continue (constante ajoutée aux cos et sin , ou le $a_0$ des formules)  et comparez avec votre valeur moyenne : une proposition n'est forcément pas valide.\n",
    "  - regardez la figure 5.10, en supposant que le schéma donné se répète, identifiez quelle est cette période de répétition (ce n'est pas forcément $T_0$ il peut y avoir piège)\n",
    "  - en regardant les arguments des $cos(\\dots.t)$ et des $sin(\\dots.t)$ vous devez identifier la forme $\\omega_0.k.t$ et trouver ainsi la valeur de la pulsation fondamentale. En retrouvant la relation entre $\\omega_0$ des formules et la période $T_0$. On ne doit pas pouvoir éliminer de cas dans cet exercice.\n",
    "  - regardez la figure 5.10 et dites si la fonction est paire, impaire ou quelconqe\n",
    "  - maintenant on peut identifier une forme $a_0 + \\sum\\limits_{k>0} a_k.cos(\\omega_0.k.t) + \\sum\\limits_{k\\geq0} b_k.\\sin(\\omega_0.k.t)$ avec des $a_0$,$a_k$ et $b_k$ **qui ne dépendent pas du temps !**.\n",
    "  - Remarquez que l'indice $k$ ne peut être en dehors de la somme sur $k$ : c'est une erreur, vous mettrez ce facteur dans le $\\sum$\n",
    "  - par parité éliminez une proposition de plus...\n",
    "  \n"
   ]
  },
  {
   "cell_type": "markdown",
   "metadata": {
    "tags": []
   },
   "source": [
    "\n",
    "# Série, parité, période, composante continue\n",
    "---\n",
    "\n",
    "##  Exercice 1.3 : \n",
    "\n",
    "[Exo 1.3 poly page 94](https://moodle.insa-toulouse.fr/mod/resource/view.php?id=24741#section.5.9)\n",
    "\n",
    "   * Bien se représenter cettefonction comme une fonction périodique ! Voir le [Bac à sable des séries](notebooks/SDF_bac_a_sable.ipynb)\n",
    "   * Remarquez que l'indice $k$ ne peut être en dehors de la somme sur $k$ : c'est une erreur, vous mettrez ce facteur dans le $\\Sigma$\n",
    "   * Cherchez la composante continue (valeur moyenne) **sans calcul ! À l'œil**. Vous pourrez ainsi éliminer une proposition\n",
    "   * Cherchez la période de $x$ et repérez les coefficients $a(n)$ devant les ondes cosinusoïdales et les b(n) devant les ondes sinusoïdales. Ces $a(k)$ et $b(k)$ doivent être :\n",
    "     - constant avec le temps (l'intégrale élimine le temps `t` et ne laisse que les fréquences `k`), \n",
    "     - doivent être proportionnels à l'amplitude (si on multiplie par A le signal, on multiplie les coefficients par A...),\n",
    "     - ne pas dépendre de la période (des simplifications doivent avoir lieu. Si on étire le signal dans le temps seul les arguments des cos et sin doivent changer)\n",
    "     - ils doivent décroître en valeur absolue avec $k$ (la série doit converger : $|c(k)| < 1/k$ CVA avec Rieman). \n",
    "     Vous éliminez ainsi deux propositions\n",
    "   * Cherchez la parité pour vérifier que le dernier choix est viable.\n",
    "\n",
    "**Ces tests sont importants à effectuer lorsque vous calculez des coefficients pour vérifier s'il n'y a pas d'erreur.**\n",
    "\n",
    "\n"
   ]
  },
  {
   "cell_type": "markdown",
   "metadata": {},
   "source": [
    "## Exercice 7\n",
    "\n",
    "[Exo 7 poly page 97](https://moodle.insa-toulouse.fr/mod/resource/view.php?id=24741#page=97)\n",
    "\n",
    "Les égalités sont vérifiées que dans certains intervalles qui ne sont pas forcément une période !\n",
    "\n",
    "* Cherchez la période dans les arguments des cosinus et sinus de la série, car l'exemple du signal 2) peut déconcerter ; \n",
    "* Trouvez la parité en pensant qu'une somme d'impair est forcément impaire...\n",
    "* Pour définir la fonction, on peut la définir sur un intervalle $[t, t+T_0]$ et dire qu'elle est périodique de période $T_0$ : cela permet de la prolonger correctement. \n",
    "* Tracez le graphe en montrant la périodicité\n",
    "\n",
    "**Vérifiez !** \n",
    "\n",
    "Vérifiez à l'œil que la valeur moyenne (tracez une barre à la valeur moyenne) et parité marchent sur le graphique.\n",
    "\n",
    "Entrainez-vous à vérifier les coefficients : \n",
    "- Sont ils décroissants avec $n$ ? (vous devez remarquer **une erreur pour un des signaux**)\n",
    "- Remarquez que si on multiplie un signal par $A$ pour augmenter l'amplitude : alors fatalement chaque coef est multiplié par $A$. Dans les prochains calculs où l'amplitude $A$ apparaît, vérifiez que les coefs sont proportionnels à $A$.\n",
    "- Écrivez les deux premiers termes non nuls de la somme (important pour le signal 2 dont une harmonique sur deux est nulle : aller jusqu'à n=3 pour deux composantes)\n",
    "- Esquissez cette somme (comme en TD matlab, ou utilisez votre script matlab) graphiquement et vérifiez qu'elle se rapproche de la fonction définie. Approchez allègrement $\\pi$ par 3 pour faire des tracés rapides. On voit dans le signal 1 comment un sinus peut être produit approché à partir de somme de cosinus !     \n",
    "\n",
    "Le 7.1 doit ressembler à l'exo 2. Remarquez que la période n'est pas celle de l'argument du sinus ! Un sinus redressé est de période double...\n"
   ]
  },
  {
   "cell_type": "markdown",
   "metadata": {},
   "source": [
    "\n",
    "# Calcul des coefficients de séries\n",
    "---\n",
    "\n",
    "\n",
    "## Exercice 2 :\n",
    "\n",
    "[Exo 2 poly page 95](https://moodle.insa-toulouse.fr/mod/resource/view.php?id=24741#page=95)\n",
    "\n",
    "* Effectuez le tracé de la fonction et identifié la période de $f$ **qui n'est pas la période du sinus**, mais celle d'un sinus redressé par valeur absolue ! Trouvez le lien entre $\\alpha$ et $T_0$ (et donc $\\omega_0$). **Essayez de garder $\\omega_0$ et $T_0$ dans vos calculs plutôt que $\\alpha$ : cela permet de simplifier et vérifier** (ici on doit avoir $\\omega_0=2\\alpha$ par exemple)\n",
    "\n",
    "* Estimez à l'œil la valeur moyenne sur une période (ou donnez des valeurs extrêmes). Faites ensuite le calcul de $a_0$ et vérifiez que cela colle. **Ne pas cafouiller : que vous ajoutiez $\\frac{a_0}{2}$ ou $a_0$ dans votre série selon les formulaires, il faut ajouter la valeur moyenne (composante continue)** \n",
    "* Enlevez à l'œil cette valeur moyenne (décallez l'axe des abscisses) et estimez si elle est paire, impaire ou quelconque. Sinon, y a-t-il un retard qui la rendrait paire ou impaire (décallez l'axe des ordonnées). En fonction de la parité, calculez les coefficients dont il est besoin... **on retrouve le résultat surprenant du 7.1 sur la parité du sinus redressé**\n",
    "\n",
    "Retrouvez les formules des c(n) d'une part en ayant la vision vectorielle Euclidienne des choses (voir [la partie \"calcul des coefficients\" à la fin du récapitulatif](intro_series.ipynb)) car **il existe plusieurs formules avec différents coefficients !**.\n",
    "\n",
    "* Écrivez le calcul à résoudre pour obtenir un $c(n)$. L'intégrale est alors celle de la somme de deux exponentielles $e^{i (n\\pm\\frac{1}{2})\\omega_0 t)}$ ce qui semble facile à intégrer entre 0 et $T_0$. Ne pas faire le calcul, mais regarder si ce n'est pas plus facile avec les $a(n)$\n",
    "\n",
    "* Retrouvez la formule des $a(n)$ et $b(n)$ en pensant au coefficient $2$ qui vient de la norme des vecteurs (voir la [partie Fourier avec base réelle Non normée du récap](intro_series.ipynb#Coefs-de-Fourier-avec-une-base-r%C3%A9elle-:-a(n)-et-b(n))) et poser l'intégrale à résoudre pour un coefficient $a(n)$ (pas de $b(n)$ car f est paire). Elle est de la forme d'un produit de sinus par cosinus d'argument différent. Il faudrait utiliser une formule trigo. pour le transformer en somme de sinus... Je trouve cela plus complexe que les imaginaires. \n",
    "\n",
    "* Regardez s'il vaut mieux calculer le $c(n)$ avec un $a(n)$ et faire **un seul calcul d'intégrale pour un $n$ quelconque** (impossible d'effectuer une infinité d'intégrales) on trouve ainsi la formule des coefficients $c(n)$ qui est donc une suite numérique.\n",
    "\n",
    "* Simplifiez le résultat et **supprimer les $w_0$ et $T_0$ des formules des $c(n)$ car $\\omega_0.T_0=2\\pi$** (Étirement dans le temps de la fonction ne change pas l'amplitude des composantes). Tracez les cercles trigonométriques pour ne pas rater des $e^{(n+\\frac{1}{2})2\\pi}=-1$ par exemple. $c(n)$ doit être réel, car pas de $b(n)$ ! \n",
    "\n",
    "* Utiliser la vision phaseurs, IQ complexe et le schéma dessous pour retrouver le lien entre a(n), b(n) et c(n) :\n",
    "\n",
    "<img src=images/phaseur_et_cn_an_bn.png width=400>\n",
    "\n",
    "* **Vérifiez en calculant a(1) numériquement et en traçant $a_0 + a_1\\cos{\\omega_0t}$** pour voir si cela se rapproche de la fonction.\n",
    "* Vérifiez avec Laplace ! Voir la séance suivante\n"
   ]
  },
  {
   "cell_type": "markdown",
   "metadata": {},
   "source": []
  }
 ],
 "metadata": {
  "kernelspec": {
   "display_name": "Python 3 (ipykernel)",
   "language": "python",
   "name": "python3"
  },
  "language_info": {
   "codemirror_mode": {
    "name": "ipython",
    "version": 3
   },
   "file_extension": ".py",
   "mimetype": "text/x-python",
   "name": "python",
   "nbconvert_exporter": "python",
   "pygments_lexer": "ipython3",
   "version": "3.10.6"
  },
  "latex_envs": {
   "LaTeX_envs_menu_present": true,
   "autoclose": false,
   "autocomplete": true,
   "bibliofile": "biblio.bib",
   "cite_by": "apalike",
   "current_citInitial": 1,
   "eqLabelWithNumbers": true,
   "eqNumInitial": 1,
   "hotkeys": {
    "equation": "Ctrl-E",
    "itemize": "Ctrl-I"
   },
   "labels_anchors": false,
   "latex_user_defs": false,
   "report_style_numbering": false,
   "user_envs_cfg": false
  }
 },
 "nbformat": 4,
 "nbformat_minor": 4
}
