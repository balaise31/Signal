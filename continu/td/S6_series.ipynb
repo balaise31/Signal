{
 "cells": [
  {
   "cell_type": "markdown",
   "metadata": {},
   "source": [
    "|[S5 - Equ. Diff.](S5_equa_diff.ipynb) | Revenir à la [page déroulement](README.ipynb) | [SdF suite](S7_sdf_suite.ipynb) |\n",
    "|-------------|---|---|\n",
    "|Notebook  | [Intro séries](notebooks/intro_series.ipynb) | [Bac à sable des séries](notebooks/SDF_bac_a_sable.ipynb) |\n",
    "\n",
    "---\n",
    "# S6 - Séries de Fourier\n",
    "---"
   ]
  },
  {
   "cell_type": "markdown",
   "metadata": {
    "tags": []
   },
   "source": [
    "# Travail préparatoire\n",
    "---\n"
   ]
  },
  {
   "cell_type": "markdown",
   "metadata": {},
   "source": [
    "\n",
    "Avant d'attaquer, lisez le début du [Intro séries](notebooks/intro_series.ipynb) (jusqu'à la parité) avec animation gif et dessins et phaseurs à gogo pour ressentir ce qu'est cette fameuse série de fonctions.\n",
    "\n",
    "Entraînez-vous sur l' [Exo 1.3 section 5.9](https://moodle.insa-toulouse.fr/mod/resource/view.php?id=24741#section.5.9) :\n",
    "\n",
    "  - regardez la figure 5.10 et **sans modéliser ni calculer** déterminez si sa valeur moyenne est positive, nulle ou négative\n",
    "  - regardez les a) à d) et cherchez la composante continue (constante ajoutée aux cos et sin , ou le $a_0$ des formules)  et comparez avec votre valeur moyenne : une proposition n'est forcément pas valide.\n",
    "  - regardez la figure 5.10, en supposant que le schéma donné se répète, identifiez quelle est cette période de répétition (ce n'est pas forcément $T_0$ il peut y avoir piège)\n",
    "  - en regardant les arguments des $cos(\\dots.t)$ et des $sin(\\dots.t)$ vous devez identifier la forme $\\omega_0.k.t$ et trouver ainsi la valeur de la pulsation fondamentale. En retrouvant la relation entre $\\omega_0$ des formules et la période $T_0$. On ne doit pas pouvoir éliminer de cas dans cet exercice.\n",
    "  - regardez la figure 5.10 et dites si la fonction est paire, impaire ou quelconqe\n",
    "  - maintenant on peut identifier une forme $a_0 + \\sum\\limits_{k>0} a_k.cos(\\omega_0.k.t) + \\sum\\limits_{k\\geq0} b_k.\\sin(\\omega_0.k.t)$ avec des $a_0$,$a_k$ et $b_k$ **qui ne dépendent pas du temps !**.\n",
    "  - Remarquez que l'indice $k$ ne peut être en dehors de la somme sur $k$ : c'est une erreur, vous mettrez ce facteur dans le $\\sum$\n",
    "  - par parité éliminez une proposition de plus...\n",
    "  \n"
   ]
  },
  {
   "cell_type": "markdown",
   "metadata": {
    "tags": []
   },
   "source": [
    "\n",
    "# Série, parité, période, composante continue\n",
    "---\n"
   ]
  },
  {
   "cell_type": "markdown",
   "metadata": {
    "tags": []
   },
   "source": [
    "\n",
    "##  Revoir les vérifications sur $a(n), b(n)$ ou les $c(n)$ avec l' exercice 1.3 : \n",
    "\n",
    "Revoir  de l'[Exo 1.3 section 5.9](https://moodle.insa-toulouse.fr/mod/resource/view.php?id=24741#section.5.9)\n",
    "\n",
    " * Toujours bien se représenter cette fonction comme une fonction périodique ! Voir le [Bac à sable des séries](notebooks/SDF_bac_a_sable.ipynb)\n",
    " * Lorsque l'on trouve des coefficients $a(n)$ et $b(n)$ ou bien des $c(n)$ toujours vérifier que :\n",
    "  - $c(n)$ pas $c(n,t)$ : ils sont tous **constants avec le temps** (l'intégrale élimine le temps `t` et ne laisse que les fréquences `n`). \n",
    "  - $c(n)$ pas $c(n,\\omega_0, T_0, f_0)$ : ils ne **dépendent pas de la période** (des simplifications doivent avoir lieu (souvent $w_0.T_0=2\\pi$ est oubliée). Si on étire le signal dans le temps, seuls les arguments des cos et sin doivent changer). En effet, si l'on étire le temps avec $s(\\alpha.t)$, la période devient $\\alpha.T_0$ et la décomposition devient :   \n",
    "  $s(\\alpha.t) = a_0 + \\sum\\limits_{k>0} a_k.cos(\\alpha.\\omega_0.k.t) + \\sum\\limits_{k\\geq0} b_k.\\sin(\\alpha.\\omega_0.k.t)$   \n",
    "  Les coefficients ne bougent pas mais la pulsation fondamentale $\\omega_0$ devient $\\alpha.\\omega_0$\n",
    "  - $\\exists \\beta\\in\\mathbb{R}^+ \\;| \\quad|c(n)| \\geq \\beta.\\frac{1}{n}\\quad\\implies\\quad \\Sigma c(n) DV \\quad\\implies\\quad \\lim S_N = s \\quad  DV$ :   \n",
    "  la série doit converger et comme les sin et cos sont bornés, les coefficients **doivent décroître en valeur absolue plus vite que $\\frac{1}{k}$**. Donc $|c(k)|$ CVA avec Rieman nécessaire ! \n",
    "  - Si l'amplitude du signal apparaît clairement dans la formule $s(t)=A.f(t)$ (où l'amplitude de $f$ = $\\|f\\|_\\infty$ est indépendante de tous les coefficients) alors :   \n",
    "  $A.f(t) = A.a_0 + \\sum\\limits_{k>0} A.a_k.cos(\\alpha.\\omega_0.k.t) + \\sum\\limits_{k\\geq0} A.b_k.\\sin(\\alpha.\\omega_0.k.t)$   \n",
    "  - Les **coefficients sont liés à la parité de $s$**. Une fois que la valeur moyenne est enlevée $\\tilde{s} = t\\mapsto s(t)-a_0$ on a la relation :\n",
    "  - $\\tilde{s} \\text{ paire } \\implies \\forall n,  b(n)=0 \\quad \\iff \\quad \\tilde{s} \\text{ paire } \\implies \\forall n,\\;  \\mathcal{I_m}\\!\\left(c(n)\\right)=0 $   \n",
    "  - $\\tilde{s} \\text{ impaire } \\implies \\forall n>0,  a(n)=0 \\quad \\iff \\quad \\tilde{s} \\text{ paire } \\implies \\forall n>0,\\;  \\mathcal{R_e}\\!\\left(c(n)\\right)=0 $   \n",
    "  Les coefficients **sont proportionnels à l'amplitude.**\n",
    "   \n",
    " \n",
    "> **Ces tests sont importants à effectuer lorsque vous calculez des coefficients pour vérifier s'il n'y a pas d'erreur.**\n",
    "\n",
    "\n"
   ]
  },
  {
   "cell_type": "markdown",
   "metadata": {},
   "source": [
    "## Exercice 8\n",
    "\n",
    "[Exo 8 poly page 105](https://moodle.insa-toulouse.fr/mod/resource/view.php?id=24741#page=105)\n",
    "\n",
    "Les égalités sont vérifiées uniquement dans certains intervalles qui ne sont pas forcément une période !\n",
    "\n",
    "* Cherchez la période dans les arguments des cosinus et sinus de la série, car l'exemple du signal 2) peut déconcerter ; \n",
    "* Trouvez la parité en pensant qu'une somme d'impair est forcément impaire...\n",
    "* Pour définir la fonction, on peut la définir sur un intervalle $[t, t+T_0]$ et dire qu'elle est périodique de période $T_0$ : cela permet de la prolonger correctement. \n",
    "* Tracez le graphe en montrant la périodicité\n",
    "\n",
    "**Vérifiez !** \n",
    "\n",
    "Vérifiez à l'œil que la valeur moyenne (tracez une barre à la valeur moyenne) et parité marchent sur le graphique.\n",
    "\n",
    "Entrainez-vous à vérifier les coefficients : \n",
    "- Sont ils décroissants avec $n$ ? (vous devez remarquer **une erreur pour un des signaux**)\n",
    "- Remarquez que si on multiplie un signal par $A$ pour augmenter l'amplitude : alors fatalement chaque coef est multiplié par $A$. Dans les prochains calculs où l'amplitude $A$ apparaît, vérifiez que les coefs sont proportionnels à $A$.\n",
    "- Écrivez les deux premiers termes non nuls de la somme (important pour le signal 2 dont une harmonique sur deux est nulle : aller jusqu'à n=3 pour deux composantes)\n",
    "- Esquissez cette somme (comme en TD matlab, ou utilisez votre script matlab) graphiquement et vérifiez qu'elle se rapproche de la fonction définie. Approchez allègrement $\\pi$ par 3 pour faire des tracés rapides. On voit dans le signal 1 comment un sinus peut être produit approché à partir de somme de cosinus !     \n",
    "\n",
    "Le 8.1 doit ressembler à l'exo 3. Remarquez que la période n'est pas celle de l'argument du sinus ! Un sinus redressé est de période double...\n"
   ]
  },
  {
   "cell_type": "markdown",
   "metadata": {},
   "source": [
    "\n",
    "# Calcul des coefficients de séries\n",
    "---\n",
    "\n"
   ]
  },
  {
   "cell_type": "markdown",
   "metadata": {},
   "source": [
    "\n",
    "## Exercice 3 :\n",
    "\n",
    "Consiste à développer $|\\sin(\\alpha.t)|$ pour $\\alpha$ réel positif ([Exo 3 poly page 102](https://moodle.insa-toulouse.fr/mod/resource/view.php?id=24741#page=102))\n",
    "\n",
    "* Effectuez le tracé de la fonction et identifiez la période de $f$ **qui n'est pas la période du sinus**, mais celle d'un sinus redressé par valeur absolue ! Trouvez le lien entre $\\alpha$ et $T_0$ (et donc $\\omega_0$). **Essayez de garder $\\omega_0$ et $T_0$ dans vos calculs plutôt que $\\alpha$ : cela permet de simplifier et vérifier** (ici on doit avoir $\\omega_0=2\\alpha$ par exemple)\n",
    "\n",
    "* Estimez à l'œil la valeur moyenne sur une période (ou donnez des valeurs extrêmes). Faites ensuite le calcul de $a_0$ et vérifiez que cela colle. **Ne pas cafouiller : que vous ajoutiez $\\frac{a_0}{2}$ ou $a_0$ dans votre série selon les formulaires, il faut ajouter la valeur moyenne (composante continue)** \n",
    "* Enlevez à l'œil cette valeur moyenne (décallez l'axe des abscisses) et estimez si elle est paire, impaire ou quelconque. Sinon, y a-t-il un retard qui la rendrait paire ou impaire (décallez l'axe des ordonnées). En fonction de la parité, calculez les coefficients dont il est besoin... **on retrouve le résultat surprenant du 7.1 sur la parité du sinus redressé**\n",
    "\n",
    "Retrouvez les formules des c(n) d'une part en ayant la vision vectorielle Euclidienne des choses (voir \"Les $c_n$ de la base imaginaire normée\" de l'[intro séries](notebooks/intro_series.ipynb#Les-$c_n$-de-la-base-imaginaire-norm%C3%A9e) ) car **il existe plusieurs formules avec différents coefficients !**.\n",
    "\n",
    "* Écrivez le calcul à résoudre pour obtenir un $c(n)$. L'intégrale est alors celle de la somme de deux exponentielles $e^{i (n\\pm\\frac{1}{2})\\omega_0 t)}$ ce qui semble facile à intégrer entre 0 et $T_0$. Ne pas faire le calcul, mais regarder si ce n'est pas plus facile avec les $a(n)$\n",
    "\n",
    "* Retrouvez la formule des $a(n)$ et $b(n)$ en pensant au coefficient $2$ qui vient de la norme des vecteurs (voir la partie \"Fourier avec base réelle non normée\" de l'[intro séries](notebooks/intro_series.ipynb#Coefs-de-Fourier-avec-une-base-r%C3%A9elle-:-a(n)-et-b(n))) et poser l'intégrale à résoudre pour un coefficient $a(n)$ (pas de $b(n)$ car f est paire). Elle est de la forme d'un produit de sinus par cosinus d'argument différent. Il faudrait utiliser une formule trigo. pour le transformer en somme de sinus... Je trouve cela plus complexe que les imaginaires. \n",
    "\n",
    "* Regardez s'il vaut mieux calculer le $c(n)$ avec un $a(n)$ et faire **un seul calcul d'intégrale pour un $n$ quelconque** (impossible d'effectuer une infinité d'intégrales) on trouve ainsi la formule des coefficients $c(n)$ qui est donc une suite numérique.\n",
    "\n",
    "* Simplifiez le résultat et **supprimer les $w_0$ et $T_0$ des formules des $c(n)$ car $\\omega_0.T_0=2\\pi$** (Étirement dans le temps de la fonction ne change pas l'amplitude des composantes). Tracez les cercles trigonométriques pour ne pas rater des $e^{(n+\\frac{1}{2})2\\pi}=-1$ par exemple. $c(n)$ doit être réel, car pas de $b(n)$ ! \n",
    "\n",
    "* Utiliser la vision phaseurs, IQ complexe et le schéma dessous pour retrouver le lien entre a(n), b(n) et c(n) :\n",
    "\n",
    "<img src=./images/phaseur_et_cn_an_bn.png width=400>\n",
    "\n",
    "* **Vérifiez en calculant a(1) numériquement et en traçant $a_0 + a_1\\cos{\\omega_0t}$** pour voir si cela se rapproche de la fonction. Dans le code ci-dessous remplacez les 0.666 par vos valeurs et vérifiez...\n",
    "  \n"
   ]
  },
  {
   "cell_type": "code",
   "execution_count": 8,
   "metadata": {},
   "outputs": [
    {
     "name": "stdout",
     "output_type": "stream",
     "text": [
      "alpha =  3\n"
     ]
    },
    {
     "data": {
      "image/png": "[encoded data removed]",
      "text/plain": [
       "<IPython.core.display.Image object>"
      ]
     },
     "metadata": {},
     "output_type": "display_data"
    }
   ],
   "source": [
    "alpha=3\n",
    "t=-1:0.01:1;\n",
    "a0=0.666;\n",
    "a1=0.666;\n",
    "w0=alpha/0.666;\n",
    "plot(t,a0+a1*cos(w0*t));\n",
    "hold on;\n",
    "plot(t,abs(sin(alpha*t)),'r+')"
   ]
  },
  {
   "cell_type": "markdown",
   "metadata": {},
   "source": [
    "> Vérifiez avec Laplace ! Car on pouvait ne pas faire de calcul : regardez [ici](S7_sdf_suite.ipynb#Faire-le-lien-avec-Laplace-(exo-2)) \n"
   ]
  },
  {
   "cell_type": "code",
   "execution_count": null,
   "metadata": {},
   "outputs": [],
   "source": []
  }
 ],
 "metadata": {
  "kernelspec": {
   "display_name": "Octave",
   "language": "octave",
   "name": "octave"
  },
  "language_info": {
   "file_extension": ".m",
   "help_links": [
    {
     "text": "GNU Octave",
     "url": "https://www.gnu.org/software/octave/support.html"
    },
    {
     "text": "Octave Kernel",
     "url": "https://github.com/Calysto/octave_kernel"
    },
    {
     "text": "MetaKernel Magics",
     "url": "https://metakernel.readthedocs.io/en/latest/source/README.html"
    }
   ],
   "mimetype": "text/x-octave",
   "name": "octave",
   "version": "4.2.2"
  },
  "latex_envs": {
   "LaTeX_envs_menu_present": true,
   "autoclose": false,
   "autocomplete": true,
   "bibliofile": "biblio.bib",
   "cite_by": "apalike",
   "current_citInitial": 1,
   "eqLabelWithNumbers": true,
   "eqNumInitial": 1,
   "hotkeys": {
    "equation": "Ctrl-E",
    "itemize": "Ctrl-I"
   },
   "labels_anchors": false,
   "latex_user_defs": false,
   "report_style_numbering": false,
   "user_envs_cfg": false
  }
 },
 "nbformat": 4,
 "nbformat_minor": 4
}
