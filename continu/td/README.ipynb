{
 "cells": [
  {
   "cell_type": "markdown",
   "id": "4b85d0ed-d1aa-4d6f-af25-66152bfa20ae",
   "metadata": {},
   "source": [
    "---\n",
    "Guide TD continu (2IMACS)\n",
    "---\n"
   ]
  },
  {
   "cell_type": "markdown",
   "id": "27fc2186-c310-4eb8-b00a-3945afda1e87",
   "metadata": {
    "jp-MarkdownHeadingCollapsed": true,
    "tags": []
   },
   "source": [
    "\n",
    "# Exercices à avoir vu\n",
    "---\n",
    "\n",
    "\n",
    "Thème | Chapitre | Exos\n",
    "------|----------|------\n",
    "Systèmes linéaires | Ch2 [poly 2.7 page 34](https://moodle.insa-toulouse.fr/mod/resource/view.php?id=24741#section.2.7)| Exo 1,2,4 (3 en option)\n",
    "Laplace |  Ch3 [poly 3.7 page 53](https://moodle.insa-toulouse.fr/mod/resource/view.php?id=24741#section.3.7) | 1,2,3 puis 5,6\n",
    "Laplace Filtrage |  Ch4 [poly 4.6 page 73](https://moodle.insa-toulouse.fr/mod/resource/view.php?id=24741#section.4.6) | rien (2, 5 en option car similaire à électronique)\n",
    "S.d.Fourier |  Ch5 [poly 5.9 page 94](https://moodle.insa-toulouse.fr/mod/resource/view.php?id=24741#section.5.9) | 1,2,3,6,7 (8,9 en opt.)\n",
    "T.d.Fourier |  Ch6 [poly 6.8 page 110](https://moodle.insa-toulouse.fr/mod/resource/view.php?id=24741#section.6.8) | 1,2,3,5 (4 en option)\n",
    "Filtrage temporel |  Ch7 [poly 7.5 page 124](https://moodle.insa-toulouse.fr/mod/resource/view.php?id=24741#section.7.5) | 2 (pas tout), 3.1 à 3.3, 5\n",
    "Energie, convolution |  Ch8 [poly 8.7 page 141](https://moodle.insa-toulouse.fr/mod/resource/view.php?id=24741#section.8.7) | 1(pas tout), 2.1, 4.1, 7\n",
    "\n",
    "\n"
   ]
  },
  {
   "cell_type": "markdown",
   "id": "2b1afa1a-7117-4bb4-9ef8-e873ea2a9e6e",
   "metadata": {},
   "source": [
    "# Déroulement 0xACC0\n",
    "---\n",
    "\n",
    "\n",
    "Séance | Chapitre | Exercices |   Page d'aide\n",
    "-------|----------|-----------|-----------------\n",
    "S1     |  Ch. 2 p34-36   | 2.1, 4 |  [Signaux de base et phaseurs](ch2_s1_signaux_base_et_phaseur.ipynb)\n",
    "S2     | Ch. 2      | 2.2, 1   |    [Ondes complexes et systèmes linéaires](https://nbviewer.org/github/balaise31/Signal/blob/master/continu/tds/ch2_s2_linearite_et_rip.ipynb)\n",
    "S3     | Ch. 2      | 2.1b + Laplace, 1  |    [Décomposition linéarité et laplace](https://nbviewer.org/github/balaise31/Signal/blob/master/continu/tds/ch2_s3_linearite_et_laplace.ipynb)\n",
    "S4     | Ch. 3    | 1,2,3  |    [Transformées de Laplace](https://nbviewer.org/github/balaise31/Signal/blob/master/continu/tds/ch3_s4_laplace.ipynb)\n",
    "S5     | Ch. 3    | 3 (5,6 opt)  |    [Equa. Diff. avec Laplace](https://nbviewer.org/github/balaise31/Signal/blob/master/continu/tds/ch3_s5_equa_diff.ipynb)\n",
    "S6     | Ch. 5    |   1.3,7,2  |    [S.d.F.](https://nbviewer.org/github/balaise31/Signal/blob/master/continu/tds/ch5_s6_series.ipynb) et l' [Intro/récap](https://nbviewer.org/github/balaise31/Signal/blob/master/continu/tds/intro_series.ipynb)\n",
    "S7     | TD Matlab/octave    | moodle  |    [TD Octave](https://nbviewer.org/github/balaise31/Signal/blob/master/continu/tds/intro_octave.ipynb) \n",
    "S8     | TD Matlab/octave    | moodle  |    [TD Octave](https://nbviewer.org/github/balaise31/Signal/blob/master/continu/tds/intro_octave.ipynb)\n",
    "S9 / S10    | Ch. 5    |  1fin,2fin,3  | [S.d.F. suite](https://nbviewer.org/github/balaise31/Signal/blob/master/continu/tds/ch5_s9_series.ipynb)   \n",
    "S11    | Ch. 5    |  3fin, 1fin, 6(mix 2 Fourier)   |   [mix S.d.F et TF](https://nbviewer.org/github/balaise31/Signal/blob/master/continu/tds/ch6_mix_series.ipynb) \n",
    "S12 / S13  | Ch. 6    |  2fin (mix 6 Series),3 (pistes)  |  [TF](https://nbviewer.org/github/balaise31/Signal/blob/master/continu/tds/ch6_tf.ipynb) \n",
    "S14    | Ch. 6    |  3fin(questions),1, 5 vs Chap4 exo 6  |    \n",
    "S15    | Ch. 7    |  2.1, 3, 5    |            [Convolutions](https://nbviewer.org/github/balaise31/Signal/blob/master/continu/tds/ch7_convolutions.ipynb)\n",
    "S16 (supplément)    | Ch. 8    |  ch7fin, 1b, 1a, 1d vs 4.1, 7  |    [Correlation et energie](https://nbviewer.org/github/balaise31/Signal/blob/master/continu/tds/ch8_correlation.ipynb) \n",
    "\n",
    "[![Binder](https://mybinder.org/badge_logo.svg)](https://mybinder.org/v2/gh/balaise31/Signal/HEAD/continu/tds) pour exécuter les notebooks Octave en ligne"
   ]
  },
  {
   "cell_type": "code",
   "execution_count": null,
   "id": "3134f2c0-fb67-4f8d-9fa0-83d1b77518a6",
   "metadata": {},
   "outputs": [],
   "source": []
  }
 ],
 "metadata": {
  "kernelspec": {
   "display_name": "Python 3 (ipykernel)",
   "language": "python",
   "name": "python3"
  },
  "language_info": {
   "codemirror_mode": {
    "name": "ipython",
    "version": 3
   },
   "file_extension": ".py",
   "mimetype": "text/x-python",
   "name": "python",
   "nbconvert_exporter": "python",
   "pygments_lexer": "ipython3",
   "version": "3.10.1"
  }
 },
 "nbformat": 4,
 "nbformat_minor": 5
}
