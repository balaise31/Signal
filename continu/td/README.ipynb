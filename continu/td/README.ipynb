{
 "cells": [
  {
   "cell_type": "markdown",
   "id": "4b85d0ed-d1aa-4d6f-af25-66152bfa20ae",
   "metadata": {},
   "source": [
    "---\n",
    "Guide TD continu (2IMACS)\n",
    "---\n"
   ]
  },
  {
   "cell_type": "markdown",
   "id": "2b1afa1a-7117-4bb4-9ef8-e873ea2a9e6e",
   "metadata": {},
   "source": [
    "Cliquez sur [![Binder](https://mybinder.org/badge_logo.svg)](https://mybinder.org/v2/gh/balaise31/signal/HEAD?labpath=continu%2Ftd%2FREADME.ipynb) pour pouvoir exécuter/modifier du code ou des animations Octave en ligne.\n",
    "\n",
    "> Sinon vous pouvez simplement naviguer et voir les figures sans pouvoir modifier ou interagir...\n",
    "\n",
    "# Déroulement 0xACC0\n",
    "---\n",
    "\n",
    "\n",
    "Séance | Chapitre | Exercices |  Déroulement   |  Notebooks \n",
    "-------|----------|-----------|-----------------|---------------\n",
    "#1     |  Ch. 2    | 2.1, 4 |  [S1 - Signaux de base](S1_signaux_base.ipynb) | [SYS1 : signaux de base](notebooks/SYS1_signaux_de_base.ipynb) et  [SYS2 : Bac à sable](notebooks/SYS2_bac_a_sable.ipynb)\n",
    "#2     | Ch. 2      | 2.2, 1   |    [S2 - Phaseurs](S2_phaseurs.ipynb) | [anim phaseur](anims/phaseurs.ipynb)\n",
    "#3     | Ch. 2      | 2.1b + Laplace, 1  |    [S3 - Linéarité et opérateurs](S3_linearite_et_operateurs.ipynb)|\n",
    "#4     | Ch. 3    | 1,2,3  |    [S4 - Laplace](S4_laplace.ipynb)|\n",
    "#5     | Ch. 3    | 3 (5,6 opt)  |   [S5 - Equ. Diff.](S5_equa_diff.ipynb)|\n",
    "#6     | Ch. 5    |   1.3,7,2  |   [S6 - Séries de Fourier](S6_series.ipynb) | [Intro séries](notebooks/intro_series.ipynb),  [Bac à sable des séries](notebooks/SDF_bac_a_sable.ipynb)\n",
    "#7     | TD Matlab/octave    | moodle 1 à 3  |    [TD Octave](TD_octave.ipynb) | [Intro Octave 1](notebooks/intro_octave_1.ipynb) et [sujet standard sur moodle](https://moodle.insa-toulouse.fr/mod/resource/view.php?id=24759)  \n",
    "#8     | TD Matlab/octave    | moodle 4 + test |    [TD Octave](TD_octave.ipynb)| [Intro Octave 2](notebooks/intro_octave_2.ipynb) et [test sur moodle](https://moodle.insa-toulouse.fr/mod/quiz/view.php?id=24772)\n",
    "#9    | Ch. 5    |  1fin,2fin,3  | [S7 - S.d.F. suite](S7_sdf_suite.ipynb)   | [Intro séries](notebooks/intro_series.ipynb),  [Bac à sable des séries](notebooks/SDF_bac_a_sable.ipynb)\n",
    "#10    | Ch. 6    |  1, 2  |   [S8 - Transformées](S8_transformees.ipynb) |\n",
    "#11  | Ch. 6    |  1fin, 2fin (mix 6 Series), 3(pistes)  |  [S9 - TF suite](S9_tf_suite.ipynb) |\n",
    "#12    | Ch. 7    | ,1, 5 vs Chap4 exo 6  | [S10 - Convolutions et Rip](S10_convolution_et_rip.ipynb)\n",
    "#13    | Ch. 7    |  2.1, 3, 5    |           |\n",
    "#14 (supplément)    | Ch. 8    |  ch7fin, 1b, 1a, 1d vs 4.1, 7  |    |\n",
    "\n"
   ]
  },
  {
   "cell_type": "markdown",
   "id": "f4398cbd-fd93-413b-aa44-37d2c36359f0",
   "metadata": {
    "tags": []
   },
   "source": [
    "\n",
    "# Exercices à avoir vu\n",
    "---\n",
    "\n",
    "\n",
    "Thème | Chapitre | Exos\n",
    "------|----------|------\n",
    "Systèmes linéaires | Ch2 [poly 2.7 page 34](https://moodle.insa-toulouse.fr/mod/resource/view.php?id=24741#section.2.7)| Exo 1,2,4 (3 en option)\n",
    "Laplace |  Ch3 [poly 3.7 page 53](https://moodle.insa-toulouse.fr/mod/resource/view.php?id=24741#section.3.7) | 1,2,3 puis 5,6\n",
    "Laplace Filtrage |  Ch4 [poly 4.6 page 73](https://moodle.insa-toulouse.fr/mod/resource/view.php?id=24741#section.4.6) | rien (2, 5 en option car similaire à électronique)\n",
    "S.d.Fourier |  Ch5 [poly 5.9 page 94](https://moodle.insa-toulouse.fr/mod/resource/view.php?id=24741#section.5.9) | 1,2,3,6,7 (8,9 en opt.)\n",
    "T.d.Fourier |  Ch6 [poly 6.8 page 110](https://moodle.insa-toulouse.fr/mod/resource/view.php?id=24741#section.6.8) | 1,2,3,5 (4 en option)\n",
    "Filtrage temporel |  Ch7 [poly 7.5 page 124](https://moodle.insa-toulouse.fr/mod/resource/view.php?id=24741#section.7.5) | 2 (pas tout), 3.1 à 3.3, 5\n",
    "Energie, convolution |  Ch8 [poly 8.7 page 141](https://moodle.insa-toulouse.fr/mod/resource/view.php?id=24741#section.8.7) | 1(pas tout), 2.1, 4.1, 7\n",
    "\n",
    "\n"
   ]
  }
 ],
 "metadata": {
  "kernelspec": {
   "display_name": "Octave",
   "language": "octave",
   "name": "octave"
  },
  "language_info": {
   "file_extension": ".m",
   "help_links": [
    {
     "text": "GNU Octave",
     "url": "https://www.gnu.org/software/octave/support.html"
    },
    {
     "text": "Octave Kernel",
     "url": "https://github.com/Calysto/octave_kernel"
    },
    {
     "text": "MetaKernel Magics",
     "url": "https://metakernel.readthedocs.io/en/latest/source/README.html"
    }
   ],
   "mimetype": "text/x-octave",
   "name": "octave",
   "version": "4.2.2"
  }
 },
 "nbformat": 4,
 "nbformat_minor": 5
}
