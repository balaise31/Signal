{
 "cells": [
  {
   "cell_type": "markdown",
   "id": "4b85d0ed-d1aa-4d6f-af25-66152bfa20ae",
   "metadata": {},
   "source": [
    "---\n",
    "Guide TD continu (2IMACS)\n",
    "---\n"
   ]
  },
  {
   "cell_type": "markdown",
   "id": "f4398cbd-fd93-413b-aa44-37d2c36359f0",
   "metadata": {
    "jp-MarkdownHeadingCollapsed": true,
    "tags": []
   },
   "source": [
    "\n",
    "# Exercices à avoir vu\n",
    "---\n",
    ":warning:\n",
    ">  **Identifiez-vous au moins une fois en cliquant** par exemple sur [ce lien vers le poly](https://moodle.insa-toulouse.fr/mod/resource/view.php?id=24741).  \n",
    "Vous pourrez ensuite cliquer sur les liens du tableau qui vous amèneront **directement à la bonne page**.\n",
    "\n",
    "Thème | Chapitre | Aides/indications | Séances |\n",
    "------|----------|------|---------|\n",
    "Systèmes linéaires | Ch2 [poly 2.7](https://moodle.insa-toulouse.fr/mod/resource/view.php?id=24741#section.2.7)| [Exo 1](S3_linearite_et_operateurs.ipynb#En-s%C3%A9ance),[exo 2](./notebooks/SYS2_bac_a_sable.ipynb#Signal-d-de-Ch3Ex1),[exo 4](./anims/phaseurs.ipynb#Exercice-:-A%CF%86-vers-Phaseur-et-IQ) et 5 | TD1 et TD2\n",
    "Laplace |  Ch3 [poly 3.7](https://moodle.insa-toulouse.fr/mod/resource/view.php?id=24741#section.3.7) | [Exo 1](S4_laplace.ipynb#Th%C3%A9or%C3%A8me-du-retard-admis-honteusement-!),[exo 2](./S5_equa_diff.ipynb#Faire-l'exerice-2-pour-les-transform%C3%A9es-inverses), [exo 3](./S5_equa_diff.ipynb#Exercice-3) (option  5,6) |TD3 TD4|\n",
    "Filtrage |  Ch4 [poly 4.6](https://moodle.insa-toulouse.fr/mod/resource/view.php?id=24741#section.4.6) | rien (2 en option car illustration de Bode)| Aucune  |\n",
    "Filtrage |  TD Matlab/Octave [sujet moodle](https://moodle.insa-toulouse.fr/mod/resource/view.php?id=24759)   | [TD Octave](TD_octave.ipynb) | TD5 et TD6 (machine)  |\n",
    "S.d.Fourier |  Ch5 [poly 5.9](https://moodle.insa-toulouse.fr/mod/resource/view.php?id=24741#section.5.9) | [exo 3](S6_series.ipynb#Exercice-3-:), [exo 4](S7_sdf_suite.ipynb#Exercice-4-signal-x), puis 7 , [exo 8](S6_series.ipynb#Exercice-8) ,9  puis [exo 1](S7_sdf_suite.ipynb#Exercice-1.1-et-1.2), 2 | TD7, TD8, TD9 |\n",
    "T.d.Fourier |  Ch6 [poly 6.8](https://moodle.insa-toulouse.fr/mod/resource/view.php?id=24741#section.6.8) | [exo 2](S8_transformees.ipynb#Exercice-2), [exo 3](S9_tf_suite.ipynb#Exercice-3), 4 puis 5, [exo 1](S8_transformees.ipynb#Exercice-important-(exo1-TF)-:-sinc) [exo 1 fin](S9_tf_suite.ipynb#Exercice-1-suite-et-fin)| TD10, TD11 |\n",
    "Filtrage temporel |  Ch7 [poly 7.5](https://moodle.insa-toulouse.fr/mod/resource/view.php?id=24741#section.7.5) | [exo 2](S10_convolution_et_rip.ipynb#Exercice-2), [exo 3](S10_convolution_et_rip.ipynb#Exercice-3), 5 | TD12, début TD13 |\n",
    "Energie, convolution |  Ch8 [poly 8.8](https://moodle.insa-toulouse.fr/mod/resource/view.php?id=24741#section.8.8) | 1, 2, 3 puis 7 puis 6 | fin TD13, TD14 |\n",
    "\n",
    "\n"
   ]
  },
  {
   "cell_type": "markdown",
   "id": "2b1afa1a-7117-4bb4-9ef8-e873ea2a9e6e",
   "metadata": {},
   "source": [
    "\n",
    "\n",
    "# Déroulement 0xACC0\n",
    "---\n",
    "\n",
    "\n",
    "Séance | Chapitre | Exercices |  Déroulement   |  Notebooks \n",
    "-------|----------|-----------|-----------------|---------------\n",
    "#1     |  Ch. 2    | 2.1, 4 |  [S1 - Signaux de base](S1_signaux_base.ipynb) | [SYS1 : signaux de base](notebooks/SYS1_signaux_de_base.ipynb) et  [SYS2 : Bac à sable](notebooks/SYS2_bac_a_sable.ipynb)\n",
    "#2     | Ch. 2      | 2.2, 1   |    [S2 - Phaseurs](S2_phaseurs.ipynb) | [anim phaseur](anims/phaseurs.ipynb)\n",
    "#3     | Ch. 2      | 2.1b + Laplace, 1  |    [S3 - Linéarité et opérateurs](S3_linearite_et_operateurs.ipynb)|\n",
    "#4     | Ch. 3    | 1,2,3  |    [S4 - Laplace](S4_laplace.ipynb)|\n",
    "#5     | Ch. 3    | 3 (5,6 opt)  |   [S5 - Equ. Diff.](S5_equa_diff.ipynb)|\n",
    "#6     | Ch. 5    |   1.3,7,2  |   [S6 - Séries de Fourier](S6_series.ipynb) | [Intro séries](notebooks/intro_series.ipynb),  [Bac à sable des séries](notebooks/SDF_bac_a_sable.ipynb)\n",
    "#7     | TD Matlab/octave    | moodle 1 à 3  |    [TD Octave](TD_octave.ipynb) | [Intro Octave 1](notebooks/intro_octave_1.ipynb) et [sujet standard sur moodle](https://moodle.insa-toulouse.fr/mod/resource/view.php?id=24759)  \n",
    "#8     | TD Matlab/octave    | moodle 4 + test |    [TD Octave](TD_octave.ipynb)| [Intro Octave 2](notebooks/intro_octave_2.ipynb) et [test sur moodle](https://moodle.insa-toulouse.fr/mod/quiz/view.php?id=24772)\n",
    "#9    | Ch. 5    |  1fin,2fin,3  | [S7 - S.d.F. suite](S7_sdf_suite.ipynb)   | [Intro séries](notebooks/intro_series.ipynb),  [Bac à sable des séries](notebooks/SDF_bac_a_sable.ipynb)\n",
    "#10    | Ch. 6    |  1, 2  |   [S8 - Transformées](S8_transformees.ipynb) |\n",
    "#11  | Ch. 6    |  1fin, 2fin (mix 6 Series), 3(pistes)  |  [S9 - TF suite](S9_tf_suite.ipynb) |\n",
    "#12    | Ch. 7    | ,1, 5 vs Chap4 exo 6  | [S10 - Convolutions et Rip](S10_convolution_et_rip.ipynb)\n",
    "#13    | Ch. 7    |  2.1, 3, 5    |           |\n",
    "#14 (supplément)    | Ch. 8    |  ch7fin, 1b, 1a, 1d vs 4.1, 7  |    |\n",
    "\n"
   ]
  },
  {
   "cell_type": "code",
   "execution_count": null,
   "id": "83e93003-cc63-43f8-bb53-f09c707d200c",
   "metadata": {},
   "outputs": [],
   "source": []
  }
 ],
 "metadata": {
  "kernelspec": {
   "display_name": "Octave",
   "language": "octave",
   "name": "octave"
  },
  "language_info": {
   "file_extension": ".m",
   "help_links": [
    {
     "text": "GNU Octave",
     "url": "https://www.gnu.org/software/octave/support.html"
    },
    {
     "text": "Octave Kernel",
     "url": "https://github.com/Calysto/octave_kernel"
    },
    {
     "text": "MetaKernel Magics",
     "url": "https://metakernel.readthedocs.io/en/latest/source/README.html"
    }
   ],
   "mimetype": "text/x-octave",
   "name": "octave",
   "version": "4.2.2"
  }
 },
 "nbformat": 4,
 "nbformat_minor": 5
}
