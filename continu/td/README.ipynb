{
 "cells": [
  {
   "cell_type": "markdown",
   "id": "4b85d0ed-d1aa-4d6f-af25-66152bfa20ae",
   "metadata": {},
   "source": [
    "---\n",
    "Guide TD continu (2IMACS)\n",
    "---\n"
   ]
  },
  {
   "cell_type": "markdown",
   "id": "2b1afa1a-7117-4bb4-9ef8-e873ea2a9e6e",
   "metadata": {},
   "source": [
    "Cliquez sur [![Binder](https://mybinder.org/badge_logo.svg)](https://mybinder.org/v2/gh/balaise31/Signal/HEAD/continu/td) pour pouvoir exécuter/modifier du code ou des animations Octave en ligne.\n",
    "\n",
    "> Sinon vous pouvez simplement naviguer et voir les figures sans pouvoir modifier ou interagir...\n",
    "\n",
    "# Déroulement 0xACC0\n",
    "---\n",
    "\n",
    "\n",
    "Séance | Chapitre | Exercices |   Page d'aide\n",
    "-------|----------|-----------|-----------------\n",
    "S1     |  Ch. 2 p34-36   | 2.1, 4 |  [S1 - Signaux de base](S1_signaux_base.ipynb)\n",
    "S2     | Ch. 2      | 2.2, 1   |    [S2 - Phaseurs](S2_phaseurs.ipynb)\n",
    "S3     | Ch. 2      | 2.1b + Laplace, 1  |    [S3 - Linéarité et opérateurs](S3_linearite_et_operateurs.ipynb)\n",
    "S4     | Ch. 3    | 1,2,3  |    [S4 - Laplace](S4_laplace.ipynb)\n",
    "S5     | Ch. 3    | 3 (5,6 opt)  |   [S5 - Equ. Diff.](S5_equa_diff.ipynb)\n",
    "S6     | Ch. 5    |   1.3,7,2  |    [S.d.F.](https://nbviewer.org/github/balaise31/Signal/blob/master/continu/tds/ch5_s6_series.ipynb) et l' [Intro/récap](https://nbviewer.org/github/balaise31/Signal/blob/master/continu/tds/intro_series.ipynb)\n",
    "S7     | TD Matlab/octave    | moodle  |    [TD Octave](https://nbviewer.org/github/balaise31/Signal/blob/master/continu/tds/intro_octave.ipynb) \n",
    "S8     | TD Matlab/octave    | moodle  |    [TD Octave](https://nbviewer.org/github/balaise31/Signal/blob/master/continu/tds/intro_octave.ipynb)\n",
    "S9 / S10    | Ch. 5    |  1fin,2fin,3  | [S.d.F. suite](https://nbviewer.org/github/balaise31/Signal/blob/master/continu/tds/ch5_s9_series.ipynb)   \n",
    "S11    | Ch. 5    |  3fin, 1fin, 6(mix 2 Fourier)   |   [mix S.d.F et TF](https://nbviewer.org/github/balaise31/Signal/blob/master/continu/tds/ch6_mix_series.ipynb) \n",
    "S12 / S13  | Ch. 6    |  2fin (mix 6 Series),3 (pistes)  |  [TF](https://nbviewer.org/github/balaise31/Signal/blob/master/continu/tds/ch6_tf.ipynb) \n",
    "S14    | Ch. 6    |  3fin(questions),1, 5 vs Chap4 exo 6  |    \n",
    "S15    | Ch. 7    |  2.1, 3, 5    |            [Convolutions](https://nbviewer.org/github/balaise31/Signal/blob/master/continu/tds/ch7_convolutions.ipynb)\n",
    "S16 (supplément)    | Ch. 8    |  ch7fin, 1b, 1a, 1d vs 4.1, 7  |    [Correlation et energie](https://nbviewer.org/github/balaise31/Signal/blob/master/continu/tds/ch8_correlation.ipynb) \n",
    "\n"
   ]
  },
  {
   "cell_type": "markdown",
   "id": "f4398cbd-fd93-413b-aa44-37d2c36359f0",
   "metadata": {
    "tags": []
   },
   "source": [
    "\n",
    "# Exercices à avoir vu\n",
    "---\n",
    "\n",
    "\n",
    "Thème | Chapitre | Exos\n",
    "------|----------|------\n",
    "Systèmes linéaires | Ch2 [poly 2.7 page 34](https://moodle.insa-toulouse.fr/mod/resource/view.php?id=24741#section.2.7)| Exo 1,2,4 (3 en option)\n",
    "Laplace |  Ch3 [poly 3.7 page 53](https://moodle.insa-toulouse.fr/mod/resource/view.php?id=24741#section.3.7) | 1,2,3 puis 5,6\n",
    "Laplace Filtrage |  Ch4 [poly 4.6 page 73](https://moodle.insa-toulouse.fr/mod/resource/view.php?id=24741#section.4.6) | rien (2, 5 en option car similaire à électronique)\n",
    "S.d.Fourier |  Ch5 [poly 5.9 page 94](https://moodle.insa-toulouse.fr/mod/resource/view.php?id=24741#section.5.9) | 1,2,3,6,7 (8,9 en opt.)\n",
    "T.d.Fourier |  Ch6 [poly 6.8 page 110](https://moodle.insa-toulouse.fr/mod/resource/view.php?id=24741#section.6.8) | 1,2,3,5 (4 en option)\n",
    "Filtrage temporel |  Ch7 [poly 7.5 page 124](https://moodle.insa-toulouse.fr/mod/resource/view.php?id=24741#section.7.5) | 2 (pas tout), 3.1 à 3.3, 5\n",
    "Energie, convolution |  Ch8 [poly 8.7 page 141](https://moodle.insa-toulouse.fr/mod/resource/view.php?id=24741#section.8.7) | 1(pas tout), 2.1, 4.1, 7\n",
    "\n",
    "\n"
   ]
  }
 ],
 "metadata": {
  "kernelspec": {
   "display_name": "Octave",
   "language": "octave",
   "name": "octave"
  },
  "language_info": {
   "file_extension": ".m",
   "help_links": [
    {
     "text": "GNU Octave",
     "url": "https://www.gnu.org/software/octave/support.html"
    },
    {
     "text": "Octave Kernel",
     "url": "https://github.com/Calysto/octave_kernel"
    },
    {
     "text": "MetaKernel Magics",
     "url": "https://metakernel.readthedocs.io/en/latest/source/README.html"
    }
   ],
   "mimetype": "text/x-octave",
   "name": "octave",
   "version": "4.2.2"
  }
 },
 "nbformat": 4,
 "nbformat_minor": 5
}
