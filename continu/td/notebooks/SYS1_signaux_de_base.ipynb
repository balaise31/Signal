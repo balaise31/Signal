{
 "cells": [
  {
   "cell_type": "markdown",
   "id": "c89cdb91-4eed-4c27-afdc-36d179f7f37e",
   "metadata": {},
   "source": [
    "|--- | Revenir à la [page déroulement](../README.ipynb) | [SYS2 - bac à sable](SYS2_bac_a_sable.ipynb)|\n",
    "|-------------|---|---|\n",
    "\n",
    "---\n",
    "# SYS1 - Signaux de base\n",
    "---\n"
   ]
  },
  {
   "cell_type": "markdown",
   "id": "741a24fd-b759-40c8-9108-d75285ce6ef8",
   "metadata": {},
   "source": [
    "Nous allons voir les signaux et systèmes de base utilisés pour décomposer un signal/système plus complexe.\n",
    "\n",
    "On comprend alors la chaîne d'intégration avec à la base la **distribution de Dirac** :\n",
    "\n",
    "$ \\delta_0 \\quad\\underset{\\underset{p}{\\longleftarrow}}{\\overset{p^{-1}}{\\longrightarrow}}\\quad \n",
    "u \\quad\\underset{\\underset{p}{\\longleftarrow}}{\\overset{p^{-1}}{\\longrightarrow}}\\quad\n",
    "r : t\\mapsto t.u(t)\\quad\\underset{\\underset{p}{\\longleftarrow}}{\\overset{p^{-1}}{\\longrightarrow}}\\quad\n",
    "a : t\\mapsto \\frac{1}{2}.t^2.u(t)\\quad\\underset{\\underset{p}{\\longleftarrow}}{\\overset{p^{-1}}{\\longrightarrow}}\\quad\n",
    "\\ldots$ \n",
    "\n",
    "Ce qui donnera en transformées de Laplace\n",
    "\n",
    "$ \\delta_0(p) = 1 \\quad\\underset{\\underset{p}{\\longleftarrow}}{\\overset{p^{-1}}{\\longrightarrow}}\\quad \n",
    "U(p)=\\frac{1}{p} \\quad\\underset{\\underset{p}{\\longleftarrow}}{\\overset{p^{-1}}{\\longrightarrow}}\\quad\n",
    "R(p)=\\frac{1}{p^2} \\quad\\underset{\\underset{p}{\\longleftarrow}}{\\overset{p^{-1}}{\\longrightarrow}}\\quad\n",
    "A(p)=\\frac{1}{p^3}\\quad\\underset{\\underset{p}{\\longleftarrow}}{\\overset{p^{-1}}{\\longrightarrow}}\\quad\n",
    "\\ldots$ "
   ]
  },
  {
   "cell_type": "markdown",
   "id": "238e9fac-db21-4788-aea8-26c021950729",
   "metadata": {
    "jp-MarkdownHeadingCollapsed": true,
    "tags": []
   },
   "source": [
    "# Notations et rigueur réel $\\neq$ fonction $\\neq$ opérateur\n",
    "Pour comprendre $f(t) \\neq f$, $T[f]=g$ correct, $T[f(\\bullet-2)](t)$ correct et $T[f(t-2)]$ incorect"
   ]
  },
  {
   "cell_type": "markdown",
   "id": "79781657-85ed-40a6-a9fc-c065fb2e14be",
   "metadata": {
    "jp-MarkdownHeadingCollapsed": true,
    "tags": []
   },
   "source": [
    "## Réel $\\neq$ Fonction ou Signal $\\neq$ valeur du signal à un instant"
   ]
  },
  {
   "cell_type": "markdown",
   "id": "b2cce8fd-8051-4c3d-9033-4591a42eab83",
   "metadata": {
    "tags": []
   },
   "source": [
    "> Attention $f\\neq f(t)$ car f est une fonction $\\mathbb{R}\\to\\mathbb{R}$ et $f(t)\\in \\mathbb{R}$ est un réel qui est sa valeur en supposant que $t$ est défini quelque part dans le texte (genre $\\forall t\\in\\mathbb{R}$ ou bien *Soit $t\\in\\mathbb{R}$*)!\n",
    " \n",
    "Lorsque l'on veut parler par exemple de la fonction $t \\mapsto f(t-2)$ (et non $f(t-2)$ qui est un réel) on utilisera la notation concise $f(\\bullet-2)$  qui montre clairement que c'est une fonction et que la variable peut être autre chose que $t$.\n",
    "\n",
    "> $\\forall t\\in\\mathbb{R}, f(\\bullet-2)(t) = f(t-2)$ mais $f(t-2)$ est un nombre et non une fonction !"
   ]
  },
  {
   "cell_type": "markdown",
   "id": "bcb69cf8-14db-4fa9-a819-6044e649b47c",
   "metadata": {
    "jp-MarkdownHeadingCollapsed": true,
    "tags": []
   },
   "source": [
    "## Fonction $\\neq$ Opérateur ou Signal $\\neq$ Système"
   ]
  },
  {
   "cell_type": "markdown",
   "id": "daeaff94-5278-43e8-8a5c-0563a0da753e",
   "metadata": {
    "tags": []
   },
   "source": [
    "Un système est représenté par un **opérateur** mathématique, c-à-d une **application qui transforme une application en application !**\n",
    "\n",
    "En effet un système transforme un signal d'entrée en un signal de sortie (et non pas des réels !). Il est important de différentier :\n",
    "  - $f$ : une fonction qui transforme un réel en un réel\n",
    "  - $T\\{f\\}$ ou $T[f]$ : la fonction obtenue en appliquant un opérateur $T$ à une fonction $f$ \n",
    "  - $T\\{f\\}(t)$ : l'évaluation à l'instant $t$ de la fonction $T\\{f\\}$ obtenue en appliquant l'opérateur $T$ à la fonction $f$\n",
    "\n",
    ">   En bref les () pour les fonctions et les {} ou [] pour les opérateurs transformants des fonctions en fonctions.  \n",
    ">  $f(t) \\neq f$, $T[f] = g \\neq g(t)$, et  \n",
    ">  $T[f](t) = g(t) \\in \\mathbb{R}$ mais $T[f(t)]$ n'as pas de sens !   \n",
    ">  $T[f(t-2)]$ n'as pas de sens alors que $T[t\\mapsto f(t-2)]=T[f(\\bullet-2)]$ oui !  "
   ]
  },
  {
   "cell_type": "markdown",
   "id": "93acb7ac-cada-426d-bc06-689e530367bc",
   "metadata": {
    "tags": []
   },
   "source": [
    "# L'opérateur intégrale : echelon u, rampe r et ...\n",
    "Comprendre l'intégrale de l'échelon $u$, de la rampe $r$, pour avoir l'accélération $a$ et comment afficher avec Matlab/Octave"
   ]
  },
  {
   "cell_type": "markdown",
   "id": "8598ea72-bd12-4e13-81d5-ba4d01b31caf",
   "metadata": {
    "tags": []
   },
   "source": [
    "## Echelon unité - Unit step - u "
   ]
  },
  {
   "cell_type": "markdown",
   "id": "048afb1b-1168-4009-8a8a-9a4504083f04",
   "metadata": {
    "jp-MarkdownHeadingCollapsed": true,
    "tags": []
   },
   "source": [
    "Le premier signal de base est l'échelon unité ou échelon de Heaviside noté $u$ (parfois $h$ en hommage à Heaviside)qui est de $\\mathbb{R}\\to\\mathbb{R}$.\n",
    "\n",
    "Il vaut 1 lorsque la variable est strictement positive, 0 lorsqu'elle est strictement négative. Il n'y a pas de convention unanime pour donner une valeur en 0 où la fonction est discontinue.\n",
    "\n",
    "Utilisons Matlab/Octave pour l'afficher (faire SHIFT+ENTER dans la cellule pour l'exécuter) :"
   ]
  },
  {
   "cell_type": "code",
   "execution_count": 1,
   "id": "3106e4c5-6f29-4575-9ecf-ea12db9ac5e4",
   "metadata": {},
   "outputs": [
    {
     "data": {
      "image/png": "[encoded data removed]",
      "text/plain": [
       "<IPython.core.display.Image object>"
      ]
     },
     "metadata": {},
     "output_type": "display_data"
    }
   ],
   "source": [
    "clear all;\n",
    "\n",
    "signaux_de_base ; %importe le vecteur temps t, \n",
    "                  %  les fonctions u,r,a et \n",
    "                  % les opérateurs OpD (dérivée) et OpI(intégrale)\n",
    "plot(t,u(t))\n"
   ]
  },
  {
   "cell_type": "markdown",
   "id": "36251cd6-8629-40f8-9546-380064fa7176",
   "metadata": {
    "tags": []
   },
   "source": [
    "## Rampe unitée - Unit ramp - r"
   ]
  },
  {
   "cell_type": "markdown",
   "id": "370c7149-3468-4529-8d8d-fdb3eaabc06e",
   "metadata": {},
   "source": [
    "L'intégrale de l'échelon qui s'annule pour t<0 de ce signal est la \"fonction rampe\" (*ramp* en anglais) notée $r$.\n",
    "\n",
    "On peut la définir comme la fonction $t\\mapsto t.u(t)$ où l'échelon de Heaviside sert comme souvent à annuler la fonction pour les temps négatifs (on parle alors de *fonction causale*)"
   ]
  },
  {
   "cell_type": "code",
   "execution_count": 2,
   "id": "79181847-3f03-4f02-b8b2-4bb6c9b6177f",
   "metadata": {},
   "outputs": [
    {
     "name": "stdout",
     "output_type": "stream",
     "text": [
      "warning: legend: plot data is empty; setting key labels has no effect\n",
      "warning: called from\n",
      "    legend at line 378 column 9\n",
      "error: kids(0): subscripts must be either integers 1 to (2^31)-1 or logicals\n",
      "error: called from\n",
      "    legend at line 408 column 13\n"
     ]
    }
   ],
   "source": [
    "plot(t,r(t),'o-',t,u(t),'+-')\n",
    "legend(['echelon u';'rampe r'])"
   ]
  },
  {
   "cell_type": "markdown",
   "id": "0f11b76b-1efb-4a6c-9d4f-a6fce91a54ff",
   "metadata": {},
   "source": [
    "On peut utiliser le calcul numérique pour approcher la valeur d'une intégrale.\n",
    "\n",
    "Ici on utilise l'**opérateur d'intégration** numérique `OpI` qui **prend une fonction et renvoie la fonction** primitive qui s'annule en 0.\n",
    "\n",
    "Cet un opérateur donc il s'applique à la fonction $u$ et non pas à ses valeurs $u(t)$ ! \n",
    "\n",
    "On peut ensuite évaluer cette fonction $OpI(u)$ (fonction primitive) à différents instants $t$ ce qui donne $OpI(u)(t)$ (valeurs de cette primitive)"
   ]
  },
  {
   "cell_type": "code",
   "execution_count": 11,
   "id": "4d2d5612-f882-43ff-9cd5-22ded945c390",
   "metadata": {},
   "outputs": [
    {
     "data": {
      "image/png": "[encoded data removed]",
      "text/plain": [
       "<IPython.core.display.Image object>"
      ]
     },
     "metadata": {},
     "output_type": "display_data"
    }
   ],
   "source": [
    "plot(t,r(t),'+', t,OpI(u)(t),'o')"
   ]
  },
  {
   "cell_type": "markdown",
   "id": "921bc9c7-813a-4666-80be-adbe0ada846d",
   "metadata": {
    "jp-MarkdownHeadingCollapsed": true,
    "tags": []
   },
   "source": [
    "## Accélération unité - Jerk - a"
   ]
  },
  {
   "cell_type": "markdown",
   "id": "d7d819ba-8e06-4dc2-b7bd-72eb299782de",
   "metadata": {},
   "source": [
    "On peut ainsi rajouter la rampe d'accélération (*jerk function* parfois en anglais) qui est issue de l'intégrale d'une rampe.\n",
    "\n",
    "On peut la définir comme l'intégrale de r qui s'annule en 0 : $t\\mapsto \\frac{1}{2}.t^2.u(t)$.\n",
    "\n",
    "Elle est utilisée en robotique et physique et automatique car liée à des trajectoires à accélération constante. Cette fonction n'as pas de nom usuel dans la littérature, on prendra ici $a$ pour \"accélération\". "
   ]
  },
  {
   "cell_type": "code",
   "execution_count": 12,
   "id": "c2c5dbdf-dd23-48f2-ba3d-6ca2f16969c7",
   "metadata": {},
   "outputs": [
    {
     "data": {
      "image/png": "[encoded data removed]",
      "text/plain": [
       "<IPython.core.display.Image object>"
      ]
     },
     "metadata": {},
     "output_type": "display_data"
    }
   ],
   "source": [
    "plot(t,a(t),'+-',t,OpI(r)(t),'o-',t,OpI(OpI(u))(t),'.-')\n",
    "legend(['jerk analytique';'integrale num. de r';'integrale de integrale de u '])"
   ]
  },
  {
   "cell_type": "markdown",
   "id": "1e3c3729-7187-4801-ad19-e211123eed39",
   "metadata": {
    "jp-MarkdownHeadingCollapsed": true,
    "tags": []
   },
   "source": [
    "# L'opérateur retard\n",
    "$f(t-2)$ est en retard ou en avance ? Comprendre $t\\mapsto f(t-2) = T_2[f]$ et afficher en Octave"
   ]
  },
  {
   "cell_type": "markdown",
   "id": "77b9c250-eaf5-4872-89eb-44a4815654fb",
   "metadata": {
    "jp-MarkdownHeadingCollapsed": true,
    "tags": []
   },
   "source": [
    "On note $T_\\tau$ le système qui **retarde* d'un temps $\\tau$ un signal donc :\n",
    "\n",
    "$T_\\tau : f(\\bullet) \\quad\\mapsto\\quad f(\\bullet-\\tau)$\n",
    "\n",
    "On note de manière brève $f(\\bullet-\\tau)$ la fonction $ t \\mapsto f(t-\\tau)$\n",
    "\n",
    "Cela donne avec Octave/MAtlab"
   ]
  },
  {
   "cell_type": "code",
   "execution_count": 24,
   "id": "6b22ca87-daf5-4051-86ea-493ced181f2c",
   "metadata": {
    "tags": []
   },
   "outputs": [
    {
     "data": {
      "image/png": "[encoded data removed]",
      "text/plain": [
       "<IPython.core.display.Image object>"
      ]
     },
     "metadata": {},
     "output_type": "display_data"
    }
   ],
   "source": [
    "plot(t,r(t),t,r(t-2),'+-',t,OpT(r,2)(t),'o')\n",
    "legend([\"r(t)\";\"r(t-2)\";\"T_2[r](t)\"])"
   ]
  },
  {
   "cell_type": "markdown",
   "id": "aedf60c7-f682-4e28-a5df-39a16d40dee2",
   "metadata": {
    "jp-MarkdownHeadingCollapsed": true,
    "tags": []
   },
   "source": [
    "# Discontinuités et Dirac\n",
    "\n",
    "Avec l'opérateur dérivé $p$ on veut l'intégrale $p^{-1}$ telle que $p^{-1}\\!\\!\\!\\circ\\!p=p\\!\\circ\\!p^{-1} = Id$ \n",
    "\n",
    "Mais $p[u]=\\vec{0}$ et $p^{-1}[p[u ]]=p^{-1}[\\vec{0}]=\\vec{0}$ car $u$ discontinue. \n",
    "\n",
    "Alors **fonctions généréalisées ou distribution** imaginaire $\\delta_0 = p[u]$ et $p^{-1}[\\delta_0]=u$"
   ]
  },
  {
   "cell_type": "markdown",
   "id": "e391b3f7-c28d-4aaf-8ce5-c102b4d45a64",
   "metadata": {
    "jp-MarkdownHeadingCollapsed": true,
    "tags": []
   },
   "source": [
    "## L'opérateur dérivée p et intégrale $p^{-1}$\n",
    "Comprendre l'opérateur d'intégration $p^{-1}[u]=r$, dérivation $p[r]=u$, et la notation $p^{-1}.p = \\frac{1}{p}.p = 1\\iff p^{-1}[p[f]] = p^{-1}\\!\\!\\circ \\!p[f] = f $ "
   ]
  },
  {
   "cell_type": "markdown",
   "id": "aa54f241-499a-4339-a443-43d9763b6e92",
   "metadata": {
    "tags": []
   },
   "source": [
    "On définit l'opérateur dérivée par $p$ et on admet pour le moment que cet opérateur à un inverse qui est l'intégrale qui s'annule en 0.\n",
    "Dans le cas de fonctions causales $f$ (nulle pour t<0), la primitive qui s'annule en zéro $F$ est aussi causale et on admet que sa dérivée de la primitive est bien $f$ : \n",
    "\n",
    "$\\int f' \\quad = t \\mapsto \\int\\limits_0^t f'(\\nu) d\\nu \\quad = t \\mapsto f(t) - f(0^+)  \\quad = f$\n",
    "\n",
    "et\n",
    "\n",
    "$F' \\quad = t\\mapsto \\left(\\int\\limits_0^t f(\\nu) d\\nu \\right)'  \\quad = \\left( F(t) - F(0) \\right)' \\quad =  f $ \n",
    "\n",
    "Ce qui en terme d'opérateur s'exprime par \n",
    "\n",
    "$p[F] = p[p^{-1}[f]] = p \\circ p^{-1} [f] = Id[f] = f$\n",
    "\n",
    "Par exemple appliquons cela à la fonction rampe. Dans `utiles` l'opérateur dérivée est défini comme `OpD` et l'opérateur primitive `OpI`"
   ]
  },
  {
   "cell_type": "code",
   "execution_count": 13,
   "id": "879e5875-a196-402b-8bed-5ec76d904489",
   "metadata": {},
   "outputs": [
    {
     "data": {
      "image/png": "[encoded data removed]",
      "text/plain": [
       "<IPython.core.display.Image object>"
      ]
     },
     "metadata": {},
     "output_type": "display_data"
    }
   ],
   "source": [
    "plot(t,OpD(OpI(r))(t),'+-',\n",
    "     t,OpI(OpD(r))(t),'o-',\n",
    "     t,r(t),'.-'\n",
    "     )\n",
    "legend([\"D[I[r]]]\";\"I[D[r]]\";\"r\"])"
   ]
  },
  {
   "cell_type": "markdown",
   "id": "5ab0dfaa-f766-48a5-b7c1-b83f8d2784bb",
   "metadata": {
    "tags": []
   },
   "source": [
    "Remarquons que la primitive est bien l'opérateur inverse de la dérivée si la fonction $f$ est telle que $f(0)=0$ et $f(0^+)=0$ : autrement dit la fonction doit être nulle et continue à droite pour $t=0$.\n",
    "\n",
    "Ce n'est pas le cas de la fonction échelon $u$ qui a une discontinuité à droite si on considère $u(0)=0$ (car $u(0^+)=1$) ou bien $u(0)=1$ si on prolonge par continuité à droite : \n",
    "\n",
    "> $p\\circ p^{-1} = Id$ cela ne marche pas pour les discontinuités ! "
   ]
  },
  {
   "cell_type": "markdown",
   "id": "474ee364-54dd-4fbd-9596-d53d6d588748",
   "metadata": {
    "jp-MarkdownHeadingCollapsed": true,
    "tags": []
   },
   "source": [
    "## Regardons la dérivée de l'échelon :"
   ]
  },
  {
   "cell_type": "code",
   "execution_count": 14,
   "id": "5db442ad-ea52-4ccb-b2cb-4c5bbb0c7508",
   "metadata": {},
   "outputs": [
    {
     "data": {
      "image/png": "[encoded data removed]",
      "text/plain": [
       "<IPython.core.display.Image object>"
      ]
     },
     "metadata": {},
     "output_type": "display_data"
    }
   ],
   "source": [
    "plot(t,u(t), t,OpD(u)(t))"
   ]
  },
  {
   "cell_type": "markdown",
   "id": "d572833f-8cfe-4745-b85b-87f576de75f3",
   "metadata": {},
   "source": [
    "La dérivée de l'échelon est donc nulle partout et infinie en $0$ !\n",
    "\n",
    "En effet, l'échelon est représenté de manière numérique de manière imparfaite.\n",
    "Zoomons dans le temps pour voir ce qui se passe en 0."
   ]
  },
  {
   "cell_type": "code",
   "execution_count": 15,
   "id": "161062e7-8a10-43a0-b9ef-7e988beb6cc2",
   "metadata": {},
   "outputs": [
    {
     "data": {
      "image/png": "[encoded data removed]",
      "text/plain": [
       "<IPython.core.display.Image object>"
      ]
     },
     "metadata": {},
     "output_type": "display_data"
    }
   ],
   "source": [
    "tzoom = -9*dt:dt/10:9*dt; \n",
    "subplot(211); plot(tzoom, u(tzoom),'.-') ; \n",
    "title(\"zomm sur l'echelon u\")\n",
    "subplot(212); plot(tzoom,OpD_Dt(u)(tzoom),'.-') ;\n",
    "title(\"la derivee est une impulsion fine et haute : presque un DIRAC !\")"
   ]
  }
 ],
 "metadata": {
  "kernelspec": {
   "display_name": "Octave",
   "language": "octave",
   "name": "octave"
  },
  "language_info": {
   "file_extension": ".m",
   "help_links": [
    {
     "text": "GNU Octave",
     "url": "https://www.gnu.org/software/octave/support.html"
    },
    {
     "text": "Octave Kernel",
     "url": "https://github.com/Calysto/octave_kernel"
    },
    {
     "text": "MetaKernel Magics",
     "url": "https://metakernel.readthedocs.io/en/latest/source/README.html"
    }
   ],
   "mimetype": "text/x-octave",
   "name": "octave",
   "version": "4.2.2"
  }
 },
 "nbformat": 4,
 "nbformat_minor": 5
}
