{
 "cells": [
  {
   "cell_type": "markdown",
   "metadata": {},
   "source": [
    "|--- | Revenir à la [page déroulement](../README.ipynb) | [Intro Octave 2](intro_octave_2.ipynb)|\n",
    "|-------------|---|---|\n",
    "\n",
    "---\n",
    "# Intro. Octave 1\n",
    "--- \n",
    "\n",
    "\n",
    "| Revenir à la [page déroulement](Readme.md) |\n",
    "|-------------|\n",
    "\n",
    "\n",
    "Initiation aux logiciels de calcul interprétés Matlab/Octave pour le signal\n",
    "\n",
    "Les supports :\n",
    "- Le [sujet standard sur moodle](https://moodle.insa-toulouse.fr/mod/resource/view.php?id=24759)  \n",
    "- Un notebook de ce Github sur [pourquoi Octave/Matlab](https://github.com/balaise31/Signal/blob/tds/continu/tps/pourquoi_octave.ipynb) \n",
    "- Un notebook de ce Github sur [une intro à octave](https://github.com/balaise31/Signal/blob/tds/continu/tps/initiation_octave/prise_en_main.ipynb)\n",
    "\n",
    "Après les deux séances, il faudra aller sur le [ici sur moodle](https://moodle.insa-toulouse.fr/mod/quiz/view.php?id=24772) faire le test qui consiste à :\n",
    " - donner les noms du binôme\n",
    " - prendre connaissance de la valeur moyenne à calculer (elle est tirée au hasard comme, par exemple, $\\int\\limits_{t=0}^{\\pi}tcos(2t)dt$)\n",
    " - modifier votre script pour qu'il calcule cette intégrale, renseigner la valeur moyenne calculée par le script et le déposer sur le site.\n",
    "\n",
    " Des indications et aides sur la manière d'approcher la valeur moyenne d'un signal sont donnée dans la fin de ce document."
   ]
  },
  {
   "cell_type": "markdown",
   "metadata": {},
   "source": [
    "# Installer ou travailler en ligne avec Matlab/Octave\n",
    "---\n",
    "\n",
    "## 0 Utiliser la version en ligne des Jupyter notebook avec Binder\n",
    "\n",
    "Par exemple en cliquant sur ce badge\n",
    "\n",
    "[![Binder](https://mybinder.org/badge_logo.svg)](https://mybinder.org/v2/gh/balaise31/Signal/HEAD?labpath=continu%2Ftds%2Fintro_octave.ipynb) \n",
    "\n",
    "Vous pouvez exécuter ce Notebook sur votre navigateur.\n",
    "\n",
    "Sélectionnez une **cellule de code Matblab**, modifiez-la et ensuite faite **Shift + Entrée** pour exécuter la cellule et voir le résultat.\n",
    "\n",
    "## 1 Méthode installer sur Linux : d'avenir mais lourde\n",
    "\n",
    "- Si vous n'avez pas Linux installé, et une machine avec au moins 2/4G de ram) faites-le sur une machine virtuelle, car vous aurez à utiliser Linux au second semestre en ADA et système d'exploitation et plus tard dans maintes matières (filtrage numérique, programmation C, Réseau etc.)\n",
    "  * installer un virtualiseur tel que virtualbox : [indications détaillées sur open-classroom](https://openclassrooms.com/fr/courses/2035806-virtualisez-votre-architecture-et-vos-environnements-de-travail/6313946-installez-virtualbox)\n",
    "  *  récupérer une image disque (fichier .iso) d'un CD d'install de Linux (je vous conseille  Ubuntu comme en TP)\n",
    "  *  installez linux sur une machine virtuelle (choisissez un disque dur de taille variable et de grosse taille !, ce n'est qu'une simulation et vous ne prendrez pas plus de place sur votre disque)\n",
    "- installer octave dans Linux en ouvrant un terminal (CTRL+ALT+T) et en tapant la commande `sudo apt install octave` (vous donnerez le mot de passe de l'utilisateur avec droits que vous avez créé lors de l'installation de Linux)\n",
    "- en option : récupérez ce site Git et installez jupyter et les notebook octave/python en suivant les 5 instructions données sur [ce site](https://github.com/balaise31/Signal/blob/discret/installation/README.md)\n",
    "\n",
    "Pour utiliser le lanceur linux, appuyez sur la touche META (Touche Windows) et taper `octa`, il suffit de sélectionner octave qui doit apparaître dans la recherche.\n",
    "\n",
    "\n",
    "## 2 Méthode installer sur Windows/Mac\n",
    "\n",
    "Installez octave en local sur votre machine en suivant ce site et lien [Octave MacOs](https://wiki.octave.org/Octave_for_macOS) ou [Octave Windows (325 Mo)](https://www.gnu.org/software/octave/download#ms-windows).\n",
    "\n",
    "Vous avez l'équivalent (sans Simulink !) de Matlab mais en gratuit et libre.\n",
    "\n",
    "## 3 En ligne avec MonTp.Insa\n",
    "\n",
    "Il faut être vue dans le réseau INSA (résidence Insa ou wifi Insa), sinon vous devez utiliser votre VPN pour être vue comme si vous étiez à l'INSA.\n",
    "\n",
    "Pour installer le [VPN c'est ici](https://telechargement.insa-toulouse.fr/dl_vpn.html)\n",
    "\n",
    "**Indispensable en cas de confinement ou distanciel !!**\n",
    "\n",
    "Allez ensuite sur le site [monTp.insa](https://montp.insa-toulouse.fr), choisissez une **salle de TP virtuelle Windows** et lancez Matlab. (Octave n'est installé ni sur Linux, ni sur windows cette année...)\n",
    "\n"
   ]
  },
  {
   "cell_type": "markdown",
   "metadata": {},
   "source": [
    "# Séance 1 (équivalent exos 1 à 3 du sujet standard)\n",
    "---\n",
    "\n",
    "Une séance plutôt passive où :\n",
    "- je présente le pourquoi de ces nouveaux langages (vs Ada) avec [pourquoi Octave/Matlab](https://github.com/balaise31/Signal/blob/tds/continu/tps/pourquoi_octave ;\n",
    "- je fais une intro à Matlab dans le style [une intro à octave](https://github.com/balaise31/Signal/blob/tds/continu/tps/initiation_octave/prise_en_main.ipynb).\n",
    "\n",
    "À l'issue de cette intro les concepts de :\n",
    "- langage interprété ;\n",
    "- débugueur ;\n",
    "- le polymorphisme et la manipulation de variable matricielle ;\n",
    "- la fonction d'affichage plot ;\n",
    "- la représentation d'un signal par un tableau de temps \"t\" et un tableau de valeur ;\n",
    "- l'écriture d'une fonction dans un fichier (exemple de l'échelon avec u.m) ;\n",
    "- l'écriture d'une fonction en ligne avec ''' f =@(t) sin(2*....) ''' ;\n",
    "- la **vectorisation** des fonction et calcul : appliquer une fonction à des matrices et scalaires ;\n",
    "- la nuance entre opérateurs par défaut qui sont matriciels (A*B avec A:(n x m) et B : (m x p) donne du (n x p) ) et les opérateurs élément par élément de matrices (A .* B qui pour deux matrices (n x m) donne la matrice de même taille).\n",
    "\n",
    "On arrive au script octave permettant de tracer le produit de deux fonctions :\n"
   ]
  },
  {
   "cell_type": "code",
   "execution_count": 9,
   "metadata": {},
   "outputs": [
    {
     "data": {
      "image/png": "[encoded data removed]",
      "text/plain": [
       "<IPython.core.display.Image object>"
      ]
     },
     "metadata": {},
     "output_type": "display_data"
    }
   ],
   "source": [
    "%% Fait le ménage\n",
    "clear all % les variables\n",
    "close all % ferme les fenêtres\n",
    "clc       % efface la console (fenêtre de commandes)\n",
    "\n",
    "%% Fonctions usuelles vectorisées\n",
    "u = @(x) x>0 ;   % fonction échelon (astuce vrai = 1)\n",
    "constante = @(x) x./x ;% fonction constante t --> 1 (astuce division élément par élément donne 1.)\n",
    "porte = @(x,a,b) u(x-a) - u(x-b) ;% fonction porte vaut 1 de a à b et 0 sinon\n",
    "\n",
    "\n",
    "%% définition de paramètres et constantes\n",
    "Te = 0.01; % période d'échantillonnage [s]\n",
    "t=-1:Te:8 ; % vecteur temps \n",
    "\n",
    "\n",
    "%% définition des signaux\n",
    "A = 3;  % amplitude du signal [V]\n",
    "F = 0.5; % fréquence du signal [Hz]\n",
    "f= @(t,F) u(t) .* sin(2*pi*F*t) * A;\n",
    "%               ^ \n",
    "%              /|\\\n",
    "%               |\n",
    "%        !!   produit élément par élément ici !!\n",
    "\n",
    "\n",
    "% Attention si on change A, la fonction f utilisera\n",
    "%    la valeur de A au moment de la déclaration (ici 3) \n",
    "% en revanche F est un paramètre qu'il faudra donner et pouvant donc changer\n",
    "% Appel de f avec f(1:0.1:3 , 30 ) marche\n",
    "\n",
    "\n",
    "\n",
    "%% Affichage\n",
    "plot(t, u(t),'r');     % trait rouge\n",
    "hold on;               % ne pas effacer le graphique précédent pour supperposer\n",
    "plot(t, f(t,F), 'g.'); % que des points verts\n",
    "xlabel(\"temps [s]\");\n",
    "ylabel(\"signaux [v]\");\n",
    "legend([\"l'echelon\"; \"le sinus causal\"])\n",
    "title(\"Le sinus causal\")"
   ]
  },
  {
   "cell_type": "markdown",
   "metadata": {},
   "source": [
    "## Produit de signaux = élément par élément\n",
    "\n",
    "Comprenez bien que l'on a dû multiplier deux signaux entre eux avec le produit .* élément par élément.\n",
    "> `f= @(t,F) u(t) .* sin(2*pi*F*t) * A;`\n",
    "\n",
    "Car \n",
    "- l'opérande de gauche `u(t)` est un vecteur ligne (1 x n)\n",
    "- l'opérande de droite `sin(2*pi*F*t) * A` est de même (1 x n)\n",
    "\n",
    "Donc le produit matriciel est mal défini car (1 x n) * (1 x n) ne fonctionne pas\n",
    "                                       "
   ]
  },
  {
   "cell_type": "code",
   "execution_count": 10,
   "metadata": {},
   "outputs": [
    {
     "name": "stdout",
     "output_type": "stream",
     "text": [
      "error: operator *: nonconformant arguments (op1 is 1x901, op2 is 1x901)\n"
     ]
    }
   ],
   "source": [
    "gauche = u(t);\n",
    "droite = sin(2*pi*F*t) * A;\n",
    "gauche * droite"
   ]
  },
  {
   "cell_type": "markdown",
   "metadata": {},
   "source": [
    "On demande alors un produit élément par élément entre ces deux vecteurs ** qui doivent être de même taille ! **\n",
    "\n",
    "L'équivalent d'une boucle for en ada \n",
    "```ADA\n",
    "for I in 1..901 loop\n",
    "    mult(I) = gauche(I) * droite(I)\n",
    "end loop;\n",
    "```\n",
    "Ce fait en demandant la version \"élément par élément\" de l'opérateur *\n",
    "\n",
    "Ce qui donne en utilisant subplot pour faire trois graphiques superposés :\n"
   ]
  },
  {
   "cell_type": "code",
   "execution_count": 11,
   "metadata": {},
   "outputs": [
    {
     "data": {
      "image/png": "[encoded data removed]",
      "text/plain": [
       "<IPython.core.display.Image object>"
      ]
     },
     "metadata": {},
     "output_type": "display_data"
    }
   ],
   "source": [
    "% subplot divise la fenêtre en plusieurs rangées et colonne sde graphiques\n",
    "subplot(311) % 3 rangées, 1 colone, on se met dans le graphique 1 (en haut)\n",
    "plot(t,gauche,'*');\n",
    "text(0,-0.25, \" X  multiplie par\")\n",
    "subplot(312) % 3 rangées, 1 colone, on se met dans le graphique 2 (au milieu)\n",
    "plot(t,droite,'.');\n",
    "text(0,-4.5, \" = egale\")\n",
    "subplot(313) % 3 rangées, 1 colone, on se met dans le graphique 3 (en bas)\n",
    "plot(t,gauche.*droite);\n"
   ]
  },
  {
   "cell_type": "markdown",
   "metadata": {},
   "source": [
    "---\n",
    "#  Séance 2 : équivalent exo 4 du sujet standard\n",
    "---\n",
    "\n",
    "- Afficher une somme de signaux correspondant à une série de Fourier\n",
    "- Calculer numériquement une intégrale (valeur moyenne) : **Test moodle**\n",
    "\n",
    "## Choses à faire pour cette séance\n",
    "---\n",
    "\n",
    "- installer octave sur son PC et apporter son PC si possible ;\n",
    "- (en option) installer anaconda (distribution de python) utile pour les notebooks ;\n",
    "- Reprendre mon script en un script au format GroupeA_NOM1_NOM2.m pour tracer la somme de la composante continue (utiliser la fonction `constante` de mon script) ajoutée à la fondamentale ajoutée au premier harmonique d'une des séries des [Exos 1.3 des SdF](https://moodle.insa-toulouse.fr/mod/resource/view.php?id=24741#section.5.9) et de l'[exo 7 des SdF](https://moodle.insa-toulouse.fr/mod/resource/view.php?id=24741#section.5.9)\n",
    "\n"
   ]
  },
  {
   "cell_type": "markdown",
   "metadata": {},
   "source": [
    "### Réfléchir à un programme ADA capable de calculer l'intégrale d'un signal représenté par un tableau valeurs : intégrale de Rieman\n",
    "\n",
    "\n",
    "\n",
    "![](integrale_Riemann.png)\n",
    "\n",
    "Ne pas confondre \n",
    " * la primitive $F$ d'une fonction $f$ qui dépend d'une borne $F : a \\mapsto \\int_{0}^{a}f(t)d(t)$ : Il s'agit ici de la primitive qui s'annule en 0 (prisée des traiteuses du signal et des automaticiennes, car on considère des signaux causaux). Une manière d'obtenir cette fonction primitive dans le cas discret (on ne dispose que d'échantillons de valeurs à des instants donnés : ce sont donc des suites numériques) est donnée dans l' [exercice 2.1 page 23 du poly de filtrage numérique](https://github.com/balaise31/Signal/blob/master/discret/poly/main.pdf#page=23)\n",
    "* une intégrale qui est un nombre réel (lorsqu'elle converge) :\n",
    "$\\int_a^b f(t) dt = F(a) - F(b) = \\lim_{dx\\to 0}\\sum_{k=0}^N f(k.dx).dx$"
   ]
  },
  {
   "cell_type": "markdown",
   "metadata": {},
   "source": [
    "\n",
    "## Calculez l'intégrale demandée\n",
    "---\n",
    "\n",
    "Il faudra déposer votre fichier matlab capable de calculer une intégrale (par exemple  $\\int\\limits_{t=0}^{\\pi}tcos(2t)dt$ ) [ici sur moodle](https://moodle.insa-toulouse.fr/mod/quiz/view.php?id=24772) contenant votre travail précédent (affichage des composantes) et ce calcul. Même si cela est sous la forme d'un QCM, il s'agit d'un dépôt de réponse et de fichier.\n",
    "\n",
    "Créez la fonction `f` à intégrer, sous la forme d'une fonction en ligne, en vous demandant si le produit entre `t` et `cos(2*t)` doit être matriciel `*` ou élément par élément `.*` :"
   ]
  },
  {
   "cell_type": "code",
   "execution_count": 3,
   "metadata": {},
   "outputs": [
    {
     "name": "stdout",
     "output_type": "stream",
     "text": [
      "f =\n",
      "\n",
      "@(t) cos (2 * t) * t\n",
      "\n"
     ]
    }
   ],
   "source": [
    "f = @(t) cos(2*t) *  t"
   ]
  },
  {
   "cell_type": "markdown",
   "metadata": {},
   "source": [
    "Tester si cette fonction est bien vectorisée en calculant `f` pour tout les instants contenus dans le vecteur `t`. Stockez-le dans un vecteur `sig_f`.\n",
    "\n",
    "La commande `sig_f = f(t)` doit donc fonctionner et vous devez observer dans le ***workspace*** un vecteur de valeurs.\n",
    "\n",
    "Le but est maintenant de calculer la somme des valeurs de `sig_f` et de multiplier par $T_e$ pour avoir $\\sum_{k=0}^N f(k.dx).dx$ avec $dx=T_e$. Vous pouvez utiliser une boucle for et une variable de cumulation `somme`, ou simplement appeler la fonction `sum` de matlab."
   ]
  },
  {
   "cell_type": "markdown",
   "metadata": {},
   "source": [
    "\n",
    "## Les exemples suivants peuvent vous inspirer et vous aider\n",
    "--- \n",
    "\n",
    "Vous pouvez utiliser la commande `help` pour voir comment utiliser une fonction et avoir des exemples :\n",
    "``` octave\n",
    "   help for\n",
    "\n",
    "   help sum\n",
    "```\n",
    "En complément voici des exemples proches de ce qu'il faut faire "
   ]
  },
  {
   "cell_type": "markdown",
   "metadata": {},
   "source": [
    "## Exemple d'utilisation de `sum` : la somme partielle d'une suite géométrique\n",
    "\n",
    "Rappelons que la formule de répétition causale $f_r$ d'un signal impulsion $f$ répété N fois avec une période $T_0$ donnant la transformée de Laplace est :\n",
    "\n",
    "$F_r(p) = F(p) . (e^{-0.Te.p} + \\ldots + e^{-N.Te.p})$\n",
    "\n",
    "où l'on voit que la somme des retards est une suite géométrique de raison $r=e^{-T_e.p}\\in\\mathrm{C}$.\n",
    "\n",
    "Cette **série** géométrique (on parle donc de la suite des sommes partielles) peut converger vers $S_N=\\frac{r^{N+1}-r^0}{r-1}\\underset{N\\to+\\infty}{\\rightarrow}\\frac{1}{1-r}$ ssi $|r|<1$ ce qui impose certaines choses sur la valeur de p.\n",
    "\n",
    "Ce qui donne pour une répétition infinie :\n",
    "\n",
    "$F_r(p) = F(p) . \\frac{1}{1 - e^{-Te.p}}$\n",
    "\n",
    "\n",
    "Le programme si dessous calcule une somme partielle pour une valeur de $p$ et $T_0$ donnée :"
   ]
  },
  {
   "cell_type": "code",
   "execution_count": 35,
   "metadata": {},
   "outputs": [
    {
     "name": "stdout",
     "output_type": "stream",
     "text": [
      "Tau =\n",
      "\n",
      "   0   1   2   3\n",
      "\n",
      "Laplace =\n",
      "\n",
      " Columns 1 through 3:\n",
      "\n",
      "   1.00000 - 0.00000i   0.19877 - 0.30956i  -0.05632 - 0.12306i\n",
      "\n",
      " Column 4:\n",
      "\n",
      "  -0.04929 - 0.00703i\n",
      "\n",
      "Somme =  1.09316 - 0.43965i\n",
      "ans =  1.09316 - 0.43965i\n"
     ]
    }
   ],
   "source": [
    "% exemple de l'utilisation de sum pour calculer une somme partielle de suite géométrique\n",
    "Te=1;\n",
    "Tau = 0:Te:3*Te % les retards\n",
    "p = 1+i; % une variable des valeurs possible de la variable de Laplace\n",
    "Laplace = exp(-Tau*p) % Laplace des  retards pour une valeur de p\n",
    "Somme = sum(Laplace) % Laplace de la somme des retards\n",
    "% on vérifie avec la formule de somme partielle\n",
    "(exp(-4*p)-exp(0*p))/(exp(-p)-1)"
   ]
  },
  {
   "cell_type": "markdown",
   "metadata": {},
   "source": [
    "## Exemple d'utilisation de `for` : calcul de factorielle\n",
    "\n",
    "Programme un peu stupide pour calculer la factorielle : on stocke dans un tableau `v` les valeurs de 1 à 4  et ensuite on multiplie chaque élément de ce tableau. "
   ]
  },
  {
   "cell_type": "code",
   "execution_count": 23,
   "metadata": {},
   "outputs": [
    {
     "name": "stdout",
     "output_type": "stream",
     "text": [
      "v =\n",
      "\n",
      "   1   2   3   4\n",
      "\n",
      "factorielle =  24\n"
     ]
    }
   ],
   "source": [
    "% exemple de boucle dans un tableau pour calculer une factorielle\n",
    "v=1:4\n",
    "factorielle = 1 ;\n",
    "% exemple pour boucler dans un tableau\n",
    "for indice = 1:length(v)\n",
    "    factorielle = factorielle * v(indice) ;\n",
    "end\n",
    "\n",
    "factorielle % sans ; pour afficher"
   ]
  }
 ],
 "metadata": {
  "kernelspec": {
   "display_name": "Octave",
   "language": "octave",
   "name": "octave"
  },
  "language_info": {
   "file_extension": ".m",
   "help_links": [
    {
     "text": "GNU Octave",
     "url": "https://www.gnu.org/software/octave/support.html"
    },
    {
     "text": "Octave Kernel",
     "url": "https://github.com/Calysto/octave_kernel"
    },
    {
     "text": "MetaKernel Magics",
     "url": "https://metakernel.readthedocs.io/en/latest/source/README.html"
    }
   ],
   "mimetype": "text/x-octave",
   "name": "octave",
   "version": "5.2.0"
  },
  "latex_envs": {
   "LaTeX_envs_menu_present": true,
   "autoclose": false,
   "autocomplete": true,
   "bibliofile": "biblio.bib",
   "cite_by": "apalike",
   "current_citInitial": 1,
   "eqLabelWithNumbers": true,
   "eqNumInitial": 1,
   "hotkeys": {
    "equation": "Ctrl-E",
    "itemize": "Ctrl-I"
   },
   "labels_anchors": false,
   "latex_user_defs": false,
   "report_style_numbering": false,
   "user_envs_cfg": false
  }
 },
 "nbformat": 4,
 "nbformat_minor": 4
}
