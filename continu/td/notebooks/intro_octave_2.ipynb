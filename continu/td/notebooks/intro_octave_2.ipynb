{
 "cells": [
  {
   "cell_type": "markdown",
   "id": "472391ae-2bce-43fd-808c-4a6ab9c6144c",
   "metadata": {},
   "source": [
    "| [Intro Octave 1](intro_octave_1.ipynb)| Revenir à la [page déroulement](../README.ipynb) |---|\n",
    "|-------------|---|---|\n",
    "\n",
    "---\n",
    "# Intro. Octave 2 : SUJET ( -> [Corrigé](./intro_octave_2_corr.ipynb))\n",
    "--- \n"
   ]
  },
  {
   "cell_type": "markdown",
   "id": "771060a6-b098-4b6d-92ee-de6926d2a5d0",
   "metadata": {
    "tags": []
   },
   "source": [
    "# Concepts pas à pas\n",
    "---\n",
    "Apprendre à :\n",
    " - faire simple avec les interfaces utilisateur : config de script au début\n",
    " - faire des fonctions explicite\n",
    " - utiliser les fonctions anonyme\n",
    " - calcul numérique d'intégrale de 3 manières différentes\n",
    " "
   ]
  },
  {
   "cell_type": "markdown",
   "id": "0a435cd2-2ebe-4dbd-be37-327481442423",
   "metadata": {
    "tags": []
   },
   "source": [
    "## Interface utilisateur\n",
    "---\n",
    "\n",
    "En Ada ou avec des programmes compilés on est obligé de demander à l'utilisateur de donner des valeurs.\n",
    "\n",
    "En langage interprété on fait simple et **l'utilisatrice modifie directement le fichier script !** \n"
   ]
  },
  {
   "cell_type": "markdown",
   "id": "fc08b621-5673-4982-b05b-405d90c1f72a",
   "metadata": {
    "jp-MarkdownHeadingCollapsed": true,
    "tags": []
   },
   "source": [
    "### Exemple pénible\n",
    "\n",
    "Prenons l'exemple d'un programme qui calcule un produit sclaire entre deux vecteur. Faisons le pénible !\n",
    "\n",
    "Exécutez cette céllule et demandez un vecteur de dimension 3 avec deux fois le vecteur 1, 2,3"
   ]
  },
  {
   "cell_type": "code",
   "execution_count": 1,
   "id": "781c1154-5a2c-44f9-823b-19f4385b4ff5",
   "metadata": {},
   "outputs": [
    {
     "name": "stdin",
     "output_type": "stream",
     "text": [
      "Dimension du vecteur 3\n",
      "Valeur de l'element de rang 1 1\n",
      "Valeur de l'element de rang 2 2\n",
      "Valeur de l'element de rang 3 3\n"
     ]
    },
    {
     "name": "stdout",
     "output_type": "stream",
     "text": [
      "Pour le deuxième vecteur :\n"
     ]
    },
    {
     "name": "stdin",
     "output_type": "stream",
     "text": [
      "Valeur de l'element de rang 1 1\n",
      "Valeur de l'element de rang 2 2\n",
      "Valeur de l'element de rang 3 3\n"
     ]
    },
    {
     "name": "stdout",
     "output_type": "stream",
     "text": [
      "Le produit scalaire\n",
      "ans =\n",
      "\n",
      "   1\n",
      "   2\n",
      "   3\n",
      "\n",
      "fois\n",
      "v =\n",
      "\n",
      "   1   2   3\n",
      "\n",
      "=\n",
      "ans =\n",
      "\n",
      "   1   2   3\n",
      "   2   4   6\n",
      "   3   6   9\n",
      "\n"
     ]
    }
   ],
   "source": [
    "clear all;\n",
    "N = input(\"Dimension du vecteur\");\n",
    "v = 0;\n",
    "for id = 1:N\n",
    "    u(id) = input([\"Valeur de l'element de rang \",num2str(id)]);\n",
    "end\n",
    "\n",
    "disp(\"Pour le deuxième vecteur :\")\n",
    "for id = 1:N\n",
    "    v(id) = input([\"Valeur de l'element de rang \",num2str(id)]);\n",
    "end\n",
    "\n",
    "disp(\"Le produit scalaire\")\n",
    "u'\n",
    "disp(\"fois\")\n",
    "v\n",
    "disp(\"=\")\n",
    "u'*v"
   ]
  },
  {
   "cell_type": "markdown",
   "id": "ebf1adf2-c237-4e3c-befc-e73c4d82655f",
   "metadata": {},
   "source": [
    "**Zut le produit est dans le mauvais sens** et donne une matrice et non un scalaire.\n",
    "\n",
    "Corrigez l'erreur et re-exécutez avec les mêmes valeurs"
   ]
  },
  {
   "cell_type": "code",
   "execution_count": 2,
   "id": "728f8190-7f21-46f5-953a-a0b76e55b1ef",
   "metadata": {},
   "outputs": [
    {
     "name": "stdin",
     "output_type": "stream",
     "text": [
      "Dimension du vecteur 1\n",
      "Valeur de l'element de rang 1 1\n"
     ]
    },
    {
     "name": "stdout",
     "output_type": "stream",
     "text": [
      "Pour le deuxième vecteur :\n"
     ]
    },
    {
     "name": "stdin",
     "output_type": "stream",
     "text": [
      "Valeur de l'element de rang 1 1\n"
     ]
    },
    {
     "name": "stdout",
     "output_type": "stream",
     "text": [
      "Le produit scalaire\n",
      "ans =  1\n",
      "fois\n",
      "v =  1\n",
      "=\n",
      "ans =  1\n"
     ]
    }
   ],
   "source": [
    "%% CORRIGER LE CODE \n",
    "% pour avoir un produit (1,3)x(3,1)=(1,1) scalaire\n",
    "clear all;\n",
    "N = input(\"Dimension du vecteur\");\n",
    "v = 0;\n",
    "for id = 1:N\n",
    "    u(id) = input([\"Valeur de l'element de rang \",num2str(id)]);\n",
    "end\n",
    "\n",
    "disp(\"Pour le deuxième vecteur :\")\n",
    "for id = 1:N\n",
    "    v(id) = input([\"Valeur de l'element de rang \",num2str(id)]);\n",
    "end\n",
    "\n",
    "disp(\"Le produit scalaire\")\n",
    "u'\n",
    "disp(\"fois\")\n",
    "v\n",
    "disp(\"=\")\n",
    "u'*v"
   ]
  },
  {
   "cell_type": "markdown",
   "id": "879a9b30-0b7d-466e-9e95-a9049cedb3a1",
   "metadata": {},
   "source": [
    "**Pénible hein !**\n",
    "\n",
    "Maintenant supposons que l'on veut demander à l'utilisatrice de donner une fonction à appliquer au produit scalaire.\n",
    "\n",
    "Cela ressemblerait au code ci-dessous mais de plus on ne saurait pas le poursuivre !"
   ]
  },
  {
   "cell_type": "code",
   "execution_count": 12,
   "id": "2a051e92-f2ba-4d43-a598-68e483f4b085",
   "metadata": {},
   "outputs": [
    {
     "name": "stdout",
     "output_type": "stream",
     "text": [
      "Programme qui affiche une fonction\n"
     ]
    },
    {
     "name": "stdin",
     "output_type": "stream",
     "text": [
      "Entrez le tmin = 1\n",
      "Entrez le tmax = 1\n",
      "Entrez la periode d'echantillonnage = 1\n",
      "Entrez la fonction à afficher : \"3*x + 4*cos(x)\" par exemple 1\n"
     ]
    },
    {
     "name": "stdout",
     "output_type": "stream",
     "text": [
      "error: fonction(0): subscripts must be either integers 1 to (2^31)-1 or logicals\n",
      "ans = 1\n"
     ]
    }
   ],
   "source": [
    "%% CORRIGER LE CODE \n",
    "% pour avoir un produit (1,3)x(3,1)=(1,1) scalaire\n",
    "clear all;\n",
    "disp('Programme qui affiche une fonction')\n",
    "tmin = input(\"Entrez le tmin =\");\n",
    "tmax = input(\"Entrez le tmax = \");\n",
    "Te = input(\"Entrez la periode d'echantillonnage =\");\n",
    "t=tmin:Te:tmax;\n",
    "\n",
    "fonction = input(\"Entrez la fonction à afficher : \"\"3*x + 4*cos(x)\"\" par exemple\",\"s\");\n",
    "\n",
    "fonction(0)\n",
    "fonction(t)\n"
   ]
  },
  {
   "cell_type": "markdown",
   "id": "7036a46b-41af-49e8-ac09-f474ee3ea503",
   "metadata": {},
   "source": [
    "**Impossible !**\n",
    "\n",
    "Comment demander à octave de transformer la chaine de caractère rentrée en une fonction !\n"
   ]
  },
  {
   "cell_type": "markdown",
   "id": "196d00ea-3be3-4a1d-afad-34cc6b51c205",
   "metadata": {
    "jp-MarkdownHeadingCollapsed": true,
    "tags": []
   },
   "source": [
    "### Version smart and easy\n",
    "\n",
    "> Cela est donc pénible à chaque fois de rentrer les valeurs et\n",
    "> impossible de rentrer une fonction mathématique...\n",
    "\n",
    "Comme l'utilisatrice doit lancer octave et ouvrir votre fichier script,\n",
    "\n",
    "**pourquoi ne pas demander à configurer directement le script**\n",
    "\n",
    "Voilà à quoi ressemble le script idéal :"
   ]
  },
  {
   "cell_type": "code",
   "execution_count": 17,
   "id": "0c3bb28d-102d-48aa-8eb9-099418b058c6",
   "metadata": {},
   "outputs": [
    {
     "data": {
      "image/png": "[encoded data removed]",
      "text/plain": [
       "<IPython.core.display.Image object>"
      ]
     },
     "metadata": {},
     "output_type": "display_data"
    }
   ],
   "source": [
    "clear all;\n",
    "close all;\n",
    "%%_________\n",
    "%% script qui affiche une fonction donnée\n",
    "\n",
    "%% <<<<<<<<<<<<<<<<<<<<<<<<<<<<<<<<<<<<<<<\n",
    "%% UTILISATRICE CONFIGUREZ ICI LE SCRIPT\n",
    "tmin = 0 ;  % premier instant affiché [s]\n",
    "tmax = 20 ;  % dernier instant affiché [s]\n",
    "Te =  0.1;  % période d'échantillonnage\n",
    "\n",
    "%% fonction de x à afficher\n",
    "%% décommentez une ligne\n",
    "%fonction = @(x) 3*x + 4*cos(x)  ;\n",
    "fonction = @(x) 4*cos(x)-2*sin(x)  ;\n",
    "%fonction = @(x) 4*cos(1./x)  ;\n",
    "%fonction = @(x) <votre fonction vectorisée de x>\n",
    "\n",
    "%% FIN DE CONFIGURATION\n",
    "%% >>>>>>>>>>>>>>>>>>>>>>>>>>>>>>>>>>>>>>>\n",
    "\n",
    "t = tmin:Te:tmax ;\n",
    "f_de_t = fonction(t) ;\n",
    "\n",
    "plot(t,f_de_t);\n",
    "xlabel('Temps [s]');\n",
    "ylabel('Valeur [V]');\n",
    "title('Affichage de la fonction f')\n"
   ]
  },
  {
   "cell_type": "markdown",
   "id": "6b063a42-39a0-42c2-aa6f-f1c3bddcda47",
   "metadata": {},
   "source": [
    "**L'utilisatrice à le code source, sait exécuter un script et connait le langage**   \n",
    "alors ne pas s'embêter."
   ]
  },
  {
   "cell_type": "markdown",
   "id": "dcb49e2b-5673-487e-a15a-8b4ecdaa43ba",
   "metadata": {
    "jp-MarkdownHeadingCollapsed": true,
    "tags": []
   },
   "source": [
    "## Déclaration de fonctions explicite (obsolète)\n",
    "\n",
    "Pour déclarer une fonction en octave cela est similaire au langage ada.\n",
    "\n",
    "Prenons l'exemple de la fonction qui calcule la valeur de l'onde complexe.\n",
    "\n",
    "$f : x \\mapsto e^{i.\\omega.x}$ \n",
    "\n",
    "Remarquons que cette fonction dépend d'un paramètre $\\omega$.\n"
   ]
  },
  {
   "cell_type": "code",
   "execution_count": 49,
   "id": "77bc6500-2a10-44c7-8e8b-474bdfd67847",
   "metadata": {},
   "outputs": [
    {
     "name": "stdout",
     "output_type": "stream",
     "text": [
      "omega =  4\n",
      "error: 'omega' undefined near line 2 column 15\n",
      "error: called from\n",
      "    f at line 2 column 7\n"
     ]
    }
   ],
   "source": [
    "omega = 4\n",
    "\n",
    "function y = f(x)\n",
    "    y = exp(i*omega*x)\n",
    "end\n",
    "\n",
    "f(3)"
   ]
  },
  {
   "cell_type": "markdown",
   "id": "30897c3a-103b-42ba-9031-a2aae1db430e",
   "metadata": {},
   "source": [
    "Et oui, en informatique  un paramètre doit être donné explicitement ou bien déclaré comme visible partout (dangereux)!\n",
    "\n",
    "On peutdonc définir deux fonctions :\n",
    "   - `fomega(x)` qui est paramétrée par une variable globale `omega`  (effets de bord dangereux !)\n",
    "   - `f(x,omega)` qui est une fonction de deux variables "
   ]
  },
  {
   "cell_type": "code",
   "execution_count": 57,
   "id": "06674ee9-8af3-4deb-955a-a92458208684",
   "metadata": {},
   "outputs": [
    {
     "data": {
      "image/png": "[encoded data removed]",
      "text/plain": [
       "<IPython.core.display.Image object>"
      ]
     },
     "metadata": {},
     "output_type": "display_data"
    }
   ],
   "source": [
    "clear all;\n",
    "global omega=4;\n",
    "t=0:0.01:2;\n",
    "\n",
    "function y = fomega(x)\n",
    "    global omega;\n",
    "    y = exp(i*omega*x);\n",
    "end\n",
    "\n",
    "function y = f(x, omega)\n",
    "    y = exp(i*omega*x);\n",
    "end\n",
    "\n",
    "plot(t,fomega(x=t),'b');\n",
    "hold on;\n",
    "\n",
    "omega=1;\n",
    "plot(t,fomega(x=t),'g');\n",
    "\n",
    "plot(t,f(x=t, w=10),'r');\n",
    "legend([\"fomega(t) omega = 4 globale\";\"fomega(t) omega = 1 globale modifiee\";\"f(t,10) omega locale =10\"])"
   ]
  },
  {
   "cell_type": "markdown",
   "id": "19084002-4ef0-49b6-a84e-13da12ba3d20",
   "metadata": {},
   "source": [
    "On peut mettre une fonction dans un fichier du même nom par exemple ici `fomega.m` et `f.m`.\n",
    "\n",
    "Si ces fichiers sont **dans le même répertoire que le scritp** alors ce script peut les utiliser sans déclarations."
   ]
  },
  {
   "cell_type": "markdown",
   "id": "3eb51e27-ea87-4ac5-9f7d-8487bd59e6e6",
   "metadata": {
    "jp-MarkdownHeadingCollapsed": true,
    "tags": []
   },
   "source": [
    "## Déclaration de fonctions inline ou anonymes\n",
    "---\n",
    "\n",
    "Une fonction mathématique qui s'exprime  en une ligne de calcul peut être   \n",
    " **déclarée en une seule ligne**.\n",
    " "
   ]
  },
  {
   "cell_type": "markdown",
   "id": "f0fc6b3c-ebaf-41fb-b3cd-da0fff0183ce",
   "metadata": {
    "jp-MarkdownHeadingCollapsed": true,
    "tags": []
   },
   "source": [
    " > Syntaxe de la déclaration avec @   \n",
    " > @(x,y,z)  <expression mathématique en fonction de x,y,z>   \n",
    " > Par exemple:   \n",
    " > `@(x) = x * x` est la fonction de $\\mathbb{C}\\to\\mathbb{C}$ de graphe $x\\mapsto x^2$   \n",
    " > On peut la vectoriser avec :   \n",
    " > `@(x) = x .* x` et la fonction est alors de $\\mathbb{C}^n\\to\\mathbb{C}^n$ de graphe $X\\mapsto \\left(x_i^2\\right)_{1\\leq i\\leq n}$   \n",
    " >  par polymorphisme x peut être   \n",
    " >   - une matrice et la fonction est de  $\\mathcal{M}_{n,m}\\left(\\mathbb{C}\\right)\\to \\mathcal{M}_{n,m}\\left(\\mathbb{C}\\right)$ de graphe $X\\mapsto \\left(x_{i,j}^2\\right)_{\\substack{1\\leq i\\leq n \\\\1\\leq j\\leq m}}$   \n",
    " >   - un tenseur ou matrice de dimension 3, etc.\n",
    " \n",
    " Remarquez que cette fonction n'as pas de nom !   \n",
    " Cela peut servir lorsquel'on doit passer une fonction en argument à une commande.\n",
    " \n",
    " Par exemple la fonction `quad` permet d'intégrer une fonction (pas un tableau de valeurs) avec une méthode numérique avancée (faire `help quad` pour les détails). Mais il faut lui donner une fonction !\n",
    " \n",
    " On peut nommer une fonction anonyme en l'affectant à une variable qui sera de type \"fonction\"."
   ]
  },
  {
   "cell_type": "code",
   "execution_count": 58,
   "id": "f3d89588-fba2-4cc0-bd94-9f0f6ce48e01",
   "metadata": {},
   "outputs": [
    {
     "name": "stdout",
     "output_type": "stream",
     "text": [
      "ans =  1.5000\n",
      "ans =  2.5000\n",
      "ans =  2\n",
      "la méthode numérique n'intègre pas des complexes :\n",
      "warning: quad: ignoring imaginary part returned from user-supplied function\n",
      "ans =    4.9226e-17\n",
      "energie_periode =  3.1416\n",
      "puissance_moyenne =  0.50000\n"
     ]
    }
   ],
   "source": [
    "quad( @(x) x, 1, 2)   % Intégrer l'\"x\" de l'année 1 à 2 de prépa = 3/2\n",
    "quad( @(x) x, 2, 3)   % Intégrer l'\"x\" de l'année 2 à 3 de prépa = 5/2\n",
    "quad( @sin,0,pi)      % intégrer sin sur une demi alternance : @sin <-> \"la fonction sin\"\n",
    "                    %                                          sin <-> appelle la fonction sin\n",
    "disp(\"la méthode numérique n'intègre pas des complexes :\")\n",
    "quad( @fomega,0,pi) %  notre fonction fomega s'intègre aussi mais c'est une fonction dans C !\n",
    "% donnons un nom à une fonction anonyme\n",
    "puissance = @(x) sin(x).^2;\n",
    "energie_periode = quad( puissance, 0, 2*pi) % énergie d'une période de sin \n",
    "puissance_moyenne = energie_periode / (2*pi)"
   ]
  },
  {
   "cell_type": "markdown",
   "id": "1ff9b9ee-5866-4de6-b666-707e18e106bb",
   "metadata": {
    "jp-MarkdownHeadingCollapsed": true,
    "tags": []
   },
   "source": [
    "### Sans effets de bord \n",
    "\n",
    "Attention ! Cette déclaration peut utiliser une valeur de paramètre **au moment où elle est déclarée**.\n",
    "\n",
    "On peut avoir des surprises et mieux vaux passer tous les paramètres explicitement.\n",
    "\n",
    "Reprenons notre fonction f :"
   ]
  },
  {
   "cell_type": "code",
   "execution_count": 1,
   "id": "d8e99974-292f-4089-ae51-9dd34250ce1f",
   "metadata": {},
   "outputs": [
    {
     "name": "stdout",
     "output_type": "stream",
     "text": [
      "error: 't' undefined near line 1 column 6\n",
      "error: 't' undefined near line 1 column 6\n"
     ]
    },
    {
     "data": {
      "image/png": "[encoded data removed]",
      "text/plain": [
       "<IPython.core.display.Image object>"
      ]
     },
     "metadata": {},
     "output_type": "display_data"
    }
   ],
   "source": [
    "omega = 4;\n",
    "\n",
    "f = @(x) exp(i*omega*x) ;  % vectorisée puisque omega est scalaire\n",
    "\n",
    "plot(t,f(t),'r+-');\n",
    "hold on;\n",
    "\n",
    "omega = 10;\n",
    "plot(t,f(t),'go');\n",
    "\n",
    "title(\"changer la variable omega ne change pas la fonction\")"
   ]
  },
  {
   "cell_type": "markdown",
   "id": "1990e775-c7fc-40c9-a25b-ce8a22093a93",
   "metadata": {},
   "source": [
    "Et oui ! lors de la déclaration de la fonction f, omega vallait 4.\n",
    "\n",
    "Changer la valeur de omega ensuite, ne change pas la fonction f...\n",
    "\n",
    "Mieux vaut passer plusieurs paramètres explicitement.   \n",
    "Ou bien  déclarer une fonction par valeur de paramètre !"
   ]
  },
  {
   "cell_type": "code",
   "execution_count": 60,
   "id": "303c3baf-5968-49a3-8a36-a08549aee44d",
   "metadata": {},
   "outputs": [
    {
     "data": {
      "image/png": "[encoded data removed]",
      "text/plain": [
       "<IPython.core.display.Image object>"
      ]
     },
     "metadata": {},
     "output_type": "display_data"
    }
   ],
   "source": [
    "f = @(x,w) exp(i*w*x) ;\n",
    "omega = 4;\n",
    "f_de_t = f(x=t, w=omega);    % passage explicite des params\n",
    "plot(t,f_de_t,'r');\n",
    "\n",
    "hold on;\n",
    "omega = 10;    \n",
    "plot(t,f(t,omega),'b');         % passage implicite par ordre\n",
    "\n",
    "% Déclarons la fonction pour omega =0 \n",
    "% C'est donc la fonction constante\n",
    "constante = @(x) f(x=x,w=0); % vectorisée si f(x,w) vectorisée\n",
    "plot(t,sqrt(2)/2*constante(t),'g')"
   ]
  },
  {
   "cell_type": "markdown",
   "id": "3d3cd093-629e-4900-a434-74bbc352385b",
   "metadata": {},
   "source": [
    "Remarquez bien qu'en informatique comme en mathématique, il ne faut pas confondre\n",
    "  - la fonction $f:\\mathbb{R^2}\\to \\mathbb{R}$ mathématique associée en informatique à la fonction anonyme `f`\n",
    "  - l'évaluation la fonction $f(x,w)\\in\\mathbb{R}$ mathématique qui est une variable ou un tableau `f_de_t` ou `f(t)`dans cet example.\n",
    "  "
   ]
  },
  {
   "cell_type": "code",
   "execution_count": 63,
   "id": "94c520da-94e0-4f1c-b7d5-dfed4397193a",
   "metadata": {},
   "outputs": [
    {
     "name": "stdout",
     "output_type": "stream",
     "text": [
      "f =\n",
      "\n",
      "@(x, w) exp (i * w * x)\n",
      "\n",
      "f_de_t =\n",
      "\n",
      " Columns 1 through 3:\n",
      "\n",
      "   1.00000 + 0.00000i   0.54030 + 0.84147i  -0.41615 + 0.90930i\n",
      "\n",
      " Columns 4 and 5:\n",
      "\n",
      "  -0.98999 + 0.14112i  -0.65364 - 0.75680i\n",
      "\n",
      "ans =  1\n",
      "ans = -0.65364 - 0.75680i\n"
     ]
    }
   ],
   "source": [
    "t=0:4;\n",
    "f_de_t=f(t,1);\n",
    "f\n",
    "f_de_t\n",
    "f(x=0,w=1)\n",
    "f(4,1)"
   ]
  },
  {
   "cell_type": "markdown",
   "id": "0aa257b5-2534-4466-9f0e-559c38099f86",
   "metadata": {
    "jp-MarkdownHeadingCollapsed": true,
    "tags": []
   },
   "source": [
    "## Exercice\n",
    "---\n",
    "\n",
    "Faites un script smart avec une partie configuration pour que l'utilisatrice puisse rentrer :\n",
    "  - un instant de debut tmin\n",
    "  - un instant de fin tmax\n",
    "  - un nombre de points N à afficher entre tmin et tmax inclus\n",
    "  - une fonction f à afficher\n",
    "  \n",
    "La fonction f à afficher proposée par défaut sera **le cosinus causal**\n"
   ]
  },
  {
   "cell_type": "code",
   "execution_count": 26,
   "id": "fe97d9ce-da3f-46b8-9668-6cfd7e8fc820",
   "metadata": {},
   "outputs": [],
   "source": [
    "clear all;\n",
    "close all;\n",
    "\n",
    "%%______________________________________\n",
    "%% Programme qui affiche une fonction \n",
    "\n",
    "%% <<<<<<<<<<<<<<<<<<<<<<<<<<<<<<<<<<<<<\n",
    "%% Utilisatrice, configurez ces lignes SVP\n",
    "\n",
    "% VOTRE CODE de config \n",
    "% avec des commentaires USER friendly\n",
    "\n",
    "\n",
    "% un exemple de déclaration de f \n",
    "% avec le cas du cosinus causal \n",
    "% BIEN VECTORISER le calcul !\n",
    "\n",
    "%% Fin de la zone de configuration\n",
    "%% >>>>>>>>>>>>>>>>>>>>>>>>>>>>>>>>>>>>>\n",
    "\n",
    "\n",
    "%% VOTRE CODE t=\n",
    "% allant de tmin à tmax avec N points \n",
    "t=1:0.5:4; \n",
    "\n",
    "%% VOTRE CODE f_de_t =\n",
    "% appelant la fonction f de l'utilisatrice\n",
    "\n",
    "%% VOTRE plot \n",
    "% ajoutez les axes x et y commentés et un titre\n",
    "\n"
   ]
  },
  {
   "cell_type": "markdown",
   "id": "f46b108b-6665-488a-8452-7ffcfc9b063e",
   "metadata": {},
   "source": [
    "---\n",
    "#  Séance 2 : équivalent exo 4 du sujet standard\n",
    "---\n",
    "\n",
    "L' [exercice 4](https://moodle.insa-toulouse.fr/mod/resource/view.php?id=24759#page=7) final vous demande :  \n",
    " - Afficher le signal $f_1 : t\\mapsto 2.\\cos\\left(\\frac{2\\pi}{10}.t\\right)$ dans un intervale  allant de 0 à 10.\n",
    " - Calculer numériquement l'initégrale puis sa valeur moyenne.\n",
    " - Avec une partie configurable SMART du scrit, vous pourrez affecteur le **Test moodle** en utilisant votre script.\n",
    " - BONUS paramétrez votre script pour faire [Exo 2 poly page 95](https://moodle.insa-toulouse.fr/mod/resource/view.php?id=24741#page=95) et visualiser la période du signal, calculer la valeur moyenne $a_0$, etc.\n",
    "\n",
    "\n"
   ]
  },
  {
   "cell_type": "markdown",
   "id": "202172eb-dedc-4de1-9a70-cbb0568b7d45",
   "metadata": {},
   "source": [
    "## 1  Affichage\n",
    "---\n",
    "\n",
    "Reprenez votre script de [l'exercice précédent](intro_octave_2.ipynb#Exercice)  et réutilisez le [corrigé de l'exo 1 à 3](intro_octave_1_corr.ipynb#Exercice-final--(une-solution)) pour \n",
    "\n",
    "> faire un script `noms_du_binome_td.m` qui soit [paramétrable SMART](intro_octave_2.ipynb#Version-smart-and-easy)\n",
    "> qui   \n",
    ">  - utilise une fonction anonyme `f` issue du paramétrage de l'utilisatrice     \n",
    ">  - calcule un vecteur temps `t` allant de `tmin` à `tmax` par pas de `Te` issue du paramétrage de l'utilisatrice     \n",
    ">  - evalue la fonction aux instants de `t` dans un vecteur `f_de_t`   \n",
    ">  - effectue un affichage clair\n"
   ]
  },
  {
   "cell_type": "markdown",
   "id": "97833fce-c761-4e1a-ab54-171dda2b848d",
   "metadata": {
    "jp-MarkdownHeadingCollapsed": true,
    "tags": []
   },
   "source": [
    "# 2 Calcul d'intégrale Rieman\n",
    "---\n",
    "\n",
    "L'intégrale de Rieman s'approche numériquement en utilisant un pas d'échantillonnage $dt$ petit et en évaluant la fonction tout les $dt$.\n"
   ]
  },
  {
   "cell_type": "markdown",
   "id": "29e318ce-46e7-4466-ad9a-e14645a62509",
   "metadata": {},
   "source": [
    "\n",
    "L'aire sous la courbe est ainsi approchée :\n",
    "\n",
    "<img title=\"intégrale de Rieman\" alt=\"Alt text\" src=\"../images/integrale_Riemann.png\" width=\"400\">\n",
    "\n",
    "Ne pas confondre \n",
    " * une intégrale qui est **un nombre scalaire** (lorsqu'elle converge) :   \n",
    "$\\int\\limits_a^b f(t). dt = F(a) - F(b) = \\lim\\limits_{dx\\to 0}\\sum\\limits_{k=0}^N f\\left(k.dx\\right).dx$    \n",
    "  **C'est un nombre !** qui est la surface sous la courbe de $a$ à $b$ fixés et connus.\n",
    " * la primitive $F$ d'une fonction $f$ qui dépend d'une borne   \n",
    "   $F : a \\mapsto \\int\\limits_{0}^{a}f(t).dt$  \n",
    "   **C'est donc une fonction !** qui pour un $a$ donné renvoie la surface sous la courbe de 0 à $a$\n",
    "\n",
    "  \n",
    "Nous cherchons ici à calculer une intégrale et donc un nombre."
   ]
  },
  {
   "cell_type": "markdown",
   "id": "91192b65-f55f-4360-8f53-a6bef9f077dc",
   "metadata": {
    "jp-MarkdownHeadingCollapsed": true,
    "tags": []
   },
   "source": [
    "\n",
    "## Calculez l'intégrale demandée\n",
    "---\n",
    "\n",
    "Le but est maintenant de calculer $\\sum\\limits_{k=0}^N f\\left(k.dx\\right).dx$ à l'aide de vos vecteurs et variables matlab.\n",
    "\n",
    "Faites le lien entre cette formule, son schéma, ses noms de variables,  avec les variables de votre scripts :\n",
    "| $f \\iff $ | `f` ou `f_de_t` ou `f(t)|\n",
    "|-----------|----------------|\n",
    "| $dx$      | `tmin` ou `tmax`ou `Te`|\n",
    "| $a$       | `tmin` ou `tmax`ou `Te`|\n",
    "| $b$       | `tmin` ou `tmax`ou `Te`|\n",
    "| $x$       | `t` ou `f(t)`|\n",
    "| $N$       | à calculer ou utiliser `length` | \n",
    "\n",
    "Vous pouvez utiliser une boucle for et une variable de cumulation `somme`, ou simplement appeler la fonction `sum` de matlab.\n",
    "\n",
    "Pour vous aider, vous pouvez regarder les exemples suivants"
   ]
  },
  {
   "cell_type": "markdown",
   "id": "d897a6ac-3f9f-4859-a1eb-a4faf0bbc891",
   "metadata": {
    "jp-MarkdownHeadingCollapsed": true,
    "tags": []
   },
   "source": [
    "\n",
    "# Exemples pour vous inspirer \n",
    "--- \n",
    "\n",
    "Vous pouvez utiliser la commande `help` pour voir comment utiliser une fonction et avoir des exemples :\n",
    "``` octave\n",
    "   help for\n",
    "\n",
    "   help sum\n",
    "```\n",
    "En complément voici des exemples proches de ce qu'il faut faire "
   ]
  },
  {
   "cell_type": "markdown",
   "id": "d89b0c38-5b24-4856-9653-df462fb3506a",
   "metadata": {},
   "source": [
    "## Exemple d'utilisation de `sum` : la somme partielle d'une suite géométrique\n",
    "\n",
    "Rappelons que la formule de répétition causale $f_r$ d'un signal impulsion $f$ répété N fois avec une période $T_0$ donnant la transformée de Laplace est :\n",
    "\n",
    "$F_r(p) = F(p) . (e^{-0.Te.p} + \\ldots + e^{-N.Te.p})$\n",
    "\n",
    "où l'on voit que la somme des retards est une suite géométrique de raison $r=e^{-T_e.p}\\in\\mathrm{C}$.\n",
    "\n",
    "Cette **série** géométrique (on parle donc de la suite des sommes partielles) peut converger vers $S_N=\\frac{r^{N+1}-r^0}{r-1}\\underset{N\\to+\\infty}{\\rightarrow}\\frac{1}{1-r}$ ssi $|r|<1$ ce qui impose certaines choses sur la valeur de p.\n",
    "\n",
    "Ce qui donne pour une répétition infinie :\n",
    "\n",
    "$F_r(p) = F(p) . \\frac{1}{1 - e^{-Te.p}}$\n",
    "\n",
    "\n",
    "Le programme si dessous calcule une somme partielle pour une valeur de $p$ et $T_0$ donnée :"
   ]
  },
  {
   "cell_type": "code",
   "execution_count": 5,
   "id": "b84d9c9f-11cd-4fc6-aecb-73c9b6452ae6",
   "metadata": {},
   "outputs": [
    {
     "name": "stdout",
     "output_type": "stream",
     "text": [
      "Tau =\n",
      "\n",
      "   0   1   2   3\n",
      "\n",
      "Laplace =\n",
      "\n",
      " Columns 1 through 3:\n",
      "\n",
      "   1.00000 - 0.00000i   0.19877 - 0.30956i  -0.05632 - 0.12306i\n",
      "\n",
      " Column 4:\n",
      "\n",
      "  -0.04929 - 0.00703i\n",
      "\n",
      "Somme_Numerique =  1.09316 - 0.43965i\n",
      "Somme_Analytique =  1.09316 - 0.43965i\n"
     ]
    }
   ],
   "source": [
    "% exemple de l'utilisation de sum pour calculer une somme partielle de suite géométrique\n",
    "Te=1;\n",
    "Tau = 0:Te:3*Te % les retards\n",
    "p = 1+i; % une des valeurs possible de la variable de Laplace\n",
    "\n",
    "% Laplaces pour tous les retards Tau pour une seule valeur de p\n",
    "Laplace = exp(-Tau*p)  % vectorisé ! Tau est (4,1), p est scalaire\n",
    "                       % Laplace est (4,1)\n",
    "                       \n",
    "Somme_Numerique = sum(Laplace) % somme de tous les retards de Laplace (4,1)  \n",
    "% on vérifie avec la formule de somme partielle\n",
    "Somme_Analytique=(exp(-4*p)-exp(0*p))/(exp(-p)-1)"
   ]
  },
  {
   "cell_type": "markdown",
   "id": "3e017e0a-17da-4d79-994d-7d1b072e496c",
   "metadata": {},
   "source": [
    "## Exemple d'utilisation de `for` : calcul de factorielle\n",
    "\n",
    "Programme un peu stupide pour calculer la factorielle : on stocke dans un tableau `v` les valeurs de 1 à 4  et ensuite on multiplie chaque élément de ce tableau. "
   ]
  },
  {
   "cell_type": "code",
   "execution_count": 23,
   "id": "eb934ffd-059e-492e-b808-1f3aef381c23",
   "metadata": {},
   "outputs": [
    {
     "name": "stdout",
     "output_type": "stream",
     "text": [
      "v =\n",
      "\n",
      "   1   2   3   4\n",
      "\n",
      "factorielle =  24\n"
     ]
    }
   ],
   "source": [
    "% exemple de boucle dans un tableau pour calculer une factorielle\n",
    "v=1:4\n",
    "factorielle = 1 ;\n",
    "% exemple pour boucler dans un tableau\n",
    "for indice = 1:length(v)\n",
    "    factorielle = factorielle * v(indice) ;\n",
    "end\n",
    "\n",
    "factorielle % sans ; pour afficher"
   ]
  }
 ],
 "metadata": {
  "kernelspec": {
   "display_name": "Octave",
   "language": "octave",
   "name": "octave"
  },
  "language_info": {
   "file_extension": ".m",
   "help_links": [
    {
     "text": "GNU Octave",
     "url": "https://www.gnu.org/software/octave/support.html"
    },
    {
     "text": "Octave Kernel",
     "url": "https://github.com/Calysto/octave_kernel"
    },
    {
     "text": "MetaKernel Magics",
     "url": "https://metakernel.readthedocs.io/en/latest/source/README.html"
    }
   ],
   "mimetype": "text/x-octave",
   "name": "octave",
   "version": "4.2.2"
  }
 },
 "nbformat": 4,
 "nbformat_minor": 5
}
