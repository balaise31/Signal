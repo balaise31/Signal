{
 "cells": [
  {
   "cell_type": "markdown",
   "id": "472391ae-2bce-43fd-808c-4a6ab9c6144c",
   "metadata": {},
   "source": [
    "| [Intro Octave 1](intro_octave_1.ipynb)| Revenir à la [page déroulement](../README.ipynb) |---|\n",
    "|-------------|---|---|\n",
    "\n",
    "---\n",
    "# Intro. Octave 2 : SUJET ( -> [Corrigé](./intro_octave_2_corr.ipynb))\n",
    "--- \n"
   ]
  },
  {
   "cell_type": "markdown",
   "id": "dcb49e2b-5673-487e-a15a-8b4ecdaa43ba",
   "metadata": {
    "tags": []
   },
   "source": [
    "## Produit de signaux = élément par élément\n",
    "\n",
    "Comprenez bien que l'on a dû multiplier deux signaux entre eux avec le produit .* élément par élément.\n",
    "> `f= @(t,F) u(t) .* sin(2*pi*F*t) * A;`\n",
    "\n",
    "Car \n",
    "- l'opérande de gauche `u(t)` est un vecteur ligne (1 x n)\n",
    "- l'opérande de droite `sin(2*pi*F*t) * A` est de même (1 x n)\n",
    "\n",
    "Donc le produit matriciel est mal défini car (1 x n) * (1 x n) ne fonctionne pas\n",
    "                                       "
   ]
  },
  {
   "cell_type": "code",
   "execution_count": 10,
   "id": "f3383673-9de3-418f-94b4-624f5462e97a",
   "metadata": {},
   "outputs": [
    {
     "name": "stdout",
     "output_type": "stream",
     "text": [
      "error: operator *: nonconformant arguments (op1 is 1x901, op2 is 1x901)\n"
     ]
    }
   ],
   "source": [
    "gauche = u(t);\n",
    "droite = sin(2*pi*F*t) * A;\n",
    "gauche * droite"
   ]
  },
  {
   "cell_type": "markdown",
   "id": "ddca13d2-145f-4c0b-9636-d422560c8a3a",
   "metadata": {},
   "source": [
    "On demande alors un produit élément par élément entre ces deux vecteurs ** qui doivent être de même taille ! **\n",
    "\n",
    "L'équivalent d'une boucle for en ada \n",
    "```ADA\n",
    "for I in 1..901 loop\n",
    "    mult(I) = gauche(I) * droite(I)\n",
    "end loop;\n",
    "```\n",
    "Ce fait en demandant la version \"élément par élément\" de l'opérateur *\n",
    "\n",
    "Ce qui donne en utilisant subplot pour faire trois graphiques superposés :\n"
   ]
  },
  {
   "cell_type": "code",
   "execution_count": 11,
   "id": "68f86dd9-8f9c-4b3c-845e-7431fe6a24c8",
   "metadata": {},
   "outputs": [
    {
     "data": {
      "image/png": "[encoded data removed]",
      "text/plain": [
       "<IPython.core.display.Image object>"
      ]
     },
     "metadata": {},
     "output_type": "display_data"
    }
   ],
   "source": [
    "% subplot divise la fenêtre en plusieurs rangées et colonne sde graphiques\n",
    "subplot(311) % 3 rangées, 1 colone, on se met dans le graphique 1 (en haut)\n",
    "plot(t,gauche,'*');\n",
    "text(0,-0.25, \" X  multiplie par\")\n",
    "subplot(312) % 3 rangées, 1 colone, on se met dans le graphique 2 (au milieu)\n",
    "plot(t,droite,'.');\n",
    "text(0,-4.5, \" = egale\")\n",
    "subplot(313) % 3 rangées, 1 colone, on se met dans le graphique 3 (en bas)\n",
    "plot(t,gauche.*droite);\n"
   ]
  },
  {
   "cell_type": "markdown",
   "id": "f46b108b-6665-488a-8452-7ffcfc9b063e",
   "metadata": {},
   "source": [
    "---\n",
    "#  Séance 2 : équivalent exo 4 du sujet standard\n",
    "---\n",
    "\n",
    "- Afficher une somme de signaux correspondant à une série de Fourier\n",
    "- Calculer numériquement une intégrale (valeur moyenne) : **Test moodle**\n",
    "\n",
    "## Choses à faire pour cette séance\n",
    "---\n",
    "\n",
    "- installer octave sur son PC et apporter son PC si possible ;\n",
    "- (en option) installer anaconda (distribution de python) utile pour les notebooks ;\n",
    "- Reprendre mon script en un script au format GroupeA_NOM1_NOM2.m pour tracer la somme de la composante continue (utiliser la fonction `constante` de mon script) ajoutée à la fondamentale ajoutée au premier harmonique d'une des séries des [Exos 1.3 des SdF](https://moodle.insa-toulouse.fr/mod/resource/view.php?id=24741#section.5.9) et de l'[exo 7 des SdF](https://moodle.insa-toulouse.fr/mod/resource/view.php?id=24741#section.5.9)\n",
    "\n"
   ]
  },
  {
   "cell_type": "markdown",
   "id": "29e318ce-46e7-4466-ad9a-e14645a62509",
   "metadata": {},
   "source": [
    "### Réfléchir à un programme ADA capable de calculer l'intégrale d'un signal représenté par un tableau valeurs : intégrale de Rieman\n",
    "\n",
    "\n",
    "\n",
    "![](integrale_Riemann.png)\n",
    "\n",
    "Ne pas confondre \n",
    " * la primitive $F$ d'une fonction $f$ qui dépend d'une borne $F : a \\mapsto \\int_{0}^{a}f(t)d(t)$ : Il s'agit ici de la primitive qui s'annule en 0 (prisée des traiteuses du signal et des automaticiennes, car on considère des signaux causaux). Une manière d'obtenir cette fonction primitive dans le cas discret (on ne dispose que d'échantillons de valeurs à des instants donnés : ce sont donc des suites numériques) est donnée dans l' [exercice 2.1 page 23 du poly de filtrage numérique](https://github.com/balaise31/Signal/blob/master/discret/poly/main.pdf#page=23)\n",
    "* une intégrale qui est un nombre réel (lorsqu'elle converge) :\n",
    "$\\int_a^b f(t) dt = F(a) - F(b) = \\lim_{dx\\to 0}\\sum_{k=0}^N f(k.dx).dx$"
   ]
  },
  {
   "cell_type": "markdown",
   "id": "91192b65-f55f-4360-8f53-a6bef9f077dc",
   "metadata": {},
   "source": [
    "\n",
    "## Calculez l'intégrale demandée\n",
    "---\n",
    "\n",
    "Il faudra déposer votre fichier matlab capable de calculer une intégrale (par exemple  $\\int\\limits_{t=0}^{\\pi}tcos(2t)dt$ ) [ici sur moodle](https://moodle.insa-toulouse.fr/mod/quiz/view.php?id=24772) contenant votre travail précédent (affichage des composantes) et ce calcul. Même si cela est sous la forme d'un QCM, il s'agit d'un dépôt de réponse et de fichier.\n",
    "\n",
    "Créez la fonction `f` à intégrer, sous la forme d'une fonction en ligne, en vous demandant si le produit entre `t` et `cos(2*t)` doit être matriciel `*` ou élément par élément `.*` :"
   ]
  },
  {
   "cell_type": "code",
   "execution_count": 3,
   "id": "b9e74cdb-7fef-4eb7-80cb-410a506bcc4e",
   "metadata": {},
   "outputs": [
    {
     "name": "stdout",
     "output_type": "stream",
     "text": [
      "f =\n",
      "\n",
      "@(t) cos (2 * t) * t\n",
      "\n"
     ]
    }
   ],
   "source": [
    "f = @(t) cos(2*t) *  t"
   ]
  },
  {
   "cell_type": "markdown",
   "id": "78bce756-4fd2-4530-9050-119181a970e2",
   "metadata": {},
   "source": [
    "Tester si cette fonction est bien vectorisée en calculant `f` pour tout les instants contenus dans le vecteur `t`. Stockez-le dans un vecteur `sig_f`.\n",
    "\n",
    "La commande `sig_f = f(t)` doit donc fonctionner et vous devez observer dans le ***workspace*** un vecteur de valeurs.\n",
    "\n",
    "Le but est maintenant de calculer la somme des valeurs de `sig_f` et de multiplier par $T_e$ pour avoir $\\sum_{k=0}^N f(k.dx).dx$ avec $dx=T_e$. Vous pouvez utiliser une boucle for et une variable de cumulation `somme`, ou simplement appeler la fonction `sum` de matlab."
   ]
  },
  {
   "cell_type": "markdown",
   "id": "d897a6ac-3f9f-4859-a1eb-a4faf0bbc891",
   "metadata": {},
   "source": [
    "\n",
    "## Les exemples suivants peuvent vous inspirer et vous aider\n",
    "--- \n",
    "\n",
    "Vous pouvez utiliser la commande `help` pour voir comment utiliser une fonction et avoir des exemples :\n",
    "``` octave\n",
    "   help for\n",
    "\n",
    "   help sum\n",
    "```\n",
    "En complément voici des exemples proches de ce qu'il faut faire "
   ]
  },
  {
   "cell_type": "markdown",
   "id": "d89b0c38-5b24-4856-9653-df462fb3506a",
   "metadata": {},
   "source": [
    "## Exemple d'utilisation de `sum` : la somme partielle d'une suite géométrique\n",
    "\n",
    "Rappelons que la formule de répétition causale $f_r$ d'un signal impulsion $f$ répété N fois avec une période $T_0$ donnant la transformée de Laplace est :\n",
    "\n",
    "$F_r(p) = F(p) . (e^{-0.Te.p} + \\ldots + e^{-N.Te.p})$\n",
    "\n",
    "où l'on voit que la somme des retards est une suite géométrique de raison $r=e^{-T_e.p}\\in\\mathrm{C}$.\n",
    "\n",
    "Cette **série** géométrique (on parle donc de la suite des sommes partielles) peut converger vers $S_N=\\frac{r^{N+1}-r^0}{r-1}\\underset{N\\to+\\infty}{\\rightarrow}\\frac{1}{1-r}$ ssi $|r|<1$ ce qui impose certaines choses sur la valeur de p.\n",
    "\n",
    "Ce qui donne pour une répétition infinie :\n",
    "\n",
    "$F_r(p) = F(p) . \\frac{1}{1 - e^{-Te.p}}$\n",
    "\n",
    "\n",
    "Le programme si dessous calcule une somme partielle pour une valeur de $p$ et $T_0$ donnée :"
   ]
  },
  {
   "cell_type": "code",
   "execution_count": 35,
   "id": "b84d9c9f-11cd-4fc6-aecb-73c9b6452ae6",
   "metadata": {},
   "outputs": [
    {
     "name": "stdout",
     "output_type": "stream",
     "text": [
      "Tau =\n",
      "\n",
      "   0   1   2   3\n",
      "\n",
      "Laplace =\n",
      "\n",
      " Columns 1 through 3:\n",
      "\n",
      "   1.00000 - 0.00000i   0.19877 - 0.30956i  -0.05632 - 0.12306i\n",
      "\n",
      " Column 4:\n",
      "\n",
      "  -0.04929 - 0.00703i\n",
      "\n",
      "Somme =  1.09316 - 0.43965i\n",
      "ans =  1.09316 - 0.43965i\n"
     ]
    }
   ],
   "source": [
    "% exemple de l'utilisation de sum pour calculer une somme partielle de suite géométrique\n",
    "Te=1;\n",
    "Tau = 0:Te:3*Te % les retards\n",
    "p = 1+i; % une variable des valeurs possible de la variable de Laplace\n",
    "Laplace = exp(-Tau*p) % Laplace des  retards pour une valeur de p\n",
    "Somme = sum(Laplace) % Laplace de la somme des retards\n",
    "% on vérifie avec la formule de somme partielle\n",
    "(exp(-4*p)-exp(0*p))/(exp(-p)-1)"
   ]
  },
  {
   "cell_type": "markdown",
   "id": "3e017e0a-17da-4d79-994d-7d1b072e496c",
   "metadata": {},
   "source": [
    "## Exemple d'utilisation de `for` : calcul de factorielle\n",
    "\n",
    "Programme un peu stupide pour calculer la factorielle : on stocke dans un tableau `v` les valeurs de 1 à 4  et ensuite on multiplie chaque élément de ce tableau. "
   ]
  },
  {
   "cell_type": "code",
   "execution_count": 23,
   "id": "eb934ffd-059e-492e-b808-1f3aef381c23",
   "metadata": {},
   "outputs": [
    {
     "name": "stdout",
     "output_type": "stream",
     "text": [
      "v =\n",
      "\n",
      "   1   2   3   4\n",
      "\n",
      "factorielle =  24\n"
     ]
    }
   ],
   "source": [
    "% exemple de boucle dans un tableau pour calculer une factorielle\n",
    "v=1:4\n",
    "factorielle = 1 ;\n",
    "% exemple pour boucler dans un tableau\n",
    "for indice = 1:length(v)\n",
    "    factorielle = factorielle * v(indice) ;\n",
    "end\n",
    "\n",
    "factorielle % sans ; pour afficher"
   ]
  }
 ],
 "metadata": {
  "kernelspec": {
   "display_name": "Python 3 (ipykernel)",
   "language": "python",
   "name": "python3"
  },
  "language_info": {
   "codemirror_mode": {
    "name": "ipython",
    "version": 3
   },
   "file_extension": ".py",
   "mimetype": "text/x-python",
   "name": "python",
   "nbconvert_exporter": "python",
   "pygments_lexer": "ipython3",
   "version": "3.10.6"
  }
 },
 "nbformat": 4,
 "nbformat_minor": 5
}
