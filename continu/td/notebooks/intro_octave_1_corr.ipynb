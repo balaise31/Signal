{
 "cells": [
  {
   "cell_type": "markdown",
   "metadata": {},
   "source": [
    "|--- | Revenir à la [page déroulement](../README.ipynb) | [Intro Octave 2](intro_octave_2.ipynb)|\n",
    "|-------------|---|---|\n",
    "\n",
    "---\n",
    "# Intro. Octave 1 : CORRIGE (-> [Sujet](./intro_octave_1.ipynb))\n",
    "--- \n",
    "  \n",
    "  Séance 1 (équivalent exos 1 à 3 du [sujet standard sur moodle](https://moodle.insa-toulouse.fr/mod/resource/view.php?id=24759) )\n",
    "  \n",
    "  Doit manipuler des vecteurs pour afficher deux signaux"
   ]
  },
  {
   "cell_type": "markdown",
   "metadata": {
    "jp-MarkdownHeadingCollapsed": true,
    "tags": []
   },
   "source": [
    "---\n",
    "# Acquérir les concepts pas à pas\n",
    "---\n",
    "\n",
    "Concepts :\n",
    "  - langage interprété (vs langage compilé)\n",
    "  - polymorphisme des variables\n",
    "  - aides et communauté\n",
    "  - manipulation des vecteurs/matrices/tenseurs\n",
    "  - boucles vs calcul vectorisé\n",
    "  - Opérateur élément par élément"
   ]
  },
  {
   "cell_type": "markdown",
   "metadata": {
    "jp-MarkdownHeadingCollapsed": true,
    "tags": []
   },
   "source": [
    "## Langage interprété\n",
    "---\n",
    "Différence entre octave et  ADA, un code source .adb et un script .m ...\n",
    "\n",
    "Notion de kernel et machine virtuelle"
   ]
  },
  {
   "cell_type": "markdown",
   "metadata": {
    "tags": []
   },
   "source": [
    "<img src=\"../images/compile_vs_interprete.png\" alt=\"drawing\" width=\"400\"/>\n",
    "\n",
    "D'après vous lesquels sont compilés et lesquels interpértés ?\n",
    " - Ada\n",
    " - Matlab\n",
    " - python\n",
    " - Java\n",
    " - C"
   ]
  },
  {
   "cell_type": "markdown",
   "metadata": {
    "jp-MarkdownHeadingCollapsed": true,
    "tags": []
   },
   "source": [
    "## Polymorphisme des variables\n",
    "---\n",
    "\n",
    "En interprété il n'est pas besoin de déclarer un type de variable. \n",
    "\n",
    "Le fait d'utiliser une variable la crée et son initialisation donne sont type !\n",
    "\n",
    "Si l'utilisation change, le type change avec la notion de **promotion de type** : \"qui peut le plus peut le moins\""
   ]
  },
  {
   "cell_type": "markdown",
   "metadata": {
    "jp-MarkdownHeadingCollapsed": true,
    "tags": []
   },
   "source": [
    "Essayons de déclarer une variable A et voyons sont évolution..."
   ]
  },
  {
   "cell_type": "code",
   "execution_count": 1,
   "metadata": {},
   "outputs": [
    {
     "name": "stdout",
     "output_type": "stream",
     "text": [
      "A =  3\n",
      "A =  0.75000\n",
      "A =  0.00000 + 0.86603i\n",
      "error: 'B' undefined near line 1 column 5\n"
     ]
    }
   ],
   "source": [
    "A = 3\n",
    "A = 3/4\n",
    "A = sqrt(-A)\n",
    "A = B\n"
   ]
  },
  {
   "cell_type": "markdown",
   "metadata": {},
   "source": [
    "Et oui $\\mathbb{Z}\\subset\\mathbb{R}\\subset\\mathbb{C}$ donc la promotion marche\n",
    "\n",
    "> Même s'il n'est pas utile de déclarer explicitement le type, il faut au moins créer la variable B en l'initialisant avant de l'utiliser.\n",
    "\n",
    "L'interpréteur garde en mémoire toutes ces variables dans un *memory pool* appelé *workspace*. Ce worwspace est visible d'ans l'IDE d'octave (à droite, ou le type la dimension et la valeur sont affichés)\n"
   ]
  },
  {
   "cell_type": "markdown",
   "metadata": {
    "tags": []
   },
   "source": [
    "Mais une variable peut non seulement se promouvoir de type mais aussi en dimention et passer de scalaire à vecteur à matrice à matrice de dimensions supérerieure (hyper matrice ou tenseur).\n",
    "\n",
    "La syntexe est celle de l'ADA **sans déclaration!** il suffit de voir une matrice comme un tableau à deux entrées avec la notation `A(2,3)` pour l'élément de rangée 2 et la colonne 3 du tableau A.\n",
    "\n",
    "Voici donc une promotion de dimention"
   ]
  },
  {
   "cell_type": "code",
   "execution_count": 2,
   "metadata": {},
   "outputs": [
    {
     "name": "stdout",
     "output_type": "stream",
     "text": [
      "A =\n",
      "\n",
      "   0.00000 + 0.86603i   0.00000 + 0.00000i   0.00000 + 0.00000i\n",
      "   0.00000 + 0.00000i   0.00000 + 0.00000i   0.00000 + 1.00000i\n",
      "\n",
      "A =\n",
      "\n",
      "ans(:,:,1) =\n",
      "\n",
      "   0.00000 + 0.86603i   0.00000 + 0.00000i   0.00000 + 0.00000i\n",
      "   0.00000 + 0.00000i   0.00000 + 0.00000i   0.00000 + 1.00000i\n",
      "\n",
      "ans(:,:,2) =\n",
      "\n",
      "   1.00000 + 1.00000i   0.00000 + 0.00000i   0.00000 + 0.00000i\n",
      "   0.00000 + 0.00000i   0.00000 + 0.00000i   0.00000 + 0.00000i\n",
      "\n"
     ]
    }
   ],
   "source": [
    "A(2,3) = exp(i*pi/2)\n",
    "A(1,1,2) = sqrt(2) * exp(i*pi/4)"
   ]
  },
  {
   "cell_type": "markdown",
   "metadata": {},
   "source": [
    "Remarquez que matlab connais les opérateurs de base et plus et le nombre imaginaire `i` mais aussi noté  `j`.\n",
    "Attention au polymorphisme ! on peut redéclarer cette variable prédéfinie !"
   ]
  },
  {
   "cell_type": "code",
   "execution_count": 3,
   "metadata": {},
   "outputs": [
    {
     "name": "stdout",
     "output_type": "stream",
     "text": [
      "i = Toto\n",
      "ans =  0 + 1i\n",
      "ans = t\n",
      "ans = o\n"
     ]
    }
   ],
   "source": [
    "i = \"Toto\"\n",
    "j\n",
    "i(3)\n",
    "i(4)\n"
   ]
  },
  {
   "cell_type": "markdown",
   "metadata": {},
   "source": [
    "Regardons dans le workspace (sur l'IDE) ce qu'il y a comme variable, et essayons d'effacer certaines"
   ]
  },
  {
   "cell_type": "code",
   "execution_count": 4,
   "metadata": {},
   "outputs": [
    {
     "name": "stdout",
     "output_type": "stream",
     "text": [
      "Variables in the current scope:\n",
      "\n",
      "A    ans  i\n",
      "\n",
      "ans =  0 + 1i\n",
      "Variables in the current scope:\n",
      "\n",
      "A    ans\n",
      "\n",
      "Le dernier who n'affiche rien\n"
     ]
    }
   ],
   "source": [
    "who\n",
    "clear i\n",
    "i\n",
    "who\n",
    "clear all\n",
    "disp(\"Le dernier who n'affiche rien\")\n",
    "who \n"
   ]
  },
  {
   "cell_type": "markdown",
   "metadata": {
    "tags": []
   },
   "source": [
    "### Exercice\n",
    "Essayez de créer par promotions successives (par ex. $B=\\dots$, puis $B(1,2)=\\dots$ etc.) :\n",
    " - le vecteur ligne $u = [0, 1, 2]$\n",
    " - le vecteur colone $v =  \\left[\\begin{matrix}0 \\\\ 1 \\\\2\\end{matrix}\\right]$\n",
    " - la matrice $B = \\left[\\begin{matrix}1 & 0\\\\2 & 0 \\\\ 3 & 2+i\\end{matrix}\\right]$ \n",
    " \n",
    " **N'utilisez pas encore les fonctions `1:3`, et `(1:3)'` ou `linspace`**"
   ]
  },
  {
   "cell_type": "code",
   "execution_count": 5,
   "metadata": {},
   "outputs": [
    {
     "name": "stdout",
     "output_type": "stream",
     "text": [
      "u =\n",
      "\n",
      "   0   1   2\n",
      "\n",
      "u =\n",
      "\n",
      "   0   1   2\n",
      "\n",
      "v =\n",
      "\n",
      "   0\n",
      "   1\n",
      "   3\n",
      "\n",
      "B =\n",
      "\n",
      "   1 + 0i   1 + 0i\n",
      "   2 + 0i   0 + 0i\n",
      "   3 + 0i   2 + 1i\n",
      "\n"
     ]
    }
   ],
   "source": [
    "%% VOTRE CODE ICI !\n",
    "clear all\n",
    "%% démarrer directement avec\n",
    "\n",
    "% Tableau 1D sont des matrices lignes (1,n) par défaut\n",
    "u=0 ;  % ou u(1)=0\n",
    "u(2)=1;\n",
    "u(3)=2\n",
    "% On peut de manière équivalente utiliser les tableaux 2D\n",
    "u=0 ; u(1,2)=1 ; u(1,3)=2  \n",
    "\n",
    "% Tableau 2D obligatoires pour les vecteurs colonnes (n,1)\n",
    "v=0 ; v(2,1)=1 ; v(3,1)=3\n",
    "\n",
    "%Tableau 2D pour les matrices (n,m) évidemment\n",
    "B=1 ; B(1,2)=1 ; B(2,1)=2 ; B(3,1)=3 ; B(3,2) = 2+i\n",
    "\n",
    "% Exécutez avec MAJ+ENTREE\n"
   ]
  },
  {
   "cell_type": "markdown",
   "metadata": {
    "jp-MarkdownHeadingCollapsed": true,
    "tags": []
   },
   "source": [
    "## Aide et communauté\n",
    "---\n",
    "\n",
    "La fonction`help` permet d'obtenir des information bien faites sur une commande et de trouver des commandes annexes."
   ]
  },
  {
   "cell_type": "markdown",
   "metadata": {
    "jp-MarkdownHeadingCollapsed": true,
    "tags": []
   },
   "source": [
    "Cherchons si la fonction `log` est en base 10, 2 ou e."
   ]
  },
  {
   "cell_type": "code",
   "execution_count": 6,
   "metadata": {},
   "outputs": [
    {
     "name": "stdout",
     "output_type": "stream",
     "text": [
      "'log' is a built-in function from the file libinterp/corefcn/mappers.cc\n",
      "\n",
      " -- log (X)\n",
      "     Compute the natural logarithm, 'ln (X)', for each element of X.\n",
      "\n",
      "     To compute the matrix logarithm, see *note Linear Algebra::.\n",
      "\n",
      "     See also: exp, log1p, log2, log10, logspace.\n",
      "\n",
      "Additional help for built-in functions and operators is\n",
      "available in the online version of the manual.  Use the command\n",
      "'doc <topic>' to search the manual index.\n",
      "\n",
      "Help and information about Octave is also available on the WWW\n",
      "at http://www.octave.org and via the help@octave.org\n",
      "mailing list.\n"
     ]
    }
   ],
   "source": [
    "help log"
   ]
  },
  {
   "cell_type": "markdown",
   "metadata": {},
   "source": [
    "C'est donc le $ln$ néperien et celui en base 10 est sans doute $log10$.\n",
    "\n",
    "De plus il existe une autocomplétion : si on tape un début \"sin\" de \"sinus cardinal\" par exemple, et que l'on appuie sur TAB, octave va proposer ce qui existe pour compléter.\n",
    "\n",
    "Utilisez l'autocomplétion TAB puis la commande `help` pour savoir si le sinus cardinal de matlab est défini par $\\frac{\\sin(x)}{x}$ ou bien $\\frac{\\sin(\\pi.x)}{\\pi.x}$..."
   ]
  },
  {
   "cell_type": "code",
   "execution_count": 7,
   "metadata": {},
   "outputs": [
    {
     "name": "stdout",
     "output_type": "stream",
     "text": [
      "ans =  1\n",
      "Alors que le calcul\n",
      "warning: division by zero\n",
      "ans = -Inf\n",
      "warning: division by zero\n",
      "ans = NaN\n"
     ]
    }
   ],
   "source": [
    "## VOTRE AUTOCOMPLETION POUR TROUVER la def de sinus cardinal\n",
    "\n",
    "sinc(0)\n",
    "disp(\"Alors que le calcul\") \n",
    "-1/0\n",
    "sin(0)/0"
   ]
  },
  {
   "cell_type": "markdown",
   "metadata": {},
   "source": [
    "Octave nous préviens d'une division par 0 qui n'est pas une erreur !   \n",
    "La valeur produite est \"Not A Number\" dans se cas car forme indéterminée 0/0.\n",
    "\n",
    "1/0 vaut \"+Inf\" en octave\n",
    "\n",
    "La fonction \"Sinus cardinal\" est non-définie en 0 mais usuellement prolongée de manière continue en 0 par un 1.\n",
    "\n",
    "Car par équivalence $\\frac{\\sin(x)}{x} \\underset{x\\to 0}{\\sim} \\frac{x}{x} = 1 \\neq 0$"
   ]
  },
  {
   "cell_type": "markdown",
   "metadata": {},
   "source": [
    "> Une recherche sur internet sera très efficace car la communauté Matlab et Octave est très grande : il y a un code .m pour tout !"
   ]
  },
  {
   "cell_type": "markdown",
   "metadata": {
    "jp-MarkdownHeadingCollapsed": true,
    "tags": []
   },
   "source": [
    "## Manipulation des vecteur/matrice/tenseurs\n",
    "---\n",
    "\n",
    "Plusieur outils et écritures pour manipuler vecteur et matrices sont natif en Octave."
   ]
  },
  {
   "cell_type": "markdown",
   "metadata": {},
   "source": [
    "De manière native une matrice de dimention 2 peut se déclarer avec :\n",
    " - d'abord `,` le séparateur de colonnes\n",
    " - puis `;` le séparateur de lignes   \n",
    "\n",
    "Par exemple pour l'exercice précédent"
   ]
  },
  {
   "cell_type": "code",
   "execution_count": 8,
   "metadata": {},
   "outputs": [
    {
     "name": "stdout",
     "output_type": "stream",
     "text": [
      "u =\n",
      "\n",
      "   0   1   2\n",
      "\n",
      "v =\n",
      "\n",
      "   0\n",
      "   1\n",
      "   2\n",
      "\n",
      "B =\n",
      "\n",
      "   1 + 0i   0 + 0i\n",
      "   2 + 0i   0 + 0i\n",
      "   3 + 0i   2 + 1i\n",
      "\n"
     ]
    }
   ],
   "source": [
    "u = [0, 1, 2]\n",
    "v = [0; 1; 2]\n",
    "B = [ 1, 0;\n",
    "      2, 0;\n",
    "      3, 2+i]"
   ]
  },
  {
   "cell_type": "markdown",
   "metadata": {
    "tags": []
   },
   "source": [
    "Pour créer des matrices spéciales de zeros, de 1, ou une suite de nombres"
   ]
  },
  {
   "cell_type": "code",
   "execution_count": 9,
   "metadata": {},
   "outputs": [
    {
     "name": "stdout",
     "output_type": "stream",
     "text": [
      "z =\n",
      "\n",
      "   0\n",
      "   0\n",
      "\n",
      "u =\n",
      "\n",
      "   1   1\n",
      "\n",
      "r =\n",
      "\n",
      "   0.94807   0.24427   0.61195\n",
      "   0.28049   0.24899   0.31524\n",
      "\n",
      "t =\n",
      "\n",
      "   1.0000   1.2000   1.4000   1.6000   1.8000   2.0000\n",
      "\n",
      "L'intervale est donc de (2-1)/(6-1)=\n",
      "ans =  0.20000\n",
      "tt =\n",
      "\n",
      "    1.0000    1.2000    1.4000    1.6000    1.8000    2.0000\n",
      "\n"
     ]
    }
   ],
   "source": [
    "clear all;\n",
    "z=zeros(2,1) % 2 rangées et 1 colonne  de zéros\n",
    "u=ones(1,2)  % 1 rangée  et 2 colonnes de uns\n",
    "r=rand(2,3)  % 2 rangées et 3 colonnes de variable aléatoire gaussiènes\n",
    "\n",
    "t=linspace(1,2,6) % en colonne, de 1 à 2 avec 6 points\n",
    "disp(\"L'intervale est donc de (2-1)/(6-1)=\"); (2-1)/(6-1)\n",
    "\n",
    "% de manière équivalente\n",
    "tt=1:0.2:2.1        % de 1 à 2.1 par pas de 0.2\n"
   ]
  },
  {
   "cell_type": "markdown",
   "metadata": {},
   "source": [
    "Les produits matriciel, scalaires existent nativement et sont les opérateurs `*`,`+`\n",
    "L'opérateur transpose existe aussi 'transpose' ainsi que la transposée hilbertienne `'` (transpose et conjugué complexe)\n",
    "\n",
    "Cela donne..."
   ]
  },
  {
   "cell_type": "code",
   "execution_count": 10,
   "metadata": {},
   "outputs": [
    {
     "name": "stdout",
     "output_type": "stream",
     "text": [
      "u_fois_u = 0\n",
      "z_fois_u =\n",
      "\n",
      "   0   0\n",
      "   0   0\n",
      "\n",
      "transpose_i_u =\n",
      "\n",
      "   0 + 1i\n",
      "   0 + 1i\n",
      "\n",
      "hilbert_i_u =\n",
      "\n",
      "   0 - 1i\n",
      "   0 - 1i\n",
      "\n",
      "longueur =  6\n",
      "taille =\n",
      "\n",
      "   1   6\n",
      "\n"
     ]
    }
   ],
   "source": [
    "u_fois_u = u*z  % produit scalaire (1,2)x(2,1)=(1,1) ou \"dot product\" \n",
    "z_fois_u =z*u   % matriciel (2,1)x(1,2)= (2,2) \n",
    "transpose_i_u = transpose(u*i)\n",
    "hilbert_i_u = (u*i)'\n",
    "longueur = length(t)\n",
    "taille = size(t)\n"
   ]
  },
  {
   "cell_type": "markdown",
   "metadata": {
    "tags": []
   },
   "source": [
    "### Exercice\n",
    "\n",
    "  - Créez le vecteur temps `t` ligne qui va de -5 à 5 par pas de 0.5. En utilisant la notation `deb:step:fin`\n",
    "  - Utiliser la fonction `length` et `ones` pour créer un vecteur **colone** nommé `u` de uns de même longueur que `t`\n",
    "  - Réfléchissez s'il faut faire `t*u`ou `u*t` pour obtenir un résultat scalaire. \n",
    "  - Ce résultat doit correspondre à la somme des valeurs de t mais réalisée par projection scalaire avec u. Comparez avec la fonction `sum(t)` qui doit donner cette même somme qui vaut 0\n",
    "  \n"
   ]
  },
  {
   "cell_type": "code",
   "execution_count": 17,
   "metadata": {},
   "outputs": [
    {
     "name": "stdout",
     "output_type": "stream",
     "text": [
      "N =  21\n",
      "ans = 0\n",
      "ans = 0\n"
     ]
    }
   ],
   "source": [
    "% VOTRE CODE\n",
    "t=-5:0.5:5; % à vous de modifier\n",
    "N = length(t)\n",
    "u = ones(N,1);\n",
    "t*u        % ligne (1,N) x (N,1) en colonne = (1,1) scalaire \n",
    "sum(t)"
   ]
  },
  {
   "cell_type": "markdown",
   "metadata": {
    "jp-MarkdownHeadingCollapsed": true,
    "tags": []
   },
   "source": [
    "## Boucles vs calcul vectorisé\n",
    "---\n",
    "\n",
    "Les opérateurs matriciels étant natifs, les fonctions peuvent s'appliquer autant à des matrices qu'à des scalaires.   \n",
    "Inutile de balayer un tableau 1D avec une boucle..."
   ]
  },
  {
   "cell_type": "markdown",
   "metadata": {
    "tags": []
   },
   "source": [
    "Nous allons représenter le signal $s: t\\mapsto \\sin(2\\pi.t)$ en évaluant cette fonction pour tous les instants $t$ contenus dans le tableau `tt` et en mémorisant ses valeurs $s(t)$  dans un tableau `s_de_t`."
   ]
  },
  {
   "cell_type": "markdown",
   "metadata": {
    "tags": []
   },
   "source": [
    "### Boucle For (Obsolète en octave)\n",
    "Une première solution est de faire une boucle `for` comme en ADA. Mais elle n'utilise pas le langage et le dénature..."
   ]
  },
  {
   "cell_type": "code",
   "execution_count": 18,
   "metadata": {},
   "outputs": [
    {
     "name": "stdout",
     "output_type": "stream",
     "text": [
      "s_de_t =\n",
      "\n",
      "  -2.4493e-16   9.5106e-01   5.8779e-01  -5.8779e-01  -9.5106e-01  -4.8986e-16\n",
      "\n"
     ]
    }
   ],
   "source": [
    "for id = 1:6\n",
    "    t = tt(id); % ; pour ne pas afficher\n",
    "    s_de_t(id)=sin(2*pi*t);\n",
    "end\n",
    "s_de_t % sans ; pour afficher"
   ]
  },
  {
   "cell_type": "markdown",
   "metadata": {
    "tags": []
   },
   "source": [
    "La représentation numérique en notation scientifique n'est pas très visuelle ! On va utiliser un affichage avec `plot`\n",
    "\n",
    "Le premier vecteur est la valeur des abscices et le second **de même taille** les ordonnées de chaque point."
   ]
  },
  {
   "cell_type": "code",
   "execution_count": 19,
   "metadata": {
    "tags": []
   },
   "outputs": [
    {
     "data": {
      "image/png": "[encoded data removed]",
      "text/plain": [
       "<IPython.core.display.Image object>"
      ]
     },
     "metadata": {},
     "output_type": "display_data"
    }
   ],
   "source": [
    "plot(tt,s_de_t)"
   ]
  },
  {
   "cell_type": "markdown",
   "metadata": {},
   "source": [
    "**Exercice** \n",
    "Augmentez le nombre de points en faisant passer la **période d'échantillonnage $T_e$** (l'écaart régulier entre deux valeurs du temps dans la représentation : qui est ici de 0.2 s) à une valeur de $0.1$.\n",
    "\n",
    "Vous utiliserez la fonction `length` pour connaitre le nombre de points de `tt` et modifier votre boucle."
   ]
  },
  {
   "cell_type": "code",
   "execution_count": 20,
   "metadata": {},
   "outputs": [
    {
     "data": {
      "image/png": "[encoded data removed]",
      "text/plain": [
       "<IPython.core.display.Image object>"
      ]
     },
     "metadata": {},
     "output_type": "display_data"
    }
   ],
   "source": [
    "Te=0.1;\n",
    "%% MODIFER pour redéfinir le vecteur temps tt de 1 à 2 par pas de Te=0.1\n",
    "tt=1:Te:2;\n",
    "\n",
    "%% ADAPTER la boucle avec la fonction length\n",
    "for id = 1:length(tt)\n",
    "    t = tt(id); % ; pour ne pas afficher\n",
    "    s_de_t(id)=sin(2*pi*t);\n",
    "end\n",
    "\n",
    "plot(x=tt, y=s_de_t, fmt='-+') ; %% style avec des + reliés par une ligne"
   ]
  },
  {
   "cell_type": "markdown",
   "metadata": {
    "tags": []
   },
   "source": [
    "### Vectorisation\n",
    " Octave sait multiplier une matrice par un scalaire et sait appliquer la fonction `sin`à une matrice pour donner une matrice de même da taille contenant l'évaluation de $\\sin$ pour chaque élément...\n",
    " L'utilisation dans notre cas immédiate !\n",
    " \n",
    "Reprenons le vecteur temps de 6 points et testons nos calculs matriciels"
   ]
  },
  {
   "cell_type": "code",
   "execution_count": 21,
   "metadata": {},
   "outputs": [
    {
     "name": "stdout",
     "output_type": "stream",
     "text": [
      "ans =\n",
      "\n",
      "     6.2832     7.5398     8.7965    10.0531    11.3097    12.5664\n",
      "\n",
      "ans =\n",
      "\n",
      "  -2.4493e-16   9.5106e-01   5.8779e-01  -5.8779e-01  -9.5106e-01  -4.8986e-16\n",
      "\n"
     ]
    }
   ],
   "source": [
    "tt= 1:0.2:2;\n",
    "2*pi*tt\n",
    "sin(2*pi*tt)"
   ]
  },
  {
   "cell_type": "markdown",
   "metadata": {},
   "source": [
    "La ligne `sin(2*pi*tt)` effectue implicitement une boucle for dans tous les éléments de l'arguments `2*pi*tt` qui est un vecteur et prduit un vecteur de même taille de tous les résultats.\n",
    "\n",
    "Vous pouvez donc refaire l'exercice mais sans boucle for **en une seule ligne !**"
   ]
  },
  {
   "cell_type": "code",
   "execution_count": 23,
   "metadata": {
    "tags": []
   },
   "outputs": [
    {
     "data": {
      "image/png": "[encoded data removed]",
      "text/plain": [
       "<IPython.core.display.Image object>"
      ]
     },
     "metadata": {},
     "output_type": "display_data"
    }
   ],
   "source": [
    "tt=1:Te:2;\n",
    "\n",
    "% MODIFIEZ cette ligne pour calculer s_de_t\n",
    "s_de_t = sin(2*pi*tt);\n",
    "\n",
    "plot(tt, s_de_t , \"rs--\") %Read Squares reliés par des tirets"
   ]
  },
  {
   "cell_type": "markdown",
   "metadata": {
    "tags": []
   },
   "source": [
    "### Vectorisation des opérateurs de comparaison\n",
    "Les opérateurs de comparaison sont vectorisés et donnent des vecteur de booléens.\n",
    "\n",
    "Ces vecteurs de booléens sont promus au rang de nombres avec '1' pour vrai ai '0' sinon.\n",
    "Cela est très pratique pour construire des fonctions par morceaux sans faire de *if* dans un *for*. \n",
    " \n",
    "Faisons le vecteur de la fonction $u(\\bullet)-2$ à l'ancienne"
   ]
  },
  {
   "cell_type": "code",
   "execution_count": 24,
   "metadata": {},
   "outputs": [
    {
     "data": {
      "image/png": "[encoded data removed]",
      "text/plain": [
       "<IPython.core.display.Image object>"
      ]
     },
     "metadata": {},
     "output_type": "display_data"
    }
   ],
   "source": [
    "clear s_de_t\n",
    "\n",
    "tt=1.5:0.25:3 ;\n",
    "\n",
    "for id=1:length(tt)\n",
    "    t = tt(id);\n",
    "    if (t<2) \n",
    "        s_de_t(id) = 0;\n",
    "    else\n",
    "        s_de_t(id) = 1;\n",
    "    end\n",
    "end\n",
    "plot(tt,s_de_t,'o-')"
   ]
  },
  {
   "cell_type": "markdown",
   "metadata": {},
   "source": [
    "Mais si l'on utilise la vectorisation de la condition $t<2$, sur le tableau des valeurs de t nommé `tt`, on obtient un vecteur des comparaisons avec des 1 et des 0 !\n",
    "Ce qui est facile à manipluler...\n",
    "\n",
    "On a ainsi les fonctions échelons, portes, et *pseudo_dirac* (impulsion unité)"
   ]
  },
  {
   "cell_type": "code",
   "execution_count": 25,
   "metadata": {
    "tags": []
   },
   "outputs": [
    {
     "name": "stdout",
     "output_type": "stream",
     "text": [
      "tt =\n",
      "\n",
      "    1.5000    1.7500    2.0000    2.2500    2.5000    2.7500    3.0000\n",
      "\n",
      "ans =\n",
      "\n",
      "  1  1  0  0  0  0  0\n",
      "\n",
      "ans =\n",
      "\n",
      "  0  0  1  1  1  1  1\n",
      "\n",
      "ans =\n",
      "\n",
      "  0  0  1  1  1  1  1\n",
      "\n",
      "ans =\n",
      "\n",
      "  0  0  1  0  0  0  0\n",
      "\n",
      "ans =\n",
      "\n",
      "  0  0  1  0  0  0  0\n",
      "\n",
      "ans =\n",
      "\n",
      "  1  1  0  0  1  1  1\n",
      "\n"
     ]
    }
   ],
   "source": [
    "tt\n",
    "tt < 2\n",
    "tt >= 2\n",
    "not(tt<2)\n",
    "tt == 2\n",
    "(tt<=2) & (tt>=2)  % & est le ET par éléments alors que && est le logique à la ADA\n",
    "(tt<=1.75) | (tt>=2.5) % | le OU elementwise et || le OU logique (pour les if ou while style ADA)"
   ]
  },
  {
   "cell_type": "markdown",
   "metadata": {},
   "source": [
    "**Exercice**   \n",
    "Utilisez les opérateurs par éléments que sont le `+-` matriciels et le `+-*\\` entre vecteur ***et scalaire**\n",
    "pour fabriquer les tableau de valeurs `g_de_t` de la fonction :   \n",
    "$g: t \\mapsto u(t)+u(t-1)+u(t-2)-3.u(t-3))$ ou de manière plus lisible   \n",
    "$g = u(\\bullet)+u(\\bullet-1)+u(\\bullet-2)-3.u(\\bullet-3)$"
   ]
  },
  {
   "cell_type": "code",
   "execution_count": 26,
   "metadata": {},
   "outputs": [
    {
     "data": {
      "image/png": "[encoded data removed]",
      "text/plain": [
       "<IPython.core.display.Image object>"
      ]
     },
     "metadata": {},
     "output_type": "display_data"
    }
   ],
   "source": [
    "%% MODIFIEZ tt= \n",
    "% pour avoir un vecteur temps tt plus judicieux\n",
    "tt=-0.5:0.25:3.5;\n",
    "\n",
    "%% MODIFIEZ g_de_t=\n",
    "g_de_t = (tt>0)+(tt>1)+(tt>2)-3*(tt>3) ;\n",
    "\n",
    "%%AFFICHAGE\n",
    "plot(tt, g_de_t, 'ko-.'); % blacK cicrcle \"o\" avec trait discontinus \"-.\""
   ]
  },
  {
   "cell_type": "markdown",
   "metadata": {
    "jp-MarkdownHeadingCollapsed": true,
    "tags": []
   },
   "source": [
    "## Opérations éléments par éléments\n",
    "---\n",
    "\n",
    "Les opérateurs *in fixés* de base comme `*/^` sont des opérateurs matriciels (le `/` existe en matriciel et consiste à résoudre un système, il se note à l'envers `\\` ).\n",
    "\n",
    "Pour faire du calcul vectorisé **élément par élément** (*elementwise*), on met un `.` en préfixe de l'opérateur soit `.* ./ .^`.\n",
    "\n",
    "> Cela permet de multiplier des signaux (ou plutôt leur tableaux de valeurs) entre-eux."
   ]
  },
  {
   "cell_type": "markdown",
   "metadata": {
    "tags": []
   },
   "source": [
    "### Produits de signaux\n",
    "Si l'on veut multiplier le signal $g : t\\mapsto e^{-t}$ par le signal échelon $u$.   \n",
    "On est tenté de faire cela pour afficher $f=g.u$"
   ]
  },
  {
   "cell_type": "code",
   "execution_count": 27,
   "metadata": {},
   "outputs": [
    {
     "name": "stdout",
     "output_type": "stream",
     "text": [
      "error: operator *: nonconformant arguments (op1 is 1x9, op2 is 1x9)\n"
     ]
    }
   ],
   "source": [
    "tt=-1:0.5:3;   % tt pour \"Table de T\"\n",
    "\n",
    "g_de_t = exp(-tt); % Par vectorisation de la fonction matlab exp()\n",
    "u_de_t = tt>=0 ;    % \n",
    "f_de_t = g_de_t*u_de_t"
   ]
  },
  {
   "cell_type": "markdown",
   "metadata": {},
   "source": [
    "Et oui ! Matlab utilise le produit matriciel et un produit (1,n)x(1,n) ne respecte pas la relation de Chasles car $,n\\neq1,$\n",
    "\n",
    "> Il faut alors demander la version \"élément par élément\" du produit avec `.*` ce qui donne"
   ]
  },
  {
   "cell_type": "code",
   "execution_count": 28,
   "metadata": {},
   "outputs": [
    {
     "data": {
      "image/png": "[encoded data removed]",
      "text/plain": [
       "<IPython.core.display.Image object>"
      ]
     },
     "metadata": {},
     "output_type": "display_data"
    }
   ],
   "source": [
    "f_de_t = g_de_t .* u_de_t ;\n",
    "plot(tt, f_de_t,'o-')"
   ]
  },
  {
   "cell_type": "markdown",
   "metadata": {
    "tags": []
   },
   "source": [
    "### Produits indéfinis\n",
    "\n",
    "Attention à la taille des matrices sur des produits éléments par éléments il faut **la même taille** comme plour les plots d'ailleurs.\n",
    "\n",
    "C'est souvent le cas lorsquel'on redéfini le vecteur temps `tt` sans recalculer les vecteurs.\n",
    "\n",
    "Par exemple, si on affine le vecteur temps le code ci-dessous ne marche plus.\n",
    "\n",
    "A vous de le faire fonctionner."
   ]
  },
  {
   "cell_type": "code",
   "execution_count": 29,
   "metadata": {},
   "outputs": [
    {
     "data": {
      "image/png": "[encoded data removed]",
      "text/plain": [
       "<IPython.core.display.Image object>"
      ]
     },
     "metadata": {},
     "output_type": "display_data"
    }
   ],
   "source": [
    "tt=-0.5:0.1:3.1;\n",
    "%% MODIFIER POUR QUE CA MARCHE\n",
    "u_de_t = (tt>0) ;\n",
    "%% subplot permet de diviser une figure en plusieurs graphiques\n",
    "subplot(3,1,1) % 3 rangees de graphiques et 1 colonne : on se met dans le premier\n",
    "plot(tt,u_de_t,'ob-')\n",
    "subplot(3,1,2) % 3 rangees de graphique et 1 colonne : on se met dans le deuxième\n",
    "%plot(tt,exp(-tt),'o-')\n",
    "g_de_t=exp(-tt);\n",
    "plot(tt,g_de_t,'og-')\n",
    "subplot(313) % on se met dans le troisième graphique\n",
    "f_de_t = u_de_t .* g_de_t ;\n",
    "plot(tt,u_de_t,'b--'); hold on ; % superpose des graphiques\n",
    "plot(tt,g_de_t,'g--');\n",
    "plot(tt,f_de_t,'ko-'); \n"
   ]
  },
  {
   "cell_type": "markdown",
   "metadata": {
    "tags": []
   },
   "source": [
    "**BONUS matrices** : Prenons le cas de produits matriciels définis et non définis."
   ]
  },
  {
   "cell_type": "code",
   "execution_count": 30,
   "metadata": {},
   "outputs": [
    {
     "name": "stdout",
     "output_type": "stream",
     "text": [
      "A =\n",
      "\n",
      "   1   1   0\n",
      "   0   1   1\n",
      "   0   0   2\n",
      "\n",
      "B =\n",
      "\n",
      "   1   2   3\n",
      "\n",
      "B*A OK car (1,3)x(3,3)\n",
      "ans =\n",
      "\n",
      "   1   3   8\n",
      "\n",
      "A*B=erreur car (3,3)x(1,3)\n",
      "error: operator *: nonconformant arguments (op1 is 3x3, op2 is 1x3)\n",
      "A_carre =\n",
      "\n",
      "   1   2   1\n",
      "   0   1   3\n",
      "   0   0   4\n",
      "\n",
      "B/A existe ! \n",
      "x =\n",
      "\n",
      "   1   1   1\n",
      "\n",
      "Tel que x*A = B\n",
      "ans =\n",
      "\n",
      "   1   2   3\n",
      "\n"
     ]
    }
   ],
   "source": [
    "A = [1,1,0;\n",
    "     0,1,1;\n",
    "     0,0,2]\n",
    "B = (1:3)\n",
    "disp(\"B*A OK car (1,3)x(3,3)\")\n",
    "B*A\n",
    "disp(\"A*B=erreur car (3,3)x(1,3)\")\n",
    "A*B\n",
    "A_carre = A^2\n",
    "disp(\"B/A existe ! \")\n",
    "x = B/A\n",
    "disp (\"Tel que x*A = B\")\n",
    "x*A"
   ]
  },
  {
   "cell_type": "markdown",
   "metadata": {},
   "source": [
    "Pour `A/B`, matlab fait appel à un solveur numérique pour trouver le vecteur  \n",
    "$x \\quad | \\quad x.A = B \\iff \\frac{B}{A}.A= B$ par la  gauche (combi. de rangées)\n",
    "\n",
    "$x$ est donc **une combinsaion de rangées** de A qui donne le vecteur rangée B.\n",
    "\n",
    "\n",
    "Avec `A\\C`, c'est le produit à droite qui est inversé tel que :\n",
    "$y \\quad | \\quad A.y = C \\iff A.\\frac{C}{A}= C$ par la droite (combi. de colonnes)\n",
    "\n",
    "$y$ est donc **une combinsaion de colonnes** de A qui donne le vecteur colonne C."
   ]
  },
  {
   "cell_type": "markdown",
   "metadata": {
    "jp-MarkdownHeadingCollapsed": true,
    "tags": []
   },
   "source": [
    "---\n",
    "# Exercice final  (une solution)\n",
    "---\n",
    "\n",
    "Vous pouvez maintenant faire l'exercice final qui consiste à afficher sur le même graphique deux signaux :\n",
    " - $f_1 : t \\mapsto 2.\\cos\\left(\\frac{2\\pi}{10}.t\\right)$\n",
    " - $f_2 : t \\mapsto 2.\\cos\\left(\\frac{2\\pi}{10}.t\\right).\\sin\\left(\\frac{2\\pi}{10}.t\\right)$\n",
    "\n",
    "En affichant pour un temps allant de -5 à 5 avec une période d'échantillonnage de 0.5.\n",
    "\n",
    "Modifiez la cellule ci-dessous ou faites-le avec l'IDE d'octave (CTRL+ALT+T pour lancer un terminal puis `octave  --gui`)\n",
    "\n"
   ]
  },
  {
   "cell_type": "code",
   "execution_count": 31,
   "metadata": {},
   "outputs": [
    {
     "data": {
      "image/png": "[encoded data removed]",
      "text/plain": [
       "<IPython.core.display.Image object>"
      ]
     },
     "metadata": {},
     "output_type": "display_data"
    }
   ],
   "source": [
    "%% Une solution de l'intro octave 1 \n",
    "% Affiche les deux fonctions f1 et f_2 du sujet\n",
    "% https://moodle.insa-toulouse.fr/pluginfile.php/33895/mod_resource/content/5/TD_prise_en_main_Matlab_Octave_signal_2IMACS.pdf\n",
    "%%___________________________________________________________\n",
    "\n",
    "%% Fait le ménage\n",
    "clear all % les variables\n",
    "close all % ferme les fenêtres\n",
    "clc       % efface la console (fenêtre de commandes)\n",
    "\n",
    "%%________________________________________\n",
    "%% définition de paramètres et constantes\n",
    "% Utilisatrice : modifiez le code ci-dessous \n",
    "\n",
    "Te = 0.5; % période d'échantillonnage [s]\n",
    "tmin=-5; \n",
    "tmax=5;\n",
    "\n",
    "\n",
    "A = 2;  % amplitude du signal [V]\n",
    "F = 1/10; % fréquence du signal cos [Hz] de f1 (voir sujet)\n",
    "Fsin = F ; % fréquence du sin f2 (voir sujet)\n",
    "\n",
    "% Ne plus modifier le code au delà de cette ligne\n",
    "%%_______________________________________\n",
    "\n",
    "t=tmin:Te:tmax ; % vecteur temps \n",
    "f1_de_t =  A * cos(2*pi*F*t); % vectorisation sur t !\n",
    "sin_de_t = sin(2*pi*Fsin*t); % vectorisation sur t\n",
    "f2_de_t = f1_de_t .* sin_de_t; % produit de signaux\n",
    "%                  ^\n",
    "%                  |___ produit élément par élément ici \n",
    "\n",
    "\n",
    "%% Affichage\n",
    "plot(t, f1_de_t,'r');     % trait rouge\n",
    "hold on;               % ne pas effacer le graphique précédent pour supperposer\n",
    "plot(t, sin_de_t, 'b'); % que des points verts\n",
    "plot(t, f2_de_t, 'k'); % que des points verts\n",
    "grid on;\n",
    "xlabel(\"temps [s]\");\n",
    "ylabel(\"signaux [v]\");\n",
    "legend([\"f1 (cos)\"; \"le sin\";\"le produit f2\"])\n",
    "title(\"f2 = Cos fois sin\")\n"
   ]
  },
  {
   "cell_type": "markdown",
   "metadata": {},
   "source": [
    "Une solution avec des bouclette for obsolètes..."
   ]
  },
  {
   "cell_type": "code",
   "execution_count": 37,
   "metadata": {
    "tags": []
   },
   "outputs": [
    {
     "data": {
      "image/png": "[encoded data removed]",
      "text/plain": [
       "<IPython.core.display.Image object>"
      ]
     },
     "metadata": {},
     "output_type": "display_data"
    }
   ],
   "source": [
    "%% Une solution de l'intro octave 1 \n",
    "% Affiche les deux fonctions f1 et f_2 du sujet\n",
    "% https://moodle.insa-toulouse.fr/pluginfile.php/33895/mod_resource/content/5/TD_prise_en_main_Matlab_Octave_signal_2IMACS.pdf\n",
    "%%___________________________________________________________\n",
    "\n",
    "%% Fait le ménage\n",
    "clear all % les variables\n",
    "close all % ferme les fenêtres\n",
    "clc       % efface la console (fenêtre de commandes)\n",
    "\n",
    "%%________________________________________\n",
    "%% définition de paramètres et constantes\n",
    "% Utilisatrice : modifiez le code ci-dessous \n",
    "\n",
    "Te = 0.5; % période d'échantillonnage [s]\n",
    "tmin=-5; \n",
    "tmax=5;\n",
    "\n",
    "\n",
    "A = 2;  % amplitude du signal [V]\n",
    "F = 1/10; % fréquence du signal cos [Hz] de f1 (voir sujet)\n",
    "Fsin = F ; % fréquence du sin f2 (voir sujet)\n",
    "\n",
    "% Ne plus modifier le code au delà de cette ligne\n",
    "%%_______________________________________\n",
    "\n",
    "% N=nombre de points espacés de Te entre tmin et tmax\n",
    "N= round((tmax-tmin)/(Te))+1; % floor(x) = entier le plus proche de x\n",
    "\n",
    "%calcul du tableau  tt\n",
    "tt=zeros(1,N); % init à 0 \n",
    "t=tmin;\n",
    "for id=1:N\n",
    "    tt(id)=t;\n",
    "    t=t+Te;\n",
    "end\n",
    "\n",
    "% calcul des signaux \n",
    "for id=1:N\n",
    "    t=tt(id); % instant t lu dans le tableau tt\n",
    "    f1_de_t(id) =  A * cos(2*pi*F*t); % vectorisation sur t !\n",
    "    sin_de_t(id) = sin(2*pi*Fsin*t); % vectorisation sur t\n",
    "    f2_de_t(id) = f1_de_t(id) * sin_de_t(id); % produit de signaux\n",
    "%                             ^\n",
    "%                             |___ produit classique ici \n",
    "end\n",
    "\n",
    "%% Affichage\n",
    "plot(tt, f1_de_t,'r');     % trait rouge\n",
    "hold on;               % ne pas effacer le graphique précédent pour supperposer\n",
    "plot(tt, sin_de_t, 'b'); % que des points verts\n",
    "plot(tt, f2_de_t, 'k'); % que des points verts\n",
    "grid on;\n",
    "xlabel(\"temps [s]\");\n",
    "ylabel(\"signaux [v]\");\n",
    "legend([\"f1 (cos)\"; \"le sin\";\"le produit f2\"])\n",
    "title(\"f2 = Cos fois sin\")\n"
   ]
  },
  {
   "cell_type": "code",
   "execution_count": null,
   "metadata": {},
   "outputs": [],
   "source": []
  }
 ],
 "metadata": {
  "kernelspec": {
   "display_name": "Octave",
   "language": "octave",
   "name": "octave"
  },
  "language_info": {
   "file_extension": ".m",
   "help_links": [
    {
     "text": "GNU Octave",
     "url": "https://www.gnu.org/software/octave/support.html"
    },
    {
     "text": "Octave Kernel",
     "url": "https://github.com/Calysto/octave_kernel"
    },
    {
     "text": "MetaKernel Magics",
     "url": "https://metakernel.readthedocs.io/en/latest/source/README.html"
    }
   ],
   "mimetype": "text/x-octave",
   "name": "octave",
   "version": "4.2.2"
  },
  "latex_envs": {
   "LaTeX_envs_menu_present": true,
   "autoclose": false,
   "autocomplete": true,
   "bibliofile": "biblio.bib",
   "cite_by": "apalike",
   "current_citInitial": 1,
   "eqLabelWithNumbers": true,
   "eqNumInitial": 1,
   "hotkeys": {
    "equation": "Ctrl-E",
    "itemize": "Ctrl-I"
   },
   "labels_anchors": false,
   "latex_user_defs": false,
   "report_style_numbering": false,
   "user_envs_cfg": false
  }
 },
 "nbformat": 4,
 "nbformat_minor": 4
}
