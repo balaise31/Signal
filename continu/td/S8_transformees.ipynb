{
 "cells": [
  {
   "cell_type": "markdown",
   "metadata": {},
   "source": [
    "|[S7 - SdF suite](S7_sdf_suite.ipynb) | Revenir à la [page déroulement](README.ipynb) | [S9 - TF suite](S9_tf_suite.ipynb) |\n",
    "|-------------|---|---|\n",
    "|Notebook  | | |\n",
    "\n",
    "---\n",
    "# S8 - Transformée de Fourier\n",
    "---\n",
    "\n"
   ]
  },
  {
   "cell_type": "markdown",
   "metadata": {},
   "source": [
    "Tout comme les Transformées de Laplace (TdL) et les SdF, les transformées de Fourier (TF) effectuent une transformation par intégrale et l'on peut effectuer un lien entre les formules.\n",
    "\n",
    "Soit un signal $\\vec{f} : t \\mapsto \\vec{f}(t)$, à ne pas confondre avec la fréquence $f$. On note : \n",
    " - $F:p\\mapsto\\mathcal{L}[\\vec{f}](p)=\\int\\limits_{\\mathbb{R}}{e^{-pt}.\\vec{f}(t).dt}\\quad$ sa TdL, \n",
    " - $\\hat{F}:f\\mapsto \\mathcal{F}[\\vec{f}](f)=\\int\\limits_{\\mathbb{R}}{e^{-i2\\pi.f.t}.\\vec{f}(t).dt}\\quad$ sa TF et   \n",
    " - $C_{\\vec{f}}:n \\mapsto C_{\\vec{f}}(n)=\\frac{1}{T_0}\\int\\limits_{t=0}^{T_0}{e^{-2\\pi.n.F_0.t}.\\vec{f}(t).dt}\\quad$ la suite des coefficients de SdF. \n",
    "\n",
    "\n",
    "> On préfèrera toujours la formule $\\hat{F}(f) = <e^{i2\\pi.f.\\bullet}, \\vec{f}>$ associée à la transformée inverse $f(t) = \\mathcal{F}^{-1}[\\vec{f}](t) = \\int\\limits_{f\\in\\mathbb{R}}{\\hat{F}(f).e^{i2\\pi.f.t}.df}$   \n",
    "> aux autres formulations comme $\\hat{F}(\\omega) = <e^{i.\\omega.\\bullet}, \\vec{f}>$, dont la transformée inverse $f(t) = \\mathcal{F}^{-1}[\\vec{f}](t) = \\frac{1}{2\\pi}\\int\\limits_{\\omega\\in\\mathbb{R}}{\\hat{F}(\\omega).e^{i\\omega.t}.d\\omega}$   \n",
    "> **Méfiez-vous des facteurs de $2\\pi$ des différents formulaires !**\n",
    "\n",
    "**Comme il est plus synthétique d'écrire $\\omega$ que $2\\pi{}f$, on peut garder la fréquence $f$ comme variable tout en utilisant $\\omega$ dans l'expression avec :**   \n",
    "$\\hat{F}(f) = \\hat{F}\\left(\\frac{\\omega}{2\\pi}\\right) = $ <expression avec $\\omega$>"
   ]
  },
  {
   "cell_type": "markdown",
   "metadata": {},
   "source": [
    "## Exercice important (exo1 TF) : sinc\n",
    "---\n",
    "\n",
    "Dans l'[Exo 1.2 poly page 117](https://moodle.insa-toulouse.fr/mod/resource/view.php?id=24741#page=117), la fonction porte est incontournable dans beaucoup de domaine, elle vaut 1 si l'on est dans un segment et 0 sinon. On la défini et note ainsi :\n",
    "\n",
    "> $\\Pi_{[a,b]}(t)= \\begin{cases} 1 \\text{ si }t\\in[a, b] \\\\ 0 \\text{ sinon}\\end{cases} \\approx u(t-a)-u(t-b)$ \n",
    "\n",
    " 1. Calculez sa transformée de Laplace **et son domaine de définition**\n",
    " 2. Pour quelles conditions sur a et b l'axe imaginaire fait-il partie de ce domaine, i.e., existe-t-il une transformée de Fourier\n",
    " 3. Donnez la TF $\\hat{F}$ de $\\Pi_{[\\frac{-L}{2},\\frac{L}{2}]}(t)$ qui est la fonction porte centrée en 0 et de largeur L.\n",
    " 4. Faites apparaitre dans cette formule un $\\sin(\\frac{L}{2}2\\pi f)$ puis faire apparaître un **sinus cardinal** $sinc(x)=\\frac{sin(x)}{x}$ \n",
    " 5. Repérez la parité de la fonction porte et déduisez-en si $\\hat{F}$ est à valeurs réelles (associées à des $cos(\\omega  t)$) ou imaginaires (associées à des $sin(\\omega t)$)\n",
    " 6. Calculez la surface algébrique (le négatif compte négatif, pas la norme 1) de la fonction porte et associez-la  à la composante $cos(0.t)$ et donc à  $\\hat{F}(0)$ pour vérifier.\n",
    " 7. Faites tendre $L$ vers 0 pour vérifier que l'on a bien la transformée de la fonction nulle   \n",
    " 8. Trouver par équivalent le prolongement continu de $sinc(0)$ et faites un tracé de $H(f)$ avec une indication des moments où la valeur est nulle, indiquez sa valeur en 0. Est-il besoin d'un tracé de fonction classique, d'un module + argument (tracé de Bode) ?\n",
    " 9. Regardez l'exo 1 des TF et repérez une grande partie des erreurs de tracé. Ne pas s'occuper du sinus pur et de l'impulsion de Dirac qui y est liée : on verra plus tard.\n"
   ]
  },
  {
   "cell_type": "markdown",
   "metadata": {
    "tags": []
   },
   "source": [
    "## Exercice 2\n",
    "---\n",
    "Dans l'[Exo 2 poly page 118](https://moodle.insa-toulouse.fr/mod/resource/view.php?id=24741#page=118) quatres signaux 4 signaux :\n",
    "  - $s_1$ la réponse d'un premier ordre\n",
    "  - $s_2$ sa version *antipodale* (retournée dans le temps donc anti causale)\n",
    "  - $s_3$ un construction paire à partir de $s_1$ et $s_3$\n",
    "  - $s_4$ une version impaire\n",
    "\n",
    "Jetez un oeil si besoin aux expliquations du [TF1-C : lien entre Fourier et Laplace](TF1_Fourier.ipynb#C) et des [TF1-B : existence des transformées](TF1_Fourier.ipynb#B) et **tracez les signaux, puis indiquez quelles transformations existent sans les calculer** :\n",
    "\n",
    "   fonction                        | TLaplace (D_F=?)  | TFourier | SdF (période $T_0=$?)\n",
    "-----------------------------------|-------------------|----------|----------------------\n",
    "Fonc.constante $c:t\\mapsto 1$      |                   |          |                        \n",
    "Echelon unité $u$                  |                   |          |                        \n",
    "$s_1:=e_a:t\\mapsto{}e^{-at}.u(t)$  |                   |          |                       \n",
    "$s_2:=g_a:t\\mapsto{}e_a(-t)$       |                   |          |                        \n",
    "$s_3$                              |                   |          |                        \n",
    "$s_4$                              |                   |          |                                       "
   ]
  },
  {
   "cell_type": "markdown",
   "metadata": {},
   "source": [
    "### Calcul des transformées\n",
    "\n",
    "1. Calculez la TF du signal $s_1$ en utilisant la formule $\\hat{S_1}(f)= < e^{i2\\pi.f.\\bullet}, f>$. **Vérifiez le résultat avec ces tests** :\n",
    "  - $\\hat{S}(f)\\to 0$ pour $f\\to\\pm\\infty$ (sinon somme ne peut pas converger)\n",
    "  - homogénéité de l'expression : ici $a$ est homogène à $\\frac{1}{t}$ et ne peut être ajouté qu'à du $\\frac{1}{t}$\n",
    "  - la parité quelconque indique que $\\hat{F}$ doit être entièrement complexe.\n",
    "2. Vérifiez avec Laplace : \n",
    "  - le signal $s_1$ est une exponentielle causale stable (pour a>0), donc le système qui produit $s_1$ à partir de l'impulsion de Dirac est stable et possède un pôle stable (premier ordre de pole = -a). On retrouve ainsi la transformée de Laplace de $s_1$ sans utiliser la table.\n",
    "  - vérifiez que cette transformée converge pour $p\\succ -a$ (la branche en $+\\infty$ converge si le $e^{-\\alpha.t}$ introduit par $e^{-p.t}$ ne fait pas diverger $e^{-a.t}$), et pour quelle valeur de $a$ ce domaine comprend l'axe imaginaire de Fourier. L'axe imaginaire doit appartenir à ce domaine pour des valeurs de $a$ telle que la fonction $s_1$ soit de carré intégrable et que la TF existe\n",
    "  - comparez la formule de TL et de TF pour voir par quoi remplacer $p$ pour obtenir celle de Fourier et vérifier que vous avez la même expression  \n",
    "3. Remarquez que $s_2$ est le signal $s_1$ retourné dans le temps : $s_2=s_1(-\\bullet)$. On dit que $s_1$ et $s_2$ sont antipodales. Utilisez le théorème du changement d'échelle (vu au-dessus) soit avec Laplace, soit avec Fourier. **Attention au domaine de convergence !** Pour que Laplace converge, il faut regarder la branche en $-\\infty$ et veiller à ce que le $e^{-\\alpha.t}$ introduit par Laplace ne fasse pas diverger $e^{+a.t}$. On en déduit que $S_2$ est définie pour $p\\prec a$ ce qui donne une autre contrainte sur $a$ pour que la TF $\\hat{S_2}$ existe.\n",
    "4. Faites un tracé de $s_3$, $s_2$ et $s_1$ pour voir la relation évidente entre ces fonctions. On en déduit $\\hat{S_3}$ et $S_3$ par linéarité des transformations. Attention CV + CV $\\implies$  CV, donc $D_{S_1}\\cap D_{S_2} \\;\\subset\\; D_{S_3}$. Mais pour le reste on ne peut rien dire. Trouvez ainsi le domaine de convergence de $S_3$ et la condition sur $a$ de l'existence de $\\hat{S_3}$. **Vérifiez l'effet de la parité sur la TF qui doit être purement réelle si paire (comme les cosinus) ou purement imaginaire si impaire (comme les sinus)**.\n",
    "5. Le signal $s_4$ est similaire et sans intérêt à part pour son imparité qui doit donner une transformée purement imaginaire.\n",
    "\n"
   ]
  },
  {
   "cell_type": "markdown",
   "metadata": {},
   "source": [
    "## Exo 2 + transformée de la fonction constante\n",
    "Dans l'[Exo 2 poly page 118](https://moodle.insa-toulouse.fr/mod/resource/view.php?id=24741#page=118)\n",
    "\n",
    "> Si l'on fait tendre $a$ vers 0, on voit que le signal $s_1$ tend vers\n",
    "> l'échelon unité et que la fonction $s_3$ tend vers la fonction \n",
    "> constante et égale à 1.\n",
    "\n",
    "Dans le cas de la fonction constante on a :\n",
    "\n",
    "$S_3(f=\\frac{\\omega}{2\\pi}) = \\frac{2a}{a^2 + \\omega^2} \\rightarrow 0 \\quad$ quand $a$ tend vers 0 pour $\\omega=2\\pi.f\\neq0$ \n",
    "\n",
    "et $S_3(0)=\\frac{2}{a}\\to+\\infty\\quad$ quand $a$ tends vers 0 \n",
    "\n",
    "On a donc une impulsion infinie en 0 et nulle ailleurs : **Cela ressemble à un Dirac centré en 0**. Pour trouver le poids il faudrait calculer $||s_3||_1 = \\int_{\\mathbb{R}}{|S_3(f)|.df} \\neq \\int_{\\mathbb{R}}{|S_3(\\frac{\\omega}{2\\pi})|.d\\omega}$ (On trouve $1$ en identifiant la forme $\\frac{1}{1+x^2}$ de la dérivée de $\\mathrm{atan}(x)$)\n",
    "\n",
    "> **La transformée de Fourier du signal constant serait donc un Dirac !**\n",
    "\n"
   ]
  }
 ],
 "metadata": {
  "kernelspec": {
   "display_name": "Python 3 (ipykernel)",
   "language": "python",
   "name": "python3"
  },
  "language_info": {
   "codemirror_mode": {
    "name": "ipython",
    "version": 3
   },
   "file_extension": ".py",
   "mimetype": "text/x-python",
   "name": "python",
   "nbconvert_exporter": "python",
   "pygments_lexer": "ipython3",
   "version": "3.8.5"
  },
  "latex_envs": {
   "LaTeX_envs_menu_present": true,
   "autoclose": false,
   "autocomplete": true,
   "bibliofile": "biblio.bib",
   "cite_by": "apalike",
   "current_citInitial": 1,
   "eqLabelWithNumbers": true,
   "eqNumInitial": 1,
   "hotkeys": {
    "equation": "Ctrl-E",
    "itemize": "Ctrl-I"
   },
   "labels_anchors": false,
   "latex_user_defs": false,
   "report_style_numbering": false,
   "user_envs_cfg": false
  }
 },
 "nbformat": 4,
 "nbformat_minor": 4
}
