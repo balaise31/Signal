{
 "cells": [
  {
   "cell_type": "markdown",
   "metadata": {},
   "source": [
    "|[S7 - SdF suite](S7_sdf_suite.ipynb) | Revenir à la [page déroulement](README.ipynb) | [S9 - TF suite](S9_tf_suite.ipynb) |\n",
    "|-------------|---|---|\n",
    "|Notebook  | | |\n",
    "\n",
    "---\n",
    "# S8 - Transformée de Fourier\n",
    "---\n",
    "\n"
   ]
  },
  {
   "cell_type": "markdown",
   "metadata": {},
   "source": [
    "Tout comme les Transformées de Laplace (TdL) et les SdF, les transformées de Fourier (TF) effectuent une transformation par intégrale et l'on peut effectuer un lien entre les formules.\n",
    "\n",
    "Soit un signal $\\vec{f} : t \\mapsto \\vec{f}(t)$, à ne pas confondre avec la fréquence $f$. On note : \n",
    " - $F:p\\mapsto\\mathcal{L}[\\vec{f}](p)=\\int\\limits_{\\mathbb{R}}{e^{-pt}.\\vec{f}(t).dt}\\quad$ sa TdL, \n",
    " - $\\hat{F}:f\\mapsto \\mathcal{F}[\\vec{f}](f)=\\int\\limits_{\\mathbb{R}}{e^{-i2\\pi.f.t}.\\vec{f}(t).dt}\\quad$ sa TF et   \n",
    " - $C_{\\vec{f}}:n \\mapsto C_{\\vec{f}}(n)=\\frac{1}{T_0}\\int\\limits_{t=0}^{T_0}{e^{-2\\pi.n.F_0.t}.\\vec{f}(t).dt}\\quad$ la suite des coefficients de SdF. \n",
    "\n",
    "\n",
    "> On préfèrera toujours la formule $\\hat{F}(f) = <e^{i2\\pi.f.\\bullet}, \\vec{f}>$ associée à la transformée inverse $f(t) = \\mathcal{F}^{-1}[\\vec{f}](t) = \\int\\limits_{f\\in\\mathbb{R}}{\\hat{F}(f).e^{i2\\pi.f.t}.df}$   \n",
    "> aux autres formulations comme $\\hat{F}(\\omega) = <e^{i.\\omega.\\bullet}, \\vec{f}>$, dont la transformée inverse $f(t) = \\mathcal{F}^{-1}[\\vec{f}](t) = \\frac{1}{2\\pi}\\int\\limits_{\\omega\\in\\mathbb{R}}{\\hat{F}(\\omega).e^{i\\omega.t}.d\\omega}$   \n",
    "> **Méfiez-vous des facteurs de $2\\pi$ des différents formulaires !**\n",
    "\n",
    "**Comme il est plus synthétique d'écrire $\\omega$ que $2\\pi{}f$, on peut garder la fréquence $f$ comme variable tout en utilisant $\\omega$ dans l'expression avec :**   \n",
    "$\\hat{F}(f) = \\hat{F}\\left(\\frac{\\omega}{2\\pi}\\right) = $ <expression avec $\\omega$>"
   ]
  },
  {
   "cell_type": "markdown",
   "metadata": {},
   "source": [
    "## Exercice important (exo1 TF) : sinc\n",
    "---\n",
    "\n",
    "Dans l'[Exo 1.2 poly page 117](https://moodle.insa-toulouse.fr/mod/resource/view.php?id=24741#page=117), la fonction porte est incontournable dans beaucoup de domaine, elle vaut 1 si l'on est dans un segment et 0 sinon. On la défini et note ainsi :\n",
    "\n",
    "> $\\Pi_{[a,b]}(t)= \\begin{cases} 1 \\text{ si }t\\in[a, b] \\\\ 0 \\text{ sinon}\\end{cases} \\approx u(t-a)-u(t-b)$ \n",
    "\n",
    " 1. Calculez sa transformée de Laplace **et son domaine de définition**\n",
    " 2. Pour quelles conditions sur a et b l'axe imaginaire fait-il partie de ce domaine, i.e., existe-t-il une transformée de Fourier\n",
    " 3. Donnez la TF $\\hat{F}$ de $\\Pi_{[\\frac{-L}{2},\\frac{L}{2}]}(t)$ qui est la fonction porte centrée en 0 et de largeur L.\n",
    " 4. Faites apparaitre dans cette formule un $\\sin(\\frac{L}{2}2\\pi f)$ puis faire apparaître un **sinus cardinal** $sinc(x)=\\frac{sin(x)}{x}$ \n",
    " 5. Repérez la parité de la fonction porte et déduisez-en si $\\hat{F}$ est à valeurs réelles (associées à des $cos(\\omega  t)$) ou imaginaires (associées à des $sin(\\omega t)$)\n",
    " 6. Calculez la surface algébrique (le négatif compte négatif, pas la norme 1) de la fonction porte et associez-la  à la composante $cos(0.t)$ et donc à  $\\hat{F}(0)$ pour vérifier.\n",
    " 7. Faites tendre $L$ vers 0 pour vérifier que l'on a bien la transformée de la fonction nulle   \n",
    " 8. Trouver par équivalent le prolongement continu de $sinc(0)$ et faites un tracé de $H(f)$ avec une indication des moments où la valeur est nulle, indiquez sa valeur en 0. Est-il besoin d'un tracé de fonction classique, d'un module + argument (tracé de Bode) ?\n",
    " 9. Regardez l'exo 1 des TF et repérez une grande partie des erreurs de tracé. Ne pas s'occuper du sinus pur et de l'impulsion de Dirac qui y est liée : on verra plus tard.\n"
   ]
  },
  {
   "cell_type": "markdown",
   "metadata": {
    "tags": []
   },
   "source": [
    "## Exercice 2\n",
    "---\n",
    "Dans l'[Exo 2 poly page 118](https://moodle.insa-toulouse.fr/mod/resource/view.php?id=24741#page=118) quatres signaux 4 signaux :\n",
    "  - $s_1$ la réponse d'un premier ordre\n",
    "  - $s_2$ sa version *antipodale* (retournée dans le temps donc anti causale)\n",
    "  - $s_3$ un construction paire à partir de $s_1$ et $s_3$\n",
    "  - $s_4$ une version impaire\n",
    "\n",
    "Jetez un oeil si besoin aux expliquations du [lien entre Fourier et Laplace](#Lien-avec-Laplace) et des [conditions d'existence des transformées](#Existence-des-transform%C3%A9es) et **tracez les signaux, puis indiquez quelles transformations existent sans les calculer** :\n",
    "\n",
    "   fonction                        | TLaplace (D_F=?)  | TFourier | SdF (période $T_0=$?)\n",
    "-----------------------------------|-------------------|----------|----------------------\n",
    "Fonc.constante $c:t\\mapsto 1$      |                   |          |                        \n",
    "Echelon unité $u$                  |                   |          |                        \n",
    "$s_1:=e_a:t\\mapsto{}e^{-at}.u(t)$  |                   |          |                       \n",
    "$s_2:=g_a:t\\mapsto{}e_a(-t)$       |                   |          |                        \n",
    "$s_3$                              |                   |          |                        \n",
    "$s_4$                              |                   |          |                                       "
   ]
  },
  {
   "cell_type": "markdown",
   "metadata": {},
   "source": [
    "### Calcul des transformées\n",
    "\n",
    "1. Calculez la TF du signal $s_1$ en utilisant la formule $\\hat{S_1}(f)= < e^{i2\\pi.f.\\bullet}, f>$. **Vérifiez le résultat avec ces tests** :\n",
    "  - $\\hat{S}(f)\\to 0$ pour $f\\to\\pm\\infty$ (sinon somme ne peut pas converger)\n",
    "  - homogénéité de l'expression : ici $a$ est homogène à $\\frac{1}{t}$ et ne peut être ajouté qu'à du $\\frac{1}{t}$\n",
    "  - la parité quelconque indique que $\\hat{F}$ doit être entièrement complexe.\n",
    "2. Vérifiez avec Laplace : \n",
    "  - le signal $s_1$ est une exponentielle causale stable (pour a>0), donc le système qui produit $s_1$ à partir de l'impulsion de Dirac est stable et possède un pôle stable (premier ordre de pole = -a). On retrouve ainsi la transformée de Laplace de $s_1$ sans utiliser la table.\n",
    "  - vérifiez que cette transformée converge pour $p\\succ -a$ (la branche en $+\\infty$ converge si le $e^{-\\alpha.t}$ introduit par $e^{-p.t}$ ne fait pas diverger $e^{-a.t}$), et pour quelle valeur de $a$ ce domaine comprend l'axe imaginaire de Fourier. L'axe imaginaire doit appartenir à ce domaine pour des valeurs de $a$ telle que la fonction $s_1$ soit de carré intégrable et que la TF existe\n",
    "  - comparez la formule de TL et de TF pour voir par quoi remplacer $p$ pour obtenir celle de Fourier et vérifier que vous avez la même expression  \n",
    "3. Remarquez que $s_2$ est le signal $s_1$ retourné dans le temps : $s_2=s_1(-\\bullet)$. On dit que $s_1$ et $s_2$ sont antipodales. Utilisez le théorème du changement d'échelle (vu au-dessus) soit avec Laplace, soit avec Fourier. **Attention au domaine de convergence !** Pour que Laplace converge, il faut regarder la branche en $-\\infty$ et veiller à ce que le $e^{-\\alpha.t}$ introduit par Laplace ne fasse pas diverger $e^{+a.t}$. On en déduit que $S_2$ est définie pour $p\\prec a$ ce qui donne une autre contrainte sur $a$ pour que la TF $\\hat{S_2}$ existe.\n",
    "4. Faites un tracé de $s_3$, $s_2$ et $s_1$ pour voir la relation évidente entre ces fonctions. On en déduit $\\hat{S_3}$ et $S_3$ par linéarité des transformations. Attention CV + CV $\\implies$  CV, donc $D_{S_1}\\cap D_{S_2} \\;\\subset\\; D_{S_3}$. Mais pour le reste on ne peut rien dire. Trouvez ainsi le domaine de convergence de $S_3$ et la condition sur $a$ de l'existence de $\\hat{S_3}$. **Vérifiez l'effet de la parité sur la TF qui doit être purement réelle si paire (comme les cosinus) ou purement imaginaire si impaire (comme les sinus)**.\n",
    "5. Le signal $s_4$ est similaire et sans intérêt à part pour son imparité qui doit donner une transformée purement imaginaire.\n",
    "\n"
   ]
  },
  {
   "cell_type": "markdown",
   "metadata": {},
   "source": [
    "---\n",
    "## Existence des transformées\n",
    "---\n",
    "\n",
    "> La CNS d'existence d'une transformée de Laplace $F$ d'une fonction $\\vec{f}$ causale est que la fonction soit d'**ordre exponentiel** :\n",
    "\n",
    "$\\exists(\\lambda,\\alpha)\\in\\mathbb{R}^2\\;|\\;\\forall t,\\;|f(t)|<\\lambda.e^{\\alpha.t}$\n",
    "\n",
    "Si une fonction est d'ordre exponentiel $\\alpha$ alors l'intégrale de Laplace converge sur ces deux branches infinies pour $p\\succ \\alpha$ car :\n",
    "\n",
    "$|f(t).e^{-pt}|<\\lambda.e^{\\alpha.t}.e^{-\\mathcal{R}(p).t}.\\underbrace{|e^{-i\\mathcal{I}(p).t}|}_{=1}=\\lambda.e^{-(\\mathcal{R}(p)-\\alpha).t}$ CV SSI $\\mathcal{R}(p)-\\alpha>1$ (Rieman). \n",
    "\n",
    "Et finalement $p\\succ \\alpha \\iff \\text{CVA} \\implies \\text{CV}$. La réciproque est moins immédiate, mais vraie.\n",
    "\n",
    "> Une CS d'existence de la transformée de Fourier est celle de la CVA :   \n",
    "> $\\vec{f}\\in L_1 \\iff ||\\vec{f}||_1 \\text{ finie } \\iff \\int |\\vec{f}(t)|.dt $ CV \n",
    "\n",
    "\n",
    "En conclusion, une transformée de Fourier existe si la fonction semble intégrable à $\\pm \\infty$, celle de Laplace existe s'il existe une exponentielle capable d'écraser d'un côté la fonction $f$ suffisamment (attention, elle amplifie de l'autre côté) pour que son intégrale converge. \n"
   ]
  },
  {
   "cell_type": "markdown",
   "metadata": {},
   "source": [
    "## Unicité et causalité\n",
    "---\n",
    "\n",
    "> On remarque que **deux fonctions peuvent avoir la même expression algébrique de Laplace**. \n",
    "\n",
    ">Par exemple\n",
    "> $e_a=e^{-a\\bullet}.u(\\bullet)$ et $f=-e^{-a\\bullet}.u(-\\bullet)$ ont pour expression algébrique $\\frac{1}{p+a}$\n",
    "\n",
    "> **Mais les transformées de Laplace sont bien uniques**, car une fonction est un graphe qui, s'il est donné sous forme algébrique, doit être accompagnée d'un domaine de définition et là :\n",
    "\n",
    "> $s_1 := e_a=e^{-a\\bullet}.u(\\bullet) \\quad \\quad\\overset{\\mathcal{L}}{\\longrightarrow} \\quad p\\mapsto\\frac{1}{p+a} \\quad$ avec $p\\in D_{e_a}=\\{p \\succ -a\\}\\quad$\n",
    "\n",
    "> $f=-e^{-a\\bullet}.u(-\\bullet) \\quad \\overset{\\mathcal{L}}{\\longrightarrow} \\quad p\\mapsto\\frac{1}{p+a} \\quad$ avec $p\\in D_{f}=\\{p \\prec -a\\}\\quad$\n",
    "\n",
    "> L'une est causale avec un domaine de définition en demi-plan droit et l'autre anti-causale avec un domaine en demi-plan gauche\n"
   ]
  },
  {
   "cell_type": "markdown",
   "metadata": {},
   "source": [
    "## Exo 2 + transformée de la fonction constante\n",
    "Dans l'[Exo 2 poly page 118](https://moodle.insa-toulouse.fr/mod/resource/view.php?id=24741#page=118)\n",
    "\n",
    "> Si l'on fait tendre $a$ vers 0, on voit que le signal $s_1$ tend vers\n",
    "> l'échelon unité et que la fonction $s_3$ tend vers la fonction \n",
    "> constante et égale à 1.\n",
    "\n",
    "Dans le cas de la fonction constante on a :\n",
    "\n",
    "$S_3(f=\\frac{\\omega}{2\\pi}) = \\frac{2a}{a^2 + \\omega^2} \\rightarrow 0 \\quad$ quand $a$ tend vers 0 pour $\\omega=2\\pi.f\\neq0$ \n",
    "\n",
    "et $S_3(0)=\\frac{2}{a}\\to+\\infty\\quad$ quand $a$ tends vers 0 \n",
    "\n",
    "On a donc une impulsion infinie en 0 et nulle ailleurs : **Cela ressemble à un Dirac centré en 0**. Pour trouver le poids il faudrait calculer $||s_3||_1 = \\int_{\\mathbb{R}}{|S_3(f)|.df} \\neq \\int_{\\mathbb{R}}{|S_3(\\frac{\\omega}{2\\pi})|.d\\omega}$ (On trouve $1$ en identifiant la forme $\\frac{1}{1+x^2}$ de la dérivée de $\\mathrm{atan}(x)$)\n",
    "\n",
    "> **La transformée de Fourier du signal constant serait donc un Dirac !**\n",
    "\n"
   ]
  },
  {
   "cell_type": "markdown",
   "metadata": {
    "tags": []
   },
   "source": [
    "---\n",
    "## Lien avec Laplace\n",
    "---\n",
    "\n",
    "On peut faire le lien (remplacez les transformées par leurs formules et cela devient évident) entre la TF et la TP avec :\n",
    "> $\\hat{F}\\left(f=\\frac{\\omega}{2\\pi}\\right) =\\quad \\int\\limits_{-\\infty}^{+\\infty}{\\vec{f}(t).\\overline{e^{i.\\omega.t}}.dt} = \\int\\limits_{-\\infty}^{+\\infty}{\\vec{f}(t).e^{- \\overbrace{i.\\omega}^{p}.t}.dt} = \\quad F\\left(p=j \\omega\\right)$\n",
    "\n",
    "ou encore\n",
    "\n",
    "> $F(p=\\alpha+i\\omega)=\\quad \\int\\limits_{-\\infty}^{+\\infty}{\\vec{f}(t).e^{- \\overbrace{\\alpha +i\\omega}^{p}.t}.dt} =  \\int\\limits_{-\\infty}^{+\\infty}{\\underbrace{\\vec{f}(t).e^{-\\alpha{}t}}_{\\vec{f}\\text{ écrasée}} \\;.\\;e^{- i\\omega{}t}.dt} \\quad  =\\mathcal{F}[\\underbrace{e^{-\\alpha\\bullet}.\\vec{f}(\\bullet)}_{\\vec{f}\\text{ écrasée}}]\\left(f=\\frac{\\omega}{2\\pi}\\right)$\n",
    "\n",
    "Mais attention ! Une transformée de Laplace n'est pas définie pour tout $p\\in\\mathbb{C}$, mais elle possède un domaine de définition.   \n",
    "**Il se peut que l'on ait une transformée de Laplace définie, mais pas de transformée de Fourier !** \n",
    "\n",
    "> La transformée de Laplace peut faire converger l'intégrale de Fourier en écrasant la fonction $\\vec{f}$ avec $e^{-\\alpha.t}$.   \n",
    "> La condition de convergence se traduit en borne sur $\\alpha$ qui donne un *domaine de convergence* dans le plan complexe de $p$ sous forme de demiplan $p\\succ\\dots \\iff \\alpha=\\mathcal{R}(p)>\\dots$.   \n",
    "> Quand la TL existe, il faut que l'axe imaginaire $\\left\\{p=i\\omega \\;|\\; \\omega \\in \\mathbb{R}\\right\\}=i\\mathbb{R}$ utilisé par la TF fasse partie du demiplan de convergence de Laplace $p\\succ \\dots$.\n",
    "\n"
   ]
  },
  {
   "cell_type": "markdown",
   "metadata": {},
   "source": [
    "### Exemple de l'échelon unité\n",
    "Dans l'échelon unité :\n",
    "$U(p) = \\int\\limits_{\\mathbb{R}}{e^{-pt}.u(t).dt} = \\int\\limits_{t=0}^{+\\infty}{1.e^{-pt}.dt}=\\left[\\frac{e^{-pt}}{-p}\\right]_0^{+\\infty}$\n",
    "\n",
    "$U(p) = \\underset{t\\to+\\infty}{\\lim} e^{-pt} - \\frac{1}{-p}$\n",
    "\n",
    "Il faut voir si la branche infinie converge, comme $e^{-pt} = e^{-\\alpha t}.\\underbrace{e^{i\\omega t}}_{|.|=1}, \\quad$ en notant $p=\\alpha+i\\omega$ ce qui donne :\n",
    "  - $\\alpha < 0$ (noté $p\\prec0$) $\\implies |e^{-p.t}|=|e^{-\\alpha.t}|\\to +\\infty \\quad\\implies$ $F(p)$ non définie \n",
    "  - $\\alpha > 0$ (noté $p\\succ0$) $\\implies |e^{-p.t}|=|e^{-\\alpha.t}|\\to 0 \\quad\\implies$ $F(p)=\\frac{1}{p}$ définie (car $p\\neq0$)\n",
    "  - $\\alpha = 0$ (donc $p=i\\omega$) $\\implies e^{-p.t}=e^{i\\omega t}$ n'as pas de limite (parcours du cercle unité à l'infini ne converge pas et ne diverge pas à l'infini : donc diverge) \n",
    "\n",
    "Donc **le domaine de convergence de U est $D_U=\\left\\{p=\\alpha +i\\omega\\in\\mathbb{C}\\;|\\;\\alpha>0\\right\\}$. On note plus simplement $D_U=\\{p\\succ 0\\}$**\n",
    "\n",
    "\n",
    "Comme l'échelon $u$ admet pour transformée $p\\mapsto U(p)=\\frac{1}{p}$, on pourrait penser que $\\hat{U}(f)= \\frac{1}{j 2\\pi f}$, mais le domaine de $U$ est $\\{p\\succ 0\\}$ on a divergence pour $p=i\\omega=i2\\pi.f$ : l'intégrale ne converge pas et il n'y a donc pas de transformée de Fourier !\n",
    "\n",
    " Donc finalement,\n",
    " \n",
    ">  il faut que l'axe imaginaire pur (utilisé par $\\hat{F}$ la TF) fasse partie du domaine   \n",
    "> de définition de la transformée de Laplace$F$    \n",
    "> F existe et $i\\mathbb{R} \\subset D_F \\quad \\iff \\quad \\hat{F}$ existe \n"
   ]
  },
  {
   "cell_type": "markdown",
   "metadata": {
    "tags": []
   },
   "source": [
    "---\n",
    "## Lien avec Sdf\n",
    "---\n",
    "Le lien avec les SdF : on remarque une similitude des formules\n",
    "\n",
    "$\\hat{F}(f)=\\int_{\\mathbb{R}}{e^{-i2\\pi.f.t}.\\vec{f}(t).dt}\\quad\\longleftrightarrow\\quad C_{\\vec{f}}(n)=\\frac{1}{T_0}\\int_{t=0}^{T_0}{e^{-2\\pi.n.f_0.t}.\\vec{f}(t).dt}$ \n",
    "\n",
    "On remplace ainsi $f \\quad\\leftrightarrow\\quad n.F_0=\\frac{n}{T_0}$ ou bien $\\omega=2\\pi.f \\quad\\leftrightarrow\\quad n.\\omega_0 = 2\\pi.\\frac{n}{T_0}$\n",
    "\n",
    "\n",
    "Mais attention ! **Ne pas oublier de multiplier la fonction $f$ périodique par $\\Pi_{[0, T_0]}$ pour annuler la fonction et limiter l'intégrale de la transformée de Fourier qui est pour tout $t$ à une intégrale de 0 à $T_0$ qui converge**. \n",
    "\n",
    "> Donc en notant $g$ la fonction impulsion nulle en dehors d'une période et $g_{T_0}$ la fonction $g$ rendue périodique de période $T_0$, on obtient le lien :\n",
    "\n",
    "> $C_{g_{T_0}}(n) = \\frac{1}{T_0}.\\hat{G}(f=n.F_0=\\frac{n.\\omega_0}{2\\pi}) = \\frac{1}{T_0}.G(p=i.2\\pi.n.F_0)$    \n",
    "> **où $g$ est la fonction impulsion nulle en dehors de $[0, T_0]$**\n",
    "\n",
    "**Simplifiez bien,** car dans $c(n)$ toute expression de période doit disparaître (invariance des coefs sur étirement temporel).   \n",
    "Donc éradiquez les $T_0$, $F_0$, $\\omega_0$ :\n",
    "- ne pas oublier le $\\frac{1}{T_0}$ qui **doit disparaître** avec les $T_0.F_0=1$ et $T_0\\omega_0=2\\pi$ venant de la TF\n",
    "- parfois un terme $\\frac{L}{T_0}$ persiste où $L$ est un paramètre temporel comme par exemple la largeur d'une fonction porte. $\\frac{L}{T_0}=\\alpha$ est alors sans dimension et représente une sorte de rapport cyclique que l'on pourrait exprimer en %. Ainsi on garde un rapport cyclique $ \\alpha$ constant pour étirer le signal périodique dans le temps sans le déformer et $T_0$ a bien disparu des $c(n)$...\n",
    "\n",
    "\n"
   ]
  },
  {
   "cell_type": "code",
   "execution_count": null,
   "metadata": {},
   "outputs": [],
   "source": []
  }
 ],
 "metadata": {
  "kernelspec": {
   "display_name": "Python 3 (ipykernel)",
   "language": "python",
   "name": "python3"
  },
  "language_info": {
   "codemirror_mode": {
    "name": "ipython",
    "version": 3
   },
   "file_extension": ".py",
   "mimetype": "text/x-python",
   "name": "python",
   "nbconvert_exporter": "python",
   "pygments_lexer": "ipython3",
   "version": "3.8.5"
  },
  "latex_envs": {
   "LaTeX_envs_menu_present": true,
   "autoclose": false,
   "autocomplete": true,
   "bibliofile": "biblio.bib",
   "cite_by": "apalike",
   "current_citInitial": 1,
   "eqLabelWithNumbers": true,
   "eqNumInitial": 1,
   "hotkeys": {
    "equation": "Ctrl-E",
    "itemize": "Ctrl-I"
   },
   "labels_anchors": false,
   "latex_user_defs": false,
   "report_style_numbering": false,
   "user_envs_cfg": false
  }
 },
 "nbformat": 4,
 "nbformat_minor": 4
}
