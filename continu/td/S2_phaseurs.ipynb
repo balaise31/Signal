{
 "cells": [
  {
   "cell_type": "markdown",
   "metadata": {},
   "source": [
    "|[S1 - Signaux de base](S1_signaux_base.ipynb) | Revenir à la [page déroulement](README.ipynb) | [S3 - Laplace](S3_laplace.ipynb)|\n",
    "|-------------|---|---|\n",
    "\n",
    "---\n",
    "# S2 - Phaseurs\n",
    "---"
   ]
  },
  {
   "cell_type": "markdown",
   "metadata": {},
   "source": [
    "## À faire\n",
    "---\n",
    "\n",
    "\n",
    "* Terminer l'exo 2.1 (signaux a, b et c) avec l'approche indiquée :\n",
    "    - schéma bloc de somme de \" retards + intégrales + gain \" transformant une impulsion unité (Dirac en 0)\n",
    "    - traduction en somme de \"fonctions de base\" (échelon unité, voire rampes unités)\n",
    "    - VÉRIFIER ! Prendre une valeur de t un peu avant 3 et calculer pour voir si ça colle.\n",
    "\n",
    "* Ne pas faire le 2.2 tout de suite, mais avant de passer au 4, d'abord faire le lien entre les 3 représentations d'une onde pure : cos déphasé, représentation IQ (cos + sin) et représentation par phaseur (exponentielles complexes)\n",
    "\n",
    "* Pour cela regarder la [fiche de récapitulation](./phaseur_onde_IQ.pdf)\n",
    "\n",
    "* Faire le lien entre les trois représentations et retrouver les formules passages entre IQ, amplitude déphasage, et phaseur.\n",
    "\n",
    "* Faites l'exercice 4\n",
    "    -  Ex. 4a,b en utilisant au maximum le phaseur (qui est la fonction de transfert prise pour une valeur de la pulsation $\\omega$). On comprend alors que pour la pulsation $\\omega=2\\pi$ le système ne fait que multiplier le phaseur du signal d'entré par le phaseur du système ($g(\\omega=2\\pi)=\\frac{1}{2}e^{i\\frac{pi}{3}}$)\n",
    "    - Ex 4c. D'abord calculer le phaseur $z_e$ du signal d'entrée qui est donné sous la forme IQ. Et appliquer la linéarité du système $\\Sigma[t\\mapsto z_e.e^{i\\omega t}]=z_e\\,\\Sigma[t \\mapsto e^{i\\omega t}]$ où $\\Sigma$ est un opérateur (application linéaire qui transforme une fonction en fonction) transformant un signal d'entré $x$ en signal de sortie $y$ soit $\\Sigma[x]=y$. Attention x et y sont bien des fonctions ! \n",
    "\n",
    "\n",
    "## En séance \n",
    "---\n",
    "\n",
    "\n",
    "Présentation complète du passage entre les visions de l'onde complexe :\n",
    "* cosinus amplitude déphasage\n",
    "* IQ\n",
    "* phaseur d'onde complexe\n",
    "\n",
    "Revue de l'exercice 4 complète"
   ]
  },
  {
   "cell_type": "code",
   "execution_count": null,
   "metadata": {},
   "outputs": [],
   "source": []
  }
 ],
 "metadata": {
  "kernelspec": {
   "display_name": "Octave",
   "language": "octave",
   "name": "octave"
  },
  "language_info": {
   "file_extension": ".m",
   "help_links": [
    {
     "text": "GNU Octave",
     "url": "https://www.gnu.org/software/octave/support.html"
    },
    {
     "text": "Octave Kernel",
     "url": "https://github.com/Calysto/octave_kernel"
    },
    {
     "text": "MetaKernel Magics",
     "url": "https://metakernel.readthedocs.io/en/latest/source/README.html"
    }
   ],
   "mimetype": "text/x-octave",
   "name": "octave",
   "version": "4.2.2"
  },
  "latex_envs": {
   "LaTeX_envs_menu_present": true,
   "autoclose": false,
   "autocomplete": true,
   "bibliofile": "biblio.bib",
   "cite_by": "apalike",
   "current_citInitial": 1,
   "eqLabelWithNumbers": true,
   "eqNumInitial": 1,
   "hotkeys": {
    "equation": "Ctrl-E",
    "itemize": "Ctrl-I"
   },
   "labels_anchors": false,
   "latex_user_defs": false,
   "report_style_numbering": false,
   "user_envs_cfg": false
  }
 },
 "nbformat": 4,
 "nbformat_minor": 4
}
