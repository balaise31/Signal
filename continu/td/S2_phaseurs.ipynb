{
 "cells": [
  {
   "cell_type": "markdown",
   "metadata": {
    "tags": []
   },
   "source": [
    "|[S1 - Signaux de base](S1_signaux_base.ipynb) | Revenir à la [page déroulement](README.ipynb) | [S3 - Linearite et opérateurs](S3_linearite_et_operateurs.ipynb)|\n",
    "|-------------|---|---|\n",
    "\n",
    "---\n",
    "# S2 - Phaseurs\n",
    "---\n",
    "\n",
    "Le phaseur est un outils incontounable  en électronique, télécom et analyse des signaux.\n",
    "\n",
    "Le but est de manipuler 4 écritures d'une onde pure à une fréquence donnée :\n",
    "\n",
    "$A.\\cos(\\omega.t+\\varphi) = a_n.\\cos(\\omega.t) + b_n.\\sin(\\omega.t) = \\mathcal{R}\\!\\left[\\vec{z_n}. e^ {i.\\omega.t}\\right] = c_n.e^ {i.\\omega.t} + \\overline{c_n}.e^ {-i.\\omega.t}$"
   ]
  },
  {
   "cell_type": "markdown",
   "metadata": {
    "tags": []
   },
   "source": [
    "## Travail préparatoire\n",
    "---\n",
    "Comprendre la notion d'exponentielle complexe et de phaseur :\n",
    "  * regarder le début d'une vidéo \n",
    "  * exécuter un notebook pour essayer les premiers exercices faciles"
   ]
  },
  {
   "cell_type": "markdown",
   "metadata": {
    "tags": []
   },
   "source": [
    "Regarder le début de cette vidéo\n",
    "[![Blinking LEDs](http://img.youtube.com/vi/r18Gi8lSkfM/0.jpg)](https://www.youtube.com/embed/r18Gi8lSkfM)"
   ]
  },
  {
   "cell_type": "markdown",
   "metadata": {},
   "source": [
    "Allez voir le code animé python [anim phaseur](anims/phaseurs.ipynb) où vous pouvez tenter les premiers exercices."
   ]
  },
  {
   "cell_type": "markdown",
   "metadata": {},
   "source": [
    "## En séance\n",
    "---\n",
    "\n",
    "* Terminer les exos de [anim phaseur](anims/phaseurs.ipynb)\n",
    "\n",
    "* L'exercice 4\n",
    "    -  Ex. 4a,b en utilisant au maximum le phaseur (qui est la fonction de transfert prise pour une valeur de la pulsation $\\omega$). On comprend alors que pour la pulsation $\\omega=2\\pi$ le système ne fait que multiplier le phaseur du signal d'entré par le phaseur du système ($g(\\omega=2\\pi)=\\frac{1}{2}e^{i\\frac{pi}{3}}$)\n",
    "    - Ex 4c.  Et appliquer la linéarité du système $\\Sigma[t\\mapsto z_e.e^{i\\omega t}]=z_e\\,\\Sigma[t \\mapsto e^{i\\omega t}]$ où $\\Sigma$ est un opérateur (application linéaire qui transforme une fonction en fonction) transformant un signal d'entré $x$ en signal de sortie $y$ soit $\\Sigma[x]=y$. Attention x et y sont bien des fonctions ! \n",
    "\n"
   ]
  },
  {
   "cell_type": "code",
   "execution_count": null,
   "metadata": {},
   "outputs": [],
   "source": []
  }
 ],
 "metadata": {
  "kernelspec": {
   "display_name": "Octave",
   "language": "octave",
   "name": "octave"
  },
  "language_info": {
   "file_extension": ".m",
   "help_links": [
    {
     "text": "GNU Octave",
     "url": "https://www.gnu.org/software/octave/support.html"
    },
    {
     "text": "Octave Kernel",
     "url": "https://github.com/Calysto/octave_kernel"
    },
    {
     "text": "MetaKernel Magics",
     "url": "https://metakernel.readthedocs.io/en/latest/source/README.html"
    }
   ],
   "mimetype": "text/x-octave",
   "name": "octave",
   "version": "4.2.2"
  },
  "latex_envs": {
   "LaTeX_envs_menu_present": true,
   "autoclose": false,
   "autocomplete": true,
   "bibliofile": "biblio.bib",
   "cite_by": "apalike",
   "current_citInitial": 1,
   "eqLabelWithNumbers": true,
   "eqNumInitial": 1,
   "hotkeys": {
    "equation": "Ctrl-E",
    "itemize": "Ctrl-I"
   },
   "labels_anchors": false,
   "latex_user_defs": false,
   "report_style_numbering": false,
   "user_envs_cfg": false
  }
 },
 "nbformat": 4,
 "nbformat_minor": 4
}
