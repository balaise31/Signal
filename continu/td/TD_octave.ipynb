{
 "cells": [
  {
   "cell_type": "markdown",
   "id": "aeb23e6a-2e1b-41e5-90dd-e717fd773882",
   "metadata": {
    "tags": []
   },
   "source": [
    "|--- | Revenir à la [page déroulement](README.ipynb) | ---|\n",
    "|-------------|---|---|\n",
    "\n",
    "---\n",
    "TD octave\n",
    "---\n"
   ]
  },
  {
   "cell_type": "markdown",
   "id": "fc18ccb1-8db7-490d-86d4-891f5d807448",
   "metadata": {},
   "source": [
    "2 séances de TD d'initiation aux logiciels de calcul interprétés Matlab/Octave adaptées pour le signal\n",
    "Suivi d'une évaluation \"moodle\" en ligne (date limite de dépôt vers fin Novembre)\n",
    "\n",
    "Le [sujet standard sur moodle](https://moodle.insa-toulouse.fr/mod/resource/view.php?id=24759)  \n",
    "\n",
    "On s'en écarte un peu pour profiter des notebooks surtout au début qui est relou...\n",
    "\n",
    "Bonus : \n",
    "- Un notebook de ce Github sur [pourquoi Octave/Matlab](https://github.com/balaise31/Signal/blob/tds/continu/tps/pourquoi_octave.ipynb) \n",
    "- Un notebook de ce Github sur [une intro à octave](https://github.com/balaise31/Signal/blob/tds/continu/tps/initiation_octave/prise_en_main.ipynb)"
   ]
  },
  {
   "cell_type": "markdown",
   "id": "716da8f3-58ff-49c1-b09f-cff93b1bcee8",
   "metadata": {
    "tags": []
   },
   "source": [
    "# 0 Travail préparatoire\n",
    "---\n",
    "\n",
    "Pas vraiment ou plutôt **commencer à installer le logiciel sur son PC et apporter son PC en TP**"
   ]
  },
  {
   "cell_type": "markdown",
   "id": "2426cfc0-da40-4596-930c-5bc7571c677b",
   "metadata": {
    "jp-MarkdownHeadingCollapsed": true,
    "tags": []
   },
   "source": [
    "Octave est gratuit et vous pouvez le télécharger et l'installer en suivant ces [instructions pour installer octave](https://github.com/balaise31/Signal/blob/master/installation/README.md#Installer-Octave)"
   ]
  },
  {
   "cell_type": "markdown",
   "id": "dd4f73e2-46d4-48f8-b2e5-6cde4bb32778",
   "metadata": {
    "tags": []
   },
   "source": [
    "# 1 Initiation \n",
    "---\n",
    "Prendre en main le GUI octave, écrire un script, l'exécuter pour afficher une fonction."
   ]
  },
  {
   "cell_type": "markdown",
   "id": "69ecb6a7-2227-41d2-8499-4865fa09c724",
   "metadata": {},
   "source": [
    "Les 3 premiers exercices (6 premières pages) du sujet moodle sont une introduction au langage matlab que je vous conseille de faire avec le notebook [Intro Octave 1](notebooks/intro_octave_1.ipynb) pour comprendre le langage, puis de passer sur octave avec son IDE pour prendre en main l'environnement.\n",
    "\n",
    "En salle de TP, suivez [installer jupyter/octave en salle de TP](https://github.com/balaise31/Signal/blob/master/installation/README.md#en-salle-de-tp-insa)\n",
    "\n",
    "> Tapez la commade `go_continu` dans un terminal \n",
    "> Une fois jupyter-lab lancé re-naviguez jusqu'ici Readme du TD -> TD_octave\n",
    "> Et cliquez sur le notebook [Intro Octave 1](notebooks/intro_octave_1.ipynb)\n",
    "\n",
    "Vous pouvez en même temps lancer octave avec la commande   \n",
    "`octave --gui`  \n",
    "\n",
    "Et comparer  :\n",
    "  - `octave --gui` l'utilisation de l'IDE d'octave pour communiquer avec le Kernel (ou machine virtuelle) d'octave\n",
    "  - `go_continu` ou votre browser exécute un serveur jupyter qui questionne le kernel d'octave.\n"
   ]
  },
  {
   "cell_type": "markdown",
   "id": "dbe090fb-50d5-483e-b676-62fabdf74ccf",
   "metadata": {},
   "source": [
    "# 2 Calcul numérique d'intégrale\n",
    "---\n",
    "Arriver à calculer par la méthode des escaliers de Rieman à approcher numériquement la valeur d'une intégrale.   \n",
    "Ce script devra pouvoir permettre d'adapter les bornes et les fonctions"
   ]
  },
  {
   "cell_type": "markdown",
   "id": "1470a0e1-e387-419d-a177-bee5ed3eb154",
   "metadata": {
    "jp-MarkdownHeadingCollapsed": true,
    "tags": []
   },
   "source": [
    "# 3 Evaluation\n",
    "---\n",
    "Utiliser ce script pour donner une valeur d'intégrale avec fonction tirée au hasard"
   ]
  },
  {
   "cell_type": "markdown",
   "id": "803778a9-fd50-4588-ab86-90fa4da7ba79",
   "metadata": {},
   "source": [
    "**Evaluation** : Après les deux séances, il faudra aller sur le [test sur moodle](https://moodle.insa-toulouse.fr/mod/quiz/view.php?id=24772) faire le test.\n",
    "\n",
    "Cela consistera à :\n",
    " - donner les noms du binôme\n",
    " - prendre connaissance de la valeur moyenne à calculer (formule tirée au hasard comme, par exemple, $\\int\\limits_{t=0}^{\\pi}tcos(2t)dt$)\n",
    " - modifier votre script .m pour qu'il calcule cette intégrale,\n",
    " - renseigner la valeur moyenne calculée par le script\n",
    " - déposer le script sur le site.\n",
    "\n"
   ]
  },
  {
   "cell_type": "code",
   "execution_count": null,
   "id": "8fade054-5eb8-46c3-89a0-1c03393881a8",
   "metadata": {},
   "outputs": [],
   "source": []
  }
 ],
 "metadata": {
  "kernelspec": {
   "display_name": "",
   "name": ""
  },
  "language_info": {
   "name": ""
  }
 },
 "nbformat": 4,
 "nbformat_minor": 5
}
