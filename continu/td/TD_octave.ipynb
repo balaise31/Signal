{
 "cells": [
  {
   "cell_type": "markdown",
   "id": "aeb23e6a-2e1b-41e5-90dd-e717fd773882",
   "metadata": {
    "tags": []
   },
   "source": [
    "|--- | Revenir à la [page déroulement](README.ipynb) | ---|\n",
    "|-------------|---|---|\n",
    "| Notebooks | [OCT0 autoeval](../tp/OCT/OCT0_auto_eval.ipynb), [OCT1-intro](../tp/OCT/OCT1_intro.ipynb) et [OCT2-suite](../tp/OCT/OCT2_intro.ipynb)||\n",
    "\n",
    "---\n",
    "# TD octave\n",
    "---\n",
    "\n",
    "|Quand  |    Quoi                      |   Lien                          |\n",
    "|-------|------------------------------|---------------------------------|\n",
    "| Prépa. maison |     Installer Jupyter/Octave (INSA ou perso)| [Instructions d'installation](https://github.com/balaise31/Signal/blob/main/installation/README.md) |\n",
    "| Prépa. maison | Bases  langage Matlab/Octave | [autoformation OCT0](../tp/OCT/OCT0_auto_eval.ipynb) jusqu'au test de récap |\n",
    "| TD Machine 1  | Bases langage + IDE     | [1 Bases](TD_octave.ipynb#1-Bases) Exos 1,2,3 du [sujet moodle](https://moodle.insa-toulouse.fr/mod/resource/view.php?id=24759) | \n",
    "| Prépa. maison | Calcul signaux | [autoformation OCT0](../tp/OCT/OCT0_auto_eval.ipynb) la fin  |\n",
    "| TD Machine 2  | Calcul signaux     | [2 Calculs](TD_octave.ipynb#2-Calculs) Exos 3(fin), 4 du [sujet moodle](https://moodle.insa-toulouse.fr/mod/resource/view.php?id=24759)| \n",
    "| Test maison | Vérification du script 4 sur un calcul | [3 Evaluation individuelle moodle](TD_octave.ipynb#3-Evaluation) |\n",
    "\n"
   ]
  },
  {
   "cell_type": "markdown",
   "id": "fc18ccb1-8db7-490d-86d4-891f5d807448",
   "metadata": {},
   "source": [
    "## 1 Bases\n",
    "---\n",
    "Les 3 premiers exercices (6 premières pages) du [sujet moodle](https://moodle.insa-toulouse.fr/mod/resource/view.php?id=24759) se font avec l'**IDE d'Octave**.\n",
    "\n",
    "> vous pouvez au choix :\n",
    ">  - poursuivre l'[autoformation OCT0](../tp/OCT/OCT0_auto_eval.ipynb) sur notebook jusqu'au test de récapitulation (affichage d'un signal)\n",
    ">  - ou faire les exos 1,2,3 du sujet pdf moodle avec l'IDE Octave(Linux) / Matlab(Windows)\n",
    "\n",
    "\n",
    "Octave est gratuit et vous pouvez le télécharger et l'installer chez vous en suivant ces [instructions pour installer octave](https://github.com/balaise31/Signal/blob/master/installation/README.md#Installer-Octave)\n",
    "\n",
    " > Sous Linux, lancez octave avec **Menu->Education->Gnu octave** ou bien `octave --gui` dans un terminal  \n",
    " > Sous windows lancez matlab du menu démarer\n"
   ]
  },
  {
   "cell_type": "markdown",
   "id": "dbe090fb-50d5-483e-b676-62fabdf74ccf",
   "metadata": {
    "jp-MarkdownHeadingCollapsed": true,
    "tags": []
   },
   "source": [
    "## 2 Calculs\n",
    "---\n",
    "\n",
    "Sur l'IDE Octave(Linux) ou Matlab(Windows) terminer l'exercice 4 du [sujet moodle](https://moodle.insa-toulouse.fr/mod/resource/view.php?id=24759) \n",
    "\n",
    "Il faut faire un script qui approche numériquement la valeur d'une intégrale par la méthode de Rieman d'une fonction quelconque.  \n",
    "\n",
    "Vous avez 3 techniques pour calculer cette intégrale :\n",
    "\n",
    "\n",
    "**vous devez avoir un script capable de calculer la valeur moyenne de n'importe quelle fonction**\n"
   ]
  },
  {
   "cell_type": "markdown",
   "id": "1470a0e1-e387-419d-a177-bee5ed3eb154",
   "metadata": {
    "tags": []
   },
   "source": [
    "## 3 Evaluation\n",
    "---\n",
    "Après les deux séances, il faudra aller sur le [test sur moodle](https://moodle.insa-toulouse.fr/mod/quiz/view.php?id=24772) faire le test.\n",
    "\n",
    "Cela consistera à :\n",
    " - donner les noms du binôme\n",
    " - prendre connaissance de la valeur moyenne à calculer (**formule individuelle tirée au hasard par moodle** comme, par exemple, $\\int\\limits_{t=0}^{\\pi}tcos(2t)dt$)\n",
    " - modifier votre script .m pour qu'il calcule cette intégrale,\n",
    " - renseigner la valeur moyenne calculée par le script\n",
    " - déposer le script sur le site.\n",
    "\n"
   ]
  },
  {
   "cell_type": "markdown",
   "id": "8a4a2265-9426-4dbe-bc22-dad8fa8c3e10",
   "metadata": {
    "tags": []
   },
   "source": [
    "\n",
    "## 4 Méthodes d'intégration\n",
    "---"
   ]
  },
  {
   "cell_type": "markdown",
   "id": "84aaf552-e480-433a-b45f-1aa224fce410",
   "metadata": {},
   "source": [
    "\n",
    "L'aire sous la courbe est ainsi approchée :\n",
    "\n",
    "<img title=\"intégrale de Rieman\" alt=\"Alt text\" src=\"./images/integrale_Riemann.png\" width=\"400\">\n",
    "\n",
    "Ne pas confondre \n",
    " * une intégrale qui est **un nombre scalaire** (lorsqu'elle converge) :   \n",
    "$\\int\\limits_a^b f(t). dt = F(a) - F(b) = \\lim\\limits_{dx\\to 0}\\sum\\limits_{k=0}^N f\\left(k.dx\\right).dx$    \n",
    "  **C'est un nombre !** qui est la surface sous la courbe de $a$ à $b$ fixés et connus.\n",
    " * la primitive $F$ d'une fonction $f$ qui dépend d'une borne   \n",
    "   $F : a \\mapsto \\int\\limits_{0}^{a}f(t).dt$  \n",
    "   **C'est donc une fonction !** qui pour un $a$ donné renvoie la surface sous la courbe de 0 à $a$\n",
    "\n",
    "  \n",
    "Nous cherchons ici à calculer une intégrale et donc un nombre."
   ]
  },
  {
   "cell_type": "markdown",
   "id": "39680ca8-f414-4d85-b225-de047bb6ee42",
   "metadata": {},
   "source": [
    "Le but est maintenant de calculer $\\sum\\limits_{k=0}^N f\\left(k.dx\\right).dx$ à l'aide de vos vecteurs et variables matlab.\n",
    "\n",
    "Faites le lien entre cette formule, son schéma, ses noms de variables,  et les variables de votre scripts :\n",
    "| $f \\iff $ | `f` ou `f_de_t` ou `f(t)`|\n",
    "|-----------|----------------|\n",
    "| $dx$      | `tmin` ou `tmax`ou `Te`|\n",
    "| $a$       | `tmin` ou `tmax`ou `Te`|\n",
    "| $b$       | `tmin` ou `tmax`ou `Te`|\n",
    "| $x$       | `t` ou `f(t)`|\n",
    "| $N$       | `length(Te)` ou `length(t)` | \n",
    "\n",
    "Il y a **3 méthodes pour faire une somme de signal** en matlab :\n",
    "\n",
    "[Somme en matriciel](#Somme-en-matriciel) | grande Chamane du signal\n",
    "-------------------------------------|-------------------------------------\n",
    "[Somme avec `sum`](#Somme-avec-sum)  | 2ème Année assistée mais au courant \n",
    "[Somme avec boucle `for`](#Somme-avec-boucle-for) | 1ère Année laborieuse et vaillante\n",
    "\n",
    "\n"
   ]
  },
  {
   "cell_type": "markdown",
   "id": "a803ba00-9514-45de-9802-6b4604327bae",
   "metadata": {
    "tags": []
   },
   "source": [
    "### Somme avec `sum`"
   ]
  },
  {
   "cell_type": "markdown",
   "id": "f4e621a5-406e-4f74-9617-1bd4078881a8",
   "metadata": {
    "jp-MarkdownHeadingCollapsed": true,
    "tags": []
   },
   "source": [
    "Rappelons que la formule de répétition causale $f_r$ d'un signal impulsion $f$ répété N fois avec une période $T_0$ donnant la transformée de Laplace est :\n",
    "\n",
    "$F_r(p) = F(p) . (e^{-0.Te.p} + \\ldots + e^{-N.Te.p})$\n",
    "\n",
    "où l'on voit que la somme des retards est une suite géométrique de raison $r=e^{-T_e.p}\\in\\mathrm{C}$.\n",
    "\n",
    "Cette **série** géométrique (on parle donc de la suite des sommes partielles) peut converger vers $S_N=\\frac{r^{N+1}-r^0}{r-1}\\underset{N\\to+\\infty}{\\rightarrow}\\frac{1}{1-r}$ ssi $|r|<1$ ce qui impose certaines choses sur la valeur de p.\n",
    "\n",
    "Ce qui donne pour une répétition infinie :\n",
    "\n",
    "$F_r(p) = F(p) . \\frac{1}{1 - e^{-Te.p}}$\n",
    "\n",
    "\n",
    "Le programme si dessous calcule une somme partielle pour une valeur de $p$ et $T_0$ donnée :"
   ]
  },
  {
   "cell_type": "code",
   "execution_count": 1,
   "id": "bdc18774-49c3-4c0d-8138-4f425a21b282",
   "metadata": {},
   "outputs": [
    {
     "name": "stdout",
     "output_type": "stream",
     "text": [
      "Tau =\n",
      "\n",
      "   0   1   2   3\n",
      "\n",
      "Laplace =\n",
      "\n",
      " Columns 1 through 3:\n",
      "\n",
      "   1.00000 - 0.00000i   0.19877 - 0.30956i  -0.05632 - 0.12306i\n",
      "\n",
      " Column 4:\n",
      "\n",
      "  -0.04929 - 0.00703i\n",
      "\n",
      "Somme_Numerique =  1.09316 - 0.43965i\n",
      "Somme_Analytique =  1.09316 - 0.43965i\n"
     ]
    }
   ],
   "source": [
    "% exemple de l'utilisation de sum pour calculer une somme partielle de suite géométrique\n",
    "Te=1;\n",
    "Tau = 0:Te:3*Te % les retards\n",
    "p = 1+i; % une des valeurs possibles de la variable de Laplace\n",
    "\n",
    "% Laplaces pour tous les retards Tau pour une seule valeur de p\n",
    "Laplace = exp(-Tau*p)  % vectorisé ! Tau est (4,1), p est scalaire\n",
    "                       % Laplace est (4,1)\n",
    "                       \n",
    "Somme_Numerique = sum(Laplace) % somme de tous les retards de Laplace (4,1)  \n",
    "% on vérifie avec la formule de somme partielle\n",
    "Somme_Analytique=(exp(-4*p)-exp(0*p))/(exp(-p)-1)"
   ]
  },
  {
   "cell_type": "markdown",
   "id": "3b32601f-b3b4-44e1-98e8-1740a75c86a8",
   "metadata": {
    "tags": []
   },
   "source": [
    "### Somme avec boucle `for`\n",
    "\n",
    "Programme un peu stupide pour calculer la factorielle : on stocke dans un tableau `v` les valeurs de 1 à 4  et ensuite on multiplie chaque élément de ce tableau. "
   ]
  },
  {
   "cell_type": "code",
   "execution_count": 2,
   "id": "7871874b-bc89-4193-b322-d282acfa9f81",
   "metadata": {},
   "outputs": [
    {
     "name": "stdout",
     "output_type": "stream",
     "text": [
      "v =\n",
      "\n",
      "   1   2   3   4\n",
      "\n",
      "factorielle =  24\n"
     ]
    }
   ],
   "source": [
    "% vecteur des éléments à multiplier pour calculer !4\n",
    "v=1:4\n",
    "\n",
    "factorielle = 1 ;\n",
    "% exemple pour boucler dans un tableau\n",
    "for indice = 1:length(v)\n",
    "    factorielle = factorielle * v(indice) ;\n",
    "end\n",
    "\n",
    "factorielle % sans ; pour afficher"
   ]
  },
  {
   "cell_type": "markdown",
   "id": "86f1213c-c4d3-4c62-92a2-311615eef1f4",
   "metadata": {
    "tags": []
   },
   "source": [
    "### Somme en matriciel\n",
    "\n",
    "Pour calculer une somme (et donc une intégrale) par produit scalaire retournez à [exercice matrices OCT1](../tp/OCT/OCT1_intro.ipynb#Exercice-matrices)\n",
    "\n",
    "Pas compris, regardez le [corrigé exercice matrices OCT1](../tp/OCT/OCT1_intro_corr.ipynb#Exercice-matrices)\n",
    "\n",
    "Cette vision est très puissante car on peut ainsi voir le calcul d'une Sdf comme une simple produit matriciel (plusieurs produits scalaires).\n",
    "\n",
    "Exemple waou qui fait le TP1 en quelques lignes !:"
   ]
  },
  {
   "cell_type": "code",
   "execution_count": 3,
   "id": "d18c7fd8-6d44-45ed-a06f-679aa97211df",
   "metadata": {},
   "outputs": [
    {
     "name": "stdout",
     "output_type": "stream",
     "text": [
      "c_n =\n",
      "\n",
      "  -0.01819 + 0.00000i\n",
      "  -0.04244 + 0.00000i\n",
      "  -0.21221 + 0.00000i\n",
      "   0.63662 + 0.00000i\n",
      "  -0.21221 - 0.00000i\n",
      "  -0.04244 - 0.00000i\n",
      "  -0.01819 - 0.00000i\n",
      "\n"
     ]
    },
    {
     "data": {
      "image/png": "[encoded data removed]",
      "text/plain": [
       "<IPython.core.display.Image object>"
      ]
     },
     "metadata": {},
     "output_type": "display_data"
    }
   ],
   "source": [
    "clear all;\n",
    "n=-3:3;  % on calcule les c(n) de -3 à 3\n",
    "T0=pi; Te=0.01; t=0:Te:T0;   % vecteur temps\n",
    "% matrice imaginaire de toutes les vecteurs de base\n",
    "% un signal par rangée\n",
    "N = length(t);\n",
    "M = 1/T0*exp(-i*2*pi*n'*t/T0)*Te;\n",
    "\n",
    "f_de_t = abs(sin(t)); % signal à décomposer\n",
    "\n",
    "c_n = M * f_de_t' \n",
    "stem(abs(c_n));\n",
    "xlabel(\"frequence [rang d'harmonique]\");\n",
    "ylabel(\"|c(n)| en [V]\")\n",
    "title(\"Spectre avec module des c(n)\");"
   ]
  },
  {
   "cell_type": "markdown",
   "id": "3ca05314-d155-4cbd-93ce-feff6e6eaceb",
   "metadata": {},
   "source": [
    "Chaque rangée de la matrice effectue un produit scalaire avec le signal et donne le coef de décomposition \n",
    "\n",
    "$c(n) = <\\vec{w_n}, \\vec{f}> =  w_n \\, . \\, {}^T\\!\\!f$\n",
    "\n",
    "Le produit matriciel $M.{}^T\\!\\!f$ donne pour chaque rangée un coefficient $c(n)$ c'est donc les coef. de la SdF."
   ]
  },
  {
   "cell_type": "code",
   "execution_count": 7,
   "id": "1de2849f-5cea-4976-b4fe-835b90c174be",
   "metadata": {},
   "outputs": [
    {
     "data": {
      "image/png": "[encoded data removed]",
      "text/plain": [
       "<IPython.core.display.Image object>"
      ]
     },
     "metadata": {},
     "output_type": "display_data"
    }
   ],
   "source": [
    "imagesc(t,n,real(M))\n",
    "colorbar()\n",
    "xlabel(\"temps [s]\")\n",
    "ylabel(\"frequence [rang d'harmonique]\")\n",
    "title(\"Partie reelle de la matrice M :les cos(n.wo.t)\")"
   ]
  },
  {
   "cell_type": "markdown",
   "id": "381baf09-bc0d-4931-b242-99ec66f47012",
   "metadata": {},
   "source": [
    "Pour reconstruire le signal on cherche la matrice inverse.\n",
    "Mais si la base est orthogonale on doit avoir $M\\,.\\,{}^T\\overline{M}$ de forme diagonale. La conjuguée de Hilbert (transpose et conjuguée) se calcule avec `M'` sous matlab.\n",
    "\n",
    "On voit que la base est orthogonale mais pas normée \n"
   ]
  },
  {
   "cell_type": "code",
   "execution_count": 116,
   "id": "aae50232-0a2f-43f3-b805-fbd7db6c958d",
   "metadata": {
    "tags": []
   },
   "outputs": [
    {
     "name": "stdout",
     "output_type": "stream",
     "text": [
      "la matrice inverse est obtenur en normant M' avec N.M'\n",
      "M_fois_Minv =\n",
      "\n",
      "   1   0   0   0   0   0   0\n",
      "   0   1   0   0   0   0   0\n",
      "   0   0   1   0   0   0   0\n",
      "   0   0   0   1   0   0   0\n",
      "   0   0   0   0   1   0   0\n",
      "   0   0   0   0   0   1   0\n",
      "   0   0   0   0   0   0   1\n",
      "\n"
     ]
    },
    {
     "data": {
      "image/png": "[encoded data removed]",
      "text/plain": [
       "<IPython.core.display.Image object>"
      ]
     },
     "metadata": {},
     "output_type": "display_data"
    }
   ],
   "source": [
    "imagesc(real(M*M'));\n",
    "colorbar();\n",
    "title(\"Le produit M . transpose(M conjuguee) est orthogonal mais pas de norme 1\")\n",
    "disp(\"la matrice inverse est obtenur en normant M' avec N.M'\")\n",
    "approx = @(val) round(val*10)/10;\n",
    "M_inv = M'*N;\n",
    "M_fois_Minv = approx(M*M_inv)"
   ]
  },
  {
   "cell_type": "markdown",
   "id": "18487db7-8411-48b3-b087-1014178320fd",
   "metadata": {},
   "source": [
    "Pour reconstruire $f$ à partir des $c(n)$ (SdF inverse ou encore somme partielle de la série),    \n",
    "on fait une combinaison des rangées de M (les cos et sin) pondérée par $c(n)$ et donc un produit par la gauche de M  :   \n",
    "$c'.M = f$ où $c'$ doit être un vecteur ligne des coefficient de Fourier.\n",
    "\n",
    "C'est la reconstruction ou transformée inverse !\n"
   ]
  },
  {
   "cell_type": "code",
   "execution_count": 117,
   "id": "ba640ad2-7642-4909-a925-b16667b0e3ce",
   "metadata": {},
   "outputs": [
    {
     "data": {
      "image/png": "[encoded data removed]",
      "text/plain": [
       "<IPython.core.display.Image object>"
      ]
     },
     "metadata": {},
     "output_type": "display_data"
    }
   ],
   "source": [
    "f_rec = c_n'*M*N;\n",
    "f_inv_c = M_inv*c_n;\n",
    "plot(t,f_rec,'b+'); hold on;\n",
    "plot(t,f_inv_c,'go'); \n",
    "plot(t,f_de_t,'k--');"
   ]
  },
  {
   "cell_type": "markdown",
   "id": "970a2b60-309f-4d1b-bb60-c1117cfbd0d1",
   "metadata": {},
   "source": [
    "Très facile de changer de signal maintenant ! La matrice M et son inverse ne bougent pas...\n"
   ]
  },
  {
   "cell_type": "code",
   "execution_count": 124,
   "id": "6adc0681-0462-4a07-a735-99b4c79e0239",
   "metadata": {},
   "outputs": [
    {
     "data": {
      "image/png": "[encoded data removed]",
      "text/plain": [
       "<IPython.core.display.Image object>"
      ]
     },
     "metadata": {},
     "output_type": "display_data"
    }
   ],
   "source": [
    "g_de_t =  (t>0) - (t>1);\n",
    "c_g = M*g_de_t';\n",
    "g_rec = M_inv * c_g;\n",
    "\n",
    "subplot(311);\n",
    "stem(abs(c_g));\n",
    "ylabel(\"frequentiel |c(n)|\");\n",
    "xlabel(\"frequence [rang d'harmonique]\")\n",
    "subplot(312);\n",
    "ylabel(\"frequentiel phase de c(n)\");\n",
    "xlabel(\"frequence [rang d'harmonique]\")\n",
    "stem(arg(c_g));\n",
    "subplot(313);\n",
    "title(\"temporel\");\n",
    "plot(t,g_de_t,'k--'); hold on;\n",
    "plot(t,g_rec);"
   ]
  }
 ],
 "metadata": {
  "kernelspec": {
   "display_name": "Octave",
   "language": "octave",
   "name": "octave"
  },
  "language_info": {
   "file_extension": ".m",
   "help_links": [
    {
     "text": "GNU Octave",
     "url": "https://www.gnu.org/software/octave/support.html"
    },
    {
     "text": "Octave Kernel",
     "url": "https://github.com/Calysto/octave_kernel"
    },
    {
     "text": "MetaKernel Magics",
     "url": "https://metakernel.readthedocs.io/en/latest/source/README.html"
    }
   ],
   "mimetype": "text/x-octave",
   "name": "octave",
   "version": "4.2.2"
  }
 },
 "nbformat": 4,
 "nbformat_minor": 5
}
