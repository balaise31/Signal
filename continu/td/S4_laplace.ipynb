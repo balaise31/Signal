{
 "cells": [
  {
   "cell_type": "markdown",
   "metadata": {
    "tags": []
   },
   "source": [
    "|[S3 - Linearite et opérateurs](S3_linearite_et_operateurs.ipynb) | Revenir à la [page déroulement](README.ipynb) | [S5 - Equ. Diff.](S5_equa_diff.ipynb) |\n",
    "|-------------|---|---|\n",
    "\n",
    "---\n",
    "# S4 - Laplace\n",
    "---\n",
    "\n",
    "\n",
    "\n",
    "La transformée de Laplace est un opérateur : c'est une application linéaire qui transforme une application de $\\mathbb{R}\\mapsto \\mathbb{R} (ou \\;\\mathbb{C})$ (une fonction de la variable réelle : souvent le temps) en une application de $\\mathbb{C}\\mapsto\\mathbb{C}$ (fonction de la variable complexe : la variable de Laplace)\n",
    "\n",
    "On va privilégier l'utilisation de transformées connues ([table page 47 du poly](https://moodle.insa-toulouse.fr/mod/resource/view.php?id=24741#page=47)) et éviter le calcul direct avec la formule\n",
    "\n",
    "$L[f](p)=F(p)=\\int_{\\mathbb{R}} f(t).e^{-p.t}.dt$\n"
   ]
  },
  {
   "cell_type": "markdown",
   "metadata": {
    "tags": []
   },
   "source": [
    "## Travail préparatoire\n",
    "---\n",
    "---"
   ]
  },
  {
   "cell_type": "markdown",
   "metadata": {
    "jp-MarkdownHeadingCollapsed": true,
    "tags": []
   },
   "source": [
    "### Se rappeler les signaux de base, leur opérateur et faire le lien avec la transformée de Laplace\n",
    "---"
   ]
  },
  {
   "cell_type": "markdown",
   "metadata": {
    "tags": []
   },
   "source": [
    "En résumé :\n",
    "  - $p$ est l'opérateur dérivée, \n",
    "  - un système $\\Sigma$ est associé à un signal $h$ par sa réponse impulsionnelle (RIP): $\\Sigma \\leftrightarrow h = \\Sigma[\\delta_0]$  où $\\delta_0$ est l'impulsion de Dirac\n",
    "  - la transformée de Laplace d'un système $\\Sigma$ est donc celle du signal de sa RIP :  $L[\\Sigma]=L[h]$\n",
    "  - $1$ est le système qui ne change rien, donc associé à la réponse impulsionnelle inchangée. $1 = L[\\delta_0]$\n",
    "  - la dérivée $p$ est inversible par l'intégrale $\\frac{1}{p}$ (avec les fonctions généralisées (distributions) telle que le Dirac !)\n",
    "  - on peut ainsi intégrer plusieur fois le Dirac $\\delta_0$ et produire des signax de base \n",
    "  \n",
    "  $ \\delta_0(p) = 1 \\quad\\underset{\\underset{p}{\\longleftarrow}}{\\overset{p^{-1}}{\\longrightarrow}}\\quad \n",
    "U(p)=\\frac{1}{p} \\quad\\underset{\\underset{p}{\\longleftarrow}}{\\overset{p^{-1}}{\\longrightarrow}}\\quad\n",
    "R(p)=\\frac{1}{p^2} \\quad\\underset{\\underset{p}{\\longleftarrow}}{\\overset{p^{-1}}{\\longrightarrow}}\\quad\n",
    "A(p)=\\frac{1}{p^3}\\quad\\underset{\\underset{p}{\\longleftarrow}}{\\overset{p^{-1}}{\\longrightarrow}}\\quad\n",
    "\\ldots$\n",
    "\n",
    "Si cela n'est pas clair revenir au notebook [SYS1 : signaux de base](notebooks/SYS1_signaux_de_base.ipynb)"
   ]
  },
  {
   "cell_type": "markdown",
   "metadata": {
    "jp-MarkdownHeadingCollapsed": true,
    "tags": []
   },
   "source": [
    "### Théorème du retard admis honteusement !\n",
    "---"
   ]
  },
  {
   "cell_type": "markdown",
   "metadata": {
    "tags": []
   },
   "source": [
    "Regardez dans le [Th. Retard section 3.3.2](https://moodle.insa-toulouse.fr/mod/resource/view.php?id=24741#subsection.3.3.2) comment la formule se retrouve par calcul direct :  L'intégrale de $-\\infty$ à $+\\infty$ devient de $t_0$ à $+\\infty$ car le signal est supposé causal (nul pour $t<0$) et retardé de $t_0$. Donc l'intégrale est bien nulle avant $t_0$.\n",
    "\n",
    "> Il est courant de faire une erreur de signe dans le théorème du retard.   \n",
    "> **N'utilisez pas vulgairement votre mémoire** et refaites ce calcul direct jusqu'à ce que cela devienne évident : vous aurez mémorisez le mécanisme et le résultat. Le mécanisme ne s'oubliera pas lui !"
   ]
  },
  {
   "cell_type": "markdown",
   "metadata": {
    "jp-MarkdownHeadingCollapsed": true,
    "tags": []
   },
   "source": [
    "### S'exercer en reprenant les décompositions des séances précédentes des Exercices 1 d) et e) \n",
    "---"
   ]
  },
  {
   "cell_type": "markdown",
   "metadata": {
    "tags": []
   },
   "source": [
    "Signal d) :\n",
    " * Reprendre la décomposition de l'exercice 1 d) en échelons [ch3-Ex1-d](https://moodle.insa-toulouse.fr/mod/resource/view.php?id=24741#page=53). Amusez-vous à corriger le notebook [SYS2 bac à sable exo d](notebooks/SYS2_bac_a_sable.ipynb#Signal-d-de-Ch3Ex1) pour vérifier avec Matlab/Octave votre résultat.\n",
    " * Retrouver $L[\\delta_0]$ en se rappelant le système qui ne change rien comme $1$. \n",
    " * Retrouver $L[u]$ en intégrant ce Dirac.\n",
    " * Appliquer le théorème du retard pour avoir $L[u(\\bullet-1)]$.\n",
    " * Le signal d) comme une somme de 4 échelons de Heavisides avec 4 retards différents. Vérifiez bien que pour $t>10$ tout les échelons valent 1 et le résultat de cette somme doit valoir $d(10)=0$ !\n",
    " * Réponse dans l'[exemple page 47](https://moodle.insa-toulouse.fr/mod/resource/view.php?id=24741#page=47). \n",
    " \n",
    "Signal e) : \n",
    " * retrouvez la transformée de la rampe $L[r]$ par intégrale de l'échelon $u$\n",
    " * Attention si vous repassez à une écriture en l'échelon : est-ce $r(t-2)=t.u(t-2)$ ou bien $r(t-2)=(t-2).u(t-2)$ ?\n",
    " * Décomposer ce signal comme une somme de deux rampes retardées et d'un échelon. \n",
    " * Vérifiez bien avec $t=+\\infty$ où les rampes $r(t-\\tau)=(t-\\tau)$ et les échelons valent 1 que l'on a $e(+\\infty)=0$.\n",
    " * Vous pouvez en plus retourner [SYS2 bac à sable exo e](notebooks/SYS2_bac_a_sable.ipynb#Ch3Ex1-e).\n",
    " "
   ]
  },
  {
   "cell_type": "markdown",
   "metadata": {
    "jp-MarkdownHeadingCollapsed": true,
    "tags": []
   },
   "source": [
    "### BONUS : S'exercer à un calcul direct\n",
    "---"
   ]
  },
  {
   "cell_type": "markdown",
   "metadata": {
    "tags": []
   },
   "source": [
    "Faire le calcul direct (appliquer la formule intégrale) de la transformée d'un sinus causal $sin(\\omega t).u(t)$. Comme le signal est causal l'intégrale vaut 0 de $-\\infty$ à $0$ : reste à calculer $\\int\\limits_0^{+\\infty} sin(\\omega t).u(t).e^{-p.t}.dt$. On peut calculer $\\int\\limits_0^{T}\\dots$ puis faire tendre T vars l'infini.\n",
    "\n",
    "Aidez-vous ou vérifiez avec l'[exemple 2 du 3.4 p.46 ](https://moodle.insa-toulouse.fr/mod/resource/view.php?id=24741#page=46). "
   ]
  },
  {
   "cell_type": "markdown",
   "metadata": {
    "jp-MarkdownHeadingCollapsed": true,
    "tags": []
   },
   "source": [
    "## En séance \n",
    "---\n",
    "---\n",
    "\n",
    "On admet honteusement la table des fonctions usuelles de Laplace !"
   ]
  },
  {
   "cell_type": "markdown",
   "metadata": {
    "tags": []
   },
   "source": [
    "### Exo 1  g) c) : avec cos et sin \n",
    "---"
   ]
  },
  {
   "cell_type": "markdown",
   "metadata": {
    "jp-MarkdownHeadingCollapsed": true,
    "tags": []
   },
   "source": [
    "Signal g) [ch3-Ex1-g](https://moodle.insa-toulouse.fr/mod/resource/view.php?id=24741#page=53) :\n",
    "  - Représenter le signal $g$ comme la somme de deux sinus causaux ($sin(\\omega.t).u(t)$ nul pout t<0) avec des retards différents.\n",
    "  - Vérifiez pour $t\\to\\infty$ où les sinus causaux valent $sin(\\omega.t)$ que la somme doit faire $g(+\\infty)=0$ : les signaux doivent s'annuler.\n",
    "  - Utilisez la transformée du sinus causal trouvée auparavant ou dans [table page 47 du poly](https://moodle.insa-toulouse.fr/mod/resource/view.php?id=24741#page=47) et combinez avec le [Th. Retard section 3.3.2](https://moodle.insa-toulouse.fr/mod/resource/view.php?id=24741#subsection.3.3.2) pour trouver la transformée par linéarité de somme.\n",
    " \n",
    "Signal c) [ch3-Ex1-g](https://moodle.insa-toulouse.fr/mod/resource/view.php?id=24741#page=53) :\n",
    " - Faites une décomposition IQ du cosinus (non causal) déphasé : $\\sqrt{2}\\cos(t+\\frac{\\pi}{4})=I.\\cos(t) + Q.\\sin(t)$. On peut ensuite multiplier par $u(t)$ et obtenir la somme d'un cosinus causal avec un sinus causal. Par linéraité et lecture de la [table page 47 du poly](https://moodle.insa-toulouse.fr/mod/resource/view.php?id=24741#page=47) on trouve facilement."
   ]
  },
  {
   "cell_type": "markdown",
   "metadata": {
    "tags": []
   },
   "source": [
    "### Hors exercice : Système du premier pordre $\\leftrightarrow  t\\mapsto e^{-\\alpha t}.u(t)$ la RIP d'un premier ordre:\n",
    "---"
   ]
  },
  {
   "cell_type": "markdown",
   "metadata": {},
   "source": [
    "On aborde un système du premier ordre :\n",
    " - Passage de l'équation différentielle $\\alpha . y + y' = x$ dans le domaine de Laplace : fonction de transfert $\\frac{Y(p)}{X(p)}=\\frac{1}{p+\\alpha}$\n",
    " - Calcul direct propre de $L[e^{-\\alpha t}.u(t)]$ : pour cela $\\int_0^T$ puis $T\\to+\\infty$ et la fameuse astuce de montrer que $e^{-(p+\\alpha).t} \\to 0$ en montrant que son module tend vers 0 ssi $\\mathcal{R}(p+\\alpha)<0$.  \n",
    "\n",
    "\n",
    "Retrouver ainsi les transformées de sin et cos causaux :\n",
    " - Décomposer $cos(\\omega.t)$ en une exponentielle complexe + sa conjuguée : c'est retrouver la formule d'Euler. Par linéarité, la transformée de $L[\\cos(\\omega\\bullet)]$ est une somme de transformée de premier ordre **avec un $\\alpha=i.\\omega$ complexe**.\n",
    " - Décomposer $i.sin(\\omega(t)$ en une exponentielle complexe + sa conjuguée : formule d'Euler de sin. Idem on trouve $L[i.sin]$ et comme un complexe est un scalaire... La linéarité marche encore !"
   ]
  },
  {
   "cell_type": "markdown",
   "metadata": {
    "tags": []
   },
   "source": [
    "### Retour sur exo 1 b) et a)\n",
    "---\n"
   ]
  },
  {
   "cell_type": "markdown",
   "metadata": {
    "tags": []
   },
   "source": [
    "Exo 1 [ch3-Ex1-b et a](https://moodle.insa-toulouse.fr/mod/resource/view.php?id=24741#page=53)\n",
    "\n",
    "Signal b : $e^{-2.(t-1)}.u(t-1)$   :\n",
    "  - On voit la réponse d'un système de premmier ordre avec $\\alpha=2$ retardé d'une seconde ! Remplacez t-1 par x pour vous en convaincre la forme $e^{-\\alpha.x}.u(x)$ apparaît et est celle d'un premier ordre connu.\n",
    "  \n",
    "Signal a : $e^{-2.t}.u(t-1)$ :\n",
    "  - Si on tente la même chose on retrouve le signal b mais multiplié par une constante : $a(t) = e^{-2}.b(t)$. Facile ! Mais on ne l'aurait pas forcément vu... Multiplier par une exponentielle doit nous faire penser au [Th. de la translation en fréquence section 3.3.4](https://moodle.insa-toulouse.fr/mod/resource/view.php?id=24741#subsection.3.3.4)...\n",
    "  - On peut aussi trouver la transformée en mettant $a(t)$ sous la forme $e^{- a t}.f(t)$. Le théorème de translation en fréquence (ou de la modulation) nous donne $L[t\\mapsto e^{- a t}.f(t)] = F(p+a)$. Dans notre cas $f = u(\\bullet-1)$ : facile encore !\n",
    "  - Pour ne pas se tromper de signe : on peut voir le premier ordre $e^{-\\alpha.t}.u(t)$ comme la modulation de $u$ par $e^{-\\alpha\\bullet}$ et donc avoir $L[e^{-\\alpha.\\bullet}.u(\\bullet)](p)=L[u](p+\\alpha)=\\frac{1}{p+\\alpha}$ \n",
    "  "
   ]
  },
  {
   "cell_type": "code",
   "execution_count": null,
   "metadata": {},
   "outputs": [],
   "source": []
  }
 ],
 "metadata": {
  "interpreter": {
   "hash": "31f2aee4e71d21fbe5cf8b01ff0e069b9275f58929596ceb00d14d90e3e16cd6"
  },
  "kernelspec": {
   "display_name": "Octave",
   "language": "octave",
   "name": "octave"
  },
  "language_info": {
   "file_extension": ".m",
   "help_links": [
    {
     "text": "GNU Octave",
     "url": "https://www.gnu.org/software/octave/support.html"
    },
    {
     "text": "Octave Kernel",
     "url": "https://github.com/Calysto/octave_kernel"
    },
    {
     "text": "MetaKernel Magics",
     "url": "https://metakernel.readthedocs.io/en/latest/source/README.html"
    }
   ],
   "mimetype": "text/x-octave",
   "name": "octave",
   "version": "4.2.2"
  },
  "latex_envs": {
   "LaTeX_envs_menu_present": true,
   "autoclose": false,
   "autocomplete": true,
   "bibliofile": "biblio.bib",
   "cite_by": "apalike",
   "current_citInitial": 1,
   "eqLabelWithNumbers": true,
   "eqNumInitial": 1,
   "hotkeys": {
    "equation": "Ctrl-E",
    "itemize": "Ctrl-I"
   },
   "labels_anchors": false,
   "latex_user_defs": false,
   "report_style_numbering": false,
   "user_envs_cfg": false
  }
 },
 "nbformat": 4,
 "nbformat_minor": 4
}
